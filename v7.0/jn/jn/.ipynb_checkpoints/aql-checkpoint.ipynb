{
 "cells": [
  {
   "cell_type": "code",
   "execution_count": 3,
   "id": "ec7623d2",
   "metadata": {},
   "outputs": [
    {
     "name": "stdout",
     "output_type": "stream",
     "text": [
      "Seed:         127.0.0.1\n",
      "User:         None\n",
      "Config File:  /etc/aerospike/astools.conf /home/training/.aerospike/astools.conf \n",
      "Aerospike Query Client\n",
      "Version 6.1.0\n",
      "Copyright 2012-2021 Aerospike. All rights reserved.\n",
      "aql> select * from test.testset\n",
      "+----------+-----+\n",
      "| name     | age |\n",
      "+----------+-----+\n",
      "| \"Sean\"   | 24  |\n",
      "| \"Sally\"  | 32  |\n",
      "| \"Julia\"  | 62  |\n",
      "| \"Sandra\" | 34  |\n",
      "| \"Jill\"   | 20  |\n",
      "| \"Jim\"    | 46  |\n",
      "| \"Jack\"   | 26  |\n",
      "| \"Sam\"    | 12  |\n",
      "| \"James\"  | 38  |\n",
      "| \"Susan\"  | 42  |\n",
      "+----------+-----+\n",
      "10 rows in set (0.062 secs)\n",
      "\n",
      "OK\n",
      "\n",
      "aql> exit\n",
      "\n"
     ]
    },
    {
     "name": "stderr",
     "output_type": "stream",
     "text": [
      "C Client Version 5.2.3\n"
     ]
    }
   ],
   "source": [
    "%%sh\n",
    "aql\n",
    "select * from test.testset\n",
    "exit"
   ]
  }
 ],
 "metadata": {
  "kernelspec": {
   "display_name": "Python 3 (ipykernel)",
   "language": "python",
   "name": "python3"
  },
  "language_info": {
   "codemirror_mode": {
    "name": "ipython",
    "version": 3
   },
   "file_extension": ".py",
   "mimetype": "text/x-python",
   "name": "python",
   "nbconvert_exporter": "python",
   "pygments_lexer": "ipython3",
   "version": "3.7.10"
  }
 },
 "nbformat": 4,
 "nbformat_minor": 5
}
