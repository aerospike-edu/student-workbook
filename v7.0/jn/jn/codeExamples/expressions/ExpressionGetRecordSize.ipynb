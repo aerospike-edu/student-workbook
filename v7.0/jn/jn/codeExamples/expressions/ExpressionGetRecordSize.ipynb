{
 "cells": [
  {
   "cell_type": "markdown",
   "id": "28b3e822",
   "metadata": {},
   "source": [
    "### Housekeeping - Setup & wipe out any prior records on the Aerospike Server\n",
    "\n",
    "We have a namespace **_test_** pre-defined on the server. Lets truncate it using aql.\n",
    "\n",
    "This is needed while doing code development. If you want to clear the iJava Kernel of all Java objects and run all cells from scratch, Kernel->Restart & Run All, this will ensure any records written on the underlying Aerospike cluster are purged.\n",
    "\n",
    "First, we need required imports for using %sh in interactive Java Kernel. (This is specific to the iJava Kernel implementation by **Spencer Park** that we are using.)"
   ]
  },
  {
   "cell_type": "code",
   "execution_count": 1,
   "id": "eb85febe",
   "metadata": {},
   "outputs": [],
   "source": [
    "import io.github.spencerpark.ijava.IJava;\n",
    "import io.github.spencerpark.jupyter.kernel.magic.common.Shell;\n",
    "IJava.getKernelInstance().getMagics().registerMagics(Shell.class);"
   ]
  },
  {
   "cell_type": "markdown",
   "id": "1b305b92",
   "metadata": {},
   "source": [
    "### Runing aql in iJava\n",
    "We can run aql commands in a file. No output will be displayed. \n",
    "In _trucate_test.aql_, we have a single AQL command: TRUNCATE test\n",
    "\n"
   ]
  },
  {
   "cell_type": "code",
   "execution_count": 2,
   "id": "0f11685a",
   "metadata": {},
   "outputs": [],
   "source": [
    "%sh aql -c \"truncate test\" -h \"3.235.121.162\""
   ]
  },
  {
   "cell_type": "markdown",
   "id": "4b23c8bf",
   "metadata": {},
   "source": [
    "#### Add Java Client POM Dependency  \n",
    "Jupyter Notebook way!"
   ]
  },
  {
   "cell_type": "code",
   "execution_count": 3,
   "id": "c7d10ca8",
   "metadata": {},
   "outputs": [],
   "source": [
    "%%loadFromPOM\n",
    "<dependencies>\n",
    "  <dependency>\n",
    "    <groupId>com.aerospike</groupId>\n",
    "    <artifactId>aerospike-client</artifactId>\n",
    "    <version>6.0.0</version>\n",
    "  </dependency>\n",
    "</dependencies>"
   ]
  },
  {
   "cell_type": "markdown",
   "id": "e03decf9",
   "metadata": {},
   "source": [
    "####  Java Client Imports and Test code"
   ]
  },
  {
   "cell_type": "code",
   "execution_count": 4,
   "id": "b5ec301d",
   "metadata": {},
   "outputs": [
    {
     "name": "stdout",
     "output_type": "stream",
     "text": [
      "Record: (gen:1),(exp:417506815),(bins:(b00:28),(b01:8bytes018bytes028bytes038bytes048bytes058bytes068bytes078bytes08))\n",
      "Record Size in bytes: 144\n"
     ]
    }
   ],
   "source": [
    "//Required Imports\n",
    "import com.aerospike.client.AerospikeClient;\n",
    "import com.aerospike.client.policy.WritePolicy;\n",
    "import com.aerospike.client.Bin;\n",
    "import com.aerospike.client.Key;\n",
    "import com.aerospike.client.Record;\n",
    "import com.aerospike.client.Value;\n",
    "import com.aerospike.client.Operation;\n",
    "import com.aerospike.client.exp.Exp;\n",
    "import com.aerospike.client.exp.ExpOperation;\n",
    "import com.aerospike.client.exp.ExpReadFlags;\n",
    "import com.aerospike.client.exp.Expression;\n",
    "import com.aerospike.client.cdt.ListOperation;\n",
    "import com.aerospike.client.exp.ListExp;\n",
    "\n",
    "AerospikeClient client = new AerospikeClient(\"3.235.121.162\", 3000);\n",
    "Key key = new Key(\"test\", \"testset\", \"key1\");\n",
    "WritePolicy wPolicy = new WritePolicy();\n",
    "Bin b0 = new Bin(\"b00\", Value.get(28)); //8byte value\n",
    "Bin b1 = new Bin(\"b01\", Value.get(\"8bytes018bytes028bytes038bytes048bytes058bytes068bytes078bytes08\")); //64bytes value  \n",
    "//Bin b3 = new Bin(\"b03\", Value.get(\"8bytes018bytes028bytes038bytes048bytes058bytes068bytes078bytes08\")); //64bytes value\n",
    "//Bin b4 = new Bin(\"b04\", Value.get(\"8bytes018bytes028bytes038bytes048bytes058bytes068bytes078bytes08\")); //64bytes value\n",
    "//Bin b5 = new Bin(\"b05\", Value.get(\"8bytes018bytes028bytes038bytes048bytes058bytes068bytes078bytes08\")); //64bytes value\n",
    "//Bin b6 = new Bin(\"b06\", Value.get(\"8bytes018bytes028bytes038bytes048bytes058bytes068bytes078bytes08\")); //64bytes value\n",
    "//Bin b7 = new Bin(\"b07\", Value.get(\"8bytes018bytes028bytes038bytes048bytes058bytes068bytes078bytes08\")); //64bytes value\n",
    "//Bin b8 = new Bin(\"b08\", Value.get(\"8bytes018bytes028bytes038bytes048bytes058bytes068bytes078bytes08\")); //64bytes value\n",
    "//Bin b9 = new Bin(\"b09\", Value.get(\"8bytes018bytes028bytes038bytes048bytes058bytes068bytes078bytes08\")); //64bytes value\n",
    "//Bin b10 = new Bin(\"b10\", Value.get(\"8bytes018bytes028bytes038bytes048bytes058bytes068bytes078bytes08\")); //64bytes value\n",
    "\n",
    "client.put(wPolicy, key, b0, b1);\n",
    "//client.put(wPolicy, key, b0, b1, b2, b3, b4, b5, b6, b7,b8, b9, b10);\n",
    "System.out.println(\"Record: \"+ client.get(null, key)); //check record got inserted\n",
    "\n",
    "//Using expressions to read record metadata in PI that has size of record on device\n",
    "Expression recSizeExp = Exp.build(Exp.deviceSize());\n",
    "Record record = client.operate( wPolicy, key,   \n",
    "          ExpOperation.read(\"size\", recSizeExp, ExpReadFlags.DEFAULT) \n",
    "         );\n",
    "System.out.println(\"Record Size in bytes: \" + record.getValue(\"size\"));\n",
    "\n",
    "//Play with bin value (val1val2... ) \n",
    "//Record size should jump in 16 byte increments on device.\n",
    "// Rec size = 35 + 4 (finite ttl) + 1+7(testset)+ 1 (<128 bins) + 1+3(b00)+ 1+3(b01)...(bn)+ 2+8(int)+5+64(str)...(n) \n",
    "//          = 135 \n",
    "// Nearest 16 byte boundary: 144"
   ]
  },
  {
   "cell_type": "code",
   "execution_count": 5,
   "id": "c5d83281",
   "metadata": {},
   "outputs": [
    {
     "name": "stdout",
     "output_type": "stream",
     "text": [
      "Record Size in bytes: text 144\n",
      "Record Size in bytes: text 67648\n",
      "Bin Array (each element = #128 bytes) Size: 500\n",
      "Record Size in bytes: text 67648\n",
      "Record Size in bytes: text 135152\n",
      "Bin Array (each element = #128 bytes) Size: 1000\n",
      "Record Size in bytes: text 135152\n",
      "Record Size in bytes: text 202656\n",
      "Bin Array (each element = #128 bytes) Size: 1500\n",
      "Record Size in bytes: text 202656\n",
      "Record Size in bytes: text 270160\n",
      "Bin Array (each element = #128 bytes) Size: 2000\n",
      "Record Size in bytes: text 270160\n",
      "Record Size in bytes: text 337648\n",
      "Bin Array (each element = #128 bytes) Size: 2500\n",
      "Record Size in bytes: text 337648\n",
      "Record Size in bytes: text 405152\n",
      "Bin Array (each element = #128 bytes) Size: 3000\n",
      "Record Size in bytes: text 405152\n",
      "Record Size in bytes: text 472656\n",
      "Bin Array (each element = #128 bytes) Size: 3500\n",
      "Record Size in bytes: text 472656\n",
      "Record Size in bytes: text 540160\n",
      "Bin Array (each element = #128 bytes) Size: 4000\n",
      "Record Size in bytes: text 540160\n",
      "Record Size in bytes: text 607648\n",
      "Bin Array (each element = #128 bytes) Size: 4500\n",
      "Record Size in bytes: text 607648\n",
      "Record Size in bytes: text 675152\n",
      "Bin Array (each element = #128 bytes) Size: 5000\n",
      "Record Size in bytes: text 675152\n",
      "Record Size in bytes: text 742656\n",
      "Bin Array (each element = #128 bytes) Size: 5500\n",
      "Record Size in bytes: text 742656\n",
      "Record Size in bytes: text 810160\n",
      "Bin Array (each element = #128 bytes) Size: 6000\n",
      "Record Size in bytes: text 810160\n",
      "Record Size in bytes: text 877648\n",
      "Bin Array (each element = #128 bytes) Size: 6500\n",
      "Record Size in bytes: text 877648\n",
      "Record Size in bytes: text 945152\n",
      "Bin Array (each element = #128 bytes) Size: 7000\n",
      "Record Size in bytes: text 945152\n",
      "Record Size in bytes: text 1012656\n",
      "Bin Array (each element = #128 bytes) Size: 7500\n"
     ]
    },
    {
     "name": "stderr",
     "output_type": "stream",
     "text": [
      "com.aerospike.client.AerospikeException: Error 13,1,0,30000,0,0,A1 44.200.159.121 3000: Record too big\n",
      "\tat com.aerospike.client.command.ReadCommand.parseResult(ReadCommand.java:187)\n",
      "\tat com.aerospike.client.command.SyncCommand.executeCommand(SyncCommand.java:103)\n",
      "\tat com.aerospike.client.command.SyncCommand.execute(SyncCommand.java:63)\n",
      "\tat com.aerospike.client.AerospikeClient.operate(AerospikeClient.java:1798)\n",
      "\tat REPL.$JShell$44.do_it$($JShell$44.java:41)\n",
      "\tat java.base/jdk.internal.reflect.NativeMethodAccessorImpl.invoke0(Native Method)\n",
      "\tat java.base/jdk.internal.reflect.NativeMethodAccessorImpl.invoke(NativeMethodAccessorImpl.java:62)\n",
      "\tat java.base/jdk.internal.reflect.DelegatingMethodAccessorImpl.invoke(DelegatingMethodAccessorImpl.java:43)\n",
      "\tat java.base/java.lang.reflect.Method.invoke(Method.java:566)\n",
      "\tat io.github.spencerpark.ijava.execution.IJavaExecutionControl.lambda$execute$1(IJavaExecutionControl.java:95)\n",
      "\tat java.base/java.util.concurrent.FutureTask.run(FutureTask.java:264)\n",
      "\tat java.base/java.util.concurrent.ThreadPoolExecutor.runWorker(ThreadPoolExecutor.java:1128)\n",
      "\tat java.base/java.util.concurrent.ThreadPoolExecutor$Worker.run(ThreadPoolExecutor.java:628)\n",
      "\tat java.base/java.lang.Thread.run(Thread.java:829)\n"
     ]
    }
   ],
   "source": [
    "try {\n",
    "    while(true) {\n",
    "        List<Value> values = new ArrayList<>();\n",
    "        //for (int i = 0; i < 1; i++) {\n",
    "        for (int i = 0; i < 500; i++) {\n",
    "            values.add(Value.get(\"111111111111111111111111111111111111111111111111111111111111111111111111111111111111111111111111111111111111111111111111111111111111\"));\n",
    "        }\n",
    "        Expression recSizeExp = Exp.build(Exp.deviceSize());\n",
    "        //Record r1 = AerospikeUtil.getClient().operate(null, \n",
    "        //  new Key(\"dirprodv2\", \"size_check\", \"sizecheck20\"), \n",
    "        //  ExpOperation.read(\"size\", recSizeExp, ExpReadFlags.DEFAULT), \n",
    "        //  ListOperation.appendItems(\"data\", values, null));\n",
    "        Record r1 = client.operate(null, key, //new Key(\"test\", \"size_check\", \"sizecheck20\"), \n",
    "                                   ExpOperation.read(\"size\", recSizeExp, ExpReadFlags.DEFAULT), \n",
    "                                   ListOperation.appendItems(\"data\", values, null)\n",
    "                                  );\n",
    "        System.out.println(\"Record Size in bytes: text \" + r1.getValue(\"size\"));\n",
    "\n",
    "        //Record record = AerospikeUtil.getClient().operate( null, new Key(\"dirprodv2\", \"size_check\", \"sizecheck20\"),\n",
    "        //        ExpOperation.read(\"size\", recSizeExp, ExpReadFlags.DEFAULT), ListOperation.size(\"data\", null)\n",
    "        //);\n",
    "        \n",
    "        Record record = client.operate( null, key, //new Key(\"test\", \"size_check\", \"sizecheck20\"), \n",
    "                                       ExpOperation.read(\"size\", recSizeExp, ExpReadFlags.DEFAULT), \n",
    "                                       ListOperation.size(\"data\", null)  //<-- gives number of elements in list\n",
    "                                      );       \n",
    "        \n",
    "        System.out.println(\"Record Size in bytes: text \" + record.getValue(\"size\"));\n",
    "        //System.out.println(\"Record length \" + record.getValue(\"data\"));\n",
    "        System.out.println(\"Bin Array (each element = #128 bytes) Size: \" + record.getValue(\"data\"));\n",
    "        // ==> Record size is going up by ~64,000 bytes + msgPack overhead in each loop execution.\n",
    "        \n",
    "        //Thread.sleep(5);  // Tried some sleep in the loop in my initial test with i<1 instead of i<500\n",
    "        //HotKey Update - loop will update the same record faster than it can be written to device\n",
    "        //As record gets bigger, (>1/2 write-block-size, there is one record per write block)\n",
    "        //==> device overload error\n",
    "    }\n",
    "} catch (Exception e) {\n",
    "    e.printStackTrace();\n",
    "}"
   ]
  },
  {
   "cell_type": "code",
   "execution_count": null,
   "id": "74050b58",
   "metadata": {},
   "outputs": [],
   "source": []
  }
 ],
 "metadata": {
  "kernelspec": {
   "display_name": "Java",
   "language": "java",
   "name": "java"
  },
  "language_info": {
   "codemirror_mode": "java",
   "file_extension": ".jshell",
   "mimetype": "text/x-java-source",
   "name": "Java",
   "pygments_lexer": "java",
   "version": "11.0.20+8-LTS"
  }
 },
 "nbformat": 4,
 "nbformat_minor": 5
}
