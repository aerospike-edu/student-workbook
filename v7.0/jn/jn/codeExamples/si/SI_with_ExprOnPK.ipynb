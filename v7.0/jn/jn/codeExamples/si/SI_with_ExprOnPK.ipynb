{
 "cells": [
  {
   "cell_type": "markdown",
   "id": "9037147c",
   "metadata": {},
   "source": [
    "# Secondary Index query with Expression Selection on Primary Keys"
   ]
  },
  {
   "cell_type": "markdown",
   "id": "e28e6bcc",
   "metadata": {},
   "source": [
    "# Import to run %sh magic cell"
   ]
  },
  {
   "cell_type": "code",
   "execution_count": 1,
   "id": "b74ed7d1",
   "metadata": {},
   "outputs": [],
   "source": [
    "import io.github.spencerpark.ijava.IJava;\n",
    "import io.github.spencerpark.jupyter.kernel.magic.common.Shell;\n",
    "IJava.getKernelInstance().getMagics().registerMagics(Shell.class);"
   ]
  },
  {
   "cell_type": "markdown",
   "id": "31b0ddb3",
   "metadata": {},
   "source": [
    "# Add Java Client POM Dependency"
   ]
  },
  {
   "cell_type": "code",
   "execution_count": 2,
   "id": "b6447add",
   "metadata": {},
   "outputs": [],
   "source": [
    "%%loadFromPOM\n",
    "<dependencies>\n",
    "  <dependency>\n",
    "    <groupId>com.aerospike</groupId>\n",
    "    <artifactId>aerospike-client</artifactId>\n",
    "    <version>7.2.1</version>\n",
    "  </dependency>\n",
    "</dependencies>"
   ]
  },
  {
   "cell_type": "markdown",
   "id": "83cebb5f",
   "metadata": {},
   "source": [
    "# Add required Imports"
   ]
  },
  {
   "cell_type": "code",
   "execution_count": 3,
   "id": "946d225a",
   "metadata": {},
   "outputs": [
    {
     "name": "stdout",
     "output_type": "stream",
     "text": [
      "Client modules imported.\n"
     ]
    }
   ],
   "source": [
    "import com.aerospike.client.AerospikeClient;\n",
    "import com.aerospike.client.policy.WritePolicy;\n",
    "import com.aerospike.client.Bin;\n",
    "import com.aerospike.client.Key;\n",
    "import com.aerospike.client.Record;\n",
    "import com.aerospike.client.Value;\n",
    "System.out.println(\"Client modules imported.\");"
   ]
  },
  {
   "cell_type": "markdown",
   "id": "0362ad57",
   "metadata": {},
   "source": [
    "# Generate Test Data"
   ]
  },
  {
   "cell_type": "code",
   "execution_count": 4,
   "id": "deca2f79",
   "metadata": {},
   "outputs": [],
   "source": [
    "%sh asadm --enable -e \"manage truncate ns test --no-warn\" -h \"127.0.0.1\""
   ]
  },
  {
   "cell_type": "code",
   "execution_count": 5,
   "id": "088c4f7b",
   "metadata": {},
   "outputs": [],
   "source": [
    "%sh aql -c \"set key_send true\""
   ]
  },
  {
   "cell_type": "code",
   "execution_count": 7,
   "id": "77107007",
   "metadata": {},
   "outputs": [],
   "source": [
    "%sh aql -f \"../aqlScripts/insert.aql\""
   ]
  },
  {
   "cell_type": "code",
   "execution_count": 8,
   "id": "056a887a",
   "metadata": {},
   "outputs": [
    {
     "name": "stdout",
     "output_type": "stream",
     "text": [
      "Initialized the client and connected to the cluster.\n",
      "Working with record key:\n",
      "test:testset:key1:bf6c1d13e7cd10c5bd022d27e7df170c0bccd6e1\n",
      "Read back the record.\n",
      "Record values are:\n",
      "(gen:1),(exp:450833097),(bins:(name:Jack),(age:26))\n"
     ]
    }
   ],
   "source": [
    "AerospikeClient client = new AerospikeClient(\"localhost\", 3000);\n",
    "System.out.println(\"Initialized the client and connected to the cluster.\");\n",
    "\n",
    "Key key = new Key(\"test\", \"testset\", \"key1\");\n",
    "System.out.println(\"Working with record key:\");\n",
    "System.out.println(key);\n",
    "\n",
    "Record record = client.get(null, key);\n",
    "System.out.println(\"Read back the record.\");\n",
    "\n",
    "System.out.println(\"Record values are:\");\n",
    "System.out.println(record);"
   ]
  },
  {
   "cell_type": "code",
   "execution_count": 12,
   "id": "aa5fc77d",
   "metadata": {},
   "outputs": [],
   "source": [
    "%sh asadm --enable -e \"manage sindex create numeric idx_age ns test set testset bin age\""
   ]
  },
  {
   "cell_type": "code",
   "execution_count": 13,
   "id": "cc282aad",
   "metadata": {},
   "outputs": [
    {
     "name": "stdout",
     "output_type": "stream",
     "text": [
      "(gen:1),(exp:450833097),(bins:(name:Jill),(age:20))\n",
      "(gen:1),(exp:450833097),(bins:(name:Jack),(age:26))\n"
     ]
    }
   ],
   "source": [
    "//Needed imports\n",
    "import com.aerospike.client.query.Statement;\n",
    "import com.aerospike.client.query.Filter;\n",
    "import com.aerospike.client.query.RecordSet;\n",
    "import com.aerospike.client.policy.QueryPolicy;\n",
    "import com.aerospike.client.exp.Exp;\n",
    "import com.aerospike.client.exp.Exp.Type;\n",
    "\n",
    "//Run SI query\n",
    "Statement stmt = new Statement();\n",
    "stmt.setNamespace(\"test\");\n",
    "stmt.setSetName(\"testset\");\n",
    "stmt.setFilter(Filter.range(\"age\", 20,30));\n",
    "QueryPolicy qp = new QueryPolicy();\n",
    "\n",
    "String[] keys = {\"key1\", \"key2\", \"key8\"};\n",
    "Exp exp = Exp.val(false);  //init to false\n",
    "for (int i=0; i<keys.length; i++)\n",
    "{\n",
    "   exp = Exp.or(exp, Exp.eq(Exp.key(Type.STRING), Exp.val(keys[i]))); \n",
    "}\n",
    "qp.filterExp = Exp.build(exp);\n",
    "\n",
    "// Add Expression\n",
    "/*\n",
    "qp.filterExp = Exp.build(Exp.or( \n",
    "  Exp.eq(Exp.key(Type.STRING), Exp.val(\"key1\")),   //Jack\n",
    "  Exp.eq(Exp.key(Type.STRING), Exp.val(\"key2\")),   //Jill\n",
    "  Exp.eq(Exp.key(Type.STRING), Exp.val(\"key8\"))    //Sam, age 12, SI age reject.\n",
    "  )\n",
    "  );\n",
    "\n",
    "*/\n",
    "\n",
    "\n",
    "RecordSet rs = client.query(qp, stmt);\n",
    "while (rs.next()){\n",
    "  Record r = rs.getRecord();\n",
    "  System.out.println(r);\n",
    "}"
   ]
  },
  {
   "cell_type": "markdown",
   "id": "12d47ebc-da86-4077-ad85-54eb7c7db0c0",
   "metadata": {},
   "source": [
    "# Cleanup"
   ]
  },
  {
   "cell_type": "code",
   "execution_count": 14,
   "id": "28f01a59-4f9a-4c13-9bb6-2630ed223d38",
   "metadata": {},
   "outputs": [],
   "source": [
    "%sh asadm --enable -e \"manage sindex delete idx_age ns test set testset\""
   ]
  },
  {
   "cell_type": "code",
   "execution_count": 15,
   "id": "d88e72fc-a765-41d1-a5e6-54b7525f4f62",
   "metadata": {},
   "outputs": [],
   "source": [
    "%sh asadm --enable -e \"manage truncate ns test --no-warn\" -h \"127.0.0.1\""
   ]
  },
  {
   "cell_type": "code",
   "execution_count": null,
   "id": "219193a0-08a2-4b6c-87ea-3c1d8fc33a5f",
   "metadata": {},
   "outputs": [],
   "source": []
  }
 ],
 "metadata": {
  "kernelspec": {
   "display_name": "Java",
   "language": "java",
   "name": "java"
  },
  "language_info": {
   "codemirror_mode": "java",
   "file_extension": ".jshell",
   "mimetype": "text/x-java-source",
   "name": "Java",
   "pygments_lexer": "java",
   "version": "17.0.10+8-LTS"
  }
 },
 "nbformat": 4,
 "nbformat_minor": 5
}
