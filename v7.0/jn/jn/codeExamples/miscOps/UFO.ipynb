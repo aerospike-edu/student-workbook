{
 "cells": [
  {
   "cell_type": "markdown",
   "id": "3db862e0",
   "metadata": {},
   "source": [
    "# UFO Test Data / Python API testing"
   ]
  },
  {
   "cell_type": "code",
   "execution_count": 18,
   "id": "0dfcfbcc",
   "metadata": {},
   "outputs": [
    {
     "name": "stdout",
     "output_type": "stream",
     "text": [
      "Seed:         127.0.0.1\n",
      "User:         None\n",
      "Config File:  /etc/aerospike/astools.conf /home/training/.aerospike/astools.conf \n",
      "Aerospike Query Client\n",
      "Version 7.0.3\n",
      "Copyright 2012-2021 Aerospike. All rights reserved.\n",
      "aql> truncate test\n",
      "OK\n",
      "\n",
      "aql> set key_send true\n",
      "KEY_SEND = true\n",
      "alia\", \"state\":\"CA\"}'), 0)\n",
      "OK, 1 record affected.\n",
      "\n",
      " Jose\", \"state\":\"CA\"}'), 0)\n",
      "OK, 1 record affected.\n",
      "\n",
      "ckton\", \"state\":\"CA\"}'), 0)\n",
      "OK, 1 record affected.\n",
      "\n",
      "cy\", \"state\":\"CA\"}'), 0)\n",
      "OK, 1 record affected.\n",
      "\n",
      "esto\", \"state\":\"CA\"}'), 0)\n",
      "OK, 1 record affected.\n",
      "\n",
      "hrop\", \"state\":\"CA\"}'), 0)\n",
      "OK, 1 record affected.\n",
      "\n",
      "ermore\", \"state\":\"CA\"}'), 0)\n",
      "OK, 1 record affected.\n",
      "\n",
      "ville\", \"state\":\"CA\"}'), 0)\n",
      "OK, 1 record affected.\n",
      "\n",
      " Ramon\", \"state\":\"CA\"}'), 0)\n",
      "OK, 1 record affected.\n",
      "\n",
      "blin\", \"state\":\"CA\"}'), 0)\n",
      "OK, 1 record affected.\n",
      "\n",
      "easanto\", \"state\":\"CA\"}'), 0)\n",
      "OK, 1 record affected.\n",
      "\n",
      "aql> select * from test.ufodata\n",
      "+----+-------------------------------------------+--------+\n",
      "| PK | report                                    | posted |\n",
      "+----+-------------------------------------------+--------+\n",
      "| 1  | MAP('{\"city\":\"Visalia\", \"state\":\"CA\"}')   | 0      |\n",
      "| 2  | MAP('{\"city\":\"San Jose\", \"state\":\"CA\"}')  | 0      |\n",
      "| 10 | MAP('{\"city\":\"Dublin\", \"state\":\"CA\"}')    | 0      |\n",
      "| 11 | MAP('{\"city\":\"Pleasanto\", \"state\":\"CA\"}') | 0      |\n",
      "| 6  | MAP('{\"city\":\"Lathrop\", \"state\":\"CA\"}')   | 0      |\n",
      "| 5  | MAP('{\"city\":\"Modesto\", \"state\":\"CA\"}')   | 0      |\n",
      "| 8  | MAP('{\"city\":\"Danville\", \"state\":\"CA\"}')  | 0      |\n",
      "| 7  | MAP('{\"city\":\"Livermore\", \"state\":\"CA\"}') | 0      |\n",
      "| 9  | MAP('{\"city\":\"San Ramon\", \"state\":\"CA\"}') | 0      |\n",
      "| 4  | MAP('{\"city\":\"Tracy\", \"state\":\"CA\"}')     | 0      |\n",
      "| 3  | MAP('{\"city\":\"Stockton\", \"state\":\"CA\"}')  | 0      |\n",
      "+----+-------------------------------------------+--------+\n",
      "11 rows in set (0.035 secs)\n",
      "\n",
      "OK\n",
      "\n",
      "aql> exit\n",
      "\n"
     ]
    },
    {
     "name": "stderr",
     "output_type": "stream",
     "text": [
      "C Client Version 6.0.0\n"
     ]
    }
   ],
   "source": [
    "%%sh\n",
    "aql\n",
    "truncate test\n",
    "set key_send true\n",
    "insert into test.ufodata (PK, report, posted) values (1, JSON('{\"city\":\"Visalia\", \"state\":\"CA\"}'), 0)\n",
    "insert into test.ufodata (PK, report, posted) values (2, JSON('{\"city\":\"San Jose\", \"state\":\"CA\"}'), 0)\n",
    "insert into test.ufodata (PK, report, posted) values (3, JSON('{\"city\":\"Stockton\", \"state\":\"CA\"}'), 0)\n",
    "insert into test.ufodata (PK, report, posted) values (4, JSON('{\"city\":\"Tracy\", \"state\":\"CA\"}'), 0)\n",
    "insert into test.ufodata (PK, report, posted) values (5, JSON('{\"city\":\"Modesto\", \"state\":\"CA\"}'), 0)\n",
    "insert into test.ufodata (PK, report, posted) values (6, JSON('{\"city\":\"Lathrop\", \"state\":\"CA\"}'), 0)\n",
    "insert into test.ufodata (PK, report, posted) values (7, JSON('{\"city\":\"Livermore\", \"state\":\"CA\"}'), 0)\n",
    "insert into test.ufodata (PK, report, posted) values (8, JSON('{\"city\":\"Danville\", \"state\":\"CA\"}'), 0)\n",
    "insert into test.ufodata (PK, report, posted) values (9, JSON('{\"city\":\"San Ramon\", \"state\":\"CA\"}'), 0)\n",
    "insert into test.ufodata (PK, report, posted) values (10, JSON('{\"city\":\"Dublin\", \"state\":\"CA\"}'), 0)\n",
    "insert into test.ufodata (PK, report, posted) values (11, JSON('{\"city\":\"Pleasanto\", \"state\":\"CA\"}'), 0)\n",
    "select * from test.ufodata\n",
    "exit"
   ]
  },
  {
   "cell_type": "code",
   "execution_count": 26,
   "id": "45d8b68a",
   "metadata": {},
   "outputs": [
    {
     "name": "stdout",
     "output_type": "stream",
     "text": [
      "Record:  {'report': ['Visalia', 'CA']}\n",
      "Record:  {'report': ['San Jose', 'CA']}\n",
      "Record:  {'report': ['Stockton', 'CA']}\n",
      "Record:  {'report': ['Tracy', 'CA']}\n",
      "Record:  {'report': ['Modesto', 'CA']}\n",
      "Record:  {'report': ['Lathrop', 'CA']}\n",
      "Record:  {'report': ['Livermore', 'CA']}\n",
      "Record:  {'report': ['Danville', 'CA']}\n",
      "Record:  {'report': ['San Ramon', 'CA']}\n",
      "Record:  {'report': ['Dublin', 'CA']}\n"
     ]
    }
   ],
   "source": [
    "import aerospike\n",
    "from aerospike import exception as ex\n",
    "from aerospike_helpers import expressions as exp\n",
    "from aerospike_helpers.operations import expression_operations, map_operations, operations\n",
    "\n",
    "\n",
    "# Define host configuration\n",
    "config = {\n",
    "    'hosts': [ ('127.0.0.1', 3000) ]\n",
    "}\n",
    "# Establishes a connection to the server\n",
    "client = aerospike.client(config).connect()\n",
    "\n",
    "# Create batch of keys\n",
    "keys = []\n",
    "for i in range(1,11):\n",
    "    batch_key = ('test', 'ufodata', i)\n",
    "    keys.append(batch_key)\n",
    "\n",
    "# Create map key list\n",
    "mapKeys = ['city', 'state']\n",
    "\n",
    "# Create operations\n",
    "ops = [map_operations.map_get_by_key_list('report', mapKeys, aerospike.MAP_RETURN_VALUE), operations.touch()]#, operations.increment('posted', 0)]\n",
    "#, operations.increment('posted', 0)]\n",
    "# need to touch the record or use get_batch_ops() per batch_operate() API docs.\n",
    "# but get_batch_ops() does not exist. !!!\n",
    "\n",
    "# Get 'city' and 'state' from report map for each record \n",
    "batchRecords = client.batch_operate(keys, ops)\n",
    "#batchRecords = client.get_many(keys)\n",
    "#batchRecords = client.get_batch_ops(keys, ops)\n",
    "\n",
    "# Access the records \n",
    "for batchRecord in batchRecords.batch_records: \n",
    "#for batchRecord in batchRecords:     \n",
    "    record = batchRecord.record\n",
    "    # Do something\n",
    "    print('Record: ', record[2])\n",
    "    #print('Record: ', batchRecord)\n",
    "\n",
    "client.close()"
   ]
  },
  {
   "cell_type": "code",
   "execution_count": null,
   "id": "b0367d74",
   "metadata": {},
   "outputs": [],
   "source": []
  }
 ],
 "metadata": {
  "kernelspec": {
   "display_name": "Python 3 (ipykernel)",
   "language": "python",
   "name": "python3"
  },
  "language_info": {
   "codemirror_mode": {
    "name": "ipython",
    "version": 3
   },
   "file_extension": ".py",
   "mimetype": "text/x-python",
   "name": "python",
   "nbconvert_exporter": "python",
   "pygments_lexer": "ipython3",
   "version": "3.7.10"
  }
 },
 "nbformat": 4,
 "nbformat_minor": 5
}
