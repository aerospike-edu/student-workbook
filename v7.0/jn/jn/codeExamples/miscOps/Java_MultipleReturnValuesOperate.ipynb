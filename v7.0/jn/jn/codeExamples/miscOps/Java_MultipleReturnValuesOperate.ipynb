{
 "cells": [
  {
   "cell_type": "markdown",
   "id": "28b3e822",
   "metadata": {},
   "source": [
    "### Housekeeping - Setup & wipe out any prior records on the Aerospike Server\n",
    "\n",
    "We have a namespace **_test_** pre-defined on the server. Lets truncate it using aql.\n",
    "\n",
    "This is needed while doing code development. If you want to clear the iJava Kernel of all Java objects and run all cells from scratch, Kernel->Restart & Run All, this will ensure any records written on the underlying Aerospike cluster are purged.\n",
    "\n",
    "First, we need required imports for using %sh in interactive Java Kernel. (This is specific to the iJava Kernel implementation by **Spencer Park** that we are using.)"
   ]
  },
  {
   "cell_type": "code",
   "execution_count": 9,
   "id": "eb85febe",
   "metadata": {},
   "outputs": [],
   "source": [
    "import io.github.spencerpark.ijava.IJava;\n",
    "import io.github.spencerpark.jupyter.kernel.magic.common.Shell;\n",
    "IJava.getKernelInstance().getMagics().registerMagics(Shell.class);"
   ]
  },
  {
   "cell_type": "markdown",
   "id": "1b305b92",
   "metadata": {},
   "source": [
    "### Runing aql in iJava\n",
    "We can run aql commands in a file. No output will be displayed. \n",
    "In _trucate_test.aql_, we have a single AQL command: TRUNCATE test\n",
    "\n"
   ]
  },
  {
   "cell_type": "code",
   "execution_count": 10,
   "id": "0f11685a",
   "metadata": {},
   "outputs": [],
   "source": [
    "%sh aql -c \"truncate test\" -h \"localhost\" -p 3000"
   ]
  },
  {
   "cell_type": "markdown",
   "id": "4b23c8bf",
   "metadata": {},
   "source": [
    "#### Add Java Client POM Dependency  \n",
    "Jupyter Notebook way!"
   ]
  },
  {
   "cell_type": "code",
   "execution_count": 11,
   "id": "c7d10ca8",
   "metadata": {},
   "outputs": [],
   "source": [
    "%%loadFromPOM\n",
    "<dependencies>\n",
    "  <dependency>\n",
    "    <groupId>com.aerospike</groupId>\n",
    "    <artifactId>aerospike-client</artifactId>\n",
    "    <version>6.0.0</version>\n",
    "  </dependency>\n",
    "</dependencies>"
   ]
  },
  {
   "cell_type": "markdown",
   "id": "e03decf9",
   "metadata": {},
   "source": [
    "####  Java Client Imports and Test code"
   ]
  },
  {
   "cell_type": "code",
   "execution_count": 12,
   "id": "b5ec301d",
   "metadata": {
    "scrolled": true
   },
   "outputs": [],
   "source": [
    "//Required Imports\n",
    "import com.aerospike.client.AerospikeClient;\n",
    "import com.aerospike.client.policy.WritePolicy;\n",
    "import com.aerospike.client.Bin;\n",
    "import com.aerospike.client.Key;\n",
    "import com.aerospike.client.Record;\n",
    "import com.aerospike.client.Value;\n",
    "\n",
    "//import com.aerospike.client.cdt.ListPolicy;\n",
    "//import com.aerospike.client.cdt.ListOperation;\n",
    "//import com.aerospike.client.cdt.ListOrder;\n",
    "//import com.aerospike.client.cdt.ListWriteFlags;\n",
    "//import com.aerospike.client.cdt.ListReturnType;\n",
    "\n",
    "//import com.aerospike.client.cdt.MapPolicy;\n",
    "//import com.aerospike.client.cdt.MapOrder;\n",
    "//import com.aerospike.client.cdt.MapWriteFlags;\n",
    "//import com.aerospike.client.cdt.MapReturnType;\n",
    "\n",
    "//import com.aerospike.client.exp.MapExp;\n",
    "//import com.aerospike.client.cdt.CTX;\n",
    "//import java.util.HashMap;\n",
    "//import java.util.Map;\n",
    "\n",
    "import com.aerospike.client.Operation;\n",
    "import com.aerospike.client.query.Statement;\n",
    "import com.aerospike.client.exp.Exp;\n",
    "//import com.aerospike.client.cdt.MapOperation;\n",
    "\n",
    "//import com.aerospike.client.policy.BatchPolicy;\n",
    "\n",
    "//import java.util.Random;f\n",
    "\n",
    "\n",
    "\n"
   ]
  },
  {
   "cell_type": "code",
   "execution_count": 15,
   "id": "15ec4c7e",
   "metadata": {
    "scrolled": true
   },
   "outputs": [
    {
     "name": "stdout",
     "output_type": "stream",
     "text": [
      "Initialized the client and connected to the cluster.\n"
     ]
    }
   ],
   "source": [
    "AerospikeClient client = new AerospikeClient(\"localhost\", 3000);\n",
    "\n",
    "//AerospikeClient client = new AerospikeClient(\"localhost\", 3000);\n",
    "System.out.println(\"Initialized the client and connected to the cluster.\");\n"
   ]
  },
  {
   "cell_type": "code",
   "execution_count": 41,
   "id": "0ecc77be",
   "metadata": {},
   "outputs": [
    {
     "name": "stdout",
     "output_type": "stream",
     "text": [
      "16\n",
      "(gen:1),(exp:431243991),(bins:(ProfileId:2),(Name:me),(Zip:94506))\n"
     ]
    }
   ],
   "source": [
    "//Insert a record using a class based construct\n",
    "import com.aerospike.client.exp.ExpOperation;\n",
    "import com.aerospike.client.exp.*;\n",
    "\n",
    "\n",
    "String ns = \"test\";\n",
    "String setName = \"testset\";\n",
    "int profileId = 2;\n",
    "String name = \"me\";\n",
    "int zip = 94506;\n",
    "    \n",
    "Key user = new Key(ns, setName, profileId); \n",
    "    \n",
    "Bin bProfileId = new Bin(\"ProfileId\", profileId);\n",
    "Bin bName = new Bin(\"Name\", name);\n",
    "Bin bZip = new Bin(\"Zip\", zip);\n",
    "    \n",
    "WritePolicy wPolicy = new WritePolicy();\n",
    "wPolicy.durableDelete = false;\n",
    "//wPolicy.expiration = -1;\n",
    "      \n",
    "\n",
    "Record rec = client.operate(wPolicy, user, \n",
    "                ExpOperation.read(\"retval\", Exp.build(Exp.deviceSize()), ExpReadFlags.DEFAULT),\n",
    "                Operation.put(bProfileId),\n",
    "                Operation.put(bName),\n",
    "                Operation.put(bZip)\n",
    "                //ExpOperation.write(\"ProfileId\", Exp.build(Exp.val(0)), ExpWriteFlags.DEFAULT),\n",
    "                //ExpOperation.read(\"retvalafter\", Exp.build(Exp.deviceSize()), ExpReadFlags.DEFAULT)    \n",
    "             ) ; \n",
    "\n",
    "System.out.println(rec.getValue(\"retval\"));\n",
    "//System.out.println(rec.getValue(\"retvalafter\"));\n",
    "\n",
    "\n",
    "//client.put(wPolicy1, user, bProfileId, bName, bZip);\n",
    "     \n",
    "//List<?> retList = (ArrayList<?>)rec.getList();\n",
    "//System.out.println(\"\\nExists\"+ retList.get(0));\n",
    "//System.out.println(\"\\nPut\"+ retList.get(1));\n",
    "    \n",
    "System.out.println(client.get(null, user));\n",
    "    "
   ]
  },
  {
   "cell_type": "code",
   "execution_count": 40,
   "id": "e4848352",
   "metadata": {},
   "outputs": [
    {
     "data": {
      "text/plain": [
       "true"
      ]
     },
     "execution_count": 40,
     "metadata": {},
     "output_type": "execute_result"
    }
   ],
   "source": [
    "client.delete(wPolicy, user);"
   ]
  },
  {
   "cell_type": "code",
   "execution_count": 36,
   "id": "f7d1f0ab",
   "metadata": {},
   "outputs": [
    {
     "data": {
      "text/plain": [
       "(gen:4),(exp:431243964),(bins:(ProfileId:2),(Name:me),(Zip:94506))"
      ]
     },
     "execution_count": 36,
     "metadata": {},
     "output_type": "execute_result"
    }
   ],
   "source": [
    "client.get(null,user);"
   ]
  },
  {
   "cell_type": "code",
   "execution_count": 37,
   "id": "3d748da7",
   "metadata": {},
   "outputs": [],
   "source": [
    "%sh aql -c \"truncate test\" -h \"localhost\" -p 3000"
   ]
  },
  {
   "cell_type": "code",
   "execution_count": null,
   "id": "885733f2",
   "metadata": {},
   "outputs": [],
   "source": [
    "userProfile pf = new userProfile();\n",
    "pf.createProfile(\"test\", \"testset\", 0,\"Test\", 94506, true);"
   ]
  },
  {
   "cell_type": "code",
   "execution_count": null,
   "id": "19577f65",
   "metadata": {},
   "outputs": [],
   "source": [
    "userProfile pf = new userProfile();\n",
    "pf.createProfile(\"test\", \"testset\", 4,\"Test\", 94506, false);"
   ]
  },
  {
   "cell_type": "code",
   "execution_count": null,
   "id": "ad59ebb8",
   "metadata": {},
   "outputs": [],
   "source": [
    "Key user4 = new Key(\"test\", \"testset\", 4); \n",
    "System.out.println(client.get(null, user4));"
   ]
  },
  {
   "cell_type": "code",
   "execution_count": null,
   "id": "dd9dd408",
   "metadata": {},
   "outputs": [],
   "source": [
    "class Truncate {\n",
    "  public void truncate(String ns, String setName, int sinceUpdate_ms) {\n",
    "    WritePolicy wPolicy = new WritePolicy();\n",
    "    if(sinceUpdate_ms > 0){\n",
    "      //Add \"Since Last Update Time\" based Expression Filter\n",
    "      wPolicy.filterExp = Exp.build(Exp.gt(Exp.sinceUpdate(), Exp.val(sinceUpdate_ms)));\n",
    "    }\n",
    "    \n",
    "    Operation[] ops = new Operation[] {\n",
    "      Operation.delete()\n",
    "    };\n",
    "    Statement stmt = new Statement();\n",
    "    stmt.setNamespace(ns);\n",
    "    if(setName != null){\n",
    "      stmt.setSetName(setName);\n",
    "    }\n",
    "    stmt.setOperations(ops);\n",
    "    client.execute(wPolicy, stmt);\n",
    "  }\n",
    "}"
   ]
  },
  {
   "cell_type": "code",
   "execution_count": null,
   "id": "b3b08e55",
   "metadata": {},
   "outputs": [],
   "source": [
    "Truncate tr = new Truncate();\n",
    "tr.truncate(\"test\", \"testset\", 0);"
   ]
  },
  {
   "cell_type": "code",
   "execution_count": null,
   "id": "2715a035",
   "metadata": {},
   "outputs": [],
   "source": [
    "System.out.println(client.get(null, user4));"
   ]
  },
  {
   "cell_type": "code",
   "execution_count": null,
   "id": "c936afad",
   "metadata": {},
   "outputs": [],
   "source": [
    "pf.createProfile(\"test\", \"testset1\", 1,\"Test\", 94506, false);\n",
    "pf.createProfile(\"test\", \"testset2\", 2,\"Test\", 94506, false);\n",
    "pf.createProfile(\"test\", \"testset3\", 3,\"Test\", 94506, false);\n"
   ]
  },
  {
   "cell_type": "code",
   "execution_count": null,
   "id": "82266c46",
   "metadata": {},
   "outputs": [],
   "source": [
    "Key user1 = new Key(\"test\", \"testset1\", 1); \n",
    "Key user2 = new Key(\"test\", \"testset2\", 2); \n",
    "Key user3 = new Key(\"test\", \"testset3\", 3);\n",
    "\n",
    "System.out.println(client.get(null, user1));\n",
    "System.out.println(client.get(null, user2));\n",
    "System.out.println(client.get(null, user3));"
   ]
  },
  {
   "cell_type": "code",
   "execution_count": null,
   "id": "b9ea9e1f",
   "metadata": {},
   "outputs": [],
   "source": [
    "Truncate tr = new Truncate();\n",
    "tr.truncate(\"test\", null, 10000);   \n",
    "//Re-run afer 10 seconds to test ... should truncate only 10 seconds after creation."
   ]
  },
  {
   "cell_type": "code",
   "execution_count": null,
   "id": "92cf730d",
   "metadata": {},
   "outputs": [],
   "source": [
    "System.out.println(client.get(null, user1));\n",
    "System.out.println(client.get(null, user2));\n",
    "System.out.println(client.get(null, user3));"
   ]
  },
  {
   "cell_type": "code",
   "execution_count": null,
   "id": "dce9bea5",
   "metadata": {},
   "outputs": [],
   "source": []
  }
 ],
 "metadata": {
  "kernelspec": {
   "display_name": "Java",
   "language": "java",
   "name": "java"
  },
  "language_info": {
   "codemirror_mode": "java",
   "file_extension": ".jshell",
   "mimetype": "text/x-java-source",
   "name": "Java",
   "pygments_lexer": "java",
   "version": "11.0.8+10-LTS"
  },
  "toc": {
   "base_numbering": 1,
   "nav_menu": {},
   "number_sections": true,
   "sideBar": true,
   "skip_h1_title": false,
   "title_cell": "Table of Contents",
   "title_sidebar": "Contents",
   "toc_cell": false,
   "toc_position": {},
   "toc_section_display": true,
   "toc_window_display": false
  }
 },
 "nbformat": 4,
 "nbformat_minor": 5
}
