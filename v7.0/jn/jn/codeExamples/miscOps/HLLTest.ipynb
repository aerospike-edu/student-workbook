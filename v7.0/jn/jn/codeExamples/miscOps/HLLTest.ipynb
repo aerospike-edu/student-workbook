{
 "cells": [
  {
   "cell_type": "markdown",
   "id": "9037147c",
   "metadata": {},
   "source": [
    "# WritePolicy Examples"
   ]
  },
  {
   "cell_type": "markdown",
   "id": "e28e6bcc",
   "metadata": {},
   "source": [
    "# Import to run %sh magic cell"
   ]
  },
  {
   "cell_type": "code",
   "execution_count": 164,
   "id": "b74ed7d1",
   "metadata": {},
   "outputs": [],
   "source": [
    "import io.github.spencerpark.ijava.IJava;\n",
    "import io.github.spencerpark.jupyter.kernel.magic.common.Shell;\n",
    "IJava.getKernelInstance().getMagics().registerMagics(Shell.class);"
   ]
  },
  {
   "cell_type": "markdown",
   "id": "31b0ddb3",
   "metadata": {},
   "source": [
    "# Add Java Client POM Dependency"
   ]
  },
  {
   "cell_type": "code",
   "execution_count": 165,
   "id": "b6447add",
   "metadata": {},
   "outputs": [],
   "source": [
    "%%loadFromPOM\n",
    "<dependencies>\n",
    "  <dependency>\n",
    "    <groupId>com.aerospike</groupId>\n",
    "    <artifactId>aerospike-client</artifactId>\n",
    "    <version>6.0.0</version>\n",
    "  </dependency>\n",
    "</dependencies>"
   ]
  },
  {
   "cell_type": "markdown",
   "id": "83cebb5f",
   "metadata": {},
   "source": [
    "# Add required Imports"
   ]
  },
  {
   "cell_type": "code",
   "execution_count": 166,
   "id": "946d225a",
   "metadata": {},
   "outputs": [
    {
     "name": "stdout",
     "output_type": "stream",
     "text": [
      "Client modules imported.\n"
     ]
    }
   ],
   "source": [
    "import com.aerospike.client.AerospikeClient;\n",
    "import com.aerospike.client.policy.WritePolicy;\n",
    "import com.aerospike.client.Bin;\n",
    "import com.aerospike.client.Key;\n",
    "import com.aerospike.client.Record;\n",
    "import com.aerospike.client.Value;\n",
    "import com.aerospike.client.policy.RecordExistsAction;\n",
    "import com.aerospike.client.AerospikeException;\n",
    "import com.aerospike.client.ResultCode;\n",
    "import com.aerospike.client.Operation;\n",
    "System.out.println(\"Client modules imported.\");"
   ]
  },
  {
   "cell_type": "code",
   "execution_count": 167,
   "id": "deca2f79",
   "metadata": {},
   "outputs": [],
   "source": [
    "%sh aql -c \"truncate test\" -h \"3.235.121.162\""
   ]
  },
  {
   "cell_type": "markdown",
   "id": "0362ad57",
   "metadata": {},
   "source": [
    "# Generate Test Data"
   ]
  },
  {
   "cell_type": "code",
   "execution_count": 168,
   "id": "0f6baac9",
   "metadata": {},
   "outputs": [],
   "source": [
    "// Java imports required for HLL Data Type\n",
    "import com.aerospike.client.operation.HLLOperation;\n",
    "import com.aerospike.client.operation.HLLPolicy;\n",
    "\n",
    "// Setup a record to accumulate HLL entries\n",
    "final Key k_hll = new Key(\"test\", null, \"hllKey1\");\n",
    "final String hllBin1 = \"hllBin1\";\n",
    "int indexBits = 16;\n",
    "int minHashBits = 34;\n",
    "\n",
    "//All HLL operations are through operate()\n",
    "Operation[] ops1c = new Operation[] {\n",
    "  HLLOperation.init(HLLPolicy.Default, hllBin1, indexBits, minHashBits)\n",
    "  //Initialize the HLL bin, we will add tweet elements as we scan.\n",
    "};\n",
    "\n",
    "Record rec = client.operate(null, k_hll, ops1c);\n"
   ]
  },
  {
   "cell_type": "code",
   "execution_count": 169,
   "id": "1950fe11",
   "metadata": {},
   "outputs": [
    {
     "name": "stdout",
     "output_type": "stream",
     "text": [
      "Cardinality of hllBin1 = 6286805\n",
      "\n"
     ]
    }
   ],
   "source": [
    "List<Value> lData1 = new ArrayList<Value>();\n",
    "for(int j=0; j<612; j++){\n",
    "  for(int i=0;i<10240; i++){\n",
    "    lData1.add(Value.get(\"america\"+i+\"british\"+j));\n",
    "   } \n",
    "\n",
    "Operation[] ops2c = new Operation[] {\n",
    "      //can add init() here also, it is only executed once, initially\n",
    "      HLLOperation.add(HLLPolicy.Default, hllBin1, lData1),\n",
    "      HLLOperation.refreshCount(hllBin1)  //See next slide on refreshCount()\n",
    "\n",
    "    };\n",
    "    \n",
    "Record rec = client.operate(null, k_hll, ops2c);\n",
    "lData1.clear();\n",
    "}\n",
    "Operation[] ops2d = new Operation[] { HLLOperation.getCount(hllBin1) };\n",
    "\n",
    "rec = client.operate(null, k_hll, ops2d);\n",
    "long c_hllBin1 = rec.getLong(hllBin1);\n",
    "\n",
    "System.out.println(\"Cardinality of hllBin1 = \"+ c_hllBin1+ \"\\n\");\n"
   ]
  },
  {
   "cell_type": "code",
   "execution_count": 170,
   "id": "614b4ac8",
   "metadata": {},
   "outputs": [
    {
     "name": "stdout",
     "output_type": "stream",
     "text": [
      "Cardinality of hllBin1 = 7097755\n",
      "\n"
     ]
    }
   ],
   "source": [
    "lData1.clear();\n",
    "for(int j=0; j<81; j++){\n",
    "  for(int i=0;i<10240; i++){\n",
    "    lData1.add(Value.get(\"denmark\"+i+\"europe\"+j));\n",
    "   } \n",
    "\n",
    "Operation[] ops2e = new Operation[] {\n",
    "      //can add init() here also, it is only executed once, initially\n",
    "      HLLOperation.add(HLLPolicy.Default, hllBin1, lData1),\n",
    "      HLLOperation.refreshCount(hllBin1)  //See next slide on refreshCount()\n",
    "\n",
    "    };\n",
    "    \n",
    "Record rec = client.operate(null, k_hll, ops2e);\n",
    "lData1.clear();\n",
    "}\n",
    "Operation[] ops2f = new Operation[] { HLLOperation.getCount(hllBin1) };\n",
    "\n",
    "rec = client.operate(null, k_hll, ops2f);\n",
    "long c_hllBin1 = rec.getLong(hllBin1);\n",
    "\n",
    "System.out.println(\"Cardinality of hllBin1 = \"+ c_hllBin1+ \"\\n\");\n"
   ]
  },
  {
   "cell_type": "code",
   "execution_count": 171,
   "id": "d8246fc6",
   "metadata": {},
   "outputs": [],
   "source": [
    "// Setup a record to accumulate HLL entries\n",
    "final Key k_hll2 = new Key(\"test\", null, \"hllKey2\");\n",
    "final String hllBin2 = \"hllBin2\";\n",
    "//int indexBits = 16;\n",
    "//int minHashBits = 16;\n",
    "\n",
    "//All HLL operations are through operate()\n",
    "Operation[] ops3a = new Operation[] {\n",
    "  HLLOperation.init(HLLPolicy.Default, hllBin2, indexBits, minHashBits)\n",
    "  //Initialize the HLL bin, we will add tweet elements as we scan.\n",
    "};\n",
    "\n",
    "Record rec = client.operate(null, k_hll2, ops3a);"
   ]
  },
  {
   "cell_type": "code",
   "execution_count": null,
   "id": "09f7e38f",
   "metadata": {},
   "outputs": [],
   "source": [
    "lData1.clear();\n",
    "for(int j=0; j<3399; j++){\n",
    "  for(int i=0;i<10240; i++){\n",
    "    lData1.add(Value.get(\"finland\"+i+\"gambia\"+j));\n",
    "   } \n",
    "\n",
    "Operation[] ops4a = new Operation[] {\n",
    "      //can add init() here also, it is only executed once, initially\n",
    "      HLLOperation.add(HLLPolicy.Default, hllBin2, lData1),\n",
    "      HLLOperation.refreshCount(hllBin2)  //See next slide on refreshCount()\n",
    "\n",
    "    };\n",
    "    \n",
    "Record rec = client.operate(null, k_hll2, ops4a);\n",
    "lData1.clear();\n",
    "}\n",
    "Operation[] ops5a = new Operation[] { HLLOperation.getCount(hllBin2) };\n",
    "\n",
    "rec = client.operate(null, k_hll2, ops5a);\n",
    "long c_hllBin2 = rec.getLong(hllBin2);\n",
    "\n",
    "System.out.println(\"Cardinality of hllBin2 = \"+ c_hllBin2+ \"\\n\");"
   ]
  },
  {
   "cell_type": "code",
   "execution_count": null,
   "id": "8df8b5c7",
   "metadata": {},
   "outputs": [],
   "source": [
    "lData1.clear();\n",
    "for(int j=0; j<81; j++){\n",
    "  for(int i=0;i<10240; i++){\n",
    "    lData1.add(Value.get(\"denmark\"+i+\"europe\"+j));\n",
    "   } \n",
    "\n",
    "Operation[] ops7a = new Operation[] {\n",
    "      //can add init() here also, it is only executed once, initially\n",
    "      HLLOperation.add(HLLPolicy.Default, hllBin2, lData1),\n",
    "      HLLOperation.refreshCount(hllBin2)  //See next slide on refreshCount()\n",
    "\n",
    "    };\n",
    "    \n",
    "Record rec = client.operate(null, k_hll2, ops7a);\n",
    "lData1.clear();\n",
    "}\n",
    "Operation[] ops8a = new Operation[] { HLLOperation.getCount(hllBin2) };\n",
    "\n",
    "rec = client.operate(null, k_hll2, ops8a);\n",
    "long c_hllBin2 = rec.getLong(hllBin2);\n",
    "\n",
    "System.out.println(\"Cardinality of hllBin2 = \"+ c_hllBin2+ \"\\n\");"
   ]
  },
  {
   "cell_type": "code",
   "execution_count": null,
   "id": "74b2beed",
   "metadata": {},
   "outputs": [],
   "source": [
    "rec = client.get(null, k_hll, hllBin1);\n",
    "final Value.HLLValue hllBin1val = rec.getHLLValue(hllBin1);\n",
    "List<Value.HLLValue> hllList_hllBin1val = new ArrayList<Value.HLLValue>(){{ add(hllBin1val); }};\n",
    "\n",
    "Operation[] ops9a = new Operation[] { \n",
    "  HLLOperation.getIntersectCount(hllBin2, hllList_hllBin1val)\n",
    "};\n",
    "rec = client.operate(null, k_hll2, ops9a);\n",
    "long c_hllBin2 = rec.getLong(hllBin2);\n",
    "\n",
    "System.out.println(\"Cardinality of Intersection = \"+ c_hllBin2+ \"\\n\");\n",
    "\n"
   ]
  },
  {
   "cell_type": "code",
   "execution_count": null,
   "id": "8e9b3dbb",
   "metadata": {},
   "outputs": [],
   "source": []
  }
 ],
 "metadata": {
  "kernelspec": {
   "display_name": "Java",
   "language": "java",
   "name": "java"
  },
  "language_info": {
   "codemirror_mode": "java",
   "file_extension": ".jshell",
   "mimetype": "text/x-java-source",
   "name": "Java",
   "pygments_lexer": "java",
   "version": "11.0.16+8-LTS"
  }
 },
 "nbformat": 4,
 "nbformat_minor": 5
}
