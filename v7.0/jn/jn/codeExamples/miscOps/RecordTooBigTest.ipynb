{
 "cells": [
  {
   "cell_type": "markdown",
   "id": "28b3e822",
   "metadata": {},
   "source": [
    "### Housekeeping - Setup & wipe out any prior records on the Aerospike Server\n",
    "\n",
    "We have a namespace **_test_** pre-defined on the server. Lets truncate it using aql.\n",
    "\n",
    "This is needed while doing code development. If you want to clear the iJava Kernel of all Java objects and run all cells from scratch, Kernel->Restart & Run All, this will ensure any records written on the underlying Aerospike cluster are purged.\n",
    "\n",
    "First, we need required imports for using %sh in interactive Java Kernel. (This is specific to the iJava Kernel implementation by **Spencer Park** that we are using.)"
   ]
  },
  {
   "cell_type": "code",
   "execution_count": 1,
   "id": "eb85febe",
   "metadata": {},
   "outputs": [],
   "source": [
    "import io.github.spencerpark.ijava.IJava;\n",
    "import io.github.spencerpark.jupyter.kernel.magic.common.Shell;\n",
    "IJava.getKernelInstance().getMagics().registerMagics(Shell.class);"
   ]
  },
  {
   "cell_type": "markdown",
   "id": "1b305b92",
   "metadata": {},
   "source": [
    "### Runing aql in iJava\n",
    "We can run aql commands in a file. No output will be displayed. \n",
    "In _trucate_test.aql_, we have a single AQL command: TRUNCATE test\n",
    "\n"
   ]
  },
  {
   "cell_type": "code",
   "execution_count": 29,
   "id": "0f11685a",
   "metadata": {},
   "outputs": [],
   "source": [
    "%sh aql -c \"truncate test\" -h \"3.235.121.162\""
   ]
  },
  {
   "cell_type": "markdown",
   "id": "4b23c8bf",
   "metadata": {},
   "source": [
    "#### Add Java Client POM Dependency  \n",
    "Jupyter Notebook way!"
   ]
  },
  {
   "cell_type": "code",
   "execution_count": 30,
   "id": "c7d10ca8",
   "metadata": {},
   "outputs": [],
   "source": [
    "%%loadFromPOM\n",
    "<dependencies>\n",
    "  <dependency>\n",
    "    <groupId>com.aerospike</groupId>\n",
    "    <artifactId>aerospike-client</artifactId>\n",
    "    <version>6.0.0</version>\n",
    "  </dependency>\n",
    "</dependencies>"
   ]
  },
  {
   "cell_type": "markdown",
   "id": "e03decf9",
   "metadata": {},
   "source": [
    "####  Java Client Imports and Test code"
   ]
  },
  {
   "cell_type": "code",
   "execution_count": 41,
   "id": "b5ec301d",
   "metadata": {
    "scrolled": true
   },
   "outputs": [
    {
     "name": "stdout",
     "output_type": "stream",
     "text": [
      "Record: (gen:1),(exp:419962985),(bins:(bint:1),(bstr:test--test),(b2:-1234567),(big1:0123456789x----x0123456789x----x0123456789x----x0123456789x----x0123456789x----x0123456789x----x0123456789x----x),(big2:0123456789x----x0123456789x----x0123456789x----x0123456789x----x0123456789x----x0123456789x----x0123456789x----x),(big3:0123456789x----x0123456789x----x0123456789x----x0123456789x----x0123456789x----x0123456789x----x0123456789x----x),(big4:0123456789x----x0123456789x----x0123456789x----x0123456789x----x0123456789x----x0123456789x----x0123456789x----x),(big5:0123456789x----x0123456789x----x0123456789x----x0123456789x----x0123456789x----x0123456789x----x0123456789x----x),(big6:0123456789x----x0123456789x----x0123456789x----x0123456789x----x0123456789x----x0123456789x----x0123456789x----x),(big7:0123456789x----x0123456789x----x0123456789x----x0123456789x----x0123456789x----x0123456789x----x0123456789x----x),(big8:0123456789x----x0123456789x----x0123456789x----x0123456789x----x))\n",
      "Record Size in bytes: 1024\n",
      "Record: (gen:2),(exp:419962985),(bins:(bint:1),(bstr:test--test),(big8:0123456789x----x0123456789x----x0123456789x----x0123456789x----x),(big1:0123456789x----x0123456789x----x0123456789x----x0123456789x----x0123456789x----x0123456789x----x0123456789x----x),(big2:0123456789x----x0123456789x----x0123456789x----x0123456789x----x0123456789x----x0123456789x----x0123456789x----x),(big3:0123456789x----x0123456789x----x0123456789x----x0123456789x----x0123456789x----x0123456789x----x0123456789x----x),(big4:0123456789x----x0123456789x----x0123456789x----x0123456789x----x0123456789x----x0123456789x----x0123456789x----x),(big5:0123456789x----x0123456789x----x0123456789x----x0123456789x----x0123456789x----x0123456789x----x0123456789x----x),(big6:0123456789x----x0123456789x----x0123456789x----x0123456789x----x0123456789x----x0123456789x----x0123456789x----x),(big7:0123456789x----x0123456789x----x0123456789x----x0123456789x----x0123456789x----x0123456789x----x0123456789x----x),(b3:-1234567))\n",
      "Record Size in bytes after b2 is null: 1024\n"
     ]
    }
   ],
   "source": [
    "//Required Imports\n",
    "import com.aerospike.client.AerospikeClient;\n",
    "import com.aerospike.client.policy.WritePolicy;\n",
    "import com.aerospike.client.Bin;\n",
    "import com.aerospike.client.Key;\n",
    "import com.aerospike.client.Record;\n",
    "import com.aerospike.client.Value;\n",
    "import com.aerospike.client.Operation;\n",
    "import com.aerospike.client.exp.Exp;\n",
    "import com.aerospike.client.exp.ExpOperation;\n",
    "import com.aerospike.client.exp.ExpReadFlags;\n",
    "import com.aerospike.client.exp.Expression;\n",
    "import com.aerospike.client.cdt.ListOperation;\n",
    "import com.aerospike.client.exp.ListExp;\n",
    "\n",
    "import com.aerospike.client.AerospikeException;\n",
    "import com.aerospike.client.ResultCode;\n",
    "\n",
    "import java.util.Random;\n",
    "\n",
    "//Write block size is configured at 1K\n",
    "AerospikeClient client = new AerospikeClient(\"3.235.121.162\", 3000);\n",
    "Key key = new Key(\"test\", \"testset\", \"key1\");\n",
    "WritePolicy wPolicy = new WritePolicy();\n",
    "Bin bint = new Bin(\"bint\", Value.get(1)); //int bin\n",
    "Bin bstr = new Bin(\"bstr\", Value.get(\"test--test\")); //string bin\n",
    "Bin bstr2 = new Bin(\"b2\", Value.get(\"-1234567\"));\n",
    "Bin bstr3 = new Bin(\"b3\", Value.get(\"-1234567\"));  //will go to 1024\n",
    "//Bin bstr3 = new Bin(\"b3\", Value.get(\"-1234567\")); //will push to record-too-big\n",
    "Bin big1 = new Bin(\"big1\", Value.get(\"0123456789x----x0123456789x----x0123456789x----x0123456789x----x0123456789x----x0123456789x----x0123456789x----x\"));\n",
    "Bin big2 = new Bin(\"big2\", Value.get(\"0123456789x----x0123456789x----x0123456789x----x0123456789x----x0123456789x----x0123456789x----x0123456789x----x\"));\n",
    "Bin big3 = new Bin(\"big3\", Value.get(\"0123456789x----x0123456789x----x0123456789x----x0123456789x----x0123456789x----x0123456789x----x0123456789x----x\"));\n",
    "Bin big4 = new Bin(\"big4\", Value.get(\"0123456789x----x0123456789x----x0123456789x----x0123456789x----x0123456789x----x0123456789x----x0123456789x----x\"));\n",
    "Bin big5 = new Bin(\"big5\", Value.get(\"0123456789x----x0123456789x----x0123456789x----x0123456789x----x0123456789x----x0123456789x----x0123456789x----x\"));\n",
    "Bin big6 = new Bin(\"big6\", Value.get(\"0123456789x----x0123456789x----x0123456789x----x0123456789x----x0123456789x----x0123456789x----x0123456789x----x\"));\n",
    "Bin big7 = new Bin(\"big7\", Value.get(\"0123456789x----x0123456789x----x0123456789x----x0123456789x----x0123456789x----x0123456789x----x0123456789x----x\"));\n",
    "Bin big8 = new Bin(\"big8\", Value.get(\"0123456789x----x0123456789x----x0123456789x----x0123456789x----x\"));\n",
    "\n",
    "\n",
    "client.delete(null,key);\n",
    "client.put(wPolicy, key, bint, bstr, bstr2, big1, big2, big3, big4, big5, big6, big7, big8);\n",
    "System.out.println(\"Record: \"+ client.get(null, key)); //check record got inserted\n",
    "\n",
    "//Using expressions to read record metadata in PI that has size of record on device\n",
    "Expression recSizeExp = Exp.build(Exp.deviceSize());\n",
    "Record record = client.operate( wPolicy, key,   \n",
    "          ExpOperation.read(\"size\", recSizeExp, ExpReadFlags.DEFAULT) \n",
    "         );\n",
    "System.out.println(\"Record Size in bytes: \" + record.getValue(\"size\"));\n",
    "\n",
    "// 35 + 4 (has ttl) + 1 + 7 (testset) + 1 + [(1+4)+(2+4)] + [(1+4)+(5+11)] + [1+2+5+9] = 89 --> 96\n",
    "\n",
    "client.operate(wPolicy, key, Operation.put(Bin.asNull(\"b2\")), Operation.put(bstr3));\n",
    "System.out.println(\"Record: \"+ client.get(null, key)); //check record got inserted\n",
    "record = client.operate( wPolicy, key,   \n",
    "          ExpOperation.read(\"size\", recSizeExp, ExpReadFlags.DEFAULT) \n",
    "         );\n",
    "System.out.println(\"Record Size in bytes after b2 is null: \" + record.getValue(\"size\"));\n"
   ]
  },
  {
   "cell_type": "markdown",
   "id": "438d9e6e",
   "metadata": {},
   "source": [
    "### Not a Bug\n",
    "Just insert this one record. However start by shutting down the node, wiping the node data file and restart before running the test.  This will reset the moving average device compression ratio. Otherwise prior test updates may give erroneous compression_ratio number.\n",
    "\n",
    "Use asadm to see device compression ratio.  \n",
    "The original string with all 1's was extremely compressible. The new string created above with random numbers is down to 36% compressible. (Device compression ratio = compressed_size/original_size = 36%.)\n",
    "\n",
    "```\n",
    "Admin+> asinfo -v 'namespace/test' like compression_ratio\n",
    "ec2-44-200-159-121.compute-1.amazonaws.com:3000 (44.200.159.121) returned:\n",
    "device_compression_ratio=0.357; ...\n",
    "```\n",
    "\n",
    "and 334,112 bytes was the record size before we hit _Record Too Big_. \n",
    "\n",
    "```\n",
    "334112/.357 = ~ 935,887 ....next append made it went over > 1MB.\n",
    "```"
   ]
  },
  {
   "cell_type": "code",
   "execution_count": null,
   "id": "b76f40a1",
   "metadata": {},
   "outputs": [],
   "source": []
  },
  {
   "cell_type": "code",
   "execution_count": null,
   "id": "2423a55b",
   "metadata": {},
   "outputs": [],
   "source": []
  }
 ],
 "metadata": {
  "kernelspec": {
   "display_name": "Java",
   "language": "java",
   "name": "java"
  },
  "language_info": {
   "codemirror_mode": "java",
   "file_extension": ".jshell",
   "mimetype": "text/x-java-source",
   "name": "Java",
   "pygments_lexer": "java",
   "version": "11.0.16+8-LTS"
  }
 },
 "nbformat": 4,
 "nbformat_minor": 5
}
