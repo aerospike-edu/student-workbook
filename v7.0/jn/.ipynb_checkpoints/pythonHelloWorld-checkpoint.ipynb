{
 "cells": [
  {
   "cell_type": "code",
   "execution_count": 12,
   "id": "27fe481a",
   "metadata": {},
   "outputs": [
    {
     "name": "stdout",
     "output_type": "stream",
     "text": [
      "hello Worldly people\n"
     ]
    }
   ],
   "source": [
    "print(\"hello Worldly people\")\n"
   ]
  },
  {
   "cell_type": "code",
   "execution_count": 9,
   "id": "7291a4ba",
   "metadata": {},
   "outputs": [
    {
     "name": "stdout",
     "output_type": "stream",
     "text": [
      "Seed:         127.0.0.1\n",
      "User:         None\n",
      "Config File:  /etc/aerospike/astools.conf /home/training/.aerospike/astools.conf \n",
      "Aerospike Query Client\n",
      "Version 6.1.0\n",
      "Copyright 2012-2021 Aerospike. All rights reserved.\n",
      "aql> select * from test.testset\n",
      "0 rows in set (0.060 secs)\n",
      "\n",
      "OK\n",
      "\n",
      "aql> exit\n",
      "\n"
     ]
    },
    {
     "name": "stderr",
     "output_type": "stream",
     "text": [
      "C Client Version 5.2.3\n"
     ]
    }
   ],
   "source": [
    "%%sh\n",
    "aql \n",
    "select * from test.testset\n",
    "exit"
   ]
  },
  {
   "cell_type": "code",
   "execution_count": 13,
   "id": "2a2a4e3b",
   "metadata": {},
   "outputs": [
    {
     "name": "stdout",
     "output_type": "stream",
     "text": [
      "red apple\n",
      "red banana\n",
      "red cherry\n",
      "big apple\n",
      "big banana\n",
      "big cherry\n",
      "tasty apple\n",
      "tasty banana\n",
      "tasty cherry\n"
     ]
    }
   ],
   "source": [
    "adj = [\"red\", \"big\", \"tasty\"]\n",
    "fruits = [\"apple\", \"banana\", \"cherry\"]\n",
    "\n",
    "for x in adj:\n",
    "  for y in fruits:\n",
    "    print(x, y)"
   ]
  },
  {
   "cell_type": "markdown",
   "id": "64d55900",
   "metadata": {},
   "source": [
    "# Python \n",
    "- for syntax"
   ]
  },
  {
   "cell_type": "code",
   "execution_count": 14,
   "id": "2333f93e",
   "metadata": {},
   "outputs": [
    {
     "name": "stdout",
     "output_type": "stream",
     "text": [
      "5\n",
      "6\n",
      "7\n",
      "8\n",
      "9\n",
      "10\n"
     ]
    }
   ],
   "source": [
    "for x in range(6):\n",
    "    y = x + 5\n",
    "    print(y)"
   ]
  },
  {
   "cell_type": "code",
   "execution_count": 15,
   "id": "15f73be3",
   "metadata": {},
   "outputs": [
    {
     "data": {
      "text/plain": [
       "'/home/training/student-workbook/spike-a-thon'"
      ]
     },
     "execution_count": 15,
     "metadata": {},
     "output_type": "execute_result"
    }
   ],
   "source": [
    "%pwd"
   ]
  },
  {
   "cell_type": "code",
   "execution_count": 10,
   "id": "aee5951b",
   "metadata": {},
   "outputs": [
    {
     "name": "stdout",
     "output_type": "stream",
     "text": [
      "INSERT INTO test.testset (PK, name, age) VALUES ('key1', 'Jack', 26)\n",
      "OK, 1 record affected.\n",
      "\n",
      "INSERT INTO test.testset (PK, name, age) VALUES ('key2', 'Jill', 20)\n",
      "OK, 1 record affected.\n",
      "\n",
      "INSERT INTO test.testset (PK, name, age) VALUES ('key3', 'James', 38)\n",
      "OK, 1 record affected.\n",
      "\n",
      "INSERT INTO test.testset (PK, name, age) VALUES ('key4', 'Jim', 46)\n",
      "OK, 1 record affected.\n",
      "\n",
      "INSERT INTO test.testset (PK, name, age) VALUES ('key5', 'Julia', 62)\n",
      "OK, 1 record affected.\n",
      "\n",
      "INSERT INTO test.testset (PK, name, age) VALUES ('key6', 'Sally', 32)\n",
      "OK, 1 record affected.\n",
      "\n",
      "INSERT INTO test.testset (PK, name, age) VALUES ('key7', 'Sean', 24)\n",
      "OK, 1 record affected.\n",
      "\n",
      "INSERT INTO test.testset (PK, name, age) VALUES ('key8', 'Sam', 12)\n",
      "OK, 1 record affected.\n",
      "\n",
      "INSERT INTO test.testset (PK, name, age) VALUES ('key9', 'Susan', 42)\n",
      "OK, 1 record affected.\n",
      "\n",
      "INSERT INTO test.testset (PK, name, age) VALUES ('key0', 'Sandra', 34)\n",
      "OK, 1 record affected.\n",
      "\n",
      "\n"
     ]
    }
   ],
   "source": [
    "%%sh\n",
    "aql -f \"insert.aql\""
   ]
  },
  {
   "cell_type": "code",
   "execution_count": 8,
   "id": "f0007c1b",
   "metadata": {},
   "outputs": [
    {
     "name": "stdout",
     "output_type": "stream",
     "text": [
      "Seed:         127.0.0.1\n",
      "User:         None\n",
      "Config File:  /etc/aerospike/astools.conf /home/training/.aerospike/astools.conf \n",
      "Aerospike Query Client\n",
      "Version 6.1.0\n",
      "Copyright 2012-2021 Aerospike. All rights reserved.\n",
      "aql> select * from test.testset\n",
      "0 rows in set (0.062 secs)\n",
      "\n",
      "OK\n",
      "\n",
      "aql> exit\n",
      "\n"
     ]
    },
    {
     "name": "stderr",
     "output_type": "stream",
     "text": [
      "C Client Version 5.2.3\n"
     ]
    }
   ],
   "source": [
    "%%sh\n",
    "aql\n",
    "select * from test.testset\n",
    "exit"
   ]
  },
  {
   "cell_type": "code",
   "execution_count": 18,
   "id": "2b0c18ff",
   "metadata": {},
   "outputs": [
    {
     "name": "stdout",
     "output_type": "stream",
     "text": [
      "DELETE FROM test.testset WHERE PK =  'key1'\n",
      "OK, 1 record affected.\n",
      "\n",
      "DELETE FROM test.testset WHERE PK =  'key2'\n",
      "OK, 1 record affected.\n",
      "\n",
      "DELETE FROM test.testset WHERE PK =  'key3'\n",
      "OK, 1 record affected.\n",
      "\n",
      "DELETE FROM test.testset WHERE PK =  'key4'\n",
      "OK, 1 record affected.\n",
      "\n",
      "DELETE FROM test.testset WHERE PK =  'key5'\n",
      "OK, 1 record affected.\n",
      "\n",
      "DELETE FROM test.testset WHERE PK =  'key6'\n",
      "OK, 1 record affected.\n",
      "\n",
      "DELETE FROM test.testset WHERE PK =  'key7'\n",
      "OK, 1 record affected.\n",
      "\n",
      "DELETE FROM test.testset WHERE PK =  'key8'\n",
      "OK, 1 record affected.\n",
      "\n",
      "DELETE FROM test.testset WHERE PK =  'key9'\n",
      "OK, 1 record affected.\n",
      "\n",
      "DELETE FROM test.testset WHERE PK =  'key0'\n",
      "OK, 1 record affected.\n",
      "\n",
      "\n"
     ]
    }
   ],
   "source": [
    "%%sh\n",
    "aql -f \"delete.aql\""
   ]
  },
  {
   "cell_type": "code",
   "execution_count": 19,
   "id": "1e745043",
   "metadata": {},
   "outputs": [
    {
     "name": "stdout",
     "output_type": "stream",
     "text": [
      "Seed:         127.0.0.1\n",
      "User:         None\n",
      "Config File:  /etc/aerospike/astools.conf /home/training/.aerospike/astools.conf \n",
      "Aerospike Query Client\n",
      "Version 6.1.0\n",
      "Copyright 2012-2021 Aerospike. All rights reserved.\n",
      "aql> select * from test.testset\n",
      "0 rows in set (0.062 secs)\n",
      "\n",
      "OK\n",
      "\n",
      "aql> exit\n",
      "\n"
     ]
    },
    {
     "name": "stderr",
     "output_type": "stream",
     "text": [
      "C Client Version 5.2.3\n"
     ]
    }
   ],
   "source": [
    "%%sh\n",
    "aql\n",
    "select * from test.testset\n",
    "exit"
   ]
  }
 ],
 "metadata": {
  "kernelspec": {
   "display_name": "Python 3 (ipykernel)",
   "language": "python",
   "name": "python3"
  },
  "language_info": {
   "codemirror_mode": {
    "name": "ipython",
    "version": 3
   },
   "file_extension": ".py",
   "mimetype": "text/x-python",
   "name": "python",
   "nbconvert_exporter": "python",
   "pygments_lexer": "ipython3",
   "version": "3.7.10"
  }
 },
 "nbformat": 4,
 "nbformat_minor": 5
}
