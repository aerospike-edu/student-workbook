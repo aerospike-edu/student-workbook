{
 "cells": [
  {
   "cell_type": "markdown",
   "id": "17103708-5792-4a7c-8cc1-8344e1037aed",
   "metadata": {},
   "source": [
    "### Housekeeping - Setup & wipe out any prior records on the Aerospike Server\n",
    "\n",
    "We have a namespace **_test_** pre-defined on the server. Lets truncate it using _asadm_.\n",
    "\n",
    "This is needed while doing code development. If you want to clear the iJava Kernel of all Java objects and run all cells from scratch, Kernel->Restart & Run All, this will ensure any records written on the underlying Aerospike cluster are purged.\n",
    "\n",
    "First, we need required imports for using %sh in interactive Java Kernel. (This is specific to the iJava Kernel implementation by **Spencer Park** that we are using.)\n"
   ]
  },
  {
   "cell_type": "markdown",
   "id": "9037147c",
   "metadata": {},
   "source": [
    "# Import to run %sh magic cell"
   ]
  },
  {
   "cell_type": "code",
   "execution_count": 1,
   "id": "b74ed7d1",
   "metadata": {},
   "outputs": [],
   "source": [
    "import io.github.spencerpark.ijava.IJava;\n",
    "import io.github.spencerpark.jupyter.kernel.magic.common.Shell;\n",
    "IJava.getKernelInstance().getMagics().registerMagics(Shell.class);"
   ]
  },
  {
   "cell_type": "markdown",
   "id": "7ac5ea07-251f-4146-b894-553bdd09ccd8",
   "metadata": {},
   "source": [
    "### Running _asadm_ in iJava\n",
    "We can run _asadm_ commands inline. Below, we will use the truncation command, which normally requires an interactive confirmation, which we will skip by using the _--no-warn_ flag. No output will be displayed.\n"
   ]
  },
  {
   "cell_type": "code",
   "execution_count": 77,
   "id": "582414cf-1972-4021-8834-c71c381ea0c8",
   "metadata": {},
   "outputs": [],
   "source": [
    "%sh asadm --enable -e \"manage truncate ns test --no-warn\" -h \"127.0.0.1\""
   ]
  },
  {
   "cell_type": "markdown",
   "id": "f29906d2-5c4b-4aab-95cb-a8f8cd22a433",
   "metadata": {},
   "source": [
    "### Displaying shell command output:\n",
    "**Note**: Will not display _asadm_ or _aql_ executables output."
   ]
  },
  {
   "cell_type": "code",
   "execution_count": 33,
   "id": "d1e5911d",
   "metadata": {},
   "outputs": [
    {
     "name": "stdout",
     "output_type": "stream",
     "text": [
      "/home/training/student-workbook/v7.0/jn/codeExamples\n"
     ]
    }
   ],
   "source": [
    "String command = \"pwd\";\n",
    " \n",
    "try {\n",
    "    Process process = Runtime.getRuntime().exec(command);\n",
    " \n",
    "    BufferedReader reader = new BufferedReader(\n",
    "            new InputStreamReader(process.getInputStream()));\n",
    "    String line;\n",
    "    while ((line = reader.readLine()) != null) {\n",
    "        System.out.println(line);\n",
    "    }\n",
    " \n",
    "    reader.close();\n",
    " \n",
    "} catch (IOException e) {\n",
    "    e.printStackTrace();\n",
    "}"
   ]
  },
  {
   "cell_type": "markdown",
   "id": "31b0ddb3",
   "metadata": {},
   "source": [
    "# Add Java Client POM Dependency"
   ]
  },
  {
   "cell_type": "code",
   "execution_count": 3,
   "id": "b6447add",
   "metadata": {},
   "outputs": [],
   "source": [
    "%%loadFromPOM\n",
    "<dependencies>\n",
    "  <dependency>\n",
    "    <groupId>com.aerospike</groupId>\n",
    "    <artifactId>aerospike-client-jdk8</artifactId>\n",
    "    <version>8.1.1</version>\n",
    "  </dependency>\n",
    "</dependencies>"
   ]
  },
  {
   "cell_type": "markdown",
   "id": "83cebb5f",
   "metadata": {},
   "source": [
    "# Add required Imports"
   ]
  },
  {
   "cell_type": "code",
   "execution_count": 4,
   "id": "946d225a",
   "metadata": {},
   "outputs": [
    {
     "name": "stdout",
     "output_type": "stream",
     "text": [
      "Client modules imported.\n"
     ]
    }
   ],
   "source": [
    "import com.aerospike.client.AerospikeClient;\n",
    "import com.aerospike.client.policy.WritePolicy;\n",
    "import com.aerospike.client.Bin;\n",
    "import com.aerospike.client.Key;\n",
    "import com.aerospike.client.Record;\n",
    "import com.aerospike.client.Value;\n",
    "System.out.println(\"Client modules imported.\");"
   ]
  },
  {
   "cell_type": "markdown",
   "id": "0362ad57",
   "metadata": {},
   "source": [
    "# Accessing a record on the Aerospike Server\n",
    "We build the Key object in Java\n",
    "We need the namespace and the record digest to find the record on the server.\n",
    "The record digest is computed by the client library using application provided key (integer, string or byte-array) and the set name. If not in a set, use null for set name.\n",
    "\n",
    "<img src=\"./graphics/RecordKey.png\"\n",
    "     alt=\"Record Digest\"\n",
    "     style=\"float: left; margin-right: 10px;\"\n",
    "     width=\"600\"\n",
    "     height=\"400\"/>"
   ]
  },
  {
   "cell_type": "markdown",
   "id": "865cf149",
   "metadata": {},
   "source": [
    "# Insert test records\n",
    "* Our one node server is already running on localhost (same server as the Jupyter Notebook server).\n",
    "* Unlike in iPython kernel for Jupyter Notebook, we can only execute a single line of shell command in IJava kernel."
   ]
  },
  {
   "cell_type": "code",
   "execution_count": 5,
   "id": "088c4f7b",
   "metadata": {},
   "outputs": [],
   "source": [
    "%sh aql -c \"set key_send true\""
   ]
  },
  {
   "cell_type": "code",
   "execution_count": 78,
   "id": "77107007",
   "metadata": {},
   "outputs": [],
   "source": [
    "%sh aql -f \"./aqlScripts/expTest.aql\""
   ]
  },
  {
   "cell_type": "code",
   "execution_count": 79,
   "id": "056a887a",
   "metadata": {},
   "outputs": [
    {
     "name": "stdout",
     "output_type": "stream",
     "text": [
      "Initialized the client and connected to the cluster.\n",
      "Working with record key:\n",
      "test:testset:key1:bf6c1d13e7cd10c5bd022d27e7df170c0bccd6e1\n",
      "Read back the record.\n",
      "Record values are:\n",
      "(gen:1),(exp:471331922),(bins:(a:1),(b:2),(c:[c3, c4]))\n"
     ]
    }
   ],
   "source": [
    "AerospikeClient client = new AerospikeClient(\"localhost\", 3000);\n",
    "System.out.println(\"Initialized the client and connected to the cluster.\");\n",
    "\n",
    "Key key = new Key(\"test\", \"testset\", \"key1\");\n",
    "System.out.println(\"Working with record key:\");\n",
    "System.out.println(key);\n",
    "\n",
    "Record record = client.get(null, key);\n",
    "System.out.println(\"Read back the record.\");\n",
    "\n",
    "System.out.println(\"Record values are:\");\n",
    "System.out.println(record);"
   ]
  },
  {
   "cell_type": "markdown",
   "id": "419f9f2e-fb4b-4efe-ac4d-bb3a16d39775",
   "metadata": {},
   "source": [
    "# Transaction Operations\n",
    "* Example record:\n",
    "  * record [ a: '1', b: '2', c: '[\"c3\", \"c4\"]']\n",
    " \n",
    "* transactionOperations [\n",
    "  * //operations that conditionally modify the record\n",
    "  * write(c, expression[ c contains \"c3\"] ? remove \"c3\": do_nothing)\n",
    "  * ...\n",
    "  * //operations to delete the record if b is nil and list c is empty or doesn’t exist\n",
    "  * write(a, expression[ b == nil && size c == 0] :  nil : do_nothing)\n",
    "  * write(c, expression[ b == nil && size c == 0] :  nil : do_nothing)\n"
   ]
  },
  {
   "cell_type": "code",
   "execution_count": 80,
   "id": "06c37be9-4ba6-4732-a575-8021db182cb2",
   "metadata": {},
   "outputs": [
    {
     "name": "stdout",
     "output_type": "stream",
     "text": [
      "Read back the starting record.\n",
      "(gen:1),(exp:471331922),(bins:(a:1),(b:2),(c:[c3, c4]))\n",
      "Read back the record after removing c3 from list.\n",
      "(gen:2),(exp:471331931),(bins:(a:1),(b:2),(c:[c4]))\n",
      "Run conditional delete, read back the record.\n",
      "(gen:3),(exp:471331931),(bins:(a:1),(b:2),(c:[c4]))\n",
      "Read back the record after removing c4 from list.\n",
      "(gen:4),(exp:471331931),(bins:(a:1),(b:2),(c:[]))\n",
      "Run conditional delete, read back the record.\n",
      "(gen:5),(exp:471331931),(bins:(a:1),(b:2),(c:[]))\n",
      "Read back the record after deleting bin b.\n",
      "(gen:6),(exp:471331931),(bins:(a:1),(c:[]))\n",
      "Run conditional delete, read back the record.\n",
      "null\n"
     ]
    }
   ],
   "source": [
    "//Needed imports\n",
    "import com.aerospike.client.exp.Exp;\n",
    "import com.aerospike.client.exp.Exp.Type;\n",
    "import com.aerospike.client.Operation;\n",
    "import com.aerospike.client.cdt.ListOperation;\n",
    "import com.aerospike.client.cdt.ListReturnType;\n",
    "import com.aerospike.client.exp.ListExp;\n",
    "import com.aerospike.client.exp.ExpOperation;\n",
    "import com.aerospike.client.exp.ExpWriteFlags;\n",
    "import com.aerospike.client.exp.Expression;\n",
    "\n",
    "//Record we are working on\n",
    "\n",
    "Key key = new Key(\"test\", \"testset\", \"key1\");\n",
    "\n",
    "WritePolicy wPolicy = new WritePolicy();\n",
    "\n",
    "record = client.get(null, key);\n",
    "System.out.println(\"Read back the starting record.\");\n",
    "System.out.println(record);\n",
    "\n",
    "//Remove c3 from list and check record\n",
    "String testVal = \"c3\";\n",
    "\n",
    "Exp expListIsEmpty = Exp.lt(ListExp.size(Exp.listBin(\"c\")), Exp.val(1));\n",
    "Expression expValListIsEmptyAndbisNil = Exp.build( \n",
    "    Exp.cond(\n",
    "       Exp.and(expListIsEmpty, Exp.not(Exp.binExists(\"b\"))), Exp.nil(), Exp.unknown()) );\n",
    "\n",
    "Record rec = client.operate( wPolicy, key,   \n",
    "          ListOperation.removeByValue(\"c\", Value.get(testVal), ListReturnType.NONE)                  \n",
    "         );\n",
    "\n",
    "record = client.get(null, key);\n",
    "System.out.println(\"Read back the record after removing c3 from list.\");\n",
    "System.out.println(record);\n",
    "\n",
    "// Run record deletion code, sets all bins to null, if conditions allow\n",
    "Record rec = client.operate( wPolicy, key,                     \n",
    "          ExpOperation.write(\"a\", expValListIsEmptyAndbisNil, ExpWriteFlags.ALLOW_DELETE|ExpWriteFlags.EVAL_NO_FAIL),\n",
    "          ExpOperation.write(\"b\", expValListIsEmptyAndbisNil, ExpWriteFlags.ALLOW_DELETE|ExpWriteFlags.EVAL_NO_FAIL),\n",
    "          ExpOperation.write(\"c\", expValListIsEmptyAndbisNil, ExpWriteFlags.ALLOW_DELETE|ExpWriteFlags.EVAL_NO_FAIL)                  \n",
    "         );\n",
    "\n",
    "record = client.get(null, key);\n",
    "System.out.println(\"Run conditional delete, read back the record.\");\n",
    "System.out.println(record);\n",
    "\n",
    "// Remove c4 from list and check record\n",
    "testVal = \"c4\";\n",
    "rec = client.operate( wPolicy, key,   \n",
    "          ListOperation.removeByValue(\"c\", Value.get(testVal), ListReturnType.NONE)                 \n",
    "         );\n",
    "record = client.get(null, key);\n",
    "System.out.println(\"Read back the record after removing c4 from list.\");\n",
    "System.out.println(record);\n",
    "\n",
    "// Run record deletion code, sets all bins to null, if conditions allow\n",
    "Record rec = client.operate( wPolicy, key,                     \n",
    "          ExpOperation.write(\"a\", expValListIsEmptyAndbisNil, ExpWriteFlags.ALLOW_DELETE|ExpWriteFlags.EVAL_NO_FAIL),\n",
    "          ExpOperation.write(\"b\", expValListIsEmptyAndbisNil, ExpWriteFlags.ALLOW_DELETE|ExpWriteFlags.EVAL_NO_FAIL),\n",
    "          ExpOperation.write(\"c\", expValListIsEmptyAndbisNil, ExpWriteFlags.ALLOW_DELETE|ExpWriteFlags.EVAL_NO_FAIL)                  \n",
    "         );\n",
    "\n",
    "record = client.get(null, key);\n",
    "System.out.println(\"Run conditional delete, read back the record.\");\n",
    "System.out.println(record);\n",
    "\n",
    "//Set bin b to null and check record \n",
    "Expression bNil = Exp.build(Exp.nil());\n",
    "rec = client.operate( wPolicy, key,  ExpOperation.write(\"b\", bNil, ExpWriteFlags.ALLOW_DELETE));\n",
    "record = client.get(null, key);\n",
    "System.out.println(\"Read back the record after deleting bin b.\");\n",
    "System.out.println(record);\n",
    "\n",
    "// rerun same operate code and check record.\n",
    "rec = client.operate( wPolicy, key,     \n",
    "          ExpOperation.write(\"a\", expValListIsEmptyAndbisNil, ExpWriteFlags.ALLOW_DELETE|ExpWriteFlags.EVAL_NO_FAIL),\n",
    "          ExpOperation.write(\"b\", expValListIsEmptyAndbisNil, ExpWriteFlags.ALLOW_DELETE|ExpWriteFlags.EVAL_NO_FAIL),\n",
    "          ExpOperation.write(\"c\", expValListIsEmptyAndbisNil, ExpWriteFlags.ALLOW_DELETE|ExpWriteFlags.EVAL_NO_FAIL)                  \n",
    "         );\n",
    "record = client.get(null, key);\n",
    "System.out.println(\"Run conditional delete, read back the record.\");\n",
    "System.out.println(record);\n"
   ]
  },
  {
   "cell_type": "markdown",
   "id": "bf09c785-f792-4ae6-87f1-1c68cf277162",
   "metadata": {},
   "source": [
    "# Cleanup"
   ]
  },
  {
   "cell_type": "code",
   "execution_count": 44,
   "id": "432ffb71-e787-41a6-bd9f-c089122424f0",
   "metadata": {},
   "outputs": [],
   "source": [
    "%sh asadm --enable -e \"manage truncate ns test --no-warn\" -h \"127.0.0.1\""
   ]
  },
  {
   "cell_type": "code",
   "execution_count": null,
   "id": "57874ddf-b118-4393-a844-68d318ea087c",
   "metadata": {},
   "outputs": [],
   "source": []
  }
 ],
 "metadata": {
  "kernelspec": {
   "display_name": "Java",
   "language": "java",
   "name": "java"
  },
  "language_info": {
   "codemirror_mode": "java",
   "file_extension": ".jshell",
   "mimetype": "text/x-java-source",
   "name": "Java",
   "pygments_lexer": "java",
   "version": "17.0.10+8-LTS"
  }
 },
 "nbformat": 4,
 "nbformat_minor": 5
}
