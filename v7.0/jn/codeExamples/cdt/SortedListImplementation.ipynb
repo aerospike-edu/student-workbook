{
 "cells": [
  {
   "cell_type": "markdown",
   "id": "28b3e822",
   "metadata": {},
   "source": [
    "### Housekeeping - Setup & wipe out any prior records on the Aerospike Server\n",
    "\n",
    "We have a namespace **_test_** pre-defined on the server. Lets truncate it using _asadm_.\n",
    "\n",
    "This is needed while doing code development. If you want to clear the iJava Kernel of all Java objects and run all cells from scratch, Kernel->Restart & Run All, this will ensure any records written on the underlying Aerospike cluster are purged.\n",
    "\n",
    "First, we need required imports for using %sh in interactive Java Kernel. (This is specific to the iJava Kernel implementation by **Spencer Park** that we are using.)"
   ]
  },
  {
   "cell_type": "code",
   "execution_count": 7,
   "id": "eb85febe",
   "metadata": {},
   "outputs": [],
   "source": [
    "import io.github.spencerpark.ijava.IJava;\n",
    "import io.github.spencerpark.jupyter.kernel.magic.common.Shell;\n",
    "IJava.getKernelInstance().getMagics().registerMagics(Shell.class);"
   ]
  },
  {
   "cell_type": "markdown",
   "id": "1b305b92",
   "metadata": {},
   "source": [
    "### Running _asadm_ in iJava\n",
    "We can run _asadm_ commands inline. Below, we will use the truncation command, which normally requires an interactive confirmation, which we will skip by using the _--no-warn_ flag. No output will be displayed."
   ]
  },
  {
   "cell_type": "code",
   "execution_count": 8,
   "id": "0f11685a",
   "metadata": {},
   "outputs": [],
   "source": [
    "%sh asadm --enable -e \"manage truncate ns test --no-warn\" -h \"127.0.0.1\""
   ]
  },
  {
   "cell_type": "markdown",
   "id": "4b23c8bf",
   "metadata": {},
   "source": [
    "#### Add Java Client POM Dependency  \n",
    "Jupyter Notebook way!"
   ]
  },
  {
   "cell_type": "code",
   "execution_count": 9,
   "id": "c7d10ca8",
   "metadata": {},
   "outputs": [],
   "source": [
    "%%loadFromPOM\n",
    "<dependencies>\n",
    "  <dependency>\n",
    "    <groupId>com.aerospike</groupId>\n",
    "    <artifactId>aerospike-client</artifactId>\n",
    "    <version>7.2.1</version>\n",
    "  </dependency>\n",
    "</dependencies>"
   ]
  },
  {
   "cell_type": "markdown",
   "id": "e03decf9",
   "metadata": {},
   "source": [
    "####  Java Client Imports and Test code"
   ]
  },
  {
   "cell_type": "code",
   "execution_count": 10,
   "id": "b5ec301d",
   "metadata": {
    "scrolled": true
   },
   "outputs": [
    {
     "name": "stdout",
     "output_type": "stream",
     "text": [
      "UNORDERED List: (gen:10),(exp:450852588),(bins:(data:[[3000, 7, {name=user0, id=100, salary=3000, level=7}], [5000, 2, {name=user1, id=101, salary=5000, level=2}], [5000, 2, {name=user2, id=102, salary=5000, level=2}], [5000, 3, {name=user3, id=103, salary=5000, level=3}], [3000, 7, {name=user4, id=104, salary=3000, level=7}], [5000, 2, {name=user5, id=105, salary=5000, level=2}], [4000, 4, {name=user6, id=106, salary=4000, level=4}], [6000, 7, {name=user7, id=107, salary=6000, level=7}], [5000, 5, {name=user8, id=108, salary=5000, level=5}], [4000, 6, {name=user9, id=109, salary=4000, level=6}]]))\n",
      "ORDERED List: (gen:10),(exp:450852588),(bins:(data:[[3000, 7, {name=user0, id=100, salary=3000, level=7}], [3000, 7, {name=user4, id=104, salary=3000, level=7}], [4000, 4, {name=user6, id=106, salary=4000, level=4}], [4000, 6, {name=user9, id=109, salary=4000, level=6}], [5000, 2, {name=user1, id=101, salary=5000, level=2}], [5000, 2, {name=user2, id=102, salary=5000, level=2}], [5000, 2, {name=user5, id=105, salary=5000, level=2}], [5000, 3, {name=user3, id=103, salary=5000, level=3}], [5000, 5, {name=user8, id=108, salary=5000, level=5}], [6000, 7, {name=user7, id=107, salary=6000, level=7}]]))\n"
     ]
    }
   ],
   "source": [
    "//Required Imports\n",
    "import com.aerospike.client.AerospikeClient;\n",
    "import com.aerospike.client.policy.WritePolicy;\n",
    "import com.aerospike.client.Bin;\n",
    "import com.aerospike.client.Key;\n",
    "import com.aerospike.client.Record;\n",
    "import com.aerospike.client.Value;\n",
    "\n",
    "import com.aerospike.client.cdt.ListPolicy;\n",
    "import com.aerospike.client.cdt.ListOperation;\n",
    "import com.aerospike.client.cdt.ListOrder;\n",
    "import com.aerospike.client.cdt.ListWriteFlags;\n",
    "\n",
    "import java.util.HashMap;\n",
    "import java.util.Map;\n",
    "\n",
    "import java.util.Random;\n",
    "\n",
    "AerospikeClient client = new AerospikeClient(\"127.0.0.1\", 3000);\n",
    "Key key_uo = new Key(\"test\", \"testset\", \"keyUnordered\");\n",
    "Key key_o = new Key(\"test\", \"testset\", \"keyOrdered\");\n",
    "\n",
    "client.delete(null, key_uo);\n",
    "client.delete(null, key_o);\n",
    "\n",
    "WritePolicy wPolicy = new WritePolicy();\n",
    "ListPolicy lPolicy_o = new ListPolicy(ListOrder.ORDERED, ListWriteFlags.DEFAULT);\n",
    "\n",
    "// Map Entry\n",
    "Map<Value, Value> employeeMap = new HashMap<Value, Value>();\n",
    "int iSalary = 0;\n",
    "int iLevel = 0;\n",
    "List<Value> outerList = new ArrayList<Value>();\n",
    "\n",
    "// Let's add 10 inner list item in a record's list bin\n",
    "for (int i = 0; i < 10; i++) {    \n",
    "    //map item\n",
    "    Random rSalary = new Random();\n",
    "    Random rLevel = new Random();\n",
    "    iSalary = (rSalary.nextInt(4)+3) * 1000;\n",
    "    iLevel = rLevel.nextInt(10);\n",
    "    employeeMap.put(Value.get(\"id\"), Value.get(100+i));\n",
    "    employeeMap.put(Value.get(\"name\"), Value.get(\"user\"+i));\n",
    "    employeeMap.put(Value.get(\"salary\"), Value.get(iSalary));\n",
    "    employeeMap.put(Value.get(\"level\"), Value.get(iLevel));\n",
    "\n",
    "    List<Value> innerList = new ArrayList<Value>();\n",
    "    innerList.add(Value.get(iSalary));\n",
    "    innerList.add(Value.get(iLevel));\n",
    "    innerList.add(Value.get(employeeMap));\n",
    "    \n",
    "    //Write UNORDERED (Default ListPolicy) to key_uo\n",
    "    client.operate(wPolicy, key_uo,                  \n",
    "                   ListOperation.append(\"data\", Value.get(innerList), null)                \n",
    "                  );\n",
    "    \n",
    "    //Write ORDERED (using lPolicy_o) to key_o\n",
    "    client.operate(wPolicy, key_o,                  \n",
    "                   ListOperation.append(lPolicy_o, \"data\", Value.get(innerList), null)                \n",
    "                  );\n",
    "    \n",
    "                  \n",
    "}   \n",
    "//Check both records.\n",
    "System.out.println(\"UNORDERED List: \"+ client.get(null, key_uo)); \n",
    "System.out.println(\"ORDERED List: \"+ client.get(null, key_o));  //Inserts ordered.\n"
   ]
  },
  {
   "cell_type": "markdown",
   "id": "805f7011-c917-4f29-9195-829041b020b5",
   "metadata": {},
   "source": [
    "# Cleanup"
   ]
  },
  {
   "cell_type": "code",
   "execution_count": 11,
   "id": "df52fdbf-97aa-43a9-a1fc-18c209ae4155",
   "metadata": {},
   "outputs": [],
   "source": [
    "%sh asadm --enable -e \"manage truncate ns test --no-warn\" -h \"127.0.0.1\""
   ]
  },
  {
   "cell_type": "code",
   "execution_count": null,
   "id": "1e09c9c8-9fb4-4b88-8f8d-6f0557abb068",
   "metadata": {},
   "outputs": [],
   "source": []
  }
 ],
 "metadata": {
  "kernelspec": {
   "display_name": "Java",
   "language": "java",
   "name": "java"
  },
  "language_info": {
   "codemirror_mode": "java",
   "file_extension": ".jshell",
   "mimetype": "text/x-java-source",
   "name": "Java",
   "pygments_lexer": "java",
   "version": "17.0.10+8-LTS"
  }
 },
 "nbformat": 4,
 "nbformat_minor": 5
}
