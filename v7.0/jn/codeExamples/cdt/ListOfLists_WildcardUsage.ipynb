{
 "cells": [
  {
   "cell_type": "markdown",
   "id": "96ae422c-0ea8-4cf8-883c-2e9d4be851c9",
   "metadata": {},
   "source": [
    "# List of Lists - WILDCARD Usage\n",
    "Initial Model was a list of Key:Value pairs where Value was a Map:  [AAIDx:{}, AAIDy:{} , AAIDz:{}, ...]\n",
    "\n",
    "Given AAIDy, find index position in the List. (e.g. it is 1 in above example)\n",
    "\n",
    "Cannot do WILDCARD search only on List elements, so we need a List of Lists\n",
    "\n",
    "Modify data model as: [ [AAIDx, AAIDx:{ ...}], [AAIDy, AAIDy:{ ... }], [AAIDz, AAIDz:{....} ] ] \n",
    "\n",
    "The following code will fetch the intended index and value.\n"
   ]
  },
  {
   "cell_type": "markdown",
   "id": "28b3e822",
   "metadata": {},
   "source": [
    "### Housekeeping - Setup & wipe out any prior records on the Aerospike Server\n",
    "\n",
    "We have a namespace **_test_** pre-defined on the server. Lets truncate it using _asadm_.\n",
    "\n",
    "This is needed while doing code development. If you want to clear the iJava Kernel of all Java objects and run all cells from scratch, Kernel->Restart & Run All, this will ensure any records written on the underlying Aerospike cluster are purged.\n",
    "\n",
    "First, we need required imports for using %sh in interactive Java Kernel. (This is specific to the iJava Kernel implementation by **Spencer Park** that we are using.)"
   ]
  },
  {
   "cell_type": "code",
   "execution_count": 1,
   "id": "eb85febe",
   "metadata": {},
   "outputs": [],
   "source": [
    "import io.github.spencerpark.ijava.IJava;\n",
    "import io.github.spencerpark.jupyter.kernel.magic.common.Shell;\n",
    "IJava.getKernelInstance().getMagics().registerMagics(Shell.class);"
   ]
  },
  {
   "cell_type": "markdown",
   "id": "1b305b92",
   "metadata": {},
   "source": [
    "### Running _asadm_ in iJava\n",
    "We can run _asadm_ commands inline. Below, we will use the truncation command, which normally requires an interactive confirmation, which we will skip by using the _--no-warn_ flag. No output will be displayed. \n",
    "\n"
   ]
  },
  {
   "cell_type": "code",
   "execution_count": 24,
   "id": "0f11685a",
   "metadata": {},
   "outputs": [],
   "source": [
    "%sh asadm --enable -e \"manage truncate ns test --no-warn\" -h \"127.0.0.1\""
   ]
  },
  {
   "cell_type": "markdown",
   "id": "4b23c8bf",
   "metadata": {},
   "source": [
    "#### Add Java Client POM Dependency  \n",
    "Jupyter Notebook way!"
   ]
  },
  {
   "cell_type": "code",
   "execution_count": 3,
   "id": "c7d10ca8",
   "metadata": {},
   "outputs": [],
   "source": [
    "%%loadFromPOM\n",
    "<dependencies>\n",
    "  <dependency>\n",
    "    <groupId>com.aerospike</groupId>\n",
    "    <artifactId>aerospike-client</artifactId>\n",
    "    <version>7.2.1</version>\n",
    "  </dependency>\n",
    "</dependencies>"
   ]
  },
  {
   "cell_type": "markdown",
   "id": "e03decf9",
   "metadata": {},
   "source": [
    "####  Java Client Imports and Test code"
   ]
  },
  {
   "cell_type": "code",
   "execution_count": 4,
   "id": "b5ec301d",
   "metadata": {
    "scrolled": true
   },
   "outputs": [],
   "source": [
    "//Required Imports\n",
    "import com.aerospike.client.AerospikeClient;\n",
    "import com.aerospike.client.policy.WritePolicy;\n",
    "import com.aerospike.client.Bin;\n",
    "import com.aerospike.client.Key;\n",
    "import com.aerospike.client.Record;\n",
    "import com.aerospike.client.Value;\n",
    "\n",
    "import com.aerospike.client.cdt.ListPolicy;\n",
    "import com.aerospike.client.cdt.ListOperation;\n",
    "import com.aerospike.client.cdt.ListOrder;\n",
    "import com.aerospike.client.cdt.ListWriteFlags;\n",
    "import com.aerospike.client.cdt.ListReturnType;\n",
    "\n",
    "import java.util.List;\n",
    "import java.util.HashMap;\n",
    "import java.util.Map;\n",
    "import java.util.Random;\n",
    "import java.util.ArrayList;\n",
    "import java.util.Arrays;\n",
    "\n",
    "AerospikeClient client = new AerospikeClient(\"127.0.0.1\", 3000);"
   ]
  },
  {
   "cell_type": "code",
   "execution_count": 5,
   "id": "2423a55b",
   "metadata": {},
   "outputs": [
    {
     "data": {
      "text/plain": [
       "false"
      ]
     },
     "execution_count": 5,
     "metadata": {},
     "output_type": "execute_result"
    }
   ],
   "source": [
    "Key myKey = new Key(\"test\", \"testset\", \"BucketId\");\n",
    "String binName = \"myListBin1\";\n",
    "ListPolicy lPolicy = new ListPolicy(ListOrder.UNORDERED, ListWriteFlags.DEFAULT);\n",
    "client.delete(null,myKey);"
   ]
  },
  {
   "cell_type": "code",
   "execution_count": 25,
   "id": "28880bef-4bea-469c-83b5-2c68aba933f8",
   "metadata": {},
   "outputs": [
    {
     "name": "stdout",
     "output_type": "stream",
     "text": [
      "My List after mapInsert: (gen:3),(exp:452752299),(bins:(myListBin1:[[AAID1, {AAID1={6876=1600, 4374=1600, 1234=1800, inner_ttl=1800}}], [AAID2, {AAID2={7657=900, 5435=500, inner_ttl=900}}], [AAID3, {AAID3={9878=12000, inner_ttl=12000, 4454=1000}}]]))\n"
     ]
    }
   ],
   "source": [
    "// Initial Model was a list of Key:Value pairs where Value was a Map:  [AAIDx:{}, AAIDy:{} , AAIDz:{}, ...]\n",
    "// Given AAIDy, find index position in the List. (e.g. it is 1 in above example)\n",
    "// Cannot do WILDCARD search only on List elements, so we need a List of Lists\n",
    "// Modify data model as: [ [AAIDx, AAIDx:{ ...}], [AAIDy, AAIDy:{ ... }], [AAIDz, AAIDz:{....} ] ] \n",
    "// The following code will fetch the intended index and value.\n",
    "\n",
    "//Add record data\n",
    "List<Value> aaidlist1 = new ArrayList<Value>();\n",
    "aaidlist1.add(Value.get(\"AAID1\"));\n",
    "HashMap <String, Integer> mapAAID1 = new HashMap <String, Integer>();\n",
    "mapAAID1.put(\"1234\", 1800);\n",
    "mapAAID1.put(\"4374\", 1600);\n",
    "mapAAID1.put(\"6876\", 1600);\n",
    "mapAAID1.put(\"inner_ttl\", 1800);\n",
    "HashMap <String, HashMap> mapAAID_1 = new HashMap <String, HashMap>();\n",
    "mapAAID_1.put(\"AAID1\", mapAAID1);\n",
    "aaidlist1.add(Value.get(mapAAID_1));\n",
    "\n",
    "List<Value> aaidlist2 = new ArrayList<Value>();\n",
    "aaidlist2.add(Value.get(\"AAID2\"));\n",
    "HashMap <String, Integer> mapAAID2 = new HashMap <String, Integer>();\n",
    "mapAAID2.put(\"7657\", 900);\n",
    "mapAAID2.put(\"5435\", 500);\n",
    "mapAAID2.put(\"inner_ttl\", 900);\n",
    "HashMap <String, HashMap> mapAAID_2 = new HashMap <String, HashMap>();\n",
    "mapAAID_2.put(\"AAID2\", mapAAID2);\n",
    "aaidlist2.add(Value.get(mapAAID_2));\n",
    "\n",
    "List<Value> aaidlist3 = new ArrayList<Value>();\n",
    "aaidlist3.add(Value.get(\"AAID3\"));\n",
    "HashMap <String, Integer> mapAAID3 = new HashMap <String, Integer>();\n",
    "mapAAID3.put(\"9878\", 12000);\n",
    "mapAAID3.put(\"4454\", 1000);\n",
    "mapAAID3.put(\"inner_ttl\", 12000);\n",
    "HashMap <String, HashMap> mapAAID_3 = new HashMap <String, HashMap>();\n",
    "mapAAID_3.put(\"AAID3\", mapAAID3);\n",
    "aaidlist3.add(Value.get(mapAAID_3));\n",
    "\n",
    "client.operate(null, myKey, ListOperation.append(lPolicy, binName, Value.get(aaidlist1)));\n",
    "client.operate(null, myKey, ListOperation.append(lPolicy, binName, Value.get(aaidlist2)));\n",
    "client.operate(null, myKey, ListOperation.append(lPolicy, binName, Value.get(aaidlist3)));\n",
    "\n",
    "System.out.println(\"My List after mapInsert: \"+ client.get(null, myKey));"
   ]
  },
  {
   "cell_type": "code",
   "execution_count": 26,
   "id": "fb019707-4b5b-43ee-bf93-1257fe596465",
   "metadata": {},
   "outputs": [
    {
     "name": "stdout",
     "output_type": "stream",
     "text": [
      "(gen:3),(exp:452752299),(bins:(myListBin1:[1]))\n",
      "(gen:3),(exp:452752299),(bins:(myListBin1:[[AAID2, {AAID2={7657=900, 5435=500, inner_ttl=900}}]]))\n"
     ]
    }
   ],
   "source": [
    "List<Value> aaidList = new ArrayList<Value>();\n",
    "aaidList.add(Value.get(\"AAID2\"));\n",
    "aaidList.add(Value.get(Value.WILDCARD));\n",
    "\n",
    "System.out.println(client.operate(null, myKey, ListOperation.getByValue(\"myListBin1\", Value.ListValue.get(aaidList), ListReturnType.INDEX)));\n",
    "\n",
    "System.out.println(client.operate(null, myKey, ListOperation.getByValue(\"myListBin1\", Value.ListValue.get(aaidList), ListReturnType.VALUE)));"
   ]
  },
  {
   "cell_type": "markdown",
   "id": "5261f90d-244b-4121-84aa-71ffbee7fc61",
   "metadata": {},
   "source": [
    "# Cleanup"
   ]
  },
  {
   "cell_type": "code",
   "execution_count": null,
   "id": "643df9cb-7384-4bdf-922b-efa9f2e4153e",
   "metadata": {},
   "outputs": [],
   "source": [
    "%sh asadm --enable -e \"manage truncate ns test --no-warn\" -h \"127.0.0.1\""
   ]
  },
  {
   "cell_type": "code",
   "execution_count": null,
   "id": "b8f19f9c-0af3-48f2-be55-3fb11b668037",
   "metadata": {},
   "outputs": [],
   "source": []
  }
 ],
 "metadata": {
  "kernelspec": {
   "display_name": "Java",
   "language": "java",
   "name": "java"
  },
  "language_info": {
   "codemirror_mode": "java",
   "file_extension": ".jshell",
   "mimetype": "text/x-java-source",
   "name": "Java",
   "pygments_lexer": "java",
   "version": "17.0.10+8-LTS"
  }
 },
 "nbformat": 4,
 "nbformat_minor": 5
}
