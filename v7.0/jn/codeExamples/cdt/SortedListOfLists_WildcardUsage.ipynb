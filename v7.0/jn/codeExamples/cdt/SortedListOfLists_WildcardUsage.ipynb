{
 "cells": [
  {
   "cell_type": "markdown",
   "id": "96ae422c-0ea8-4cf8-883c-2e9d4be851c9",
   "metadata": {},
   "source": [
    "# List of Lists - WILDCARD Usage\n",
    "Initial Model was a Map of Key:Value pairs where Value was a `Map:  {c1:{\"ttl\":700, \"value\":\"abc\"}, c2:{\"ttl\":1800, ...} , c3:{\"ttl\":200, .. }, ...}`\n",
    "\n",
    "Goal: Delete all entries where `ttl < 900`\n",
    "\n",
    "Cannot do WILDCARD search only on Map elements, but we use a sorted List of Lists\n",
    "\n",
    "Modify data model as: `[ [ttl1, c1:{ ...}], [ttl2, c2:{ ... }], [ttl3, c3:{....} ] ]` \n",
    "\n",
    "The following code can then insert new entries and delete by ttl range.\n"
   ]
  },
  {
   "cell_type": "markdown",
   "id": "28b3e822",
   "metadata": {},
   "source": [
    "### Housekeeping - Setup & wipe out any prior records on the Aerospike Server\n",
    "\n",
    "We have a namespace **_test_** pre-defined on the server. Lets truncate it using _asadm_.\n",
    "\n",
    "This is needed while doing code development. If you want to clear the iJava Kernel of all Java objects and run all cells from scratch, Kernel->Restart & Run All, this will ensure any records written on the underlying Aerospike cluster are purged.\n",
    "\n",
    "First, we need required imports for using %sh in interactive Java Kernel. (This is specific to the iJava Kernel implementation by **Spencer Park** that we are using.)"
   ]
  },
  {
   "cell_type": "code",
   "execution_count": 1,
   "id": "eb85febe",
   "metadata": {},
   "outputs": [],
   "source": [
    "import io.github.spencerpark.ijava.IJava;\n",
    "import io.github.spencerpark.jupyter.kernel.magic.common.Shell;\n",
    "IJava.getKernelInstance().getMagics().registerMagics(Shell.class);"
   ]
  },
  {
   "cell_type": "markdown",
   "id": "1b305b92",
   "metadata": {},
   "source": [
    "### Running _asadm_ in iJava\n",
    "We can run _asadm_ commands inline. Below, we will use the truncation command, which normally requires an interactive confirmation, which we will skip by using the _--no-warn_ flag. No output will be displayed. \n",
    "\n"
   ]
  },
  {
   "cell_type": "code",
   "execution_count": 2,
   "id": "0f11685a",
   "metadata": {},
   "outputs": [],
   "source": [
    "%sh asadm --enable -e \"manage truncate ns test --no-warn\" -h \"127.0.0.1\""
   ]
  },
  {
   "cell_type": "markdown",
   "id": "4b23c8bf",
   "metadata": {},
   "source": [
    "#### Add Java Client POM Dependency  \n",
    "Jupyter Notebook way!"
   ]
  },
  {
   "cell_type": "code",
   "execution_count": 3,
   "id": "c7d10ca8",
   "metadata": {},
   "outputs": [],
   "source": [
    "%%loadFromPOM\n",
    "<dependencies>\n",
    "  <dependency>\n",
    "    <groupId>com.aerospike</groupId>\n",
    "    <artifactId>aerospike-client-jdk8</artifactId>\n",
    "    <version>8.1.1</version>\n",
    "  </dependency>\n",
    "</dependencies>"
   ]
  },
  {
   "cell_type": "markdown",
   "id": "e03decf9",
   "metadata": {},
   "source": [
    "####  Java Client Imports and Test code"
   ]
  },
  {
   "cell_type": "code",
   "execution_count": 4,
   "id": "b5ec301d",
   "metadata": {
    "scrolled": true
   },
   "outputs": [],
   "source": [
    "//Required Imports\n",
    "import com.aerospike.client.AerospikeClient;\n",
    "import com.aerospike.client.policy.WritePolicy;\n",
    "import com.aerospike.client.Bin;\n",
    "import com.aerospike.client.Key;\n",
    "import com.aerospike.client.Record;\n",
    "import com.aerospike.client.Value;\n",
    "\n",
    "import com.aerospike.client.cdt.ListPolicy;\n",
    "import com.aerospike.client.cdt.ListOperation;\n",
    "import com.aerospike.client.cdt.ListOrder;\n",
    "import com.aerospike.client.cdt.ListWriteFlags;\n",
    "import com.aerospike.client.cdt.ListReturnType;\n",
    "\n",
    "import java.util.List;\n",
    "import java.util.HashMap;\n",
    "import java.util.Map;\n",
    "import java.util.Random;\n",
    "import java.util.ArrayList;\n",
    "import java.util.Arrays;\n",
    "\n",
    "AerospikeClient client = new AerospikeClient(\"127.0.0.1\", 3000);"
   ]
  },
  {
   "cell_type": "code",
   "execution_count": 5,
   "id": "2423a55b",
   "metadata": {},
   "outputs": [
    {
     "data": {
      "text/plain": [
       "false"
      ]
     },
     "execution_count": 5,
     "metadata": {},
     "output_type": "execute_result"
    }
   ],
   "source": [
    "Key myKey = new Key(\"test\", \"testset\", \"CampaignId\");\n",
    "String binName = \"myListBin1\";\n",
    "ListPolicy lPolicy = new ListPolicy(ListOrder.ORDERED, ListWriteFlags.DEFAULT);\n",
    "client.delete(null,myKey);"
   ]
  },
  {
   "cell_type": "code",
   "execution_count": 6,
   "id": "28880bef-4bea-469c-83b5-2c68aba933f8",
   "metadata": {},
   "outputs": [
    {
     "name": "stdout",
     "output_type": "stream",
     "text": [
      "My List after data insert: (gen:4),(exp:0),(bins:(myListBin1:[[200, {ttl=200, value=cde200}], [700, {ttl=700, value=abc700}], [1200, {ttl=1200, value=efg1200}], [1800, {ttl=1800, value=bcd1800}]]))\n"
     ]
    }
   ],
   "source": [
    "// Initial Model was a Map of Key:Value pairs \n",
    "//Map:  {c1:{\"ttl\":700, \"value\":\"abc\"}, c2:{\"ttl\":1800, ...} , c3:{\"ttl\":200, .. }, ...}\n",
    "\n",
    "// Cannot do WILDCARD search on Map values elements, so we need a Sorted List of Lists\n",
    "// Modify data model as: [ [ttl1, c1:{ ...}], [ttl2, c2:{ ... }], [ttl3, c3:{....} ] ] \n",
    "\n",
    "\n",
    "//Add record data\n",
    "List<Value> list_cx = new ArrayList<Value>();\n",
    "list_cx.add(Value.get(1800));\n",
    "HashMap <String, Value> map_cx = new HashMap <String, Value>();\n",
    "map_cx.put(\"ttl\", Value.get(1800));\n",
    "map_cx.put(\"value\", Value.get(\"bcd1800\"));\n",
    "list_cx.add(Value.get(map_cx));\n",
    "client.operate(null, myKey, ListOperation.append(lPolicy, binName, Value.get(list_cx)));\n",
    "list_cx.clear();\n",
    "\n",
    "list_cx.add(Value.get(700));\n",
    "HashMap <String, Value> map_cx = new HashMap <String, Value>();\n",
    "map_cx.put(\"ttl\", Value.get(700));\n",
    "map_cx.put(\"value\", Value.get(\"abc700\"));\n",
    "list_cx.add(Value.get(map_cx));\n",
    "client.operate(null, myKey, ListOperation.append(lPolicy, binName, Value.get(list_cx)));\n",
    "list_cx.clear();\n",
    "\n",
    "list_cx.add(Value.get(200));\n",
    "HashMap <String, Value> map_cx = new HashMap <String, Value>();\n",
    "map_cx.put(\"ttl\", Value.get(200));\n",
    "map_cx.put(\"value\", Value.get(\"cde200\"));\n",
    "list_cx.add(Value.get(map_cx));\n",
    "client.operate(null, myKey, ListOperation.append(lPolicy, binName, Value.get(list_cx)));\n",
    "list_cx.clear();\n",
    "\n",
    "list_cx.add(Value.get(1200));\n",
    "HashMap <String, Value> map_cx = new HashMap <String, Value>();\n",
    "map_cx.put(\"ttl\", Value.get(1200));\n",
    "map_cx.put(\"value\", Value.get(\"efg1200\"));\n",
    "list_cx.add(Value.get(map_cx));\n",
    "client.operate(null, myKey, ListOperation.append(lPolicy, binName, Value.get(list_cx)));\n",
    "list_cx.clear();\n",
    "\n",
    "\n",
    "System.out.println(\"My List after data insert: \"+ client.get(null, myKey));"
   ]
  },
  {
   "cell_type": "code",
   "execution_count": 7,
   "id": "fb019707-4b5b-43ee-bf93-1257fe596465",
   "metadata": {},
   "outputs": [
    {
     "name": "stdout",
     "output_type": "stream",
     "text": [
      "(gen:4),(exp:0),(bins:(myListBin1:[[200, {ttl=200, value=cde200}], [700, {ttl=700, value=abc700}]]))\n"
     ]
    }
   ],
   "source": [
    "List<Value> startItem = new ArrayList<Value>();\n",
    "startItem.add(Value.get(100));\n",
    "startItem.add(Value.get(Value.WILDCARD));\n",
    "\n",
    "List<Value> endItem = new ArrayList<Value>();\n",
    "endItem.add(Value.get(1000));\n",
    "endItem.add(Value.get(Value.WILDCARD));\n",
    "\n",
    "System.out.println(client.operate(null, myKey, \n",
    "            ListOperation.getByValueRange(\"myListBin1\", \n",
    "            Value.ListValue.get(startItem), Value.ListValue.get(endItem), \n",
    "            ListReturnType.VALUE)));"
   ]
  },
  {
   "cell_type": "code",
   "execution_count": 8,
   "id": "87809b19-b8ac-43af-b2dd-cc49eaed181e",
   "metadata": {},
   "outputs": [
    {
     "name": "stdout",
     "output_type": "stream",
     "text": [
      "My record: (gen:4),(exp:0),(bins:(myListBin1:[[200, {ttl=200, value=cde200}], [700, {ttl=700, value=abc700}], [1200, {ttl=1200, value=efg1200}], [1800, {ttl=1800, value=bcd1800}]]))\n"
     ]
    }
   ],
   "source": [
    "//Check the full record\n",
    "System.out.println(\"My record: \"+ client.get(null, myKey));"
   ]
  },
  {
   "cell_type": "code",
   "execution_count": 9,
   "id": "a8f450a0-1052-4690-9467-b23728f859d7",
   "metadata": {},
   "outputs": [
    {
     "name": "stdout",
     "output_type": "stream",
     "text": [
      "My record after ttl range delete: (gen:5),(exp:0),(bins:(myListBin1:[[200, {ttl=200, value=cde200}], [1800, {ttl=1800, value=bcd1800}]]))\n"
     ]
    }
   ],
   "source": [
    "List<Value> startItem = new ArrayList<Value>();\n",
    "startItem.add(Value.get(600));\n",
    "startItem.add(Value.get(Value.WILDCARD));\n",
    "\n",
    "List<Value> endItem = new ArrayList<Value>();\n",
    "endItem.add(Value.get(1500));\n",
    "endItem.add(Value.get(Value.WILDCARD));\n",
    "\n",
    "client.operate(null, myKey, \n",
    "            ListOperation.removeByValueRange(\"myListBin1\", \n",
    "            Value.ListValue.get(startItem), Value.ListValue.get(endItem), \n",
    "            ListReturnType.VALUE));\n",
    "\n",
    "System.out.println(\"My record after ttl range delete: \"+ client.get(null, myKey));"
   ]
  },
  {
   "cell_type": "markdown",
   "id": "5261f90d-244b-4121-84aa-71ffbee7fc61",
   "metadata": {},
   "source": [
    "# Cleanup"
   ]
  },
  {
   "cell_type": "code",
   "execution_count": 10,
   "id": "643df9cb-7384-4bdf-922b-efa9f2e4153e",
   "metadata": {},
   "outputs": [],
   "source": [
    "%sh asadm --enable -e \"manage truncate ns test --no-warn\" -h \"127.0.0.1\""
   ]
  },
  {
   "cell_type": "code",
   "execution_count": null,
   "id": "b8f19f9c-0af3-48f2-be55-3fb11b668037",
   "metadata": {},
   "outputs": [],
   "source": []
  }
 ],
 "metadata": {
  "kernelspec": {
   "display_name": "Java",
   "language": "java",
   "name": "java"
  },
  "language_info": {
   "codemirror_mode": "java",
   "file_extension": ".jshell",
   "mimetype": "text/x-java-source",
   "name": "Java",
   "pygments_lexer": "java",
   "version": "17.0.10+8-LTS"
  }
 },
 "nbformat": 4,
 "nbformat_minor": 5
}
