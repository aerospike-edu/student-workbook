{
 "cells": [
  {
   "cell_type": "markdown",
   "id": "4a134e1d-ecd3-413d-93bc-0ca121e99442",
   "metadata": {},
   "source": [
    "# Filter on specific map key if value is null or key does not exist to add key-value"
   ]
  },
  {
   "cell_type": "markdown",
   "id": "28b3e822",
   "metadata": {},
   "source": [
    "### Housekeeping - Setup & wipe out any prior records on the Aerospike Server\n",
    "\n",
    "We have a namespace **_test_** pre-defined on the server. Lets truncate it using _asadm_.\n",
    "\n",
    "This is needed while doing code development. If you want to clear the iJava Kernel of all Java objects and run all cells from scratch, Kernel->Restart & Run All, this will ensure any records written on the underlying Aerospike cluster are purged.\n",
    "\n",
    "First, we need required imports for using %sh in interactive Java Kernel. (This is specific to the iJava Kernel implementation by **Spencer Park** that we are using.)"
   ]
  },
  {
   "cell_type": "code",
   "execution_count": 1,
   "id": "eb85febe",
   "metadata": {},
   "outputs": [],
   "source": [
    "import io.github.spencerpark.ijava.IJava;\n",
    "import io.github.spencerpark.jupyter.kernel.magic.common.Shell;\n",
    "IJava.getKernelInstance().getMagics().registerMagics(Shell.class);"
   ]
  },
  {
   "cell_type": "markdown",
   "id": "1b305b92",
   "metadata": {},
   "source": [
    "### Running _asadm_ in iJava\n",
    "We can run _asadm_ commands inline. Below, we will use the truncation command, which normally requires an interactive confirmation, which we will skip by using the _--no-warn_ flag. No output will be displayed."
   ]
  },
  {
   "cell_type": "code",
   "execution_count": 2,
   "id": "0f11685a",
   "metadata": {},
   "outputs": [],
   "source": [
    "%sh asadm --enable -e \"manage truncate ns test --no-warn\" -h \"127.0.0.1\""
   ]
  },
  {
   "cell_type": "markdown",
   "id": "4b23c8bf",
   "metadata": {},
   "source": [
    "#### Add Java Client POM Dependency  \n",
    "Jupyter Notebook way!"
   ]
  },
  {
   "cell_type": "code",
   "execution_count": 3,
   "id": "c7d10ca8",
   "metadata": {},
   "outputs": [],
   "source": [
    "%%loadFromPOM\n",
    "<dependencies>\n",
    "  <dependency>\n",
    "    <groupId>com.aerospike</groupId>\n",
    "    <artifactId>aerospike-client-jdk8</artifactId>\n",
    "    <version>8.1.1</version>\n",
    "  </dependency>\n",
    "</dependencies>"
   ]
  },
  {
   "cell_type": "markdown",
   "id": "e03decf9",
   "metadata": {},
   "source": [
    "####  Java Client Imports and Test code"
   ]
  },
  {
   "cell_type": "code",
   "execution_count": 4,
   "id": "1c51da27-c128-4adc-8407-4dddb1d77645",
   "metadata": {},
   "outputs": [],
   "source": [
    "//Required Imports\n",
    "import com.aerospike.client.AerospikeClient;\n",
    "import com.aerospike.client.policy.WritePolicy;\n",
    "import com.aerospike.client.Bin;\n",
    "import com.aerospike.client.Key;\n",
    "import com.aerospike.client.Record;\n",
    "import com.aerospike.client.Value;\n",
    "import com.aerospike.client.Operation;\n",
    "import com.aerospike.client.exp.Exp;\n",
    "import com.aerospike.client.exp.ExpOperation;\n",
    "import com.aerospike.client.exp.ExpReadFlags;\n",
    "import com.aerospike.client.exp.Expression;\n",
    "\n",
    "//Map Expression Filter\n",
    "import com.aerospike.client.cdt.MapOperation;\n",
    "import com.aerospike.client.cdt.MapReturnType;\n",
    "import com.aerospike.client.exp.MapExp;\n",
    "import com.aerospike.client.Value;\n",
    "import com.aerospike.client.Value.NullValue;\n",
    "\n",
    "import com.aerospike.client.AerospikeException;\n",
    "import com.aerospike.client.ResultCode;\n",
    "\n",
    "//Building map values\n",
    "import com.aerospike.client.cdt.MapOperation;\n",
    "import com.aerospike.client.cdt.MapPolicy;\n",
    "import com.aerospike.client.cdt.MapOrder;\n",
    "import com.aerospike.client.cdt.MapWriteFlags;\n",
    "import com.aerospike.client.Value.MapValue;\n",
    "import com.aerospike.client.Value;\n",
    "import java.util.HashMap;\n",
    "import java.util.Map;\n",
    "import com.aerospike.client.cdt.CTX;"
   ]
  },
  {
   "cell_type": "code",
   "execution_count": 5,
   "id": "64d89d18-c437-4c8b-8be4-de9f77730196",
   "metadata": {},
   "outputs": [],
   "source": [
    "//Create Client Object, connect to the server\n",
    "AerospikeClient client = new AerospikeClient(\"127.0.0.1\", 3000);"
   ]
  },
  {
   "cell_type": "code",
   "execution_count": 6,
   "id": "2dfb518b-040a-48fd-87ae-c42492c30448",
   "metadata": {},
   "outputs": [],
   "source": [
    "void addRecord(Integer keyIndex, String mapBinName, String mapKey1Val, String mapKey2Val, String subMapKey1Val, boolean addKey1){\n",
    "    MapPolicy mPolicy = new MapPolicy(MapOrder.UNORDERED, MapWriteFlags.DEFAULT);\n",
    "    WritePolicy wPolicy = new WritePolicy();\n",
    "    wPolicy.sendKey = true;  //Optional, if you want to inspect the record key\n",
    "    Key myRecKey = new Key(\"test\", \"testset\", Value.get(\"key\"+keyIndex));\n",
    "    HashMap <String, Value> profileObj = new HashMap <String, Value>();\n",
    "    if(addKey1) { profileObj.put(\"Key1\", Value.get(mapKey1Val));  } \n",
    "    profileObj.put(\"Key2\", Value.get(mapKey2Val));  \n",
    "    \n",
    "    //Sub-map (optional)\n",
    "    HashMap <String, String> metaObj = new HashMap <String, String>();\n",
    "    metaObj.put(\"Key1\", subMapKey1Val);\n",
    "    profileObj.put(\"subKey1\", new MapValue(metaObj)); \n",
    "    \n",
    "\n",
    "    client.operate(wPolicy, myRecKey, \n",
    "       MapOperation.put(mPolicy, mapBinName, Value.get(\"profile\"), new MapValue(profileObj) )               \n",
    "    );\n",
    "    System.out.println(\"Rec added: [key \"+keyIndex+\"]: \"+ client.get(null, myRecKey));\n",
    "}"
   ]
  },
  {
   "cell_type": "code",
   "execution_count": 7,
   "id": "b5ec301d",
   "metadata": {},
   "outputs": [
    {
     "name": "stdout",
     "output_type": "stream",
     "text": [
      "Rec added: [key 1]: (gen:1),(exp:0),(bins:(myMapBin1:{profile={Key2=val12, Key1=val11, subKey1={Key1=vals11}}}))\n",
      "Rec added: [key 2]: (gen:1),(exp:0),(bins:(myMapBin1:{profile={Key2=val22, Key1=val21, subKey1={Key1=vals21}}}))\n",
      "Rec added: [key 3]: (gen:1),(exp:0),(bins:(myMapBin1:{profile={Key2=val32, subKey1={Key1=vals31}}}))\n",
      "Rec added: [key 4]: (gen:1),(exp:0),(bins:(myMapBin1:{profile={Key2=val42, Key1=null, subKey1={Key1=vals41}}}))\n"
     ]
    }
   ],
   "source": [
    "//Create test records\n",
    "String binName = \"myMapBin1\";\n",
    "addRecord(1, binName, \"val11\", \"val12\", \"vals11\", true);\n",
    "addRecord(2, binName, \"val21\", \"val22\", \"vals21\", true);\n",
    "addRecord(3, binName, \"val31\", \"val32\", \"vals31\", false);\n",
    "addRecord(4, binName, null, \"val42\", \"vals41\", true);\n",
    "\n"
   ]
  },
  {
   "cell_type": "code",
   "execution_count": 8,
   "id": "b4685b80-fbb0-4866-9cc9-2769753acb8d",
   "metadata": {},
   "outputs": [],
   "source": [
    "void updateRecord(Integer keyIndex, String mapBinName, String mapKey1Val){\n",
    "    MapPolicy mPolicy = new MapPolicy(MapOrder.UNORDERED, MapWriteFlags.DEFAULT);\n",
    "    WritePolicy wPolicy = new WritePolicy();\n",
    "    wPolicy.sendKey = true;  //Optional, if you want to inspect the record key\n",
    "    Key myRecKey = new Key(\"test\", \"testset\", Value.get(\"key\"+keyIndex));\n",
    "    \n",
    "    Expression mapKeyFilter = Exp.build(\n",
    "        Exp.eq(\n",
    "            MapExp.getByKey(MapReturnType.VALUE, Exp.Type.NIL, Exp.val(\"Key1\"), Exp.mapBin(mapBinName), CTX.mapKey(Value.get(\"profile\"))),\n",
    "            Exp.nil() )\n",
    "    );\n",
    " \n",
    "    wPolicy.filterExp = mapKeyFilter;\n",
    "    \n",
    "    client.operate(wPolicy, myRecKey, \n",
    "       MapOperation.put(mPolicy, mapBinName, Value.get(\"Key1\"), Value.get(mapKey1Val), CTX.mapKey(Value.get(\"profile\")) )              \n",
    "    );\n",
    "    System.out.println(\"Read record: [key \"+keyIndex+\"]: \"+ client.get(null, myRecKey));\n",
    "}"
   ]
  },
  {
   "cell_type": "code",
   "execution_count": 9,
   "id": "c85c5fdc-a1a6-4daa-a342-01deec0072ef",
   "metadata": {},
   "outputs": [
    {
     "name": "stdout",
     "output_type": "stream",
     "text": [
      "Read record: [key 1]: (gen:1),(exp:0),(bins:(myMapBin1:{profile={Key2=val12, Key1=val11, subKey1={Key1=vals11}}}))\n",
      "Read record: [key 2]: (gen:1),(exp:0),(bins:(myMapBin1:{profile={Key2=val22, Key1=val21, subKey1={Key1=vals21}}}))\n",
      "Read record: [key 3]: (gen:2),(exp:0),(bins:(myMapBin1:{profile={Key2=val32, Key1=val31_updated, subKey1={Key1=vals31}}}))\n",
      "Read record: [key 4]: (gen:2),(exp:0),(bins:(myMapBin1:{profile={Key2=val42, Key1=val41_updated, subKey1={Key1=vals41}}}))\n"
     ]
    }
   ],
   "source": [
    "//Update all records, should only update ones with Key1 missing or Key1 value null\n",
    "String binName = \"myMapBin1\";\n",
    "updateRecord(1, binName, \"val11_updated\");\n",
    "updateRecord(2, binName, \"val21_updated\");\n",
    "updateRecord(3, binName, \"val31_updated\");\n",
    "updateRecord(4, binName, \"val41_updated\");\n",
    "\n"
   ]
  },
  {
   "cell_type": "markdown",
   "id": "c501f3b0-967b-4321-9503-3db19fe824db",
   "metadata": {},
   "source": [
    "# Cleanup"
   ]
  },
  {
   "cell_type": "code",
   "execution_count": null,
   "id": "28807561-ae1d-4597-a3f1-7795d74dcd79",
   "metadata": {},
   "outputs": [],
   "source": [
    "%sh asadm --enable -e \"manage truncate ns test --no-warn\" -h \"127.0.0.1\""
   ]
  },
  {
   "cell_type": "code",
   "execution_count": null,
   "id": "6853d6c7-9ade-4978-8d23-67064bb3c44e",
   "metadata": {},
   "outputs": [],
   "source": []
  }
 ],
 "metadata": {
  "kernelspec": {
   "display_name": "Java",
   "language": "java",
   "name": "java"
  },
  "language_info": {
   "codemirror_mode": "java",
   "file_extension": ".jshell",
   "mimetype": "text/x-java-source",
   "name": "Java",
   "pygments_lexer": "java",
   "version": "17.0.10+8-LTS"
  }
 },
 "nbformat": 4,
 "nbformat_minor": 5
}
