{
 "cells": [
  {
   "cell_type": "markdown",
   "id": "28b3e822",
   "metadata": {},
   "source": [
    "### Housekeeping - Setup & wipe out any prior records on the Aerospike Server\n",
    "\n",
    "We have a namespace **_test_** pre-defined on the server. Lets truncate it using _asadm_.\n",
    "\n",
    "This is needed while doing code development. If you want to clear the iJava Kernel of all Java objects and run all cells from scratch, Kernel->Restart & Run All, this will ensure any records written on the underlying Aerospike cluster are purged.\n",
    "\n",
    "First, we need required imports for using %sh in interactive Java Kernel. (This is specific to the iJava Kernel implementation by **Spencer Park** that we are using.)"
   ]
  },
  {
   "cell_type": "code",
   "execution_count": null,
   "id": "eb85febe",
   "metadata": {},
   "outputs": [],
   "source": [
    "import io.github.spencerpark.ijava.IJava;\n",
    "import io.github.spencerpark.jupyter.kernel.magic.common.Shell;\n",
    "IJava.getKernelInstance().getMagics().registerMagics(Shell.class);"
   ]
  },
  {
   "cell_type": "markdown",
   "id": "1b305b92",
   "metadata": {},
   "source": [
    "### Running _asadm_ in iJava\n",
    "We can run _asadm_ commands inline. Below, we will use the truncation command, which normally requires an interactive confirmation, which we will skip by using the _--no-warn_ flag. No output will be displayed.\n"
   ]
  },
  {
   "cell_type": "code",
   "execution_count": null,
   "id": "0f11685a",
   "metadata": {},
   "outputs": [],
   "source": [
    "%sh asadm --enable -e \"manage truncate ns test --no-warn\" -h \"127.0.0.1\""
   ]
  },
  {
   "cell_type": "markdown",
   "id": "4b23c8bf",
   "metadata": {},
   "source": [
    "#### Add Java Client POM Dependency  \n",
    "Jupyter Notebook way!"
   ]
  },
  {
   "cell_type": "code",
   "execution_count": null,
   "id": "c7d10ca8",
   "metadata": {},
   "outputs": [],
   "source": [
    "%%loadFromPOM\n",
    "<dependencies>\n",
    "  <dependency>\n",
    "    <groupId>com.aerospike</groupId>\n",
    "    <artifactId>aerospike-client-jdk8</artifactId>\n",
    "    <version>8.1.1</version>\n",
    "  </dependency>\n",
    "</dependencies>"
   ]
  },
  {
   "cell_type": "markdown",
   "id": "e03decf9",
   "metadata": {},
   "source": [
    "####  Java Client Imports and Test code"
   ]
  },
  {
   "cell_type": "code",
   "execution_count": null,
   "id": "b5ec301d",
   "metadata": {
    "scrolled": true
   },
   "outputs": [],
   "source": [
    "//Required Imports\n",
    "import com.aerospike.client.AerospikeClient;\n",
    "import com.aerospike.client.policy.WritePolicy;\n",
    "import com.aerospike.client.Bin;\n",
    "import com.aerospike.client.Key;\n",
    "import com.aerospike.client.Record;\n",
    "import com.aerospike.client.Value;\n",
    "import com.aerospike.client.policy.Policy;\n",
    "import com.aerospike.client.query.IndexType;\n",
    "import com.aerospike.client.query.IndexCollectionType;\n",
    "import com.aerospike.client.task.IndexTask;\n",
    "import com.aerospike.client.AerospikeException;\n",
    "import com.aerospike.client.ResultCode;\n",
    "import com.aerospike.client.cdt.CTX;"
   ]
  },
  {
   "cell_type": "code",
   "execution_count": null,
   "id": "15ec4c7e",
   "metadata": {
    "scrolled": true
   },
   "outputs": [],
   "source": [
    "AerospikeClient client = new AerospikeClient(\"127.0.0.1\", 3000);\n"
   ]
  },
  {
   "cell_type": "code",
   "execution_count": null,
   "id": "ab761159",
   "metadata": {},
   "outputs": [],
   "source": [
    "Key key = new Key(\"test\", \"demo\", \"key1\");\n",
    "WritePolicy wPolicy = new WritePolicy();\n",
    "Bin b1 = new Bin(\"b1\", Value.get(\"val1\"));\n",
    "Bin b2 = new Bin(\"b2\", Value.get(2));\n",
    "client.put(wPolicy, key, b1, b2);\n",
    "Record record = client.get(null, key);\n",
    "System.out.println(\"Record values are:\");\n",
    "System.out.println(record);"
   ]
  },
  {
   "cell_type": "code",
   "execution_count": 9,
   "id": "e02c1a7a",
   "metadata": {},
   "outputs": [],
   "source": [
    "// convenience function to create an index - essentially a pass-through to the client API\n",
    "void myCreateIndex(String nsName, String setName, String idxName, String binName, IndexType idxType, IndexCollectionType colType, CTX... ctx) {\n",
    "    Policy policy = new Policy();\n",
    "    try {\n",
    "            IndexTask task = client.createIndex(policy, nsName, setName, idxName, binName, idxType, colType, ctx);\n",
    "            task.waitTillComplete(100, 0);\n",
    "        }\n",
    "        catch (AerospikeException ae) {\n",
    "            if (ae.getResultCode() != ResultCode.INDEX_ALREADY_EXISTS) {\n",
    "                throw ae;\n",
    "            }\n",
    "        } \n",
    "       // System.out.format(\"Created index %s on ns=%s set=%s bin=%s.\\n\", \n",
    "       //                             idxName, nsName, setName, binName);\n",
    "}\n",
    "void myDropIndex(String nsName, String setName, String idxName) {\n",
    "    try {\n",
    "        IndexTask task = client.dropIndex(null, nsName, setName, idxName);\n",
    "    }\n",
    "    catch (AerospikeException ae) {\n",
    "        if (ae.getResultCode() != ResultCode.INDEX_NOTFOUND) {\n",
    "            throw ae;\n",
    "        }\n",
    "    } \n",
    "    //System.out.format(\"Dropped index %s.\\n\", idxName);\n",
    "}"
   ]
  },
  {
   "cell_type": "markdown",
   "id": "bc170f97-c2d8-4e56-85b8-ed57f991de3b",
   "metadata": {},
   "source": [
    "# Set Name Jammmer\n",
    "Use up to max Set names = 4K. Takes 15+ minutes to run. Monitor progess in terminal using:\n",
    " * asadm -e \"show sindex\"\n",
    "   \n",
    "   or\n",
    "   \n",
    " * aql -c \"show sets\""
   ]
  },
  {
   "cell_type": "code",
   "execution_count": 10,
   "id": "07df1da1",
   "metadata": {},
   "outputs": [],
   "source": [
    "String nsName = \"test\";\n",
    "for(int i=0; i<4198; i++){ \n",
    "  String idxname = \"name\"+i;\n",
    "  String binname = \"bin\"+i;\n",
    "  String setName = \"set\"+i;\n",
    "  myCreateIndex(nsName, setName, idxname, binname, IndexType.NUMERIC, IndexCollectionType.DEFAULT);\n",
    "  myDropIndex(nsName, setName, idxname);  //Only max 256 sindexes can be declared.\n",
    "}"
   ]
  },
  {
   "cell_type": "markdown",
   "id": "0cf9c96c-2d67-4f5b-89e9-c08515e7f4be",
   "metadata": {},
   "source": [
    "# Test with new Set Name\n",
    "We have used up all set names, max = 4K."
   ]
  },
  {
   "cell_type": "code",
   "execution_count": 15,
   "id": "575ae231",
   "metadata": {},
   "outputs": [
    {
     "name": "stdout",
     "output_type": "stream",
     "text": [
      "Record values are:\n",
      "(gen:1),(exp:450832852),(bins:(b1:val1),(b2:2))\n"
     ]
    }
   ],
   "source": [
    "Key key = new Key(\"test\", \"set4197\", \"key1\");  //New set name\n",
    "WritePolicy wPolicy = new WritePolicy();\n",
    "Bin b1 = new Bin(\"b1\", Value.get(\"val1\"));\n",
    "Bin b2 = new Bin(\"b2\", Value.get(2));\n",
    "client.put(wPolicy, key, b1, b2);\n",
    "Record record = client.get(null, key);\n",
    "System.out.println(\"Record values are:\");\n",
    "System.out.println(record);"
   ]
  },
  {
   "cell_type": "markdown",
   "id": "42ddb355-ebc7-4fe0-ba11-ea853378206d",
   "metadata": {},
   "source": [
    "# Clean up - restart server\n",
    "In the terminal, do:\n",
    "* sudo service aerospike stop\n",
    "* sudo rm /opt/aerospike/data/test.dat\n",
    "* sudo service aerospike start"
   ]
  },
  {
   "cell_type": "code",
   "execution_count": null,
   "id": "71953028",
   "metadata": {},
   "outputs": [],
   "source": []
  }
 ],
 "metadata": {
  "kernelspec": {
   "display_name": "Java",
   "language": "java",
   "name": "java"
  },
  "language_info": {
   "codemirror_mode": "java",
   "file_extension": ".jshell",
   "mimetype": "text/x-java-source",
   "name": "Java",
   "pygments_lexer": "java",
   "version": "17.0.10+8-LTS"
  }
 },
 "nbformat": 4,
 "nbformat_minor": 5
}
