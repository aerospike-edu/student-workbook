{
 "cells": [
  {
   "cell_type": "markdown",
   "id": "9037147c",
   "metadata": {},
   "source": [
    "# Basic Query with Expression Filter Example"
   ]
  },
  {
   "cell_type": "markdown",
   "id": "e28e6bcc",
   "metadata": {},
   "source": [
    "# Import to run %sh magic cell"
   ]
  },
  {
   "cell_type": "code",
   "execution_count": 1,
   "id": "b74ed7d1",
   "metadata": {},
   "outputs": [],
   "source": [
    "import io.github.spencerpark.ijava.IJava;\n",
    "import io.github.spencerpark.jupyter.kernel.magic.common.Shell;\n",
    "IJava.getKernelInstance().getMagics().registerMagics(Shell.class);"
   ]
  },
  {
   "cell_type": "markdown",
   "id": "31b0ddb3",
   "metadata": {},
   "source": [
    "# Add Java Client POM Dependency"
   ]
  },
  {
   "cell_type": "code",
   "execution_count": 2,
   "id": "b6447add",
   "metadata": {},
   "outputs": [],
   "source": [
    "%%loadFromPOM\n",
    "<dependencies>\n",
    "  <dependency>\n",
    "    <groupId>com.aerospike</groupId>\n",
    "    <artifactId>aerospike-client-jdk8</artifactId>\n",
    "    <version>8.1.1</version>\n",
    "  </dependency>\n",
    "</dependencies>"
   ]
  },
  {
   "cell_type": "markdown",
   "id": "83cebb5f",
   "metadata": {},
   "source": [
    "# Add required Imports"
   ]
  },
  {
   "cell_type": "code",
   "execution_count": 3,
   "id": "946d225a",
   "metadata": {},
   "outputs": [
    {
     "name": "stdout",
     "output_type": "stream",
     "text": [
      "Client modules imported.\n"
     ]
    }
   ],
   "source": [
    "import com.aerospike.client.AerospikeClient;\n",
    "import com.aerospike.client.policy.WritePolicy;\n",
    "import com.aerospike.client.Bin;\n",
    "import com.aerospike.client.Key;\n",
    "import com.aerospike.client.Record;\n",
    "import com.aerospike.client.Value;\n",
    "System.out.println(\"Client modules imported.\");"
   ]
  },
  {
   "cell_type": "markdown",
   "id": "0362ad57",
   "metadata": {},
   "source": [
    "# Generate Test Data"
   ]
  },
  {
   "cell_type": "code",
   "execution_count": 4,
   "id": "deca2f79",
   "metadata": {},
   "outputs": [],
   "source": [
    "%sh asadm --enable -e \"manage truncate ns test --no-warn\" -h \"127.0.0.1\""
   ]
  },
  {
   "cell_type": "code",
   "execution_count": 5,
   "id": "088c4f7b",
   "metadata": {},
   "outputs": [],
   "source": [
    "%sh aql -c \"set key_send true\""
   ]
  },
  {
   "cell_type": "code",
   "execution_count": 6,
   "id": "77107007",
   "metadata": {},
   "outputs": [],
   "source": [
    "%sh aql -f \"../aqlScripts/insert.aql\""
   ]
  },
  {
   "cell_type": "code",
   "execution_count": 7,
   "id": "056a887a",
   "metadata": {},
   "outputs": [
    {
     "name": "stdout",
     "output_type": "stream",
     "text": [
      "Initialized the client and connected to the cluster.\n",
      "key0 : (gen:1),(exp:453788607),(bins:(name:Sandra),(age:34))\n",
      "key1 : (gen:1),(exp:453788607),(bins:(name:Jack),(age:26))\n",
      "key2 : (gen:1),(exp:453788607),(bins:(name:Jill),(age:20))\n",
      "key3 : (gen:1),(exp:453788607),(bins:(name:James),(age:38))\n",
      "key4 : (gen:1),(exp:453788607),(bins:(name:Jim),(age:46))\n",
      "key5 : (gen:1),(exp:453788607),(bins:(name:Julia),(age:62))\n",
      "key6 : (gen:1),(exp:453788607),(bins:(name:Sally),(age:32))\n",
      "key7 : (gen:1),(exp:453788607),(bins:(name:Sean),(age:24))\n",
      "key8 : (gen:1),(exp:453788607),(bins:(name:Sam),(age:12))\n",
      "key9 : (gen:1),(exp:453788607),(bins:(name:Susan),(age:42))\n"
     ]
    }
   ],
   "source": [
    "AerospikeClient client = new AerospikeClient(\"localhost\", 3000);\n",
    "System.out.println(\"Initialized the client and connected to the cluster.\");\n",
    "for(int i=0; i<10; i++){\n",
    "    Key key = new Key(\"test\", \"testset\", \"key\"+i);\n",
    "    System.out.println(\"key\"+i+ \" : \"+client.get(null, key));\n",
    "}"
   ]
  },
  {
   "cell_type": "code",
   "execution_count": 8,
   "id": "aa5fc77d",
   "metadata": {},
   "outputs": [],
   "source": [
    "%sh asadm --enable -e \"manage sindex create numeric idx_age ns test set testset bin age\""
   ]
  },
  {
   "cell_type": "code",
   "execution_count": 9,
   "id": "cc282aad",
   "metadata": {},
   "outputs": [
    {
     "name": "stdout",
     "output_type": "stream",
     "text": [
      "(gen:1),(exp:453788607),(bins:(name:Sean),(age:24))\n",
      "(gen:1),(exp:453788607),(bins:(name:Jack),(age:26))\n",
      "(gen:1),(exp:453788607),(bins:(name:Jill),(age:20))\n"
     ]
    }
   ],
   "source": [
    "//Needed imports\n",
    "import com.aerospike.client.query.Statement;\n",
    "import com.aerospike.client.query.Filter;\n",
    "import com.aerospike.client.Operation;\n",
    "import com.aerospike.client.Bin;\n",
    "import com.aerospike.client.policy.QueryPolicy;\n",
    "import com.aerospike.client.query.RecordSet;\n",
    "\n",
    "//Run SI query\n",
    "Statement stmt = new Statement();\n",
    "stmt.setNamespace(\"test\");\n",
    "stmt.setSetName(\"testset\");\n",
    "stmt.setFilter(Filter.range(\"age\", 20,30));\n",
    "QueryPolicy qp = new QueryPolicy();\n",
    "RecordSet rs = client.query(qp, stmt);\n",
    "\n",
    "while(rs.next()){\n",
    "    Record r = rs.getRecord();\n",
    "    Key thisKey = rs.getKey();  \n",
    "    System.out.println(r);\n",
    "}\n",
    "\n"
   ]
  },
  {
   "cell_type": "markdown",
   "id": "07988d35-a648-47ad-a0c8-924f79aa01af",
   "metadata": {},
   "source": [
    "# Modify query to further select on _name_\n",
    "Find all records where age between 20 and 30  AND  name starts with S"
   ]
  },
  {
   "cell_type": "code",
   "execution_count": null,
   "id": "d9e67e68-30b4-4f9f-8bdb-026b500c55b0",
   "metadata": {},
   "outputs": [],
   "source": [
    "//Needed imports\n",
    "import com.aerospike.client.query.Statement;\n",
    "import com.aerospike.client.query.Filter;\n",
    "import com.aerospike.client.Operation;\n",
    "import com.aerospike.client.Bin;\n",
    "import com.aerospike.client.policy.QueryPolicy;\n",
    "import com.aerospike.client.query.RecordSet;\n",
    "\n",
    "// Expression Filter imports\n",
    "import com.aerospike.client.exp.Exp;\n",
    "import com.aerospike.client.exp.Expression;\n",
    "import com.aerospike.client.query.RegexFlag;\n",
    "\n",
    "//Run SI query\n",
    "Statement stmt = new Statement();\n",
    "stmt.setNamespace(\"test\");\n",
    "stmt.setSetName(\"testset\");\n",
    "stmt.setFilter(Filter.range(\"age\", 20,30));\n",
    "\n",
    "Expression nameExp = Exp.build( \n",
    "     Exp.regexCompare(\"^S.*\", RegexFlag.ICASE|RegexFlag.NEWLINE, Exp.stringBin(\"name\")) \n",
    "     );\n",
    "\n",
    "QueryPolicy qp = new QueryPolicy();\n",
    "\n",
    "qp.filterExp = nameExp;\n",
    "\n",
    "RecordSet rs = client.query(qp, stmt);\n",
    "\n",
    "while(rs.next()){\n",
    "    Record r = rs.getRecord();\n",
    "    Key thisKey = rs.getKey();  \n",
    "    System.out.println(r);\n",
    "}\n",
    "\n"
   ]
  },
  {
   "cell_type": "markdown",
   "id": "32cc8497-eac0-465d-8207-d416c414946f",
   "metadata": {},
   "source": [
    "# Write a query to select on _name_  OR _age_\n",
    "Find all records where age between 20 and 30  OR  name starts with S\n",
    "\n",
    "This can no longer utilize Secondary Index - will be a full scan with filter expression."
   ]
  },
  {
   "cell_type": "code",
   "execution_count": null,
   "id": "65ade2f5-09e1-42d9-89f6-b46d4b85eaaf",
   "metadata": {},
   "outputs": [],
   "source": [
    "//Needed imports\n",
    "import com.aerospike.client.query.Statement;\n",
    "import com.aerospike.client.query.Filter;\n",
    "import com.aerospike.client.Operation;\n",
    "import com.aerospike.client.Bin;\n",
    "import com.aerospike.client.policy.QueryPolicy;\n",
    "import com.aerospike.client.query.RecordSet;\n",
    "\n",
    "// Expression Filter imports\n",
    "import com.aerospike.client.exp.Exp;\n",
    "import com.aerospike.client.exp.Expression;\n",
    "import com.aerospike.client.query.RegexFlag;\n",
    "\n",
    "//Run SI query\n",
    "Statement stmt = new Statement();\n",
    "stmt.setNamespace(\"test\");\n",
    "stmt.setSetName(\"testset\");\n",
    "stmt.setFilter(null);\n",
    "\n",
    "Expression nameExp = Exp.build( \n",
    "    Exp.or(\n",
    "       Exp.regexCompare(\"^S.*\", RegexFlag.ICASE|RegexFlag.NEWLINE, Exp.stringBin(\"name\")),\n",
    "       Exp.and( \n",
    "           Exp.gt(Exp.intBin(\"age\"), Exp.val(20)), \n",
    "           Exp.lt(Exp.intBin(\"age\"), Exp.val(30))) \n",
    "          )\n",
    "     );\n",
    "\n",
    "QueryPolicy qp = new QueryPolicy();\n",
    "qp.filterExp = nameExp;\n",
    "RecordSet rs = client.query(qp, stmt);\n",
    "\n",
    "while(rs.next()){\n",
    "    Record r = rs.getRecord();\n",
    "    Key thisKey = rs.getKey();  \n",
    "    System.out.println(thisKey);\n",
    "    System.out.println(r);\n",
    "}\n",
    "\n"
   ]
  },
  {
   "cell_type": "markdown",
   "id": "bd7d4e72-dc30-4d69-ba05-d4d9867be2c7",
   "metadata": {},
   "source": [
    "# Cleanup"
   ]
  },
  {
   "cell_type": "code",
   "execution_count": null,
   "id": "69ce2db4",
   "metadata": {},
   "outputs": [],
   "source": [
    "%sh asadm --enable -e \"manage sindex delete idx_age ns test set testset\""
   ]
  },
  {
   "cell_type": "code",
   "execution_count": null,
   "id": "3a90fe3f-5539-4322-9741-4a209509c6b5",
   "metadata": {},
   "outputs": [],
   "source": [
    "%sh asadm --enable -e \"manage truncate ns test --no-warn\" -h \"127.0.0.1\""
   ]
  },
  {
   "cell_type": "code",
   "execution_count": null,
   "id": "1c8f409d-a8e8-4e64-a756-bb906ef17fe3",
   "metadata": {},
   "outputs": [],
   "source": []
  }
 ],
 "metadata": {
  "kernelspec": {
   "display_name": "Java",
   "language": "java",
   "name": "java"
  },
  "language_info": {
   "codemirror_mode": "java",
   "file_extension": ".jshell",
   "mimetype": "text/x-java-source",
   "name": "Java",
   "pygments_lexer": "java",
   "version": "17.0.10+8-LTS"
  }
 },
 "nbformat": 4,
 "nbformat_minor": 5
}
