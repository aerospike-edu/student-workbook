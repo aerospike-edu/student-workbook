{
 "cells": [
  {
   "cell_type": "markdown",
   "id": "9037147c",
   "metadata": {},
   "source": [
    "# Basic Query with Prefer Rack\n",
    "Running on 3 node cluster. Each node has namespace test with unique rack-id (1, 2, & 3) and RF=3.\n",
    "So each node has all the data.  Demonstrate running SI query with Preferred Rack - runs on single node."
   ]
  },
  {
   "cell_type": "markdown",
   "id": "e28e6bcc",
   "metadata": {},
   "source": [
    "# Import to run %sh magic cell"
   ]
  },
  {
   "cell_type": "code",
   "execution_count": 1,
   "id": "b74ed7d1",
   "metadata": {},
   "outputs": [],
   "source": [
    "import io.github.spencerpark.ijava.IJava;\n",
    "import io.github.spencerpark.jupyter.kernel.magic.common.Shell;\n",
    "IJava.getKernelInstance().getMagics().registerMagics(Shell.class);"
   ]
  },
  {
   "cell_type": "markdown",
   "id": "31b0ddb3",
   "metadata": {},
   "source": [
    "# Add Java Client POM Dependency"
   ]
  },
  {
   "cell_type": "code",
   "execution_count": 2,
   "id": "b6447add",
   "metadata": {},
   "outputs": [],
   "source": [
    "%%loadFromPOM\n",
    "<dependencies>\n",
    "  <dependency>\n",
    "    <groupId>com.aerospike</groupId>\n",
    "    <artifactId>aerospike-client-jdk8</artifactId>\n",
    "    <version>8.1.1</version>\n",
    "  </dependency>\n",
    "</dependencies>"
   ]
  },
  {
   "cell_type": "markdown",
   "id": "83cebb5f",
   "metadata": {},
   "source": [
    "# Add required Imports"
   ]
  },
  {
   "cell_type": "code",
   "execution_count": 3,
   "id": "946d225a",
   "metadata": {},
   "outputs": [
    {
     "name": "stdout",
     "output_type": "stream",
     "text": [
      "Client modules imported.\n"
     ]
    }
   ],
   "source": [
    "import com.aerospike.client.AerospikeClient;\n",
    "import com.aerospike.client.policy.WritePolicy;\n",
    "import com.aerospike.client.Bin;\n",
    "import com.aerospike.client.Key;\n",
    "import com.aerospike.client.Record;\n",
    "import com.aerospike.client.Value;\n",
    "\n",
    "//Needed imports for SI Query\n",
    "import com.aerospike.client.query.Statement;\n",
    "import com.aerospike.client.query.Filter;\n",
    "import com.aerospike.client.Operation;\n",
    "import com.aerospike.client.Bin;\n",
    "import com.aerospike.client.policy.QueryPolicy;\n",
    "import com.aerospike.client.query.RecordSet;\n",
    "\n",
    "//For implementing preferred rack\n",
    "import com.aerospike.client.policy.ClientPolicy;\n",
    "import com.aerospike.client.policy.Replica;\n",
    "\n",
    "System.out.println(\"Client modules imported.\");"
   ]
  },
  {
   "cell_type": "markdown",
   "id": "0362ad57",
   "metadata": {},
   "source": [
    "# Generate Test Data"
   ]
  },
  {
   "cell_type": "code",
   "execution_count": 4,
   "id": "deca2f79",
   "metadata": {},
   "outputs": [],
   "source": [
    "%sh asadm --enable -e \"manage truncate ns test --no-warn\" -h \"127.0.0.1\""
   ]
  },
  {
   "cell_type": "code",
   "execution_count": 5,
   "id": "088c4f7b",
   "metadata": {},
   "outputs": [],
   "source": [
    "%sh aql -c \"set key_send true\""
   ]
  },
  {
   "cell_type": "code",
   "execution_count": 6,
   "id": "77107007",
   "metadata": {},
   "outputs": [],
   "source": [
    "%sh aql -f \"../aqlScripts/insert.aql\""
   ]
  },
  {
   "cell_type": "code",
   "execution_count": 7,
   "id": "056a887a",
   "metadata": {},
   "outputs": [
    {
     "name": "stdout",
     "output_type": "stream",
     "text": [
      "Initialized the client and connected to the cluster.\n",
      "key0 : (gen:1),(exp:453789840),(bins:(name:Sandra),(age:34))\n",
      "key1 : (gen:1),(exp:453789840),(bins:(name:Jack),(age:26))\n",
      "key2 : (gen:1),(exp:453789840),(bins:(name:Jill),(age:20))\n",
      "key3 : (gen:1),(exp:453789840),(bins:(name:James),(age:38))\n",
      "key4 : (gen:1),(exp:453789840),(bins:(name:Jim),(age:46))\n",
      "key5 : (gen:1),(exp:453789840),(bins:(name:Julia),(age:62))\n",
      "key6 : (gen:1),(exp:453789840),(bins:(name:Sally),(age:32))\n",
      "key7 : (gen:1),(exp:453789840),(bins:(name:Sean),(age:24))\n",
      "key8 : (gen:1),(exp:453789840),(bins:(name:Sam),(age:12))\n",
      "key9 : (gen:1),(exp:453789840),(bins:(name:Susan),(age:42))\n"
     ]
    }
   ],
   "source": [
    "AerospikeClient client = new AerospikeClient(\"localhost\", 3000);\n",
    "System.out.println(\"Initialized the client and connected to the cluster.\");\n",
    "for(int i=0; i<10; i++){\n",
    "    Key key = new Key(\"test\", \"testset\", \"key\"+i);\n",
    "    System.out.println(\"key\"+i+ \" : \"+client.get(null, key));\n",
    "}"
   ]
  },
  {
   "cell_type": "code",
   "execution_count": 8,
   "id": "1351c442-f9ed-48f6-b6ec-350895bea491",
   "metadata": {},
   "outputs": [],
   "source": [
    "//Close the client\n",
    "client.close();"
   ]
  },
  {
   "cell_type": "code",
   "execution_count": 9,
   "id": "aa5fc77d",
   "metadata": {},
   "outputs": [],
   "source": [
    "%sh asadm --enable -e \"manage sindex create numeric idx_age ns test set testset bin age\""
   ]
  },
  {
   "cell_type": "markdown",
   "id": "31174420-07da-4d0b-99f4-0475d0c46b52",
   "metadata": {},
   "source": [
    "# Run Default SI Query on all nodes of cluster.\n",
    "We closed the client object after inserting records. We will create a new client object."
   ]
  },
  {
   "cell_type": "code",
   "execution_count": 10,
   "id": "cc282aad",
   "metadata": {},
   "outputs": [
    {
     "name": "stdout",
     "output_type": "stream",
     "text": [
      "(gen:1),(exp:453789840),(bins:(name:Sean),(age:24))\n",
      "(gen:1),(exp:453789840),(bins:(name:Jill),(age:20))\n",
      "(gen:1),(exp:453789840),(bins:(name:Jack),(age:26))\n"
     ]
    }
   ],
   "source": [
    "//Instantiate client object with default ClientPolicy\n",
    "\n",
    "AerospikeClient client = new AerospikeClient(\"localhost\", 3000);\n",
    "\n",
    "//Run SI query\n",
    "Statement stmt = new Statement();\n",
    "stmt.setNamespace(\"test\");\n",
    "stmt.setSetName(\"testset\");\n",
    "stmt.setFilter(Filter.range(\"age\", 20,30));\n",
    "QueryPolicy qp = new QueryPolicy();\n",
    "RecordSet rs = client.query(qp, stmt);\n",
    "\n",
    "while(rs.next()){\n",
    "    Record r = rs.getRecord();\n",
    "    Key thisKey = rs.getKey();  \n",
    "    System.out.println(r);\n",
    "}\n",
    "\n",
    "//Close this client\n",
    "client.close();"
   ]
  },
  {
   "cell_type": "markdown",
   "id": "07988d35-a648-47ad-a0c8-924f79aa01af",
   "metadata": {},
   "source": [
    "# Modify query to go to Preferred Rack (rack-id 1)\n",
    "We will monitor the logfile output on each node.\n",
    "\n",
    "sudo cat /var/log/aerospike/aerospike.log |grep si-query\n",
    "\n",
    "May 14 2024 04:36:42 GMT: INFO (info): (ticker.c:885) {test} si-query: short-basic (0,0,0) long-basic (2,0,0) aggr (0,0,0) udf-bg (0,0,0) ops-bg (0,0,0) \n",
    "\n",
    "and see long-basic counts on each node."
   ]
  },
  {
   "cell_type": "code",
   "execution_count": 14,
   "id": "9bf10ce0-7829-4f08-ad6d-da39b5c8870e",
   "metadata": {},
   "outputs": [
    {
     "name": "stdout",
     "output_type": "stream",
     "text": [
      "(gen:1),(exp:453789840),(bins:(name:Sean),(age:24))\n",
      "(gen:1),(exp:453789840),(bins:(name:Jill),(age:20))\n",
      "(gen:1),(exp:453789840),(bins:(name:Jack),(age:26))\n"
     ]
    }
   ],
   "source": [
    "//Instantiate client object with Preferred Rack ClientPolicy\n",
    "ClientPolicy cp = new ClientPolicy();\n",
    "cp.rackId = 1;\n",
    "cp.rackAware = true;\n",
    "AerospikeClient client = new AerospikeClient(cp, \"localhost\", 3000);\n",
    "\n",
    "//Run SI query\n",
    "Statement stmt = new Statement();\n",
    "stmt.setNamespace(\"test\");\n",
    "stmt.setSetName(\"testset\");\n",
    "stmt.setFilter(Filter.range(\"age\", 20,30));\n",
    "QueryPolicy qp = new QueryPolicy();\n",
    "\n",
    "//Specify query to use preferred rack\n",
    "qp.replica = Replica.PREFER_RACK;\n",
    "\n",
    "RecordSet rs = client.query(qp, stmt);\n",
    "\n",
    "while(rs.next()){\n",
    "    Record r = rs.getRecord();\n",
    "    Key thisKey = rs.getKey();  \n",
    "    System.out.println(r);\n",
    "}\n",
    "\n",
    "//Close this client\n",
    "client.close();"
   ]
  },
  {
   "cell_type": "markdown",
   "id": "bd7d4e72-dc30-4d69-ba05-d4d9867be2c7",
   "metadata": {},
   "source": [
    "# Cleanup"
   ]
  },
  {
   "cell_type": "code",
   "execution_count": null,
   "id": "69ce2db4",
   "metadata": {},
   "outputs": [],
   "source": [
    "%sh asadm --enable -e \"manage sindex delete idx_age ns test set testset\""
   ]
  },
  {
   "cell_type": "code",
   "execution_count": null,
   "id": "3a90fe3f-5539-4322-9741-4a209509c6b5",
   "metadata": {},
   "outputs": [],
   "source": [
    "%sh asadm --enable -e \"manage truncate ns test --no-warn\" -h \"127.0.0.1\""
   ]
  },
  {
   "cell_type": "code",
   "execution_count": null,
   "id": "1c8f409d-a8e8-4e64-a756-bb906ef17fe3",
   "metadata": {},
   "outputs": [],
   "source": []
  }
 ],
 "metadata": {
  "kernelspec": {
   "display_name": "Java",
   "language": "java",
   "name": "java"
  },
  "language_info": {
   "codemirror_mode": "java",
   "file_extension": ".jshell",
   "mimetype": "text/x-java-source",
   "name": "Java",
   "pygments_lexer": "java",
   "version": "17.0.10+8-LTS"
  }
 },
 "nbformat": 4,
 "nbformat_minor": 5
}
