{
 "cells": [
  {
   "cell_type": "markdown",
   "id": "17103708-5792-4a7c-8cc1-8344e1037aed",
   "metadata": {},
   "source": [
    "### Housekeeping - Setup & wipe out any prior records on the Aerospike Server\n",
    "\n",
    "We have a namespace **_test_** pre-defined on the server. Lets truncate it using _asadm_.\n",
    "\n",
    "This is needed while doing code development. If you want to clear the iJava Kernel of all Java objects and run all cells from scratch, Kernel->Restart & Run All, this will ensure any records written on the underlying Aerospike cluster are purged.\n",
    "\n",
    "First, we need required imports for using %sh in interactive Java Kernel. (This is specific to the iJava Kernel implementation by **Spencer Park** that we are using.)\n"
   ]
  },
  {
   "cell_type": "markdown",
   "id": "9037147c",
   "metadata": {},
   "source": [
    "# Import to run %sh magic cell"
   ]
  },
  {
   "cell_type": "code",
   "execution_count": 31,
   "id": "b74ed7d1",
   "metadata": {},
   "outputs": [],
   "source": [
    "import io.github.spencerpark.ijava.IJava;\n",
    "import io.github.spencerpark.jupyter.kernel.magic.common.Shell;\n",
    "IJava.getKernelInstance().getMagics().registerMagics(Shell.class);"
   ]
  },
  {
   "cell_type": "markdown",
   "id": "7ac5ea07-251f-4146-b894-553bdd09ccd8",
   "metadata": {},
   "source": [
    "### Running _asadm_ in iJava\n",
    "We can run _asadm_ commands inline. Below, we will use the truncation command, which normally requires an interactive confirmation, which we will skip by using the _--no-warn_ flag. No output will be displayed.\n"
   ]
  },
  {
   "cell_type": "code",
   "execution_count": 32,
   "id": "582414cf-1972-4021-8834-c71c381ea0c8",
   "metadata": {},
   "outputs": [],
   "source": [
    "%sh asadm --enable -e \"manage truncate ns test --no-warn\" -h \"127.0.0.1\""
   ]
  },
  {
   "cell_type": "markdown",
   "id": "f29906d2-5c4b-4aab-95cb-a8f8cd22a433",
   "metadata": {},
   "source": [
    "### Displaying shell command output:\n",
    "**Note**: Will not display _asadm_ or _aql_ executables output."
   ]
  },
  {
   "cell_type": "code",
   "execution_count": 33,
   "id": "d1e5911d",
   "metadata": {},
   "outputs": [
    {
     "name": "stdout",
     "output_type": "stream",
     "text": [
      "/home/training/student-workbook/v7.0/jn/codeExamples\n"
     ]
    }
   ],
   "source": [
    "String command = \"pwd\";\n",
    " \n",
    "try {\n",
    "    Process process = Runtime.getRuntime().exec(command);\n",
    " \n",
    "    BufferedReader reader = new BufferedReader(\n",
    "            new InputStreamReader(process.getInputStream()));\n",
    "    String line;\n",
    "    while ((line = reader.readLine()) != null) {\n",
    "        System.out.println(line);\n",
    "    }\n",
    " \n",
    "    reader.close();\n",
    " \n",
    "} catch (IOException e) {\n",
    "    e.printStackTrace();\n",
    "}"
   ]
  },
  {
   "cell_type": "markdown",
   "id": "31b0ddb3",
   "metadata": {},
   "source": [
    "# Add Java Client POM Dependency"
   ]
  },
  {
   "cell_type": "code",
   "execution_count": 34,
   "id": "b6447add",
   "metadata": {},
   "outputs": [],
   "source": [
    "%%loadFromPOM\n",
    "<dependencies>\n",
    "  <dependency>\n",
    "    <groupId>com.aerospike</groupId>\n",
    "    <artifactId>aerospike-client-jdk8</artifactId>\n",
    "    <version>8.1.1</version>\n",
    "  </dependency>\n",
    "</dependencies>"
   ]
  },
  {
   "cell_type": "markdown",
   "id": "83cebb5f",
   "metadata": {},
   "source": [
    "# Add required Imports"
   ]
  },
  {
   "cell_type": "code",
   "execution_count": 35,
   "id": "946d225a",
   "metadata": {},
   "outputs": [
    {
     "name": "stdout",
     "output_type": "stream",
     "text": [
      "Client modules imported.\n"
     ]
    }
   ],
   "source": [
    "import com.aerospike.client.AerospikeClient;\n",
    "import com.aerospike.client.policy.WritePolicy;\n",
    "import com.aerospike.client.Bin;\n",
    "import com.aerospike.client.Key;\n",
    "import com.aerospike.client.Record;\n",
    "import com.aerospike.client.Value;\n",
    "System.out.println(\"Client modules imported.\");"
   ]
  },
  {
   "cell_type": "markdown",
   "id": "0362ad57",
   "metadata": {},
   "source": [
    "# Accessing a record on the Aerospike Server\n",
    "We build the Key object in Java\n",
    "We need the namespace and the record digest to find the record on the server.\n",
    "The record digest is computed by the client library using application provided key (integer, string or byte-array) and the set name. If not in a set, use null for set name.\n",
    "\n",
    "<img src=\"./graphics/RecordKey.png\"\n",
    "     alt=\"Record Digest\"\n",
    "     style=\"float: left; margin-right: 10px;\"\n",
    "     width=\"600\"\n",
    "     height=\"400\"/>"
   ]
  },
  {
   "cell_type": "markdown",
   "id": "865cf149",
   "metadata": {},
   "source": [
    "# Insert test records\n",
    "* Our one node server is already running on localhost (same server as the Jupyter Notebook server).\n",
    "* Unlike in iPython kernel for Jupyter Notebook, we can only execute a single line of shell command in IJava kernel."
   ]
  },
  {
   "cell_type": "code",
   "execution_count": 36,
   "id": "088c4f7b",
   "metadata": {},
   "outputs": [],
   "source": [
    "%sh aql -c \"set key_send true\""
   ]
  },
  {
   "cell_type": "code",
   "execution_count": 37,
   "id": "77107007",
   "metadata": {},
   "outputs": [],
   "source": [
    "%sh aql -f \"./aqlScripts/insert.aql\""
   ]
  },
  {
   "cell_type": "code",
   "execution_count": 38,
   "id": "056a887a",
   "metadata": {},
   "outputs": [
    {
     "name": "stdout",
     "output_type": "stream",
     "text": [
      "Initialized the client and connected to the cluster.\n",
      "Working with record key:\n",
      "test:testset:key1:bf6c1d13e7cd10c5bd022d27e7df170c0bccd6e1\n",
      "Read back the record.\n",
      "Record values are:\n",
      "(gen:1),(exp:0),(bins:(name:Jack),(age:26))\n"
     ]
    }
   ],
   "source": [
    "AerospikeClient client = new AerospikeClient(\"localhost\", 3000);\n",
    "System.out.println(\"Initialized the client and connected to the cluster.\");\n",
    "\n",
    "Key key = new Key(\"test\", \"testset\", \"key1\");\n",
    "System.out.println(\"Working with record key:\");\n",
    "System.out.println(key);\n",
    "\n",
    "Record record = client.get(null, key);\n",
    "System.out.println(\"Read back the record.\");\n",
    "\n",
    "System.out.println(\"Record values are:\");\n",
    "System.out.println(record);"
   ]
  },
  {
   "cell_type": "code",
   "execution_count": 39,
   "id": "aa5fc77d",
   "metadata": {},
   "outputs": [],
   "source": [
    "%sh asadm --enable -e \"manage sindex create numeric idx_age ns test set testset bin age\""
   ]
  },
  {
   "cell_type": "code",
   "execution_count": 40,
   "id": "cc282aad",
   "metadata": {},
   "outputs": [
    {
     "name": "stdout",
     "output_type": "stream",
     "text": [
      "(gen:1),(exp:0),(bins:(name:Jill),(age:20))\n",
      "(gen:1),(exp:0),(bins:(name:Jack),(age:26))\n"
     ]
    }
   ],
   "source": [
    "//Needed imports\n",
    "import com.aerospike.client.query.Statement;\n",
    "import com.aerospike.client.query.Filter;\n",
    "import com.aerospike.client.query.RecordSet;\n",
    "import com.aerospike.client.policy.QueryPolicy;\n",
    "import com.aerospike.client.exp.Exp;\n",
    "import com.aerospike.client.exp.Exp.Type;\n",
    "\n",
    "//Run SI query\n",
    "Statement stmt = new Statement();\n",
    "stmt.setNamespace(\"test\");\n",
    "stmt.setSetName(\"testset\");\n",
    "stmt.setFilter(Filter.range(\"age\", 20,30));\n",
    "QueryPolicy qp = new QueryPolicy();\n",
    "\n",
    "Exp exp = Exp.val(false);  //init to false\n",
    "// Add Expression\n",
    "/*\n",
    "qp.filterExp = Exp.build(Exp.or( \n",
    "  Exp.eq(Exp.key(Type.STRING), Exp.val(\"key1\")),   //Jack\n",
    "  Exp.eq(Exp.key(Type.STRING), Exp.val(\"key2\")),   //Jill\n",
    "  Exp.eq(Exp.key(Type.STRING), Exp.val(\"key8\"))    //Sam, age 12, SI age reject.\n",
    "  )\n",
    "  );\n",
    "\n",
    "*/\n",
    "String[] keys = {\"key1\", \"key2\", \"key8\"};\n",
    "for (int i=0; i<keys.length; i++)\n",
    "{\n",
    "   exp = Exp.or(exp, Exp.eq(Exp.key(Type.STRING), Exp.val(keys[i]))); \n",
    "}\n",
    "qp.filterExp = Exp.build(exp);\n",
    "\n",
    "RecordSet rs = client.query(qp, stmt);\n",
    "while (rs.next()){\n",
    "  Record r = rs.getRecord();\n",
    "  System.out.println(r);\n",
    "}"
   ]
  },
  {
   "cell_type": "code",
   "execution_count": 41,
   "id": "1aef60ff",
   "metadata": {},
   "outputs": [],
   "source": [
    "//CLASS Cell\n",
    "class myTest {\n",
    "  public void foo (Record rec) {\n",
    "    System.out.println(\"Calling myTest:foo() to print rec:\"+rec);\n",
    "  }\n",
    "}"
   ]
  },
  {
   "cell_type": "code",
   "execution_count": 42,
   "id": "31307777",
   "metadata": {},
   "outputs": [
    {
     "name": "stdout",
     "output_type": "stream",
     "text": [
      "Calling myTest:foo() to print rec:(gen:1),(exp:0),(bins:(name:Jack),(age:26))\n"
     ]
    }
   ],
   "source": [
    "myTest myobj = new myTest();\n",
    "myobj.foo(record);"
   ]
  },
  {
   "cell_type": "markdown",
   "id": "bf09c785-f792-4ae6-87f1-1c68cf277162",
   "metadata": {},
   "source": [
    "# Cleanup"
   ]
  },
  {
   "cell_type": "code",
   "execution_count": 43,
   "id": "28bc56be-7427-41a5-9739-07e80c9f0234",
   "metadata": {},
   "outputs": [],
   "source": [
    "%sh asadm --enable -e \"manage sindex delete idx_age ns test set testset\""
   ]
  },
  {
   "cell_type": "code",
   "execution_count": 44,
   "id": "432ffb71-e787-41a6-bd9f-c089122424f0",
   "metadata": {},
   "outputs": [],
   "source": [
    "%sh asadm --enable -e \"manage truncate ns test --no-warn\" -h \"127.0.0.1\""
   ]
  },
  {
   "cell_type": "code",
   "execution_count": null,
   "id": "57874ddf-b118-4393-a844-68d318ea087c",
   "metadata": {},
   "outputs": [],
   "source": []
  }
 ],
 "metadata": {
  "kernelspec": {
   "display_name": "Java",
   "language": "java",
   "name": "java"
  },
  "language_info": {
   "codemirror_mode": "java",
   "file_extension": ".jshell",
   "mimetype": "text/x-java-source",
   "name": "Java",
   "pygments_lexer": "java",
   "version": "17.0.10+8-LTS"
  }
 },
 "nbformat": 4,
 "nbformat_minor": 5
}
