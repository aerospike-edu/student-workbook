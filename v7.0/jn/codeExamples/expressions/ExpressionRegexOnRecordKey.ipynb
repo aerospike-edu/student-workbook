{
 "cells": [
  {
   "cell_type": "markdown",
   "id": "28b3e822",
   "metadata": {},
   "source": [
    "# Running Secondary Index Query with Regex on String Key Stored in Aerospike"
   ]
  },
  {
   "cell_type": "markdown",
   "id": "0be78fea-47a8-4163-8511-b758d8e08f70",
   "metadata": {},
   "source": [
    "### Housekeeping - Setup & wipe out any prior records on the Aerospike Server\n",
    "\n",
    "We have a namespace **_test_** pre-defined on the server. Lets truncate it using _asadm_.\n",
    "\n",
    "This is needed while doing code development. If you want to clear the iJava Kernel of all Java objects and run all cells from scratch, Kernel->Restart & Run All, this will ensure any records written on the underlying Aerospike cluster are purged.\n",
    "\n",
    "First, we need required imports for using %sh in interactive Java Kernel. (This is specific to the iJava Kernel implementation by **Spencer Park** that we are using.)"
   ]
  },
  {
   "cell_type": "code",
   "execution_count": 21,
   "id": "eb85febe",
   "metadata": {},
   "outputs": [],
   "source": [
    "import io.github.spencerpark.ijava.IJava;\n",
    "import io.github.spencerpark.jupyter.kernel.magic.common.Shell;\n",
    "IJava.getKernelInstance().getMagics().registerMagics(Shell.class);"
   ]
  },
  {
   "cell_type": "markdown",
   "id": "1b305b92",
   "metadata": {},
   "source": [
    "### Running _asadm_ in iJava\n",
    "We can run _asadm_ commands inline. Below, we will use the truncation command, which normally requires an interactive confirmation, which we will skip by using the _--no-warn_ flag. No output will be displayed."
   ]
  },
  {
   "cell_type": "code",
   "execution_count": 22,
   "id": "0f11685a",
   "metadata": {},
   "outputs": [],
   "source": [
    "%sh asadm --enable -e \"manage truncate ns test --no-warn\" -h \"127.0.0.1\""
   ]
  },
  {
   "cell_type": "markdown",
   "id": "4b23c8bf",
   "metadata": {},
   "source": [
    "#### Add Java Client POM Dependency  \n",
    "Jupyter Notebook way!"
   ]
  },
  {
   "cell_type": "code",
   "execution_count": 23,
   "id": "c7d10ca8",
   "metadata": {},
   "outputs": [],
   "source": [
    "%%loadFromPOM\n",
    "<dependencies>\n",
    "  <dependency>\n",
    "    <groupId>com.aerospike</groupId>\n",
    "    <artifactId>aerospike-client-jdk8</artifactId>\n",
    "    <version>8.1.1</version>\n",
    "  </dependency>\n",
    "</dependencies>"
   ]
  },
  {
   "cell_type": "markdown",
   "id": "e03decf9",
   "metadata": {},
   "source": [
    "####  Java Client Imports"
   ]
  },
  {
   "cell_type": "code",
   "execution_count": 24,
   "id": "b5ec301d",
   "metadata": {},
   "outputs": [],
   "source": [
    "import com.aerospike.client.AerospikeClient;\n",
    "import com.aerospike.client.policy.WritePolicy;\n",
    "import com.aerospike.client.Bin;\n",
    "import com.aerospike.client.Key;\n",
    "import com.aerospike.client.Record;\n",
    "import com.aerospike.client.Value;\n",
    "\n",
    "// Expression Filter imports\n",
    "import com.aerospike.client.exp.Exp;\n",
    "import com.aerospike.client.exp.Expression;\n",
    "import com.aerospike.client.query.RegexFlag;\n",
    "\n",
    "//Query Imports\n",
    "import com.aerospike.client.query.Statement;\n",
    "import com.aerospike.client.policy.QueryPolicy;\n",
    "import com.aerospike.client.query.RecordSet;"
   ]
  },
  {
   "cell_type": "code",
   "execution_count": 25,
   "id": "36b41976-5701-486c-8bfa-69174cbf7e8e",
   "metadata": {},
   "outputs": [],
   "source": [
    "%sh aql -c \"set key_send true\""
   ]
  },
  {
   "cell_type": "code",
   "execution_count": 26,
   "id": "4c6c4871-28f2-4806-93fc-380b7dfceefb",
   "metadata": {},
   "outputs": [],
   "source": [
    "%sh aql -f \"../aqlScripts/insert.aql\""
   ]
  },
  {
   "cell_type": "code",
   "execution_count": 27,
   "id": "b4278f0a-fcf8-415b-b4fb-5684f1c571a5",
   "metadata": {},
   "outputs": [
    {
     "name": "stdout",
     "output_type": "stream",
     "text": [
      "Initialized the client and connected to the cluster.\n",
      "key0 : (gen:1),(exp:453831888),(bins:(name:Sandra),(age:34))\n",
      "key1 : (gen:1),(exp:453831888),(bins:(name:Jack),(age:26))\n",
      "key2 : (gen:1),(exp:453831888),(bins:(name:Jill),(age:20))\n",
      "key3 : (gen:1),(exp:453831888),(bins:(name:James),(age:38))\n",
      "key4 : (gen:1),(exp:453831888),(bins:(name:Jim),(age:46))\n",
      "key5 : (gen:1),(exp:453831888),(bins:(name:Julia),(age:62))\n",
      "key6 : (gen:1),(exp:453831888),(bins:(name:Sally),(age:32))\n",
      "key7 : (gen:1),(exp:453831888),(bins:(name:Sean),(age:24))\n",
      "key8 : (gen:1),(exp:453831888),(bins:(name:Sam),(age:12))\n",
      "key9 : (gen:1),(exp:453831888),(bins:(name:Susan),(age:42))\n"
     ]
    }
   ],
   "source": [
    "AerospikeClient client = new AerospikeClient(\"localhost\", 3000);\n",
    "System.out.println(\"Initialized the client and connected to the cluster.\");\n",
    "for(int i=0; i<10; i++){\n",
    "    Key key = new Key(\"test\", \"testset\", \"key\"+i);\n",
    "    System.out.println(\"key\"+i+ \" : \"+client.get(null, key));\n",
    "}"
   ]
  },
  {
   "cell_type": "code",
   "execution_count": 29,
   "id": "96e1e2bb-89f9-49af-a73d-e4ed029c62d0",
   "metadata": {},
   "outputs": [
    {
     "name": "stdout",
     "output_type": "stream",
     "text": [
      "test:testset:key2:c10b2c764e604c439039804ec947fa2b18520d1a\n",
      "(gen:1),(exp:453831888),(bins:(name:Jill),(age:20))\n",
      "test:testset:key3:10fd8f59adf1833152e439a2e03c19efcb12c145\n",
      "(gen:1),(exp:453831888),(bins:(name:James),(age:38))\n"
     ]
    }
   ],
   "source": [
    "//Run SI query\n",
    "Statement stmt = new Statement();\n",
    "stmt.setNamespace(\"test\");\n",
    "stmt.setSetName(\"testset\");\n",
    "\n",
    "//Filter key by expressions\n",
    "Expression recKeyExp = Exp.build( \n",
    "    Exp.regexCompare(\".*[2,3]\", RegexFlag.ICASE|RegexFlag.NEWLINE, Exp.key(Exp.Type.STRING))\n",
    "    ); \n",
    "QueryPolicy qp = new QueryPolicy();\n",
    "qp.filterExp = recKeyExp;\n",
    "RecordSet rs = client.query(qp, stmt);\n",
    "\n",
    "while(rs.next()){\n",
    "    Record r = rs.getRecord();\n",
    "    Key thisKey = rs.getKey();  \n",
    "    System.out.println(thisKey);\n",
    "    System.out.println(r);\n",
    "}"
   ]
  },
  {
   "cell_type": "markdown",
   "id": "6a28d101-8f2c-43d8-9980-209ea18a46ef",
   "metadata": {},
   "source": [
    "# Cleanup"
   ]
  },
  {
   "cell_type": "code",
   "execution_count": 5,
   "id": "e1bdd2ce-1e81-4ca6-92d0-09a920b955a8",
   "metadata": {},
   "outputs": [],
   "source": [
    "%sh asadm --enable -e \"manage truncate ns test --no-warn\" -h \"127.0.0.1\""
   ]
  },
  {
   "cell_type": "code",
   "execution_count": null,
   "id": "0891fb79-0b9c-4fbe-a88e-3919eca9eb57",
   "metadata": {},
   "outputs": [],
   "source": []
  }
 ],
 "metadata": {
  "kernelspec": {
   "display_name": "Java",
   "language": "java",
   "name": "java"
  },
  "language_info": {
   "codemirror_mode": "java",
   "file_extension": ".jshell",
   "mimetype": "text/x-java-source",
   "name": "Java",
   "pygments_lexer": "java",
   "version": "17.0.10+8-LTS"
  }
 },
 "nbformat": 4,
 "nbformat_minor": 5
}
