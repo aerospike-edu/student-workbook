{
 "cells": [
  {
   "cell_type": "markdown",
   "id": "28b3e822",
   "metadata": {},
   "source": [
    "### Housekeeping - Setup & wipe out any prior records on the Aerospike Server\n",
    "\n",
    "We have a namespace **_test_** pre-defined on the server. Lets truncate it using aql.\n",
    "\n",
    "This is needed while doing code development. If you want to clear the iJava Kernel of all Java objects and run all cells from scratch, Kernel->Restart & Run All, this will ensure any records written on the underlying Aerospike cluster are purged.\n",
    "\n",
    "First, we need required imports for using %sh in interactive Java Kernel. (This is specific to the iJava Kernel implementation by **Spencer Park** that we are using.)"
   ]
  },
  {
   "cell_type": "code",
   "execution_count": 6,
   "id": "eb85febe",
   "metadata": {},
   "outputs": [],
   "source": [
    "import io.github.spencerpark.ijava.IJava;\n",
    "import io.github.spencerpark.jupyter.kernel.magic.common.Shell;\n",
    "IJava.getKernelInstance().getMagics().registerMagics(Shell.class);"
   ]
  },
  {
   "cell_type": "markdown",
   "id": "1b305b92",
   "metadata": {},
   "source": [
    "### Runing aql in iJava\n",
    "We can run aql commands in a file. No output will be displayed. \n",
    "In _trucate_test.aql_, we have a single AQL command: TRUNCATE test\n",
    "\n"
   ]
  },
  {
   "cell_type": "code",
   "execution_count": 7,
   "id": "0f11685a",
   "metadata": {},
   "outputs": [],
   "source": [
    "%sh aql -c \"truncate test\" -h \"3.235.121.162\""
   ]
  },
  {
   "cell_type": "markdown",
   "id": "4b23c8bf",
   "metadata": {},
   "source": [
    "#### Add Java Client POM Dependency  \n",
    "Jupyter Notebook way!"
   ]
  },
  {
   "cell_type": "code",
   "execution_count": 8,
   "id": "c7d10ca8",
   "metadata": {},
   "outputs": [],
   "source": [
    "%%loadFromPOM\n",
    "<dependencies>\n",
    "  <dependency>\n",
    "    <groupId>com.aerospike</groupId>\n",
    "    <artifactId>aerospike-client</artifactId>\n",
    "    <version>6.0.0</version>\n",
    "  </dependency>\n",
    "</dependencies>"
   ]
  },
  {
   "cell_type": "markdown",
   "id": "e03decf9",
   "metadata": {},
   "source": [
    "####  Java Client Imports and Test code"
   ]
  },
  {
   "cell_type": "code",
   "execution_count": 26,
   "id": "b5ec301d",
   "metadata": {},
   "outputs": [
    {
     "name": "stdout",
     "output_type": "stream",
     "text": [
      "Record: (gen:288),(exp:417763034),(bins:(b00:1),(data:[]))\n",
      "Record Size in bytes: 80\n",
      "Record Size in bytes: text 80\n",
      "Record Size in bytes: text 56192\n",
      "Bin Array (each element = #128 bytes) Size: 500\n",
      "Record Size in bytes: text 56192\n",
      "Record Size in bytes: text 111808\n",
      "Bin Array (each element = #128 bytes) Size: 1000\n",
      "Record Size in bytes: text 111808\n",
      "Record Size in bytes: text 167392\n",
      "Bin Array (each element = #128 bytes) Size: 1500\n",
      "Record Size in bytes: text 167392\n",
      "Record Size in bytes: text 223040\n",
      "Bin Array (each element = #128 bytes) Size: 2000\n",
      "Record Size in bytes: text 223040\n",
      "Record Size in bytes: text 278608\n",
      "Bin Array (each element = #128 bytes) Size: 2500\n",
      "Record Size in bytes: text 278608\n",
      "Record Size in bytes: text 334112\n",
      "Bin Array (each element = #128 bytes) Size: 3000\n",
      "Operate error. Resultcode: Record too big\n"
     ]
    }
   ],
   "source": [
    "//Required Imports\n",
    "import com.aerospike.client.AerospikeClient;\n",
    "import com.aerospike.client.policy.WritePolicy;\n",
    "import com.aerospike.client.Bin;\n",
    "import com.aerospike.client.Key;\n",
    "import com.aerospike.client.Record;\n",
    "import com.aerospike.client.Value;\n",
    "import com.aerospike.client.Operation;\n",
    "import com.aerospike.client.exp.Exp;\n",
    "import com.aerospike.client.exp.ExpOperation;\n",
    "import com.aerospike.client.exp.ExpReadFlags;\n",
    "import com.aerospike.client.exp.Expression;\n",
    "import com.aerospike.client.cdt.ListOperation;\n",
    "import com.aerospike.client.exp.ListExp;\n",
    "\n",
    "import com.aerospike.client.AerospikeException;\n",
    "import com.aerospike.client.ResultCode;\n",
    "\n",
    "import java.util.Random;\n",
    "\n",
    "AerospikeClient client = new AerospikeClient(\"3.235.121.162\", 3000);\n",
    "Key key = new Key(\"test\", \"testset\", \"key1\");\n",
    "WritePolicy wPolicy = new WritePolicy();\n",
    "Bin b0 = new Bin(\"b00\", Value.get(1)); //int bin\n",
    "\n",
    "List<Value> myList = new ArrayList<Value>();\n",
    "Bin listData = new Bin(\"data\", Value.get(myList));\n",
    "//Note: Adding empty bin \"data\" so that list size expression can execute to start with.\n",
    "\n",
    "client.put(wPolicy, key, b0, listData);\n",
    "System.out.println(\"Record: \"+ client.get(null, key)); //check record got inserted\n",
    "\n",
    "//Using expressions to read record metadata in PI that has size of record on device\n",
    "Expression recSizeExp = Exp.build(Exp.deviceSize());\n",
    "Record record = client.operate( wPolicy, key,   \n",
    "          ExpOperation.read(\"size\", recSizeExp, ExpReadFlags.DEFAULT) \n",
    "         );\n",
    "System.out.println(\"Record Size in bytes: \" + record.getValue(\"size\"));\n",
    "int iMaxListSize = 8500;\n",
    "wPolicy.filterExp = Exp.build(Exp.lt(ListExp.size(Exp.listBin(\"data\")),Exp.val(iMaxListSize)));\n",
    "wPolicy.failOnFilteredOut = true;\n",
    "\n",
    "try {\n",
    "    int j=0;\n",
    "    int k=0;\n",
    "    Random rndj = new Random();\n",
    "    Random rndk = new Random();\n",
    "    \n",
    "    while(true) {\n",
    "        List<Value> values = new ArrayList<>();\n",
    "        \n",
    "        for (int i = 0; i < 500; i++) {\n",
    "            //values.add(Value.get(\"111111111111111111111111111111111111111111111111111111111111111111111111111111111111111111111111111111111111111111111111111111111111\"));\n",
    "            j=rndj.nextInt(1000000);\n",
    "            k=rndk.nextInt(j);\n",
    "            String strval = \"aquic\"+k+\"kbrown\"+j+\"fox\"+k+\"jum\"+j+\"psri\"+j+\"ght\"+j+\"ove\"+k+\"rt\"+j+\"hela\"+k+\"zyd\"+j+\"og\"+j+\"aqu\"+j+\"ick\"+k+\"br\"+j+\"o\"+k+\"wnfo\"+j+\"xjum\"+j+\"ps\"+k+\"rig\"+j+\"hto\"+k+\"ver\"+j+\"the\"+k+\"la\"+j+\"zydog\"+(j*5)+\"aqu\"+k+\"ick\"+j+\"bro\"+k+\"w\"+j+\"nfoxjum\"+j+\"psrigh\"+j+\"tove\"+j+\"rthe\"+i+\"laz\"+i+\"ydog\"+(j+10)+\"end\";\n",
    "              values.add(Value.get(strval));\n",
    "         }\n",
    "        Expression recSizeExp = Exp.build(Exp.deviceSize());\n",
    "        \n",
    "        Record r1 = client.operate(wPolicy, key, \n",
    "                    ExpOperation.read(\"size\", recSizeExp, ExpReadFlags.DEFAULT), \n",
    "                    ListOperation.appendItems(\"data\", values, null));\n",
    "        \n",
    "        System.out.println(\"Record Size in bytes: text \" + r1.getValue(\"size\"));\n",
    "        \n",
    "        Record record = client.operate( null, key, \n",
    "                        ExpOperation.read(\"size\", recSizeExp, ExpReadFlags.DEFAULT), \n",
    "                        ListOperation.size(\"data\", null)  //<-- gives number of elements in list\n",
    "                        );       \n",
    "        \n",
    "        System.out.println(\"Record Size in bytes: text \" + record.getValue(\"size\"));        \n",
    "        System.out.println(\"Bin Array (each element = #128 bytes) Size: \" + record.getValue(\"data\"));\n",
    "        \n",
    "        \n",
    "    }\n",
    "} catch (AerospikeException e){\n",
    "  int rc = e.getResultCode();\n",
    "  if(rc == ResultCode.FILTERED_OUT){\n",
    "    System.out.println(\"Array Limit Exceeded. ==> Split the Record.\");\n",
    "  }\n",
    "  else{\n",
    "    System.out.println(\"Operate error. Resultcode: \"+ ResultCode.getResultString(rc));\n",
    "  }\n",
    "}\n"
   ]
  },
  {
   "cell_type": "markdown",
   "id": "438d9e6e",
   "metadata": {},
   "source": [
    "### Not a Bug\n",
    "Just insert this one record. However start by shutting down the node, wiping the node data file and restart before running the test.  This will reset the moving average device compression ratio. Otherwise prior test updates may give erroneous compression_ratio number.\n",
    "\n",
    "Use asadm to see device compression ratio.  \n",
    "The original string with all 1's was extremely compressible. The new string created above with random numbers is down to 36% compressible. (Device compression ratio = compressed_size/original_size = 36%.)\n",
    "\n",
    "```\n",
    "Admin+> asinfo -v 'namespace/test' like compression_ratio\n",
    "ec2-44-200-159-121.compute-1.amazonaws.com:3000 (44.200.159.121) returned:\n",
    "device_compression_ratio=0.357; ...\n",
    "```\n",
    "\n",
    "and 334,112 bytes was the record size before we hit _Record Too Big_. \n",
    "\n",
    "```\n",
    "334112/.357 = ~ 935,887 ....next append made it went over > 1MB.\n",
    "```"
   ]
  },
  {
   "cell_type": "code",
   "execution_count": null,
   "id": "b66dbe8e",
   "metadata": {},
   "outputs": [],
   "source": []
  }
 ],
 "metadata": {
  "kernelspec": {
   "display_name": "Java",
   "language": "java",
   "name": "java"
  },
  "language_info": {
   "codemirror_mode": "java",
   "file_extension": ".jshell",
   "mimetype": "text/x-java-source",
   "name": "Java",
   "pygments_lexer": "java",
   "version": "11.0.16+8-LTS"
  }
 },
 "nbformat": 4,
 "nbformat_minor": 5
}
