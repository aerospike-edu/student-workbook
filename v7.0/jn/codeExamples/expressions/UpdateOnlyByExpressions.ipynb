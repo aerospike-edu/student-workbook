{
 "cells": [
  {
   "cell_type": "markdown",
   "id": "28b3e822",
   "metadata": {},
   "source": [
    "### Housekeeping - Setup & wipe out any prior records on the Aerospike Server\n",
    "\n",
    "We have a namespace **_test_** pre-defined on the server. Lets truncate it using aql.\n",
    "\n",
    "This is needed while doing code development. If you want to clear the iJava Kernel of all Java objects and run all cells from scratch, Kernel->Restart & Run All, this will ensure any records written on the underlying Aerospike cluster are purged.\n",
    "\n",
    "First, we need required imports for using %sh in interactive Java Kernel. (This is specific to the iJava Kernel implementation by **Spencer Park** that we are using.)"
   ]
  },
  {
   "cell_type": "code",
   "execution_count": 2,
   "id": "eb85febe",
   "metadata": {},
   "outputs": [],
   "source": [
    "import io.github.spencerpark.ijava.IJava;\n",
    "import io.github.spencerpark.jupyter.kernel.magic.common.Shell;\n",
    "IJava.getKernelInstance().getMagics().registerMagics(Shell.class);"
   ]
  },
  {
   "cell_type": "markdown",
   "id": "1b305b92",
   "metadata": {},
   "source": [
    "### Runing aql in iJava\n",
    "We can run aql commands in a file. No output will be displayed. \n",
    "In _trucate_test.aql_, we have a single AQL command: TRUNCATE test\n",
    "\n"
   ]
  },
  {
   "cell_type": "code",
   "execution_count": 3,
   "id": "0f11685a",
   "metadata": {},
   "outputs": [],
   "source": [
    "%sh aql -c \"truncate test\" -h \"3.235.121.162\""
   ]
  },
  {
   "cell_type": "markdown",
   "id": "4b23c8bf",
   "metadata": {},
   "source": [
    "#### Add Java Client POM Dependency  \n",
    "Jupyter Notebook way!"
   ]
  },
  {
   "cell_type": "code",
   "execution_count": 4,
   "id": "c7d10ca8",
   "metadata": {},
   "outputs": [],
   "source": [
    "%%loadFromPOM\n",
    "<dependencies>\n",
    "  <dependency>\n",
    "    <groupId>com.aerospike</groupId>\n",
    "    <artifactId>aerospike-client</artifactId>\n",
    "    <version>6.0.0</version>\n",
    "  </dependency>\n",
    "</dependencies>"
   ]
  },
  {
   "cell_type": "markdown",
   "id": "e03decf9",
   "metadata": {},
   "source": [
    "####  Java Client Imports and Test code"
   ]
  },
  {
   "cell_type": "code",
   "execution_count": 12,
   "id": "b5ec301d",
   "metadata": {},
   "outputs": [
    {
     "name": "stdout",
     "output_type": "stream",
     "text": [
      "Record not exists initially: null\n",
      "Record - add bin1: (gen:1),(exp:418190316),(bins:(iBin1:1))\n",
      "Record - add bin2, fails to update: (gen:1),(exp:418190316),(bins:(iBin1:1))\n"
     ]
    }
   ],
   "source": [
    "//Required Imports\n",
    "import com.aerospike.client.AerospikeClient;\n",
    "import com.aerospike.client.policy.WritePolicy;\n",
    "import com.aerospike.client.Bin;\n",
    "import com.aerospike.client.Key;\n",
    "import com.aerospike.client.Record;\n",
    "import com.aerospike.client.Value;\n",
    "import com.aerospike.client.Operation;\n",
    "import com.aerospike.client.exp.Exp;\n",
    "import com.aerospike.client.exp.ExpOperation;\n",
    "import com.aerospike.client.exp.ExpWriteFlags;\n",
    "import com.aerospike.client.exp.Expression;\n",
    "import com.aerospike.client.cdt.ListOperation;\n",
    "import com.aerospike.client.exp.ListExp;\n",
    "\n",
    "import com.aerospike.client.AerospikeException;\n",
    "import com.aerospike.client.ResultCode;\n",
    "\n",
    "AerospikeClient client = new AerospikeClient(\"3.235.121.162\", 3000);\n",
    "Key key = new Key(\"test\", \"testset\", \"key1\");\n",
    "WritePolicy wPolicy = new WritePolicy();\n",
    "Bin bin1 = new Bin(\"iBin1\", Value.get(1));\n",
    "client.delete(null, key);\n",
    "System.out.println(\"Record not exists initially: \"+ client.get(null, key)); //check record got inserted\n",
    "\n",
    "Expression recExists = Exp.build(Exp.keyExists()) ; \n",
    "\n",
    "wPolicy.filterExp = recExists;                          \n",
    "\n",
    "client.put(wPolicy, key, bin1);  //First update\n",
    "System.out.println(\"Record - add bin1: \" + client.get(null, key));\n",
    "Bin bin2 = new Bin(\"iBin2\", Value.get(2)); //int bin\n",
    "client.put(wPolicy, key, bin2);  //Second update\n",
    "System.out.println(\"Record - add bin2, fails to update: \" + client.get(null, key));\n"
   ]
  },
  {
   "cell_type": "code",
   "execution_count": null,
   "id": "b66dbe8e",
   "metadata": {},
   "outputs": [],
   "source": []
  }
 ],
 "metadata": {
  "kernelspec": {
   "display_name": "Java",
   "language": "java",
   "name": "java"
  },
  "language_info": {
   "codemirror_mode": "java",
   "file_extension": ".jshell",
   "mimetype": "text/x-java-source",
   "name": "Java",
   "pygments_lexer": "java",
   "version": "11.0.16+8-LTS"
  }
 },
 "nbformat": 4,
 "nbformat_minor": 5
}
