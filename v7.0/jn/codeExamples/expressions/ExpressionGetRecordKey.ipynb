{
 "cells": [
  {
   "cell_type": "markdown",
   "id": "28b3e822",
   "metadata": {},
   "source": [
    "### Housekeeping - Setup & wipe out any prior records on the Aerospike Server\n",
    "\n",
    "We have a namespace **_test_** pre-defined on the server. Lets truncate it using _asadm_.\n",
    "\n",
    "This is needed while doing code development. If you want to clear the iJava Kernel of all Java objects and run all cells from scratch, Kernel->Restart & Run All, this will ensure any records written on the underlying Aerospike cluster are purged.\n",
    "\n",
    "First, we need required imports for using %sh in interactive Java Kernel. (This is specific to the iJava Kernel implementation by **Spencer Park** that we are using.)"
   ]
  },
  {
   "cell_type": "code",
   "execution_count": 1,
   "id": "eb85febe",
   "metadata": {},
   "outputs": [],
   "source": [
    "import io.github.spencerpark.ijava.IJava;\n",
    "import io.github.spencerpark.jupyter.kernel.magic.common.Shell;\n",
    "IJava.getKernelInstance().getMagics().registerMagics(Shell.class);"
   ]
  },
  {
   "cell_type": "markdown",
   "id": "1b305b92",
   "metadata": {},
   "source": [
    "### Running _asadm_ in iJava\n",
    "We can run _asadm_ commands inline. Below, we will use the truncation command, which normally requires an interactive confirmation, which we will skip by using the _--no-warn_ flag. No output will be displayed."
   ]
  },
  {
   "cell_type": "code",
   "execution_count": 2,
   "id": "0f11685a",
   "metadata": {},
   "outputs": [],
   "source": [
    "%sh asadm --enable -e \"manage truncate ns test --no-warn\" -h \"127.0.0.1\""
   ]
  },
  {
   "cell_type": "markdown",
   "id": "4b23c8bf",
   "metadata": {},
   "source": [
    "#### Add Java Client POM Dependency  \n",
    "Jupyter Notebook way!"
   ]
  },
  {
   "cell_type": "code",
   "execution_count": 3,
   "id": "c7d10ca8",
   "metadata": {},
   "outputs": [],
   "source": [
    "%%loadFromPOM\n",
    "<dependencies>\n",
    "  <dependency>\n",
    "    <groupId>com.aerospike</groupId>\n",
    "    <artifactId>aerospike-client-jdk8</artifactId>\n",
    "    <version>8.1.1</version>\n",
    "  </dependency>\n",
    "</dependencies>"
   ]
  },
  {
   "cell_type": "markdown",
   "id": "e03decf9",
   "metadata": {},
   "source": [
    "####  Java Client Imports and Test code"
   ]
  },
  {
   "cell_type": "code",
   "execution_count": 4,
   "id": "b5ec301d",
   "metadata": {},
   "outputs": [
    {
     "name": "stdout",
     "output_type": "stream",
     "text": [
      "Record: (gen:1),(exp:450847947),(bins:(b00:28))\n",
      "Record via Digest: (gen:1),(exp:450847947),(bins:(b00:28))\n",
      "Record Size in bytes: 80\n",
      "Record Key: key1\n"
     ]
    }
   ],
   "source": [
    "import com.aerospike.client.AerospikeClient;\n",
    "import com.aerospike.client.policy.WritePolicy;\n",
    "import com.aerospike.client.Bin;\n",
    "import com.aerospike.client.Key;\n",
    "import com.aerospike.client.Record;\n",
    "import com.aerospike.client.Value;\n",
    "import com.aerospike.client.Operation;\n",
    "import com.aerospike.client.exp.Exp;\n",
    "import com.aerospike.client.exp.ExpOperation;\n",
    "import com.aerospike.client.exp.ExpReadFlags;\n",
    "import com.aerospike.client.exp.Expression;\n",
    "import com.aerospike.client.cdt.ListOperation;\n",
    "import com.aerospike.client.exp.ListExp;\n",
    "import java.util.ArrayList;\n",
    "import com.aerospike.client.Value;\n",
    "\n",
    "AerospikeClient client = new AerospikeClient(\"127.0.0.1\", 3000);\n",
    "Key key = new Key(\"test\", \"testset\", \"key1\");\n",
    "WritePolicy wPolicy = new WritePolicy();\n",
    "wPolicy.sendKey = true;\n",
    "Bin b0 = new Bin(\"b00\", Value.get(28)); //8byte value\n",
    "\n",
    "client.put(wPolicy, key, b0);\n",
    "\n",
    "byte[] recDigest = new byte[20];\n",
    "recDigest =  Key.computeDigest(\"testset\", Value.get(\"key1\")) ;\n",
    "\n",
    "//for (int i=0; i<recDigest.length; i++){\n",
    "//    System.out.println(\"[\"+recDigest[i]+\"]\");\n",
    "//}\n",
    "\n",
    "Key keyByDigest = new Key(\"test\", recDigest, null, Value.NULL);\n",
    "\n",
    "System.out.println(\"Record: \"+ client.get(null, key)); \n",
    "System.out.println(\"Record via Digest: \"+ client.get(null, keyByDigest));\n",
    "\n",
    "\n",
    "//Using expressions to read record metadata in PI that has size of record on device\n",
    "Expression recSizeExp = Exp.build(Exp.deviceSize());\n",
    "Record record = client.operate( wPolicy, key,   \n",
    "          ExpOperation.read(\"size\", recSizeExp, ExpReadFlags.DEFAULT) \n",
    "         );\n",
    "System.out.println(\"Record Size in bytes: \" + record.getValue(\"size\"));\n",
    "\n",
    "//Using expressions to read record key. sendKey must be set to false if using keyByDigest\n",
    "//We don't know the userKey. We used Value.NULL. Will cause KEY_MISMATCH error otherwise.\n",
    "\n",
    "wPolicy.sendKey = false;\n",
    "Expression recKeyExp = Exp.build(Exp.key(Exp.Type.STRING));\n",
    "Record record = client.operate( wPolicy, keyByDigest,   \n",
    "          ExpOperation.read(\"reckey\", recKeyExp, ExpReadFlags.DEFAULT) \n",
    "         );\n",
    "System.out.println(\"Record Key: \" + record.getValue(\"reckey\"));"
   ]
  },
  {
   "cell_type": "markdown",
   "id": "6a28d101-8f2c-43d8-9980-209ea18a46ef",
   "metadata": {},
   "source": [
    "# Cleanup"
   ]
  },
  {
   "cell_type": "code",
   "execution_count": 5,
   "id": "e1bdd2ce-1e81-4ca6-92d0-09a920b955a8",
   "metadata": {},
   "outputs": [],
   "source": [
    "%sh asadm --enable -e \"manage truncate ns test --no-warn\" -h \"127.0.0.1\""
   ]
  },
  {
   "cell_type": "code",
   "execution_count": null,
   "id": "0891fb79-0b9c-4fbe-a88e-3919eca9eb57",
   "metadata": {},
   "outputs": [],
   "source": []
  }
 ],
 "metadata": {
  "kernelspec": {
   "display_name": "Java",
   "language": "java",
   "name": "java"
  },
  "language_info": {
   "codemirror_mode": "java",
   "file_extension": ".jshell",
   "mimetype": "text/x-java-source",
   "name": "Java",
   "pygments_lexer": "java",
   "version": "17.0.10+8-LTS"
  }
 },
 "nbformat": 4,
 "nbformat_minor": 5
}
