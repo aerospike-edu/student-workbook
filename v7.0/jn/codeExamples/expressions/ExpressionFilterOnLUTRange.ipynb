{
 "cells": [
  {
   "cell_type": "markdown",
   "id": "28b3e822",
   "metadata": {},
   "source": [
    "### Housekeeping - Setup & wipe out any prior records on the Aerospike Server\n",
    "\n",
    "We have a namespace **_test_** pre-defined on the server. Lets truncate it using _asadm_.\n",
    "\n",
    "This is needed while doing code development. If you want to clear the iJava Kernel of all Java objects and run all cells from scratch, Kernel->Restart & Run All, this will ensure any records written on the underlying Aerospike cluster are purged.\n",
    "\n",
    "First, we need required imports for using %sh in interactive Java Kernel. (This is specific to the iJava Kernel implementation by **Spencer Park** that we are using.)"
   ]
  },
  {
   "cell_type": "code",
   "execution_count": 1,
   "id": "eb85febe",
   "metadata": {},
   "outputs": [],
   "source": [
    "import io.github.spencerpark.ijava.IJava;\n",
    "import io.github.spencerpark.jupyter.kernel.magic.common.Shell;\n",
    "IJava.getKernelInstance().getMagics().registerMagics(Shell.class);"
   ]
  },
  {
   "cell_type": "markdown",
   "id": "1b305b92",
   "metadata": {},
   "source": [
    "### Running _asadm_ in iJava\n",
    "We can run _asadm_ commands inline. Below, we will use the truncation command, which normally requires an interactive confirmation, which we will skip by using the _--no-warn_ flag. No output will be displayed."
   ]
  },
  {
   "cell_type": "code",
   "execution_count": 25,
   "id": "0f11685a",
   "metadata": {},
   "outputs": [],
   "source": [
    "%sh asadm --enable -e \"manage truncate ns test --no-warn\" -h \"127.0.0.1\""
   ]
  },
  {
   "cell_type": "markdown",
   "id": "4b23c8bf",
   "metadata": {},
   "source": [
    "#### Add Java Client POM Dependency  \n",
    "Jupyter Notebook way!"
   ]
  },
  {
   "cell_type": "code",
   "execution_count": 6,
   "id": "c7d10ca8",
   "metadata": {},
   "outputs": [],
   "source": [
    "%%loadFromPOM\n",
    "<dependencies>\n",
    "  <dependency>\n",
    "    <groupId>com.aerospike</groupId>\n",
    "    <artifactId>aerospike-client-jdk8</artifactId>\n",
    "    <version>8.1.1</version>\n",
    "  </dependency>\n",
    "</dependencies>"
   ]
  },
  {
   "cell_type": "markdown",
   "id": "e03decf9",
   "metadata": {},
   "source": [
    "####  Java Client Imports and Test code"
   ]
  },
  {
   "cell_type": "code",
   "execution_count": 27,
   "id": "bd3195b7-bc8f-4a08-b708-92d2f6c8f74b",
   "metadata": {},
   "outputs": [],
   "source": [
    "//Required Imports\n",
    "import com.aerospike.client.AerospikeClient;\n",
    "import com.aerospike.client.policy.WritePolicy;\n",
    "import com.aerospike.client.Bin;\n",
    "import com.aerospike.client.Key;\n",
    "import com.aerospike.client.Record;\n",
    "import com.aerospike.client.Value;\n",
    "import com.aerospike.client.Operation;\n",
    "import com.aerospike.client.exp.Exp;\n",
    "import com.aerospike.client.exp.ExpOperation;\n",
    "import com.aerospike.client.exp.ExpReadFlags;\n",
    "import com.aerospike.client.exp.Expression;\n",
    "import com.aerospike.client.cdt.ListOperation;\n",
    "import com.aerospike.client.exp.ListExp;\n",
    "\n",
    "import com.aerospike.client.AerospikeException;\n",
    "import com.aerospike.client.ResultCode;\n",
    "\n",
    "AerospikeClient client = new AerospikeClient(\"127.0.0.1\", 3000);\n",
    "Key key1 = new Key(\"test\", \"testset\", \"key1\");\n",
    "Key key2 = new Key(\"test\", \"testset\", \"key2\");\n",
    "Key key3 = new Key(\"test\", \"testset\", \"key3\");\n",
    "WritePolicy wPolicy = new WritePolicy();\n",
    "Bin b0 = new Bin(\"b00\", Value.get(123)); \n",
    "Bin b1 = new Bin(\"b01\", Value.get(\"abc\")); \n",
    "\n"
   ]
  },
  {
   "cell_type": "code",
   "execution_count": 28,
   "id": "6b617620-14dd-4880-8d9e-0f63cf7cacad",
   "metadata": {},
   "outputs": [
    {
     "name": "stdout",
     "output_type": "stream",
     "text": [
      "1713460155803847652\n",
      "Record: (gen:1),(exp:451588155),(bins:(b00:123),(b01:KEY 1))\n"
     ]
    }
   ],
   "source": [
    "String command = \"date +%s%N\";\n",
    " \n",
    "try {\n",
    "    Process process = Runtime.getRuntime().exec(command);\n",
    " \n",
    "    BufferedReader reader = new BufferedReader(\n",
    "            new InputStreamReader(process.getInputStream()));\n",
    "    String line;\n",
    "    while ((line = reader.readLine()) != null) {\n",
    "        System.out.println(line);\n",
    "    }\n",
    " \n",
    "    reader.close();\n",
    " \n",
    "} catch (IOException e) {\n",
    "    e.printStackTrace();\n",
    "}\n",
    "b1 = new Bin(\"b01\", Value.get(\"KEY 1\"));\n",
    "client.put(wPolicy, key1, b0, b1);\n",
    "\n",
    "System.out.println(\"Record: \"+ client.get(null, key1)); //check record got inserted"
   ]
  },
  {
   "cell_type": "code",
   "execution_count": 29,
   "id": "92b04ac4-c27a-4ae0-b80c-1cfbc6d7fca0",
   "metadata": {},
   "outputs": [
    {
     "name": "stdout",
     "output_type": "stream",
     "text": [
      "1713460159028548843\n",
      "Record: (gen:1),(exp:451588159),(bins:(b00:123),(b01:KEY 2))\n"
     ]
    }
   ],
   "source": [
    "String command = \"date +%s%N\";\n",
    " \n",
    "try {\n",
    "    Process process = Runtime.getRuntime().exec(command);\n",
    " \n",
    "    BufferedReader reader = new BufferedReader(\n",
    "            new InputStreamReader(process.getInputStream()));\n",
    "    String line;\n",
    "    while ((line = reader.readLine()) != null) {\n",
    "        System.out.println(line);\n",
    "    }\n",
    " \n",
    "    reader.close();\n",
    " \n",
    "} catch (IOException e) {\n",
    "    e.printStackTrace();\n",
    "}\n",
    "b1 = new Bin(\"b01\", Value.get(\"KEY 2\"));\n",
    "client.put(wPolicy, key2, b0, b1);\n",
    "\n",
    "System.out.println(\"Record: \"+ client.get(null, key2)); //check record got inserted"
   ]
  },
  {
   "cell_type": "code",
   "execution_count": 30,
   "id": "1f87c181-b301-434c-bf03-ee7b20ae5714",
   "metadata": {},
   "outputs": [
    {
     "name": "stdout",
     "output_type": "stream",
     "text": [
      "1713460160242915186\n",
      "Record: (gen:1),(exp:451588160),(bins:(b00:123),(b01:KEY 3))\n"
     ]
    }
   ],
   "source": [
    "String command = \"date +%s%N\";\n",
    " \n",
    "try {\n",
    "    Process process = Runtime.getRuntime().exec(command);\n",
    " \n",
    "    BufferedReader reader = new BufferedReader(\n",
    "            new InputStreamReader(process.getInputStream()));\n",
    "    String line;\n",
    "    while ((line = reader.readLine()) != null) {\n",
    "        System.out.println(line);\n",
    "    }\n",
    " \n",
    "    reader.close();\n",
    " \n",
    "} catch (IOException e) {\n",
    "    e.printStackTrace();\n",
    "}\n",
    "b1 = new Bin(\"b01\", Value.get(\"KEY 3\"));\n",
    "client.put(wPolicy, key3, b0, b1);\n",
    "\n",
    "System.out.println(\"Record: \"+ client.get(null, key3)); //check record got inserted"
   ]
  },
  {
   "cell_type": "code",
   "execution_count": 31,
   "id": "aeebcc3a-9e3d-46b6-b96c-651816d1ac61",
   "metadata": {},
   "outputs": [
    {
     "name": "stdout",
     "output_type": "stream",
     "text": [
      "1713460163182180368\n"
     ]
    }
   ],
   "source": [
    "String command = \"date +%s%N\";\n",
    " \n",
    "try {\n",
    "    Process process = Runtime.getRuntime().exec(command);\n",
    " \n",
    "    BufferedReader reader = new BufferedReader(\n",
    "            new InputStreamReader(process.getInputStream()));\n",
    "    String line;\n",
    "    while ((line = reader.readLine()) != null) {\n",
    "        System.out.println(line);\n",
    "    }\n",
    " \n",
    "    reader.close();\n",
    " \n",
    "} catch (IOException e) {\n",
    "    e.printStackTrace();\n",
    "}"
   ]
  },
  {
   "cell_type": "code",
   "execution_count": 36,
   "id": "1cae194d-3e37-4c18-9296-e6f25af5abd2",
   "metadata": {},
   "outputs": [],
   "source": [
    "long lowLUT = 1713460155803847652L;\n",
    "long highLUT = 1713460160242915186L;"
   ]
  },
  {
   "cell_type": "code",
   "execution_count": 37,
   "id": "b5ec301d",
   "metadata": {},
   "outputs": [
    {
     "name": "stdout",
     "output_type": "stream",
     "text": [
      "(gen:1),(exp:451588159),(bins:(b00:123),(b01:KEY 2))\n",
      "test:testset:null:c10b2c764e604c439039804ec947fa2b18520d1a\n",
      "(gen:1),(exp:451588155),(bins:(b00:123),(b01:KEY 1))\n",
      "test:testset:null:bf6c1d13e7cd10c5bd022d27e7df170c0bccd6e1\n"
     ]
    }
   ],
   "source": [
    "//Needed imports\n",
    "import com.aerospike.client.query.Statement;\n",
    "import com.aerospike.client.query.Filter;\n",
    "import com.aerospike.client.policy.QueryPolicy;\n",
    "import com.aerospike.client.query.RecordSet;\n",
    "\n",
    "//Using expressions to read record metadata in PI that has record LUT\n",
    "Expression lutRangeExp = Exp.build(Exp.and( \n",
    "                                    Exp.lt(Exp.val(lowLUT), Exp.lastUpdate()),\n",
    "                                    Exp.gt(Exp.val(highLUT), Exp.lastUpdate())\n",
    "                                    )\n",
    "                                 );\n",
    "\n",
    "\n",
    "//Run SI query\n",
    "Statement stmt = new Statement();\n",
    "stmt.setNamespace(\"test\");\n",
    "stmt.setSetName(\"testset\");\n",
    "QueryPolicy qp = new QueryPolicy();\n",
    "qp.filterExp = lutRangeExp;\n",
    "RecordSet rs = client.query(qp, stmt);\n",
    "\n",
    "while(rs.next()){\n",
    "    Record r = rs.getRecord();\n",
    "    Key thisKey = rs.getKey();  \n",
    "    System.out.println(r);\n",
    "    System.out.println(thisKey);\n",
    "}\n"
   ]
  },
  {
   "cell_type": "markdown",
   "id": "83415fcc-912d-4377-909e-cb2f27ff2ebc",
   "metadata": {},
   "source": [
    "# Cleanup"
   ]
  },
  {
   "cell_type": "code",
   "execution_count": 5,
   "id": "b878ea88-e193-432e-a4a0-640cc214d8c9",
   "metadata": {},
   "outputs": [],
   "source": [
    "%sh asadm --enable -e \"manage truncate ns test --no-warn\" -h \"127.0.0.1\""
   ]
  }
 ],
 "metadata": {
  "kernelspec": {
   "display_name": "Java",
   "language": "java",
   "name": "java"
  },
  "language_info": {
   "codemirror_mode": "java",
   "file_extension": ".jshell",
   "mimetype": "text/x-java-source",
   "name": "Java",
   "pygments_lexer": "java",
   "version": "17.0.10+8-LTS"
  }
 },
 "nbformat": 4,
 "nbformat_minor": 5
}
