{
 "cells": [
  {
   "cell_type": "markdown",
   "id": "28b3e822",
   "metadata": {},
   "source": [
    "### Housekeeping - Setup & wipe out any prior records on the Aerospike Server\n",
    "\n",
    "We have a namespace **_test_** pre-defined on the server. Lets truncate it using _asadm_.\n",
    "\n",
    "This is needed while doing code development. If you want to clear the iJava Kernel of all Java objects and run all cells from scratch, Kernel->Restart & Run All, this will ensure any records written on the underlying Aerospike cluster are purged.\n",
    "\n",
    "First, we need required imports for using %sh in interactive Java Kernel. (This is specific to the iJava Kernel implementation by **Spencer Park** that we are using.)"
   ]
  },
  {
   "cell_type": "code",
   "execution_count": 1,
   "id": "eb85febe",
   "metadata": {},
   "outputs": [],
   "source": [
    "import io.github.spencerpark.ijava.IJava;\n",
    "import io.github.spencerpark.jupyter.kernel.magic.common.Shell;\n",
    "IJava.getKernelInstance().getMagics().registerMagics(Shell.class);"
   ]
  },
  {
   "cell_type": "markdown",
   "id": "1b305b92",
   "metadata": {},
   "source": [
    "### Running _asadm_ in iJava\n",
    "We can run _asadm_ commands inline. Below, we will use the truncation command, which normally requires an interactive confirmation, which we will skip by using the _--no-warn_ flag. No output will be displayed."
   ]
  },
  {
   "cell_type": "code",
   "execution_count": 2,
   "id": "0f11685a",
   "metadata": {},
   "outputs": [],
   "source": [
    "%sh asadm --enable -e \"manage truncate ns test --no-warn\" -h \"127.0.0.1\""
   ]
  },
  {
   "cell_type": "markdown",
   "id": "4b23c8bf",
   "metadata": {},
   "source": [
    "#### Add Java Client POM Dependency  \n",
    "Jupyter Notebook way!"
   ]
  },
  {
   "cell_type": "code",
   "execution_count": 3,
   "id": "c7d10ca8",
   "metadata": {},
   "outputs": [],
   "source": [
    "%%loadFromPOM\n",
    "<dependencies>\n",
    "  <dependency>\n",
    "    <groupId>com.aerospike</groupId>\n",
    "    <artifactId>aerospike-client</artifactId>\n",
    "    <version>7.2.1</version>\n",
    "  </dependency>\n",
    "</dependencies>"
   ]
  },
  {
   "cell_type": "markdown",
   "id": "e03decf9",
   "metadata": {},
   "source": [
    "####  Java Client Imports and Test code"
   ]
  },
  {
   "cell_type": "code",
   "execution_count": 4,
   "id": "b5ec301d",
   "metadata": {},
   "outputs": [
    {
     "name": "stdout",
     "output_type": "stream",
     "text": [
      "Record: (gen:1),(exp:450847402),(bins:(b00:28),(b01:A quick fox jumps right over the lazy dog.),(data:[]))\n",
      "Record Size in bytes: 128\n",
      "Record Size in bytes: text 128\n",
      "Record Size in bytes: text 67632\n",
      "Bin Array (each element = #128 bytes) Size: 500\n",
      "Record Size in bytes: text 67632\n",
      "Record Size in bytes: text 135136\n",
      "Bin Array (each element = #128 bytes) Size: 1000\n",
      "Record Size in bytes: text 135136\n",
      "Record Size in bytes: text 202624\n",
      "Bin Array (each element = #128 bytes) Size: 1500\n",
      "Record Size in bytes: text 202624\n",
      "Record Size in bytes: text 270128\n",
      "Bin Array (each element = #128 bytes) Size: 2000\n",
      "Record Size in bytes: text 270128\n",
      "Record Size in bytes: text 337632\n",
      "Bin Array (each element = #128 bytes) Size: 2500\n",
      "Record Size in bytes: text 337632\n",
      "Record Size in bytes: text 405136\n",
      "Bin Array (each element = #128 bytes) Size: 3000\n",
      "Array Limit Exceeded. ==> Split the Record.\n",
      "DONE.\n"
     ]
    }
   ],
   "source": [
    "//Required Imports\n",
    "import com.aerospike.client.AerospikeClient;\n",
    "import com.aerospike.client.policy.WritePolicy;\n",
    "import com.aerospike.client.Bin;\n",
    "import com.aerospike.client.Key;\n",
    "import com.aerospike.client.Record;\n",
    "import com.aerospike.client.Value;\n",
    "import com.aerospike.client.Operation;\n",
    "import com.aerospike.client.exp.Exp;\n",
    "import com.aerospike.client.exp.ExpOperation;\n",
    "import com.aerospike.client.exp.ExpReadFlags;\n",
    "import com.aerospike.client.exp.Expression;\n",
    "import com.aerospike.client.cdt.ListOperation;\n",
    "import com.aerospike.client.exp.ListExp;\n",
    "\n",
    "import com.aerospike.client.AerospikeException;\n",
    "import com.aerospike.client.ResultCode;\n",
    "\n",
    "AerospikeClient client = new AerospikeClient(\"127.0.0.1\", 3000);\n",
    "Key key = new Key(\"test\", \"testset\", \"key1\");\n",
    "WritePolicy wPolicy = new WritePolicy();\n",
    "Bin b0 = new Bin(\"b00\", Value.get(28)); //8byte value\n",
    "Bin b1 = new Bin(\"b01\", Value.get(\"A quick fox jumps right over the lazy dog.\")); \n",
    "List<Value> myList = new ArrayList<Value>();\n",
    "Bin listData = new Bin(\"data\", Value.get(myList));\n",
    "//Note: Adding empty bin \"data\" so that list size expression can execute to start with.\n",
    "\n",
    "client.put(wPolicy, key, b0, b1, listData);\n",
    "//client.put(wPolicy, key, b0, b1, b2, b3, b4, b5, b6, b7,b8, b9, b10);\n",
    "System.out.println(\"Record: \"+ client.get(null, key)); //check record got inserted\n",
    "\n",
    "//Using expressions to read record metadata in PI that has size of record on device\n",
    "Expression recSizeExp = Exp.build(Exp.deviceSize());\n",
    "Record record = client.operate( wPolicy, key,   \n",
    "          ExpOperation.read(\"size\", recSizeExp, ExpReadFlags.DEFAULT) \n",
    "         );\n",
    "System.out.println(\"Record Size in bytes: \" + record.getValue(\"size\"));\n",
    "\n",
    "\n",
    "//WritePolicy wPolicy = new WritePolicy();\n",
    "// Filter expression is part of the policy object, supplied when calling 'operate'\n",
    "boolean bOvr = false;\n",
    "int iMaxListSize = 3000;\n",
    "\n",
    "//For testing\n",
    "wPolicy.filterExp = Exp.build(Exp.or(\n",
    "    Exp.lt(ListExp.size(Exp.listBin(\"data\")),Exp.val(iMaxListSize)), \n",
    "    Exp.val(bOvr))\n",
    "    );\n",
    "\n",
    "//Don't need override flag otherwise.\n",
    "//wPolicy.filterExp = Exp.build(Exp.lt(ListExp.size(Exp.listBin(\"data\")),Exp.val(iMaxListSize)));\n",
    "\n",
    "// Want it to fail when filterExp = false\n",
    "wPolicy.failOnFilteredOut = true;\n",
    "\n",
    "try {\n",
    "    while(true) {\n",
    "        List<Value> values = new ArrayList<>();\n",
    "        \n",
    "        for (int i = 0; i < 500; i++) {\n",
    "            values.add(Value.get(\"111111111111111111111111111111111111111111111111111111111111111111111111111111111111111111111111111111111111111111111111111111111111\"));\n",
    "        }\n",
    "        Expression recSizeExp = Exp.build(Exp.deviceSize());\n",
    "        Record r1 = client.operate(wPolicy, key, \n",
    "                    ExpOperation.read(\"size\", recSizeExp, ExpReadFlags.DEFAULT), \n",
    "                    ListOperation.appendItems(\"data\", values, null));\n",
    "        System.out.println(\"Record Size in bytes: text \" + r1.getValue(\"size\"));      \n",
    "        Record record = client.operate( null, key, \n",
    "                        ExpOperation.read(\"size\", recSizeExp, ExpReadFlags.DEFAULT), \n",
    "                        ListOperation.size(\"data\", null)  //<-- gives number of elements in list\n",
    "                        );       \n",
    "        \n",
    "        System.out.println(\"Record Size in bytes: text \" + record.getValue(\"size\"));        \n",
    "        System.out.println(\"Bin Array (each element = #128 bytes) Size: \" + record.getValue(\"data\"));\n",
    "\n",
    "        //Thread.sleep(5);  // Tried some sleep in the loop in my initial test with i<1 instead of i<500\n",
    "\n",
    "    }\n",
    "} catch (AerospikeException e){\n",
    "  int rc = e.getResultCode();\n",
    "  if(rc == ResultCode.FILTERED_OUT){\n",
    "    System.out.println(\"Array Limit Exceeded. ==> Split the Record.\");\n",
    "  }\n",
    "  else{\n",
    "    System.out.println(\"Operate error. Resultcode: \"+ ResultCode.getResultString(rc));\n",
    "  }\n",
    "    \n",
    "}\n",
    "\n",
    "System.out.println(\"DONE.\");\n",
    "\n",
    "//catch (Exception e) {\n",
    "//    \n",
    "//      e.printStackTrace();\n",
    "//      \n",
    "//}"
   ]
  },
  {
   "cell_type": "markdown",
   "id": "83415fcc-912d-4377-909e-cb2f27ff2ebc",
   "metadata": {},
   "source": [
    "# Cleanup"
   ]
  },
  {
   "cell_type": "code",
   "execution_count": 5,
   "id": "b878ea88-e193-432e-a4a0-640cc214d8c9",
   "metadata": {},
   "outputs": [],
   "source": [
    "%sh asadm --enable -e \"manage truncate ns test --no-warn\" -h \"127.0.0.1\""
   ]
  }
 ],
 "metadata": {
  "kernelspec": {
   "display_name": "Java",
   "language": "java",
   "name": "java"
  },
  "language_info": {
   "codemirror_mode": "java",
   "file_extension": ".jshell",
   "mimetype": "text/x-java-source",
   "name": "Java",
   "pygments_lexer": "java",
   "version": "17.0.10+8-LTS"
  }
 },
 "nbformat": 4,
 "nbformat_minor": 5
}
