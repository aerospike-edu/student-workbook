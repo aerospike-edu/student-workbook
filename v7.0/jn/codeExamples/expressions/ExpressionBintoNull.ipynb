{
 "cells": [
  {
   "cell_type": "markdown",
   "id": "28b3e822",
   "metadata": {},
   "source": [
    "### Housekeeping - Setup & wipe out any prior records on the Aerospike Server\n",
    "\n",
    "We have a namespace **_test_** pre-defined on the server. Lets truncate it using _asadm_.\n",
    "\n",
    "This is needed while doing code development. If you want to clear the iJava Kernel of all Java objects and run all cells from scratch, Kernel->Restart & Run All, this will ensure any records written on the underlying Aerospike cluster are purged.\n",
    "\n",
    "First, we need required imports for using %sh in interactive Java Kernel. (This is specific to the iJava Kernel implementation by **Spencer Park** that we are using.)"
   ]
  },
  {
   "cell_type": "code",
   "execution_count": 1,
   "id": "eb85febe",
   "metadata": {},
   "outputs": [],
   "source": [
    "import io.github.spencerpark.ijava.IJava;\n",
    "import io.github.spencerpark.jupyter.kernel.magic.common.Shell;\n",
    "IJava.getKernelInstance().getMagics().registerMagics(Shell.class);"
   ]
  },
  {
   "cell_type": "markdown",
   "id": "857a8f23-c312-4b45-aaac-a81f5df25e53",
   "metadata": {},
   "source": [
    "### Running _asadm_ in iJava\n",
    "We can run _asadm_ commands inline. Below, we will use the truncation command, which normally requires an interactive confirmation, which we will skip by using the _--no-warn_ flag. No output will be displayed.\n"
   ]
  },
  {
   "cell_type": "code",
   "execution_count": 2,
   "id": "3e228cf8-eb0a-4f1e-8994-83371d08b9c3",
   "metadata": {},
   "outputs": [],
   "source": [
    "%sh asadm --enable -e \"manage truncate ns test --no-warn\" -h \"127.0.0.1\""
   ]
  },
  {
   "cell_type": "markdown",
   "id": "4b23c8bf",
   "metadata": {},
   "source": [
    "#### Add Java Client POM Dependency  \n",
    "Jupyter Notebook way!"
   ]
  },
  {
   "cell_type": "code",
   "execution_count": 3,
   "id": "c7d10ca8",
   "metadata": {},
   "outputs": [],
   "source": [
    "%%loadFromPOM\n",
    "<dependencies>\n",
    "  <dependency>\n",
    "    <groupId>com.aerospike</groupId>\n",
    "    <artifactId>aerospike-client</artifactId>\n",
    "    <version>7.2.1</version>\n",
    "  </dependency>\n",
    "</dependencies>"
   ]
  },
  {
   "cell_type": "markdown",
   "id": "e03decf9",
   "metadata": {},
   "source": [
    "####  Add required Java Client Imports\n",
    "\n",
    "These are some of the Aerospike Java Client imports needed to start developing our Application interactively.  We will add others, as needed, as we develop our solution."
   ]
  },
  {
   "cell_type": "code",
   "execution_count": 4,
   "id": "b5ec301d",
   "metadata": {},
   "outputs": [
    {
     "name": "stdout",
     "output_type": "stream",
     "text": [
      "Client modules imported.\n"
     ]
    }
   ],
   "source": [
    "//Require Imports\n",
    "import com.aerospike.client.AerospikeClient;\n",
    "import com.aerospike.client.policy.WritePolicy;\n",
    "import com.aerospike.client.Bin;\n",
    "import com.aerospike.client.Key;\n",
    "import com.aerospike.client.Record;\n",
    "import com.aerospike.client.Value;\n",
    "System.out.println(\"Client modules imported.\");"
   ]
  },
  {
   "cell_type": "markdown",
   "id": "45dc772b",
   "metadata": {},
   "source": [
    "#### Connect to the Aerospike Server\n",
    "Instantiate the client object. Let us write a record and read it back.\n",
    "We have a namespace **_test_** pre-defined on the server."
   ]
  },
  {
   "cell_type": "code",
   "execution_count": 5,
   "id": "74465d79",
   "metadata": {},
   "outputs": [
    {
     "name": "stdout",
     "output_type": "stream",
     "text": [
      "Initialized the client and connected to the cluster.\n"
     ]
    }
   ],
   "source": [
    "AerospikeClient client = new AerospikeClient(\"127.0.0.1\", 3000);\n",
    "System.out.println(\"Initialized the client and connected to the cluster.\");"
   ]
  },
  {
   "cell_type": "markdown",
   "id": "ca1c1965-d0eb-4e29-9b0b-c0aae39b6226",
   "metadata": {},
   "source": [
    "# Accessing a record on the Aerospike Server\n",
    "We build the Key object in Java\n",
    "We need the namespace and the record digest to find the record on the server.\n",
    "The record digest is computed by the client library using application provided key (integer, string or byte-array) and the set name. If not in a set, use null for set name.\n",
    "\n",
    "<img src=\"./graphics/RecordKey.png\"\n",
    "     alt=\"Record Digest\"\n",
    "     style=\"float: left; margin-right: 10px;\"\n",
    "     width=\"600\"\n",
    "     height=\"400\"/>"
   ]
  },
  {
   "cell_type": "code",
   "execution_count": 6,
   "id": "7c62e13f-026f-47c5-a3d6-6178887f16fe",
   "metadata": {},
   "outputs": [
    {
     "name": "stdout",
     "output_type": "stream",
     "text": [
      "Working with record key:\n",
      "test:testset:key1:bf6c1d13e7cd10c5bd022d27e7df170c0bccd6e1\n"
     ]
    }
   ],
   "source": [
    "Key key = new Key(\"test\", \"testset\", \"key1\");\n",
    "System.out.println(\"Working with record key:\");\n",
    "System.out.println(key);  //Will show the 20 byte digest"
   ]
  },
  {
   "cell_type": "markdown",
   "id": "2e0d3192",
   "metadata": {},
   "source": [
    "#### Test Record Data Model\n",
    "\n",
    "![fig_DM_1](./graphics/Fraud_DM_1.png)"
   ]
  },
  {
   "cell_type": "code",
   "execution_count": 7,
   "id": "85cf0fb7",
   "metadata": {},
   "outputs": [],
   "source": [
    "//Insert a record with two bins, b1 with string v1 and b2 with integer 2 as data.\n",
    "\n",
    "WritePolicy wPolicy = new WritePolicy();\n",
    "\n",
    "Bin b1 = new Bin(\"b1\", Value.get(\"val1\"));\n",
    "Bin b2 = new Bin(\"b2\", Value.get(28));\n",
    "\n",
    "client.put(wPolicy, key, b1, b2);"
   ]
  },
  {
   "cell_type": "code",
   "execution_count": 8,
   "id": "052cbf16",
   "metadata": {},
   "outputs": [
    {
     "name": "stdout",
     "output_type": "stream",
     "text": [
      "Read back the record.\n",
      "Record values are:\n",
      "(gen:1),(exp:450845426),(bins:(b1:val1),(b2:28))\n"
     ]
    }
   ],
   "source": [
    "//Read the record that we just inserted\n",
    "\n",
    "Record record = client.get(null, key);\n",
    "System.out.println(\"Read back the record.\");\n",
    "\n",
    "System.out.println(\"Record values are:\");\n",
    "System.out.println(record);"
   ]
  },
  {
   "cell_type": "markdown",
   "id": "b7cfe467",
   "metadata": {},
   "source": [
    "## Record Data Model\n",
    "While Aerospike limits bin names to 15 characters, shorter the better.\n",
    "\n",
    "### Record Data Model:\n",
    "* acct_id (Primary Key):\n",
    " *  ovr (override bin, boolean)\n",
    " *  lastamnt (last successful withdrawl_amount bin, integer, cents) \n",
    " *  payee (payee bin, string)  \n",
    " *  bal (current_balance bin, integer, cents) \n",
    " *  profile (user_profile_json bin, string, username) \n",
    " \n",
    " ![fig_DM_2](./graphics/Fraud_DM_2.png)\n"
   ]
  },
  {
   "cell_type": "markdown",
   "id": "8aff115f",
   "metadata": {},
   "source": [
    "#### New  _acct_id_ record creation"
   ]
  },
  {
   "cell_type": "markdown",
   "id": "89a965e3",
   "metadata": {},
   "source": [
    "**Exercise** Write code to insert one record in namespace: **test**, setname: **accts**, key = **1** integer value (int acct_id=1). \n",
    "Add the bins described above with ovr=true, lastamnt=-10000, payee=\"SELF\", bal=10000. \n"
   ]
  },
  {
   "cell_type": "code",
   "execution_count": 9,
   "id": "f4558ffc",
   "metadata": {
    "scrolled": true
   },
   "outputs": [],
   "source": [
    "// New acct_id record creation\n",
    "// Lets create a test record with this data structure\n",
    "\n",
    "int iAcct_id = 1;  //Acct_id = 1 to 1000.\n",
    "boolean boolOvr = true;\n",
    "int iWdAmount = -10000;\n",
    "String sPayee = \"SELF\";\n",
    "int iBal = 10000;\n",
    "\n",
    "Key user = new Key(\"test\", \"accts\", iAcct_id);  \n",
    "\n",
    "Bin bOvr = new Bin(\"ovr\", Value.get(boolOvr));\n",
    "Bin bAmnt = new Bin(\"lastamnt\", Value.get(iWdAmount));\n",
    "Bin bPayee = new Bin(\"payee\", Value.get(sPayee));\n",
    "Bin bBal = new Bin(\"bal\", Value.get(iBal));\n",
    "Bin bProfile = new Bin(\"profile\", Value.get(\"user\"+iAcct_id));\n",
    "\n",
    "WritePolicy wPolicy = new WritePolicy();\n",
    "client.put(wPolicy, user, bOvr, bAmnt, bPayee, bBal, bProfile);\n",
    "\n"
   ]
  },
  {
   "cell_type": "code",
   "execution_count": 10,
   "id": "cf8f9698",
   "metadata": {},
   "outputs": [
    {
     "name": "stdout",
     "output_type": "stream",
     "text": [
      "(gen:1),(exp:450845426),(bins:(ovr:true),(lastamnt:-10000),(payee:SELF),(bal:10000),(profile:user1))\n"
     ]
    }
   ],
   "source": [
    "//Check \n",
    "System.out.println( client.get(null, user) );"
   ]
  },
  {
   "cell_type": "markdown",
   "id": "ddd631f7",
   "metadata": {},
   "source": [
    "## Using OperationExpression write()\n",
    "\n"
   ]
  },
  {
   "cell_type": "markdown",
   "id": "52d64225",
   "metadata": {},
   "source": [
    "### Set all bins to null using Expressions, should delete the record."
   ]
  },
  {
   "cell_type": "code",
   "execution_count": 11,
   "id": "8ab4e60d",
   "metadata": {},
   "outputs": [],
   "source": [
    "import com.aerospike.client.Operation;\n",
    "import com.aerospike.client.exp.Exp;\n",
    "import com.aerospike.client.exp.ExpOperation;\n",
    "import com.aerospike.client.exp.ExpWriteFlags;\n",
    "import com.aerospike.client.exp.Expression;\n",
    "\n",
    "//int iAcct_id = 1;  //Acct_id = 1 to 1000.\n",
    "//boolean boolOvr = false;\n",
    "//int iWdAmount = 8000;\n",
    "//String sPayee = \"VISA\";\n",
    "\n",
    "//Key user = new Key(\"test\", \"accts\", iAcct_id); \n",
    "\n",
    "//Set bins to null to delete the record\n",
    "Expression balExp = Exp.build(Exp.nil());\n",
    "\n",
    "WritePolicy wPolicy = new WritePolicy();\n",
    "record = client.operate( wPolicy, user,  \n",
    "          ExpOperation.write(\"lastamnt\", balExp, ExpWriteFlags.ALLOW_DELETE),\n",
    "          ExpOperation.write(\"payee\", balExp, ExpWriteFlags.ALLOW_DELETE),\n",
    "          ExpOperation.write(\"ovr\", balExp, ExpWriteFlags.ALLOW_DELETE),              \n",
    "          ExpOperation.write(\"profile\", balExp, ExpWriteFlags.ALLOW_DELETE),              \n",
    "          ExpOperation.write(\"bal\", balExp, ExpWriteFlags.ALLOW_DELETE)  \n",
    "         );\n"
   ]
  },
  {
   "cell_type": "code",
   "execution_count": 12,
   "id": "5fd2fa3b",
   "metadata": {},
   "outputs": [
    {
     "name": "stdout",
     "output_type": "stream",
     "text": [
      "null\n"
     ]
    }
   ],
   "source": [
    "//Check \n",
    "System.out.println( client.get(null, user) );"
   ]
  },
  {
   "cell_type": "code",
   "execution_count": null,
   "id": "ded56fb1",
   "metadata": {},
   "outputs": [],
   "source": []
  }
 ],
 "metadata": {
  "kernelspec": {
   "display_name": "Java",
   "language": "java",
   "name": "java"
  },
  "language_info": {
   "codemirror_mode": "java",
   "file_extension": ".jshell",
   "mimetype": "text/x-java-source",
   "name": "Java",
   "pygments_lexer": "java",
   "version": "17.0.10+8-LTS"
  }
 },
 "nbformat": 4,
 "nbformat_minor": 5
}
