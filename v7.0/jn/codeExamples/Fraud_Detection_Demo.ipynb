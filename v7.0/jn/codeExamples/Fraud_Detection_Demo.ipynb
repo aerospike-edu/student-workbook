{
 "cells": [
  {
   "cell_type": "markdown",
   "id": "5610565e",
   "metadata": {},
   "source": [
    "# Fraud Detection Hands-on Example\n",
    "\n",
    "## Simple Fraud Model: \n",
    "* Track all customer accounts.\n",
    "* For any specific customer account:\n",
    " *  Maintain average transaction amount for each payee.\n",
    " *  Flag transactions into a given account that appear fraudulent.\n",
    " *  Have the ability to tune the fraud detection criteria.\n",
    "\n",
    "<img src=\"./graphics/fraud_detection_1.png\"\n",
    "     alt=\"Fraud Detection\"\n",
    "     style=\"center; margin-right: 10px;\"\n",
    "     width=\"800\"\n",
    "     height=\"640\"/>\n",
    "\n",
    "## Presentation Outline \n",
    "* Quick review of the Jupyter Notebook Environment\n",
    "* Interactive Java Development Environment\n",
    "* Connecting to Aerospike One node cluster \n",
    "* Simple Fraud Detection Problem Description\n",
    "* Solution Development\n",
    "\n"
   ]
  },
  {
   "cell_type": "markdown",
   "id": "4f007af7",
   "metadata": {},
   "source": [
    "### Jupyter Notebook Overview\n",
    "What is happening behind the scenes...\n",
    "\n",
    "![fig2](./graphics/JupNb_Overview.png)\n",
    "\n",
    "We are using the iJava (Interactive Java Kernel for Jupyter Notebook) in this example.\n",
    "\n",
    "We also have the option to code in Python - in a separate Notebook, iPython is the other interactive Kernel available in Jupyter Notebooks."
   ]
  },
  {
   "cell_type": "markdown",
   "id": "c5eb8d41",
   "metadata": {},
   "source": [
    "##### Jupyter Notebook - Cells and Execution / Edit shortcuts \n",
    "\n",
    "We have a mix of Markdown cells (text description in Markdown) and Code cells (we have chosen iJava Kernel).\n",
    "<img src=\"./graphics/JupNb_Cells.png\"\n",
    "     alt=\"Fraud Detection\"\n",
    "     style=\"center; margin-right: 10px;\"\n",
    "     width=\"250\"\n",
    "     height=\"400\"/>\n",
    "\n",
    "\n",
    "You can use the menu above to change a cell from being a Code cell to a Markdown cell.\n",
    "\n",
    "**Cntrl-Enter** executes a cell. Try it.\n",
    "\n",
    "Clicking anywhere in text display (Markdown) cell and hitting **Enter**, puts you in the cell edit mode. Try it.\n",
    "\n",
    "Code cells can be edited directly. To run an edited code cell, just hit **Cntrl-Enter**.\n",
    "\n",
    "You can add a new blank cell, cells can be deleted, copied, pasted or moved up or down using the menu icons as shown below:\n",
    "\n",
    "![fig4](./graphics/JupNb_CellEditing.png)"
   ]
  },
  {
   "cell_type": "markdown",
   "id": "28b3e822",
   "metadata": {},
   "source": [
    "### Housekeeping - Wipe out any prior records on the Aerospike Server\n",
    "\n",
    "We have a namespace **_test_** pre-defined on the server. Lets truncate it using _asadm_.\n",
    "\n",
    "This is needed while doing code development. If you want to clear the iJava Kernel of all Java objects and run all cells from scratch, Kernel->Restart & Run All, this will ensure any records written on the underlying Aerospike cluster are purged.\n",
    "\n",
    "First, we need required imports for using %sh in interactive Java Kernel. (This is specific to the iJava Kernel implementation by **Spencer Park** that we are using.)"
   ]
  },
  {
   "cell_type": "code",
   "execution_count": 2,
   "id": "eb85febe",
   "metadata": {},
   "outputs": [],
   "source": [
    "import io.github.spencerpark.ijava.IJava;\n",
    "import io.github.spencerpark.jupyter.kernel.magic.common.Shell;\n",
    "IJava.getKernelInstance().getMagics().registerMagics(Shell.class);"
   ]
  },
  {
   "cell_type": "markdown",
   "id": "1b305b92",
   "metadata": {},
   "source": [
    "### Running _asadm_ in iJava\n",
    "We can run _asadm_ commands inline. Below, we will use the truncation command, which normally requires an interactive confirmation, which we will skip by using the _--no-warn_ flag. No output will be displayed.\n"
   ]
  },
  {
   "cell_type": "code",
   "execution_count": 27,
   "id": "0f11685a",
   "metadata": {},
   "outputs": [],
   "source": [
    "%sh asadm --enable -e \"manage truncate ns test --no-warn\" -h \"127.0.0.1\""
   ]
  },
  {
   "cell_type": "markdown",
   "id": "4b23c8bf",
   "metadata": {},
   "source": [
    "#### Add Java Client POM Dependency  \n",
    "Jupyter Notebook way!"
   ]
  },
  {
   "cell_type": "code",
   "execution_count": 4,
   "id": "c7d10ca8",
   "metadata": {},
   "outputs": [],
   "source": [
    "%%loadFromPOM\n",
    "<dependencies>\n",
    "  <dependency>\n",
    "    <groupId>com.aerospike</groupId>\n",
    "    <artifactId>aerospike-client</artifactId>\n",
    "    <version>7.2.1</version>\n",
    "  </dependency>\n",
    "</dependencies>"
   ]
  },
  {
   "cell_type": "markdown",
   "id": "e03decf9",
   "metadata": {},
   "source": [
    "####  Add required Java Client Imports\n",
    "\n",
    "These are some of the Aerospike Java Client imports needed to start developing our Application interactively.  We will add others, as needed, as we develop our solution."
   ]
  },
  {
   "cell_type": "code",
   "execution_count": 5,
   "id": "b5ec301d",
   "metadata": {},
   "outputs": [
    {
     "name": "stdout",
     "output_type": "stream",
     "text": [
      "Client modules imported.\n"
     ]
    }
   ],
   "source": [
    "//Require Imports\n",
    "import com.aerospike.client.AerospikeClient;\n",
    "import com.aerospike.client.policy.WritePolicy;\n",
    "import com.aerospike.client.Bin;\n",
    "import com.aerospike.client.Key;\n",
    "import com.aerospike.client.Record;\n",
    "import com.aerospike.client.Value;\n",
    "System.out.println(\"Client modules imported.\");"
   ]
  },
  {
   "cell_type": "markdown",
   "id": "45dc772b",
   "metadata": {},
   "source": [
    "#### Connect to the Aerospike Server\n",
    "Instantiate the client object. Let us write a record and read it back.\n",
    "We have a namespace **_test_** pre-defined on the server."
   ]
  },
  {
   "cell_type": "code",
   "execution_count": 6,
   "id": "74465d79",
   "metadata": {},
   "outputs": [
    {
     "name": "stdout",
     "output_type": "stream",
     "text": [
      "Initialized the client and connected to the cluster.\n",
      "Working with record key:\n",
      "test:testset:key1:bf6c1d13e7cd10c5bd022d27e7df170c0bccd6e1\n"
     ]
    }
   ],
   "source": [
    "AerospikeClient client = new AerospikeClient(\"127.0.0.1\", 3000);\n",
    "System.out.println(\"Initialized the client and connected to the cluster.\");"
   ]
  },
  {
   "cell_type": "markdown",
   "id": "b97512aa-7065-4824-961c-97824eb642cf",
   "metadata": {},
   "source": [
    "# Accessing a record on the Aerospike Server\n",
    "We build the Key object in Java\n",
    "We need the namespace and the record digest to find the record on the server.\n",
    "The record digest is computed by the client library using application provided key (integer, string or byte-array) and the set name. If not in a set, use null for set name.\n",
    "\n",
    "<img src=\"./graphics/RecordKey.png\"\n",
    "     alt=\"Record Digest\"\n",
    "     style=\"float: left; margin-right: 10px;\"\n",
    "     width=\"600\"\n",
    "     height=\"400\"/>"
   ]
  },
  {
   "cell_type": "code",
   "execution_count": 7,
   "id": "28ae8410-bfe0-4430-8093-ef4ffbadcdf6",
   "metadata": {},
   "outputs": [
    {
     "name": "stdout",
     "output_type": "stream",
     "text": [
      "Working with record key:\n",
      "test:testset:key1:bf6c1d13e7cd10c5bd022d27e7df170c0bccd6e1\n"
     ]
    }
   ],
   "source": [
    "Key key = new Key(\"test\", \"testset\", \"key1\");\n",
    "System.out.println(\"Working with record key:\");\n",
    "System.out.println(key);  //Will show the 20 byte digest"
   ]
  },
  {
   "cell_type": "markdown",
   "id": "2e0d3192",
   "metadata": {},
   "source": [
    "#### Test Record Data Model\n",
    "\n",
    "![fig_DM_1](./graphics/Fraud_DM_1.png)"
   ]
  },
  {
   "cell_type": "code",
   "execution_count": 8,
   "id": "85cf0fb7",
   "metadata": {},
   "outputs": [],
   "source": [
    "//Insert a record with two bins, b1 with string v1 and b2 with integer 2 as data.\n",
    "\n",
    "WritePolicy wPolicy = new WritePolicy();\n",
    "\n",
    "Bin b1 = new Bin(\"b1\", Value.get(\"val1\"));\n",
    "Bin b2 = new Bin(\"b2\", Value.get(2));\n",
    "\n",
    "client.put(wPolicy, key, b1, b2);"
   ]
  },
  {
   "cell_type": "markdown",
   "id": "935de1d9",
   "metadata": {},
   "source": [
    "##### About Jupyter Notebook Cell Execution sequence\n",
    "\n",
    "If a previous code cell was executed, objects instantiated in it are available in the next cell that you execute. \n",
    "\n",
    "You can execute individual cells in any order - this is interactive execution.\n",
    "\n",
    "Order of execution will determine the net result.  i.e. you can go back and forth between the record insertion cell above, and record read cell below. \n",
    "\n",
    "![fig_exec](./graphics/JupNb_Execution.png)\n",
    "\n",
    "If you edit the insertion values, you must re-execute the write cell to put the new value on the Aerospike Server. Then, if you execute the read cell, you will see the updated value.\n",
    "\n",
    "**_If you have lost track about where you are in the sequence, go to the top Menu, under Cell, Choose \"Run All\" to run all cells - top to bottom - in this notebook's sequence._** If you want to clear all objects in the kernel and restart from a fresh state, use **Kernel -> Restart & Run All**.\n"
   ]
  },
  {
   "cell_type": "code",
   "execution_count": 9,
   "id": "052cbf16",
   "metadata": {},
   "outputs": [
    {
     "name": "stdout",
     "output_type": "stream",
     "text": [
      "Read back the record.\n",
      "Record values are:\n",
      "(gen:1),(exp:0),(bins:(b1:val1),(b2:2))\n"
     ]
    }
   ],
   "source": [
    "//Read the record that we just inserted\n",
    "\n",
    "Record record = client.get(null, key);\n",
    "System.out.println(\"Read back the record.\");\n",
    "\n",
    "System.out.println(\"Record values are:\");\n",
    "System.out.println(record);"
   ]
  },
  {
   "cell_type": "markdown",
   "id": "acbcf481",
   "metadata": {},
   "source": [
    "## Getting Back to Fraud Detection\n",
    "Now that we are all setup, let us get back to discussing our Fraud Detection Example."
   ]
  },
  {
   "cell_type": "markdown",
   "id": "1440df2b",
   "metadata": {},
   "source": [
    "## Simple Incoming Transaction\n",
    "\n",
    "* New Account:\n",
    "\n",
    " *  acct_id:  _**override**_, _**withdrawl_amount**_, _**payee**_, current_balance, user_profile_json \n",
    " \n",
    "* New Transaction to existing account:\n",
    "\n",
    " *  acct_id:  _**override**_, _**withdrawl_amount**_, _**payee**_ \n",
    "\n",
    "\n",
    "For this hands-on, we will focus on the fraud detection part. For simplicity, we will just enter the username as a string for _user_profile_json_.  \n",
    "\n",
    "If _override_ bin is set _true_, do not flag as fraudulent. We will use override true to insert our training data as well as allow the application to enter a genuine new payee.\n",
    "\n"
   ]
  },
  {
   "cell_type": "markdown",
   "id": "b7cfe467",
   "metadata": {},
   "source": [
    "## Record Data Model\n",
    "While Aerospike limits bin names to 15 characters, shorter the better.\n",
    "\n",
    "### Fraud Detection - Proposed Record Data Model:\n",
    "* acct_id (Primary Key):\n",
    " *  ovr (override bin, boolean)\n",
    " *  lastamnt (last successful withdrawl_amount bin, integer, cents) \n",
    " *  payee (payee bin, string)  \n",
    " *  bal (current_balance bin, integer, cents) \n",
    " *  profile (user_profile_json bin, string, username) \n",
    " \n",
    " ![fig_DM_2](./graphics/Fraud_DM_2.png)\n"
   ]
  },
  {
   "cell_type": "markdown",
   "id": "8aff115f",
   "metadata": {},
   "source": [
    "#### New  _acct_id_ record creation"
   ]
  },
  {
   "cell_type": "markdown",
   "id": "89a965e3",
   "metadata": {},
   "source": [
    "**Exercise** Write code to insert one record in namespace: **test**, setname: **accts**, key = **1** integer value (int acct_id=1). \n",
    "Add the bins described above with ovr=true, lastamnt=-10000, payee=\"SELF\", bal=10000. \n",
    "\n",
    "(We will update new acct creation later with _automatic calculation of balance_.)\n"
   ]
  },
  {
   "cell_type": "code",
   "execution_count": 10,
   "id": "f4558ffc",
   "metadata": {
    "scrolled": true
   },
   "outputs": [],
   "source": [
    "// New acct_id record creation\n",
    "// Lets create a test record with this data structure\n",
    "\n",
    "int iAcct_id = 1;  //Acct_id = 1 to 1000.\n",
    "boolean bOvr = true;\n",
    "int iWdAmount = -10000;\n",
    "String sPayee = \"SELF\";\n",
    "int iBal = 10000;\n",
    "\n",
    "Key user = new Key(\"test\", \"accts\", iAcct_id);  \n",
    "\n",
    "Bin bOvr = new Bin(\"ovr\", Value.get(bOvr));\n",
    "Bin bAmnt = new Bin(\"lastamnt\", Value.get(iWdAmount));\n",
    "Bin bPayee = new Bin(\"payee\", Value.get(sPayee));\n",
    "Bin bBal = new Bin(\"bal\", Value.get(iBal));\n",
    "Bin bProfile = new Bin(\"profile\", Value.get(\"user\"+iAcct_id));\n",
    "\n",
    "WritePolicy wPolicy = new WritePolicy();\n",
    "client.put(wPolicy, user, bOvr, bAmnt, bPayee, bBal, bProfile);\n",
    "\n"
   ]
  },
  {
   "cell_type": "code",
   "execution_count": 11,
   "id": "cf8f9698",
   "metadata": {},
   "outputs": [
    {
     "name": "stdout",
     "output_type": "stream",
     "text": [
      "(gen:1),(exp:0),(bins:(lastamnt:-10000),(payee:SELF),(bal:10000),(profile:user1))\n"
     ]
    }
   ],
   "source": [
    "//Check \n",
    "System.out.println( client.get(null, user) );"
   ]
  },
  {
   "cell_type": "markdown",
   "id": "770dde11",
   "metadata": {},
   "source": [
    "#### Update  _acct_id_ record with incoming transaction\n",
    "\n",
    "Update record with a withdrawl transaction for `$80.00` or integer value 8000 cents. Recall we only have `$100.00`or 10000 cents. We should be left with 2000 cents. \n",
    "\n",
    "**Incoming Transaction:**\n",
    " *  acct_id:  _**override**_, _**withdrawl_amount**_, _**payee**_ \n",
    "\n",
    "How can we do this atomically? --> Use Write Expressions.\n"
   ]
  },
  {
   "cell_type": "markdown",
   "id": "ddd631f7",
   "metadata": {},
   "source": [
    "## Using OperationExpression write()\n",
    "\n"
   ]
  },
  {
   "cell_type": "markdown",
   "id": "52d64225",
   "metadata": {},
   "source": [
    "## Record Transaction Considerations"
   ]
  },
  {
   "cell_type": "code",
   "execution_count": 12,
   "id": "8ab4e60d",
   "metadata": {},
   "outputs": [],
   "source": [
    "import com.aerospike.client.Operation;\n",
    "import com.aerospike.client.exp.Exp;\n",
    "import com.aerospike.client.exp.ExpOperation;\n",
    "import com.aerospike.client.exp.ExpWriteFlags;\n",
    "import com.aerospike.client.exp.Expression;\n",
    "\n",
    "int iAcct_id = 1;  //Acct_id = 1 to 1000.\n",
    "boolean bOvr = false;\n",
    "int iWdAmount = 8000;\n",
    "String sPayee = \"VISA\";\n",
    "\n",
    "Key user = new Key(\"test\", \"accts\", iAcct_id); \n",
    "\n",
    "Bin bOverride = new Bin(\"ovr\", Value.get(bOvr));\n",
    "//Later we will use the override boolean value for decisioning.\n",
    "Bin bAmnt = new Bin(\"lastamnt\",Value.get(iWdAmount));\n",
    "Bin bPayee = new Bin(\"payee\",Value.get(sPayee));\n",
    "\n",
    "Expression balExp = Exp.build(Exp.sub(Exp.intBin(\"bal\"),Exp.val(iWdAmount)));\n",
    "\n",
    "//wPolicy is default here, no filter expression used (yet!)\n",
    "//Update withdrawl amount in amnt bin\n",
    "//Expression Operation write for bal bin\n",
    "\n",
    "WritePolicy wPolicy = new WritePolicy();\n",
    "record = client.operate( wPolicy, user,   \n",
    "          Operation.put(bOverride),\n",
    "          Operation.put(bAmnt),     \n",
    "          Operation.put(bPayee),               \n",
    "          ExpOperation.write(\"bal\", balExp, ExpWriteFlags.DEFAULT)\n",
    "         );\n"
   ]
  },
  {
   "cell_type": "code",
   "execution_count": 13,
   "id": "5fd2fa3b",
   "metadata": {},
   "outputs": [
    {
     "name": "stdout",
     "output_type": "stream",
     "text": [
      "(gen:2),(exp:0),(bins:(lastamnt:8000),(payee:VISA),(bal:2000),(profile:user1),(ovr:false))\n"
     ]
    }
   ],
   "source": [
    "//Check \n",
    "System.out.println( client.get(null, user) );"
   ]
  },
  {
   "cell_type": "markdown",
   "id": "31e6d184",
   "metadata": {},
   "source": [
    "#### (Recap: Record Data Model)\n",
    "\n",
    " ![fig_DM_2](./graphics/Fraud_DM_2.png)\n"
   ]
  },
  {
   "cell_type": "markdown",
   "id": "29e8b82c",
   "metadata": {},
   "source": [
    "### Simple balance check\n",
    "If **withdrawl_amount**  _is greater than_ **current_balance**, reject the transaction. \n",
    "\n",
    "Lets modify our code to add this Filter Expression condition."
   ]
  },
  {
   "cell_type": "code",
   "execution_count": 14,
   "id": "8d94d94f",
   "metadata": {},
   "outputs": [
    {
     "name": "stdout",
     "output_type": "stream",
     "text": [
      "Insufficient Balance. Transaction Rejected.\n"
     ]
    }
   ],
   "source": [
    "import com.aerospike.client.AerospikeException;\n",
    "import com.aerospike.client.ResultCode;\n",
    "\n",
    "int iAcct_id = 1;  //Acct_id = 1 to 1000.\n",
    "boolean bOvr = false;\n",
    "int iWdAmount = 3000;\n",
    "String sPayee = \"Cash\";\n",
    "\n",
    "Key user = new Key(\"test\", \"accts\", iAcct_id); \n",
    "\n",
    "Bin bOverride = new Bin(\"ovr\", Value.get(bOvr));\n",
    "Bin bAmnt = new Bin(\"lastamnt\",Value.get(iWdAmount));\n",
    "Bin bPayee = new Bin(\"payee\",Value.get(sPayee));\n",
    "\n",
    "WritePolicy wPolicy = new WritePolicy();\n",
    "// Filter expression is part of the policy object, supplied when calling 'operate'\n",
    "wPolicy.filterExp = Exp.build(Exp.or(\n",
    "    Exp.ge(Exp.intBin(\"bal\"),Exp.val(iWdAmount)), \n",
    "    Exp.val(bOvr))\n",
    "    );\n",
    "// Want it to fail when filterExp = false\n",
    "wPolicy.failOnFilteredOut = true;\n",
    "\n",
    "Expression balExp = Exp.build(Exp.sub(Exp.intBin(\"bal\"),Exp.val(iWdAmount)));\n",
    "\n",
    "try {\n",
    "//wPolicy now has a filter expression added\n",
    "//Update withdrawl amount in amnt bin\n",
    "//Expression Operation write for bal bin\n",
    "\n",
    "record = client.operate( wPolicy, user,   \n",
    "          Operation.put(bOverride),\n",
    "          Operation.put(bAmnt),     \n",
    "          Operation.put(bPayee),           \n",
    "          ExpOperation.write(\"bal\", balExp, ExpWriteFlags.DEFAULT)\n",
    "         );\n",
    "} catch (AerospikeException e){\n",
    "  int rc = e.getResultCode();\n",
    "  if(rc == ResultCode.FILTERED_OUT){\n",
    "    System.out.println(\"Insufficient Balance. Transaction Rejected.\");\n",
    "  }\n",
    "}"
   ]
  },
  {
   "cell_type": "code",
   "execution_count": 15,
   "id": "7f590ddb",
   "metadata": {},
   "outputs": [
    {
     "name": "stdout",
     "output_type": "stream",
     "text": [
      "(gen:2),(exp:0),(bins:(lastamnt:8000),(payee:VISA),(bal:2000),(profile:user1),(ovr:false))\n"
     ]
    }
   ],
   "source": [
    "//Check \n",
    "System.out.println( client.get(null, user) );"
   ]
  },
  {
   "cell_type": "markdown",
   "id": "31e1a6d3",
   "metadata": {},
   "source": [
    "### Application initiates first transaction to create the account.\n",
    "\n",
    "To create the account in this first transaction in the account, the transaction is expected to be made with **override** _true_. _withdrawl_amount_ should be a negative number (deposit), starting _current_balance_ on new account creation will be zero, after the deposit, it will _(0 - (-amount)) = amount deposited_.  Add user profile (user name string). For payee name, use SELF.\n",
    "\n",
    "If Bin \"bal\" exists, (new balance = old balance - withdrawl_amount), else (0 - withdrawl_amount).\n",
    "\n",
    "If profile bin exists, do not update it otherwise add profile string in profile bin. (Use ExpWriteFlags)\n",
    "\n",
    "We are still working this record data model:\n",
    "\n",
    "![fig_DM_2](./graphics/Fraud_DM_2.png)\n",
    "\n"
   ]
  },
  {
   "cell_type": "code",
   "execution_count": 16,
   "id": "133ad5c2",
   "metadata": {},
   "outputs": [],
   "source": [
    "import com.aerospike.client.AerospikeException;\n",
    "import com.aerospike.client.ResultCode;\n",
    "\n",
    "int iAcct_id = 2;  //Acct_id = 1 to 1000.\n",
    "boolean bOvr = true;\n",
    "int iWdAmount = -5000;\n",
    "String sPayee = \"SELF\";\n",
    "String sProfile = \"user\"+iAcct_id;\n",
    "\n",
    "Key user = new Key(\"test\", \"accts\", iAcct_id); \n",
    "\n",
    "Bin bOverride = new Bin(\"ovr\", Value.get(bOvr));\n",
    "Bin bAmnt = new Bin(\"lastamnt\",Value.get(iWdAmount));\n",
    "Bin bPayee = new Bin(\"payee\",Value.get(sPayee));\n",
    "Bin bProfile = new Bin(\"profile\", Value.get(sProfile));\n",
    "\n",
    "// Same as previous filter expression\n",
    "WritePolicy wPolicy = new WritePolicy();\n",
    "wPolicy.filterExp = Exp.build(Exp.or(\n",
    "    Exp.ge(Exp.intBin(\"bal\"),Exp.val(iWdAmount)), \n",
    "    Exp.val(bOvr))\n",
    "    );\n",
    "wPolicy.failOnFilteredOut = true;\n",
    "\n",
    "// Expression for calculating balance\n",
    "Expression balExp = Exp.build(\n",
    "                    Exp.cond(Exp.binExists(\"bal\"), Exp.sub(Exp.intBin(\"bal\"),Exp.val(iWdAmount)),\n",
    "                            Exp.sub(Exp.val(0), Exp.val(iWdAmount))\n",
    "                            )\n",
    "                    );\n",
    " \n",
    "// We will use the below to ensure that the profile only gets written once\n",
    "Expression profileExp = Exp.build(Exp.val(sProfile));\n",
    "                    \n",
    "// Run in a try/catch block as we may get 'filtered out' exception\n",
    "try {\n",
    "//wPolicy now has a filter expression added\n",
    "//Update withdrawl amount in amnt bin\n",
    "//Expression Operation write for bal bin\n",
    "\n",
    "record = client.operate( wPolicy, user,   \n",
    "          Operation.put(bOverride),\n",
    "          Operation.put(bAmnt),     \n",
    "          Operation.put(bPayee), \n",
    "          // Balance update\n",
    "          ExpOperation.write(\"bal\", balExp, ExpWriteFlags.DEFAULT),\n",
    "          // Write to the profile bin on creation only. 'Fail' silently otherwise\n",
    "          ExpOperation.write(\"profile\", profileExp, ExpWriteFlags.CREATE_ONLY | ExpWriteFlags.POLICY_NO_FAIL)\n",
    "         );\n",
    "} catch (AerospikeException e){\n",
    "  int rc = e.getResultCode();\n",
    "  if(rc == ResultCode.FILTERED_OUT){\n",
    "    System.out.println(\"Insufficient Balance. Transaction Rejected.\");\n",
    "  }\n",
    "}"
   ]
  },
  {
   "cell_type": "code",
   "execution_count": 17,
   "id": "c511d06e",
   "metadata": {},
   "outputs": [
    {
     "name": "stdout",
     "output_type": "stream",
     "text": [
      "(gen:1),(exp:0),(bins:(ovr:true),(lastamnt:-5000),(payee:SELF),(bal:5000),(profile:user2))\n"
     ]
    }
   ],
   "source": [
    "//Check \n",
    "System.out.println( client.get(null, user) );"
   ]
  },
  {
   "cell_type": "markdown",
   "id": "eaf137bb",
   "metadata": {},
   "source": [
    "### If it is a Deposit (Negative Withdrawl Amount):\n",
    "* Skip Fraud Check\n",
    "* Update **current_balance** and **withdrawl_amount**, and return.\n",
    "\n",
    "Previous code should work with **override** = _false_.\n",
    "\n",
    "Try and check with acct_id = 2. Add -3000 amount"
   ]
  },
  {
   "cell_type": "code",
   "execution_count": 18,
   "id": "017032d0",
   "metadata": {},
   "outputs": [],
   "source": [
    "import com.aerospike.client.AerospikeException;\n",
    "import com.aerospike.client.ResultCode;\n",
    "\n",
    "int iAcct_id = 2;  //Acct_id = 1 to 1000.\n",
    "boolean bOvr = false;\n",
    "int iWdAmount = -3000;\n",
    "String sPayee = \"SELF\";\n",
    "String sProfile = \"do_not_update_user\"+iAcct_id;  //Check we are not updating the profile string now.\n",
    "\n",
    "Key user = new Key(\"test\", \"accts\", iAcct_id); \n",
    "\n",
    "Bin bOverride = new Bin(\"ovr\", Value.get(bOvr));\n",
    "Bin bAmnt = new Bin(\"lastamnt\",Value.get(iWdAmount));\n",
    "Bin bPayee = new Bin(\"payee\",Value.get(sPayee));\n",
    "Bin bProfile = new Bin(\"profile\", Value.get(sProfile));\n",
    "\n",
    "// Same as previous filter expression\n",
    "WritePolicy wPolicy = new WritePolicy();\n",
    "wPolicy.filterExp = Exp.build(Exp.or(\n",
    "    Exp.ge(Exp.intBin(\"bal\"),Exp.val(iWdAmount)), \n",
    "    Exp.val(bOvr))\n",
    "    );\n",
    "wPolicy.failOnFilteredOut = true;\n",
    "\n",
    "// Expression for calculating balance using cond for if then logic\n",
    "Expression balExp = Exp.build(\n",
    "                    Exp.cond(Exp.binExists(\"bal\"), Exp.sub(Exp.intBin(\"bal\"),Exp.val(iWdAmount)),\n",
    "                            Exp.sub(Exp.val(0), Exp.val(iWdAmount))\n",
    "                            )\n",
    "                    );\n",
    "\n",
    "// We will use the below to ensure that the profile only gets written once\n",
    "Expression profileExp = Exp.build(Exp.val(sProfile));\n",
    "                    \n",
    "try {\n",
    "//wPolicy now has a filter expression added\n",
    "//Update withdrawl amount in amnt bin\n",
    "//Expression Operation write for bal bin\n",
    "\n",
    "record = client.operate( wPolicy, user,   \n",
    "          Operation.put(bOverride),\n",
    "          Operation.put(bAmnt),     \n",
    "          Operation.put(bPayee),          \n",
    "          // Balance update\n",
    "          ExpOperation.write(\"bal\", balExp, ExpWriteFlags.DEFAULT),\n",
    "          // Write to the profile bin on creation only. 'Fail' silently otherwise\n",
    "          ExpOperation.write(\"profile\", profileExp, ExpWriteFlags.CREATE_ONLY | ExpWriteFlags.POLICY_NO_FAIL)\n",
    "         );\n",
    "} catch (AerospikeException e){\n",
    "  int rc = e.getResultCode();\n",
    "  if(rc == ResultCode.FILTERED_OUT){\n",
    "    System.out.println(\"Insufficient Balance. Transaction Rejected.\");\n",
    "  }\n",
    "}"
   ]
  },
  {
   "cell_type": "code",
   "execution_count": 19,
   "id": "20645796",
   "metadata": {},
   "outputs": [
    {
     "name": "stdout",
     "output_type": "stream",
     "text": [
      "(gen:2),(exp:0),(bins:(ovr:false),(lastamnt:-3000),(payee:SELF),(bal:8000),(profile:user2))\n"
     ]
    }
   ],
   "source": [
    "//Check - should have an $8000 balance\n",
    "System.out.println( client.get(null, user) );"
   ]
  },
  {
   "cell_type": "markdown",
   "id": "e6ec68e5",
   "metadata": {},
   "source": [
    "### Should it be flagged as \"Potential_Fraud\"?\n",
    "We will implement a simple **Go/NoGo** Model - we are not computing a fraud score in our hands-on exercise today.\n",
    "For each **_acct_id_** : \n",
    "\n"
   ]
  },
  {
   "cell_type": "markdown",
   "id": "a93d2206",
   "metadata": {},
   "source": [
    "#### Maintain in acct_id record:\n",
    "When a new account is created, add fraud detection criteria:\n",
    "* Fraud criteria (30 percent over average threshold, thresh = 30), can be tuned in future. (Do once when acct_id record is created.)\n",
    "\n",
    "Upon incoming withdrawl transaction, atomically maintain:\n",
    "* List of unique payees.\n",
    "* Maintain average withdrawl amount for each payee.  \n",
    "_(Maintain sum of all withdrawls, count of withdrawl. avg = sum/count)_ \n",
    "* **current_balance** if transaction is not rejected or flagged as fraudulent\n",
    "\n",
    "We will internally maintain the following additional bins. Data will be updated with every incoming transaction, atomically, by using Expressions.\n",
    "\n",
    "![fig_DM_3](./graphics/Fraud_DM_3.png)\n",
    "\n",
    "\n",
    "\n"
   ]
  },
  {
   "cell_type": "code",
   "execution_count": 24,
   "id": "89d48208",
   "metadata": {},
   "outputs": [
    {
     "name": "stdout",
     "output_type": "stream",
     "text": [
      "Operate error. Resultcode: Key already exists\n"
     ]
    }
   ],
   "source": [
    "import com.aerospike.client.cdt.MapPolicy;\n",
    "import com.aerospike.client.cdt.MapOrder;\n",
    "import com.aerospike.client.cdt.MapWriteFlags;\n",
    "import com.aerospike.client.cdt.MapReturnType;\n",
    "import com.aerospike.client.exp.MapExp;\n",
    "import com.aerospike.client.cdt.CTX;\n",
    "import java.util.HashMap;\n",
    "import java.util.Map;\n",
    "import com.aerospike.client.cdt.MapOperation;\n",
    "import com.aerospike.client.policy.RecordExistsAction;\n",
    "//import java.util.ArrayList;\n",
    "//import java.util.List;\n",
    "\n",
    "int iAcct_id = 3;  //Acct_id = 1 to 1000.\n",
    "boolean bOvr = false;  //<-- Note: we set Overrride to false  (wrong)\n",
    "int iWdAmount = -2000;\n",
    "String sPayee = \"SELF\";\n",
    "String sProfile = \"user\"+iAcct_id;  //Check we are not updating the profile string now.\n",
    "int iThreshold = 30;\n",
    "\n",
    "Key user = new Key(\"test\", \"accts\", iAcct_id); \n",
    "\n",
    "Bin bOverride = new Bin(\"ovr\", Value.get(bOvr));\n",
    "Bin bAmnt = new Bin(\"lastamnt\",Value.get(iWdAmount));\n",
    "Bin bPayee = new Bin(\"payee\",Value.get(sPayee));\n",
    "Bin bProfile = new Bin(\"profile\", Value.get(sProfile));\n",
    "Bin bThreshold = new Bin(\"thresh\", Value.get(iThreshold));\n",
    "\n",
    "WritePolicy wPolicy = new WritePolicy();\n",
    "\n",
    "if(bOvr){\n",
    "    wPolicy.recordExistsAction = RecordExistsAction.CREATE_ONLY;   //when creating acct_id record\n",
    "}else {\n",
    "    wPolicy.recordExistsAction = RecordExistsAction.UPDATE_ONLY;   //acct_id record must exist.\n",
    "}\n",
    "//User 3 account is not created yet. If we create with bOvr=false, we should get an error.\n",
    "\n",
    "\n",
    "// Note the use of cond for if then kind of logic. In this case, we check if bal bin exists. If yes, check bal>=iWdAmount\n",
    "wPolicy.filterExp = Exp.build(\n",
    "    Exp.or(\n",
    "      Exp.cond(Exp.binExists(\"bal\"), Exp.ge(Exp.intBin(\"bal\"),Exp.val(iWdAmount)), Exp.val(false)), \n",
    "      Exp.val(bOvr)\n",
    "    )\n",
    "    );\n",
    "wPolicy.failOnFilteredOut = true;\n",
    "\n",
    "Expression balExp = Exp.build(\n",
    "                    Exp.cond(Exp.binExists(\"bal\"), Exp.sub(Exp.intBin(\"bal\"),Exp.val(iWdAmount)),\n",
    "                            Exp.sub(Exp.val(0), Exp.val(iWdAmount))\n",
    "                            )\n",
    "                    );\n",
    " \n",
    "Expression profileExp = Exp.build(Exp.val(sProfile));\n",
    "\n",
    "Expression thresholdExp = Exp.build(Exp.val(iThreshold));\n",
    "    \n",
    "MapPolicy mPolicy = new MapPolicy(MapOrder.KEY_ORDERED, MapWriteFlags.DEFAULT);\n",
    "\n",
    "//If MapKey sPayee exists, add to sum and count, otherwise create sum and count entries for map key = sPayee\n",
    "//Value returned by this expression will be written to sPayeee{sum:expValue}\n",
    "Exp payeeSumExp = \n",
    "    // If ....\n",
    "    Exp.cond( \n",
    "        // The number of records corresponding to key sPayee in the mapPayees bin\n",
    "        Exp.eq( MapExp.getByKey(MapReturnType.COUNT, Exp.Type.INT, Exp.val(sPayee), \n",
    "                                      Exp.mapBin(\"mapPayees\") ), \n",
    "                // is equal to zero       \n",
    "                Exp.val(0)), \n",
    "                // then the sum of payments to sPayee is equal to the current payment amount\n",
    "                Exp.val(iWdAmount),\n",
    "        // else if this count\n",
    "        Exp.eq( MapExp.getByKey(MapReturnType.COUNT, Exp.Type.INT, Exp.val(sPayee), \n",
    "                                      Exp.mapBin(\"mapPayees\") ), \n",
    "               // is equal to one\n",
    "               Exp.val(1)), \n",
    "               // then get the currently stored sum of all payments for this payee\n",
    "                  Exp.add(MapExp.getByKey(MapReturnType.VALUE, Exp.Type.INT, \n",
    "                              Exp.val(\"sum\"), Exp.mapBin(\"mapPayees\"), \n",
    "                              CTX.mapKey(Value.get(sPayee))), \n",
    "                          // and add to it the payment amount        \n",
    "                          Exp.val(iWdAmount)),\n",
    "                      Exp.val(0) //default\n",
    "            );\n",
    "    \n",
    "// This expression saves the result of the payeeSumExp calculation\n",
    "Expression savePayeeSumExp = Exp.build( \n",
    "                              MapExp.put(mPolicy, Exp.val(\"sum\"), payeeSumExp, \n",
    "                                        // for the mapPayees bin \n",
    "                                        Exp.mapBin(\"mapPayees\"), \n",
    "                                         // Under the payee key\n",
    "                                         CTX.mapKey(Value.get(sPayee)))\n",
    "                             );\n",
    "\n",
    "//Value returned by payeeCountExp will be written to sPayeee{count:expValue}\n",
    "//The structure is very similar to sumCountExp\n",
    "//Except that we set the count to 1 if the payee has not been seen before\n",
    "//And increment the count if it has\n",
    "Exp payeeCountExp = \n",
    "    // If .. \n",
    "    Exp.cond( \n",
    "        Exp.eq( \n",
    "            // The number of records corresponding to key sPayee in the mapPayees bin\n",
    "            MapExp.getByKey(MapReturnType.COUNT, Exp.Type.INT, Exp.val(sPayee), \n",
    "                                      Exp.mapBin(\"mapPayees\") ), \n",
    "            // is equal to zero \n",
    "            Exp.val(0)), \n",
    "            // then return 1\n",
    "            Exp.val(1),\n",
    "             // else if this count \n",
    "        Exp.eq( \n",
    "            MapExp.getByKey(MapReturnType.COUNT, Exp.Type.INT, Exp.val(sPayee), \n",
    "                                      Exp.mapBin(\"mapPayees\") ), \n",
    "            // is equal to one         \n",
    "            Exp.val(1)), \n",
    "            // then get the currently stored count of all payments for this payee \n",
    "                      Exp.add(MapExp.getByKey(MapReturnType.VALUE, Exp.Type.INT, \n",
    "                                      Exp.val(\"count\"), Exp.mapBin(\"mapPayees\"), CTX.mapKey(Value.get(sPayee))), \n",
    "                              // and add one to it\n",
    "                              Exp.val(1)),\n",
    "            // Finally if the answer is > 1 ( can't happen) return 0\n",
    "            Exp.val(0) //default\n",
    "            );\n",
    " \n",
    "// Similarly this expression saves the result of the payeeCountExp calculation\n",
    "Expression savePayeeCountExp = Exp.build( \n",
    "                              MapExp.put(mPolicy, Exp.val(\"count\"), payeeCountExp, \n",
    "                                         //In the mapPayees bin\n",
    "                                        Exp.mapBin(\"mapPayees\"), \n",
    "                                         // Under the payee key\n",
    "                                         CTX.mapKey(Value.get(sPayee)))\n",
    "                             );\n",
    "\n",
    "// Map to initialize sum and count to 0\n",
    "Map<Value, Value> initPayeeMap = new HashMap<Value, Value>();\n",
    "initPayeeMap.put(Value.get(\"sum\"), Value.get(0));\n",
    "initPayeeMap.put(Value.get(\"count\"), Value.get(0));\n",
    "\n",
    "// The policy we use will make sure the initalisation map is only saved if it doesn't exist\n",
    "MapPolicy mPolicyInit = new MapPolicy(MapOrder.KEY_ORDERED, \n",
    "                                      MapWriteFlags.CREATE_ONLY|MapWriteFlags.NO_FAIL|MapWriteFlags.PARTIAL);  \n",
    "\n",
    "try {\n",
    "//wPolicy now has a filter expression added\n",
    "//Update withdrawl amount in amnt bin\n",
    "//Expression Operation write for bal bin\n",
    "\n",
    "record = client.operate( wPolicy, user,   \n",
    "          Operation.put(bOverride),\n",
    "          Operation.put(bAmnt),     \n",
    "          Operation.put(bPayee),           \n",
    "          // Previously seen balance expression\n",
    "          ExpOperation.write(\"bal\", balExp, ExpWriteFlags.DEFAULT),\n",
    "          // Previously seen profile expression\n",
    "          ExpOperation.write(\"profile\", profileExp, ExpWriteFlags.CREATE_ONLY | ExpWriteFlags.POLICY_NO_FAIL),\n",
    "          // Set the fraud detection threshold\n",
    "          ExpOperation.write(\"thresh\", thresholdExp, ExpWriteFlags.CREATE_ONLY | ExpWriteFlags.POLICY_NO_FAIL),\n",
    "          // Initialise the payee map if required\n",
    "          MapOperation.put(mPolicyInit, \"mapPayees\", Value.get(sPayee), Value.get(initPayeeMap)),\n",
    "          // Save the sum of the amounts paid to this payee so far using the savePayeeSumExp expression\n",
    "          ExpOperation.write(\"mapPayees\", savePayeeSumExp, ExpWriteFlags.EVAL_NO_FAIL),\n",
    "          // Similarly save teh sum of the count of payments to this payee\n",
    "          ExpOperation.write(\"mapPayees\", savePayeeCountExp, ExpWriteFlags.EVAL_NO_FAIL)\n",
    "         );\n",
    "} catch (AerospikeException e){\n",
    "  int rc = e.getResultCode();\n",
    "  if(rc == ResultCode.FILTERED_OUT){\n",
    "    System.out.println(\"Insufficient Balance or Fraud. Transaction Rejected.\");\n",
    "  }\n",
    "  else{\n",
    "    System.out.println(\"Operate error. Resultcode: \"+ ResultCode.getResultString(rc));\n",
    "  }\n",
    "    \n",
    "}"
   ]
  },
  {
   "cell_type": "code",
   "execution_count": 25,
   "id": "9e9a6150",
   "metadata": {},
   "outputs": [
    {
     "name": "stdout",
     "output_type": "stream",
     "text": [
      "(gen:1),(exp:0),(bins:(ovr:true),(lastamnt:-2000),(payee:SELF),(bal:2000),(profile:user3),(thresh:30),(mapPayees:{SELF={count=1, sum=-2000}}))\n"
     ]
    }
   ],
   "source": [
    "//Check \n",
    "//Key user = new Key(\"test\", \"accts\", 3); \n",
    "System.out.println( client.get(null, user) );"
   ]
  },
  {
   "cell_type": "markdown",
   "id": "391f7ac5",
   "metadata": {},
   "source": [
    "#### Update Record Data Model for Fraud Detection related bins\n",
    "* payeelist Map data type with key=payee name, value = [cumulative_withdawls, count] to compute average.  Estimate record size vs max number of payees. \n",
    "\n",
    "\n",
    "![fig_DM_3](./graphics/Fraud_DM_3.png)\n",
    "\n",
    "\n",
    "* Decide record size to use 128K / 256K / 512K / 1M / 2M / 4M / 8M? 1M or below is preferred.\n",
    " *  **Sizing Estimate:**\n",
    " *  Use device storage sizing guideline to make an estimate using an average payee name string length.\n",
    " *  Should we hash the payee name to known number of bits to get consistent sizing? \n",
    "  *   CDTs allow byte arrays to be map keys.\n",
    "  *   Stay with string payee name map key for today's exercise.\n",
    "* Fraud threshold percentage bin: _thresh_ = 30. \n"
   ]
  },
  {
   "cell_type": "markdown",
   "id": "a8b00759",
   "metadata": {},
   "source": [
    "#### Flag as Potential_Fraud if override is false and:\n",
    "* If _withdrawl_amount_ is greater than x (e.g.30)% of average. \n",
    "* Skip fraud check on first 5 transactions of a payee to build the average.\n",
    "* Don't apply fraud checkn on Credit amounts (negative withdrawl)\n",
    "\n",
    "* **If flagged as Potential_Fraud:** \n",
    " *  do not add payee to unique list\n",
    " *  do not update payee average withdrawl amount.\n",
    " *  do not update transaction withdrawl_amount or current_balance.\n",
    " "
   ]
  },
  {
   "cell_type": "code",
   "execution_count": 28,
   "id": "71a432f9",
   "metadata": {},
   "outputs": [],
   "source": [
    "import com.aerospike.client.cdt.MapPolicy;\n",
    "import com.aerospike.client.cdt.MapOrder;\n",
    "import com.aerospike.client.cdt.MapWriteFlags;\n",
    "import com.aerospike.client.cdt.MapReturnType;\n",
    "import com.aerospike.client.exp.MapExp;\n",
    "import com.aerospike.client.cdt.CTX;\n",
    "import java.util.HashMap;\n",
    "import java.util.Map;\n",
    "import com.aerospike.client.cdt.MapOperation;\n",
    "import com.aerospike.client.policy.RecordExistsAction;\n",
    "\n",
    "int iAcct_id = 3;  //Acct_id = 1 to 1000.\n",
    "boolean bOvr = true;\n",
    "int iWdAmount = -5000;\n",
    "String sPayee = \"SELF\";\n",
    "String sProfile = \"user\"+iAcct_id;  //Check we are not updating the profile string now.\n",
    "int iThreshold = 30;\n",
    "\n",
    "Key user = new Key(\"test\", \"accts\", iAcct_id); \n",
    "\n",
    "Bin bOverride = new Bin(\"ovr\", Value.get(bOvr));\n",
    "Bin bAmnt = new Bin(\"lastamnt\",Value.get(iWdAmount));\n",
    "Bin bPayee = new Bin(\"payee\",Value.get(sPayee));\n",
    "Bin bProfile = new Bin(\"profile\", Value.get(sProfile));\n",
    "Bin bThreshold = new Bin(\"thresh\", Value.get(iThreshold));\n",
    "\n",
    "WritePolicy wPolicy = new WritePolicy();\n",
    "\n",
    "if(bOvr){\n",
    "    wPolicy.recordExistsAction = RecordExistsAction.CREATE_ONLY;   //when creating acct_id record\n",
    "}else {\n",
    "    wPolicy.recordExistsAction = RecordExistsAction.UPDATE_ONLY;   //acct_id record must exist.\n",
    "}\n",
    "\n",
    "// Take the existing filter expression and add to it a fraud detection filter\n",
    "wPolicy.filterExp = Exp.build(\n",
    "    Exp.and(\n",
    "      Exp.or(\n",
    "        Exp.cond(Exp.binExists(\"bal\"), Exp.ge(Exp.intBin(\"bal\"),Exp.val(iWdAmount)), Exp.val(false)),\n",
    "        //Note: This filter will be ignore if the record does not exist\n",
    "        //Hence, we use recordExistsAction policy per above based on bOvr value.\n",
    "        Exp.val(bOvr)\n",
    "      ),\n",
    "      //Lets now add fraud detection filter- withdrawl amount should be within 30% of average withdrawl amount.\n",
    "      \n",
    "      \n",
    "      Exp.cond(\n",
    "          //First if withdrawl amount is negative (<0), return true\n",
    "          Exp.lt(Exp.val(iWdAmount),Exp.val(0)), Exp.val(true),\n",
    "          //then, if mapPayees bin does not exist, return true, no transaction in yet.\n",
    "          Exp.not(Exp.binExists(\"mapPayees\")), Exp.val(true),\n",
    "          //then, if mapPayees does not have entry for sPayee, return true, no transaction in yet\n",
    "          Exp.eq(MapExp.getByKey(MapReturnType.COUNT, Exp.Type.INT, Exp.val(sPayee), \n",
    "                                      Exp.mapBin(\"mapPayees\") ), Exp.val(0)), Exp.val(true),\n",
    "          //Then, if count >5, \n",
    "          Exp.gt(MapExp.getByKey(MapReturnType.VALUE, Exp.Type.INT, Exp.val(\"count\"), \n",
    "                                  Exp.mapBin(\"mapPayees\"),CTX.mapKey(Value.get(sPayee))) , Exp.val(5)),\n",
    "          // Return the boolean result (true/false) of: \n",
    "          //check withdrawl amount <= (100+threshold)*(sum/count)/100\n",
    "          Exp.le(Exp.val(iWdAmount),\n",
    "          Exp.div(\n",
    "          Exp.mul(Exp.add(Exp.val(100),Exp.intBin(\"thresh\")), \n",
    "          Exp.div(MapExp.getByKey(MapReturnType.VALUE, Exp.Type.INT, Exp.val(\"sum\"), \n",
    "                                  Exp.mapBin(\"mapPayees\"),CTX.mapKey(Value.get(sPayee))),\n",
    "                  MapExp.getByKey(MapReturnType.VALUE, Exp.Type.INT, Exp.val(\"count\"), \n",
    "                                  Exp.mapBin(\"mapPayees\"),CTX.mapKey(Value.get(sPayee)))                \n",
    "                 )\n",
    "          ), Exp.val(100)) \n",
    "        ),\n",
    "        // otherwise, if count<=5, skip fraud check and return true, default.\n",
    "        Exp.val(true)\n",
    "     )\n",
    "    )\n",
    "   );\n",
    "wPolicy.failOnFilteredOut = true;\n",
    "\n",
    "Expression balExp = Exp.build(\n",
    "                    Exp.cond(Exp.binExists(\"bal\"), Exp.sub(Exp.intBin(\"bal\"),Exp.val(iWdAmount)),\n",
    "                            Exp.sub(Exp.val(0), Exp.val(iWdAmount))\n",
    "                            )\n",
    "                    );\n",
    " \n",
    "Expression profileExp = Exp.build(Exp.val(sProfile));\n",
    "\n",
    "Expression thresholdExp = Exp.build(Exp.val(iThreshold));\n",
    "    \n",
    "MapPolicy mPolicy = new MapPolicy(MapOrder.KEY_ORDERED, MapWriteFlags.DEFAULT);\n",
    "\n",
    "//If MapKey sPayee exists, add to sum and count, otherwise create sum and count entries for map key = sPayee\n",
    "//Value returned by this expression will be written to sPayeee{sum:expValue}\n",
    "Exp payeeSumExp = \n",
    "    Exp.cond( Exp.eq( MapExp.getByKey(MapReturnType.COUNT, Exp.Type.INT, Exp.val(sPayee), \n",
    "                                      Exp.mapBin(\"mapPayees\") ), Exp.val(0)), Exp.val(iWdAmount),\n",
    "              Exp.eq( MapExp.getByKey(MapReturnType.COUNT, Exp.Type.INT, Exp.val(sPayee), \n",
    "                                      Exp.mapBin(\"mapPayees\") ), Exp.val(1)), \n",
    "                      Exp.add(MapExp.getByKey(MapReturnType.VALUE, Exp.Type.INT, \n",
    "                                      Exp.val(\"sum\"), Exp.mapBin(\"mapPayees\"), \n",
    "                                      CTX.mapKey(Value.get(sPayee))), Exp.val(iWdAmount)),\n",
    "                      Exp.val(0) //default\n",
    "            );\n",
    "    \n",
    "Expression savePayeeSumExp = Exp.build( \n",
    "                              MapExp.put(mPolicy, Exp.val(\"sum\"), payeeSumExp, \n",
    "                                        Exp.mapBin(\"mapPayees\"), CTX.mapKey(Value.get(sPayee)))\n",
    "                             );\n",
    "\n",
    "//Value returned by this expression will be written to sPayeee{count:expValue}\n",
    "Exp payeeCountExp = \n",
    "    Exp.cond( Exp.eq( MapExp.getByKey(MapReturnType.COUNT, Exp.Type.INT, Exp.val(sPayee), \n",
    "                                      Exp.mapBin(\"mapPayees\") ), Exp.val(0)), Exp.val(1),\n",
    "              Exp.eq( MapExp.getByKey(MapReturnType.COUNT, Exp.Type.INT, Exp.val(sPayee), \n",
    "                                      Exp.mapBin(\"mapPayees\") ), Exp.val(1)), \n",
    "                      Exp.add(MapExp.getByKey(MapReturnType.VALUE, Exp.Type.INT, \n",
    "                                      Exp.val(\"count\"), Exp.mapBin(\"mapPayees\"), CTX.mapKey(Value.get(sPayee))), Exp.val(1)),\n",
    "              Exp.val(0) //default\n",
    "            );\n",
    " \n",
    "Expression savePayeeCountExp = Exp.build( \n",
    "                              MapExp.put(mPolicy, Exp.val(\"count\"), payeeCountExp, \n",
    "                                        Exp.mapBin(\"mapPayees\"), CTX.mapKey(Value.get(sPayee)))\n",
    "                             );\n",
    "\n",
    "Map<Value, Value> initPayeeMap = new HashMap<Value, Value>();\n",
    "initPayeeMap.put(Value.get(\"sum\"), Value.get(0));\n",
    "initPayeeMap.put(Value.get(\"count\"), Value.get(0));\n",
    "\n",
    "\n",
    "MapPolicy mPolicyInit = new MapPolicy(MapOrder.KEY_ORDERED, \n",
    "                                      MapWriteFlags.CREATE_ONLY|MapWriteFlags.NO_FAIL|MapWriteFlags.PARTIAL);  \n",
    "\n",
    "try {\n",
    "//wPolicy now has a filter expression added\n",
    "//Update withdrawl amount in amnt bin\n",
    "//Expression Operation write for bal bin\n",
    "\n",
    "record = client.operate( wPolicy, user,   \n",
    "          Operation.put(bOverride),\n",
    "          Operation.put(bAmnt),     \n",
    "          Operation.put(bPayee),           \n",
    "          // Previously seen balance expression\n",
    "          ExpOperation.write(\"bal\", balExp, ExpWriteFlags.DEFAULT),\n",
    "          // Previously seen profile expression\n",
    "          ExpOperation.write(\"profile\", profileExp, ExpWriteFlags.CREATE_ONLY | ExpWriteFlags.POLICY_NO_FAIL),\n",
    "          // Set the fraud detection threshold\n",
    "          ExpOperation.write(\"thresh\", thresholdExp, ExpWriteFlags.CREATE_ONLY | ExpWriteFlags.POLICY_NO_FAIL),\n",
    "          // Initialise the payee map if required\n",
    "          MapOperation.put(mPolicyInit, \"mapPayees\", Value.get(sPayee), Value.get(initPayeeMap)),\n",
    "          // Save the sum of the amounts paid to this payee so far using the savePayeeSumExp expression\n",
    "          ExpOperation.write(\"mapPayees\", savePayeeSumExp, ExpWriteFlags.EVAL_NO_FAIL),\n",
    "          // Similarly save teh sum of the count of payments to this payee\n",
    "          ExpOperation.write(\"mapPayees\", savePayeeCountExp, ExpWriteFlags.EVAL_NO_FAIL)\n",
    "         );\n",
    "} catch (AerospikeException e){\n",
    "  int rc = e.getResultCode();\n",
    "  if(rc == ResultCode.FILTERED_OUT){\n",
    "    System.out.println(\"Insufficient Balance or Fraud. Transaction Rejected. Payee: \"+sPayee+\" Amount: \" + iWdAmount);\n",
    "  }\n",
    "  else{\n",
    "    System.out.println(\"Operate error. Resultcode: \"+ ResultCode.getResultString(rc));\n",
    "  }\n",
    "    \n",
    "}"
   ]
  },
  {
   "cell_type": "code",
   "execution_count": 29,
   "id": "445a978b",
   "metadata": {},
   "outputs": [
    {
     "name": "stdout",
     "output_type": "stream",
     "text": [
      "(gen:1),(exp:0),(bins:(ovr:true),(lastamnt:-5000),(payee:SELF),(bal:5000),(profile:user3),(thresh:30),(mapPayees:{SELF={count=1, sum=-5000}}))\n"
     ]
    }
   ],
   "source": [
    "//Check \n",
    "//Key user = new Key(\"test\", \"accts\", 3); \n",
    "System.out.println( client.get(null, user) );"
   ]
  },
  {
   "cell_type": "markdown",
   "id": "2afec6ec",
   "metadata": {},
   "source": [
    "## Using Java classes and methods\n",
    " \n",
    " Lets see with a simple example how we can use Java classes and methods in Jupyter Notebook. We can clean up our implementation as a class method where we can pass the transaction attributes as an argument."
   ]
  },
  {
   "cell_type": "markdown",
   "id": "88d1856f",
   "metadata": {},
   "source": [
    "### Defining a Class\n",
    " "
   ]
  },
  {
   "cell_type": "code",
   "execution_count": 30,
   "id": "f47c4b54",
   "metadata": {},
   "outputs": [],
   "source": [
    "//CLASS Cell\n",
    "class myTest {\n",
    "  public void foo (int val ) {\n",
    "    System.out.println(\"Calling myTest:foo() to print integer:\"+val);\n",
    "  }\n",
    "}"
   ]
  },
  {
   "cell_type": "markdown",
   "id": "1593124a",
   "metadata": {},
   "source": [
    "### Using a Class Method\n",
    " "
   ]
  },
  {
   "cell_type": "code",
   "execution_count": 31,
   "id": "a6b3c3c9",
   "metadata": {},
   "outputs": [
    {
     "name": "stdout",
     "output_type": "stream",
     "text": [
      "Calling myTest:foo() to print integer:5\n"
     ]
    }
   ],
   "source": [
    "myTest myobj = new myTest();\n",
    "myobj.foo(5);"
   ]
  },
  {
   "cell_type": "markdown",
   "id": "974645df",
   "metadata": {},
   "source": [
    "## \"Classify\" our Model\n",
    " Let create a class _detectFraud_ with a method transact() that takes in a transaction with all its attributes."
   ]
  },
  {
   "cell_type": "code",
   "execution_count": 32,
   "id": "45c0acd6",
   "metadata": {},
   "outputs": [],
   "source": [
    "//Add the imports. We already have them in our interactive kernel at this point.\n",
    "//Classify \n",
    "class DetectFraud {\n",
    "  public void transact(\n",
    "    int iAcct_id,\n",
    "    boolean bOvr,\n",
    "    int iWdAmount,\n",
    "    String sPayee,\n",
    "    int iThreshold) {\n",
    " \n",
    "String sProfile = \"user\"+iAcct_id;  //Check we are not updating the profile string now\n",
    "\n",
    "Key user = new Key(\"test\", \"accts\", iAcct_id); \n",
    "\n",
    "Bin bOverride = new Bin(\"ovr\", Value.get(bOvr));\n",
    "Bin bAmnt = new Bin(\"lastamnt\",Value.get(iWdAmount));\n",
    "Bin bPayee = new Bin(\"payee\",Value.get(sPayee));\n",
    "Bin bProfile = new Bin(\"profile\", Value.get(sProfile));\n",
    "Bin bThreshold = new Bin(\"thresh\", Value.get(iThreshold));\n",
    "\n",
    "WritePolicy wPolicy = new WritePolicy();\n",
    "\n",
    "if(bOvr && (iWdAmount<0)){\n",
    "    wPolicy.recordExistsAction = RecordExistsAction.CREATE_ONLY;   //when creating acct_id record\n",
    "}else {\n",
    "    wPolicy.recordExistsAction = RecordExistsAction.UPDATE_ONLY;   \n",
    "    //acct_id record must exist.\n",
    "    //And, also if we are disabling fraud detection with bOvr=true\n",
    "}\n",
    "\n",
    "\n",
    "wPolicy.filterExp = Exp.build(\n",
    "    Exp.and(\n",
    "      Exp.or(\n",
    "        Exp.cond(Exp.binExists(\"bal\"), Exp.ge(Exp.intBin(\"bal\"),Exp.val(iWdAmount)), Exp.val(false)),\n",
    "        //Note: This filter will be ignored if the record does not exist\n",
    "        //Hence, we use recordExistsAction policy per above based on bOvr value.\n",
    "        Exp.val(bOvr)\n",
    "      ),\n",
    "      //Lets now add fraud detection filter- withdrawl amount should be within 30% of average withdrawl amount.\n",
    "      //First if Override is true, disable fraud detection\n",
    "      //then, if withdrawl amount is negative (<0), return true\n",
    "      //then, if mapPayees bin does not exist, return true,\n",
    "      //then, if mapPayees does not have entry for sPayee, return true\n",
    "      //Then, if count >5, check withdrawl amount < or = (100+threshold)*(sum/count)/100\n",
    "      Exp.cond(\n",
    "          Exp.val(bOvr), Exp.val(true), \n",
    "          Exp.lt(Exp.val(iWdAmount),Exp.val(0)), Exp.val(true),\n",
    "          Exp.not(Exp.binExists(\"mapPayees\")), Exp.val(true),\n",
    "          Exp.eq(MapExp.getByKey(MapReturnType.COUNT, Exp.Type.INT, Exp.val(sPayee), \n",
    "                                      Exp.mapBin(\"mapPayees\") ), Exp.val(0)), Exp.val(true),\n",
    "          Exp.gt(MapExp.getByKey(MapReturnType.VALUE, Exp.Type.INT, Exp.val(\"count\"), \n",
    "                                  Exp.mapBin(\"mapPayees\"),CTX.mapKey(Value.get(sPayee))) , Exp.val(5)),\n",
    "          Exp.le(Exp.val(iWdAmount),\n",
    "          Exp.div(\n",
    "          Exp.mul(Exp.add(Exp.val(100),Exp.intBin(\"thresh\")), \n",
    "          Exp.div(MapExp.getByKey(MapReturnType.VALUE, Exp.Type.INT, Exp.val(\"sum\"), \n",
    "                                  Exp.mapBin(\"mapPayees\"),CTX.mapKey(Value.get(sPayee))),\n",
    "                  MapExp.getByKey(MapReturnType.VALUE, Exp.Type.INT, Exp.val(\"count\"), \n",
    "                                  Exp.mapBin(\"mapPayees\"),CTX.mapKey(Value.get(sPayee)))                \n",
    "                 )\n",
    "          ), Exp.val(100)) \n",
    "        ),\n",
    "        Exp.val(true)\n",
    "     )\n",
    "    )\n",
    "   );\n",
    "wPolicy.failOnFilteredOut = true;\n",
    "\n",
    "Expression balExp = Exp.build(\n",
    "                    Exp.cond(Exp.binExists(\"bal\"), Exp.sub(Exp.intBin(\"bal\"),Exp.val(iWdAmount)),\n",
    "                            Exp.sub(Exp.val(0), Exp.val(iWdAmount))\n",
    "                            )\n",
    "                    );\n",
    " \n",
    "Expression profileExp = Exp.build(Exp.val(sProfile));\n",
    "\n",
    "Expression thresholdExp = Exp.build(Exp.val(iThreshold));\n",
    "    \n",
    "MapPolicy mPolicy = new MapPolicy(MapOrder.KEY_ORDERED, MapWriteFlags.DEFAULT);\n",
    "\n",
    "//If MapKey sPayee exists, add to sum and count, otherwise create sum and count entries for map key = sPayee\n",
    "//Value returned by this expression will be written to sPayeee{sum:expValue}\n",
    "Exp payeeSumExp = \n",
    "    Exp.cond( Exp.eq( MapExp.getByKey(MapReturnType.COUNT, Exp.Type.INT, Exp.val(sPayee), \n",
    "                                      Exp.mapBin(\"mapPayees\") ), Exp.val(0)), Exp.val(iWdAmount),\n",
    "              Exp.eq( MapExp.getByKey(MapReturnType.COUNT, Exp.Type.INT, Exp.val(sPayee), \n",
    "                                      Exp.mapBin(\"mapPayees\") ), Exp.val(1)), \n",
    "                      Exp.add(MapExp.getByKey(MapReturnType.VALUE, Exp.Type.INT, \n",
    "                                      Exp.val(\"sum\"), Exp.mapBin(\"mapPayees\"), \n",
    "                                      CTX.mapKey(Value.get(sPayee))), Exp.val(iWdAmount)),\n",
    "                      Exp.val(0) //default\n",
    "            );\n",
    "    \n",
    "Expression savePayeeSumExp = Exp.build( \n",
    "                              MapExp.put(mPolicy, Exp.val(\"sum\"), payeeSumExp, \n",
    "                                        Exp.mapBin(\"mapPayees\"), CTX.mapKey(Value.get(sPayee)))\n",
    "                             );\n",
    "\n",
    "//Value returned by this expression will be written to sPayeee{count:expValue}\n",
    "Exp payeeCountExp = \n",
    "    Exp.cond( Exp.eq( MapExp.getByKey(MapReturnType.COUNT, Exp.Type.INT, Exp.val(sPayee), \n",
    "                                      Exp.mapBin(\"mapPayees\") ), Exp.val(0)), Exp.val(1),\n",
    "              Exp.eq( MapExp.getByKey(MapReturnType.COUNT, Exp.Type.INT, Exp.val(sPayee), \n",
    "                                      Exp.mapBin(\"mapPayees\") ), Exp.val(1)), \n",
    "                      Exp.add(MapExp.getByKey(MapReturnType.VALUE, Exp.Type.INT, \n",
    "                                      Exp.val(\"count\"), Exp.mapBin(\"mapPayees\"), CTX.mapKey(Value.get(sPayee))), Exp.val(1)),\n",
    "              Exp.val(0) //default\n",
    "            );\n",
    " \n",
    "Expression savePayeeCountExp = Exp.build( \n",
    "                              MapExp.put(mPolicy, Exp.val(\"count\"), payeeCountExp, \n",
    "                                        Exp.mapBin(\"mapPayees\"), CTX.mapKey(Value.get(sPayee)))\n",
    "                             );\n",
    "\n",
    "Map<Value, Value> initPayeeMap = new HashMap<Value, Value>();\n",
    "initPayeeMap.put(Value.get(\"sum\"), Value.get(0));\n",
    "initPayeeMap.put(Value.get(\"count\"), Value.get(0));\n",
    "\n",
    "\n",
    "MapPolicy mPolicyInit = new MapPolicy(MapOrder.KEY_ORDERED, \n",
    "                                      MapWriteFlags.CREATE_ONLY|MapWriteFlags.NO_FAIL|MapWriteFlags.PARTIAL);  \n",
    "\n",
    "try {\n",
    "//wPolicy now has a filter expression added\n",
    "//Update withdrawl amount in amnt bin\n",
    "//Expression Operation write for bal bin\n",
    "\n",
    "record = client.operate( wPolicy, user,   \n",
    "          Operation.put(bOverride),\n",
    "          Operation.put(bAmnt),     \n",
    "          Operation.put(bPayee),           \n",
    "          ExpOperation.write(\"bal\", balExp, ExpWriteFlags.DEFAULT),\n",
    "          ExpOperation.write(\"profile\", profileExp, ExpWriteFlags.CREATE_ONLY | ExpWriteFlags.POLICY_NO_FAIL),\n",
    "          ExpOperation.write(\"thresh\", thresholdExp, ExpWriteFlags.CREATE_ONLY | ExpWriteFlags.POLICY_NO_FAIL),\n",
    "          MapOperation.put(mPolicyInit, \"mapPayees\", Value.get(sPayee), Value.get(initPayeeMap)),\n",
    "          ExpOperation.write(\"mapPayees\", savePayeeSumExp, ExpWriteFlags.EVAL_NO_FAIL),\n",
    "          ExpOperation.write(\"mapPayees\", savePayeeCountExp, ExpWriteFlags.EVAL_NO_FAIL)\n",
    "         );\n",
    "} catch (AerospikeException e){\n",
    "  int rc = e.getResultCode();\n",
    "  if(rc == ResultCode.FILTERED_OUT){\n",
    "    System.out.println(\"Insufficient Balance or Fraud. Transaction Rejected. Payee: \"+sPayee+\" Amount: \" + iWdAmount);\n",
    "    System.out.println( client.get(null, user) );  //Additional read to crosscheck. For code development only\n",
    "  }\n",
    "  else{\n",
    "    System.out.println(\"Operate error. Resultcode: \"+ ResultCode.getResultString(rc));\n",
    "  }\n",
    " }\n",
    "}  //transact()\n",
    "} //detectFraud"
   ]
  },
  {
   "cell_type": "markdown",
   "id": "eac7657f",
   "metadata": {},
   "source": [
    "## Test our \"Classified\" Model\n",
    " "
   ]
  },
  {
   "cell_type": "markdown",
   "id": "dbddf841",
   "metadata": {},
   "source": [
    "### Restart clean on Aerospike server\n",
    " "
   ]
  },
  {
   "cell_type": "code",
   "execution_count": 33,
   "id": "87914afd",
   "metadata": {},
   "outputs": [],
   "source": [
    "%sh asadm --enable -e \"manage truncate ns test --no-warn\" -h \"127.0.0.1\""
   ]
  },
  {
   "cell_type": "code",
   "execution_count": 34,
   "id": "3d70b535",
   "metadata": {},
   "outputs": [
    {
     "name": "stdout",
     "output_type": "stream",
     "text": [
      "Operate error. Resultcode: Key not found\n",
      "Insufficient Balance or Fraud. Transaction Rejected. Payee: VISA Amount: 3000\n",
      "(gen:12),(exp:0),(bins:(ovr:false),(lastamnt:1000),(payee:VISA),(bal:9000),(profile:user1),(thresh:30),(mapPayees:{Costco={count=3, sum=5000}, SELF={count=3, sum=-20000}, VISA={count=6, sum=6000}}))\n"
     ]
    }
   ],
   "source": [
    "DetectFraud myFraudDetector = new DetectFraud();\n",
    "myFraudDetector.transact(1,false,1000,\"VISA\",30);\n",
    "myFraudDetector.transact(1,true,-5000,\"SELF\",30);\n",
    "myFraudDetector.transact(1,false,-10000,\"SELF\",30);\n",
    "myFraudDetector.transact(1,false,1000,\"VISA\",30);\n",
    "myFraudDetector.transact(1,false,1500,\"Costco\",30);\n",
    "myFraudDetector.transact(1,false,500,\"VISA\",30);\n",
    "myFraudDetector.transact(1,false,1000,\"VISA\",30);\n",
    "myFraudDetector.transact(1,false,1500,\"Costco\",30);\n",
    "myFraudDetector.transact(1,false,-5000,\"SELF\",30);\n",
    "myFraudDetector.transact(1,false,1000,\"VISA\",30);\n",
    "myFraudDetector.transact(1,false,2000,\"Costco\",30);\n",
    "myFraudDetector.transact(1,false,1500,\"VISA\",30);\n",
    "myFraudDetector.transact(1,false,1000,\"VISA\",30);\n",
    "myFraudDetector.transact(1,false,3000,\"VISA\",30);\n",
    "myFraudDetector.transact(1,false,1000,\"VISA\",30);"
   ]
  },
  {
   "cell_type": "code",
   "execution_count": 35,
   "id": "050a6b44",
   "metadata": {},
   "outputs": [
    {
     "name": "stdout",
     "output_type": "stream",
     "text": [
      "(gen:13),(exp:0),(bins:(ovr:false),(lastamnt:1000),(payee:VISA),(bal:8000),(profile:user1),(thresh:30),(mapPayees:{Costco={count=3, sum=5000}, SELF={count=3, sum=-20000}, VISA={count=7, sum=7000}}))\n"
     ]
    }
   ],
   "source": [
    "//Check \n",
    "Key user = new Key(\"test\", \"accts\", 1); \n",
    "System.out.println( client.get(null, user) );"
   ]
  },
  {
   "cell_type": "markdown",
   "id": "87145ecf",
   "metadata": {},
   "source": [
    "### Try other transactions\n",
    " "
   ]
  },
  {
   "cell_type": "code",
   "execution_count": 36,
   "id": "5060cefe",
   "metadata": {},
   "outputs": [
    {
     "name": "stdout",
     "output_type": "stream",
     "text": [
      "Insufficient Balance or Fraud. Transaction Rejected. Payee: VISA Amount: 1400\n",
      "(gen:13),(exp:0),(bins:(ovr:false),(lastamnt:1000),(payee:VISA),(bal:8000),(profile:user1),(thresh:30),(mapPayees:{Costco={count=3, sum=5000}, SELF={count=3, sum=-20000}, VISA={count=7, sum=7000}}))\n"
     ]
    }
   ],
   "source": [
    "myFraudDetector.transact(1,false,1400,\"VISA\",30);"
   ]
  },
  {
   "cell_type": "markdown",
   "id": "6ce3d1ae",
   "metadata": {},
   "source": [
    "### Clean-up Aerospike server\n",
    "\n",
    "We will populate with a larger dataset.\n",
    " "
   ]
  },
  {
   "cell_type": "code",
   "execution_count": 37,
   "id": "b134d119",
   "metadata": {},
   "outputs": [],
   "source": [
    "%sh asadm --enable -e \"manage truncate ns test --no-warn\" -h \"127.0.0.1\""
   ]
  },
  {
   "cell_type": "markdown",
   "id": "2f857f49",
   "metadata": {},
   "source": [
    "## Insert Generated Random Test Data\n",
    "Let's create 1000 acct_ids, and then insert ~100K transactions for 1000 acct_ids [0001 thru 1000], average 10 transactions per acct_id per payee, each acct_id has ~10 unique payees. (Average 100 transactions per payee per acct_id).\n",
    "\n",
    "1. Create acct_ids\n",
    "2. Upload/insert transacitons. (Underlying code should build needed fraud detection bins' data with every transaction.)\n",
    "3. Transactions include deposit transactions also.\n",
    "4. All these inserts are done with override=true.\n",
    "\n",
    "**Payee names in Test Data:** VISA, CitiMortgage, Costco, HOA, Joe_Landscaper, PacificElectric, CityWater, Jane_Helper, John_Doe, Cash. (14 characters max here.)\n"
   ]
  },
  {
   "cell_type": "code",
   "execution_count": 38,
   "id": "5c62be5f",
   "metadata": {},
   "outputs": [],
   "source": [
    "import java.util.ArrayList;\n",
    "import java.util.List;\n",
    "import java.util.Random;\n",
    "\n",
    "class GenerateTestData {\n",
    "\n",
    "public void generate(){\n",
    "DetectFraud myFraudDetector = new DetectFraud();\n",
    "\n",
    "//Create acct_id with initial balance of 10000\n",
    "for(int i=1;i<1001;i++){\n",
    "  myFraudDetector.transact(i,true,-10000,\"SELF\",30);\n",
    "}\n",
    "\n",
    "String[] payee = new String[10];\n",
    "payee[0]=\"VISA\";\n",
    "payee[1]=\"CitiMortgage\";\n",
    "payee[2]=\"Costco\";\n",
    "payee[3]=\"HOA\";\n",
    "payee[4]=\"Joe_Landscaper\";\n",
    "payee[5]=\"PacificElectric\";\n",
    "payee[6]=\"CityWater\";\n",
    "payee[7]=\"Jane_Helper\";\n",
    "payee[8]=\"John_Doe\";\n",
    "payee[9]=\"Cash\";\n",
    "\n",
    "Random rnd1 = new Random(0);  \n",
    "//rnd1.nextInt(20) will give a random number between 0(incl.) and 20(excl.)\n",
    "\n",
    "Random rnd2 = new Random(0);\n",
    "\n",
    "for(int i=1;i<1001;i++){\n",
    "  int rndLimit = rnd1.nextInt(20);  //Transaction loops for this acct_id\n",
    "  for(int j=0;j<rndLimit;j++){\n",
    "    for(int k=0;k<10;k++){  //10 unique payees\n",
    "       myFraudDetector.transact(i,true,(200+rnd2.nextInt(200)),payee[k],30);\n",
    "       //Override is true - no fraud detection enabled.\n",
    "    } \n",
    "    myFraudDetector.transact(i,false,-4000,\"SELF\",30);  //Replenish balance\n",
    "  }  \n",
    "}\n",
    "\n",
    "}\n",
    "}\n",
    "\n",
    "GenerateTestData genData = new GenerateTestData();\n",
    "genData.generate();"
   ]
  },
  {
   "cell_type": "markdown",
   "id": "9017d8cb",
   "metadata": {},
   "source": [
    "## Test the Fraud Model\n",
    "Insert a fraudulent transaction. Typically, it will be a payee withdrawl as \"Cash\" with a suspicious amount.\n"
   ]
  },
  {
   "cell_type": "code",
   "execution_count": 39,
   "id": "c31f8fa6",
   "metadata": {},
   "outputs": [
    {
     "name": "stdout",
     "output_type": "stream",
     "text": [
      "(gen:166),(exp:0),(bins:(ovr:false),(lastamnt:-4000),(payee:SELF),(bal:24985),(profile:user5),(thresh:30),(mapPayees:{Cash={count=15, sum=4390}, CitiMortgage={count=15, sum=4711}, CityWater={count=15, sum=4590}, Costco={count=15, sum=4414}, HOA={count=15, sum=4472}, Jane_Helper={count=15, sum=4767}, Joe_Landscaper={count=15, sum=4620}, John_Doe={count=15, sum=4259}, PacificElectric={count=15, sum=4659}, SELF={count=16, sum=-70000}, VISA={count=15, sum=4133}}))\n"
     ]
    }
   ],
   "source": [
    "//Check any user\n",
    "Key user = new Key(\"test\", \"accts\", 5); \n",
    "System.out.println( client.get(null, user) );"
   ]
  },
  {
   "cell_type": "markdown",
   "id": "2f129f14",
   "metadata": {},
   "source": [
    "### Test for this user\n",
    "Insert a fraudulent transaction. Typically, it will be a payee withdrawl as \"Cash\" with a suspicious amount.\n"
   ]
  },
  {
   "cell_type": "code",
   "execution_count": 50,
   "id": "024478a0",
   "metadata": {},
   "outputs": [],
   "source": [
    "DetectFraud myFraudDetector = new DetectFraud();\n",
    "myFraudDetector.transact(5,false,375,\"Cash\",30);"
   ]
  },
  {
   "cell_type": "code",
   "execution_count": 51,
   "id": "54a5672c",
   "metadata": {},
   "outputs": [
    {
     "name": "stdout",
     "output_type": "stream",
     "text": [
      "(gen:172),(exp:0),(bins:(ovr:false),(lastamnt:375),(payee:Cash),(bal:23407),(profile:user5),(thresh:30),(mapPayees:{Cash={count=19, sum=5968}, CitiMortgage={count=15, sum=4711}, CityWater={count=15, sum=4590}, Costco={count=15, sum=4414}, HOA={count=15, sum=4472}, Jane_Helper={count=15, sum=4767}, Joe_Landscaper={count=15, sum=4620}, John_Doe={count=15, sum=4259}, PacificElectric={count=15, sum=4659}, SELF={count=16, sum=-70000}, VISA={count=15, sum=4133}}))\n"
     ]
    }
   ],
   "source": [
    "//Check last transaction (if it succeeds)\n",
    "Key user = new Key(\"test\", \"accts\", 5); \n",
    "System.out.println( client.get(null, user) );"
   ]
  },
  {
   "cell_type": "markdown",
   "id": "3e16f729",
   "metadata": {},
   "source": [
    "## Model Tuning\n",
    " Have a way to update the fraud detection criteria, in our example, value in the threshold percentage bin (_thresh_). \n",
    " Scan all records (we have 1000) and update _threshold percentage_ value in each record.\n",
    " \n",
    " \n",
    "![fig_DM_3](./graphics/Fraud_DM_3.png)\n",
    "\n"
   ]
  },
  {
   "cell_type": "code",
   "execution_count": 49,
   "id": "2207d57c",
   "metadata": {},
   "outputs": [],
   "source": [
    "import com.aerospike.client.task.ExecuteTask;\n",
    "import com.aerospike.client.query.Statement;\n",
    "\n",
    "Statement stmt = new Statement();\n",
    "stmt.setNamespace(\"test\");\n",
    "stmt.setSetName(\"accts\");\n",
    "\n",
    "//Use scan execute() with expressions.\n",
    "Expression exp = Exp.build(Exp.val(50)); //Change threshold to 50%\n",
    "Operation[] operations = new Operation[1];\n",
    "operations[0]= ExpOperation.write(\"thresh\", exp, ExpWriteFlags.DEFAULT);\n",
    "stmt.setOperations(operations);\n",
    "\n",
    "WritePolicy wPolicyScan = new WritePolicy();\n",
    "ExecuteTask et = client.execute(wPolicyScan, stmt)"
   ]
  },
  {
   "cell_type": "markdown",
   "id": "b64e2a28",
   "metadata": {},
   "source": [
    "## Retest\n",
    "Hop back to previous cells, for a particular user, check new threshold, test. Calculate fraud threshold from record data, insert a fraudulent transaction and check. Insert a good transaction and check."
   ]
  },
  {
   "cell_type": "markdown",
   "id": "eb56c90f-dc8c-4903-8123-2eec3ded093c",
   "metadata": {},
   "source": [
    "# Cleanup"
   ]
  },
  {
   "cell_type": "code",
   "execution_count": 52,
   "id": "f05e947b-4474-4366-ad88-2ef4409d5761",
   "metadata": {},
   "outputs": [],
   "source": [
    "%sh asadm --enable -e \"manage truncate ns test --no-warn\" -h \"127.0.0.1\""
   ]
  },
  {
   "cell_type": "code",
   "execution_count": null,
   "id": "5a7ae3b3-bc82-472d-834f-9d858125ecb8",
   "metadata": {},
   "outputs": [],
   "source": []
  }
 ],
 "metadata": {
  "kernelspec": {
   "display_name": "Java",
   "language": "java",
   "name": "java"
  },
  "language_info": {
   "codemirror_mode": "java",
   "file_extension": ".jshell",
   "mimetype": "text/x-java-source",
   "name": "Java",
   "pygments_lexer": "java",
   "version": "17.0.10+8-LTS"
  }
 },
 "nbformat": 4,
 "nbformat_minor": 5
}
