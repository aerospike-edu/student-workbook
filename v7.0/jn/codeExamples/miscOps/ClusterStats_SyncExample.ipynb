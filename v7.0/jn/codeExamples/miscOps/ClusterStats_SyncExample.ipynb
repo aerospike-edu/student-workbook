{
 "cells": [
  {
   "cell_type": "markdown",
   "id": "28b3e822",
   "metadata": {},
   "source": [
    "### Housekeeping - Setup & wipe out any prior records on the Aerospike Server\n",
    "\n",
    "We have a namespace **_test_** pre-defined on the server. Lets truncate it using _asadm_.\n",
    "\n",
    "This is needed while doing code development. If you want to clear the iJava Kernel of all Java objects and run all cells from scratch, Kernel->Restart & Run All, this will ensure any records written on the underlying Aerospike cluster are purged.\n",
    "\n",
    "First, we need required imports for using %sh in interactive Java Kernel. (This is specific to the iJava Kernel implementation by **Spencer Park** that we are using.)"
   ]
  },
  {
   "cell_type": "code",
   "execution_count": 1,
   "id": "eb85febe",
   "metadata": {},
   "outputs": [],
   "source": [
    "import io.github.spencerpark.ijava.IJava;\n",
    "import io.github.spencerpark.jupyter.kernel.magic.common.Shell;\n",
    "IJava.getKernelInstance().getMagics().registerMagics(Shell.class);"
   ]
  },
  {
   "cell_type": "markdown",
   "id": "1b305b92",
   "metadata": {},
   "source": [
    "### Running _asadm_ in iJava\n",
    "We can run _asadm_ commands inline. Below, we will use the truncation command, which normally requires an interactive confirmation, which we will skip by using the _--no-warn_ flag. No output will be displayed."
   ]
  },
  {
   "cell_type": "code",
   "execution_count": 2,
   "id": "0f11685a",
   "metadata": {},
   "outputs": [],
   "source": [
    "%sh asadm --enable -e \"manage truncate ns test --no-warn\" -h \"127.0.0.1\""
   ]
  },
  {
   "cell_type": "markdown",
   "id": "4b23c8bf",
   "metadata": {},
   "source": [
    "#### Add Java Client POM Dependency  \n",
    "Jupyter Notebook way!"
   ]
  },
  {
   "cell_type": "code",
   "execution_count": 3,
   "id": "c7d10ca8",
   "metadata": {},
   "outputs": [],
   "source": [
    "%%loadFromPOM\n",
    "<dependencies>\n",
    "  <dependency>\n",
    "    <groupId>com.aerospike</groupId>\n",
    "    <artifactId>aerospike-client-jdk8</artifactId>\n",
    "    <version>8.1.1</version>\n",
    "  </dependency>\n",
    "</dependencies>"
   ]
  },
  {
   "cell_type": "markdown",
   "id": "e03decf9",
   "metadata": {},
   "source": [
    "####  Add required Java Client Imports\n",
    "\n",
    "These are some of the Aerospike Java Client imports needed to start developing our Application interactively.  We will add others, as needed, as we develop our solution."
   ]
  },
  {
   "cell_type": "code",
   "execution_count": 4,
   "id": "b5ec301d",
   "metadata": {},
   "outputs": [
    {
     "name": "stdout",
     "output_type": "stream",
     "text": [
      "Client modules imported.\n"
     ]
    }
   ],
   "source": [
    "//Require Imports\n",
    "import com.aerospike.client.AerospikeClient;\n",
    "import com.aerospike.client.policy.WritePolicy;\n",
    "import com.aerospike.client.Bin;\n",
    "import com.aerospike.client.Key;\n",
    "import com.aerospike.client.Record;\n",
    "import com.aerospike.client.Value;\n",
    "System.out.println(\"Client modules imported.\");"
   ]
  },
  {
   "cell_type": "markdown",
   "id": "45dc772b",
   "metadata": {},
   "source": [
    "#### Connect to the Aerospike Server\n",
    "Instantiate the client object. Let us write a record and read it back.\n",
    "We have a namespace **_test_** pre-defined on the server."
   ]
  },
  {
   "cell_type": "code",
   "execution_count": 5,
   "id": "74465d79",
   "metadata": {},
   "outputs": [
    {
     "name": "stdout",
     "output_type": "stream",
     "text": [
      "Initialized the client and connected to the cluster.\n",
      "Working with record key:\n",
      "test:testset:key1:bf6c1d13e7cd10c5bd022d27e7df170c0bccd6e1\n"
     ]
    }
   ],
   "source": [
    "AerospikeClient client = new AerospikeClient(\"127.0.0.1\", 3000);\n",
    "System.out.println(\"Initialized the client and connected to the cluster.\");\n",
    "\n",
    "Key key = new Key(\"test\", \"testset\", \"key1\");\n",
    "System.out.println(\"Working with record key:\");\n",
    "System.out.println(key);  //Will show the 20 byte digest"
   ]
  },
  {
   "cell_type": "markdown",
   "id": "2e0d3192",
   "metadata": {},
   "source": [
    "#### Test Record Data Model\n",
    "\n",
    "![fig_DM_1](./graphics/Fraud_DM_1.png)"
   ]
  },
  {
   "cell_type": "code",
   "execution_count": 6,
   "id": "85cf0fb7",
   "metadata": {},
   "outputs": [],
   "source": [
    "//Insert a record with two bins, b1 with string v1 and b2 with integer 2 as data.\n",
    "\n",
    "WritePolicy wPolicy = new WritePolicy();\n",
    "\n",
    "Bin b1 = new Bin(\"b1\", Value.get(\"val1\"));\n",
    "Bin b2 = new Bin(\"b2\", Value.get(28));\n",
    "\n",
    "client.put(wPolicy, key, b1, b2);"
   ]
  },
  {
   "cell_type": "code",
   "execution_count": 7,
   "id": "052cbf16",
   "metadata": {},
   "outputs": [
    {
     "name": "stdout",
     "output_type": "stream",
     "text": [
      "Read back the record.\n",
      "Record values are:\n",
      "(gen:1),(exp:450858215),(bins:(b1:val1),(b2:28))\n"
     ]
    }
   ],
   "source": [
    "//Read the record that we just inserted\n",
    "\n",
    "Record record = client.get(null, key);\n",
    "System.out.println(\"Read back the record.\");\n",
    "\n",
    "System.out.println(\"Record values are:\");\n",
    "System.out.println(record);"
   ]
  },
  {
   "cell_type": "code",
   "execution_count": 8,
   "id": "c5e805da",
   "metadata": {},
   "outputs": [
    {
     "name": "stdout",
     "output_type": "stream",
     "text": [
      "nodes(inUse,inPool,opened,closed):\n",
      "A1 127.0.0.1 3000 sync(0,1,2,0) async(null) 0,0\n",
      "threadsInUse: 0\n",
      "recoverQueueSize: 0\n",
      "invalidNodeCount: 0\n",
      "retryCount: 0\n"
     ]
    }
   ],
   "source": [
    "//Check \n",
    "System.out.println( client.getClusterStats() );"
   ]
  },
  {
   "cell_type": "code",
   "execution_count": 9,
   "id": "8a4ebe01",
   "metadata": {},
   "outputs": [
    {
     "name": "stdout",
     "output_type": "stream",
     "text": [
      "Threads In Use:0\n",
      "Recover queue size:0\n",
      "Invalid Node Count:0\n",
      "1\n",
      "A1\n",
      "/127.0.0.1:3000\n",
      "127.0.0.1\n",
      "3000\n",
      "sync: closed: 0\n",
      "sync: inPool: 1\n",
      "sync: inUse: 0\n",
      "sync: opened: 2\n"
     ]
    }
   ],
   "source": [
    "import com.aerospike.client.cluster.Cluster;\n",
    "import com.aerospike.client.Host;\n",
    "import com.aerospike.client.policy.ClientPolicy;\n",
    "\n",
    "import com.aerospike.client.cluster.ClusterStats;\n",
    "import com.aerospike.client.cluster.NodeStats;\n",
    "import com.aerospike.client.cluster.Node;\n",
    "import com.aerospike.client.cluster.ConnectionStats;\n",
    "import com.aerospike.client.async.EventLoopStats;\n",
    "\n",
    "\n",
    "Host[] hosts = {new Host(\"127.0.0.1\", 3000)};\n",
    "ClientPolicy cPolicy = new ClientPolicy();\n",
    "Cluster cluster = new Cluster(cPolicy, hosts);\n",
    "\n",
    "NodeStats[] nodes = {};\n",
    "EventLoopStats[] eventLoops = {};\n",
    "int threadsInUse = -1;\n",
    "int recoverQueueSize = -1;\n",
    "int invalidNodeCount = -1;\n",
    "\n",
    "\n",
    "ClusterStats cst = new ClusterStats(cluster, nodes, eventLoops);\n",
    "\n",
    "cst = client.getClusterStats();\n",
    "System.out.println( \"Threads In Use:\" + cst.threadsInUse);\n",
    "System.out.println( \"Recover queue size:\" + cst.recoverQueueSize);\n",
    "System.out.println( \"Invalid Node Count:\" + cst.invalidNodeCount);\n",
    "System.out.println(cst.nodes.length);\n",
    "int nNodes = cst.nodes.length;\n",
    "for(int i=0;i<nNodes;i++){\n",
    "  //System.out.println(cst.nodes[i]);\n",
    "  System.out.println(cst.nodes[i].node.getName());\n",
    "  System.out.println(cst.nodes[i].node.getAddress());  //Returns InetSocketAddress object\n",
    "  System.out.println(cst.nodes[i].node.getAddress().getAddress().getHostAddress());  \n",
    "  //InetSocketAddress member, getHostAddress() removes the forward slash.\n",
    "  System.out.println(cst.nodes[i].node.getAddress().getPort()); //InetSocketAddress member\n",
    "  System.out.println(\"sync: closed: \"+cst.nodes[i].sync.closed);\n",
    "  System.out.println(\"sync: inPool: \"+cst.nodes[i].sync.inPool);  \n",
    "  System.out.println(\"sync: inUse: \"+cst.nodes[i].sync.inUse);\n",
    "  System.out.println(\"sync: opened: \"+cst.nodes[i].sync.opened);\n",
    "}"
   ]
  },
  {
   "cell_type": "markdown",
   "id": "2a5377f6-66aa-4140-bf38-68de0d97f585",
   "metadata": {},
   "source": [
    "# Cleanup"
   ]
  },
  {
   "cell_type": "code",
   "execution_count": 10,
   "id": "a0929126-2b61-4f15-904e-287959ecc678",
   "metadata": {},
   "outputs": [],
   "source": [
    "%sh asadm --enable -e \"manage truncate ns test --no-warn\" -h \"127.0.0.1\""
   ]
  },
  {
   "cell_type": "code",
   "execution_count": null,
   "id": "b0352c85-d731-4266-be53-fd1e2fc35ea0",
   "metadata": {},
   "outputs": [],
   "source": []
  }
 ],
 "metadata": {
  "kernelspec": {
   "display_name": "Java",
   "language": "java",
   "name": "java"
  },
  "language_info": {
   "codemirror_mode": "java",
   "file_extension": ".jshell",
   "mimetype": "text/x-java-source",
   "name": "Java",
   "pygments_lexer": "java",
   "version": "17.0.10+8-LTS"
  }
 },
 "nbformat": 4,
 "nbformat_minor": 5
}
