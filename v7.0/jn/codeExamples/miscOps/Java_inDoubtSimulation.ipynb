{
 "cells": [
  {
   "cell_type": "markdown",
   "id": "28b3e822",
   "metadata": {},
   "source": [
    "### Housekeeping - Setup & wipe out any prior records on the Aerospike Server\n",
    "\n",
    "We have a namespace **_test_** pre-defined on the server. Lets truncate it using aql.\n",
    "\n",
    "This is needed while doing code development. If you want to clear the iJava Kernel of all Java objects and run all cells from scratch, Kernel->Restart & Run All, this will ensure any records written on the underlying Aerospike cluster are purged.\n",
    "\n",
    "First, we need required imports for using %sh in interactive Java Kernel. (This is specific to the iJava Kernel implementation by **Spencer Park** that we are using.)"
   ]
  },
  {
   "cell_type": "code",
   "execution_count": 1,
   "id": "eb85febe",
   "metadata": {},
   "outputs": [],
   "source": [
    "import io.github.spencerpark.ijava.IJava;\n",
    "import io.github.spencerpark.jupyter.kernel.magic.common.Shell;\n",
    "IJava.getKernelInstance().getMagics().registerMagics(Shell.class);"
   ]
  },
  {
   "cell_type": "markdown",
   "id": "1b305b92",
   "metadata": {},
   "source": [
    "### Runing aql in iJava\n",
    "We can run aql commands in a file. No output will be displayed. \n",
    "In _trucate_test.aql_, we have a single AQL command: TRUNCATE test\n",
    "\n"
   ]
  },
  {
   "cell_type": "markdown",
   "id": "4b23c8bf",
   "metadata": {},
   "source": [
    "#### Add Java Client POM Dependency  \n",
    "Jupyter Notebook way!"
   ]
  },
  {
   "cell_type": "code",
   "execution_count": 2,
   "id": "c7d10ca8",
   "metadata": {},
   "outputs": [],
   "source": [
    "%%loadFromPOM\n",
    "<dependencies>\n",
    "  <dependency>\n",
    "    <groupId>com.aerospike</groupId>\n",
    "    <artifactId>aerospike-client</artifactId>\n",
    "    <version>7.2.1</version>\n",
    "  </dependency>\n",
    "</dependencies>"
   ]
  },
  {
   "cell_type": "markdown",
   "id": "e03decf9",
   "metadata": {},
   "source": [
    "####  Java Client Imports and Test code"
   ]
  },
  {
   "cell_type": "code",
   "execution_count": 3,
   "id": "b5ec301d",
   "metadata": {
    "scrolled": true
   },
   "outputs": [],
   "source": [
    "//Required Imports\n",
    "import com.aerospike.client.AerospikeClient;\n",
    "import com.aerospike.client.policy.WritePolicy;\n",
    "import com.aerospike.client.Bin;\n",
    "import com.aerospike.client.Key;\n",
    "import com.aerospike.client.Record;\n",
    "import com.aerospike.client.Value;\n",
    "import com.aerospike.client.AerospikeException;\n",
    "import com.aerospike.client.ResultCode;"
   ]
  },
  {
   "cell_type": "code",
   "execution_count": 47,
   "id": "15ec4c7e",
   "metadata": {
    "scrolled": true
   },
   "outputs": [],
   "source": [
    "AerospikeClient client = new AerospikeClient(\"3.235.121.162\", 3000);\n"
   ]
  },
  {
   "cell_type": "code",
   "execution_count": 51,
   "id": "e9020b93",
   "metadata": {},
   "outputs": [],
   "source": [
    "%sh aql -c \"truncate test\" -h \"3.235.121.162\""
   ]
  },
  {
   "cell_type": "code",
   "execution_count": 45,
   "id": "94c008e8",
   "metadata": {},
   "outputs": [],
   "source": [
    "%sh asinfo -h \"3.235.121.162\" -v \"set-config:context=service;transaction-max-ms=1\"\n",
    "%sh asinfo -h \"44.200.159.121\" -v \"set-config:context=service;transaction-max-ms=1\"\n",
    "%sh asinfo -h \"44.211.243.226\" -v \"set-config:context=service;transaction-max-ms=1\""
   ]
  },
  {
   "cell_type": "code",
   "execution_count": 52,
   "id": "dce9bea5",
   "metadata": {},
   "outputs": [
    {
     "name": "stdout",
     "output_type": "stream",
     "text": [
      "Write error. Resultcode: Timeout\n",
      "inDoubt?: true\n",
      "\n",
      "Read the record: (gen:1),(exp:449771301),(bins:(ProfileId:2pg1pg2pg1pg2pg2pg1pg2pg1pg2pg1pg2pg1pg2pg1pg2pg1pg2pg1pg2pg1pg2pg1pg2pg1pg2pg1pg2pg1pg2pg1pg2pg1pg2pg1pg2pg1pg2pg1pg2pg1pg2pg1pg2pg1pg2pg1pg2pg1pg2pg1pg2pg1pg2pg1pg2pg1pg2pg1pg2pg1pg2pg1pg2pg1pg2pg1pg2pg1pg2pg1pg2pg1pg2pg1pg2pg1pg2pg1pg2pg1pg2pg1pg2pg1pg2pg1pg2pg1pg2pg1pg2pg1pg2pg1pg2pg1pg2pg1pg2pg1pg2pg1pg2pg1pg2pg1pg2pg1pg2pg1pg2pg1pg2pg1pg2pg1pg2pg1pg2pg1pg2pg1pg2pg1pg2pg1pg2pg1pg2pg1pg2pg1pg2pg1pg2pg1pg2pg1pg2pg1pg2pg1pg2pg1pg2pg1pg2pg1pg2pg1pg2pg1pg2pg1pg2pg1pg2pg1pg2pg1pg2pg1pg2pg1pg2pg1pg2pg1pg2pg1pg2pg1pg2pg1pg2pg1pg2pg1pg2pg1pg2pg1pg2pg1pg2pg1pg2pg1pg2pg1pg2pg1pg2pg1pg2pg1pg2pg1pg2pg1pg2pg1pg2pg1pg2pg1pg2pg1pg2pg1pg2pg1pg2pg1pg2pg1pg2pg1pg2pg1pg2pg1pg2pg1pg2pg1pg2pg1pg2pg1pg2pg1pg2pg1pg2pg1pg2pg1pg2pg1pg2pg1pg2pg1pg2pg1pg2pg1pg2pg1pg2pg1pg2pg1pg2pg1pg2pg1pg2pg1pg2pg1pg2pg1pg2pg1pg2pg1pg2pg1pg2pg1pg2pg1pg2pg1pg2pg1pg2pg1pg2pg1pg2pg1pg2pg1pg2pg1pg2pg1pg2pg1pg2pg1pg2),(Name:piyush),(Zip:94506))\n"
     ]
    }
   ],
   "source": [
    "WritePolicy wPolicy = new WritePolicy();\n",
    "wPolicy.sendKey = true;\n",
    "wPolicy.socketTimeout =1;\n",
    "wPolicy.totalTimeout = 1;\n",
    "Key k1 = new Key(\"test\", \"test\", 2);\n",
    "Bin bProfileId = new Bin(\"ProfileId\", \"2pg1pg2pg1pg2pg2pg1pg2pg1pg2pg1pg2pg1pg2pg1pg2pg1pg2pg1pg2pg1pg2pg1pg2pg1pg2pg1pg2pg1pg2pg1pg2pg1pg2pg1pg2pg1pg2pg1pg2pg1pg2pg1pg2pg1pg2pg1pg2pg1pg2pg1pg2pg1pg2pg1pg2pg1pg2pg1pg2pg1pg2pg1pg2pg1pg2pg1pg2pg1pg2pg1pg2pg1pg2pg1pg2pg1pg2pg1pg2pg1pg2pg1pg2pg1pg2pg1pg2pg1pg2pg1pg2pg1pg2pg1pg2pg1pg2pg1pg2pg1pg2pg1pg2pg1pg2pg1pg2pg1pg2pg1pg2pg1pg2pg1pg2pg1pg2pg1pg2pg1pg2pg1pg2pg1pg2pg1pg2pg1pg2pg1pg2pg1pg2pg1pg2pg1pg2pg1pg2pg1pg2pg1pg2pg1pg2pg1pg2pg1pg2pg1pg2pg1pg2pg1pg2pg1pg2pg1pg2pg1pg2pg1pg2pg1pg2pg1pg2pg1pg2pg1pg2pg1pg2pg1pg2pg1pg2pg1pg2pg1pg2pg1pg2pg1pg2pg1pg2pg1pg2pg1pg2pg1pg2pg1pg2pg1pg2pg1pg2pg1pg2pg1pg2pg1pg2pg1pg2pg1pg2pg1pg2pg1pg2pg1pg2pg1pg2pg1pg2pg1pg2pg1pg2pg1pg2pg1pg2pg1pg2pg1pg2pg1pg2pg1pg2pg1pg2pg1pg2pg1pg2pg1pg2pg1pg2pg1pg2pg1pg2pg1pg2pg1pg2pg1pg2pg1pg2pg1pg2pg1pg2pg1pg2pg1pg2pg1pg2pg1pg2pg1pg2pg1pg2pg1pg2pg1pg2pg1pg2pg1pg2pg1pg2pg1pg2pg1pg2pg1pg2pg1pg2pg1pg2pg1pg2\");\n",
    "//Bin bProfileId = new Bin(\"ProfileId\", \"pg\");\n",
    "Bin bName = new Bin(\"Name\", \"piyush\");\n",
    "Bin bZip = new Bin(\"Zip\", 94506);\n",
    "\n",
    "try {\n",
    "        client.put(wPolicy, k1, bProfileId, bName, bZip);\n",
    "    }\n",
    "catch(AerospikeException e){        \n",
    "       int rc = e.getResultCode();\n",
    "       System.out.println(\"Write error. Resultcode: \"+ ResultCode.getResultString(rc)); \n",
    "       System.out.println(\"inDoubt?: \" + e.getInDoubt());\n",
    "}\n",
    "System.out.println(\"\\nRead the record: \"+client.get(wPolicy, k1));"
   ]
  },
  {
   "cell_type": "code",
   "execution_count": null,
   "id": "eb7284ef",
   "metadata": {},
   "outputs": [],
   "source": []
  }
 ],
 "metadata": {
  "kernelspec": {
   "display_name": "Java",
   "language": "java",
   "name": "java"
  },
  "language_info": {
   "codemirror_mode": "java",
   "file_extension": ".jshell",
   "mimetype": "text/x-java-source",
   "name": "Java",
   "pygments_lexer": "java",
   "version": "11.0.20+8-LTS"
  }
 },
 "nbformat": 4,
 "nbformat_minor": 5
}
