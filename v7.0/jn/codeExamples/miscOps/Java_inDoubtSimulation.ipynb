{
 "cells": [
  {
   "cell_type": "markdown",
   "id": "62f86929-6bc4-4d80-adc0-9b44a087e63f",
   "metadata": {},
   "source": [
    "# Simulating inDoubt - need multinode cluster"
   ]
  },
  {
   "cell_type": "markdown",
   "id": "28b3e822",
   "metadata": {},
   "source": [
    "### Housekeeping - Setup & wipe out any prior records on the Aerospike Server\n",
    "\n",
    "We have a namespace **_test_** pre-defined on the server. Lets truncate it using _asadm_.\n",
    "\n",
    "This is needed while doing code development. If you want to clear the iJava Kernel of all Java objects and run all cells from scratch, Kernel->Restart & Run All, this will ensure any records written on the underlying Aerospike cluster are purged.\n",
    "\n",
    "First, we need required imports for using %sh in interactive Java Kernel. (This is specific to the iJava Kernel implementation by **Spencer Park** that we are using.)"
   ]
  },
  {
   "cell_type": "code",
   "execution_count": 4,
   "id": "eb85febe",
   "metadata": {},
   "outputs": [],
   "source": [
    "import io.github.spencerpark.ijava.IJava;\n",
    "import io.github.spencerpark.jupyter.kernel.magic.common.Shell;\n",
    "IJava.getKernelInstance().getMagics().registerMagics(Shell.class);"
   ]
  },
  {
   "cell_type": "markdown",
   "id": "1b305b92",
   "metadata": {},
   "source": [
    "### Running _asadm_ in iJava\n",
    "We can run _asadm_ commands inline. Below, we will use the truncation command, which normally requires an interactive confirmation, which we will skip by using the _--no-warn_ flag. No output will be displayed."
   ]
  },
  {
   "cell_type": "code",
   "execution_count": 5,
   "id": "b887dd74-6586-418a-a022-73aede38b1d2",
   "metadata": {},
   "outputs": [],
   "source": [
    "%sh asadm --enable -e \"manage truncate ns test --no-warn\" -h \"127.0.0.1\""
   ]
  },
  {
   "cell_type": "markdown",
   "id": "4b23c8bf",
   "metadata": {},
   "source": [
    "#### Add Java Client POM Dependency  \n",
    "Jupyter Notebook way!"
   ]
  },
  {
   "cell_type": "code",
   "execution_count": 6,
   "id": "c7d10ca8",
   "metadata": {},
   "outputs": [],
   "source": [
    "%%loadFromPOM\n",
    "<dependencies>\n",
    "  <dependency>\n",
    "    <groupId>com.aerospike</groupId>\n",
    "    <artifactId>aerospike-client-jdk8</artifactId>\n",
    "    <version>8.1.1</version>\n",
    "  </dependency>\n",
    "</dependencies>"
   ]
  },
  {
   "cell_type": "markdown",
   "id": "e03decf9",
   "metadata": {},
   "source": [
    "####  Java Client Imports and Test code"
   ]
  },
  {
   "cell_type": "code",
   "execution_count": 7,
   "id": "b5ec301d",
   "metadata": {
    "scrolled": true
   },
   "outputs": [],
   "source": [
    "//Required Imports\n",
    "import com.aerospike.client.AerospikeClient;\n",
    "import com.aerospike.client.policy.WritePolicy;\n",
    "import com.aerospike.client.Bin;\n",
    "import com.aerospike.client.Key;\n",
    "import com.aerospike.client.Record;\n",
    "import com.aerospike.client.Value;\n",
    "import com.aerospike.client.AerospikeException;\n",
    "import com.aerospike.client.ResultCode;"
   ]
  },
  {
   "cell_type": "code",
   "execution_count": 8,
   "id": "15ec4c7e",
   "metadata": {
    "scrolled": true
   },
   "outputs": [],
   "source": [
    "AerospikeClient client = new AerospikeClient(\"127.0.0.1\", 3000);\n"
   ]
  },
  {
   "cell_type": "markdown",
   "id": "f2be67a9-3ea5-47ec-87d3-d6805edb6112",
   "metadata": {},
   "source": [
    "## Multi-node cluster required\n",
    "Shown here for single node instance. Add code for specific nodes of the cluster. Need replication delay to push ourselves to inDoubt situation."
   ]
  },
  {
   "cell_type": "code",
   "execution_count": 9,
   "id": "94c008e8",
   "metadata": {},
   "outputs": [],
   "source": [
    "%sh asinfo -h \"127.0.0.1\" -v \"set-config:context=service;transaction-max-ms=1\""
   ]
  },
  {
   "cell_type": "code",
   "execution_count": 10,
   "id": "dce9bea5",
   "metadata": {},
   "outputs": [
    {
     "name": "stdout",
     "output_type": "stream",
     "text": [
      "\n",
      "Read the record: (gen:1),(exp:450900326),(bins:(ProfileId:2pg1pg2pg1pg2pg2pg1pg2pg1pg2pg1pg2pg1pg2pg1pg2pg1pg2pg1pg2pg1pg2pg1pg2pg1pg2pg1pg2pg1pg2pg1pg2pg1pg2pg1pg2pg1pg2pg1pg2pg1pg2pg1pg2pg1pg2pg1pg2pg1pg2pg1pg2pg1pg2pg1pg2pg1pg2pg1pg2pg1pg2pg1pg2pg1pg2pg1pg2pg1pg2pg1pg2pg1pg2pg1pg2pg1pg2pg1pg2pg1pg2pg1pg2pg1pg2pg1pg2pg1pg2pg1pg2pg1pg2pg1pg2pg1pg2pg1pg2pg1pg2pg1pg2pg1pg2pg1pg2pg1pg2pg1pg2pg1pg2pg1pg2pg1pg2pg1pg2pg1pg2pg1pg2pg1pg2pg1pg2pg1pg2pg1pg2pg1pg2pg1pg2pg1pg2pg1pg2pg1pg2pg1pg2pg1pg2pg1pg2pg1pg2pg1pg2pg1pg2pg1pg2pg1pg2pg1pg2pg1pg2pg1pg2pg1pg2pg1pg2pg1pg2pg1pg2pg1pg2pg1pg2pg1pg2pg1pg2pg1pg2pg1pg2pg1pg2pg1pg2pg1pg2pg1pg2pg1pg2pg1pg2pg1pg2pg1pg2pg1pg2pg1pg2pg1pg2pg1pg2pg1pg2pg1pg2pg1pg2pg1pg2pg1pg2pg1pg2pg1pg2pg1pg2pg1pg2pg1pg2pg1pg2pg1pg2pg1pg2pg1pg2pg1pg2pg1pg2pg1pg2pg1pg2pg1pg2pg1pg2pg1pg2pg1pg2pg1pg2pg1pg2pg1pg2pg1pg2pg1pg2pg1pg2pg1pg2pg1pg2pg1pg2pg1pg2pg1pg2pg1pg2pg1pg2pg1pg2pg1pg2pg1pg2pg1pg2pg1pg2pg1pg2pg1pg2pg1pg2pg1pg2),(Name:piyush),(Zip:94506))\n"
     ]
    }
   ],
   "source": [
    "WritePolicy wPolicy = new WritePolicy();\n",
    "wPolicy.sendKey = true;\n",
    "wPolicy.socketTimeout =1;\n",
    "wPolicy.totalTimeout = 1;\n",
    "Key k1 = new Key(\"test\", \"test\", 2);\n",
    "Bin bProfileId = new Bin(\"ProfileId\", \"2pg1pg2pg1pg2pg2pg1pg2pg1pg2pg1pg2pg1pg2pg1pg2pg1pg2pg1pg2pg1pg2pg1pg2pg1pg2pg1pg2pg1pg2pg1pg2pg1pg2pg1pg2pg1pg2pg1pg2pg1pg2pg1pg2pg1pg2pg1pg2pg1pg2pg1pg2pg1pg2pg1pg2pg1pg2pg1pg2pg1pg2pg1pg2pg1pg2pg1pg2pg1pg2pg1pg2pg1pg2pg1pg2pg1pg2pg1pg2pg1pg2pg1pg2pg1pg2pg1pg2pg1pg2pg1pg2pg1pg2pg1pg2pg1pg2pg1pg2pg1pg2pg1pg2pg1pg2pg1pg2pg1pg2pg1pg2pg1pg2pg1pg2pg1pg2pg1pg2pg1pg2pg1pg2pg1pg2pg1pg2pg1pg2pg1pg2pg1pg2pg1pg2pg1pg2pg1pg2pg1pg2pg1pg2pg1pg2pg1pg2pg1pg2pg1pg2pg1pg2pg1pg2pg1pg2pg1pg2pg1pg2pg1pg2pg1pg2pg1pg2pg1pg2pg1pg2pg1pg2pg1pg2pg1pg2pg1pg2pg1pg2pg1pg2pg1pg2pg1pg2pg1pg2pg1pg2pg1pg2pg1pg2pg1pg2pg1pg2pg1pg2pg1pg2pg1pg2pg1pg2pg1pg2pg1pg2pg1pg2pg1pg2pg1pg2pg1pg2pg1pg2pg1pg2pg1pg2pg1pg2pg1pg2pg1pg2pg1pg2pg1pg2pg1pg2pg1pg2pg1pg2pg1pg2pg1pg2pg1pg2pg1pg2pg1pg2pg1pg2pg1pg2pg1pg2pg1pg2pg1pg2pg1pg2pg1pg2pg1pg2pg1pg2pg1pg2pg1pg2pg1pg2pg1pg2pg1pg2pg1pg2pg1pg2pg1pg2pg1pg2pg1pg2pg1pg2pg1pg2pg1pg2\");\n",
    "//Bin bProfileId = new Bin(\"ProfileId\", \"pg\");\n",
    "Bin bName = new Bin(\"Name\", \"piyush\");\n",
    "Bin bZip = new Bin(\"Zip\", 94506);\n",
    "\n",
    "try {\n",
    "        client.put(wPolicy, k1, bProfileId, bName, bZip);\n",
    "    }\n",
    "catch(AerospikeException e){        \n",
    "       int rc = e.getResultCode();\n",
    "       System.out.println(\"Write error. Resultcode: \"+ ResultCode.getResultString(rc)); \n",
    "       System.out.println(\"inDoubt?: \" + e.getInDoubt());\n",
    "}\n",
    "System.out.println(\"\\nRead the record: \"+client.get(wPolicy, k1));"
   ]
  },
  {
   "cell_type": "markdown",
   "id": "4428a49d-b79c-4611-8317-1637c261b072",
   "metadata": {},
   "source": [
    "# Cleanup"
   ]
  },
  {
   "cell_type": "code",
   "execution_count": 11,
   "id": "6d0074b9-4006-4200-a41a-6999b105e159",
   "metadata": {},
   "outputs": [],
   "source": [
    "%sh asadm --enable -e \"manage truncate ns test --no-warn\" -h \"127.0.0.1\""
   ]
  },
  {
   "cell_type": "code",
   "execution_count": null,
   "id": "7f5c0974-9995-461c-aee3-9d9c43387d39",
   "metadata": {},
   "outputs": [],
   "source": []
  }
 ],
 "metadata": {
  "kernelspec": {
   "display_name": "Java",
   "language": "java",
   "name": "java"
  },
  "language_info": {
   "codemirror_mode": "java",
   "file_extension": ".jshell",
   "mimetype": "text/x-java-source",
   "name": "Java",
   "pygments_lexer": "java",
   "version": "17.0.10+8-LTS"
  }
 },
 "nbformat": 4,
 "nbformat_minor": 5
}
