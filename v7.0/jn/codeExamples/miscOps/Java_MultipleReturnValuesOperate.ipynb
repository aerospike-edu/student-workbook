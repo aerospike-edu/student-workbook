{
 "cells": [
  {
   "cell_type": "markdown",
   "id": "65868776-593e-4b2c-9362-159faf1e4c5b",
   "metadata": {},
   "source": [
    "# Returning Multiple Values in Singe Operate Call"
   ]
  },
  {
   "cell_type": "markdown",
   "id": "28b3e822",
   "metadata": {},
   "source": [
    "### Housekeeping - Setup & wipe out any prior records on the Aerospike Server\n",
    "\n",
    "We have a namespace **_test_** pre-defined on the server. Lets truncate it using _asadm_.\n",
    "\n",
    "This is needed while doing code development. If you want to clear the iJava Kernel of all Java objects and run all cells from scratch, Kernel->Restart & Run All, this will ensure any records written on the underlying Aerospike cluster are purged.\n",
    "\n",
    "First, we need required imports for using %sh in interactive Java Kernel. (This is specific to the iJava Kernel implementation by **Spencer Park** that we are using.)"
   ]
  },
  {
   "cell_type": "code",
   "execution_count": 1,
   "id": "eb85febe",
   "metadata": {},
   "outputs": [],
   "source": [
    "import io.github.spencerpark.ijava.IJava;\n",
    "import io.github.spencerpark.jupyter.kernel.magic.common.Shell;\n",
    "IJava.getKernelInstance().getMagics().registerMagics(Shell.class);"
   ]
  },
  {
   "cell_type": "markdown",
   "id": "1b305b92",
   "metadata": {},
   "source": [
    "### Running _asadm_ in iJava\n",
    "We can run _asadm_ commands inline. Below, we will use the truncation command, which normally requires an interactive confirmation, which we will skip by using the _--no-warn_ flag. No output will be displayed."
   ]
  },
  {
   "cell_type": "code",
   "execution_count": 2,
   "id": "0f11685a",
   "metadata": {},
   "outputs": [],
   "source": [
    "%sh asadm --enable -e \"manage truncate ns test --no-warn\" -h \"127.0.0.1\""
   ]
  },
  {
   "cell_type": "markdown",
   "id": "4b23c8bf",
   "metadata": {},
   "source": [
    "#### Add Java Client POM Dependency  \n",
    "Jupyter Notebook way!"
   ]
  },
  {
   "cell_type": "code",
   "execution_count": 3,
   "id": "c7d10ca8",
   "metadata": {},
   "outputs": [],
   "source": [
    "%%loadFromPOM\n",
    "<dependencies>\n",
    "  <dependency>\n",
    "    <groupId>com.aerospike</groupId>\n",
    "    <artifactId>aerospike-client-jdk8</artifactId>\n",
    "    <version>8.1.1</version>\n",
    "  </dependency>\n",
    "</dependencies>"
   ]
  },
  {
   "cell_type": "markdown",
   "id": "e03decf9",
   "metadata": {},
   "source": [
    "####  Java Client Imports and Test code"
   ]
  },
  {
   "cell_type": "code",
   "execution_count": 4,
   "id": "b5ec301d",
   "metadata": {
    "scrolled": true
   },
   "outputs": [],
   "source": [
    "//Required Imports\n",
    "import com.aerospike.client.AerospikeClient;\n",
    "import com.aerospike.client.policy.WritePolicy;\n",
    "import com.aerospike.client.Bin;\n",
    "import com.aerospike.client.Key;\n",
    "import com.aerospike.client.Record;\n",
    "import com.aerospike.client.Value;\n",
    "\n",
    "import com.aerospike.client.Operation;\n",
    "import com.aerospike.client.exp.Exp;\n",
    "import com.aerospike.client.exp.ExpOperation;\n",
    "import com.aerospike.client.exp.*;"
   ]
  },
  {
   "cell_type": "code",
   "execution_count": 5,
   "id": "15ec4c7e",
   "metadata": {
    "scrolled": true
   },
   "outputs": [
    {
     "name": "stdout",
     "output_type": "stream",
     "text": [
      "Initialized the client and connected to the cluster.\n",
      "\n"
     ]
    }
   ],
   "source": [
    "AerospikeClient client = new AerospikeClient(\"localhost\", 3000);\n",
    "System.out.println(\"Initialized the client and connected to the cluster.\\n\");\n"
   ]
  },
  {
   "cell_type": "code",
   "execution_count": 18,
   "id": "0ecc77be",
   "metadata": {},
   "outputs": [
    {
     "name": "stdout",
     "output_type": "stream",
     "text": [
      "Record Device size: 96\n",
      "Record Name Bin: Aerospike\n",
      "Record Zip Bin: 94506\n",
      "Name: Aerospike\n",
      "Zip: 94506\n",
      "Check record data on server.\n",
      "\n",
      "(gen:13),(exp:0),(bins:(ProfileId:2),(Name:Aerospike),(Zip:94506))\n"
     ]
    }
   ],
   "source": [
    "String ns = \"test\";\n",
    "String setName = \"testset\";\n",
    "int profileId = 2;\n",
    "String name = \"Aerospike\";\n",
    "int zip = 94506;\n",
    "    \n",
    "Key user = new Key(ns, setName, profileId); \n",
    "    \n",
    "Bin bProfileId = new Bin(\"ProfileId\", profileId);\n",
    "Bin bName = new Bin(\"Name\", name);\n",
    "Bin bZip = new Bin(\"Zip\", zip);\n",
    "    \n",
    "WritePolicy wPolicy = new WritePolicy();\n",
    "wPolicy.durableDelete = false;\n",
    "//wPolicy.expiration = -1;\n",
    "\n",
    "//Create a record\n",
    "\n",
    "client.put(wPolicy, user, bProfileId, bName, bZip);\n",
    "      \n",
    "\n",
    "Record rec = client.operate(wPolicy, user, \n",
    "                ExpOperation.read(\"retDeviceSize\", Exp.build(Exp.deviceSize()), ExpReadFlags.DEFAULT),\n",
    "                ExpOperation.read(\"retName\", Exp.build(Exp.stringBin(\"Name\")), ExpReadFlags.DEFAULT),            \n",
    "                ExpOperation.read(\"retZip\", Exp.build(Exp.intBin(\"Zip\")), ExpReadFlags.DEFAULT),  \n",
    "                //Operation.get() //NOT ALLOWED - but you can return individual bins \n",
    "                Operation.get(\"Name\"),\n",
    "                Operation.get(\"Zip\")\n",
    "             ) ; \n",
    "\n",
    "System.out.format(\"Record Device size: %d\\n\", rec.getValue(\"retDeviceSize\"));\n",
    "System.out.format(\"Record Name Bin: %s\\n\", rec.getValue(\"retName\"));\n",
    "System.out.format(\"Record Zip Bin: %d\\n\", rec.getValue(\"retZip\"));\n",
    "System.out.println(\"Name: \"+rec.getValue(\"Name\"));\n",
    "System.out.println(\"Zip: \"+rec.getValue(\"Zip\"));\n",
    "\n",
    "System.out.println(\"Check record data on server.\\n\");    \n",
    "System.out.println(client.get(null, user));\n",
    "    "
   ]
  },
  {
   "cell_type": "markdown",
   "id": "c0f726d0-a970-4d51-9d4d-44b97f28c77a",
   "metadata": {},
   "source": [
    "# Cleanup"
   ]
  },
  {
   "cell_type": "code",
   "execution_count": 7,
   "id": "3a41d9e3-d143-459d-976c-eca00fe8b943",
   "metadata": {},
   "outputs": [],
   "source": [
    "%sh asadm --enable -e \"manage truncate ns test --no-warn\" -h \"127.0.0.1\""
   ]
  },
  {
   "cell_type": "code",
   "execution_count": null,
   "id": "4edd1117-0f93-4803-afcd-e84175bbd5fb",
   "metadata": {},
   "outputs": [],
   "source": []
  }
 ],
 "metadata": {
  "kernelspec": {
   "display_name": "Java",
   "language": "java",
   "name": "java"
  },
  "language_info": {
   "codemirror_mode": "java",
   "file_extension": ".jshell",
   "mimetype": "text/x-java-source",
   "name": "Java",
   "pygments_lexer": "java",
   "version": "17.0.10+8-LTS"
  },
  "toc": {
   "base_numbering": 1,
   "nav_menu": {},
   "number_sections": true,
   "sideBar": true,
   "skip_h1_title": false,
   "title_cell": "Table of Contents",
   "title_sidebar": "Contents",
   "toc_cell": false,
   "toc_position": {},
   "toc_section_display": true,
   "toc_window_display": false
  }
 },
 "nbformat": 4,
 "nbformat_minor": 5
}
