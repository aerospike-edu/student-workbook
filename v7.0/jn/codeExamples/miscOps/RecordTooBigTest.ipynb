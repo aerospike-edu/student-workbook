{
 "cells": [
  {
   "cell_type": "markdown",
   "id": "fb18ef7b-b1c1-47c6-a5a4-c343aa958652",
   "metadata": {},
   "source": [
    "# Record Size Limit\n",
    "For this test, to keep the record generation code reasonable, we configure namespace _test_ on the server **max-record-size 1K**.)_\n",
    "dynamically using _asadm_ or changing the server configuration.\n",
    "\n",
    "```\n",
    "asadm --enable -e \"manage config namespace test param max-record-size to 1K\" -h \"127.0.0.1\"\n",
    "```\n",
    "\n",
    "Alternatively, you can use the terminal to edit:\n",
    "```\n",
    "sudo vi /etc/aerospike/aerospike.conf  --> change namespace test: max-record-size 1K\n",
    "sudo service aerospike stop\n",
    "sudo rm /opt/aeropsike/data/test.dat\n",
    "sudo service aerospike start\n",
    "```"
   ]
  },
  {
   "cell_type": "markdown",
   "id": "28b3e822",
   "metadata": {},
   "source": [
    "### Housekeeping - Setup & wipe out any prior records on the Aerospike Server\n",
    "\n",
    "We have a namespace **_test_** pre-defined on the server. Lets truncate it using _asadm_.\n",
    "\n",
    "This is needed while doing code development. If you want to clear the iJava Kernel of all Java objects and run all cells from scratch, Kernel->Restart & Run All, this will ensure any records written on the underlying Aerospike cluster are purged.\n",
    "\n",
    "First, we need required imports for using %sh in interactive Java Kernel. (This is specific to the iJava Kernel implementation by **Spencer Park** that we are using.)"
   ]
  },
  {
   "cell_type": "code",
   "execution_count": 12,
   "id": "eb85febe",
   "metadata": {},
   "outputs": [],
   "source": [
    "import io.github.spencerpark.ijava.IJava;\n",
    "import io.github.spencerpark.jupyter.kernel.magic.common.Shell;\n",
    "IJava.getKernelInstance().getMagics().registerMagics(Shell.class);"
   ]
  },
  {
   "cell_type": "markdown",
   "id": "1b305b92",
   "metadata": {},
   "source": [
    "### Running _asadm_ in iJava\n",
    "We can run _asadm_ commands inline. Below, we will use the truncation command, which normally requires an interactive confirmation, which we will skip by using the _--no-warn_ flag. No output will be displayed."
   ]
  },
  {
   "cell_type": "code",
   "execution_count": 13,
   "id": "0f11685a",
   "metadata": {},
   "outputs": [],
   "source": [
    "%sh asadm --enable -e \"manage truncate ns test --no-warn\" -h \"127.0.0.1\""
   ]
  },
  {
   "cell_type": "markdown",
   "id": "4b23c8bf",
   "metadata": {},
   "source": [
    "#### Add Java Client POM Dependency  \n",
    "Jupyter Notebook way!"
   ]
  },
  {
   "cell_type": "code",
   "execution_count": 14,
   "id": "c7d10ca8",
   "metadata": {},
   "outputs": [],
   "source": [
    "%%loadFromPOM\n",
    "<dependencies>\n",
    "  <dependency>\n",
    "    <groupId>com.aerospike</groupId>\n",
    "    <artifactId>aerospike-client</artifactId>\n",
    "    <version>7.2.1</version>\n",
    "  </dependency>\n",
    "</dependencies>"
   ]
  },
  {
   "cell_type": "code",
   "execution_count": 15,
   "id": "f8a6ba3e-1535-41e4-be60-fd448e96d5c5",
   "metadata": {},
   "outputs": [],
   "source": [
    "%sh asadm --enable -e \"manage config namespace test param max-record-size to 1K\" -h \"127.0.0.1\""
   ]
  },
  {
   "cell_type": "markdown",
   "id": "e03decf9",
   "metadata": {},
   "source": [
    "####  Java Client Imports and Test code"
   ]
  },
  {
   "cell_type": "code",
   "execution_count": 16,
   "id": "b5ec301d",
   "metadata": {
    "scrolled": true
   },
   "outputs": [
    {
     "name": "stdout",
     "output_type": "stream",
     "text": [
      "Record: (gen:1),(exp:450949345),(bins:(bint:1),(bstr:test--test),(b2:-1234567),(big1:0123456789x----x0123456789x----x0123456789x----x0123456789x----x0123456789x----x0123456789x----x0123456789x----x),(big2:0123456789x----x0123456789x----x0123456789x----x0123456789x----x0123456789x----x0123456789x----x0123456789x----x),(big3:0123456789x----x0123456789x----x0123456789x----x0123456789x----x0123456789x----x0123456789x----x0123456789x----x),(big4:0123456789x----x0123456789x----x0123456789x----x0123456789x----x0123456789x----x0123456789x----x0123456789x----x),(big5:0123456789x----x0123456789x----x0123456789x----x0123456789x----x0123456789x----x0123456789x----x0123456789x----x),(big6:0123456789x----x0123456789x----x0123456789x----x0123456789x----x0123456789x----x0123456789x----x0123456789x----x),(big7:0123456789x----x0123456789x----x0123456789x----x0123456789x----x0123456789x----x0123456789x----x0123456789x----x),(big8:0123456789x----x0123456789x----x0123456789x----x0123456789x----x))\n",
      "Record Size in bytes: 1024\n",
      "Record: (gen:2),(exp:450949345),(bins:(bint:1),(bstr:test--test),(big8:0123456789x----x0123456789x----x0123456789x----x0123456789x----x),(big1:0123456789x----x0123456789x----x0123456789x----x0123456789x----x0123456789x----x0123456789x----x0123456789x----x),(big2:0123456789x----x0123456789x----x0123456789x----x0123456789x----x0123456789x----x0123456789x----x0123456789x----x),(big3:0123456789x----x0123456789x----x0123456789x----x0123456789x----x0123456789x----x0123456789x----x0123456789x----x),(big4:0123456789x----x0123456789x----x0123456789x----x0123456789x----x0123456789x----x0123456789x----x0123456789x----x),(big5:0123456789x----x0123456789x----x0123456789x----x0123456789x----x0123456789x----x0123456789x----x0123456789x----x),(big6:0123456789x----x0123456789x----x0123456789x----x0123456789x----x0123456789x----x0123456789x----x0123456789x----x),(big7:0123456789x----x0123456789x----x0123456789x----x0123456789x----x0123456789x----x0123456789x----x0123456789x----x),(b3:-1234567))\n",
      "Record Size in bytes after b2 is null: 1024\n"
     ]
    }
   ],
   "source": [
    "//Required Imports\n",
    "import com.aerospike.client.AerospikeClient;\n",
    "import com.aerospike.client.policy.WritePolicy;\n",
    "import com.aerospike.client.Bin;\n",
    "import com.aerospike.client.Key;\n",
    "import com.aerospike.client.Record;\n",
    "import com.aerospike.client.Value;\n",
    "import com.aerospike.client.Operation;\n",
    "import com.aerospike.client.exp.Exp;\n",
    "import com.aerospike.client.exp.ExpOperation;\n",
    "import com.aerospike.client.exp.ExpReadFlags;\n",
    "import com.aerospike.client.exp.Expression;\n",
    "import com.aerospike.client.cdt.ListOperation;\n",
    "import com.aerospike.client.exp.ListExp;\n",
    "\n",
    "import com.aerospike.client.AerospikeException;\n",
    "import com.aerospike.client.ResultCode;\n",
    "\n",
    "import java.util.Random;\n",
    "\n",
    "//Write block size is configured at 1K\n",
    "AerospikeClient client = new AerospikeClient(\"127.0.0.1\", 3000);\n",
    "Key key = new Key(\"test\", \"testset\", \"key1\");\n",
    "WritePolicy wPolicy = new WritePolicy();\n",
    "Bin bint = new Bin(\"bint\", Value.get(1)); //int bin\n",
    "Bin bstr = new Bin(\"bstr\", Value.get(\"test--test\")); //string bin\n",
    "Bin bstr2 = new Bin(\"b2\", Value.get(\"-1234567\"));\n",
    "Bin bstr3 = new Bin(\"b3\", Value.get(\"-1234567\"));  //will go to 1024\n",
    "//Bin bstr3 = new Bin(\"b3\", Value.get(\"-1234567\")); //will push to record-too-big\n",
    "Bin big1 = new Bin(\"big1\", Value.get(\"0123456789x----x0123456789x----x0123456789x----x0123456789x----x0123456789x----x0123456789x----x0123456789x----x\"));\n",
    "Bin big2 = new Bin(\"big2\", Value.get(\"0123456789x----x0123456789x----x0123456789x----x0123456789x----x0123456789x----x0123456789x----x0123456789x----x\"));\n",
    "Bin big3 = new Bin(\"big3\", Value.get(\"0123456789x----x0123456789x----x0123456789x----x0123456789x----x0123456789x----x0123456789x----x0123456789x----x\"));\n",
    "Bin big4 = new Bin(\"big4\", Value.get(\"0123456789x----x0123456789x----x0123456789x----x0123456789x----x0123456789x----x0123456789x----x0123456789x----x\"));\n",
    "Bin big5 = new Bin(\"big5\", Value.get(\"0123456789x----x0123456789x----x0123456789x----x0123456789x----x0123456789x----x0123456789x----x0123456789x----x\"));\n",
    "Bin big6 = new Bin(\"big6\", Value.get(\"0123456789x----x0123456789x----x0123456789x----x0123456789x----x0123456789x----x0123456789x----x0123456789x----x\"));\n",
    "Bin big7 = new Bin(\"big7\", Value.get(\"0123456789x----x0123456789x----x0123456789x----x0123456789x----x0123456789x----x0123456789x----x0123456789x----x\"));\n",
    "Bin big8 = new Bin(\"big8\", Value.get(\"0123456789x----x0123456789x----x0123456789x----x0123456789x----x\"));\n",
    "\n",
    "//Add another character and you will push to Record Too Big error.\n",
    "//Bin big8 = new Bin(\"big8\", Value.get(\"0123456789x----x0123456789x----x0123456789x----x0123456789x----x1\"));\n",
    "\n",
    "client.delete(null,key);\n",
    "client.put(wPolicy, key, bint, bstr, bstr2, big1, big2, big3, big4, big5, big6, big7, big8);\n",
    "System.out.println(\"Record: \"+ client.get(null, key)); //check record got inserted\n",
    "\n",
    "//Using expressions to read record metadata in PI that has size of record on device\n",
    "Expression recSizeExp = Exp.build(Exp.deviceSize());\n",
    "Record record = client.operate( wPolicy, key,   \n",
    "          ExpOperation.read(\"size\", recSizeExp, ExpReadFlags.DEFAULT) \n",
    "         );\n",
    "System.out.println(\"Record Size in bytes: \" + record.getValue(\"size\"));\n",
    "\n",
    "// 35 + 4 (has ttl) + 1 + 7 (testset) + 1 + [(1+4)+(2+4)] + [(1+4)+(5+11)] + [1+2+5+9] = 89 --> 96\n",
    "\n",
    "client.operate(wPolicy, key, Operation.put(Bin.asNull(\"b2\")), Operation.put(bstr3));\n",
    "System.out.println(\"Record: \"+ client.get(null, key)); //check record got inserted\n",
    "record = client.operate( wPolicy, key,   \n",
    "          ExpOperation.read(\"size\", recSizeExp, ExpReadFlags.DEFAULT) \n",
    "         );\n",
    "System.out.println(\"Record Size in bytes after b2 is null: \" + record.getValue(\"size\"));\n"
   ]
  },
  {
   "cell_type": "markdown",
   "id": "f77c5385-d76b-42f6-9015-186d80d7cccf",
   "metadata": {},
   "source": [
    "# Cleanup"
   ]
  },
  {
   "cell_type": "code",
   "execution_count": 17,
   "id": "30217b51-0b7d-46c4-aec2-ae00de9fb074",
   "metadata": {},
   "outputs": [],
   "source": [
    "%sh asadm --enable -e \"manage truncate ns test --no-warn\" -h \"127.0.0.1\""
   ]
  },
  {
   "cell_type": "code",
   "execution_count": null,
   "id": "c5cdc925-fd41-4802-9362-57afe04c12d8",
   "metadata": {},
   "outputs": [],
   "source": []
  }
 ],
 "metadata": {
  "kernelspec": {
   "display_name": "Java",
   "language": "java",
   "name": "java"
  },
  "language_info": {
   "codemirror_mode": "java",
   "file_extension": ".jshell",
   "mimetype": "text/x-java-source",
   "name": "Java",
   "pygments_lexer": "java",
   "version": "17.0.10+8-LTS"
  }
 },
 "nbformat": 4,
 "nbformat_minor": 5
}
