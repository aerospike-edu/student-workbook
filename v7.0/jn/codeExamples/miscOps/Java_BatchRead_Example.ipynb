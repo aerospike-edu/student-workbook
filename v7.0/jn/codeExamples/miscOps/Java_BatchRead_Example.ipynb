{
 "cells": [
  {
   "cell_type": "markdown",
   "id": "ea124d9d-3051-4e47-add8-0ae5fc06e4f2",
   "metadata": {},
   "source": [
    "# Batch Read Example\n",
    "Read a set of records, if record is not found, return null."
   ]
  },
  {
   "cell_type": "markdown",
   "id": "28b3e822",
   "metadata": {},
   "source": [
    "### Housekeeping - Setup & wipe out any prior records on the Aerospike Server\n",
    "\n",
    "We have a namespace **_test_** pre-defined on the server. Lets truncate it using _asadm_.\n",
    "\n",
    "This is needed while doing code development. If you want to clear the iJava Kernel of all Java objects and run all cells from scratch, Kernel->Restart & Run All, this will ensure any records written on the underlying Aerospike cluster are purged.\n",
    "\n",
    "First, we need required imports for using %sh in interactive Java Kernel. (This is specific to the iJava Kernel implementation by **Spencer Park** that we are using.)"
   ]
  },
  {
   "cell_type": "code",
   "execution_count": 1,
   "id": "eb85febe",
   "metadata": {},
   "outputs": [],
   "source": [
    "import io.github.spencerpark.ijava.IJava;\n",
    "import io.github.spencerpark.jupyter.kernel.magic.common.Shell;\n",
    "IJava.getKernelInstance().getMagics().registerMagics(Shell.class);"
   ]
  },
  {
   "cell_type": "markdown",
   "id": "1b305b92",
   "metadata": {},
   "source": [
    "### Running _asadm_ in iJava\n",
    "We can run _asadm_ commands inline. Below, we will use the truncation command, which normally requires an interactive confirmation, which we will skip by using the _--no-warn_ flag. No output will be displayed."
   ]
  },
  {
   "cell_type": "code",
   "execution_count": 2,
   "id": "0f11685a",
   "metadata": {},
   "outputs": [],
   "source": [
    "%sh asadm --enable -e \"manage truncate ns test --no-warn\" -h \"127.0.0.1\""
   ]
  },
  {
   "cell_type": "markdown",
   "id": "4b23c8bf",
   "metadata": {},
   "source": [
    "#### Add Java Client POM Dependency  \n",
    "Jupyter Notebook way!"
   ]
  },
  {
   "cell_type": "code",
   "execution_count": 3,
   "id": "c7d10ca8",
   "metadata": {},
   "outputs": [],
   "source": [
    "%%loadFromPOM\n",
    "<dependencies>\n",
    "  <dependency>\n",
    "    <groupId>com.aerospike</groupId>\n",
    "    <artifactId>aerospike-client-jdk8</artifactId>\n",
    "    <version>8.1.1</version>\n",
    "  </dependency>\n",
    "</dependencies>"
   ]
  },
  {
   "cell_type": "markdown",
   "id": "e03decf9",
   "metadata": {},
   "source": [
    "####  Java Client Imports and Test code"
   ]
  },
  {
   "cell_type": "code",
   "execution_count": 4,
   "id": "b5ec301d",
   "metadata": {
    "scrolled": true
   },
   "outputs": [],
   "source": [
    "//Required Imports\n",
    "import com.aerospike.client.AerospikeClient;\n",
    "import com.aerospike.client.policy.WritePolicy;\n",
    "import com.aerospike.client.Bin;\n",
    "import com.aerospike.client.Key;\n",
    "import com.aerospike.client.Record;\n",
    "import com.aerospike.client.Value;\n",
    "\n",
    "import com.aerospike.client.policy.BatchPolicy;\n",
    "import com.aerospike.client.ResultCode;\n"
   ]
  },
  {
   "cell_type": "code",
   "execution_count": 5,
   "id": "15ec4c7e",
   "metadata": {
    "scrolled": true
   },
   "outputs": [],
   "source": [
    "AerospikeClient client = new AerospikeClient(\"127.0.0.1\", 3000);\n"
   ]
  },
  {
   "cell_type": "code",
   "execution_count": 6,
   "id": "82266c46",
   "metadata": {},
   "outputs": [],
   "source": [
    "Key key1 = new Key(\"test\", \"testSet1\", 1); \n",
    "Key key2 = new Key(\"test\", \"testSet2\", 2);  // We will not create this record \n",
    "Key key3 = new Key(\"test\", \"testSet3\", 3); \n",
    "Key key4 = new Key(\"test\", \"testSet4\", 4);\n",
    "Bin b1 = new Bin(\"bin1\", 100);\n",
    "Bin b2 = new Bin(\"bin1\", 200);\n",
    "Bin b3 = new Bin(\"bin1\", 300);\n",
    "Bin b4 = new Bin(\"bin1\", 400);\n",
    "client.put(null, key1, b1);\n",
    "//client.put(null, key2, b2); //Skipping so its a null record\n",
    "client.put(null, key3, b3);\n",
    "client.put(null, key4, b4);\n"
   ]
  },
  {
   "cell_type": "code",
   "execution_count": 7,
   "id": "92cf730d",
   "metadata": {},
   "outputs": [
    {
     "name": "stdout",
     "output_type": "stream",
     "text": [
      "(gen:1),(exp:453261759),(bins:(bin1:100))\n",
      "null\n",
      "(gen:1),(exp:453261759),(bins:(bin1:300))\n",
      "(gen:1),(exp:453261759),(bins:(bin1:400))\n"
     ]
    }
   ],
   "source": [
    "System.out.println(client.get(null, key1));\n",
    "System.out.println(client.get(null, key2));\n",
    "System.out.println(client.get(null, key3));\n",
    "System.out.println(client.get(null, key4));"
   ]
  },
  {
   "cell_type": "code",
   "execution_count": 8,
   "id": "e9774135-d44c-44eb-8920-a8061299df55",
   "metadata": {
    "scrolled": true
   },
   "outputs": [
    {
     "name": "stdout",
     "output_type": "stream",
     "text": [
      "Result[0]: bin1: 100\n",
      "Result[1]: not found: \n",
      "Result[2]: bin1: 300\n",
      "Result[3]: bin1: 400\n"
     ]
    }
   ],
   "source": [
    "//Do a batch read\n",
    "BatchPolicy batchPolicy = new BatchPolicy();\n",
    "\n",
    "Record [] bReads = client.get(batchPolicy, new Key[] {key1, key2, key3, key4});\n",
    "\n",
    "// process the batch reads\n",
    "for (int i = 0; i < bReads.length; i++) {\n",
    "    Record bRead = bReads[i];    \n",
    "    if (bRead != null) {          // check individual record\n",
    "        long bin1Val = bRead.getLong(\"bin1\");         \n",
    "        System.out.format(\"Result[%d]: bin1: %d\\n\",i, bin1Val);\n",
    "    }\n",
    "    else {   // error in individual key's operations\n",
    "        System.out.format(\"Result[%d]: not found: \\n\", i);\n",
    "    }\n",
    "}\n"
   ]
  },
  {
   "cell_type": "markdown",
   "id": "3eb11be9-113a-4c3e-8d69-4ccc3372a768",
   "metadata": {},
   "source": [
    "# Cleanup"
   ]
  },
  {
   "cell_type": "code",
   "execution_count": null,
   "id": "d12abcba-0d57-4147-a191-7281f590c439",
   "metadata": {},
   "outputs": [],
   "source": [
    "%sh asadm --enable -e \"manage truncate ns test --no-warn\" -h \"127.0.0.1\""
   ]
  },
  {
   "cell_type": "code",
   "execution_count": null,
   "id": "a60282f1-2947-4f0d-aa8d-b439ecb756af",
   "metadata": {},
   "outputs": [],
   "source": []
  }
 ],
 "metadata": {
  "kernelspec": {
   "display_name": "Java",
   "language": "java",
   "name": "java"
  },
  "language_info": {
   "codemirror_mode": "java",
   "file_extension": ".jshell",
   "mimetype": "text/x-java-source",
   "name": "Java",
   "pygments_lexer": "java",
   "version": "17.0.10+8-LTS"
  }
 },
 "nbformat": 4,
 "nbformat_minor": 5
}
