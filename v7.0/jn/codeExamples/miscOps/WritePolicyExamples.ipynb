{
 "cells": [
  {
   "cell_type": "markdown",
   "id": "9037147c",
   "metadata": {},
   "source": [
    "# WritePolicy Examples"
   ]
  },
  {
   "cell_type": "markdown",
   "id": "e28e6bcc",
   "metadata": {},
   "source": [
    "# Import to run %sh magic cell"
   ]
  },
  {
   "cell_type": "code",
   "execution_count": 1,
   "id": "b74ed7d1",
   "metadata": {},
   "outputs": [],
   "source": [
    "import io.github.spencerpark.ijava.IJava;\n",
    "import io.github.spencerpark.jupyter.kernel.magic.common.Shell;\n",
    "IJava.getKernelInstance().getMagics().registerMagics(Shell.class);"
   ]
  },
  {
   "cell_type": "markdown",
   "id": "31b0ddb3",
   "metadata": {},
   "source": [
    "# Add Java Client POM Dependency"
   ]
  },
  {
   "cell_type": "code",
   "execution_count": 2,
   "id": "b6447add",
   "metadata": {},
   "outputs": [],
   "source": [
    "%%loadFromPOM\n",
    "<dependencies>\n",
    "  <dependency>\n",
    "    <groupId>com.aerospike</groupId>\n",
    "    <artifactId>aerospike-client</artifactId>\n",
    "    <version>5.1.11</version>\n",
    "  </dependency>\n",
    "</dependencies>"
   ]
  },
  {
   "cell_type": "markdown",
   "id": "83cebb5f",
   "metadata": {},
   "source": [
    "# Add required Imports"
   ]
  },
  {
   "cell_type": "code",
   "execution_count": 3,
   "id": "946d225a",
   "metadata": {},
   "outputs": [
    {
     "name": "stdout",
     "output_type": "stream",
     "text": [
      "Client modules imported.\n"
     ]
    }
   ],
   "source": [
    "import com.aerospike.client.AerospikeClient;\n",
    "import com.aerospike.client.policy.WritePolicy;\n",
    "import com.aerospike.client.Bin;\n",
    "import com.aerospike.client.Key;\n",
    "import com.aerospike.client.Record;\n",
    "import com.aerospike.client.Value;\n",
    "import com.aerospike.client.policy.RecordExistsAction;\n",
    "import com.aerospike.client.AerospikeException;\n",
    "import com.aerospike.client.ResultCode;\n",
    "import com.aerospike.client.Operation;\n",
    "System.out.println(\"Client modules imported.\");"
   ]
  },
  {
   "cell_type": "markdown",
   "id": "0362ad57",
   "metadata": {},
   "source": [
    "# Generate Test Data"
   ]
  },
  {
   "cell_type": "code",
   "execution_count": 4,
   "id": "deca2f79",
   "metadata": {},
   "outputs": [],
   "source": [
    "%sh aql -c \"truncate test\""
   ]
  },
  {
   "cell_type": "code",
   "execution_count": 5,
   "id": "056a887a",
   "metadata": {},
   "outputs": [
    {
     "name": "stdout",
     "output_type": "stream",
     "text": [
      "Client modules imported.\n",
      "6000\n",
      "5000\n",
      "4000\n",
      "3000\n",
      "2000\n"
     ]
    }
   ],
   "source": [
    "import com.aerospike.client.AerospikeClient;\n",
    "import com.aerospike.client.policy.WritePolicy;\n",
    "import com.aerospike.client.Bin;\n",
    "import com.aerospike.client.Key;\n",
    "import com.aerospike.client.Record;\n",
    "import com.aerospike.client.Value;\n",
    "import com.aerospike.client.policy.RecordExistsAction;\n",
    "import com.aerospike.client.AerospikeException;\n",
    "import com.aerospike.client.ResultCode;\n",
    "import com.aerospike.client.Operation;\n",
    "\n",
    "import com.aerospike.client.exp.Exp;\n",
    "import com.aerospike.client.exp.ExpOperation;\n",
    "import com.aerospike.client.exp.ExpWriteFlags;\n",
    "import com.aerospike.client.exp.Expression;\n",
    "System.out.println(\"Client modules imported.\");\n",
    "\n",
    "AerospikeClient client = new AerospikeClient(\"localhost\", 3000);\n",
    "\n",
    "WritePolicy wP = new WritePolicy();\n",
    "wP.respondAllOps = true;\n",
    "int iNumber = 11;\n",
    "int iTimeLeft = 6000;\n",
    "\n",
    "for(int i=0; i<5; i++){\n",
    "  Key key = new Key (\"test\", \"testset\", iNumber);\n",
    "  Expression tlExp = Exp.build(Exp.val(iTimeLeft));\n",
    "  Record record = client.operate(wP, key, \n",
    "       //ExpOperation.write(\"timeLeft\", tlExp, ExpWriteFlags.CREATE_ONLY | ExpWriteFlags.POLICY_NO_FAIL),\n",
    "       ExpOperation.write(\"timeLeft\", tlExp, ExpWriteFlags.DEFAULT),                          \n",
    "       Operation.get(\"timeLeft\"));   \n",
    "    \n",
    "  List<?> list = record.getList(\"timeLeft\");\n",
    "  System.out.println(list.get(1));  \n",
    "  iTimeLeft = iTimeLeft - 1000; //should not alter record value\n",
    "}"
   ]
  },
  {
   "cell_type": "code",
   "execution_count": 6,
   "id": "aa5fc77d",
   "metadata": {},
   "outputs": [],
   "source": [
    "%sh aql -c \"create index idx_age on test.testset (age) numeric\""
   ]
  },
  {
   "cell_type": "code",
   "execution_count": 8,
   "id": "cc282aad",
   "metadata": {},
   "outputs": [],
   "source": [
    "//Needed imports\n",
    "import com.aerospike.client.query.Statement;\n",
    "import com.aerospike.client.query.Filter;\n",
    "import com.aerospike.client.Operation;\n",
    "import com.aerospike.client.Bin;\n",
    "import com.aerospike.client.policy.QueryPolicy;\n",
    "import com.aerospike.client.query.RecordSet;\n",
    "\n",
    "//Run SI query\n",
    "Statement stmt = new Statement();\n",
    "stmt.setNamespace(\"test\");\n",
    "stmt.setSetName(\"testset\");\n",
    "stmt.setFilter(Filter.range(\"age\", 20,60));\n",
    "//Operation[] ops = new Operation[1];\n",
    "//Bin ageBinNull = Bin.asNull(\"age\");\n",
    "//ops[0] = Operation.put(ageBinNull);\n",
    "//stmt.setOperations(ops);\n",
    "QueryPolicy qp = new QueryPolicy();\n",
    "qp.recordQueueSize = 2;\n",
    "RecordSet rs = client.query(qp, stmt);\n",
    "\n",
    "while(rs.next()){\n",
    "    Record r = rs.getRecord();\n",
    "    Key k = rs.getKey();  \n",
    "    System.out.println(r);\n",
    "    System.out.println(k);\n",
    "}\n"
   ]
  },
  {
   "cell_type": "code",
   "execution_count": 42,
   "id": "69ce2db4",
   "metadata": {},
   "outputs": [
    {
     "name": "stdout",
     "output_type": "stream",
     "text": [
      "(gen:5),(exp:428262129),(bins:(keyexists:true),(devsz_no_rec:0),(memsz_no_rec:21),(tims_exp_norec:true),(bin1:[null, 1]))\n",
      "(gen:6),(exp:428262129),(bins:(keyexists:true),(devsz_has_rec:0),(memsz_has_rec:34),(tims_exp_hasrec:false),(bin1:[null, 2]))\n"
     ]
    }
   ],
   "source": [
    "import com.aerospike.client.exp.ExpReadFlags;\n",
    "\n",
    "Key key = new Key (\"test\", \"testset\", 3);\n",
    "WritePolicy wP = new WritePolicy();\n",
    "wP.sendKey=true;\n",
    "wP.durableDelete = true;\n",
    "Bin bin = new Bin(\"bin1\", 0);\n",
    "client.put(wP, key, bin);\n",
    "client.delete(wP, key);  //Start with a clean slate\n",
    "\n",
    "Expression keyex = Exp.build(Exp.keyExists());\n",
    "Expression recsize = Exp.build(Exp.deviceSize());\n",
    "Expression memsize = Exp.build(Exp.memorySize());\n",
    "Expression tim = Exp.build( \n",
    "                   Exp.or(Exp.isTombstone(), \n",
    "                          Exp.eq(\n",
    "                           Exp.add(Exp.deviceSize(), Exp.memorySize()), \n",
    "                           Exp.val(0)\n",
    "                         ))\n",
    "                );\n",
    "\n",
    "//Writing for first time, user key will not exist\n",
    "bin = new Bin(\"bin1\", 1);\n",
    "Record record = client.operate(wP, key, \n",
    "                  ExpOperation.read(\"keyexists\", keyex, ExpReadFlags.DEFAULT),  \n",
    "                  ExpOperation.read(\"devsz_no_rec\", recsize, ExpReadFlags.DEFAULT),\n",
    "                  ExpOperation.read(\"memsz_no_rec\", memsize, ExpReadFlags.DEFAULT),\n",
    "                  ExpOperation.read(\"tims_exp_norec\", tim, ExpReadFlags.DEFAULT),\n",
    "                  Operation.put(bin),       \n",
    "                  Operation.get(\"bin1\")                             \n",
    "                              ); \n",
    "System.out.println(record);\n",
    "\n",
    "\n",
    "//Writing not the first time, user key will exist\n",
    "bin = new Bin(\"bin1\", 2);\n",
    "record = client.operate(wP, key, \n",
    "                  ExpOperation.read(\"keyexists\", keyex, ExpReadFlags.DEFAULT),\n",
    "                  ExpOperation.read(\"devsz_has_rec\", recsize, ExpReadFlags.DEFAULT),\n",
    "                  ExpOperation.read(\"memsz_has_rec\", memsize, ExpReadFlags.DEFAULT), \n",
    "                  ExpOperation.read(\"tims_exp_hasrec\", tim, ExpReadFlags.DEFAULT),      \n",
    "                  Operation.put(bin),       \n",
    "                  Operation.get(\"bin1\")\n",
    "                              ); \n",
    "System.out.println(record);\n"
   ]
  },
  {
   "cell_type": "code",
   "execution_count": null,
   "id": "dcae4995",
   "metadata": {},
   "outputs": [],
   "source": []
  }
 ],
 "metadata": {
  "kernelspec": {
   "display_name": "Java",
   "language": "java",
   "name": "java"
  },
  "language_info": {
   "codemirror_mode": "java",
   "file_extension": ".jshell",
   "mimetype": "text/x-java-source",
   "name": "Java",
   "pygments_lexer": "java",
   "version": "11.0.19+7-LTS"
  }
 },
 "nbformat": 4,
 "nbformat_minor": 5
}
