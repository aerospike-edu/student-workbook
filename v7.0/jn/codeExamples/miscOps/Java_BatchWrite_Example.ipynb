{
 "cells": [
  {
   "cell_type": "markdown",
   "id": "ea124d9d-3051-4e47-add8-0ae5fc06e4f2",
   "metadata": {},
   "source": [
    "# BatchWrite Example"
   ]
  },
  {
   "cell_type": "markdown",
   "id": "28b3e822",
   "metadata": {},
   "source": [
    "### Housekeeping - Setup & wipe out any prior records on the Aerospike Server\n",
    "\n",
    "We have a namespace **_test_** pre-defined on the server. Lets truncate it using _asadm_.\n",
    "\n",
    "This is needed while doing code development. If you want to clear the iJava Kernel of all Java objects and run all cells from scratch, Kernel->Restart & Run All, this will ensure any records written on the underlying Aerospike cluster are purged.\n",
    "\n",
    "First, we need required imports for using %sh in interactive Java Kernel. (This is specific to the iJava Kernel implementation by **Spencer Park** that we are using.)"
   ]
  },
  {
   "cell_type": "code",
   "execution_count": 1,
   "id": "eb85febe",
   "metadata": {},
   "outputs": [],
   "source": [
    "import io.github.spencerpark.ijava.IJava;\n",
    "import io.github.spencerpark.jupyter.kernel.magic.common.Shell;\n",
    "IJava.getKernelInstance().getMagics().registerMagics(Shell.class);"
   ]
  },
  {
   "cell_type": "markdown",
   "id": "1b305b92",
   "metadata": {},
   "source": [
    "### Running _asadm_ in iJava\n",
    "We can run _asadm_ commands inline. Below, we will use the truncation command, which normally requires an interactive confirmation, which we will skip by using the _--no-warn_ flag. No output will be displayed."
   ]
  },
  {
   "cell_type": "code",
   "execution_count": 2,
   "id": "0f11685a",
   "metadata": {},
   "outputs": [],
   "source": [
    "%sh asadm --enable -e \"manage truncate ns test --no-warn\" -h \"127.0.0.1\""
   ]
  },
  {
   "cell_type": "markdown",
   "id": "4b23c8bf",
   "metadata": {},
   "source": [
    "#### Add Java Client POM Dependency  \n",
    "Jupyter Notebook way!"
   ]
  },
  {
   "cell_type": "code",
   "execution_count": 3,
   "id": "c7d10ca8",
   "metadata": {},
   "outputs": [],
   "source": [
    "%%loadFromPOM\n",
    "<dependencies>\n",
    "  <dependency>\n",
    "    <groupId>com.aerospike</groupId>\n",
    "    <artifactId>aerospike-client-jdk8</artifactId>\n",
    "    <version>8.1.1</version>\n",
    "  </dependency>\n",
    "</dependencies>"
   ]
  },
  {
   "cell_type": "markdown",
   "id": "e03decf9",
   "metadata": {},
   "source": [
    "####  Java Client Imports and Test code"
   ]
  },
  {
   "cell_type": "code",
   "execution_count": 4,
   "id": "b5ec301d",
   "metadata": {
    "scrolled": true
   },
   "outputs": [],
   "source": [
    "//Required Imports\n",
    "import com.aerospike.client.AerospikeClient;\n",
    "import com.aerospike.client.policy.WritePolicy;\n",
    "import com.aerospike.client.Bin;\n",
    "import com.aerospike.client.Key;\n",
    "import com.aerospike.client.Record;\n",
    "import com.aerospike.client.Value;\n",
    "\n",
    "//import com.aerospike.client.cdt.ListPolicy;\n",
    "//import com.aerospike.client.cdt.ListOperation;\n",
    "//import com.aerospike.client.cdt.ListOrder;\n",
    "//import com.aerospike.client.cdt.ListWriteFlags;\n",
    "//import com.aerospike.client.cdt.ListReturnType;\n",
    "\n",
    "//import com.aerospike.client.cdt.MapPolicy;\n",
    "//import com.aerospike.client.cdt.MapOrder;\n",
    "//import com.aerospike.client.cdt.MapWriteFlags;\n",
    "//import com.aerospike.client.cdt.MapReturnType;\n",
    "\n",
    "//import com.aerospike.client.exp.MapExp;\n",
    "//import com.aerospike.client.cdt.CTX;\n",
    "//import java.util.HashMap;\n",
    "//import java.util.Map;\n",
    "\n",
    "import com.aerospike.client.Operation;\n",
    "//import com.aerospike.client.query.Statement;\n",
    "//import com.aerospike.client.exp.Exp;\n",
    "//import com.aerospike.client.cdt.MapOperation;\n",
    "\n",
    "import com.aerospike.client.policy.BatchPolicy;\n",
    "import com.aerospike.client.policy.BatchWritePolicy;\n",
    "import com.aerospike.client.BatchResults;\n",
    "import com.aerospike.client.BatchRecord;\n",
    "import com.aerospike.client.ResultCode;\n",
    "\n",
    "//import java.util.Random;\n",
    "\n"
   ]
  },
  {
   "cell_type": "code",
   "execution_count": 5,
   "id": "15ec4c7e",
   "metadata": {
    "scrolled": true
   },
   "outputs": [],
   "source": [
    "AerospikeClient client = new AerospikeClient(\"127.0.0.1\", 3000);\n"
   ]
  },
  {
   "cell_type": "code",
   "execution_count": 6,
   "id": "82266c46",
   "metadata": {},
   "outputs": [],
   "source": [
    "Key key1 = new Key(\"test\", \"testSet\", 1); \n",
    "Key key2 = new Key(\"test\", \"testSet\", 2); \n",
    "Key key3 = new Key(\"test\", \"testSet\", 3);\n"
   ]
  },
  {
   "cell_type": "code",
   "execution_count": 7,
   "id": "ebdba0d1",
   "metadata": {
    "scrolled": true
   },
   "outputs": [
    {
     "name": "stdout",
     "output_type": "stream",
     "text": [
      "Batch Write Status: true\n",
      "Result[0]: key: test/testSet/1, bin1: 0\n",
      "Result[1]: key: test/testSet/2, bin1: 0\n",
      "Result[2]: key: test/testSet/3, bin1: 0\n"
     ]
    }
   ],
   "source": [
    "BatchPolicy batchPolicy = new BatchPolicy();\n",
    "//batchPolicy.sendKey = true;\n",
    "BatchWritePolicy batchWritePolicy = new BatchWritePolicy();\n",
    "//batchWritePolicy.sendKey = true;\n",
    "        \n",
    "//client.operate(batchPolicy, batchWritePolicy, new Key[] {key1, key2, key3}, Operation.put(new Bin(\"now\", new Date().getTime())));\n",
    "BatchResults bresults = client.operate(batchPolicy, batchWritePolicy, \n",
    "                                       new Key[] {key1, key2, key3}, \n",
    "                                       new Operation [] {\n",
    "                                         Operation.add(new Bin(\"bin1\", 1)),\n",
    "                                         Operation.put(new Bin(\"bin2\", \"CA\")),\n",
    "                                         Operation.put(new Bin(\"bin3\", 301))}\n",
    "                                       );\n",
    "\n",
    "System.out.println(\"Batch Write Status: \" + bresults.status);\n",
    "\n",
    "// process the BatchResults returned from the batch operation\n",
    "for (int i = 0; i < bresults.records.length; i++) {\n",
    "    BatchRecord br = bresults.records[i];\n",
    "    Record rec = br.record;\n",
    "    if (br.resultCode == ResultCode.OK) {          // check individual key status \n",
    "        long bin1Val = rec.getLong(\"bin1\");        // bin1 has one operation, op result directly accessible\n",
    "        // note the result order within each list matches ops order for the bin\n",
    "        System.out.format(\"Result[%d]: key: %s/%s/%s, bin1: %d\\n\",i, br.key.namespace, br.key.setName, br.key.userKey, bin1Val);\n",
    "    }\n",
    "    else {   // error in individual key's operations\n",
    "        System.out.format(\"Result[%d]: key: %s, error: %s\\n\", \n",
    "                            i, br.key, ResultCode.getResultString(br.resultCode));\n",
    "    }\n",
    "}\n"
   ]
  },
  {
   "cell_type": "code",
   "execution_count": 8,
   "id": "92cf730d",
   "metadata": {},
   "outputs": [
    {
     "name": "stdout",
     "output_type": "stream",
     "text": [
      "(gen:1),(exp:450895691),(bins:(bin1:1),(bin2:CA),(bin3:301))\n",
      "(gen:1),(exp:450895691),(bins:(bin1:1),(bin2:CA),(bin3:301))\n",
      "(gen:1),(exp:450895691),(bins:(bin1:1),(bin2:CA),(bin3:301))\n"
     ]
    }
   ],
   "source": [
    "System.out.println(client.get(null, key1));\n",
    "System.out.println(client.get(null, key2));\n",
    "System.out.println(client.get(null, key3));"
   ]
  },
  {
   "cell_type": "code",
   "execution_count": 13,
   "id": "64fbf8eb",
   "metadata": {
    "scrolled": true
   },
   "outputs": [
    {
     "name": "stdout",
     "output_type": "stream",
     "text": [
      "Batch Write Status: false\n",
      "Result[0]: (gen:6),(exp:450896090),(bins:(bin1:111),(bin2:MA),(bin3:311))\n",
      "Result[1]: error: Bin type error\n",
      "Result[2]: (gen:6),(exp:450896090),(bins:(bin1:133),(bin2:TX),(bin3:333))\n"
     ]
    }
   ],
   "source": [
    "import com.aerospike.client.BatchRecord;\n",
    "import com.aerospike.client.BatchResults;\n",
    "import com.aerospike.client.BatchWrite;\n",
    "\n",
    "Key key1 = new Key(\"test\", \"testSet\", 1); \n",
    "Key key2 = new Key(\"test\", \"testSet\", 2); \n",
    "Key key3 = new Key(\"test\", \"testSet\", 3);\n",
    "\n",
    "BatchPolicy batchPolicy = new BatchPolicy();\n",
    "BatchWritePolicy batchWritePolicy = new BatchWritePolicy();\n",
    "\n",
    "//We will specify what to do for each record in this list\n",
    "List<BatchRecord> batchRecords = new ArrayList<BatchRecord>();\n",
    "\n",
    "// Operations to do on key1\n",
    "Operation [] key1ops = Operation.array(\n",
    "                        Operation.put(new Bin(\"bin1\", 111)),\n",
    "                        Operation.put(new Bin(\"bin2\", \"MA\")),\n",
    "                        Operation.put(new Bin(\"bin3\", 311))\n",
    "                       );\n",
    "                       \n",
    "                       \n",
    "batchRecords.add(new BatchWrite(key1, key1ops)); \n",
    "\n",
    "// Operations to do on key2  (add in bin2, type string, error expected)\n",
    "Operation [] key2ops = Operation.array(\n",
    "                        Operation.put(new Bin(\"bin1\", 122)),\n",
    "                        Operation.add(new Bin(\"bin2\", 1)),\n",
    "                        Operation.put(new Bin(\"bin3\", 322))\n",
    "                       );\n",
    "                       \n",
    "                       \n",
    "batchRecords.add(new BatchWrite(key2, key2ops)); \n",
    "\n",
    "// Operations to do on key3\n",
    "Operation [] key3ops = Operation.array(\n",
    "                        Operation.put(new Bin(\"bin1\", 133)),\n",
    "                        Operation.put(new Bin(\"bin2\", \"TX\")),\n",
    "                        Operation.put(new Bin(\"bin3\", 333))\n",
    "                       );\n",
    "                       \n",
    "                       \n",
    "batchRecords.add(new BatchWrite(key3, key3ops)); \n",
    "\n",
    "boolean bDone = client.operate(batchPolicy, batchRecords);\n",
    "\n",
    "System.out.println(\"Batch Write Status: \" + bDone);\n",
    "\n",
    "// Individual results of Write operations with BatchWrite.\n",
    "for(int i = 0; i<3; i++){\n",
    "  BatchRecord batchRec = batchRecords.get(i);\n",
    "  Record rec = batchRec.record;\n",
    "  Key key = batchRec.key;\n",
    "  if (batchRec.resultCode == ResultCode.OK) {\n",
    "    System.out.format(\"Result[%d]: %s\\n\",i, client.get(null, new Key(\"test\", \"testSet\", (i+1))));\n",
    "  }\n",
    "  else {\n",
    "    System.out.format(\"Result[%d]: error: %s\\n\", i, ResultCode.getResultString(batchRec.resultCode));\n",
    "  }\n",
    "}\n"
   ]
  },
  {
   "cell_type": "code",
   "execution_count": 14,
   "id": "260b6109",
   "metadata": {},
   "outputs": [
    {
     "name": "stdout",
     "output_type": "stream",
     "text": [
      "(gen:6),(exp:450896090),(bins:(bin1:111),(bin2:MA),(bin3:311))\n",
      "(gen:1),(exp:450895691),(bins:(bin1:1),(bin2:CA),(bin3:301))\n",
      "(gen:6),(exp:450896090),(bins:(bin1:133),(bin2:TX),(bin3:333))\n"
     ]
    }
   ],
   "source": [
    "System.out.println(client.get(null, key1));\n",
    "System.out.println(client.get(null, key2));\n",
    "System.out.println(client.get(null, key3));"
   ]
  },
  {
   "cell_type": "markdown",
   "id": "3eb11be9-113a-4c3e-8d69-4ccc3372a768",
   "metadata": {},
   "source": [
    "# Cleanup"
   ]
  },
  {
   "cell_type": "code",
   "execution_count": 15,
   "id": "d12abcba-0d57-4147-a191-7281f590c439",
   "metadata": {},
   "outputs": [],
   "source": [
    "%sh asadm --enable -e \"manage truncate ns test --no-warn\" -h \"127.0.0.1\""
   ]
  },
  {
   "cell_type": "code",
   "execution_count": null,
   "id": "a60282f1-2947-4f0d-aa8d-b439ecb756af",
   "metadata": {},
   "outputs": [],
   "source": []
  }
 ],
 "metadata": {
  "kernelspec": {
   "display_name": "Java",
   "language": "java",
   "name": "java"
  },
  "language_info": {
   "codemirror_mode": "java",
   "file_extension": ".jshell",
   "mimetype": "text/x-java-source",
   "name": "Java",
   "pygments_lexer": "java",
   "version": "17.0.10+8-LTS"
  }
 },
 "nbformat": 4,
 "nbformat_minor": 5
}
