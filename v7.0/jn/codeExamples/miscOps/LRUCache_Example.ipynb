{
 "cells": [
  {
   "cell_type": "markdown",
   "id": "96ae422c-0ea8-4cf8-883c-2e9d4be851c9",
   "metadata": {},
   "source": [
    "# LRU Cache Example\n",
    "A record bin has a Map of Maps:  {“profile”:{“lut”:1714481010041, “meta”:{“provider”:“VI”}, “nlt”:1715085810041, “pct”:1714481010041, “status”:3}}\n",
    "\n",
    "Need to build an SI on _status_ key's integer value (e.g. 3) and run an SI query on it.\n"
   ]
  },
  {
   "cell_type": "markdown",
   "id": "28b3e822",
   "metadata": {},
   "source": [
    "### Housekeeping - Setup & wipe out any prior records on the Aerospike Server\n",
    "\n",
    "We have a namespace **_test_** pre-defined on the server. Lets truncate it using _asadm_.\n",
    "\n",
    "This is needed while doing code development. If you want to clear the iJava Kernel of all Java objects and run all cells from scratch, Kernel->Restart & Run All, this will ensure any records written on the underlying Aerospike cluster are purged.\n",
    "\n",
    "First, we need required imports for using %sh in interactive Java Kernel. (This is specific to the iJava Kernel implementation by **Spencer Park** that we are using.)"
   ]
  },
  {
   "cell_type": "code",
   "execution_count": 1,
   "id": "eb85febe",
   "metadata": {},
   "outputs": [],
   "source": [
    "import io.github.spencerpark.ijava.IJava;\n",
    "import io.github.spencerpark.jupyter.kernel.magic.common.Shell;\n",
    "IJava.getKernelInstance().getMagics().registerMagics(Shell.class);"
   ]
  },
  {
   "cell_type": "markdown",
   "id": "1b305b92",
   "metadata": {},
   "source": [
    "### Running _asadm_ in iJava\n",
    "We can run _asadm_ commands inline. Below, we will use the truncation command, which normally requires an interactive confirmation, which we will skip by using the _--no-warn_ flag. No output will be displayed. \n",
    "\n"
   ]
  },
  {
   "cell_type": "code",
   "execution_count": 55,
   "id": "0f11685a",
   "metadata": {},
   "outputs": [],
   "source": [
    "%sh asadm --enable -e \"manage truncate ns test --no-warn\" -h \"127.0.0.1\""
   ]
  },
  {
   "cell_type": "markdown",
   "id": "4b23c8bf",
   "metadata": {},
   "source": [
    "#### Add Java Client POM Dependency  \n",
    "Jupyter Notebook way!"
   ]
  },
  {
   "cell_type": "code",
   "execution_count": 3,
   "id": "c7d10ca8",
   "metadata": {},
   "outputs": [],
   "source": [
    "%%loadFromPOM\n",
    "<dependencies>\n",
    "  <dependency>\n",
    "    <groupId>com.aerospike</groupId>\n",
    "    <artifactId>aerospike-client-jdk8</artifactId>\n",
    "    <version>8.1.1</version>\n",
    "  </dependency>\n",
    "</dependencies>"
   ]
  },
  {
   "cell_type": "markdown",
   "id": "e03decf9",
   "metadata": {},
   "source": [
    "####  Java Client Imports and Test code"
   ]
  },
  {
   "cell_type": "code",
   "execution_count": 47,
   "id": "b5ec301d",
   "metadata": {
    "scrolled": true
   },
   "outputs": [],
   "source": [
    "//Required Imports\n",
    "import com.aerospike.client.AerospikeClient;\n",
    "import com.aerospike.client.policy.WritePolicy;\n",
    "import com.aerospike.client.Bin;\n",
    "import com.aerospike.client.Key;\n",
    "import com.aerospike.client.Record;\n",
    "\n",
    "\n",
    "//Building map values\n",
    "import com.aerospike.client.cdt.MapOperation;\n",
    "import com.aerospike.client.cdt.MapPolicy;\n",
    "import com.aerospike.client.cdt.MapOrder;\n",
    "import com.aerospike.client.cdt.MapWriteFlags;\n",
    "import com.aerospike.client.Value.MapValue;\n",
    "import com.aerospike.client.Value;\n",
    "import java.util.HashMap;\n",
    "import java.util.Map;\n",
    "\n",
    "//SI query related\n",
    "import com.aerospike.client.policy.Policy;\n",
    "import com.aerospike.client.policy.QueryPolicy;\n",
    "import com.aerospike.client.query.Filter;\n",
    "import com.aerospike.client.query.Statement;\n",
    "import com.aerospike.client.cdt.CTX;\n",
    "import com.aerospike.client.query.RecordSet;\n",
    "import com.aerospike.client.query.IndexCollectionType;\n",
    "\n",
    "//Batch read related\n",
    "import com.aerospike.client.policy.BatchPolicy;\n",
    "import com.aerospike.client.ResultCode;\n",
    "\n",
    "AerospikeClient client = new AerospikeClient(\"127.0.0.1\", 3000);"
   ]
  },
  {
   "cell_type": "code",
   "execution_count": 88,
   "id": "39def811-dbb2-4cc3-babf-2fb4682997db",
   "metadata": {},
   "outputs": [],
   "source": [
    "%sh asadm --enable -e \"manage sindex create numeric idx_mapval ns test set testset bin myMapBin1 ctx map_index(0) map_key(status) \" -h \"127.0.0.1\""
   ]
  },
  {
   "cell_type": "code",
   "execution_count": 89,
   "id": "28880bef-4bea-469c-83b5-2c68aba933f8",
   "metadata": {},
   "outputs": [
    {
     "name": "stdout",
     "output_type": "stream",
     "text": [
      "Rec added: (gen:1),(exp:453091085),(bins:(myMapBin1:{profile={pct=1714481010041, lut=1714481010041, meta={provider=VI3}, nlt=1715085810041, status=3}}))\n",
      "Rec added: (gen:1),(exp:453091085),(bins:(myMapBin1:{profile={pct=1714481010041, lut=1714481010041, meta={provider=VI2}, nlt=1715085810041, status=4}}))\n",
      "Rec added: (gen:1),(exp:453091085),(bins:(myMapBin1:{profile={pct=1714481010041, lut=1714481010041, meta={provider=VI4}, nlt=1715085810041, status=4}}))\n",
      "Rec added: (gen:1),(exp:453091085),(bins:(myMapBin1:{profile={pct=1714481010041, lut=1714481010041, meta={provider=VI6}, nlt=1715085810041, status=6}}))\n",
      "Rec added: (gen:1),(exp:453091085),(bins:(myMapBin1:{profile={pct=1714481010041, lut=1714481010041, meta={provider=VI2}, nlt=1715085810041, status=2}}))\n",
      "Rec added: (gen:1),(exp:453091085),(bins:(myMapBin1:{profile={pct=1714481010041, lut=1714481010041, meta={provider=VI3}, nlt=1715085810041, status=3}}))\n"
     ]
    }
   ],
   "source": [
    "//Add record data\n",
    "\n",
    "//{“profile”:{“lut”:1714481010041, “meta”:{“provider”:“VI”}, “nlt”:1715085810041, “pct”:1714481010041, “status”:3}}\n",
    "\n",
    "void addRecord(Integer keyIndex, String mapBinName, Integer statusVal, Long pctValue, Long nltValue, Long lutValue, String providerVal){\n",
    "    MapPolicy mPolicy = new MapPolicy(MapOrder.UNORDERED, MapWriteFlags.DEFAULT);\n",
    "    WritePolicy wPolicy = new WritePolicy();\n",
    "    wPolicy.expiration = 10;\n",
    "    wPolicy.sendKey = true;  //Optional, if you want to inspect the record key\n",
    "    Key myRecKey = new Key(\"test\", \"testset\", Value.get(\"key\"+keyIndex));\n",
    "    HashMap <String, Value> profileObj = new HashMap <String, Value>();\n",
    "    profileObj.put(\"status\", Value.get(statusVal));   \n",
    "    profileObj.put(\"pct\", Value.get(pctValue)); \n",
    "    profileObj.put(\"nlt\", Value.get(nltValue)); \n",
    "    profileObj.put(\"lut\", Value.get(lutValue)); \n",
    "    \n",
    "    HashMap <String, String> metaObj = new HashMap <String, String>();\n",
    "    metaObj.put(\"provider\", providerVal);\n",
    "\n",
    "    profileObj.put(\"meta\", new MapValue(metaObj)); \n",
    "\n",
    "    client.operate(wPolicy, myRecKey, \n",
    "       MapOperation.put(mPolicy, mapBinName, Value.get(\"profile\"), new MapValue(profileObj) )               \n",
    "    );\n",
    "    System.out.println(\"Rec added: \"+ client.get(null, myRecKey));\n",
    "}\n",
    "\n",
    "//Add few records ... \n",
    "String binName = \"myMapBin1\";\n",
    "addRecord(1, binName, 3, 1714481010041L, 1715085810041L, 1714481010041L, \"VI3\");\n",
    "addRecord(2, binName, 4, 1714481010041L, 1715085810041L, 1714481010041L, \"VI2\");\n",
    "addRecord(3, binName, 4, 1714481010041L, 1715085810041L, 1714481010041L, \"VI4\");\n",
    "addRecord(4, binName, 6, 1714481010041L, 1715085810041L, 1714481010041L, \"VI6\");\n",
    "addRecord(5, binName, 2, 1714481010041L, 1715085810041L, 1714481010041L, \"VI2\");\n",
    "addRecord(6, binName, 3, 1714481010041L, 1715085810041L, 1714481010041L, \"VI3\");\n"
   ]
  },
  {
   "cell_type": "code",
   "execution_count": 84,
   "id": "c8e4f2df-747d-4b2c-87e6-e097fbf3f49b",
   "metadata": {},
   "outputs": [
    {
     "name": "stdout",
     "output_type": "stream",
     "text": [
      "key=key1 bins=(gen:1),(exp:453091287),(bins:(myMapBin1:{profile={pct=1714481010041, lut=1714481010041, meta={provider=VI3}, nlt=1715085810041, status=3}}))\n",
      "key=key6 bins=(gen:1),(exp:453091287),(bins:(myMapBin1:{profile={pct=1714481010041, lut=1714481010041, meta={provider=VI3}, nlt=1715085810041, status=3}}))\n"
     ]
    }
   ],
   "source": [
    "//Run SI query\n",
    "\n",
    "Filter filter = Filter.equal(\"myMapBin1\", 3,\n",
    "   CTX.mapIndex(0), CTX.mapKey(Value.get(\"status\")));\n",
    "\n",
    "//Note: Use same CTX construct as the SI declaration\n",
    "// While CTX.mapKey(\"profile\"), CTX.mapKey(\"status\")\n",
    "// will point to same value, it will result in sindex not found error.\n",
    "QueryPolicy qPolicy = new QueryPolicy();\n",
    "qPolicy.readTouchTtlPercent = 80;\n",
    "\n",
    "Statement stmt = new Statement();\n",
    "stmt.setNamespace(\"test\");\n",
    "stmt.setSetName(\"testset\");\n",
    "stmt.setFilter(filter);\n",
    "RecordSet rs = client.query(qPolicy, stmt);\n",
    "while (rs.next()) {\n",
    "   Key key = rs.getKey();\n",
    "   Record record = rs.getRecord();\n",
    "   System.out.format(\"key=%s bins=%s\\n\", key.userKey, record);\n",
    "    //System.out.println(record);\n",
    "  }\n",
    "rs.close();\n"
   ]
  },
  {
   "cell_type": "code",
   "execution_count": 18,
   "id": "fb019707-4b5b-43ee-bf93-1257fe596465",
   "metadata": {},
   "outputs": [
    {
     "name": "stdout",
     "output_type": "stream",
     "text": [
      "Rec read: (gen:7),(exp:453089816),(bins:(myMapBin1:{profile={pct=1714481010041, lut=1714481010041, meta={provider=VI3}, nlt=1715085810041, status=3}}))\n",
      "Rec read: (gen:7),(exp:453089816),(bins:(myMapBin1:{profile={pct=1714481010041, lut=1714481010041, meta={provider=VI4}, nlt=1715085810041, status=4}}))\n"
     ]
    }
   ],
   "source": [
    "Policy rPolicy = new Policy();\n",
    "rPolicy.readTouchTtlPercent = 80;\n",
    "Key myKey1 = new Key(\"test\", \"testset\", Value.get(\"key1\"));\n",
    "System.out.println(\"Rec read: \"+ client.get(rPolicy, myKey1));\n",
    "rPolicy.readTouchTtlPercent = 0;\n",
    "Key myKey3 = new Key(\"test\", \"testset\", Value.get(\"key3\"));\n",
    "System.out.println(\"Rec read: \"+ client.get(rPolicy, myKey3));"
   ]
  },
  {
   "cell_type": "code",
   "execution_count": 85,
   "id": "026b9253-9ba7-45ea-9631-d3475901ed5b",
   "metadata": {},
   "outputs": [
    {
     "name": "stdout",
     "output_type": "stream",
     "text": [
      "Result[0]: (gen:1),(exp:453091287),(bins:(myMapBin1:{profile={pct=1714481010041, lut=1714481010041, meta={provider=VI3}, nlt=1715085810041, status=3}}))\n",
      "Result[1]: (gen:1),(exp:453091287),(bins:(myMapBin1:{profile={pct=1714481010041, lut=1714481010041, meta={provider=VI2}, nlt=1715085810041, status=4}}))\n",
      "Result[2]: (gen:1),(exp:453091287),(bins:(myMapBin1:{profile={pct=1714481010041, lut=1714481010041, meta={provider=VI4}, nlt=1715085810041, status=4}}))\n",
      "Result[3]: (gen:1),(exp:453091287),(bins:(myMapBin1:{profile={pct=1714481010041, lut=1714481010041, meta={provider=VI6}, nlt=1715085810041, status=6}}))\n"
     ]
    }
   ],
   "source": [
    "//Do a batch read\n",
    "BatchPolicy batchPolicy = new BatchPolicy();\n",
    "batchPolicy.respondAllKeys = true;\n",
    "batchPolicy.readTouchTtlPercent = 80;\n",
    "Key key1 = new Key(\"test\", \"testset\", Value.get(\"key1\"));\n",
    "Key key2 = new Key(\"test\", \"testset\", Value.get(\"key2\"));\n",
    "Key key3 = new Key(\"test\", \"testset\", Value.get(\"key3\"));\n",
    "Key key4 = new Key(\"test\", \"testset\", Value.get(\"key4\"));\n",
    "Record [] bReads = client.get(batchPolicy, new Key[] {key1, key2, key3, key4});\n",
    "\n",
    "// process the batch reads\n",
    "for (int i = 0; i < bReads.length; i++) {\n",
    "    Record bRead = bReads[i];    \n",
    "    if (bRead != null) { //Check individual record\n",
    "                 \n",
    "        System.out.format(\"Result[%d]: \",i);\n",
    "        System.out.println(bRead);\n",
    "    }\n",
    "    else {   //Expired records return null\n",
    "        System.out.format(\"Record[%d] not found. \\n\", i);\n",
    "    }\n",
    "}\n"
   ]
  },
  {
   "cell_type": "markdown",
   "id": "5261f90d-244b-4121-84aa-71ffbee7fc61",
   "metadata": {},
   "source": [
    "# Cleanup"
   ]
  },
  {
   "cell_type": "code",
   "execution_count": 90,
   "id": "643df9cb-7384-4bdf-922b-efa9f2e4153e",
   "metadata": {},
   "outputs": [],
   "source": [
    "%sh asadm --enable -e \"manage sindex delete idx_mapval ns test set testset\" -h \"127.0.0.1\""
   ]
  },
  {
   "cell_type": "code",
   "execution_count": 91,
   "id": "2b40a05e-75af-46dc-b22e-fe5ffd23147e",
   "metadata": {},
   "outputs": [],
   "source": [
    "%sh asadm --enable -e \"manage truncate ns test --no-warn\" -h \"127.0.0.1\""
   ]
  },
  {
   "cell_type": "code",
   "execution_count": null,
   "id": "019f52ae-7225-4419-a04f-ba3587fd17fb",
   "metadata": {},
   "outputs": [],
   "source": []
  }
 ],
 "metadata": {
  "kernelspec": {
   "display_name": "Java",
   "language": "java",
   "name": "java"
  },
  "language_info": {
   "codemirror_mode": "java",
   "file_extension": ".jshell",
   "mimetype": "text/x-java-source",
   "name": "Java",
   "pygments_lexer": "java",
   "version": "17.0.10+8-LTS"
  }
 },
 "nbformat": 4,
 "nbformat_minor": 5
}
