{
 "cells": [
  {
   "cell_type": "markdown",
   "id": "4294f763-8529-4ffe-8e15-52c74854c644",
   "metadata": {},
   "source": [
    "# Using Expressions to compute Monte Carlo Simulation"
   ]
  },
  {
   "cell_type": "markdown",
   "id": "28b3e822",
   "metadata": {},
   "source": [
    "### Housekeeping - Setup & wipe out any prior records on the Aerospike Server\n",
    "\n",
    "We have a namespace **_test_** pre-defined on the server. Lets truncate it using _asadm_.\n",
    "\n",
    "This is needed while doing code development. If you want to clear the iJava Kernel of all Java objects and run all cells from scratch, Kernel->Restart & Run All, this will ensure any records written on the underlying Aerospike cluster are purged.\n",
    "\n",
    "First, we need required imports for using %sh in interactive Java Kernel. (This is specific to the iJava Kernel implementation by **Spencer Park** that we are using.)"
   ]
  },
  {
   "cell_type": "code",
   "execution_count": 1,
   "id": "eb85febe",
   "metadata": {},
   "outputs": [],
   "source": [
    "import io.github.spencerpark.ijava.IJava;\n",
    "import io.github.spencerpark.jupyter.kernel.magic.common.Shell;\n",
    "IJava.getKernelInstance().getMagics().registerMagics(Shell.class);"
   ]
  },
  {
   "cell_type": "markdown",
   "id": "1b305b92",
   "metadata": {},
   "source": [
    "### Running _asadm_ in iJava\n",
    "We can run _asadm_ commands inline. Below, we will use the truncation command, which normally requires an interactive confirmation, which we will skip by using the _--no-warn_ flag. No output will be displayed."
   ]
  },
  {
   "cell_type": "code",
   "execution_count": 2,
   "id": "0f11685a",
   "metadata": {},
   "outputs": [],
   "source": [
    "%sh asadm --enable -e \"manage truncate ns test --no-warn\" -h \"127.0.0.1\""
   ]
  },
  {
   "cell_type": "markdown",
   "id": "4b23c8bf",
   "metadata": {},
   "source": [
    "#### Add Java Client POM Dependency  \n",
    "Jupyter Notebook way!"
   ]
  },
  {
   "cell_type": "code",
   "execution_count": 3,
   "id": "c7d10ca8",
   "metadata": {},
   "outputs": [],
   "source": [
    "%%loadFromPOM\n",
    "<dependencies>\n",
    "  <dependency>\n",
    "    <groupId>com.aerospike</groupId>\n",
    "    <artifactId>aerospike-client-jdk8</artifactId>\n",
    "    <version>8.1.1</version>\n",
    "  </dependency>\n",
    "</dependencies>"
   ]
  },
  {
   "cell_type": "markdown",
   "id": "e03decf9",
   "metadata": {},
   "source": [
    "####  Java Client Imports and Test code"
   ]
  },
  {
   "cell_type": "code",
   "execution_count": 4,
   "id": "b5ec301d",
   "metadata": {
    "scrolled": true
   },
   "outputs": [],
   "source": [
    "//Required Imports\n",
    "import com.aerospike.client.AerospikeClient;\n",
    "import com.aerospike.client.policy.WritePolicy;\n",
    "import com.aerospike.client.Bin;\n",
    "import com.aerospike.client.Key;\n",
    "import com.aerospike.client.Record;\n",
    "import com.aerospike.client.Value;\n",
    "\n",
    "import com.aerospike.client.Operation;\n",
    "\n",
    "import com.aerospike.client.exp.Exp;\n",
    "import com.aerospike.client.exp.ExpOperation;\n",
    "import com.aerospike.client.exp.ExpWriteFlags;\n",
    "import com.aerospike.client.exp.Expression;\n",
    "import com.aerospike.client.exp.ExpReadFlags;\n",
    "\n",
    "import java.util.Random;\n",
    "\n"
   ]
  },
  {
   "cell_type": "code",
   "execution_count": 5,
   "id": "15ec4c7e",
   "metadata": {
    "scrolled": true
   },
   "outputs": [
    {
     "name": "stdout",
     "output_type": "stream",
     "text": [
      "(gen:1),(exp:450899945),(bins:(x:0.0),(y:0.0),(inCount:1.0),(count:1.0))\n"
     ]
    }
   ],
   "source": [
    "AerospikeClient client = new AerospikeClient(\"127.0.0.1\", 3000);\n",
    "\n",
    "//Initialize our single aggregation record, center of circle \n",
    "\n",
    "Key key1 = new Key(\"test\", \"points\", 1); \n",
    "Bin xcoord = new Bin(\"x\", 0.0);\n",
    "Bin ycoord = new Bin(\"y\", 0.0);\n",
    "Bin inCount = new Bin(\"inCount\", 1.0);\n",
    "Bin totalCount = new Bin (\"count\", 1.0);\n",
    "WritePolicy wPolicy = new WritePolicy();\n",
    "client.put(wPolicy, key1, xcoord, ycoord, inCount, totalCount );\n",
    "//Check\n",
    "System.out.println(client.get(null, key1));\n",
    "\n"
   ]
  },
  {
   "cell_type": "code",
   "execution_count": 6,
   "id": "4293c9dd",
   "metadata": {},
   "outputs": [],
   "source": [
    "//Insert a record using a class based construct\n",
    "class Point {\n",
    "    \n",
    "  public void insertPoint (Key key1, double xval, double yval, boolean bCheck) {\n",
    "    Bin xcoord = new Bin(\"x\", xval);\n",
    "    Bin ycoord = new Bin(\"y\", yval);\n",
    "    WritePolicy wPolicy1 = new WritePolicy();\n",
    "      \n",
    "    Expression inCircleExp = Exp.build(\n",
    "       Exp.cond(\n",
    "        Exp.le(\n",
    "          Exp.add(\n",
    "            Exp.mul(Exp.floatBin(\"x\"), Exp.floatBin(\"x\")), \n",
    "            Exp.mul(Exp.floatBin(\"y\"), Exp.floatBin(\"y\"))\n",
    "          ),\n",
    "          Exp.val(1.0)\n",
    "        ),\n",
    "       Exp.add(Exp.floatBin(\"inCount\"), Exp.val(1.0)),\n",
    "       Exp.floatBin(\"inCount\")\n",
    "       ));\n",
    "        \n",
    "    Expression totalCountExp = Exp.build(Exp.add(Exp.floatBin(\"count\"), Exp.val(1.0)));\n",
    " \n",
    "    Record record = client.operate( wPolicy1, key1,   \n",
    "          Operation.put(xcoord),\n",
    "          Operation.put(ycoord),                   \n",
    "          ExpOperation.write(\"inCount\", inCircleExp, ExpWriteFlags.DEFAULT),\n",
    "          ExpOperation.write(\"count\", totalCountExp, ExpWriteFlags.DEFAULT)\n",
    "                                  );                 \n",
    "    if(bCheck){\n",
    "      System.out.println(client.get(null, key1));\n",
    "    }   \n",
    "  }\n",
    "    \n",
    "  public void getPi(Key key1){\n",
    "      WritePolicy wPolicy = new WritePolicy();\n",
    "      Expression piExp = Exp.build(\n",
    "          Exp.mul(Exp.val(4.0), \n",
    "                  Exp.div(Exp.floatBin(\"inCount\"),Exp.floatBin(\"count\"))\n",
    "                 ));\n",
    "      \n",
    "      Record record = client.operate(wPolicy, key1, ExpOperation.read(\"pi\", piExp, ExpReadFlags.DEFAULT));\n",
    "      System.out.println(\"Pi : \" + record.getValue(\"pi\"));\n",
    "  }\n",
    "  \n",
    "}\n"
   ]
  },
  {
   "cell_type": "code",
   "execution_count": 7,
   "id": "b9ea9e1f",
   "metadata": {},
   "outputs": [
    {
     "name": "stdout",
     "output_type": "stream",
     "text": [
      "(gen:2),(exp:450899949),(bins:(x:0.71),(y:0.71),(inCount:1.0),(count:2.0))\n"
     ]
    }
   ],
   "source": [
    "//Check\n",
    "Point p = new Point();\n",
    "p.insertPoint(key1, 0.71, 0.71, true);  //Out of circle, in rectangle"
   ]
  },
  {
   "cell_type": "code",
   "execution_count": 8,
   "id": "e02c1a7a",
   "metadata": {},
   "outputs": [],
   "source": [
    "//Insert random points with x,y between 0.0 and 1.0\n",
    "\n",
    "Random rnd1 = new Random(0);  \n",
    "\n",
    "for(int i=1;i<10000;i++){\n",
    "  double xval = rnd1.nextDouble();\n",
    "  double yval = rnd1.nextDouble();\n",
    "  p.insertPoint(key1, xval, yval, false);  \n",
    "}"
   ]
  },
  {
   "cell_type": "code",
   "execution_count": 9,
   "id": "2affbbf2",
   "metadata": {},
   "outputs": [
    {
     "name": "stdout",
     "output_type": "stream",
     "text": [
      "Pi : 3.142085791420858\n"
     ]
    }
   ],
   "source": [
    "p.getPi(key1);"
   ]
  },
  {
   "cell_type": "markdown",
   "id": "e7ff5bdc-673b-4d50-b4d7-e44a19699e04",
   "metadata": {},
   "source": [
    "# Cleanup"
   ]
  },
  {
   "cell_type": "code",
   "execution_count": 10,
   "id": "816d7dc5-1c36-46ad-971e-9163e4e0d3e3",
   "metadata": {},
   "outputs": [],
   "source": [
    "%sh asadm --enable -e \"manage truncate ns test --no-warn\" -h \"127.0.0.1\""
   ]
  },
  {
   "cell_type": "code",
   "execution_count": null,
   "id": "ec05c965-9bbe-4b76-b84e-d537d8ecd3a9",
   "metadata": {},
   "outputs": [],
   "source": []
  }
 ],
 "metadata": {
  "kernelspec": {
   "display_name": "Java",
   "language": "java",
   "name": "java"
  },
  "language_info": {
   "codemirror_mode": "java",
   "file_extension": ".jshell",
   "mimetype": "text/x-java-source",
   "name": "Java",
   "pygments_lexer": "java",
   "version": "17.0.10+8-LTS"
  }
 },
 "nbformat": 4,
 "nbformat_minor": 5
}
