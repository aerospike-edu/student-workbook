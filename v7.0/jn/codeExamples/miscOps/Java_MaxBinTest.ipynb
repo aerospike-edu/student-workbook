{
 "cells": [
  {
   "cell_type": "markdown",
   "id": "f00fa9eb-c0a8-4559-9363-11348973ae2f",
   "metadata": {},
   "source": [
    "# Max Bin Names per namespace\n",
    "Use this code to test. Current server 7.x\n",
    "Maximum bin names per namespace:\n",
    "- Server 7: unlimited.\n",
    "- Server 5 and 6: 65,535.\n",
    "- Server 4 and earlier: 32,767."
   ]
  },
  {
   "cell_type": "markdown",
   "id": "28b3e822",
   "metadata": {},
   "source": [
    "### Housekeeping - Setup & wipe out any prior records on the Aerospike Server\n",
    "\n",
    "We have a namespace **_test_** pre-defined on the server. Lets truncate it using _asadm_.\n",
    "\n",
    "This is needed while doing code development. If you want to clear the iJava Kernel of all Java objects and run all cells from scratch, Kernel->Restart & Run All, this will ensure any records written on the underlying Aerospike cluster are purged.\n",
    "\n",
    "First, we need required imports for using %sh in interactive Java Kernel. (This is specific to the iJava Kernel implementation by **Spencer Park** that we are using.)"
   ]
  },
  {
   "cell_type": "code",
   "execution_count": 1,
   "id": "eb85febe",
   "metadata": {},
   "outputs": [],
   "source": [
    "import io.github.spencerpark.ijava.IJava;\n",
    "import io.github.spencerpark.jupyter.kernel.magic.common.Shell;\n",
    "IJava.getKernelInstance().getMagics().registerMagics(Shell.class);"
   ]
  },
  {
   "cell_type": "markdown",
   "id": "1b305b92",
   "metadata": {},
   "source": [
    "### Running _asadm_ in iJava\n",
    "We can run _asadm_ commands inline. Below, we will use the truncation command, which normally requires an interactive confirmation, which we will skip by using the _--no-warn_ flag. No output will be displayed."
   ]
  },
  {
   "cell_type": "code",
   "execution_count": 2,
   "id": "0f11685a",
   "metadata": {},
   "outputs": [],
   "source": [
    "%sh asadm --enable -e \"manage truncate ns test --no-warn\" -h \"127.0.0.1\""
   ]
  },
  {
   "cell_type": "markdown",
   "id": "4b23c8bf",
   "metadata": {},
   "source": [
    "#### Add Java Client POM Dependency  \n",
    "Jupyter Notebook way!"
   ]
  },
  {
   "cell_type": "code",
   "execution_count": 3,
   "id": "c7d10ca8",
   "metadata": {},
   "outputs": [],
   "source": [
    "%%loadFromPOM\n",
    "<dependencies>\n",
    "  <dependency>\n",
    "    <groupId>com.aerospike</groupId>\n",
    "    <artifactId>aerospike-client-jdk8</artifactId>\n",
    "    <version>8.1.1</version>\n",
    "  </dependency>\n",
    "</dependencies>"
   ]
  },
  {
   "cell_type": "markdown",
   "id": "e03decf9",
   "metadata": {},
   "source": [
    "####  Java Client Imports and Test code"
   ]
  },
  {
   "cell_type": "code",
   "execution_count": 4,
   "id": "b5ec301d",
   "metadata": {
    "scrolled": true
   },
   "outputs": [],
   "source": [
    "//Required Imports\n",
    "import com.aerospike.client.AerospikeClient;\n",
    "import com.aerospike.client.policy.WritePolicy;\n",
    "import com.aerospike.client.Bin;\n",
    "import com.aerospike.client.Key;\n",
    "import com.aerospike.client.Record;\n",
    "import com.aerospike.client.Value;\n",
    "\n",
    "//import com.aerospike.client.cdt.ListPolicy;\n",
    "//import com.aerospike.client.cdt.ListOperation;\n",
    "//import com.aerospike.client.cdt.ListOrder;\n",
    "//import com.aerospike.client.cdt.ListWriteFlags;\n",
    "//import com.aerospike.client.cdt.ListReturnType;\n",
    "\n",
    "//import com.aerospike.client.cdt.MapPolicy;\n",
    "//import com.aerospike.client.cdt.MapOrder;\n",
    "//import com.aerospike.client.cdt.MapWriteFlags;\n",
    "//import com.aerospike.client.cdt.MapReturnType;\n",
    "\n",
    "//import com.aerospike.client.exp.MapExp;\n",
    "//import com.aerospike.client.cdt.CTX;\n",
    "//import java.util.HashMap;\n",
    "//import java.util.Map;\n",
    "\n",
    "import com.aerospike.client.Operation;\n",
    "import com.aerospike.client.query.Statement;\n",
    "import com.aerospike.client.exp.Exp;\n",
    "//import com.aerospike.client.cdt.MapOperation;\n",
    "\n",
    "//import com.aerospike.client.policy.BatchPolicy;\n",
    "\n",
    "//import java.util.Random;\n",
    "\n"
   ]
  },
  {
   "cell_type": "code",
   "execution_count": 5,
   "id": "15ec4c7e",
   "metadata": {
    "scrolled": true
   },
   "outputs": [],
   "source": [
    "AerospikeClient client = new AerospikeClient(\"127.0.0.1\", 3000);\n"
   ]
  },
  {
   "cell_type": "code",
   "execution_count": 6,
   "id": "0ecc77be",
   "metadata": {},
   "outputs": [],
   "source": [
    "//Insert a record using a class based construct\n",
    "class userProfile {\n",
    "  public void createProfile (Key user, String binName, String name, boolean bCheck) {    \n",
    "    Bin bName = new Bin(binName, name);\n",
    "    WritePolicy wPolicy1 = new WritePolicy();\n",
    "    client.put(wPolicy1, user, bName);\n",
    "    if(bCheck){\n",
    "      System.out.println(client.get(null, user));\n",
    "    }   \n",
    "  }\n",
    "}"
   ]
  },
  {
   "cell_type": "code",
   "execution_count": 7,
   "id": "885733f2",
   "metadata": {},
   "outputs": [
    {
     "name": "stdout",
     "output_type": "stream",
     "text": [
      "(gen:1),(exp:450900550),(bins:(bin0:bin0))\n"
     ]
    }
   ],
   "source": [
    "userProfile pf = new userProfile();\n",
    "int keyId = 0;\n",
    "Key user = new Key(\"test\", \"testset\", keyId); \n",
    "pf.createProfile(user, \"bin0\", \"bin0\", true);"
   ]
  },
  {
   "cell_type": "code",
   "execution_count": 10,
   "id": "19577f65",
   "metadata": {},
   "outputs": [
    {
     "name": "stdout",
     "output_type": "stream",
     "text": [
      "(gen:1),(exp:450900607),(bins:(bin100404:bin100404))\n"
     ]
    }
   ],
   "source": [
    "//int keyId = 0;\n",
    "//for(int i=0; i<5; i++){\n",
    "for(int i=0; i<10000; i++){  \n",
    "    client.delete(null, user);\n",
    "    String var = \"bin\"+i;\n",
    "    //Key user = new Key(ns, setName, keyId); \n",
    "    pf.createProfile(user, var, var, false);\n",
    "}\n",
    "System.out.println(client.get(null, user));"
   ]
  },
  {
   "cell_type": "markdown",
   "id": "d22108b4-3025-4b91-84a4-ac8c8dea492a",
   "metadata": {},
   "source": [
    "# Cleanup"
   ]
  },
  {
   "cell_type": "code",
   "execution_count": 11,
   "id": "81821dd8-69ca-46b3-81f6-5c8f637c07ac",
   "metadata": {},
   "outputs": [],
   "source": [
    "%sh asadm --enable -e \"manage truncate ns test --no-warn\" -h \"127.0.0.1\""
   ]
  },
  {
   "cell_type": "code",
   "execution_count": null,
   "id": "38ab7214-6913-49e6-8208-8cdc099b8ba0",
   "metadata": {},
   "outputs": [],
   "source": []
  }
 ],
 "metadata": {
  "kernelspec": {
   "display_name": "Java",
   "language": "java",
   "name": "java"
  },
  "language_info": {
   "codemirror_mode": "java",
   "file_extension": ".jshell",
   "mimetype": "text/x-java-source",
   "name": "Java",
   "pygments_lexer": "java",
   "version": "17.0.10+8-LTS"
  }
 },
 "nbformat": 4,
 "nbformat_minor": 5
}
