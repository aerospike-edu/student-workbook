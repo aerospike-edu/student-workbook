{
 "cells": [
  {
   "cell_type": "markdown",
   "id": "9037147c",
   "metadata": {},
   "source": [
    "# Using Java Info Class "
   ]
  },
  {
   "cell_type": "markdown",
   "id": "e28e6bcc",
   "metadata": {},
   "source": [
    "# Import to run %sh magic cell"
   ]
  },
  {
   "cell_type": "code",
   "execution_count": 1,
   "id": "b74ed7d1",
   "metadata": {},
   "outputs": [],
   "source": [
    "import io.github.spencerpark.ijava.IJava;\n",
    "import io.github.spencerpark.jupyter.kernel.magic.common.Shell;\n",
    "IJava.getKernelInstance().getMagics().registerMagics(Shell.class);"
   ]
  },
  {
   "cell_type": "markdown",
   "id": "31b0ddb3",
   "metadata": {},
   "source": [
    "# Add Java Client POM Dependency"
   ]
  },
  {
   "cell_type": "code",
   "execution_count": 2,
   "id": "b6447add",
   "metadata": {},
   "outputs": [],
   "source": [
    "%%loadFromPOM\n",
    "<dependencies>\n",
    "  <dependency>\n",
    "    <groupId>com.aerospike</groupId>\n",
    "    <artifactId>aerospike-client-jdk8</artifactId>\n",
    "    <version>8.1.1</version>\n",
    "  </dependency>\n",
    "</dependencies>"
   ]
  },
  {
   "cell_type": "markdown",
   "id": "83cebb5f",
   "metadata": {},
   "source": [
    "# Add required Imports"
   ]
  },
  {
   "cell_type": "code",
   "execution_count": 3,
   "id": "946d225a",
   "metadata": {},
   "outputs": [
    {
     "name": "stdout",
     "output_type": "stream",
     "text": [
      "Client modules imported.\n"
     ]
    }
   ],
   "source": [
    "import com.aerospike.client.AerospikeClient;\n",
    "import com.aerospike.client.Info;\n",
    "import com.aerospike.client.cluster.Node;\n",
    "import java.util.Map;\n",
    "System.out.println(\"Client modules imported.\");"
   ]
  },
  {
   "cell_type": "code",
   "execution_count": null,
   "id": "89510dd5-58a6-484d-8175-55dd497aef8c",
   "metadata": {},
   "outputs": [],
   "source": [
    "%sh asadm --enable -e \"manage truncate ns test --no-warn\" -h \"127.0.0.1\""
   ]
  },
  {
   "cell_type": "markdown",
   "id": "edc9c16d-bac9-4b40-b36d-4e0019735bf9",
   "metadata": {},
   "source": [
    "# Insert 10 records"
   ]
  },
  {
   "cell_type": "code",
   "execution_count": 11,
   "id": "5ddb364b-c00f-496c-b6b5-ace5446a2efa",
   "metadata": {},
   "outputs": [],
   "source": [
    "%sh aql -f \"../aqlScripts/insert.aql\" -h \"127.0.0.1\""
   ]
  },
  {
   "cell_type": "markdown",
   "id": "0362ad57",
   "metadata": {},
   "source": [
    "# Connect to Remote Cluster"
   ]
  },
  {
   "cell_type": "code",
   "execution_count": 12,
   "id": "056a887a",
   "metadata": {},
   "outputs": [
    {
     "name": "stdout",
     "output_type": "stream",
     "text": [
      "Initialized the client and connected to remote cluster.\n",
      "node: A1 127.0.0.1 3000F085CB5C48CA\n",
      "node:A1 127.0.0.1 3000:ok\n",
      "master objects: 10\n",
      "set objects: 0\n"
     ]
    }
   ],
   "source": [
    "AerospikeClient client = new AerospikeClient(\"127.0.0.1\", 3000);\n",
    "System.out.println(\"Initialized the client and connected to remote cluster.\");\n",
    "\n",
    "\n",
    "/*\n",
    "private void GetNamespaceConfig(Node node, String namespace) {\n",
    "  //String filter = \"namespace/\" + namespace;\n",
    "  String filter = \"namespace/\" + namespace;\n",
    "  // Issue the info request for the namespace\n",
    "  String tokens = Info.request(null, node, filter);\n",
    "  int masterObjects = GetTokenMasterObjects(tokens);\n",
    "}\n",
    "*/\n",
    "\n",
    "private int GetTokenMasterObjects(String tokens) {\n",
    "  String[] values = tokens.split(\";\");\n",
    "  String MASTER_OBJECT_COUNT_TAG = \"master_objects=\";\n",
    "  int MASTER_OBJECT_COUNT_TAG_LENGTH = MASTER_OBJECT_COUNT_TAG.length();\n",
    "  for (String value : values) {\n",
    "   if (value.startsWith(MASTER_OBJECT_COUNT_TAG)) {\n",
    "    return Integer.parseInt(value.substring(MASTER_OBJECT_COUNT_TAG_LENGTH));\n",
    "   }\n",
    "  }\n",
    "  return 0;\n",
    "}\n",
    "\n",
    "private int GetSetObjects(String tokens) {\n",
    "  String[] values = tokens.split(\":\");\n",
    "  String SET_OBJECT_COUNT_TAG = \"objects=\";\n",
    "  int SET_OBJECT_COUNT_TAG_LENGTH = SET_OBJECT_COUNT_TAG.length();\n",
    "  for (String value : values) {\n",
    "    if (value.startsWith(SET_OBJECT_COUNT_TAG)) {\n",
    "      return Integer.parseInt(value.substring(SET_OBJECT_COUNT_TAG_LENGTH));\n",
    "    }\n",
    "  }\n",
    "  return 0;\n",
    "}\n",
    "\n",
    "private int GetMasterObjectCount(Node node, String namespace) {\n",
    "  String filter = \"namespace/\" + namespace;\n",
    "  String tokens = Info.request(null, node, filter);\n",
    "  //return the master-objects value\n",
    "  return(GetTokenMasterObjects(tokens));        \n",
    "}\n",
    "\n",
    "private int GetSetObjectCount(Node node, String namespace, String set) {\n",
    "  String filter = \"sets/\" + namespace + \"/\" + set;\n",
    "  String tokens = Info.request(null, node, filter);\n",
    "  //return the master-objects value\n",
    "  return(GetSetObjects(tokens));        \n",
    "}\n",
    "\n",
    "private String GetClusterKey(Node node, String namespace, int size) {\n",
    "  String filter = \"cluster-stable:size=\" + size+\"; namespace=\"+namespace;\n",
    "  String key = Info.request(null, node, filter);\n",
    "  //return the master-objects value\n",
    "  return(key);        \n",
    "}\n",
    "\n",
    "private String SetServiceConfigInt(Node node, String param, int val) {\n",
    "  String filter = \"set-config:context=service;\" + param +\"=\"+val;\n",
    "  String key = Info.request(null, node, filter);\n",
    "  //return the master-objects value\n",
    "  return(key);        \n",
    "}\n",
    "\n",
    "//Run Info \n",
    "  \n",
    "int masterObjectCount = 0;\n",
    "int setObjectCount = 0;\n",
    "int clusterSize = 1;\n",
    "Node nodes[] = client.getNodes();\n",
    "String ns = \"test\";\n",
    "String set = \"test2set\";\n",
    "\n",
    "// For each node in the cluster\n",
    "String clusterKey=null;\n",
    "String setResponse=null;\n",
    "for (Node node : nodes) {\n",
    "  System.out.println(\"node: \" + node + GetClusterKey(node, ns, clusterSize));\n",
    "  String thisNodeClusterKey = GetClusterKey(node, ns, clusterSize);\n",
    "  if(clusterKey==null){clusterKey = thisNodeClusterKey;} \n",
    "  if(clusterKey.equals(thisNodeClusterKey)){\n",
    "    // Get it's master-objects value and add to the total\n",
    "    masterObjectCount += GetMasterObjectCount(node, ns);\n",
    "    setObjectCount += GetSetObjectCount( node, ns, set);\n",
    "    setResponse = SetServiceConfigInt(node, \"query-threads-limit\", 64); \n",
    "    System.out.println(\"node:\"+node+\":\"+setResponse);  //Add check if all nodes responed OK\n",
    "      \n",
    "  }\n",
    "  else {System.out.println(\"Cluster unstable\"+clusterKey+\": \"+thisNodeClusterKey);}\n",
    "}\n",
    "//Check cluster-key did not change\n",
    "for (Node node : nodes) {\n",
    "  //System.out.println(\"node: \" + node + GetClusterKey(node, ns, clusterSize));\n",
    "  String thisNodeClusterKey = GetClusterKey(node, ns, clusterSize);\n",
    "  if(!(clusterKey.equals(thisNodeClusterKey))){\n",
    "      System.out.println(\"Cluster unstable, repeat command.\"+clusterKey+\": \"+thisNodeClusterKey);\n",
    "      //Add code to repeat the command if cluster became unstable during the command execution\n",
    "  }\n",
    "}\n",
    "\n",
    "System.out.println(\"master objects: \" + masterObjectCount);\n",
    "System.out.println(\"set objects: \" + setObjectCount);"
   ]
  },
  {
   "cell_type": "code",
   "execution_count": 13,
   "id": "ce49db4b",
   "metadata": {},
   "outputs": [
    {
     "name": "stdout",
     "output_type": "stream",
     "text": [
      "Initialized the client and connected to remote cluster.\n",
      "node: A1 127.0.0.1 3000F085CB5C48CA\n",
      "node:A1 127.0.0.1 3000:ok\n"
     ]
    }
   ],
   "source": [
    "AerospikeClient client = new AerospikeClient(\"127.0.0.1\", 3000);\n",
    "System.out.println(\"Initialized the client and connected to remote cluster.\");\n",
    "\n",
    "private String GetClusterKey(Node node, String namespace, int size) {\n",
    "  String filter = \"cluster-stable:size=\" + size+\"; namespace=\"+namespace;\n",
    "  String key = Info.request(null, node, filter);\n",
    "  //return the master-objects value\n",
    "  return(key);        \n",
    "}\n",
    "\n",
    "private String SetServiceConfigInt(Node node, String param, int val) {\n",
    "  String filter = \"set-config:context=service;\" + param +\"=\"+val;\n",
    "  String key = Info.request(null, node, filter);\n",
    "  //return the master-objects value\n",
    "  return(key);        \n",
    "}\n",
    "\n",
    "//Run Info \n",
    "  \n",
    "Node nodes[] = client.getNodes();\n",
    "String ns = \"test\";\n",
    "\n",
    "// For each node in the cluster\n",
    "String clusterKey=null;\n",
    "String setResponse=null;\n",
    "int clusterSize = 1;\n",
    "for (Node node : nodes) {\n",
    "  System.out.println(\"node: \" + node + GetClusterKey(node, ns, clusterSize));\n",
    "  String thisNodeClusterKey = GetClusterKey(node, ns, clusterSize);\n",
    "  if(clusterKey==null){clusterKey = thisNodeClusterKey;} \n",
    "  if(clusterKey.equals(thisNodeClusterKey)){\n",
    "    setResponse = SetServiceConfigInt(node, \"query-threads-limit\", 128); \n",
    "    System.out.println(\"node:\"+node+\":\"+setResponse);  //Add check if all nodes responed OK\n",
    "      \n",
    "  }\n",
    "  else {System.out.println(\"Cluster unstable\"+clusterKey+\": \"+thisNodeClusterKey);}\n",
    "}\n",
    "//Check cluster-key did not change\n",
    "for (Node node : nodes) {\n",
    "  //System.out.println(\"node: \" + node + GetClusterKey(node, ns, clusterSize));\n",
    "  String thisNodeClusterKey = GetClusterKey(node, ns, clusterSize);\n",
    "  if(!(clusterKey.equals(thisNodeClusterKey))){\n",
    "      System.out.println(\"Cluster unstable, repeat command.\"+clusterKey+\": \"+thisNodeClusterKey);\n",
    "      //Add code to repeat the command if cluster became unstable during the command execution\n",
    "  }\n",
    "}\n"
   ]
  },
  {
   "cell_type": "markdown",
   "id": "133332b4-e010-480b-90af-c9a05501a1a1",
   "metadata": {},
   "source": [
    "# Cleanup"
   ]
  },
  {
   "cell_type": "code",
   "execution_count": 14,
   "id": "69ce2db4",
   "metadata": {},
   "outputs": [],
   "source": [
    "%sh asadm --enable -e \"manage truncate ns test --no-warn\" -h \"127.0.0.1\""
   ]
  }
 ],
 "metadata": {
  "kernelspec": {
   "display_name": "Java",
   "language": "java",
   "name": "java"
  },
  "language_info": {
   "codemirror_mode": "java",
   "file_extension": ".jshell",
   "mimetype": "text/x-java-source",
   "name": "Java",
   "pygments_lexer": "java",
   "version": "17.0.10+8-LTS"
  }
 },
 "nbformat": 4,
 "nbformat_minor": 5
}
