{
 "cells": [
  {
   "cell_type": "markdown",
   "id": "9037147c",
   "metadata": {},
   "source": [
    "# QueryPolicy Examples"
   ]
  },
  {
   "cell_type": "markdown",
   "id": "e28e6bcc",
   "metadata": {},
   "source": [
    "# Import to run %sh magic cell"
   ]
  },
  {
   "cell_type": "code",
   "execution_count": 1,
   "id": "b74ed7d1",
   "metadata": {},
   "outputs": [],
   "source": [
    "import io.github.spencerpark.ijava.IJava;\n",
    "import io.github.spencerpark.jupyter.kernel.magic.common.Shell;\n",
    "IJava.getKernelInstance().getMagics().registerMagics(Shell.class);"
   ]
  },
  {
   "cell_type": "markdown",
   "id": "31b0ddb3",
   "metadata": {},
   "source": [
    "# Add Java Client POM Dependency"
   ]
  },
  {
   "cell_type": "code",
   "execution_count": 2,
   "id": "b6447add",
   "metadata": {},
   "outputs": [],
   "source": [
    "%%loadFromPOM\n",
    "<dependencies>\n",
    "  <dependency>\n",
    "    <groupId>com.aerospike</groupId>\n",
    "    <artifactId>aerospike-client</artifactId>\n",
    "    <version>7.2.1</version>\n",
    "  </dependency>\n",
    "</dependencies>"
   ]
  },
  {
   "cell_type": "markdown",
   "id": "83cebb5f",
   "metadata": {},
   "source": [
    "# Add required Imports"
   ]
  },
  {
   "cell_type": "code",
   "execution_count": 3,
   "id": "946d225a",
   "metadata": {},
   "outputs": [
    {
     "name": "stdout",
     "output_type": "stream",
     "text": [
      "Client modules imported.\n"
     ]
    }
   ],
   "source": [
    "import com.aerospike.client.AerospikeClient;\n",
    "import com.aerospike.client.policy.WritePolicy;\n",
    "import com.aerospike.client.Bin;\n",
    "import com.aerospike.client.Key;\n",
    "import com.aerospike.client.Record;\n",
    "import com.aerospike.client.Value;\n",
    "System.out.println(\"Client modules imported.\");"
   ]
  },
  {
   "cell_type": "markdown",
   "id": "0362ad57",
   "metadata": {},
   "source": [
    "# Generate Test Data"
   ]
  },
  {
   "cell_type": "code",
   "execution_count": 4,
   "id": "deca2f79",
   "metadata": {},
   "outputs": [],
   "source": [
    "%sh asadm --enable -e \"manage truncate ns test --no-warn\" -h \"127.0.0.1\""
   ]
  },
  {
   "cell_type": "code",
   "execution_count": 5,
   "id": "088c4f7b",
   "metadata": {},
   "outputs": [],
   "source": [
    "%sh aql -c \"set key_send true\""
   ]
  },
  {
   "cell_type": "code",
   "execution_count": 6,
   "id": "77107007",
   "metadata": {},
   "outputs": [],
   "source": [
    "%sh aql -f \"../aqlScripts/insert.aql\""
   ]
  },
  {
   "cell_type": "code",
   "execution_count": 7,
   "id": "056a887a",
   "metadata": {},
   "outputs": [
    {
     "name": "stdout",
     "output_type": "stream",
     "text": [
      "Initialized the client and connected to the cluster.\n",
      "Working with record key:\n",
      "test:testset:key1:bf6c1d13e7cd10c5bd022d27e7df170c0bccd6e1\n",
      "Read back the record.\n",
      "Record values are:\n",
      "(gen:1),(exp:450911703),(bins:(name:Jack),(age:26))\n"
     ]
    }
   ],
   "source": [
    "AerospikeClient client = new AerospikeClient(\"localhost\", 3000);\n",
    "System.out.println(\"Initialized the client and connected to the cluster.\");\n",
    "\n",
    "Key key = new Key(\"test\", \"testset\", \"key1\");\n",
    "System.out.println(\"Working with record key:\");\n",
    "System.out.println(key);\n",
    "\n",
    "Record record = client.get(null, key);\n",
    "System.out.println(\"Read back the record.\");\n",
    "\n",
    "System.out.println(\"Record values are:\");\n",
    "System.out.println(record);"
   ]
  },
  {
   "cell_type": "code",
   "execution_count": 8,
   "id": "aa5fc77d",
   "metadata": {},
   "outputs": [],
   "source": [
    "%sh asadm --enable -e \"manage sindex create numeric idx_age ns test set testset bin age\""
   ]
  },
  {
   "cell_type": "code",
   "execution_count": 9,
   "id": "cc282aad",
   "metadata": {},
   "outputs": [
    {
     "name": "stdout",
     "output_type": "stream",
     "text": [
      "(gen:1),(exp:450911703),(bins:(name:Sean),(age:24))\n",
      "test:testset:key7:1ab5bb58a1d1e17dcf398a8039ddd09f7460606a\n",
      "(gen:2),(exp:450911762),(bins:(name:Sean),(age:24),(newBin:0))\n",
      "(gen:1),(exp:450911703),(bins:(name:Sally),(age:32))\n",
      "test:testset:key6:f7088d6a1333cd392d26eb832e321730be365150\n",
      "(gen:2),(exp:450911762),(bins:(name:Sally),(age:32),(newBin:1))\n",
      "(gen:1),(exp:450911703),(bins:(name:Sandra),(age:34))\n",
      "test:testset:key0:18eb429f44c1639dd4c50a02fbd380640ead86b4\n",
      "(gen:2),(exp:450911762),(bins:(name:Sandra),(age:34),(newBin:2))\n",
      "(gen:1),(exp:450911703),(bins:(name:Jill),(age:20))\n",
      "test:testset:key2:c10b2c764e604c439039804ec947fa2b18520d1a\n",
      "(gen:2),(exp:450911762),(bins:(name:Jill),(age:20),(newBin:3))\n",
      "(gen:1),(exp:450911703),(bins:(name:Jim),(age:46))\n",
      "test:testset:key4:703ca4a03068c57171bc4be1f829fcdd604ccdc5\n",
      "(gen:2),(exp:450911762),(bins:(name:Jim),(age:46),(newBin:4))\n",
      "(gen:1),(exp:450911703),(bins:(name:Jack),(age:26))\n",
      "test:testset:key1:bf6c1d13e7cd10c5bd022d27e7df170c0bccd6e1\n",
      "(gen:2),(exp:450911762),(bins:(name:Jack),(age:26),(newBin:5))\n",
      "(gen:1),(exp:450911703),(bins:(name:James),(age:38))\n",
      "test:testset:key3:10fd8f59adf1833152e439a2e03c19efcb12c145\n",
      "(gen:2),(exp:450911762),(bins:(name:James),(age:38),(newBin:6))\n",
      "(gen:1),(exp:450911703),(bins:(name:Susan),(age:42))\n",
      "test:testset:key9:cf4f71a9d9f5e73ffc640e387c77c0a3b98e1164\n",
      "(gen:2),(exp:450911762),(bins:(name:Susan),(age:42),(newBin:7))\n"
     ]
    }
   ],
   "source": [
    "//Needed imports\n",
    "import com.aerospike.client.query.Statement;\n",
    "import com.aerospike.client.query.Filter;\n",
    "import com.aerospike.client.Operation;\n",
    "import com.aerospike.client.Bin;\n",
    "import com.aerospike.client.policy.QueryPolicy;\n",
    "import com.aerospike.client.query.RecordSet;\n",
    "\n",
    "//Run SI query\n",
    "Statement stmt = new Statement();\n",
    "stmt.setNamespace(\"test\");\n",
    "stmt.setSetName(\"testset\");\n",
    "stmt.setFilter(Filter.range(\"age\", 20,60));\n",
    "//Operation[] ops = new Operation[1];\n",
    "//Bin ageBinNull = Bin.asNull(\"age\");\n",
    "//ops[0] = Operation.put(ageBinNull);\n",
    "//stmt.setOperations(ops);\n",
    "QueryPolicy qp = new QueryPolicy();\n",
    "//qp.recordQueueSize = 5000;\n",
    "RecordSet rs = client.query(qp, stmt);\n",
    "\n",
    "WritePolicy wp = new WritePolicy();\n",
    "\n",
    "int nCount = 0;\n",
    "\n",
    "while(rs.next()){\n",
    "    Record r = rs.getRecord();\n",
    "    Key thisKey = rs.getKey();  \n",
    "    System.out.println(r);\n",
    "    System.out.println(thisKey);\n",
    "    Bin newBin = new Bin(\"newBin\", nCount);\n",
    "    nCount++;\n",
    "    client.put(wp, thisKey, newBin);\n",
    "    System.out.println(client.get(null,thisKey));\n",
    "}\n",
    "\n"
   ]
  },
  {
   "cell_type": "markdown",
   "id": "bd7d4e72-dc30-4d69-ba05-d4d9867be2c7",
   "metadata": {},
   "source": [
    "# Cleanup"
   ]
  },
  {
   "cell_type": "code",
   "execution_count": 10,
   "id": "69ce2db4",
   "metadata": {},
   "outputs": [],
   "source": [
    "%sh asadm --enable -e \"manage sindex delete idx_age ns test set testset\""
   ]
  },
  {
   "cell_type": "code",
   "execution_count": 11,
   "id": "3a90fe3f-5539-4322-9741-4a209509c6b5",
   "metadata": {},
   "outputs": [],
   "source": [
    "%sh asadm --enable -e \"manage truncate ns test --no-warn\" -h \"127.0.0.1\""
   ]
  },
  {
   "cell_type": "code",
   "execution_count": null,
   "id": "1c8f409d-a8e8-4e64-a756-bb906ef17fe3",
   "metadata": {},
   "outputs": [],
   "source": []
  }
 ],
 "metadata": {
  "kernelspec": {
   "display_name": "Java",
   "language": "java",
   "name": "java"
  },
  "language_info": {
   "codemirror_mode": "java",
   "file_extension": ".jshell",
   "mimetype": "text/x-java-source",
   "name": "Java",
   "pygments_lexer": "java",
   "version": "17.0.10+8-LTS"
  }
 },
 "nbformat": 4,
 "nbformat_minor": 5
}
