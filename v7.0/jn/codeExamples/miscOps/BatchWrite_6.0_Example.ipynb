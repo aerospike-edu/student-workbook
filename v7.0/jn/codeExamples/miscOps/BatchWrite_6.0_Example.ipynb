{
 "cells": [
  {
   "cell_type": "markdown",
   "id": "9037147c",
   "metadata": {},
   "source": [
    "# BatchWritePolicy Examples"
   ]
  },
  {
   "cell_type": "markdown",
   "id": "e28e6bcc",
   "metadata": {},
   "source": [
    "# Import to run %sh magic cell"
   ]
  },
  {
   "cell_type": "code",
   "execution_count": 10,
   "id": "b74ed7d1",
   "metadata": {},
   "outputs": [],
   "source": [
    "import io.github.spencerpark.ijava.IJava;\n",
    "import io.github.spencerpark.jupyter.kernel.magic.common.Shell;\n",
    "IJava.getKernelInstance().getMagics().registerMagics(Shell.class);"
   ]
  },
  {
   "cell_type": "markdown",
   "id": "31b0ddb3",
   "metadata": {},
   "source": [
    "# Add Java Client POM Dependency"
   ]
  },
  {
   "cell_type": "code",
   "execution_count": 2,
   "id": "b6447add",
   "metadata": {},
   "outputs": [],
   "source": [
    "%%loadFromPOM\n",
    "<dependencies>\n",
    "  <dependency>\n",
    "    <groupId>com.aerospike</groupId>\n",
    "    <artifactId>aerospike-client-jdk8</artifactId>\n",
    "    <version>8.1.1</version>\n",
    "  </dependency>\n",
    "</dependencies>"
   ]
  },
  {
   "cell_type": "markdown",
   "id": "83cebb5f",
   "metadata": {},
   "source": [
    "# Add required Imports"
   ]
  },
  {
   "cell_type": "code",
   "execution_count": 3,
   "id": "946d225a",
   "metadata": {},
   "outputs": [
    {
     "name": "stdout",
     "output_type": "stream",
     "text": [
      "Client modules imported.\n"
     ]
    }
   ],
   "source": [
    "import com.aerospike.client.AerospikeClient;\n",
    "import com.aerospike.client.policy.WritePolicy;\n",
    "import com.aerospike.client.Bin;\n",
    "import com.aerospike.client.Key;\n",
    "import com.aerospike.client.Record;\n",
    "import com.aerospike.client.Value;\n",
    "import com.aerospike.client.policy.RecordExistsAction;\n",
    "import com.aerospike.client.AerospikeException;\n",
    "import com.aerospike.client.ResultCode;\n",
    "import com.aerospike.client.Operation;\n",
    "System.out.println(\"Client modules imported.\");"
   ]
  },
  {
   "cell_type": "markdown",
   "id": "ad245cce-5bdb-4f84-83ca-816e22f848c1",
   "metadata": {},
   "source": [
    "### Running _asadm_ in iJava\n",
    "We can run _asadm_ commands inline. Below, we will use the truncation command, which normally requires an interactive confirmation, which we will skip by using the _--no-warn_ flag. No output will be displayed."
   ]
  },
  {
   "cell_type": "code",
   "execution_count": 4,
   "id": "deca2f79",
   "metadata": {},
   "outputs": [],
   "source": [
    "%sh asadm --enable -e \"manage truncate ns test --no-warn\" -h \"127.0.0.1\""
   ]
  },
  {
   "cell_type": "markdown",
   "id": "0362ad57",
   "metadata": {},
   "source": [
    "# Generate Test Data"
   ]
  },
  {
   "cell_type": "code",
   "execution_count": 5,
   "id": "056a887a",
   "metadata": {},
   "outputs": [
    {
     "name": "stdout",
     "output_type": "stream",
     "text": [
      "Client modules imported.\n",
      "==> No exception.\n",
      "Num Keys: 14000\n",
      "Num keys TIMEOUT: 0\n",
      "Num keys NO_RESPONE: 0\n",
      "Num keys OK: 14000\n",
      "Time taken (ms) at client: 218\n"
     ]
    }
   ],
   "source": [
    "import com.aerospike.client.AerospikeClient;\n",
    "import com.aerospike.client.policy.BatchPolicy;\n",
    "import com.aerospike.client.policy.BatchWritePolicy;\n",
    "import com.aerospike.client.BatchResults;\n",
    "//import com.aerospike.client.WritePolicy;\n",
    "import com.aerospike.client.Bin;\n",
    "import com.aerospike.client.Key;\n",
    "import com.aerospike.client.Record;\n",
    "import com.aerospike.client.Value;\n",
    "import com.aerospike.client.policy.RecordExistsAction;\n",
    "import com.aerospike.client.AerospikeException;\n",
    "//import com.aerospike.client.AerospikeException.BatchRecordArray;\n",
    "import com.aerospike.client.BatchRecord;\n",
    "import com.aerospike.client.ResultCode;\n",
    "import com.aerospike.client.Operation;\n",
    "\n",
    "import com.aerospike.client.exp.Exp;\n",
    "import com.aerospike.client.exp.ExpOperation;\n",
    "import com.aerospike.client.exp.ExpWriteFlags;\n",
    "import com.aerospike.client.exp.Expression;\n",
    "\n",
    "import java.util.ArrayList;\n",
    "\n",
    "System.out.println(\"Client modules imported.\");\n",
    "\n",
    "AerospikeClient client = new AerospikeClient(\"127.0.0.1\", 3000);\n",
    "\n",
    "BatchPolicy bP = BatchPolicy.WriteDefault();\n",
    "\n",
    "bP.totalTimeout = 170;\n",
    "bP.socketTimeout = bP.totalTimeout;  //Recommended\n",
    "//bP.socketTimeout = 100;  //Can make smaller than total, but not larger effectively.\n",
    "//socket < total not recommended for batch writes.\n",
    "\n",
    "BatchWritePolicy bwP = new BatchWritePolicy();\n",
    "int iTimeLeft = 6000;\n",
    "Key[] lKey = new Key[14000];\n",
    "\n",
    "for(int i=0; i<14000; i++){\n",
    "  lKey[i] = new Key (\"test\", \"testset\", \"key\"+i);\n",
    "}\n",
    "  \n",
    "Expression tlExp = Exp.build(Exp.val(iTimeLeft));\n",
    "\n",
    "long timeStart = 0; \n",
    "long timeDone = 0;\n",
    "BatchResults bResults = null;\n",
    "\n",
    "try {  \n",
    "       timeStart = System.currentTimeMillis();\n",
    "       bResults = client.operate(bP, bwP, lKey, \n",
    "       ExpOperation.write(\"timeLeft\", tlExp, ExpWriteFlags.DEFAULT)); \n",
    "       timeDone = System.currentTimeMillis();\n",
    "}\n",
    "catch (AerospikeException.BatchRecordArray ba){ \n",
    "    timeDone = System.currentTimeMillis();\n",
    "    System.out.println(\"AerospikeException - Message: \" + ba.getMessage()\n",
    "                                        + \"\\n\");\n",
    "    \n",
    "    int rc = ba.getResultCode();\n",
    "    System.out.println(\"Batch Result Code: \"+rc);\n",
    "    \n",
    "    BatchRecord[] br = ba.records;\n",
    "    int numKeys = br.length;\n",
    "    int TimeoutCount = 0;\n",
    "    int OKCount = 0;\n",
    "    int NoResponseCount = 0;\n",
    "    System.out.println(\"Num keys: \"+numKeys);  \n",
    "    //These are being divided to each node, going one by one by default\n",
    "    while (numKeys >0){\n",
    "        //System.out.println(\"Key:\"+ numKeys +\" Key Result Code: \"+ br[numKeys-1].resultCode);\n",
    "        if(br[numKeys-1].resultCode == 9)TimeoutCount++;\n",
    "        if(br[numKeys-1].resultCode == -15)NoResponseCount++;\n",
    "        if(br[numKeys-1].resultCode == 0)OKCount++;\n",
    "        numKeys--;\n",
    "    }\n",
    "    System.out.println(\"Num keys TIMEOUT: \"+TimeoutCount);\n",
    "    System.out.println(\"Num keys NO_RESPONE: \"+NoResponseCount);\n",
    "    System.out.println(\"Num keys OK: \"+OKCount);\n",
    "    //Depending on which node completed its set in time, you may all, partial OK, none OK\n",
    "    //No clue how many actually succeeded.\n",
    "    //You don't want timeouts!\n",
    "                        \n",
    "}\n",
    "finally {\n",
    "    if(bResults != null){        \n",
    "        System.out.println(\"==> No exception.\");\n",
    "        int numKeys = bResults.records.length;\n",
    "        System.out.println(\"Num Keys: \"+numKeys);\n",
    "        int TimeoutCount = 0;\n",
    "        int OKCount = 0;\n",
    "        int NoResponseCount = 0;\n",
    "        while (numKeys >0){\n",
    "          //System.out.println(\"Key:\"+ numKeys +\" Key Result Code: \"+ br[numKeys-1].resultCode);\n",
    "          if(bResults.records[numKeys-1].resultCode == 9)TimeoutCount++;\n",
    "          if(bResults.records[numKeys-1].resultCode == -15)NoResponseCount++;\n",
    "          if(bResults.records[numKeys-1].resultCode == 0)OKCount++;\n",
    "          numKeys--;\n",
    "        }\n",
    "        System.out.println(\"Num keys TIMEOUT: \"+TimeoutCount);\n",
    "        System.out.println(\"Num keys NO_RESPONE: \"+NoResponseCount);\n",
    "        System.out.println(\"Num keys OK: \"+OKCount);\n",
    "       \n",
    "    }\n",
    "    else{\n",
    "        System.out.println(\"==> Exception raised.\");\n",
    "    }\n",
    "}\n",
    "//timeDone = System.currentTimeMillis();\n",
    "System.out.println(\"Time taken (ms) at client: \"+ (timeDone-timeStart));"
   ]
  },
  {
   "cell_type": "markdown",
   "id": "c032c8e6-6134-4f22-b2b3-efdc86ab7288",
   "metadata": {},
   "source": [
    "# Cleanup"
   ]
  },
  {
   "cell_type": "code",
   "execution_count": 14,
   "id": "966e66e1-8880-46ee-8187-1f4aabe985a4",
   "metadata": {},
   "outputs": [],
   "source": [
    "%sh asadm --enable -e \"manage truncate ns test --no-warn\" -h \"127.0.0.1\""
   ]
  },
  {
   "cell_type": "code",
   "execution_count": null,
   "id": "83b86e75-f66c-4d74-8cdd-0eb074ac1461",
   "metadata": {},
   "outputs": [],
   "source": []
  }
 ],
 "metadata": {
  "kernelspec": {
   "display_name": "Java",
   "language": "java",
   "name": "java"
  },
  "language_info": {
   "codemirror_mode": "java",
   "file_extension": ".jshell",
   "mimetype": "text/x-java-source",
   "name": "Java",
   "pygments_lexer": "java",
   "version": "17.0.10+8-LTS"
  }
 },
 "nbformat": 4,
 "nbformat_minor": 5
}
