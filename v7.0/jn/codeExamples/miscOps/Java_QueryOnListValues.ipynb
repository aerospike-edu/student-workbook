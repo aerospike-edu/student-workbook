{
 "cells": [
  {
   "cell_type": "markdown",
   "id": "28b3e822",
   "metadata": {},
   "source": [
    "### Housekeeping - Setup & wipe out any prior records on the Aerospike Server\n",
    "\n",
    "We have a namespace **_test_** pre-defined on the server. Lets truncate it using aql.\n",
    "\n",
    "This is needed while doing code development. If you want to clear the iJava Kernel of all Java objects and run all cells from scratch, Kernel->Restart & Run All, this will ensure any records written on the underlying Aerospike cluster are purged.\n",
    "\n",
    "First, we need required imports for using %sh in interactive Java Kernel. (This is specific to the iJava Kernel implementation by **Spencer Park** that we are using.)"
   ]
  },
  {
   "cell_type": "code",
   "execution_count": 1,
   "id": "eb85febe",
   "metadata": {},
   "outputs": [],
   "source": [
    "import io.github.spencerpark.ijava.IJava;\n",
    "import io.github.spencerpark.jupyter.kernel.magic.common.Shell;\n",
    "IJava.getKernelInstance().getMagics().registerMagics(Shell.class);"
   ]
  },
  {
   "cell_type": "markdown",
   "id": "1b305b92",
   "metadata": {},
   "source": [
    "### Runing aql in iJava\n",
    "We can run aql commands in a file. No output will be displayed. \n",
    "In _trucate_test.aql_, we have a single AQL command: TRUNCATE test\n",
    "\n"
   ]
  },
  {
   "cell_type": "code",
   "execution_count": 2,
   "id": "0f11685a",
   "metadata": {},
   "outputs": [],
   "source": [
    "%sh aql -c \"truncate test\" -h \"127.0.0.1\""
   ]
  },
  {
   "cell_type": "markdown",
   "id": "4b23c8bf",
   "metadata": {},
   "source": [
    "#### Add Java Client POM Dependency  \n",
    "Jupyter Notebook way!"
   ]
  },
  {
   "cell_type": "code",
   "execution_count": 3,
   "id": "c7d10ca8",
   "metadata": {},
   "outputs": [],
   "source": [
    "%%loadFromPOM\n",
    "<dependencies>\n",
    "  <dependency>\n",
    "    <groupId>com.aerospike</groupId>\n",
    "    <artifactId>aerospike-client</artifactId>\n",
    "    <version>6.1.0</version>\n",
    "  </dependency>\n",
    "</dependencies>"
   ]
  },
  {
   "cell_type": "markdown",
   "id": "e03decf9",
   "metadata": {},
   "source": [
    "####  Java Client Imports and Test code"
   ]
  },
  {
   "cell_type": "code",
   "execution_count": 4,
   "id": "b5ec301d",
   "metadata": {
    "scrolled": true
   },
   "outputs": [],
   "source": [
    "//Required Imports\n",
    "import com.aerospike.client.AerospikeClient;\n",
    "import com.aerospike.client.policy.WritePolicy;\n",
    "import com.aerospike.client.Bin;\n",
    "import com.aerospike.client.Key;\n",
    "import com.aerospike.client.Record;\n",
    "import com.aerospike.client.Value;\n",
    "\n",
    "import com.aerospike.client.query.IndexType;\n",
    "import com.aerospike.client.query.IndexCollectionType;\n",
    "import com.aerospike.client.task.IndexTask;\n",
    "import com.aerospike.client.AerospikeException;\n",
    "import com.aerospike.client.ResultCode;\n",
    "import com.aerospike.client.cdt.CTX;\n",
    "\n",
    "import com.aerospike.client.policy.QueryPolicy;\n",
    "import com.aerospike.client.query.Statement;\n",
    "import com.aerospike.client.query.Filter;\n",
    "import com.aerospike.client.query.RecordSet;"
   ]
  },
  {
   "cell_type": "code",
   "execution_count": 5,
   "id": "15ec4c7e",
   "metadata": {
    "scrolled": true
   },
   "outputs": [],
   "source": [
    "AerospikeClient client = new AerospikeClient(\"127.0.0.1\", 3000);\n"
   ]
  },
  {
   "cell_type": "code",
   "execution_count": 6,
   "id": "0ecc77be",
   "metadata": {},
   "outputs": [],
   "source": [
    "//Insert a record using a class based construct\n",
    "class userProfile {\n",
    "  public void createProfile (String ns, String setName, String AAID, String v1, String v2, String v3, boolean bCheck) {\n",
    "    Key user = new Key(ns, setName, AAID);      \n",
    "\n",
    "    List<Value> values = new ArrayList<Value>();\n",
    "    values.add(Value.get(v1));\n",
    "    values.add(Value.get(v2));\n",
    "    values.add(Value.get(v3));  \n",
    "\n",
    "    Bin segmentBin = new Bin(\"segment\", Value.get(values));\n",
    "    WritePolicy wPolicy1 = new WritePolicy();\n",
    "    client.put(wPolicy1, user, segmentBin);\n",
    "      \n",
    "    if(bCheck){\n",
    "      System.out.println(client.get(null, user));\n",
    "    }   \n",
    "  }\n",
    "}"
   ]
  },
  {
   "cell_type": "code",
   "execution_count": 7,
   "id": "cd0fea17",
   "metadata": {},
   "outputs": [
    {
     "name": "stdout",
     "output_type": "stream",
     "text": [
      "Created index idx_segment on ns=test set=testset bin=segment.\n"
     ]
    }
   ],
   "source": [
    "// convenience function to create an index - essentially a pass-through to the client API\n",
    "void createIndex(String idxName, String binName, IndexType idxType, IndexCollectionType colType, CTX... ctx) {\n",
    "    try {\n",
    "            IndexTask task = client.createIndex(null,\n",
    "                                       \"test\",\n",
    "                                       \"testset\",\n",
    "                                       idxName,\n",
    "                                       binName,\n",
    "                                       idxType,\n",
    "                                       colType,\n",
    "                                       ctx);\n",
    "            task.waitTillComplete(1000, 0);\n",
    "        }\n",
    "        catch (AerospikeException ae) {\n",
    "            if (ae.getResultCode() != ResultCode.INDEX_ALREADY_EXISTS) {\n",
    "                throw ae;\n",
    "            }\n",
    "        } \n",
    "        System.out.format(\"Created index %s on ns=%s set=%s bin=%s.\\n\", \n",
    "                                    idxName, \"test\", \"testset\", binName);\n",
    "}\n",
    "createIndex(\"idx_segment\", \"segment\", IndexType.STRING, IndexCollectionType.LIST, null);"
   ]
  },
  {
   "cell_type": "code",
   "execution_count": 8,
   "id": "581faa51",
   "metadata": {},
   "outputs": [],
   "source": [
    "userProfile pf = new userProfile();"
   ]
  },
  {
   "cell_type": "code",
   "execution_count": 9,
   "id": "885733f2",
   "metadata": {},
   "outputs": [
    {
     "name": "stdout",
     "output_type": "stream",
     "text": [
      "(gen:1),(exp:448520722),(bins:(segment:[12, 23, 34]))\n",
      "(gen:1),(exp:448520722),(bins:(segment:[22, 23, 34]))\n",
      "(gen:1),(exp:448520722),(bins:(segment:[12, 33, 34]))\n",
      "(gen:1),(exp:448520722),(bins:(segment:[12, 23, 44]))\n",
      "(gen:1),(exp:448520722),(bins:(segment:[11, 23, 34]))\n",
      "(gen:1),(exp:448520722),(bins:(segment:[12, 22, 34]))\n",
      "(gen:1),(exp:448520722),(bins:(segment:[12, 23, 33]))\n",
      "(gen:1),(exp:448520722),(bins:(segment:[22, 24, 44]))\n",
      "(gen:1),(exp:448520722),(bins:(segment:[24, 25, 54]))\n",
      "(gen:1),(exp:448520723),(bins:(segment:[10, 11, 34]))\n"
     ]
    }
   ],
   "source": [
    "//userProfile pf = new userProfile();\n",
    "pf.createProfile(\"test\", \"testset\", \"6f21\", \"12\", \"23\",\"34\", true);\n",
    "pf.createProfile(\"test\", \"testset\", \"6f22\", \"22\", \"23\",\"34\", true);\n",
    "pf.createProfile(\"test\", \"testset\", \"6f33\", \"12\", \"33\",\"34\", true);\n",
    "pf.createProfile(\"test\", \"testset\", \"6f44\", \"12\", \"23\",\"44\", true);\n",
    "pf.createProfile(\"test\", \"testset\", \"6f55\", \"11\", \"23\",\"34\", true);\n",
    "pf.createProfile(\"test\", \"testset\", \"6f66\", \"12\", \"22\",\"34\", true);\n",
    "pf.createProfile(\"test\", \"testset\", \"6f77\", \"12\", \"23\",\"33\", true);\n",
    "pf.createProfile(\"test\", \"testset\", \"6f88\", \"22\", \"24\",\"44\", true);\n",
    "pf.createProfile(\"test\", \"testset\", \"6f99\", \"24\", \"25\",\"54\", true);\n",
    "pf.createProfile(\"test\", \"testset\", \"6f00\", \"10\", \"11\",\"34\", true);\n"
   ]
  },
  {
   "cell_type": "code",
   "execution_count": 11,
   "id": "ca5acd7a",
   "metadata": {},
   "outputs": [
    {
     "name": "stdout",
     "output_type": "stream",
     "text": [
      "(gen:1),(exp:448520722),(bins:(segment:[12, 23, 34]))\n",
      "(gen:1),(exp:448520722),(bins:(segment:[12, 22, 34]))\n",
      "(gen:1),(exp:448520722),(bins:(segment:[11, 23, 34]))\n",
      "(gen:1),(exp:448520722),(bins:(segment:[12, 33, 34]))\n",
      "(gen:1),(exp:448520722),(bins:(segment:[22, 23, 34]))\n",
      "(gen:1),(exp:448520723),(bins:(segment:[10, 11, 34]))\n"
     ]
    }
   ],
   "source": [
    "WritePolicy wPolicy = new WritePolicy();\n",
    "QueryPolicy qPolicy = new QueryPolicy();\n",
    "\n",
    "Statement stmt = new Statement();\n",
    "stmt.setNamespace(\"test\");\n",
    "stmt.setSetName(\"testset\");\n",
    "Filter filter = Filter.contains(\"segment\", IndexCollectionType.LIST,\"34\");\n",
    "stmt.setFilter(filter);\n",
    "RecordSet rs = client.query(qPolicy, stmt);\n",
    "\n",
    "while(rs.next()){\n",
    "    Record r = rs.getRecord();     \n",
    "    System.out.println(r); \n",
    "}"
   ]
  },
  {
   "cell_type": "code",
   "execution_count": null,
   "id": "e02c1a7a",
   "metadata": {},
   "outputs": [],
   "source": []
  }
 ],
 "metadata": {
  "kernelspec": {
   "display_name": "Java",
   "language": "java",
   "name": "java"
  },
  "language_info": {
   "codemirror_mode": "java",
   "file_extension": ".jshell",
   "mimetype": "text/x-java-source",
   "name": "Java",
   "pygments_lexer": "java",
   "version": "11.0.20+8-LTS"
  }
 },
 "nbformat": 4,
 "nbformat_minor": 5
}
