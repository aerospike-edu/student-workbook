{
 "cells": [
  {
   "cell_type": "markdown",
   "id": "9037147c",
   "metadata": {},
   "source": [
    "# DBAAS Hello World and Test Truncate"
   ]
  },
  {
   "cell_type": "markdown",
   "id": "e28e6bcc",
   "metadata": {},
   "source": [
    "# Import to run %sh magic cell"
   ]
  },
  {
   "cell_type": "code",
   "execution_count": 1,
   "id": "b74ed7d1",
   "metadata": {},
   "outputs": [],
   "source": [
    "import io.github.spencerpark.ijava.IJava;\n",
    "import io.github.spencerpark.jupyter.kernel.magic.common.Shell;\n",
    "IJava.getKernelInstance().getMagics().registerMagics(Shell.class);"
   ]
  },
  {
   "cell_type": "markdown",
   "id": "31b0ddb3",
   "metadata": {},
   "source": [
    "# Add Java Client POM Dependency"
   ]
  },
  {
   "cell_type": "code",
   "execution_count": 2,
   "id": "b6447add",
   "metadata": {},
   "outputs": [],
   "source": [
    "%%loadFromPOM\n",
    "<repositories>\n",
    "<repository>\n",
    "   <id>snapshots_private</id>\n",
    "   <url>file:/home/training/.m2/repository/</url>\n",
    "</repository>\n",
    "</repositories>\n",
    "\n",
    "<dependencies>\n",
    "\n",
    "  <dependency>\n",
    "    <groupId>io.netty</groupId>\n",
    "    <artifactId>netty-transport</artifactId>\n",
    "     <version>4.1.87.Final</version>\n",
    "  </dependency>\n",
    "\n",
    "  <dependency>\n",
    "    <groupId>com.aerospike</groupId>\n",
    "    <artifactId>aerospike-client</artifactId>\n",
    "    <version>6.1.9-SNAPSHOT</version>\n",
    "  </dependency>\n",
    "  \n",
    "  <dependency>\n",
    "    <groupId>com.aerospike</groupId>\n",
    "    <artifactId>aerospike-proxy-client</artifactId>\n",
    "    <version>6.1.9-SNAPSHOT</version>\n",
    "  </dependency>\n",
    "\n",
    "</dependencies>"
   ]
  },
  {
   "cell_type": "markdown",
   "id": "0362ad57",
   "metadata": {},
   "source": [
    "# Test Hello World!"
   ]
  },
  {
   "cell_type": "code",
   "execution_count": 3,
   "id": "0f6baac9",
   "metadata": {},
   "outputs": [
    {
     "name": "stdout",
     "output_type": "stream",
     "text": [
      "(gen:1),(exp:0),(bins:(my_bin:Hello World!))\n"
     ]
    }
   ],
   "source": [
    "import com.aerospike.client.proxy.AerospikeClientProxy;\n",
    "import com.aerospike.client.policy.*;\n",
    "import com.aerospike.client.*;\n",
    "import com.aerospike.client.AerospikeException;\n",
    "import com.aerospike.client.ResultCode;\n",
    "\n",
    "//Required Imports\n",
    "//import com.aerospike.client.AerospikeClient;\n",
    "//import com.aerospike.client.policy.WritePolicy;\n",
    "//import com.aerospike.client.Bin;\n",
    "//import com.aerospike.client.Key;\n",
    "//import com.aerospike.client.Record;\n",
    "//import com.aerospike.client.Value;\n",
    "//import com.aerospike.client.Operation;\n",
    "import com.aerospike.client.query.Statement;\n",
    "import com.aerospike.client.exp.Exp;\n",
    "\n",
    "final String AEROSPIKE_CLOUD_HOST=\"f88a621d-69bf-4ba4-a825-0a17568628b2.asdb.io\";\n",
    "final String AEROSPIKE_CLOUD_KEY=\"fd1520c45b034a06a4c52e3d042aa022\"; \n",
    "final String AEROSPIKE_CLOUD_SECRET=\"5851a650f3784756ae0f36ee5933df57\";\n",
    "final String AEROSPIKE_CLOUD_NAMESPACE=\"aerospike_cloud\";\n",
    "final int AEROSPIKE_CLOUD_PORT=4000;\n",
    "\n",
    "ClientPolicy policy = new ClientPolicy();\n",
    "policy.user = AEROSPIKE_CLOUD_KEY;\n",
    "policy.password = AEROSPIKE_CLOUD_SECRET;\n",
    "\n",
    "TlsPolicy tlsPolicy = new TlsPolicy();\n",
    "policy.tlsPolicy = tlsPolicy;\n",
    "\n",
    "AerospikeClientProxy client = new AerospikeClientProxy(policy, \n",
    "           new Host(AEROSPIKE_CLOUD_HOST, AEROSPIKE_CLOUD_PORT) \n",
    "                );\n",
    "\n",
    "Key key = new Key(AEROSPIKE_CLOUD_NAMESPACE, \"my_set\", \"my_key\");\n",
    "Bin bin = new Bin(\"my_bin\", \"Hello World!\");\n",
    "\n",
    "client.put(null, key, bin);\n",
    "Record record = client.get(null, key);\n",
    "System.out.println(record);\n",
    "\n",
    "//client.close();\n"
   ]
  },
  {
   "cell_type": "markdown",
   "id": "f4e0289c",
   "metadata": {},
   "source": [
    "# Test Truncate ... "
   ]
  },
  {
   "cell_type": "code",
   "execution_count": 4,
   "id": "eef251d6",
   "metadata": {},
   "outputs": [],
   "source": [
    "//Insert a record using a class based construct\n",
    "class userProfile {\n",
    "  public void createProfile (String ns, String setName, int profileId, String name, int zip, boolean bCheck) {\n",
    "    Key user = new Key(ns, setName, profileId); \n",
    "    Bin bProfileId = new Bin(\"ProfileId\", profileId);\n",
    "    Bin bName = new Bin(\"Name\", name);\n",
    "    Bin bZip = new Bin(\"Zip\", zip);\n",
    "    WritePolicy wPolicy1 = new WritePolicy();\n",
    "    client.put(wPolicy1, user, bProfileId, bName, bZip);\n",
    "    if(bCheck){\n",
    "      System.out.println(client.get(null, user));\n",
    "    }   \n",
    "  }\n",
    "}"
   ]
  },
  {
   "cell_type": "code",
   "execution_count": 5,
   "id": "23d2d786",
   "metadata": {},
   "outputs": [
    {
     "name": "stdout",
     "output_type": "stream",
     "text": [
      "(gen:1),(exp:0),(bins:(ProfileId:0),(Name:Test),(Zip:94506))\n"
     ]
    }
   ],
   "source": [
    "userProfile pf = new userProfile();\n",
    "pf.createProfile(AEROSPIKE_CLOUD_NAMESPACE, \"testset\", 0,\"Test\", 94506, true);"
   ]
  },
  {
   "cell_type": "code",
   "execution_count": 8,
   "id": "52885804",
   "metadata": {},
   "outputs": [],
   "source": [
    "pf.createProfile(AEROSPIKE_CLOUD_NAMESPACE, \"testset\", 4,\"Test\", 94506, false);"
   ]
  },
  {
   "cell_type": "code",
   "execution_count": 9,
   "id": "c247c6f7",
   "metadata": {},
   "outputs": [
    {
     "name": "stdout",
     "output_type": "stream",
     "text": [
      "(gen:1),(exp:0),(bins:(ProfileId:4),(Name:Test),(Zip:94506))\n"
     ]
    }
   ],
   "source": [
    "Key user4 = new Key(AEROSPIKE_CLOUD_NAMESPACE, \"testset\", 4); \n",
    "System.out.println(client.get(null, user4));"
   ]
  },
  {
   "cell_type": "code",
   "execution_count": 12,
   "id": "5d439364",
   "metadata": {},
   "outputs": [],
   "source": [
    "class Truncate {\n",
    "  public void truncate(String ns, String setName, int sinceUpdate_ms) {\n",
    "    WritePolicy wPolicy = new WritePolicy();\n",
    "    if(sinceUpdate_ms > 0){\n",
    "      //Add \"Since Last Update Time\" based Expression Filter\n",
    "      wPolicy.filterExp = Exp.build(Exp.gt(Exp.sinceUpdate(), Exp.val(sinceUpdate_ms)));\n",
    "    }\n",
    "    \n",
    "    Operation[] ops = new Operation[] {\n",
    "      Operation.delete()\n",
    "    };\n",
    "    Statement stmt = new Statement();\n",
    "    stmt.setNamespace(ns);\n",
    "    if(setName != null){\n",
    "      stmt.setSetName(setName);\n",
    "    }\n",
    "    stmt.setOperations(ops);\n",
    "    client.execute(wPolicy, stmt);\n",
    "  }\n",
    "}"
   ]
  },
  {
   "cell_type": "code",
   "execution_count": 13,
   "id": "4fb7aac2",
   "metadata": {},
   "outputs": [],
   "source": [
    "Truncate tr = new Truncate();\n",
    "tr.truncate(AEROSPIKE_CLOUD_NAMESPACE, \"testset\", 0);"
   ]
  },
  {
   "cell_type": "code",
   "execution_count": 14,
   "id": "7afe7cef",
   "metadata": {},
   "outputs": [
    {
     "name": "stdout",
     "output_type": "stream",
     "text": [
      "null\n"
     ]
    }
   ],
   "source": [
    "System.out.println(client.get(null, user4));"
   ]
  },
  {
   "cell_type": "code",
   "execution_count": 15,
   "id": "a58e244e",
   "metadata": {},
   "outputs": [],
   "source": [
    "pf.createProfile(AEROSPIKE_CLOUD_NAMESPACE, \"testset1\", 1,\"Test\", 94506, false);\n",
    "pf.createProfile(AEROSPIKE_CLOUD_NAMESPACE, \"testset2\", 2,\"Test\", 94506, false);\n",
    "pf.createProfile(AEROSPIKE_CLOUD_NAMESPACE, \"testset3\", 3,\"Test\", 94506, false);\n"
   ]
  },
  {
   "cell_type": "code",
   "execution_count": 16,
   "id": "50b0f716",
   "metadata": {},
   "outputs": [
    {
     "name": "stdout",
     "output_type": "stream",
     "text": [
      "(gen:1),(exp:0),(bins:(ProfileId:1),(Name:Test),(Zip:94506))\n",
      "(gen:1),(exp:0),(bins:(ProfileId:2),(Name:Test),(Zip:94506))\n",
      "(gen:1),(exp:0),(bins:(ProfileId:3),(Name:Test),(Zip:94506))\n"
     ]
    }
   ],
   "source": [
    "Key user1 = new Key(AEROSPIKE_CLOUD_NAMESPACE, \"testset1\", 1); \n",
    "Key user2 = new Key(AEROSPIKE_CLOUD_NAMESPACE, \"testset2\", 2);\n",
    "Key user3 = new Key(AEROSPIKE_CLOUD_NAMESPACE, \"testset3\", 3); \n",
    "\n",
    "System.out.println(client.get(null, user1));\n",
    "System.out.println(client.get(null, user2));\n",
    "System.out.println(client.get(null, user3));"
   ]
  },
  {
   "cell_type": "code",
   "execution_count": 17,
   "id": "1d32876d",
   "metadata": {},
   "outputs": [],
   "source": [
    "Truncate tr = new Truncate();\n",
    "tr.truncate(AEROSPIKE_CLOUD_NAMESPACE, null, 10000);"
   ]
  },
  {
   "cell_type": "code",
   "execution_count": 18,
   "id": "637fc479",
   "metadata": {},
   "outputs": [
    {
     "name": "stdout",
     "output_type": "stream",
     "text": [
      "null\n",
      "null\n",
      "null\n"
     ]
    }
   ],
   "source": [
    "System.out.println(client.get(null, user1));\n",
    "System.out.println(client.get(null, user2));\n",
    "System.out.println(client.get(null, user3));"
   ]
  },
  {
   "cell_type": "code",
   "execution_count": 19,
   "id": "e4e0fa72",
   "metadata": {},
   "outputs": [],
   "source": [
    "client.close();"
   ]
  }
 ],
 "metadata": {
  "kernelspec": {
   "display_name": "Java",
   "language": "java",
   "name": "java"
  },
  "language_info": {
   "codemirror_mode": "java",
   "file_extension": ".jshell",
   "mimetype": "text/x-java-source",
   "name": "Java",
   "pygments_lexer": "java",
   "version": "11.0.19+7-LTS"
  }
 },
 "nbformat": 4,
 "nbformat_minor": 5
}
