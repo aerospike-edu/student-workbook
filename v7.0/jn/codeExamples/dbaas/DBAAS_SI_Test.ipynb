{
 "cells": [
  {
   "cell_type": "markdown",
   "id": "9037147c",
   "metadata": {},
   "source": [
    "# DBAAS Hello World and Test Truncate"
   ]
  },
  {
   "cell_type": "markdown",
   "id": "e28e6bcc",
   "metadata": {},
   "source": [
    "# Import to run %sh magic cell"
   ]
  },
  {
   "cell_type": "code",
   "execution_count": 1,
   "id": "b74ed7d1",
   "metadata": {},
   "outputs": [],
   "source": [
    "import io.github.spencerpark.ijava.IJava;\n",
    "import io.github.spencerpark.jupyter.kernel.magic.common.Shell;\n",
    "IJava.getKernelInstance().getMagics().registerMagics(Shell.class);"
   ]
  },
  {
   "cell_type": "markdown",
   "id": "31b0ddb3",
   "metadata": {},
   "source": [
    "# Add Java Client POM Dependency"
   ]
  },
  {
   "cell_type": "code",
   "execution_count": 2,
   "id": "b6447add",
   "metadata": {},
   "outputs": [],
   "source": [
    "%%loadFromPOM\n",
    "<dependencies>\n",
    "  <dependency>\n",
    "    <groupId>io.netty</groupId>\n",
    "    <artifactId>netty-transport</artifactId>\n",
    "     <version>4.1.93.Final</version>\n",
    "  </dependency>\n",
    "   <dependency>\n",
    "    <groupId>com.aerospike</groupId>\n",
    "    <artifactId>aerospike-proxy-client</artifactId>\n",
    "    <version>7.0.0</version>\n",
    "  </dependency>\n",
    "</dependencies>"
   ]
  },
  {
   "cell_type": "markdown",
   "id": "0362ad57",
   "metadata": {},
   "source": [
    "# Test Hello World!"
   ]
  },
  {
   "cell_type": "code",
   "execution_count": 3,
   "id": "0f6baac9",
   "metadata": {},
   "outputs": [
    {
     "name": "stdout",
     "output_type": "stream",
     "text": [
      "(gen:1),(exp:0),(bins:(my_bin:Hello World!))\n"
     ]
    }
   ],
   "source": [
    "import com.aerospike.client.proxy.AerospikeClientProxy;\n",
    "import com.aerospike.client.policy.*;\n",
    "import com.aerospike.client.*;\n",
    "import com.aerospike.client.AerospikeException;\n",
    "import com.aerospike.client.ResultCode;\n",
    "\n",
    "//Required Imports\n",
    "//import com.aerospike.client.AerospikeClient;\n",
    "//import com.aerospike.client.policy.WritePolicy;\n",
    "//import com.aerospike.client.Bin;\n",
    "//import com.aerospike.client.Key;\n",
    "//import com.aerospike.client.Record;\n",
    "//import com.aerospike.client.Value;\n",
    "//import com.aerospike.client.Operation;\n",
    "import com.aerospike.client.query.Statement;\n",
    "import com.aerospike.client.exp.Exp;\n",
    "\n",
    "final String AEROSPIKE_CLOUD_HOST=\"3d4f4845-08b9-4de6-b124-b902e2316903.aerospikedev.com\";\n",
    "final String AEROSPIKE_CLOUD_KEY=\"b9236be6659544c887dba7c42dfed842\"; \n",
    "final String AEROSPIKE_CLOUD_SECRET=\"45cc6e15714a4b3f93077154d7b5375b\";\n",
    "final String AEROSPIKE_CLOUD_NAMESPACE=\"aerospike_cloud\";\n",
    "final int AEROSPIKE_CLOUD_PORT=4000;\n",
    "\n",
    "ClientPolicy policy = new ClientPolicy();\n",
    "policy.user = AEROSPIKE_CLOUD_KEY;\n",
    "policy.password = AEROSPIKE_CLOUD_SECRET;\n",
    "\n",
    "TlsPolicy tlsPolicy = new TlsPolicy();\n",
    "policy.tlsPolicy = tlsPolicy;\n",
    "\n",
    "AerospikeClientProxy client = new AerospikeClientProxy(policy, \n",
    "           new Host(AEROSPIKE_CLOUD_HOST, AEROSPIKE_CLOUD_PORT) \n",
    "                );\n",
    "\n",
    "//Key key = new Key(AEROSPIKE_CLOUD_NAMESPACE, null, \"my_key\");  \n",
    "//Check: Dbaas Allows writing records to null set but does not allow creating\n",
    "//sindex on entire namespace. ==> should disallow creating records in null set.\n",
    "\n",
    "Key key = new Key(AEROSPIKE_CLOUD_NAMESPACE, \"my_set\", \"my_key\");\n",
    "Bin bin = new Bin(\"my_bin\", \"Hello World!\");\n",
    "\n",
    "client.put(null, key, bin);\n",
    "Record record = client.get(null, key);\n",
    "System.out.println(record);\n",
    "\n",
    "//client.close();\n"
   ]
  },
  {
   "cell_type": "markdown",
   "id": "f4e0289c",
   "metadata": {},
   "source": [
    "# Test Truncate ... "
   ]
  },
  {
   "cell_type": "code",
   "execution_count": 4,
   "id": "eef251d6",
   "metadata": {},
   "outputs": [],
   "source": [
    "//Insert a record using a class based construct\n",
    "class userProfile {\n",
    "  public void createProfile (String ns, String setName, String user, String name, int age, boolean bCheck) {\n",
    "    Key userKey = new Key(ns, setName, user); \n",
    "    Bin bName = new Bin(\"name\", name);\n",
    "    Bin bAge = new Bin(\"age\", age);\n",
    "    WritePolicy wPolicy1 = new WritePolicy();\n",
    "    wPolicy1.sendKey = true;\n",
    "    client.put(wPolicy1, userKey, bName, bAge);\n",
    "    if(bCheck){\n",
    "      System.out.println(client.get(null, userKey));\n",
    "    }   \n",
    "  }\n",
    "}"
   ]
  },
  {
   "cell_type": "code",
   "execution_count": 5,
   "id": "23d2d786",
   "metadata": {},
   "outputs": [
    {
     "name": "stdout",
     "output_type": "stream",
     "text": [
      "(gen:1),(exp:0),(bins:(name:Jack),(age:26))\n"
     ]
    }
   ],
   "source": [
    "userProfile pf = new userProfile();\n",
    "pf.createProfile(AEROSPIKE_CLOUD_NAMESPACE, \"testset\", \"jack\",\"Jack\", 26, true);"
   ]
  },
  {
   "cell_type": "code",
   "execution_count": 6,
   "id": "52885804",
   "metadata": {},
   "outputs": [],
   "source": [
    "pf.createProfile(AEROSPIKE_CLOUD_NAMESPACE, \"testset\", \"jill\",\"Jill\", 32, false);"
   ]
  },
  {
   "cell_type": "code",
   "execution_count": 7,
   "id": "c247c6f7",
   "metadata": {},
   "outputs": [
    {
     "name": "stdout",
     "output_type": "stream",
     "text": [
      "(gen:1),(exp:0),(bins:(name:Jill),(age:32))\n"
     ]
    }
   ],
   "source": [
    "Key userJill = new Key(AEROSPIKE_CLOUD_NAMESPACE, \"testset\", \"jill\"); \n",
    "System.out.println(client.get(null, userJill));"
   ]
  },
  {
   "cell_type": "code",
   "execution_count": 8,
   "id": "5d439364",
   "metadata": {},
   "outputs": [],
   "source": [
    "class Truncate {\n",
    "  public void truncate(String ns, String setName, int sinceUpdate_ms) {\n",
    "    WritePolicy wPolicy = new WritePolicy();\n",
    "    if(sinceUpdate_ms > 0){\n",
    "      //Add \"Since Last Update Time\" based Expression Filter\n",
    "      wPolicy.filterExp = Exp.build(Exp.gt(Exp.sinceUpdate(), Exp.val(sinceUpdate_ms)));\n",
    "    }\n",
    "    \n",
    "    Operation[] ops = new Operation[] {\n",
    "      Operation.delete()\n",
    "    };\n",
    "    Statement stmt = new Statement();\n",
    "    stmt.setNamespace(ns);\n",
    "    if(setName != null){\n",
    "      stmt.setSetName(setName);\n",
    "    }\n",
    "    stmt.setOperations(ops);\n",
    "    client.execute(wPolicy, stmt);\n",
    "  }\n",
    "}"
   ]
  },
  {
   "cell_type": "code",
   "execution_count": 9,
   "id": "4fb7aac2",
   "metadata": {},
   "outputs": [],
   "source": [
    "Truncate tr = new Truncate();\n",
    "tr.truncate(AEROSPIKE_CLOUD_NAMESPACE, \"testset\", 0);"
   ]
  },
  {
   "cell_type": "code",
   "execution_count": 10,
   "id": "7afe7cef",
   "metadata": {},
   "outputs": [
    {
     "name": "stdout",
     "output_type": "stream",
     "text": [
      "null\n"
     ]
    }
   ],
   "source": [
    "System.out.println(client.get(null, userJill));"
   ]
  },
  {
   "cell_type": "code",
   "execution_count": 11,
   "id": "a58e244e",
   "metadata": {},
   "outputs": [],
   "source": [
    "pf.createProfile(AEROSPIKE_CLOUD_NAMESPACE, \"testset1\", \"jack\",\"Jack\", 26, false);\n",
    "pf.createProfile(AEROSPIKE_CLOUD_NAMESPACE, \"testset2\", \"jill\",\"Jill\", 32,false);\n",
    "pf.createProfile(AEROSPIKE_CLOUD_NAMESPACE, \"testset3\", \"pat\",\"Pat\", 50,false);\n"
   ]
  },
  {
   "cell_type": "code",
   "execution_count": 12,
   "id": "50b0f716",
   "metadata": {},
   "outputs": [
    {
     "name": "stdout",
     "output_type": "stream",
     "text": [
      "(gen:1),(exp:0),(bins:(name:Jack),(age:26))\n",
      "(gen:1),(exp:0),(bins:(name:Jill),(age:32))\n",
      "(gen:1),(exp:0),(bins:(name:Pat),(age:50))\n"
     ]
    }
   ],
   "source": [
    "Key user1 = new Key(AEROSPIKE_CLOUD_NAMESPACE, \"testset1\", \"jack\"); \n",
    "Key user2 = new Key(AEROSPIKE_CLOUD_NAMESPACE, \"testset2\", \"jill\");\n",
    "Key user3 = new Key(AEROSPIKE_CLOUD_NAMESPACE, \"testset3\", \"pat\"); \n",
    "\n",
    "System.out.println(client.get(null, user1));\n",
    "System.out.println(client.get(null, user2));\n",
    "System.out.println(client.get(null, user3));"
   ]
  },
  {
   "cell_type": "code",
   "execution_count": 13,
   "id": "1d32876d",
   "metadata": {},
   "outputs": [],
   "source": [
    "Truncate tr = new Truncate();\n",
    "tr.truncate(AEROSPIKE_CLOUD_NAMESPACE, null, 10000);"
   ]
  },
  {
   "cell_type": "code",
   "execution_count": 14,
   "id": "637fc479",
   "metadata": {},
   "outputs": [
    {
     "name": "stdout",
     "output_type": "stream",
     "text": [
      "(gen:1),(exp:0),(bins:(name:Jack),(age:26))\n",
      "(gen:1),(exp:0),(bins:(name:Jill),(age:32))\n",
      "(gen:1),(exp:0),(bins:(name:Pat),(age:50))\n"
     ]
    }
   ],
   "source": [
    "System.out.println(client.get(null, user1));\n",
    "System.out.println(client.get(null, user2));\n",
    "System.out.println(client.get(null, user3));"
   ]
  },
  {
   "cell_type": "code",
   "execution_count": 19,
   "id": "95a9373b",
   "metadata": {},
   "outputs": [],
   "source": [
    "//Try again, after 10 seconds of creating the records\n",
    "tr.truncate(AEROSPIKE_CLOUD_NAMESPACE, null, 10000);"
   ]
  },
  {
   "cell_type": "code",
   "execution_count": 20,
   "id": "7cf66ca4",
   "metadata": {},
   "outputs": [
    {
     "name": "stdout",
     "output_type": "stream",
     "text": [
      "null\n",
      "null\n",
      "null\n"
     ]
    }
   ],
   "source": [
    "System.out.println(client.get(null, user1));\n",
    "System.out.println(client.get(null, user2));\n",
    "System.out.println(client.get(null, user3));"
   ]
  },
  {
   "cell_type": "markdown",
   "id": "ad95533c",
   "metadata": {},
   "source": [
    "### Secondary Index Testing"
   ]
  },
  {
   "cell_type": "markdown",
   "id": "ebff26d8",
   "metadata": {},
   "source": [
    "#### Generate Test Data"
   ]
  },
  {
   "cell_type": "code",
   "execution_count": 21,
   "id": "7d4cb272",
   "metadata": {},
   "outputs": [
    {
     "name": "stdout",
     "output_type": "stream",
     "text": [
      "(gen:1),(exp:0),(bins:(name:Jack),(age:26))\n",
      "(gen:1),(exp:0),(bins:(name:Jill),(age:20))\n",
      "(gen:1),(exp:0),(bins:(name:James),(age:38))\n",
      "(gen:1),(exp:0),(bins:(name:Jim),(age:46))\n",
      "(gen:1),(exp:0),(bins:(name:Julia),(age:62))\n",
      "(gen:1),(exp:0),(bins:(name:Sally),(age:32))\n",
      "(gen:1),(exp:0),(bins:(name:Sean),(age:24))\n",
      "(gen:1),(exp:0),(bins:(name:Sam),(age:12))\n",
      "(gen:1),(exp:0),(bins:(name:Susan),(age:42))\n",
      "(gen:1),(exp:0),(bins:(name:Sandra),(age:34))\n"
     ]
    }
   ],
   "source": [
    "pf.createProfile(AEROSPIKE_CLOUD_NAMESPACE, \"testset\", \"jacksapplekey1\",\"Jack\", 26, true);\n",
    "pf.createProfile(AEROSPIKE_CLOUD_NAMESPACE, \"testset\", \"jillgrapekey2\",\"Jill\", 20, true);\n",
    "pf.createProfile(AEROSPIKE_CLOUD_NAMESPACE, \"testset\", \"mangokey3\",\"James\", 38, true);\n",
    "pf.createProfile(AEROSPIKE_CLOUD_NAMESPACE, \"testset\", \"Jimkey4apple\",\"Jim\", 46, true);\n",
    "pf.createProfile(AEROSPIKE_CLOUD_NAMESPACE, \"testset\", \"JuliaGrapekey5\",\"Julia\", 62, true);\n",
    "pf.createProfile(AEROSPIKE_CLOUD_NAMESPACE, \"testset\", \"SallyMANGOkey6\",\"Sally\", 32, true);\n",
    "pf.createProfile(AEROSPIKE_CLOUD_NAMESPACE, \"testset\", \"SeanaPPlekey7\",\"Sean\", 24, true);\n",
    "pf.createProfile(AEROSPIKE_CLOUD_NAMESPACE, \"testset\", \"SamGRAPEkey8\",\"Sam\", 12, true);\n",
    "pf.createProfile(AEROSPIKE_CLOUD_NAMESPACE, \"testset\", \"Susankey9\",\"Susan\", 42, true);\n",
    "pf.createProfile(AEROSPIKE_CLOUD_NAMESPACE, \"testset\", \"SandraPeachkey0\",\"Sandra\", 34, true);"
   ]
  },
  {
   "cell_type": "markdown",
   "id": "1a57c84f",
   "metadata": {},
   "source": [
    "#### Test Sindex, Type  NUMERIC with Filter Expression"
   ]
  },
  {
   "cell_type": "code",
   "execution_count": 22,
   "id": "25008893",
   "metadata": {},
   "outputs": [
    {
     "ename": "EvalException",
     "evalue": "Error 201,1,0,30000,0,5: Index not found",
     "output_type": "error",
     "traceback": [
      "\u001b[1m\u001b[31m---------------------------------------------------------------------------\u001b[0m",
      "\u001b[1m\u001b[31mcom.aerospike.client.AerospikeException: Error 201,1,0,30000,0,5: Index not found\u001b[0m",
      "\u001b[1m\u001b[31m\tat com.aerospike.client.proxy.MultiCommandProxy.parseRecordResult(MultiCommandProxy.java:104)\u001b[0m",
      "\u001b[1m\u001b[31m\tat com.aerospike.client.proxy.ScanQueryBaseCommandProxy.parseResult(ScanQueryBaseCommandProxy.java:64)\u001b[0m",
      "\u001b[1m\u001b[31m\tat com.aerospike.client.proxy.MultiCommandProxy.onResponse(MultiCommandProxy.java:56)\u001b[0m",
      "\u001b[1m\u001b[31m\tat com.aerospike.client.proxy.CommandProxy$1.onNext(CommandProxy.java:88)\u001b[0m",
      "\u001b[1m\u001b[31m\tat com.aerospike.client.proxy.CommandProxy$1.onNext(CommandProxy.java:83)\u001b[0m",
      "\u001b[1m\u001b[31m\tat com.aerospike.client.proxy.grpc.GrpcStreamingCall.onNext(GrpcStreamingCall.java:115)\u001b[0m",
      "\u001b[1m\u001b[31m\tat com.aerospike.client.proxy.grpc.GrpcCallExecutor$WrappedGrpcStreamingCall.onNext(GrpcCallExecutor.java:283)\u001b[0m",
      "\u001b[1m\u001b[31m\tat com.aerospike.client.proxy.grpc.GrpcStream.onNext(GrpcStream.java:193)\u001b[0m",
      "\u001b[1m\u001b[31m\tat com.aerospike.client.proxy.grpc.GrpcStream.onNext(GrpcStream.java:50)\u001b[0m",
      "\u001b[1m\u001b[31m\tat io.grpc.stub.ClientCalls$StreamObserverToCallListenerAdapter.onMessage(ClientCalls.java:474)\u001b[0m",
      "\u001b[1m\u001b[31m\tat io.grpc.internal.ClientCallImpl$ClientStreamListenerImpl$1MessagesAvailable.runInternal(ClientCallImpl.java:660)\u001b[0m",
      "\u001b[1m\u001b[31m\tat io.grpc.internal.ClientCallImpl$ClientStreamListenerImpl$1MessagesAvailable.runInContext(ClientCallImpl.java:647)\u001b[0m",
      "\u001b[1m\u001b[31m\tat io.grpc.internal.ContextRunnable.run(ContextRunnable.java:37)\u001b[0m",
      "\u001b[1m\u001b[31m\tat io.grpc.internal.SerializeReentrantCallsDirectExecutor.execute(SerializeReentrantCallsDirectExecutor.java:49)\u001b[0m",
      "\u001b[1m\u001b[31m\tat io.grpc.internal.ClientCallImpl$ClientStreamListenerImpl.messagesAvailable(ClientCallImpl.java:675)\u001b[0m",
      "\u001b[1m\u001b[31m\tat io.grpc.internal.ForwardingClientStreamListener.messagesAvailable(ForwardingClientStreamListener.java:39)\u001b[0m",
      "\u001b[1m\u001b[31m\tat io.grpc.internal.DelayedStream$DelayedStreamListener.messagesAvailable(DelayedStream.java:468)\u001b[0m",
      "\u001b[1m\u001b[31m\tat io.grpc.internal.AbstractStream$TransportState.messagesAvailable(AbstractStream.java:183)\u001b[0m",
      "\u001b[1m\u001b[31m\tat io.grpc.internal.MessageDeframer.processBody(MessageDeframer.java:413)\u001b[0m",
      "\u001b[1m\u001b[31m\tat io.grpc.internal.MessageDeframer.deliver(MessageDeframer.java:276)\u001b[0m",
      "\u001b[1m\u001b[31m\tat io.grpc.internal.MessageDeframer.deframe(MessageDeframer.java:178)\u001b[0m",
      "\u001b[1m\u001b[31m\tat io.grpc.internal.AbstractStream$TransportState.deframe(AbstractStream.java:211)\u001b[0m",
      "\u001b[1m\u001b[31m\tat io.grpc.internal.AbstractClientStream$TransportState.inboundDataReceived(AbstractClientStream.java:360)\u001b[0m",
      "\u001b[1m\u001b[31m\tat io.grpc.internal.Http2ClientStreamTransportState.transportDataReceived(Http2ClientStreamTransportState.java:148)\u001b[0m",
      "\u001b[1m\u001b[31m\tat io.grpc.netty.NettyClientStream$TransportState.transportDataReceived(NettyClientStream.java:341)\u001b[0m",
      "\u001b[1m\u001b[31m\tat io.grpc.netty.NettyClientHandler.onDataRead(NettyClientHandler.java:394)\u001b[0m",
      "\u001b[1m\u001b[31m\tat io.grpc.netty.NettyClientHandler.access$1100(NettyClientHandler.java:93)\u001b[0m",
      "\u001b[1m\u001b[31m\tat io.grpc.netty.NettyClientHandler$FrameListener.onDataRead(NettyClientHandler.java:923)\u001b[0m",
      "\u001b[1m\u001b[31m\tat io.netty.handler.codec.http2.DefaultHttp2ConnectionDecoder$FrameReadListener.onDataRead(DefaultHttp2ConnectionDecoder.java:307)\u001b[0m",
      "\u001b[1m\u001b[31m\tat io.netty.handler.codec.http2.Http2InboundFrameLogger$1.onDataRead(Http2InboundFrameLogger.java:48)\u001b[0m",
      "\u001b[1m\u001b[31m\tat io.netty.handler.codec.http2.DefaultHttp2FrameReader.readDataFrame(DefaultHttp2FrameReader.java:415)\u001b[0m",
      "\u001b[1m\u001b[31m\tat io.netty.handler.codec.http2.DefaultHttp2FrameReader.processPayloadState(DefaultHttp2FrameReader.java:250)\u001b[0m",
      "\u001b[1m\u001b[31m\tat io.netty.handler.codec.http2.DefaultHttp2FrameReader.readFrame(DefaultHttp2FrameReader.java:159)\u001b[0m",
      "\u001b[1m\u001b[31m\tat io.netty.handler.codec.http2.Http2InboundFrameLogger.readFrame(Http2InboundFrameLogger.java:41)\u001b[0m",
      "\u001b[1m\u001b[31m\tat io.netty.handler.codec.http2.DefaultHttp2ConnectionDecoder.decodeFrame(DefaultHttp2ConnectionDecoder.java:173)\u001b[0m",
      "\u001b[1m\u001b[31m\tat io.netty.handler.codec.http2.Http2ConnectionHandler$FrameDecoder.decode(Http2ConnectionHandler.java:393)\u001b[0m",
      "\u001b[1m\u001b[31m\tat io.netty.handler.codec.http2.Http2ConnectionHandler.decode(Http2ConnectionHandler.java:453)\u001b[0m",
      "\u001b[1m\u001b[31m\tat io.netty.handler.codec.ByteToMessageDecoder.decodeRemovalReentryProtection(ByteToMessageDecoder.java:529)\u001b[0m",
      "\u001b[1m\u001b[31m\tat io.netty.handler.codec.ByteToMessageDecoder.callDecode(ByteToMessageDecoder.java:468)\u001b[0m",
      "\u001b[1m\u001b[31m\tat io.netty.handler.codec.ByteToMessageDecoder.channelRead(ByteToMessageDecoder.java:290)\u001b[0m",
      "\u001b[1m\u001b[31m\tat io.netty.channel.AbstractChannelHandlerContext.invokeChannelRead(AbstractChannelHandlerContext.java:444)\u001b[0m",
      "\u001b[1m\u001b[31m\tat io.netty.channel.AbstractChannelHandlerContext.invokeChannelRead(AbstractChannelHandlerContext.java:420)\u001b[0m",
      "\u001b[1m\u001b[31m\tat io.netty.channel.AbstractChannelHandlerContext.fireChannelRead(AbstractChannelHandlerContext.java:412)\u001b[0m",
      "\u001b[1m\u001b[31m\tat io.netty.handler.ssl.SslHandler.unwrap(SslHandler.java:1383)\u001b[0m",
      "\u001b[1m\u001b[31m\tat io.netty.handler.ssl.SslHandler.decodeJdkCompatible(SslHandler.java:1246)\u001b[0m",
      "\u001b[1m\u001b[31m\tat io.netty.handler.ssl.SslHandler.decode(SslHandler.java:1295)\u001b[0m",
      "\u001b[1m\u001b[31m\tat io.netty.handler.codec.ByteToMessageDecoder.decodeRemovalReentryProtection(ByteToMessageDecoder.java:529)\u001b[0m",
      "\u001b[1m\u001b[31m\tat io.netty.handler.codec.ByteToMessageDecoder.callDecode(ByteToMessageDecoder.java:468)\u001b[0m",
      "\u001b[1m\u001b[31m\tat io.netty.handler.codec.ByteToMessageDecoder.channelRead(ByteToMessageDecoder.java:290)\u001b[0m",
      "\u001b[1m\u001b[31m\tat io.netty.channel.AbstractChannelHandlerContext.invokeChannelRead(AbstractChannelHandlerContext.java:444)\u001b[0m",
      "\u001b[1m\u001b[31m\tat io.netty.channel.AbstractChannelHandlerContext.invokeChannelRead(AbstractChannelHandlerContext.java:420)\u001b[0m",
      "\u001b[1m\u001b[31m\tat io.netty.channel.AbstractChannelHandlerContext.fireChannelRead(AbstractChannelHandlerContext.java:412)\u001b[0m",
      "\u001b[1m\u001b[31m\tat io.netty.channel.DefaultChannelPipeline$HeadContext.channelRead(DefaultChannelPipeline.java:1410)\u001b[0m",
      "\u001b[1m\u001b[31m\tat io.netty.channel.AbstractChannelHandlerContext.invokeChannelRead(AbstractChannelHandlerContext.java:440)\u001b[0m",
      "\u001b[1m\u001b[31m\tat io.netty.channel.AbstractChannelHandlerContext.invokeChannelRead(AbstractChannelHandlerContext.java:420)\u001b[0m",
      "\u001b[1m\u001b[31m\tat io.netty.channel.DefaultChannelPipeline.fireChannelRead(DefaultChannelPipeline.java:919)\u001b[0m",
      "\u001b[1m\u001b[31m\tat io.netty.channel.epoll.AbstractEpollStreamChannel$EpollStreamUnsafe.epollInReady(AbstractEpollStreamChannel.java:800)\u001b[0m",
      "\u001b[1m\u001b[31m\tat io.netty.channel.epoll.EpollEventLoop.processReady(EpollEventLoop.java:499)\u001b[0m",
      "\u001b[1m\u001b[31m\tat io.netty.channel.epoll.EpollEventLoop.run(EpollEventLoop.java:397)\u001b[0m",
      "\u001b[1m\u001b[31m\tat io.netty.util.concurrent.SingleThreadEventExecutor$4.run(SingleThreadEventExecutor.java:997)\u001b[0m",
      "\u001b[1m\u001b[31m\tat io.netty.util.internal.ThreadExecutorMap$2.run(ThreadExecutorMap.java:74)\u001b[0m",
      "\u001b[1m\u001b[31m\tat io.netty.util.concurrent.FastThreadLocalRunnable.run(FastThreadLocalRunnable.java:30)\u001b[0m",
      "\u001b[1m\u001b[31m\tat java.base/java.lang.Thread.run(Thread.java:829)\u001b[0m"
     ]
    }
   ],
   "source": [
    "//Needed imports\n",
    "import com.aerospike.client.query.Statement;\n",
    "import com.aerospike.client.query.Filter;\n",
    "import com.aerospike.client.query.RecordSet;\n",
    "import com.aerospike.client.policy.QueryPolicy;\n",
    "import com.aerospike.client.exp.Exp;\n",
    "import com.aerospike.client.exp.Exp.Type;\n",
    "import com.aerospike.client.query.RegexFlag;\n",
    "\n",
    "//Run SI query\n",
    "Statement stmt = new Statement();\n",
    "stmt.setNamespace(\"aerospike_cloud\");\n",
    "stmt.setSetName(\"testset\");\n",
    "stmt.setFilter(Filter.range(\"age\", 20,60));\n",
    "QueryPolicy qp = new QueryPolicy();\n",
    "\n",
    "//String[] keys = {\"key1\", \"key2\", \"key8\"};\n",
    "Exp exp = Exp.val(false);  //init to false\n",
    "//for (int i=0; i<keys.length; i++)\n",
    "//{\n",
    "   //exp = Exp.or(exp, Exp.eq(Exp.key(Type.STRING), Exp.val(keys[i]))); \n",
    "   exp = Exp.regexCompare(\"^.*apple.*\",RegexFlag.ICASE,Exp.key(Type.STRING)); \n",
    "//}\n",
    "qp.filterExp = Exp.build(exp);\n",
    "\n",
    "// Add Expression\n",
    "/*\n",
    "qp.filterExp = Exp.build(Exp.or( \n",
    "  Exp.eq(Exp.key(Type.STRING), Exp.val(\"key1\")),   //Jack\n",
    "  Exp.eq(Exp.key(Type.STRING), Exp.val(\"key2\")),   //Jill\n",
    "  Exp.eq(Exp.key(Type.STRING), Exp.val(\"key8\"))    //Sam, age 12, SI age reject.\n",
    "  )\n",
    "  );\n",
    "\n",
    "*/\n",
    "\n",
    "\n",
    "RecordSet rs = client.query(qp, stmt);\n",
    "while (rs.next()){\n",
    "  Record r = rs.getRecord();\n",
    "  Key k = rs.getKey();  \n",
    "  System.out.println(r);\n",
    "    System.out.println(k);\n",
    "}"
   ]
  },
  {
   "cell_type": "markdown",
   "id": "78c2ea78",
   "metadata": {},
   "source": [
    "#### Test Sindex, Type STRING, with Filter Expression"
   ]
  },
  {
   "cell_type": "code",
   "execution_count": 23,
   "id": "5e944ef0",
   "metadata": {},
   "outputs": [
    {
     "ename": "EvalException",
     "evalue": "Error 201,1,0,30000,0,5: Index not found",
     "output_type": "error",
     "traceback": [
      "\u001b[1m\u001b[31m---------------------------------------------------------------------------\u001b[0m",
      "\u001b[1m\u001b[31mcom.aerospike.client.AerospikeException: Error 201,1,0,30000,0,5: Index not found\u001b[0m",
      "\u001b[1m\u001b[31m\tat com.aerospike.client.proxy.MultiCommandProxy.parseRecordResult(MultiCommandProxy.java:104)\u001b[0m",
      "\u001b[1m\u001b[31m\tat com.aerospike.client.proxy.ScanQueryBaseCommandProxy.parseResult(ScanQueryBaseCommandProxy.java:64)\u001b[0m",
      "\u001b[1m\u001b[31m\tat com.aerospike.client.proxy.MultiCommandProxy.onResponse(MultiCommandProxy.java:56)\u001b[0m",
      "\u001b[1m\u001b[31m\tat com.aerospike.client.proxy.CommandProxy$1.onNext(CommandProxy.java:88)\u001b[0m",
      "\u001b[1m\u001b[31m\tat com.aerospike.client.proxy.CommandProxy$1.onNext(CommandProxy.java:83)\u001b[0m",
      "\u001b[1m\u001b[31m\tat com.aerospike.client.proxy.grpc.GrpcStreamingCall.onNext(GrpcStreamingCall.java:115)\u001b[0m",
      "\u001b[1m\u001b[31m\tat com.aerospike.client.proxy.grpc.GrpcCallExecutor$WrappedGrpcStreamingCall.onNext(GrpcCallExecutor.java:283)\u001b[0m",
      "\u001b[1m\u001b[31m\tat com.aerospike.client.proxy.grpc.GrpcStream.onNext(GrpcStream.java:193)\u001b[0m",
      "\u001b[1m\u001b[31m\tat com.aerospike.client.proxy.grpc.GrpcStream.onNext(GrpcStream.java:50)\u001b[0m",
      "\u001b[1m\u001b[31m\tat io.grpc.stub.ClientCalls$StreamObserverToCallListenerAdapter.onMessage(ClientCalls.java:474)\u001b[0m",
      "\u001b[1m\u001b[31m\tat io.grpc.internal.ClientCallImpl$ClientStreamListenerImpl$1MessagesAvailable.runInternal(ClientCallImpl.java:660)\u001b[0m",
      "\u001b[1m\u001b[31m\tat io.grpc.internal.ClientCallImpl$ClientStreamListenerImpl$1MessagesAvailable.runInContext(ClientCallImpl.java:647)\u001b[0m",
      "\u001b[1m\u001b[31m\tat io.grpc.internal.ContextRunnable.run(ContextRunnable.java:37)\u001b[0m",
      "\u001b[1m\u001b[31m\tat io.grpc.internal.SerializeReentrantCallsDirectExecutor.execute(SerializeReentrantCallsDirectExecutor.java:49)\u001b[0m",
      "\u001b[1m\u001b[31m\tat io.grpc.internal.ClientCallImpl$ClientStreamListenerImpl.messagesAvailable(ClientCallImpl.java:675)\u001b[0m",
      "\u001b[1m\u001b[31m\tat io.grpc.internal.ForwardingClientStreamListener.messagesAvailable(ForwardingClientStreamListener.java:39)\u001b[0m",
      "\u001b[1m\u001b[31m\tat io.grpc.internal.DelayedStream$DelayedStreamListener.messagesAvailable(DelayedStream.java:468)\u001b[0m",
      "\u001b[1m\u001b[31m\tat io.grpc.internal.AbstractStream$TransportState.messagesAvailable(AbstractStream.java:183)\u001b[0m",
      "\u001b[1m\u001b[31m\tat io.grpc.internal.MessageDeframer.processBody(MessageDeframer.java:413)\u001b[0m",
      "\u001b[1m\u001b[31m\tat io.grpc.internal.MessageDeframer.deliver(MessageDeframer.java:276)\u001b[0m",
      "\u001b[1m\u001b[31m\tat io.grpc.internal.MessageDeframer.deframe(MessageDeframer.java:178)\u001b[0m",
      "\u001b[1m\u001b[31m\tat io.grpc.internal.AbstractStream$TransportState.deframe(AbstractStream.java:211)\u001b[0m",
      "\u001b[1m\u001b[31m\tat io.grpc.internal.AbstractClientStream$TransportState.inboundDataReceived(AbstractClientStream.java:360)\u001b[0m",
      "\u001b[1m\u001b[31m\tat io.grpc.internal.Http2ClientStreamTransportState.transportDataReceived(Http2ClientStreamTransportState.java:148)\u001b[0m",
      "\u001b[1m\u001b[31m\tat io.grpc.netty.NettyClientStream$TransportState.transportDataReceived(NettyClientStream.java:341)\u001b[0m",
      "\u001b[1m\u001b[31m\tat io.grpc.netty.NettyClientHandler.onDataRead(NettyClientHandler.java:394)\u001b[0m",
      "\u001b[1m\u001b[31m\tat io.grpc.netty.NettyClientHandler.access$1100(NettyClientHandler.java:93)\u001b[0m",
      "\u001b[1m\u001b[31m\tat io.grpc.netty.NettyClientHandler$FrameListener.onDataRead(NettyClientHandler.java:923)\u001b[0m",
      "\u001b[1m\u001b[31m\tat io.netty.handler.codec.http2.DefaultHttp2ConnectionDecoder$FrameReadListener.onDataRead(DefaultHttp2ConnectionDecoder.java:307)\u001b[0m",
      "\u001b[1m\u001b[31m\tat io.netty.handler.codec.http2.Http2InboundFrameLogger$1.onDataRead(Http2InboundFrameLogger.java:48)\u001b[0m",
      "\u001b[1m\u001b[31m\tat io.netty.handler.codec.http2.DefaultHttp2FrameReader.readDataFrame(DefaultHttp2FrameReader.java:415)\u001b[0m",
      "\u001b[1m\u001b[31m\tat io.netty.handler.codec.http2.DefaultHttp2FrameReader.processPayloadState(DefaultHttp2FrameReader.java:250)\u001b[0m",
      "\u001b[1m\u001b[31m\tat io.netty.handler.codec.http2.DefaultHttp2FrameReader.readFrame(DefaultHttp2FrameReader.java:159)\u001b[0m",
      "\u001b[1m\u001b[31m\tat io.netty.handler.codec.http2.Http2InboundFrameLogger.readFrame(Http2InboundFrameLogger.java:41)\u001b[0m",
      "\u001b[1m\u001b[31m\tat io.netty.handler.codec.http2.DefaultHttp2ConnectionDecoder.decodeFrame(DefaultHttp2ConnectionDecoder.java:173)\u001b[0m",
      "\u001b[1m\u001b[31m\tat io.netty.handler.codec.http2.Http2ConnectionHandler$FrameDecoder.decode(Http2ConnectionHandler.java:393)\u001b[0m",
      "\u001b[1m\u001b[31m\tat io.netty.handler.codec.http2.Http2ConnectionHandler.decode(Http2ConnectionHandler.java:453)\u001b[0m",
      "\u001b[1m\u001b[31m\tat io.netty.handler.codec.ByteToMessageDecoder.decodeRemovalReentryProtection(ByteToMessageDecoder.java:529)\u001b[0m",
      "\u001b[1m\u001b[31m\tat io.netty.handler.codec.ByteToMessageDecoder.callDecode(ByteToMessageDecoder.java:468)\u001b[0m",
      "\u001b[1m\u001b[31m\tat io.netty.handler.codec.ByteToMessageDecoder.channelRead(ByteToMessageDecoder.java:290)\u001b[0m",
      "\u001b[1m\u001b[31m\tat io.netty.channel.AbstractChannelHandlerContext.invokeChannelRead(AbstractChannelHandlerContext.java:444)\u001b[0m",
      "\u001b[1m\u001b[31m\tat io.netty.channel.AbstractChannelHandlerContext.invokeChannelRead(AbstractChannelHandlerContext.java:420)\u001b[0m",
      "\u001b[1m\u001b[31m\tat io.netty.channel.AbstractChannelHandlerContext.fireChannelRead(AbstractChannelHandlerContext.java:412)\u001b[0m",
      "\u001b[1m\u001b[31m\tat io.netty.handler.ssl.SslHandler.unwrap(SslHandler.java:1383)\u001b[0m",
      "\u001b[1m\u001b[31m\tat io.netty.handler.ssl.SslHandler.decodeJdkCompatible(SslHandler.java:1246)\u001b[0m",
      "\u001b[1m\u001b[31m\tat io.netty.handler.ssl.SslHandler.decode(SslHandler.java:1295)\u001b[0m",
      "\u001b[1m\u001b[31m\tat io.netty.handler.codec.ByteToMessageDecoder.decodeRemovalReentryProtection(ByteToMessageDecoder.java:529)\u001b[0m",
      "\u001b[1m\u001b[31m\tat io.netty.handler.codec.ByteToMessageDecoder.callDecode(ByteToMessageDecoder.java:468)\u001b[0m",
      "\u001b[1m\u001b[31m\tat io.netty.handler.codec.ByteToMessageDecoder.channelRead(ByteToMessageDecoder.java:290)\u001b[0m",
      "\u001b[1m\u001b[31m\tat io.netty.channel.AbstractChannelHandlerContext.invokeChannelRead(AbstractChannelHandlerContext.java:444)\u001b[0m",
      "\u001b[1m\u001b[31m\tat io.netty.channel.AbstractChannelHandlerContext.invokeChannelRead(AbstractChannelHandlerContext.java:420)\u001b[0m",
      "\u001b[1m\u001b[31m\tat io.netty.channel.AbstractChannelHandlerContext.fireChannelRead(AbstractChannelHandlerContext.java:412)\u001b[0m",
      "\u001b[1m\u001b[31m\tat io.netty.channel.DefaultChannelPipeline$HeadContext.channelRead(DefaultChannelPipeline.java:1410)\u001b[0m",
      "\u001b[1m\u001b[31m\tat io.netty.channel.AbstractChannelHandlerContext.invokeChannelRead(AbstractChannelHandlerContext.java:440)\u001b[0m",
      "\u001b[1m\u001b[31m\tat io.netty.channel.AbstractChannelHandlerContext.invokeChannelRead(AbstractChannelHandlerContext.java:420)\u001b[0m",
      "\u001b[1m\u001b[31m\tat io.netty.channel.DefaultChannelPipeline.fireChannelRead(DefaultChannelPipeline.java:919)\u001b[0m",
      "\u001b[1m\u001b[31m\tat io.netty.channel.epoll.AbstractEpollStreamChannel$EpollStreamUnsafe.epollInReady(AbstractEpollStreamChannel.java:800)\u001b[0m",
      "\u001b[1m\u001b[31m\tat io.netty.channel.epoll.EpollEventLoop.processReady(EpollEventLoop.java:499)\u001b[0m",
      "\u001b[1m\u001b[31m\tat io.netty.channel.epoll.EpollEventLoop.run(EpollEventLoop.java:397)\u001b[0m",
      "\u001b[1m\u001b[31m\tat io.netty.util.concurrent.SingleThreadEventExecutor$4.run(SingleThreadEventExecutor.java:997)\u001b[0m",
      "\u001b[1m\u001b[31m\tat io.netty.util.internal.ThreadExecutorMap$2.run(ThreadExecutorMap.java:74)\u001b[0m",
      "\u001b[1m\u001b[31m\tat io.netty.util.concurrent.FastThreadLocalRunnable.run(FastThreadLocalRunnable.java:30)\u001b[0m",
      "\u001b[1m\u001b[31m\tat java.base/java.lang.Thread.run(Thread.java:829)\u001b[0m"
     ]
    }
   ],
   "source": [
    "//Run SI query\n",
    "Statement stmt2 = new Statement();\n",
    "stmt2.setNamespace(\"aerospike_cloud\");\n",
    "stmt2.setSetName(\"testset\");\n",
    "stmt2.setFilter(Filter.equal(\"name\", \"Jill\"));\n",
    "QueryPolicy qp = new QueryPolicy();\n",
    "\n",
    "//String[] keys = {\"key1\", \"key2\", \"key8\"};\n",
    "Exp exp = Exp.val(false);  //init to false\n",
    "//for (int i=0; i<keys.length; i++)\n",
    "//{\n",
    "   //exp = Exp.or(exp, Exp.eq(Exp.key(Type.STRING), Exp.val(keys[i]))); \n",
    "   exp = Exp.regexCompare(\"^.*grape.*\",RegexFlag.ICASE,Exp.key(Type.STRING)); \n",
    "//}\n",
    "qp.filterExp = Exp.build(exp);\n",
    "\n",
    "// Add Expression\n",
    "/*\n",
    "qp.filterExp = Exp.build(Exp.or( \n",
    "  Exp.eq(Exp.key(Type.STRING), Exp.val(\"key1\")),   //Jack\n",
    "  Exp.eq(Exp.key(Type.STRING), Exp.val(\"key2\")),   //Jill\n",
    "  Exp.eq(Exp.key(Type.STRING), Exp.val(\"key8\"))    //Sam, age 12, SI age reject.\n",
    "  )\n",
    "  );\n",
    "*/\n",
    "\n",
    "\n",
    "\n",
    "RecordSet rs = client.query(qp, stmt2);\n",
    "while (rs.next()){\n",
    "  Record r = rs.getRecord();\n",
    "  Key k = rs.getKey();  \n",
    "  System.out.println(r);\n",
    "    System.out.println(k);\n",
    "}"
   ]
  },
  {
   "cell_type": "markdown",
   "id": "f040958f",
   "metadata": {},
   "source": [
    "#### Test Sindex, Collection Data Types, with CTX"
   ]
  },
  {
   "cell_type": "markdown",
   "id": "5405649e",
   "metadata": {},
   "source": [
    "#### Test Sindex, Collection Data Types, with CTX  - Setup and Generate Test Records"
   ]
  },
  {
   "cell_type": "code",
   "execution_count": 24,
   "id": "7cf10957",
   "metadata": {},
   "outputs": [],
   "source": [
    "Truncate tr = new Truncate();\n",
    "tr.truncate(AEROSPIKE_CLOUD_NAMESPACE, \"testset\", 0);"
   ]
  },
  {
   "cell_type": "code",
   "execution_count": 25,
   "id": "acbfcc5f",
   "metadata": {},
   "outputs": [],
   "source": [
    "// import all needed modules\n",
    "import java.util.ArrayList;\n",
    "import java.util.Arrays;\n",
    "import java.util.HashMap;\n",
    "import java.util.List;\n",
    "import java.util.Map;\n",
    "\n",
    "import com.aerospike.client.AerospikeException;\n",
    "import com.aerospike.client.Key;\n",
    "import com.aerospike.client.Bin;\n",
    "import com.aerospike.client.policy.WritePolicy;\n",
    "import com.aerospike.client.policy.ClientPolicy;\n",
    "import com.aerospike.client.Record;\n",
    "import com.aerospike.client.Operation;\n",
    "import com.aerospike.client.Value;\n",
    "import com.aerospike.client.Value.ListValue;\n",
    "import com.aerospike.client.Value.MapValue;\n",
    "import com.aerospike.client.cdt.ListOperation;\n",
    "import com.aerospike.client.cdt.ListPolicy;\n",
    "import com.aerospike.client.cdt.ListOrder;\n",
    "import com.aerospike.client.cdt.ListWriteFlags;\n",
    "import com.aerospike.client.cdt.MapOperation;\n",
    "import com.aerospike.client.cdt.MapPolicy;\n",
    "import com.aerospike.client.cdt.MapOrder;\n",
    "import com.aerospike.client.cdt.MapWriteFlags;\n",
    "import com.aerospike.client.query.Statement;\n",
    "import com.aerospike.client.query.Filter;\n",
    "import com.aerospike.client.query.RecordSet;\n",
    "import com.aerospike.client.Record;\n",
    "import com.aerospike.client.policy.QueryPolicy;\n",
    "import com.aerospike.client.exp.Exp;\n",
    "import com.aerospike.client.query.IndexType;\n",
    "import com.aerospike.client.query.IndexCollectionType;\n",
    "import com.aerospike.client.task.IndexTask;\n",
    "import com.aerospike.client.AerospikeException;\n",
    "import com.aerospike.client.ResultCode;\n",
    "import com.aerospike.client.cdt.CTX;"
   ]
  },
  {
   "cell_type": "code",
   "execution_count": 26,
   "id": "4e31be8b",
   "metadata": {},
   "outputs": [],
   "source": [
    "final String Namespace = \"aerospike_cloud\";\n",
    "final String Set = \"testset\";\n",
    "final String ListBin = \"list_bin\";\n",
    "final String MapBin = \"map_bin\";"
   ]
  },
  {
   "cell_type": "markdown",
   "id": "0543a1eb",
   "metadata": {},
   "source": [
    "## CDT Test Data\n",
    "We will illustrate how to create indexes on CDTs and issues queries using two CDTs - a nested List and a nested Map that are populated in 10 records each.\n",
    "\n",
    "A nested List in records with user_key (id) 1-10. The list is held in bin list_bin and has the following numeric, string, and List elements.\n",
    "\n",
    "\n",
    "\n",
    "Numeric elements: user_key to user_key+4.\n",
    "For example, for user_key=1: 1, 2, 3, 4, 5.\n",
    "String elements: \"s\"+user_key to \"s\"+(user_key+4).\n",
    "For example, for user_key=1: \"s1\", \"s2\", \"s3\", \"s4\", \"s5\"\n",
    "Nested List element: holds numeric elements (10\\*user_key)+1 to (10\\*user_key)+5.\n",
    "\n",
    "For example, for user_key=1: [11, 12, 13, 44, 15].\n",
    "So, the value in list_bin for the record with user_key=1 looks like:\n",
    "\n",
    "[ 1,\"s1\", 2, \"s2\", 3, \"s3\" 4, \"s4\", 5, \"s5\", [ 11, 12, 13, 14, 15 ] ].\n",
    "\n",
    "![fig_CDTDM_1](./graphics/CDT_DM_1.png)\n",
    "\n",
    "A nested Map in records with user_key (id) 101-110. The map is held in bin map_bin and has the following numeric, string, and List elements. Below, we have used i with a shorthand for i=user_key-100.\n",
    "\n",
    "\n",
    "\"oid\": i.\n",
    "For example, for i=1: 1.\n",
    "\"obj\": a nested map with the following key-value pairs: {\"attr1\": (10\\*i)+1, \"attr2\": \"s\"+(10\\*i)+2, \"subobj\": {\"attr3\": (100\\*i)+1, \"attr4\": (100\\*i)+2}}.\n",
    "For example, for i=1: {\"attr1\": 11, \"attr2\": \"s12\", \"subobj\": {\"attr3\": 101, \"attr4\": 102}}.\n",
    "i: [\"s\"+i, \"s\"+i+1].\n",
    "\n",
    "For example, for i=1: the key-value pair is 1: [\"s1\", \"s2\"].\n",
    "So, the value in map_bin for the record with user_key=1 looks like:\n",
    "\n",
    "{\n",
    "  \"oid\": 1, \n",
    "  \"obj\": {\"attr1\": 11, \"attr2\": \"s12\", \"subobj\": {\"attr3\": 101, \"attr4\": 102}}, \n",
    "  1: [\"s1\", \"s2\"]\n",
    "}\n",
    "\n",
    "![fig_DM_2](./graphics/CDT_DM_2.png)\n",
    "\n",
    "\n",
    "## Populate Test Data\n",
    "Execute the cell below to populate the test data described above.\n",
    "\n",
    "**We will insert 10 records with userkey=1 through 10 with ListBin, and  records with userkey = 101 thru 110 with MapBin.**"
   ]
  },
  {
   "cell_type": "code",
   "execution_count": 27,
   "id": "73dbb495",
   "metadata": {},
   "outputs": [],
   "source": [
    "// Convenience function to execute a query using the input filter and print the results\n",
    "void executeQueryAndPrintResults(Filter filter, String binName) {\n",
    "    Statement stmt = new Statement();\n",
    "    stmt.setNamespace(Namespace);\n",
    "    stmt.setSetName(Set);\n",
    "    stmt.setFilter(filter);\n",
    "    stmt.setBinNames(binName);\n",
    "    RecordSet rs = client.query(null, stmt);\n",
    "    while (rs.next()) {\n",
    "        Key key = rs.getKey();\n",
    "        Record record = rs.getRecord();\n",
    "        System.out.format(\"key=%s bins=%s\\n\", key.userKey, record.bins);\n",
    "    }\n",
    "    //System.out.println();\n",
    "    rs.close();\n",
    "}\n",
    "\n",
    "WritePolicy wpolicy = new WritePolicy();\n",
    "wpolicy.sendKey = true;\n",
    "\n",
    "// create the list_bin with [i..i+4, \"s\"+i..\"s\"+4, [10*i+1..10*i+5]]\n",
    "for (int user_key = 1; user_key <= 10; user_key++) {\n",
    "    Key key = new Key(Namespace, Set, user_key);\n",
    "\n",
    "    // append integer and string elements\n",
    "    ArrayList<Value> list_val = new ArrayList<Value>();\n",
    "    for (int n = user_key; n < user_key+5; n++) {\n",
    "        list_val.add(Value.get(n));\n",
    "        list_val.add(Value.get(\"s\"+Integer.toString(n)));\n",
    "    }\n",
    "\n",
    "    // append string elements\n",
    "    //for (int n=user_key; n < user_key+5; n++) {\n",
    "    //    list_val.add(Value.get(\"s\"+Integer.toString(n)));\n",
    "    //}\n",
    "\n",
    "    // append the nested list element\n",
    "    ArrayList<Integer> list_int = new ArrayList<Integer>();\n",
    "    for (int n=user_key*10+1; n < user_key*10+6; n++) {\n",
    "        list_int.add(n);\n",
    "    }\n",
    "    ListValue list_int_val = new ListValue(list_int);\n",
    "\n",
    "    // create the list bin\n",
    "    Record record = client.operate(wpolicy, key,\n",
    "                                    ListOperation.clear(ListBin), \n",
    "                                    ListOperation.appendItems(ListBin, list_val), \n",
    "                                    ListOperation.append(ListBin, list_int_val));\n",
    "}\n",
    "\n",
    "// create map bin with \n",
    "//    \"oid\": i,\n",
    "//    \"obj\": {\"attr1\": 10*i+1, \"attr2\": \"s\"+10*+i+2, \"subobj\": {\"attr3\": 100*1+1, \"attr4\": 100*1+2}}, \n",
    "//    i: [\"s\"+i, \"s\"+i+1]\n",
    "\n",
    "\n",
    "for (int user_key = 101; user_key <= 110; user_key++) {\n",
    "    Integer i = user_key - 100;\n",
    "    \n",
    "    Key key = new Key(Namespace, Set, user_key);\n",
    "    \n",
    "    // construct obj map value\n",
    "    HashMap <String, Value> obj = new HashMap <String, Value>();\n",
    "    obj.put(\"attr1\", Value.get(10*i+1));    \n",
    "    obj.put(\"attr2\", Value.get(\"s\"+Integer.toString(10*i+2)));   \n",
    "    HashMap <String, Integer> subobj = new HashMap <String, Integer>();\n",
    "    subobj.put(\"attr3\", 100*i+1);    \n",
    "    subobj.put(\"attr4\", 100*i+2);    \n",
    "    obj.put(\"subobj\", new MapValue(subobj));   \n",
    "\n",
    "    // construct arr list value\n",
    "    ArrayList<String> arr = new ArrayList<String>();\n",
    "    arr.add(\"s\"+Integer.toString(i*10+1));\n",
    "    arr.add(\"s\"+Integer.toString(i*10+2));\n",
    "    \n",
    "    // create the map in map_bin\n",
    "    MapPolicy mPolicy = new MapPolicy(MapOrder.UNORDERED, MapWriteFlags.DEFAULT);\n",
    "    Record record = client.operate(wpolicy, key,\n",
    "                                MapOperation.clear(MapBin), \n",
    "                                MapOperation.put(mPolicy, MapBin, \n",
    "                                            Value.get(\"oid\"), Value.get(i)),\n",
    "                                MapOperation.put(mPolicy, MapBin, \n",
    "                                            Value.get(\"obj\"), new MapValue(obj)),\n",
    "                                MapOperation.put(mPolicy, MapBin, \n",
    "                                            Value.get(i), new ListValue(arr))\n",
    "                                ); \n",
    "}"
   ]
  },
  {
   "cell_type": "code",
   "execution_count": 28,
   "id": "f9459454",
   "metadata": {},
   "outputs": [
    {
     "name": "stdout",
     "output_type": "stream",
     "text": [
      "(gen:1),(exp:0),(bins:(list_bin:[1, s1, 2, s2, 3, s3, 4, s4, 5, s5, [11, 12, 13, 14, 15]]))\n",
      "(gen:1),(exp:0),(bins:(list_bin:[2, s2, 3, s3, 4, s4, 5, s5, 6, s6, [21, 22, 23, 24, 25]]))\n",
      "(gen:1),(exp:0),(bins:(list_bin:[3, s3, 4, s4, 5, s5, 6, s6, 7, s7, [31, 32, 33, 34, 35]]))\n",
      "(gen:1),(exp:0),(bins:(list_bin:[4, s4, 5, s5, 6, s6, 7, s7, 8, s8, [41, 42, 43, 44, 45]]))\n",
      "(gen:1),(exp:0),(bins:(list_bin:[5, s5, 6, s6, 7, s7, 8, s8, 9, s9, [51, 52, 53, 54, 55]]))\n",
      "(gen:1),(exp:0),(bins:(list_bin:[6, s6, 7, s7, 8, s8, 9, s9, 10, s10, [61, 62, 63, 64, 65]]))\n",
      "(gen:1),(exp:0),(bins:(list_bin:[7, s7, 8, s8, 9, s9, 10, s10, 11, s11, [71, 72, 73, 74, 75]]))\n",
      "(gen:1),(exp:0),(bins:(list_bin:[8, s8, 9, s9, 10, s10, 11, s11, 12, s12, [81, 82, 83, 84, 85]]))\n",
      "(gen:1),(exp:0),(bins:(list_bin:[9, s9, 10, s10, 11, s11, 12, s12, 13, s13, [91, 92, 93, 94, 95]]))\n",
      "(gen:1),(exp:0),(bins:(list_bin:[10, s10, 11, s11, 12, s12, 13, s13, 14, s14, [101, 102, 103, 104, 105]]))\n"
     ]
    }
   ],
   "source": [
    "for (int user_key = 1; user_key <= 10; user_key++) {\n",
    "    Key key = new Key(Namespace, Set, user_key);\n",
    "    System.out.println(client.get(null, key));\n",
    "}\n"
   ]
  },
  {
   "cell_type": "code",
   "execution_count": 29,
   "id": "1670eae9",
   "metadata": {},
   "outputs": [
    {
     "name": "stdout",
     "output_type": "stream",
     "text": [
      "(gen:1),(exp:0),(bins:(map_bin:{1=[s11, s12], obj={attr2=s12, attr1=11, subobj={attr4=102, attr3=101}}, oid=1}))\n",
      "(gen:1),(exp:0),(bins:(map_bin:{obj={attr2=s22, attr1=21, subobj={attr4=202, attr3=201}}, 2=[s21, s22], oid=2}))\n",
      "(gen:1),(exp:0),(bins:(map_bin:{obj={attr2=s32, attr1=31, subobj={attr4=302, attr3=301}}, oid=3, 3=[s31, s32]}))\n",
      "(gen:1),(exp:0),(bins:(map_bin:{4=[s41, s42], obj={attr2=s42, attr1=41, subobj={attr4=402, attr3=401}}, oid=4}))\n",
      "(gen:1),(exp:0),(bins:(map_bin:{5=[s51, s52], obj={attr2=s52, attr1=51, subobj={attr4=502, attr3=501}}, oid=5}))\n",
      "(gen:1),(exp:0),(bins:(map_bin:{obj={attr2=s62, attr1=61, subobj={attr4=602, attr3=601}}, 6=[s61, s62], oid=6}))\n",
      "(gen:1),(exp:0),(bins:(map_bin:{obj={attr2=s72, attr1=71, subobj={attr4=702, attr3=701}}, oid=7, 7=[s71, s72]}))\n",
      "(gen:1),(exp:0),(bins:(map_bin:{8=[s81, s82], obj={attr2=s82, attr1=81, subobj={attr4=802, attr3=801}}, oid=8}))\n",
      "(gen:1),(exp:0),(bins:(map_bin:{9=[s91, s92], obj={attr2=s92, attr1=91, subobj={attr4=902, attr3=901}}, oid=9}))\n",
      "(gen:1),(exp:0),(bins:(map_bin:{obj={attr2=s102, attr1=101, subobj={attr4=1002, attr3=1001}}, 10=[s101, s102], oid=10}))\n"
     ]
    }
   ],
   "source": [
    "for (int user_key = 101; user_key <= 110; user_key++) {\n",
    "    Key key = new Key(Namespace, Set, user_key);\n",
    "    System.out.println(client.get(null, key));\n",
    "}\n"
   ]
  },
  {
   "cell_type": "markdown",
   "id": "0fbf74e2",
   "metadata": {},
   "source": [
    "## Non-Collection Indexes\n",
    "We will illustrate how indexes on non-collection elements are created and used. We will start with results in mind, and then create the appropriate index, issue a query using the index, and show the results.\n",
    "\n",
    "### Equality queries\n",
    "Get records with a specific integer or string value at a specific index, rank, or key position of a List or a Map.\n",
    "\n",
    "#### Records with a specific value at index X of a List or Map\n",
    "##### The top level List in list_bin has has numeric value = 3 at List Index = 2.\n",
    "\n",
    "![fig_EX_1](./graphics/CDT_EX_1.png)\n"
   ]
  },
  {
   "cell_type": "code",
   "execution_count": 30,
   "id": "77799469",
   "metadata": {},
   "outputs": [
    {
     "name": "stdout",
     "output_type": "stream",
     "text": [
      "Records with the value 3 at position 2 of the top List in list_bin:\n",
      "key=2 bins={list_bin=[2, s2, 3, s3, 4, s4, 5, s5, 6, s6, [21, 22, 23, 24, 25]]}\n"
     ]
    }
   ],
   "source": [
    "// Create an index for element at position 2 of the top List in list_bin. (via the UI) \n",
    "// idx_list_bin_top_pos_2_num\n",
    "// createIndex(\"idx_list_bin_top_pos_2_num\", ListBin, IndexType.NUMERIC, IndexCollectionType.DEFAULT, CTX.listIndex(2));\n",
    "\n",
    "\n",
    "// issue the query and print results\n",
    "System.out.println(\"Records with the value 3 at position 2 of the top List in list_bin:\");\n",
    "Filter filter = Filter.equal(ListBin, 3, CTX.listIndex(2));\n",
    "executeQueryAndPrintResults(filter, ListBin);"
   ]
  },
  {
   "cell_type": "markdown",
   "id": "673eff21",
   "metadata": {},
   "source": [
    "##### The top level Map in map_bin has numeric value 7 at map index = 2.\n",
    "\n",
    "\n",
    "![fig_EX_2](./graphics/CDT_EX_2.png)"
   ]
  },
  {
   "cell_type": "code",
   "execution_count": 31,
   "id": "f76351a6",
   "metadata": {},
   "outputs": [
    {
     "name": "stdout",
     "output_type": "stream",
     "text": [
      "Records with the value 7 at position 2 of the top Map in map_bin:\n",
      "key=107 bins={map_bin={obj={attr2=s72, attr1=71, subobj={attr4=702, attr3=701}}, oid=7, 7=[s71, s72]}}\n"
     ]
    }
   ],
   "source": [
    "// Create an index for element at position 2 of the top Map in map_bin. Note, in the key ordered sequence, \n",
    "//   \"oid\" element is in position 2 after the numeric key and \"obj\".\n",
    "// idx_map_bin_top_pos_2_num\n",
    "//createIndex(\"idx_map_bin_top_pos_2_num\", MapBin, IndexType.NUMERIC, IndexCollectionType.DEFAULT, CTX.mapIndex(2));\n",
    "\n",
    "// issue the query and print results\n",
    "System.out.println(\"Records with the value 7 at position 2 of the top Map in map_bin:\");\n",
    "Filter filter = Filter.equal(MapBin, 7, CTX.mapIndex(2));\n",
    "executeQueryAndPrintResults(filter, MapBin);"
   ]
  },
  {
   "cell_type": "markdown",
   "id": "61b28878",
   "metadata": {},
   "source": [
    "### Records with a specific value at rank X of a List or Map\n",
    "##### The nested List in list_bin has numeric value = 35 in rank -1 (highest value).\n",
    "\n",
    "![fig_EX_3](./graphics/CDT_EX_3.png)"
   ]
  },
  {
   "cell_type": "code",
   "execution_count": 32,
   "id": "a5b9fa31",
   "metadata": {},
   "outputs": [
    {
     "name": "stdout",
     "output_type": "stream",
     "text": [
      "Records with the value 35 in rank -1 (highest value) in the nested List in list_bin:\n",
      "key=3 bins={list_bin=[3, s3, 4, s4, 5, s5, 6, s6, 7, s7, [31, 32, 33, 34, 35]]}\n"
     ]
    }
   ],
   "source": [
    "// Create an index for element at rank -1 of the nested List in list_bin. Note the nested List is at the \n",
    "//   last poistion (index -1) in the top List.\n",
    "// idx_list_bin_nested_rnk_-1_num\n",
    "// createIndex(\"idx_list_bin_nested_rnk_-1_num\", ListBin, IndexType.NUMERIC, IndexCollectionType.DEFAULT, \n",
    "//            CTX.listIndex(-1), CTX.listRank(-1));\n",
    "\n",
    "// issue the query and print results\n",
    "System.out.println(\"Records with the value 35 in rank -1 (highest value) in the nested List in list_bin:\");\n",
    "Filter filter = Filter.equal(ListBin, 35, CTX.listIndex(-1), CTX.listRank(-1));\n",
    "executeQueryAndPrintResults(filter, ListBin);"
   ]
  },
  {
   "cell_type": "markdown",
   "id": "b0b44a68",
   "metadata": {},
   "source": [
    "##### The nested \"subobj\" Map in map_bin has numeric value = 901 in rank 0 (lowest value in all map values)\n",
    "![fig_EX_4](./graphics/CDT_EX_4.png)"
   ]
  },
  {
   "cell_type": "code",
   "execution_count": 33,
   "id": "1d71973c",
   "metadata": {},
   "outputs": [
    {
     "name": "stdout",
     "output_type": "stream",
     "text": [
      "Records with the value 901 in rank 0 (lowest value) in the nested \"subobj\" Map in map_bin:\n",
      "key=109 bins={map_bin={9=[s91, s92], obj={attr2=s92, attr1=91, subobj={attr4=902, attr3=901}}, oid=9}}\n"
     ]
    }
   ],
   "source": [
    "// Create an index for element at rank 0 (lowest value) in the nested \"subobj\" Map in map_bin. \n",
    "// idx_map_bin_subobj_rnk_0_num\n",
    "// createIndex(\"idx_map_bin_subobj_rnk_0_num\", MapBin, IndexType.NUMERIC, IndexCollectionType.DEFAULT, \n",
    "//            CTX.mapKey(Value.get(\"obj\")), CTX.mapKey(Value.get(\"subobj\")), CTX.mapRank(0));\n",
    "\n",
    "// issue the query and print results\n",
    "System.out.println(\"Records with the value 901 in rank 0 (lowest value) in the nested \\\"subobj\\\" Map in map_bin:\");\n",
    "Filter filter = Filter.equal(MapBin, 901, \n",
    "            CTX.mapKey(Value.get(\"obj\")), CTX.mapKey(Value.get(\"subobj\")), CTX.mapRank(0));\n",
    "executeQueryAndPrintResults(filter, MapBin);"
   ]
  },
  {
   "cell_type": "markdown",
   "id": "1e6f79d2",
   "metadata": {},
   "source": [
    "#### Records with a specific value at key X of a Map\n",
    "##### The top level Map in map_bin has numeric value = 8 at key \"oid\".\n",
    "![fig_EX_5](./graphics/CDT_EX_5.png)"
   ]
  },
  {
   "cell_type": "code",
   "execution_count": 34,
   "id": "e087d37a",
   "metadata": {},
   "outputs": [
    {
     "name": "stdout",
     "output_type": "stream",
     "text": [
      "Records with the value 8 at key \"oid\" in the top level Map in map_bin:\n",
      "key=108 bins={map_bin={8=[s81, s82], obj={attr2=s82, attr1=81, subobj={attr4=802, attr3=801}}, oid=8}}\n"
     ]
    }
   ],
   "source": [
    "// Create an index for element with key \"oid\" in the top level Map in map_bin. \n",
    "// idx_map_bin_top_key_oid_num\n",
    "//createIndex(\"idx_map_bin_top_key_oid_num\", MapBin, IndexType.NUMERIC, IndexCollectionType.DEFAULT, \n",
    "//            CTX.mapKey(Value.get(\"oid\")));\n",
    "\n",
    "// issue the query and print results\n",
    "System.out.println(\"Records with the value 8 at key \\\"oid\\\" in the top level Map in map_bin:\");\n",
    "Filter filter = Filter.equal(MapBin, 8, \n",
    "            CTX.mapKey(Value.get(\"oid\")));\n",
    "executeQueryAndPrintResults(filter, MapBin);"
   ]
  },
  {
   "cell_type": "markdown",
   "id": "0f1c4bd4",
   "metadata": {},
   "source": [
    "##### The nested \"obj\" Map in map_bin has string value = \"s42\" at map key = \"attr2\".\n",
    "![fig_EX_6](./graphics/CDT_EX_6.png)"
   ]
  },
  {
   "cell_type": "code",
   "execution_count": 35,
   "id": "306d30df",
   "metadata": {},
   "outputs": [
    {
     "name": "stdout",
     "output_type": "stream",
     "text": [
      "Records with the value \"s42\" at key \"attr2\" in the nested \"obj\" Map in map_bin:\n",
      "key=104 bins={map_bin={4=[s41, s42], obj={attr2=s42, attr1=41, subobj={attr4=402, attr3=401}}, oid=4}}\n"
     ]
    }
   ],
   "source": [
    "// Create an index for element with key \"attr2\" in the nested \"obj\" Map in map_bin. \n",
    "// idx_map_bin_obj_key_attr2_str\n",
    "//createIndex(\"idx_map_bin_obj_key_attr2_str\", MapBin, IndexType.STRING, IndexCollectionType.DEFAULT, \n",
    "//            CTX.mapKey(Value.get(\"obj\")), CTX.mapKey(Value.get(\"attr2\")));\n",
    "\n",
    "// issue the query and print results\n",
    "System.out.println(\"Records with the value \\\"s42\\\" at key \\\"attr2\\\" in the nested \\\"obj\\\" Map in map_bin:\");\n",
    "Filter filter = Filter.equal(MapBin, \"s42\", \n",
    "            CTX.mapKey(Value.get(\"obj\")), CTX.mapKey(Value.get(\"attr2\")));\n",
    "executeQueryAndPrintResults(filter, MapBin);\n"
   ]
  },
  {
   "cell_type": "markdown",
   "id": "313a2417",
   "metadata": {},
   "source": [
    "### Range Queries\n",
    "Get records having an integer value within a range at a specific index, rank, or key position of a List or a Map. Range queries are supported on integer values only.\n",
    "\n",
    "We will use the indexes defined above for the range queries too.\n",
    "\n",
    "#### Records with value in s specific range at index X position of a List or Map\n",
    "##### The top level List in list_bin numeric value is in range 3-5 at List Index = 2\n",
    "![fig_EX_7](./graphics/CDT_EX_1.png)"
   ]
  },
  {
   "cell_type": "code",
   "execution_count": null,
   "id": "710f064f",
   "metadata": {},
   "outputs": [],
   "source": [
    "// issue the query and print results\n",
    "// createIndex(\"idx_list_bin_top_pos_2_num\", ListBin, IndexType.NUMERIC, IndexCollectionType.DEFAULT, \n",
    "//              CTX.listIndex(2)); \n",
    "// already created this SI\n",
    "\n",
    "System.out.println(\"Records with value in range 3-5 at position 2 in the top level List in list_bin:\");\n",
    "Filter filter = Filter.range(ListBin, 3, 5, CTX.listIndex(2));\n",
    "executeQueryAndPrintResults(filter, ListBin);"
   ]
  },
  {
   "cell_type": "markdown",
   "id": "6f3b8eac",
   "metadata": {},
   "source": [
    "##### The top level Map in map_bin has numeric value in range 5 - 7 at map index = 2.\n",
    "![fig_EX_8](./graphics/CDT_EX_8.png)"
   ]
  },
  {
   "cell_type": "code",
   "execution_count": null,
   "id": "c55c703b",
   "metadata": {},
   "outputs": [],
   "source": [
    "// issue the query and print results\n",
    "// createIndex(\"idx_map_bin_top_pos_2_num\", MapBin, IndexType.NUMERIC, IndexCollectionType.DEFAULT, CTX.mapIndex(2));  \n",
    "// already created this SI\n",
    "System.out.println(\"Records with value in range 5-7 at position 2 of the top Map in map_bin:\");\n",
    "Filter filter = Filter.range(MapBin, 5, 7, CTX.mapIndex(2));\n",
    "executeQueryAndPrintResults(filter, MapBin);"
   ]
  },
  {
   "cell_type": "markdown",
   "id": "3cdf77e1",
   "metadata": {},
   "source": [
    "#### Records with value in s specific range at rank X of a List or Map\n",
    "##### The nested List in list_bin has numeric value in range 20 – 50 in rank -1 (highest value).\n",
    "![fig_EX_9](./graphics/CDT_EX_3.png)"
   ]
  },
  {
   "cell_type": "code",
   "execution_count": null,
   "id": "7693ebf6",
   "metadata": {},
   "outputs": [],
   "source": [
    "// issue the query and print results\n",
    "// createIndex(\"idx_list_bin_nested_rnk_-1_num\", ListBin, IndexType.NUMERIC, IndexCollectionType.DEFAULT, \n",
    "//              CTX.listIndex(-1), CTX.listRank(-1));\n",
    "// already created this SI\n",
    "System.out.println(\"Records with value in range 20-50 in rank -1 (highest value) in the nested List in list_bin:\");\n",
    "Filter filter = Filter.range(ListBin, 20, 60, CTX.listIndex(-1), CTX.listRank(-1));\n",
    "executeQueryAndPrintResults(filter, ListBin);"
   ]
  },
  {
   "cell_type": "markdown",
   "id": "798c6d70",
   "metadata": {},
   "source": [
    "##### The nested \"subobj\" Map in map_bin has numeric value in range 500 – 800 in rank 0 (lowest value in all map values).\n",
    "![fig_EX_10](./graphics/CDT_EX_4.png)"
   ]
  },
  {
   "cell_type": "code",
   "execution_count": null,
   "id": "a261b92a",
   "metadata": {},
   "outputs": [],
   "source": [
    "// issue the query and print results\n",
    "// createIndex(\"idx_map_bin_subobj_rnk_0_num\", MapBin, IndexType.NUMERIC, IndexCollectionType.DEFAULT, \n",
    "//              CTX.mapKey(Value.get(\"obj\")), CTX.mapKey(Value.get(\"subobj\")), CTX.mapRank(0));  \n",
    "// already created this SI\n",
    "\n",
    "System.out.println(\"Records with value in range 500-800 in rank 0 (lowest value) in the nested \\\"subobj\\\" Map in map_bin:\");\n",
    "Filter filter = Filter.range(MapBin, 500, 801,\n",
    "            CTX.mapKey(Value.get(\"obj\")), CTX.mapKey(Value.get(\"subobj\")), CTX.mapRank(0));\n",
    "executeQueryAndPrintResults(filter, MapBin);"
   ]
  },
  {
   "cell_type": "markdown",
   "id": "fa5c0a7a",
   "metadata": {},
   "source": [
    "#### Records with value in s specific range at key X of a Map\n",
    "\n",
    "##### The top level Map in map_bin has numeric value in range 4 - 6 at key \"oid\".\n",
    "![fig_EX_11](./graphics/CDT_EX_5.png)\n"
   ]
  },
  {
   "cell_type": "code",
   "execution_count": null,
   "id": "55963e7b",
   "metadata": {},
   "outputs": [],
   "source": [
    "// issue the query and print results\n",
    "// createIndex(\"idx_map_bin_top_key_oid_num\", MapBin, IndexType.NUMERIC, IndexCollectionType.DEFAULT, CTX.mapKey(Value.get(\"oid\")));  \n",
    "// already created this SI\n",
    "System.out.println(\"Records with value in range 4-6 at key \\\"oid\\\" in the top level Map in map_bin:\");\n",
    "Filter filter = Filter.range(MapBin, 4, 6, CTX.mapKey(Value.get(\"oid\")));\n",
    "executeQueryAndPrintResults(filter, MapBin);"
   ]
  },
  {
   "cell_type": "markdown",
   "id": "890ffcc3",
   "metadata": {},
   "source": [
    "## Collection Indexes\n",
    "Collection indexes are defined on List and Map elements with the collection type LIST (list values in the List), MAPKEYS (key values in the Map), or MAPVALUES (values in the Map). The indexes can be used for equality queries on integr and string elements, as well as range queries on integer elements. We will illustrate these variations below.\n",
    "\n",
    "### Equality Queries\n",
    "Get records with a specific integer or string value in a List or Map.\n",
    "\n",
    "#### Records with a List or Map containing a specific value.\n",
    "\n",
    "##### The nested List in map_bin at MapIndex = 0 contains \"s91\".\n",
    "![fig_EX_12](./graphics/CDT_EX_7.png)"
   ]
  },
  {
   "cell_type": "code",
   "execution_count": 37,
   "id": "3f002480",
   "metadata": {},
   "outputs": [
    {
     "name": "stdout",
     "output_type": "stream",
     "text": [
      "Records with the value \"s91\" in the nested list \"arr\" in map_bin:\n",
      "key=109 bins={map_bin={9=[s91, s92], obj={attr2=s92, attr1=91, subobj={attr4=902, attr3=901}}, oid=9}}\n"
     ]
    }
   ],
   "source": [
    "// Create an index for the nested List in map_bin. Note, in key-ordered sequence, the numeric key is the first one.\n",
    "// idx_map_bin_i_list_str\n",
    "//createIndex(\"idx_map_bin_i_list_str\", MapBin, IndexType.STRING, IndexCollectionType.LIST, CTX.mapIndex(0));\n",
    "\n",
    "// issue the query and print results\n",
    "System.out.println(\"Records with the value \\\"s91\\\" in the nested list \\\"arr\\\" in map_bin:\");\n",
    "Filter filter = Filter.contains(MapBin, IndexCollectionType.LIST, \"s91\", CTX.mapIndex(0));\n",
    "executeQueryAndPrintResults(filter, MapBin);"
   ]
  },
  {
   "cell_type": "markdown",
   "id": "2566d53e",
   "metadata": {},
   "source": [
    "##### The top level Map in map_bin contains a key whose numeric value = 5.\n",
    "![fig_EX_13](./graphics/CDT_EX_9.png)"
   ]
  },
  {
   "cell_type": "code",
   "execution_count": 39,
   "id": "bd3d4826",
   "metadata": {},
   "outputs": [
    {
     "name": "stdout",
     "output_type": "stream",
     "text": [
      "Records with key 5 in the top level Map in map_bin:\n",
      "key=105 bins={map_bin={5=[s51, s52], obj={attr2=s52, attr1=51, subobj={attr4=502, attr3=501}}, oid=5}}\n"
     ]
    }
   ],
   "source": [
    "// Create an index for keys in top level Map in map_bin. \n",
    "// idx_map_bin_top_mapkeys_num\n",
    "// createIndex(\"idx_map_bin_top_mapkeys_num\", MapBin, IndexType.NUMERIC, IndexCollectionType.MAPKEYS);\n",
    "\n",
    "// issue the query and print results\n",
    "System.out.println(\"Records with key 5 in the top level Map in map_bin:\");\n",
    "Filter filter = Filter.contains(MapBin, IndexCollectionType.MAPKEYS, 5);\n",
    "executeQueryAndPrintResults(filter, MapBin);"
   ]
  },
  {
   "cell_type": "markdown",
   "id": "11fca8fa",
   "metadata": {},
   "source": [
    "##### The nested \"obj\" Map in map_bin contains a value \"s12\".\n",
    "![fig_EX_14](./graphics/CDT_EX_10.png)"
   ]
  },
  {
   "cell_type": "code",
   "execution_count": 44,
   "id": "be9ce5d3",
   "metadata": {},
   "outputs": [
    {
     "name": "stdout",
     "output_type": "stream",
     "text": [
      "Records with the value \"s22\" in the nested Map \"obj\" in map_bin:\n",
      "key=102 bins={map_bin={obj={attr2=s22, attr1=21, subobj={attr4=202, attr3=201}}, 2=[s21, s22], oid=2}}\n"
     ]
    }
   ],
   "source": [
    "// Create an index for values in nested Map \"obj\" in map_bin. \n",
    "// idx_map_bin_obj_mapvals_str\n",
    "//createIndex(\"idx_map_bin_obj_mapvals_str\", MapBin, IndexType.STRING, IndexCollectionType.MAPVALUES, \n",
    "//            CTX.mapKey(Value.get(\"obj\")));\n",
    "\n",
    "// issue the query and print results\n",
    "System.out.println(\"Records with the value \\\"s22\\\" in the nested Map \\\"obj\\\" in map_bin:\");\n",
    "Filter filter = Filter.contains(MapBin, IndexCollectionType.MAPVALUES, \"s22\", CTX.mapKey(Value.get(\"obj\")));\n",
    "executeQueryAndPrintResults(filter, MapBin);"
   ]
  },
  {
   "cell_type": "markdown",
   "id": "d4c108c8",
   "metadata": {},
   "source": [
    "### Range Queries\n",
    "Get records with a range of integer values in a List or Map.\n",
    "\n",
    "#### Records with a List or Map containing an integer in a given range.\n",
    "\n",
    "##### The nested list in list_bin has a value in the numeric value range 85-93.\n",
    "![fig_EX_15](./graphics/CDT_EX_11.png)"
   ]
  },
  {
   "cell_type": "code",
   "execution_count": 51,
   "id": "dd6b70ab",
   "metadata": {},
   "outputs": [
    {
     "name": "stdout",
     "output_type": "stream",
     "text": [
      "Records with value in range 85-93 in the nested list in list_bin:\n",
      "key=9 bins={list_bin=[9, s9, 10, s10, 11, s11, 12, s12, 13, s13, [91, 92, 93, 94, 95]]}\n",
      "key=8 bins={list_bin=[8, s8, 9, s9, 10, s10, 11, s11, 12, s12, [81, 82, 83, 84, 85]]}\n"
     ]
    }
   ],
   "source": [
    "// Create an index for the nested List in map_bin. Note, the nested list is the last element.\n",
    "// idx_list_bin_nested_list_num\n",
    "//createIndex(\"idx_list_bin_nested_list_num\", ListBin, IndexType.NUMERIC, IndexCollectionType.LIST, \n",
    "//            CTX.listIndex(-1));\n",
    "\n",
    "// issue the query and print results\n",
    "System.out.println(\"Records with value in range 85-93 in the nested list in list_bin:\");\n",
    "Filter filter = Filter.range(ListBin, IndexCollectionType.LIST, 85, 93, CTX.listIndex(-1));\n",
    "executeQueryAndPrintResults(filter, ListBin);"
   ]
  },
  {
   "cell_type": "markdown",
   "id": "98c1dadf",
   "metadata": {},
   "source": [
    "##### The top level Map in map_bin has a MapKey in range 5-7.\n",
    "![fig_EX_16](./graphics/CDT_EX_9.png)"
   ]
  },
  {
   "cell_type": "code",
   "execution_count": null,
   "id": "881c35ac",
   "metadata": {},
   "outputs": [],
   "source": [
    "// use the index created earlier\n",
    "// createIndex(\"idx_map_bin_top_mapkeys_num\", MapBin, IndexType.NUMERIC, IndexCollectionType.MAPKEYS);  \n",
    "// issue the query and print results\n",
    "System.out.println(\"Records with key in range 5-7 in the top level Map in map_bin:\");\n",
    "Filter filter = Filter.range(MapBin, IndexCollectionType.MAPKEYS, 5, 7);\n",
    "executeQueryAndPrintResults(filter, MapBin);"
   ]
  },
  {
   "cell_type": "markdown",
   "id": "d165a8e8",
   "metadata": {},
   "source": [
    "##### The nested Map \"subobj\" in map_bin has MapValue(s) in numeric value in range of 300 – 500.\n",
    "![fig_EX_17](./graphics/CDT_EX_4.png)"
   ]
  },
  {
   "cell_type": "code",
   "execution_count": null,
   "id": "2d408ae3",
   "metadata": {},
   "outputs": [],
   "source": [
    "// Create an index for values in nested Map \"subobj\" in map_bin. \n",
    "// idx_map_bin_subobj_mapvals_num\n",
    "//createIndex(\"idx_map_bin_subobj_mapvals_num\", MapBin, IndexType.NUMERIC, IndexCollectionType.MAPVALUES, \n",
    "//            CTX.mapKey(Value.get(\"obj\")), CTX.mapKey(Value.get(\"subobj\")));\n",
    "\n",
    "// issue the query and print results\n",
    "System.out.println(\"Records with value in range 300-501 in the nested Map \\\"subobj\\\" in map_bin:\");\n",
    "Filter filter = Filter.range(MapBin, IndexCollectionType.MAPVALUES, 302, 501, \n",
    "            CTX.mapKey(Value.get(\"obj\")), CTX.mapKey(Value.get(\"subobj\")));\n",
    "executeQueryAndPrintResults(filter, MapBin);"
   ]
  },
  {
   "cell_type": "markdown",
   "id": "8def71a8",
   "metadata": {},
   "source": [
    "### Geo2DSphere Sindex Test\n",
    "#### Truncate previous records and generate geoJSON test records"
   ]
  },
  {
   "cell_type": "code",
   "execution_count": null,
   "id": "2d4001fd",
   "metadata": {},
   "outputs": [],
   "source": [
    "Truncate tr = new Truncate();\n",
    "tr.truncate(AEROSPIKE_CLOUD_NAMESPACE, \"testset\", 0);"
   ]
  },
  {
   "cell_type": "markdown",
   "id": "882fea5c",
   "metadata": {},
   "source": [
    "\n",
    "#### GeoJSON Point, Polgon String generator - Helper functions\n"
   ]
  },
  {
   "cell_type": "code",
   "execution_count": null,
   "id": "7f7f6590",
   "metadata": {},
   "outputs": [],
   "source": [
    "//Generate Point Format GeoJSON string\n",
    "\n",
    "//Point: order of data is longitude, latitude \n",
    "\n",
    "String generatePoint(double longitude, double latitude){\n",
    "  return String.format(\"{\\\"type\\\": \\\"Point\\\", \\\"coordinates\\\": [%f, %f]}\", longitude, latitude);\n",
    "}\n",
    "\n",
    "//Four corner polygon.  Specify in counterclockwise order\n",
    "String generatePolygon(double ax, double ay, double bx, double by, double cx, double cy, double dx, double dy){\n",
    "  return String.format(\n",
    "  \"{\\\"type\\\": \\\"Polygon\\\", \\\"coordinates\\\": [[[%f, %f], [%f, %f],[%f, %f],[%f, %f],[%f, %f]]]}\", \n",
    "  ax, ay,\n",
    "  bx, by,\n",
    "  cx, cy,\n",
    "  dx, dy,\n",
    "  ax, ay\n",
    "  );\n",
    "}\n",
    "\n",
    "String generateRectangle( double ax, double ay, double length, double height)\n",
    "{\n",
    "   length = length/2;\n",
    "   height = height/2;\n",
    "   return generatePolygon(ax-length, ay-height, ax+length, ay-height, ax+length, ay+height, ax-length,ay+height);\n",
    "}\n",
    "String generateAeroCircle(double x, double y, double r){\n",
    "  return String.format(\n",
    "  \"{\\\"type\\\": \\\"AeroCircle\\\", \\\"coordinates\\\": [[%.8f, %.8f], %f] }\", x, y, r);\n",
    "}\n",
    "\n",
    "System.out.println(generatePoint(0.0,0.0));\n",
    "System.out.println(generateRectangle(0.0,0.0,4.0, 2.0));\n",
    "System.out.println(generateAeroCircle(0.0,0.0,1.0));\n"
   ]
  },
  {
   "cell_type": "markdown",
   "id": "ad8f1245",
   "metadata": {},
   "source": [
    "\n",
    "#### GeoJSON Records with Point Bin\n"
   ]
  },
  {
   "cell_type": "code",
   "execution_count": null,
   "id": "96cf3108",
   "metadata": {},
   "outputs": [],
   "source": [
    "//Insert a record using a class based construct\n",
    "final String geoLocationBinName = \"location\";\n",
    "final String geoRegionBinName = \"region\";\n",
    "class geoUser {\n",
    "  public void createLocationRecord(String ns, String setName, String user, double x, double y, boolean bCheck) {\n",
    "    Key userKey = new Key(ns, setName, user); \n",
    "    String sLocPoint = generatePoint(x, y);\n",
    "    Bin bLoc = new Bin(geoLocationBinName, Value.getAsGeoJSON(sLocPoint));    \n",
    "    WritePolicy wPolicyGeo = new WritePolicy();\n",
    "    wPolicyGeo.sendKey = true;\n",
    "    client.put(wPolicyGeo, userKey, bLoc);\n",
    "    if(bCheck){\n",
    "      System.out.println(client.get(null, userKey));\n",
    "    }   \n",
    "  }\n",
    "  \n",
    "    public void createRegionRecord(String ns, String setName, String user, \n",
    "                                   double x, double y, double l, double h,boolean bCheck) {\n",
    "    Key userKey = new Key(ns, setName, user); \n",
    "    String sRegion = generateRectangle(x, y, l, h);\n",
    "    Bin bReg = new Bin(geoRegionBinName, Value.getAsGeoJSON(sRegion));    \n",
    "    WritePolicy wPolicyGeo = new WritePolicy();\n",
    "    wPolicyGeo.sendKey = true;\n",
    "    client.put(wPolicyGeo, userKey, bReg);\n",
    "    if(bCheck){\n",
    "      System.out.println(client.get(null, userKey));\n",
    "    }   \n",
    "  }\n",
    "}\n",
    "\n",
    "void executeGeoQueryAndPrintResults(Filter filter, String binName) {\n",
    "    Statement stmt = new Statement();\n",
    "    stmt.setNamespace(Namespace);\n",
    "    stmt.setSetName(Set);\n",
    "    stmt.setFilter(filter);\n",
    "    stmt.setBinNames(binName);\n",
    "    RecordSet rs = client.query(null, stmt);\n",
    "    while (rs.next()) {\n",
    "        Key key = rs.getKey();\n",
    "        Record record = rs.getRecord();\n",
    "        System.out.format(\"key=%s bins=%s\\n\", key.userKey, record.bins);\n",
    "    }\n",
    "    //System.out.println();\n",
    "    rs.close();\n",
    "}"
   ]
  },
  {
   "cell_type": "code",
   "execution_count": null,
   "id": "eb84ac50",
   "metadata": {},
   "outputs": [],
   "source": [
    "geoUser ul = new geoUser();\n",
    "ul.createLocationRecord(Namespace, Set, \"user1\", 0.0, 1.0, false);\n",
    "ul.createLocationRecord(Namespace, Set, \"user2\", 1.0, 1.0, false);\n",
    "ul.createLocationRecord(Namespace, Set, \"user3\", -1.0, 1.0, false);\n",
    "ul.createLocationRecord(Namespace, Set, \"user4\", -1.0, -1.0, false);\n",
    "ul.createLocationRecord(Namespace, Set, \"user5\", 0.0, -1.0, false);\n",
    "ul.createLocationRecord(Namespace, Set, \"user6\", 1.0, -1.0, false);\n",
    "ul.createLocationRecord(Namespace, Set, \"user7\", 1.0, 4.0, false);\n",
    "ul.createLocationRecord(Namespace, Set, \"user8\", -1.0, 4.0, false);\n",
    "ul.createLocationRecord(Namespace, Set, \"user9\", 0.0, 4.0, false);\n",
    "ul.createLocationRecord(Namespace, Set, \"user0\", 0.0, -4.0, false);\n",
    "\n",
    "//Add region bin also\n",
    "ul.createRegionRecord(Namespace, Set, \"user1\", 0.0, 1.0, 0.25, 0.25, true);\n",
    "ul.createRegionRecord(Namespace, Set, \"user2\", 1.0, 1.0, 0.25, 0.25, true);\n",
    "ul.createRegionRecord(Namespace, Set, \"user3\", -1.0, 1.0, 0.25, 0.25, true);\n",
    "ul.createRegionRecord(Namespace, Set, \"user4\", -1.0, -1.0, 0.25, 0.25, true);\n",
    "ul.createRegionRecord(Namespace, Set, \"user5\", 0.0, -1.0, 0.25, 0.25, true);\n",
    "ul.createRegionRecord(Namespace, Set, \"user6\", 1.0, -1.0, 0.25, 0.25, true);\n",
    "ul.createRegionRecord(Namespace, Set, \"user7\", 1.0, 4.0, 0.25, 0.25, true);\n",
    "ul.createRegionRecord(Namespace, Set, \"user8\", -1.0, 4.0, 0.25, 0.25, true);\n",
    "ul.createRegionRecord(Namespace, Set, \"user9\", 0.0, 4.0, 0.25, 0.25, true);\n",
    "ul.createRegionRecord(Namespace, Set, \"user0\", 0.0, -4.0, 0.25, 0.25, true);\n"
   ]
  },
  {
   "cell_type": "markdown",
   "id": "94bf7f7c",
   "metadata": {},
   "source": [
    "\n",
    "#### GeoJSON SI Query. Find all Records with Point Bin where the Point lies within a geoJSON Rectangle\n"
   ]
  },
  {
   "cell_type": "code",
   "execution_count": null,
   "id": "1796b12f",
   "metadata": {},
   "outputs": [],
   "source": [
    "String geoRect = generateRectangle(0.0,0.0,1.5,2.5);\n",
    "System.out.println(geoRect);\n",
    "Filter filter = Filter.geoContains(geoLocationBinName, geoRect);\n",
    "executeGeoQueryAndPrintResults(filter, geoLocationBinName);"
   ]
  },
  {
   "cell_type": "code",
   "execution_count": null,
   "id": "898eaa7f",
   "metadata": {},
   "outputs": [],
   "source": [
    "String geoPoint = generatePoint(1.0, -1.0);\n",
    "System.out.println(geoPoint);\n",
    "Filter filter = Filter.geoContains(geoRegionBinName, geoPoint);\n",
    "executeGeoQueryAndPrintResults(filter, geoRegionBinName);"
   ]
  },
  {
   "cell_type": "markdown",
   "id": "9a85dfe0",
   "metadata": {},
   "source": [
    "#### GeoJSON SI Query. Find all Records with Point Bin where the Point lies within a geoJSON AeroCircle\n",
    "**Note**\n",
    "1 deg latitude is 69 miles or 110,400 meters. So choose radius in meters accordingly. All coordinates are in longitude and latitude degree units in GeoJSON."
   ]
  },
  {
   "cell_type": "code",
   "execution_count": null,
   "id": "5564ef62",
   "metadata": {},
   "outputs": [],
   "source": [
    "String geoCircle = generateAeroCircle(0.0,0.0,112000.0);\n",
    "System.out.println(geoCircle);\n",
    "//Filter filter = Filter.geoWithinRadius(geoLocationBinName, 0.0,0.0, 125000.0);\n",
    "//Filter filter = Filter.geoWithinRegion(geoLocationBinName, IndexCollectionType.DEFAULT, geoCircle);\n",
    "//Filter filter = Filter.geoWithinRegion(geoLocationBinName, geoCircle);\n",
    "Filter filter = Filter.geoContains(geoLocationBinName, geoCircle);\n",
    "executeGeoQueryAndPrintResults(filter, geoLocationBinName);"
   ]
  },
  {
   "cell_type": "markdown",
   "id": "3aa0ecde",
   "metadata": {},
   "source": [
    "#### Test Sindex, at Scale"
   ]
  },
  {
   "cell_type": "code",
   "execution_count": null,
   "id": "52bf8ec3",
   "metadata": {},
   "outputs": [],
   "source": [
    "   for(int i=0; i<100; i++){   \n",
    "    Key userKey = new Key(\"aerospike_cloud\", \"testset\", \"user\"+i); \n",
    "    Bin bName = new Bin(\"name\", \"user\"+i);\n",
    "    Bin bAge = new Bin(\"age\", (2 + (i%100)));\n",
    "    Bin bAge1 = new Bin(\"age1\", (2 + (i%100)));\n",
    "    Bin bAge2 = new Bin(\"age2\", (2 + (i%100)));\n",
    "    Bin bAge3 = new Bin(\"age3\", (2 + (i%100)));\n",
    "    Bin bAge4 = new Bin(\"age4\", (2 + (i%100)));\n",
    "    Bin bAge5 = new Bin(\"age5\", (2 + (i%100)));\n",
    "    Bin bAge6 = new Bin(\"age6\", (2 + (i%100)));\n",
    "    Bin bAge7 = new Bin(\"age7\", (2 + (i%100)));\n",
    "    Bin bAge8 = new Bin(\"age8\", (2 + (i%100)));\n",
    "    Bin bAge9 = new Bin(\"age9\", (2 + (i%100)));\n",
    "    Bin bAge10 = new Bin(\"age10\", (2 + (i%100)));\n",
    "    Bin bAge11 = new Bin(\"age11\", (2 + (i%100)));\n",
    "    Bin bAge12 = new Bin(\"age12\", (2 + (i%100)));\n",
    "    Bin bAge13 = new Bin(\"age13\", (2 + (i%100)));\n",
    "    Bin bAge14 = new Bin(\"age14\", (2 + (i%100)));\n",
    "    Bin bAge15 = new Bin(\"age15\", (2 + (i%100)));\n",
    "    Bin bAge16 = new Bin(\"age16\", (2 + (i%100)));\n",
    "    Bin bAge17 = new Bin(\"age17\", (2 + (i%100)));\n",
    "    Bin bAge18 = new Bin(\"age18\", (2 + (i%100)));\n",
    "    Bin bAge19 = new Bin(\"age19\", (2 + (i%100)));\n",
    "    \n",
    "    WritePolicy wPolicy1 = new WritePolicy();\n",
    "    wPolicy1.sendKey = true;\n",
    "    client.put(wPolicy1, userKey, bName, bAge, bAge1, bAge2, bAge3,bAge4,bAge5,bAge6,bAge7,bAge8,bAge9,bAge10,bAge11,bAge12,bAge13,bAge14,bAge15,bAge16,bAge17,bAge18,bAge19);\n",
    "    }"
   ]
  },
  {
   "cell_type": "code",
   "execution_count": null,
   "id": "e4e0fa72",
   "metadata": {},
   "outputs": [],
   "source": [
    "//client.close();"
   ]
  },
  {
   "cell_type": "code",
   "execution_count": null,
   "id": "20151600",
   "metadata": {},
   "outputs": [],
   "source": []
  }
 ],
 "metadata": {
  "kernelspec": {
   "display_name": "Java",
   "language": "java",
   "name": "java"
  },
  "language_info": {
   "codemirror_mode": "java",
   "file_extension": ".jshell",
   "mimetype": "text/x-java-source",
   "name": "Java",
   "pygments_lexer": "java",
   "version": "11.0.19+7-LTS"
  }
 },
 "nbformat": 4,
 "nbformat_minor": 5
}
