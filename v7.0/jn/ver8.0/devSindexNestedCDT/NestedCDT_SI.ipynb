{
 "cells": [
  {
   "cell_type": "markdown",
   "id": "5610565e",
   "metadata": {},
   "source": [
    "# Secondary Index Ver 6.1+\n",
    "\n",
    "## Key Features: \n",
    "### Revised SI layout in memory\n",
    " * EE uses Linux Shared RAM.  Allows for Warm Start of SIs.\n",
    " * Revised B-Tree model, one B-tree per partition. \n",
    " * One unique 14 byte entry per record indexed.\n",
    " * Indexing Bin Data (same as before) - _types_ supported: Numeric, String and Geo2DSphere. (BLOBs have also been added now.)\n",
    " * CDTs: Indexing Top level Map and Lists data types. MapKeys, MapValues or ListValues of above _types_ can be indexed.\n",
    " * 6.1 extends above top-level only indexing capability of CDTs to any context or nested path in a CDT. (Pre 6.1 only top-level bin data containg a map or list data type could be indexed.)\n",
    " \n",
    " Partition based layout allows query to progress with partition awareness. Allows users to have fine control over query progress. Maintains query progress through cluster changes. No need to track \"failOnClusterChange\" events, store and delay consumption of results in clients, and restart query in case of cluster change.\n",
    " \n",
    " <img src=\"./graphics/SIOverview.png\"\n",
    "     alt=\"SIOverview\"\n",
    "     style=\"center; margin-right: 10px;\"\n",
    "     width=\"800\"\n",
    "     height=\"640\"/>\n",
    "\n",
    "\n",
    "## Presentation Outline \n",
    "* Connecting to Aerospike One node cluster \n",
    "* SI 6.1 Features\n",
    "\n"
   ]
  },
  {
   "cell_type": "markdown",
   "id": "4b23c8bf",
   "metadata": {},
   "source": [
    "#### Add Java Client POM Dependency  \n",
    "Jupyter Notebook way!"
   ]
  },
  {
   "cell_type": "code",
   "execution_count": 51,
   "id": "05162894-4eb0-4a54-a7b9-01ead6ff7542",
   "metadata": {},
   "outputs": [],
   "source": [
    "import io.github.spencerpark.ijava.IJava;\n",
    "import io.github.spencerpark.jupyter.kernel.magic.common.Shell;\n",
    "IJava.getKernelInstance().getMagics().registerMagics(Shell.class);"
   ]
  },
  {
   "cell_type": "code",
   "execution_count": 52,
   "id": "c7d10ca8",
   "metadata": {},
   "outputs": [],
   "source": [
    "%%loadFromPOM\n",
    "<dependencies>\n",
    "  <dependency>\n",
    "    <groupId>com.aerospike</groupId>\n",
    "    <artifactId>aerospike-client-jdk8</artifactId>\n",
    "    <version>9.0.3</version>\n",
    "  </dependency>\n",
    "</dependencies>"
   ]
  },
  {
   "cell_type": "markdown",
   "id": "e03decf9",
   "metadata": {},
   "source": [
    "####  Add required Java Client Imports\n",
    "\n",
    "These are some of the Aerospike Java Client imports needed to start developing our Application interactively.  We will add others, as needed, as we develop our solution."
   ]
  },
  {
   "cell_type": "code",
   "execution_count": 53,
   "id": "b5ec301d",
   "metadata": {},
   "outputs": [
    {
     "name": "stdout",
     "output_type": "stream",
     "text": [
      "Client modules imported.\n"
     ]
    }
   ],
   "source": [
    "//Require Imports\n",
    "import com.aerospike.client.AerospikeClient;\n",
    "import com.aerospike.client.policy.WritePolicy;\n",
    "import com.aerospike.client.Bin;\n",
    "import com.aerospike.client.Key;\n",
    "import com.aerospike.client.Record;\n",
    "import com.aerospike.client.Value;\n",
    "System.out.println(\"Client modules imported.\");"
   ]
  },
  {
   "cell_type": "markdown",
   "id": "45dc772b",
   "metadata": {},
   "source": [
    "#### Connect to the Aerospike Server\n",
    "Instantiate the client object. Let us write a record and read it back.\n",
    "We have a namespace **_test_** pre-defined on the server."
   ]
  },
  {
   "cell_type": "code",
   "execution_count": 54,
   "id": "74465d79",
   "metadata": {},
   "outputs": [
    {
     "name": "stdout",
     "output_type": "stream",
     "text": [
      "Initialized the client and connected to the cluster.\n"
     ]
    }
   ],
   "source": [
    "AerospikeClient client = new AerospikeClient(\"127.0.0.1\", 3000);\n",
    "System.out.println(\"Initialized the client and connected to the cluster.\");"
   ]
  },
  {
   "cell_type": "markdown",
   "id": "acbcf481",
   "metadata": {},
   "source": [
    "## Secondary Indexes in ver 6.1 for Nested CDTs\n",
    "Now that we are all setup, let us get back to discussing the new features in ver 6.1 Secondary Indexes.  \n",
    "\n",
    "## Import Modules\n",
    "Let us start by importing all the modules we will need for the SI examples."
   ]
  },
  {
   "cell_type": "code",
   "execution_count": 55,
   "id": "995a3f83",
   "metadata": {},
   "outputs": [],
   "source": [
    "// import all needed modules\n",
    "import java.util.ArrayList;\n",
    "import java.util.Arrays;\n",
    "import java.util.HashMap;\n",
    "import java.util.List;\n",
    "import java.util.Map;\n",
    "\n",
    "import com.aerospike.client.AerospikeException;\n",
    "import com.aerospike.client.Key;\n",
    "import com.aerospike.client.Bin;\n",
    "import com.aerospike.client.policy.WritePolicy;\n",
    "import com.aerospike.client.policy.ClientPolicy;\n",
    "import com.aerospike.client.Record;\n",
    "import com.aerospike.client.Operation;\n",
    "import com.aerospike.client.Value;\n",
    "import com.aerospike.client.Value.ListValue;\n",
    "import com.aerospike.client.Value.MapValue;\n",
    "import com.aerospike.client.cdt.ListOperation;\n",
    "import com.aerospike.client.cdt.ListPolicy;\n",
    "import com.aerospike.client.cdt.ListOrder;\n",
    "import com.aerospike.client.cdt.ListWriteFlags;\n",
    "import com.aerospike.client.cdt.MapOperation;\n",
    "import com.aerospike.client.cdt.MapPolicy;\n",
    "import com.aerospike.client.cdt.MapOrder;\n",
    "import com.aerospike.client.cdt.MapWriteFlags;\n",
    "import com.aerospike.client.query.Statement;\n",
    "import com.aerospike.client.query.Filter;\n",
    "import com.aerospike.client.query.RecordSet;\n",
    "import com.aerospike.client.Record;\n",
    "import com.aerospike.client.policy.QueryPolicy;\n",
    "import com.aerospike.client.exp.Exp;\n",
    "import com.aerospike.client.query.IndexType;\n",
    "import com.aerospike.client.query.IndexCollectionType;\n",
    "import com.aerospike.client.task.IndexTask;\n",
    "import com.aerospike.client.AerospikeException;\n",
    "import com.aerospike.client.ResultCode;\n",
    "import com.aerospike.client.cdt.CTX;"
   ]
  },
  {
   "cell_type": "markdown",
   "id": "646a1190",
   "metadata": {},
   "source": [
    "## Define Constants and Helper Functions\n",
    "Define constants for the namespaces *test*, set *cdt-indexing*, and helper functions _createIndex_, _dropIndex_, _executeQueryAndPrintResults_, and _truncateTestData_."
   ]
  },
  {
   "cell_type": "code",
   "execution_count": 56,
   "id": "a87d4daf",
   "metadata": {},
   "outputs": [],
   "source": [
    "final String Namespace = \"test\";\n",
    "final String Set = \"cdt-indexing\";\n",
    "final String ListBin = \"list_bin\";\n",
    "final String MapBin = \"map_bin\";\n",
    "\n",
    "\n",
    "// convenience function to create an index - essentially a pass-through to the client API\n",
    "void createIndex(String idxName, String binName, IndexType idxType, IndexCollectionType colType, CTX... ctx) {\n",
    "    try {\n",
    "            IndexTask task = client.createIndex(null,\n",
    "                                       Namespace,\n",
    "                                       Set,\n",
    "                                       idxName,\n",
    "                                       binName,\n",
    "                                       idxType,\n",
    "                                       colType,\n",
    "                                       ctx);\n",
    "            task.waitTillComplete(1000, 0);\n",
    "        }\n",
    "        catch (AerospikeException ae) {\n",
    "            if (ae.getResultCode() != ResultCode.INDEX_ALREADY_EXISTS) {\n",
    "                throw ae;\n",
    "            }\n",
    "        } \n",
    "        System.out.format(\"Created index %s on ns=%s set=%s bin=%s.\\n\", \n",
    "                                    idxName, Namespace, Set, binName);\n",
    "}\n",
    "\n",
    "// convenience function to drop an index - essentially a pass-through to the client API\n",
    "void dropIndex(String idxName) {\n",
    "    try {\n",
    "        IndexTask task = client.dropIndex(null, Namespace, Set, idxName);\n",
    "    }\n",
    "    catch (AerospikeException ae) {\n",
    "        if (ae.getResultCode() != ResultCode.INDEX_NOTFOUND) {\n",
    "            throw ae;\n",
    "        }\n",
    "    } \n",
    "    System.out.format(\"Dropped index %s.\\n\", idxName);\n",
    "}\n",
    "\n",
    "// convenience function to execute a query using the input filter and print the results\n",
    "void executeQueryAndPrintResults(Filter filter, String binName) {\n",
    "    Statement stmt = new Statement();\n",
    "    stmt.setNamespace(Namespace);\n",
    "    stmt.setSetName(Set);\n",
    "    stmt.setFilter(filter);\n",
    "    stmt.setBinNames(binName);\n",
    "    RecordSet rs = client.query(null, stmt);\n",
    "    while (rs.next()) {\n",
    "        Key key = rs.getKey();\n",
    "        Record record = rs.getRecord();\n",
    "        System.out.format(\"key=%s bins=%s\\n\", key.userKey, record.bins);\n",
    "    }\n",
    "    //System.out.println();\n",
    "    rs.close();\n",
    "}\n",
    "\n",
    "// convenience function to truncate test data\n",
    "void truncateTestData() {\n",
    "    try {\n",
    "        client.truncate(null, Namespace, null, null);\n",
    "    }\n",
    "    catch (AerospikeException e) {\n",
    "        // ignore\n",
    "    }\n",
    "}"
   ]
  },
  {
   "cell_type": "markdown",
   "id": "758b4fc7-5978-4460-9bb2-d942566ae8a0",
   "metadata": {},
   "source": [
    "# Cleanup"
   ]
  },
  {
   "cell_type": "code",
   "execution_count": 57,
   "id": "3c4f759d-0d83-4de9-bbcd-c878a040b19d",
   "metadata": {},
   "outputs": [],
   "source": [
    "%sh asadm --enable -e \"manage sindex delete idx_geo ns test set cdt-indexing\""
   ]
  },
  {
   "cell_type": "markdown",
   "id": "ed5111dc",
   "metadata": {},
   "source": [
    "## CDT Test Data\n",
    "We will illustrate how to create indexes on CDTs and issues queries using two CDTs - a nested List and a nested Map that are populated in 10 records each.\n",
    "\n",
    "A nested List in records with user_key (id) 1-10. The list is held in bin list_bin and has the following numeric, string, and List elements.\n",
    "\n",
    "\n",
    "\n",
    "Numeric elements: user_key to user_key+4.\n",
    "For example, for user_key=1: 1, 2, 3, 4, 5.\n",
    "String elements: \"s\"+user_key to \"s\"+(user_key+4).\n",
    "For example, for user_key=1: \"s1\", \"s2\", \"s3\", \"s4\", \"s5\"\n",
    "Nested List element: holds numeric elements (10\\*user_key)+1 to (10\\*user_key)+5.\n",
    "\n",
    "For example, for user_key=1: [11, 12, 13, 44, 15].\n",
    "So, the value in list_bin for the record with user_key=1 looks like:\n",
    "\n",
    "[ 1,\"s1\", 2, \"s2\", 3, \"s3\" 4, \"s4\", 5, \"s5\", [ 11, 12, 13, 14, 15 ] ].\n",
    "\n",
    "\n",
    "![fig_CDTDM_1](./graphics/CDT_DM_1.png)\n",
    "\n",
    "A nested Map in records with user_key (id) 101-110. The map is held in bin map_bin and has the following numeric, string, and List elements. Below, we have used i with a shorthand for i=user_key-100.\n",
    "\n",
    "\n",
    "\"oid\": i.\n",
    "For example, for i=1: 1.\n",
    "\"obj\": a nested map with the following key-value pairs: {\"attr1\": (10\\*i)+1, \"attr2\": \"s\"+(10\\*i)+2, \"subobj\": {\"attr3\": (100\\*i)+1, \"attr4\": (100\\*i)+2}}.\n",
    "For example, for i=1: {\"attr1\": 11, \"attr2\": \"s12\", \"subobj\": {\"attr3\": 101, \"attr4\": 102}}.\n",
    "i: [\"s\"+i, \"s\"+i+1].\n",
    "\n",
    "For example, for i=1: the key-value pair is 1: [\"s1\", \"s2\"].\n",
    "So, the value in map_bin for the record with user_key=1 looks like:\n",
    "\n",
    "{\n",
    "  \"oid\": 1, \n",
    "  \"obj\": {\"attr1\": 11, \"attr2\": \"s12\", \"subobj\": {\"attr3\": 101, \"attr4\": 102}}, \n",
    "  1: [\"s1\", \"s2\"]\n",
    "}\n",
    "\n",
    "![fig_DM_2](./graphics/CDT_DM_2.png)\n",
    "\n",
    "\n",
    "## Populate Test Data\n",
    "Execute the cell below to populate the test data described above.\n",
    "\n",
    "**We will insert 10 records with userkey=1 through 10 with ListBin, and  records with userkey = 101 thru 110 with MapBin.**\n"
   ]
  },
  {
   "cell_type": "code",
   "execution_count": 58,
   "id": "96da301d",
   "metadata": {},
   "outputs": [],
   "source": [
    "WritePolicy wpolicy = new WritePolicy();\n",
    "wpolicy.sendKey = true;\n",
    "\n",
    "// create the list_bin with [i..i+4, \"s\"+i..\"s\"+4, [10*i+1..10*i+5]]\n",
    "for (int user_key = 1; user_key <= 10; user_key++) {\n",
    "    Key key = new Key(Namespace, Set, user_key);\n",
    "\n",
    "    // append integer and string elements\n",
    "    ArrayList<Value> list_val = new ArrayList<Value>();\n",
    "    for (int n = user_key; n < user_key+5; n++) {\n",
    "        list_val.add(Value.get(n));\n",
    "        list_val.add(Value.get(\"s\"+Integer.toString(n)));\n",
    "    }\n",
    "\n",
    "    // append string elements\n",
    "    //for (int n=user_key; n < user_key+5; n++) {\n",
    "    //    list_val.add(Value.get(\"s\"+Integer.toString(n)));\n",
    "    //}\n",
    "\n",
    "    // append the nested list element\n",
    "    ArrayList<Integer> list_int = new ArrayList<Integer>();\n",
    "    for (int n=user_key*10+1; n < user_key*10+6; n++) {\n",
    "        list_int.add(n);\n",
    "    }\n",
    "    ListValue list_int_val = new ListValue(list_int);\n",
    "\n",
    "    // create the list bin\n",
    "    Record record = client.operate(wpolicy, key,\n",
    "                                    ListOperation.clear(ListBin), \n",
    "                                    ListOperation.appendItems(ListBin, list_val), \n",
    "                                    ListOperation.append(ListBin, list_int_val));\n",
    "}\n",
    "\n",
    "// create map bin with \n",
    "//    \"oid\": i,\n",
    "//    \"obj\": {\"attr1\": 10*i+1, \"attr2\": \"s\"+10*+i+2, \"subobj\": {\"attr3\": 100*1+1, \"attr4\": 100*1+2}}, \n",
    "//    i: [\"s\"+i, \"s\"+i+1]\n",
    "\n",
    "\n",
    "for (int user_key = 101; user_key <= 110; user_key++) {\n",
    "    Integer i = user_key - 100;\n",
    "    \n",
    "    Key key = new Key(Namespace, Set, user_key);\n",
    "    \n",
    "    // construct obj map value\n",
    "    HashMap <String, Value> obj = new HashMap <String, Value>();\n",
    "    obj.put(\"attr1\", Value.get(10*i+1));    \n",
    "    obj.put(\"attr2\", Value.get(\"s\"+Integer.toString(10*i+2)));   \n",
    "    HashMap <String, Integer> subobj = new HashMap <String, Integer>();\n",
    "    subobj.put(\"attr3\", 100*i+1);    \n",
    "    subobj.put(\"attr4\", 100*i+2);    \n",
    "    obj.put(\"subobj\", new MapValue(subobj));   \n",
    "\n",
    "    // construct arr list value\n",
    "    ArrayList<String> arr = new ArrayList<String>();\n",
    "    arr.add(\"s\"+Integer.toString(i*10+1));\n",
    "    arr.add(\"s\"+Integer.toString(i*10+2));\n",
    "    \n",
    "    // create the map in map_bin\n",
    "    MapPolicy mPolicy = new MapPolicy(MapOrder.UNORDERED, MapWriteFlags.DEFAULT);\n",
    "    Record record = client.operate(wpolicy, key,\n",
    "                                MapOperation.clear(MapBin), \n",
    "                                MapOperation.put(mPolicy, MapBin, \n",
    "                                            Value.get(\"oid\"), Value.get(i)),\n",
    "                                MapOperation.put(mPolicy, MapBin, \n",
    "                                            Value.get(\"obj\"), new MapValue(obj)),\n",
    "                                MapOperation.put(mPolicy, MapBin, \n",
    "                                            Value.get(i), new ListValue(arr))\n",
    "                                ); \n",
    "}"
   ]
  },
  {
   "cell_type": "markdown",
   "id": "93a8b809",
   "metadata": {},
   "source": [
    "## Examine Test Data\n",
    "View the test data by executing the following commands in a Jupyter terminal tab.\n",
    "\n",
    "**aql -c \"select list_bin from test.cdt-indexing\"**\n",
    "```\n",
    "+--------------------------------------------------------------------------------------------+----+\n",
    "| list_bin                                                                                   | PK |\n",
    "+--------------------------------------------------------------------------------------------+----+\n",
    "| LIST('[3, \"s3\", 4, \"s4\", 5, \"s5\", 6, \"s6\", 7, \"s7\", [31, 32, 33, 34, 35]]')                | 3  |\n",
    "| LIST('[2, \"s2\", 3, \"s3\", 4, \"s4\", 5, \"s5\", 6, \"s6\", [21, 22, 23, 24, 25]]')                | 2  |\n",
    "| LIST('[10, \"s10\", 11, \"s11\", 12, \"s12\", 13, \"s13\", 14, \"s14\", [101, 102, 103, 104, 105]]') | 10 |\n",
    "| LIST('[9, \"s9\", 10, \"s10\", 11, \"s11\", 12, \"s12\", 13, \"s13\", [91, 92, 93, 94, 95]]')        | 9  |\n",
    "| LIST('[6, \"s6\", 7, \"s7\", 8, \"s8\", 9, \"s9\", 10, \"s10\", [61, 62, 63, 64, 65]]')              | 6  |\n",
    "| LIST('[4, \"s4\", 5, \"s5\", 6, \"s6\", 7, \"s7\", 8, \"s8\", [41, 42, 43, 44, 45]]')                | 4  |\n",
    "| LIST('[8, \"s8\", 9, \"s9\", 10, \"s10\", 11, \"s11\", 12, \"s12\", [81, 82, 83, 84, 85]]')          | 8  |\n",
    "| LIST('[5, \"s5\", 6, \"s6\", 7, \"s7\", 8, \"s8\", 9, \"s9\", [51, 52, 53, 54, 55]]')                | 5  |\n",
    "| LIST('[1, \"s1\", 2, \"s2\", 3, \"s3\", 4, \"s4\", 5, \"s5\", [11, 12, 13, 14, 15]]')                | 1  |\n",
    "| LIST('[7, \"s7\", 8, \"s8\", 9, \"s9\", 10, \"s10\", 11, \"s11\", [71, 72, 73, 74, 75]]')            | 7  |\n",
    "+--------------------------------------------------------------------------------------------+----+\n",
    "```\n",
    "![fig_CDTDM_1](./graphics/CDT_DM_1.png)\n",
    "\n",
    "**aql -c \"select map_bin from test.cdt-indexing\"**\n",
    "\n",
    "```\n",
    "+------------------------------------------------------------------------------------------------------------------+---+\n",
    "| map_bin                                                                                                          |PK |\n",
    "+------------------------------------------------------------------------------------------------------------------+---+\n",
    "|MAP('{9:[\"s91\", \"s92\"], \"obj\":{\"attr1\":91, \"attr2\":\"s92\", \"subobj\":{\"attr3\":901, \"attr4\":902}}, \"oid\":9}')        |109|\n",
    "|MAP('{1:[\"s11\", \"s12\"], \"obj\":{\"attr1\":11, \"attr2\":\"s12\", \"subobj\":{\"attr3\":101, \"attr4\":102}}, \"oid\":1}')        |101|\n",
    "|MAP('{2:[\"s21\", \"s22\"], \"obj\":{\"attr1\":21, \"attr2\":\"s22\", \"subobj\":{\"attr3\":201, \"attr4\":202}}, \"oid\":2}')        |102|\n",
    "|MAP('{5:[\"s51\", \"s52\"], \"obj\":{\"attr1\":51, \"attr2\":\"s52\", \"subobj\":{\"attr3\":501, \"attr4\":502}}, \"oid\":5}')        |105|\n",
    "|MAP('{10:[\"s101\", \"s102\"], \"obj\":{\"attr1\":101, \"attr2\":\"s102\", \"subobj\":{\"attr3\":1001, \"attr4\":1002}}, \"oid\":10}')|110|\n",
    "|MAP('{3:[\"s31\", \"s32\"], \"obj\":{\"attr1\":31, \"attr2\":\"s32\", \"subobj\":{\"attr3\":301, \"attr4\":302}}, \"oid\":3}')        |103|\n",
    "|MAP('{4:[\"s41\", \"s42\"], \"obj\":{\"attr1\":41, \"attr2\":\"s42\", \"subobj\":{\"attr3\":401, \"attr4\":402}}, \"oid\":4}')        |104|\n",
    "|MAP('{8:[\"s81\", \"s82\"], \"obj\":{\"attr1\":81, \"attr2\":\"s82\", \"subobj\":{\"attr3\":801, \"attr4\":802}}, \"oid\":8}')        |108|\n",
    "|MAP('{7:[\"s71\", \"s72\"], \"obj\":{\"attr1\":71, \"attr2\":\"s72\", \"subobj\":{\"attr3\":701, \"attr4\":702}}, \"oid\":7}')        |107|\n",
    "|MAP('{6:[\"s61\", \"s62\"], \"obj\":{\"attr1\":61, \"attr2\":\"s62\", \"subobj\":{\"attr3\":601, \"attr4\":602}}, \"oid\":6}')        |106|\n",
    "+------------------------------------------------------------------------------------------------------------------+---+\n",
    "10 rows in set (0.028 secs)\n",
    "```\n",
    "\n",
    "![fig_DM_2](./graphics/CDT_DM_2.png)\n",
    "\n",
    "## Non-Collection Indexes\n",
    "We will illustrate how indexes on non-collection elements are created and used. We will start with results in mind, and then create the appropriate index, issue a query using the index, and show the results.\n",
    "\n",
    "### Equality queries\n",
    "Get records with a specific integer or string value at a specific index, rank, or key position of a List or a Map.\n",
    "\n",
    "#### Records with a specific value at index X of a List or Map\n",
    "##### The top level List in list_bin has has numeric value = 3 at List Index = 2.\n",
    "\n",
    "![fig_EX_1](./graphics/CDT_EX_1.png)\n"
   ]
  },
  {
   "cell_type": "code",
   "execution_count": 59,
   "id": "ff393966",
   "metadata": {},
   "outputs": [
    {
     "name": "stdout",
     "output_type": "stream",
     "text": [
      "Created index idx_list_bin_top_pos_2_num on ns=test set=cdt-indexing bin=list_bin.\n",
      "Records with the value 3 at position 2 of the top List in list_bin:\n",
      "key=2 bins={list_bin=[2, s2, 3, s3, 4, s4, 5, s5, 6, s6, [21, 22, 23, 24, 25]]}\n"
     ]
    }
   ],
   "source": [
    "// Create an index for element at position 2 of the top List in list_bin. \n",
    "// idx_list_bin_top_pos_2_num\n",
    "createIndex(\"idx_list_bin_top_pos_2_num\", ListBin, IndexType.NUMERIC, IndexCollectionType.DEFAULT, CTX.listIndex(2));\n",
    "\n",
    "// issue the query and print results\n",
    "System.out.println(\"Records with the value 3 at position 2 of the top List in list_bin:\");\n",
    "Filter filter = Filter.equal(ListBin, 3, CTX.listIndex(2));\n",
    "executeQueryAndPrintResults(filter, ListBin);"
   ]
  },
  {
   "cell_type": "code",
   "execution_count": 60,
   "id": "1dba3959-7bb1-4bf2-a5b7-a85363aec951",
   "metadata": {},
   "outputs": [],
   "source": [
    "%sh asadm --enable -e \"manage sindex delete idx_list_bin_top_pos_2_num ns test set cdt-indexing\""
   ]
  },
  {
   "cell_type": "markdown",
   "id": "34012173",
   "metadata": {},
   "source": [
    "##### The top level Map in map_bin has numeric value 7 at map index = 2.\n",
    "\n",
    "\n",
    "![fig_EX_2](./graphics/CDT_EX_2.png)"
   ]
  },
  {
   "cell_type": "code",
   "execution_count": 61,
   "id": "9b6b97c7",
   "metadata": {},
   "outputs": [
    {
     "name": "stdout",
     "output_type": "stream",
     "text": [
      "Created index idx_map_bin_top_pos_2_num on ns=test set=cdt-indexing bin=map_bin.\n",
      "Records with the value 7 at position 2 of the top Map in map_bin:\n",
      "key=107 bins={map_bin={obj={attr2=s72, attr1=71, subobj={attr4=702, attr3=701}}, 7=[s71, s72], oid=7}}\n"
     ]
    }
   ],
   "source": [
    "// Create an index for element at position 2 of the top Map in map_bin. Note, in the key ordered sequence, \n",
    "//   \"oid\" element is in position 2 after the numeric key and \"obj\".\n",
    "// idx_map_bin_top_pos_2_num\n",
    "createIndex(\"idx_map_bin_top_pos_2_num\", MapBin, IndexType.NUMERIC, IndexCollectionType.DEFAULT, CTX.mapIndex(2));\n",
    "\n",
    "// issue the query and print results\n",
    "System.out.println(\"Records with the value 7 at position 2 of the top Map in map_bin:\");\n",
    "Filter filter = Filter.equal(MapBin, 7, CTX.mapIndex(2));\n",
    "executeQueryAndPrintResults(filter, MapBin);"
   ]
  },
  {
   "cell_type": "code",
   "execution_count": 62,
   "id": "9f41c439-daa6-4b34-8207-bbb03f6c73c7",
   "metadata": {},
   "outputs": [],
   "source": [
    "%sh asadm --enable -e \"manage sindex delete idx_map_bin_top_pos_2_num ns test set cdt-indexing\""
   ]
  },
  {
   "cell_type": "markdown",
   "id": "aefbe8bf",
   "metadata": {},
   "source": [
    "### Records with a specific value at rank X of a List or Map\n",
    "##### The nested List in list_bin has numeric value = 35 in rank -1 (highest value).\n",
    "\n",
    "![fig_EX_3](./graphics/CDT_EX_3.png)"
   ]
  },
  {
   "cell_type": "code",
   "execution_count": 63,
   "id": "fa6e69a0",
   "metadata": {},
   "outputs": [
    {
     "name": "stdout",
     "output_type": "stream",
     "text": [
      "Created index idx_list_bin_nested_rnk_-1_num on ns=test set=cdt-indexing bin=list_bin.\n",
      "Records with the value 35 in rank -1 (highest value) in the nested List in list_bin:\n",
      "key=3 bins={list_bin=[3, s3, 4, s4, 5, s5, 6, s6, 7, s7, [31, 32, 33, 34, 35]]}\n"
     ]
    }
   ],
   "source": [
    "// Create an index for element at rank -1 of the nested List in list_bin. Note the nested List is at the \n",
    "//   last poistion (index -1) in the top List.\n",
    "// idx_list_bin_nested_rnk_-1_num\n",
    "createIndex(\"idx_list_bin_nested_rnk_-1_num\", ListBin, IndexType.NUMERIC, IndexCollectionType.DEFAULT, \n",
    "            CTX.listIndex(-1), CTX.listRank(-1));\n",
    "\n",
    "// issue the query and print results\n",
    "System.out.println(\"Records with the value 35 in rank -1 (highest value) in the nested List in list_bin:\");\n",
    "Filter filter = Filter.equal(ListBin, 35, CTX.listIndex(-1), CTX.listRank(-1));\n",
    "executeQueryAndPrintResults(filter, ListBin);"
   ]
  },
  {
   "cell_type": "code",
   "execution_count": 64,
   "id": "a1247451-678d-476e-b68e-7936e2cc94c1",
   "metadata": {},
   "outputs": [],
   "source": [
    "%sh asadm --enable -e \"manage sindex delete idx_list_bin_nested_rnk_-1_num ns test set cdt-indexing\""
   ]
  },
  {
   "cell_type": "markdown",
   "id": "fadbb6f5",
   "metadata": {},
   "source": [
    "##### The nested \"subobj\" Map in map_bin has numeric value = 901 in rank 0 (lowest value in all map values)\n",
    "![fig_EX_4](./graphics/CDT_EX_4.png)"
   ]
  },
  {
   "cell_type": "code",
   "execution_count": 65,
   "id": "f9c0cea5",
   "metadata": {},
   "outputs": [
    {
     "name": "stdout",
     "output_type": "stream",
     "text": [
      "Created index idx_map_bin_subobj_rnk_0_num on ns=test set=cdt-indexing bin=map_bin.\n",
      "Records with the value 901 in rank 0 (lowest value) in the nested \"subobj\" Map in map_bin:\n",
      "key=109 bins={map_bin={9=[s91, s92], obj={attr2=s92, attr1=91, subobj={attr4=902, attr3=901}}, oid=9}}\n"
     ]
    }
   ],
   "source": [
    "// Create an index for element at rank 0 (lowest value) in the nested \"subobj\" Map in map_bin. \n",
    "// idx_map_bin_subobj_rnk_0_num\n",
    "createIndex(\"idx_map_bin_subobj_rnk_0_num\", MapBin, IndexType.NUMERIC, IndexCollectionType.DEFAULT, \n",
    "            CTX.mapKey(Value.get(\"obj\")), CTX.mapKey(Value.get(\"subobj\")), CTX.mapRank(0));\n",
    "\n",
    "// issue the query and print results\n",
    "System.out.println(\"Records with the value 901 in rank 0 (lowest value) in the nested \\\"subobj\\\" Map in map_bin:\");\n",
    "Filter filter = Filter.equal(MapBin, 901, \n",
    "            CTX.mapKey(Value.get(\"obj\")), CTX.mapKey(Value.get(\"subobj\")), CTX.mapRank(0));\n",
    "executeQueryAndPrintResults(filter, MapBin);"
   ]
  },
  {
   "cell_type": "code",
   "execution_count": 66,
   "id": "0f9cfbcf-a2a2-4ca4-865c-55c481241e8c",
   "metadata": {},
   "outputs": [],
   "source": [
    "%sh asadm --enable -e \"manage sindex delete idx_map_bin_subobj_rnk_0_num ns test set cdt-indexing\""
   ]
  },
  {
   "cell_type": "markdown",
   "id": "754921f3",
   "metadata": {},
   "source": [
    "##### Records with mapkey value \"subobj\" Map in map_bin key \"obj\" ... Index all MapKeys in \"obj\"\n",
    "![fig_EX_4](./graphics/CDT_EX_4.png)"
   ]
  },
  {
   "cell_type": "code",
   "execution_count": 67,
   "id": "c863cc21",
   "metadata": {},
   "outputs": [
    {
     "name": "stdout",
     "output_type": "stream",
     "text": [
      "Created index idx_map_bin_obj_mapkeys on ns=test set=cdt-indexing bin=map_bin.\n",
      "Records with mapkey value \"subobj\" Map in map_bin key \"obj\":\n",
      "key=104 bins={map_bin={4=[s41, s42], obj={attr2=s42, attr1=41, subobj={attr4=402, attr3=401}}, oid=4}}\n",
      "key=102 bins={map_bin={2=[s21, s22], obj={attr2=s22, attr1=21, subobj={attr4=202, attr3=201}}, oid=2}}\n",
      "key=108 bins={map_bin={8=[s81, s82], obj={attr2=s82, attr1=81, subobj={attr4=802, attr3=801}}, oid=8}}\n",
      "key=106 bins={map_bin={6=[s61, s62], obj={attr2=s62, attr1=61, subobj={attr4=602, attr3=601}}, oid=6}}\n",
      "key=109 bins={map_bin={9=[s91, s92], obj={attr2=s92, attr1=91, subobj={attr4=902, attr3=901}}, oid=9}}\n",
      "key=101 bins={map_bin={1=[s11, s12], obj={attr2=s12, attr1=11, subobj={attr4=102, attr3=101}}, oid=1}}\n",
      "key=105 bins={map_bin={5=[s51, s52], obj={attr2=s52, attr1=51, subobj={attr4=502, attr3=501}}, oid=5}}\n",
      "key=110 bins={map_bin={10=[s101, s102], obj={attr2=s102, attr1=101, subobj={attr4=1002, attr3=1001}}, oid=10}}\n",
      "key=107 bins={map_bin={obj={attr2=s72, attr1=71, subobj={attr4=702, attr3=701}}, 7=[s71, s72], oid=7}}\n",
      "key=103 bins={map_bin={obj={attr2=s32, attr1=31, subobj={attr4=302, attr3=301}}, 3=[s31, s32], oid=3}}\n"
     ]
    }
   ],
   "source": [
    "// Create an index for mapkeys in for nested map at \"obj\" Map in map_bin. \n",
    "\n",
    "createIndex(\"idx_map_bin_obj_mapkeys\", MapBin, IndexType.STRING, IndexCollectionType.MAPKEYS, \n",
    "            CTX.mapKey(Value.get(\"obj\")));\n",
    "\n",
    "// issue the query and print results\n",
    "System.out.println(\"Records with mapkey value \\\"subobj\\\" Map in map_bin key \\\"obj\\\":\");\n",
    "Filter filter = Filter.contains(MapBin,  IndexCollectionType.MAPKEYS,\"subobj\",\n",
    "            CTX.mapKey(Value.get(\"obj\")));\n",
    "executeQueryAndPrintResults(filter, MapBin);"
   ]
  },
  {
   "cell_type": "code",
   "execution_count": 68,
   "id": "464d348b-fdb2-46a7-9147-a1801f977769",
   "metadata": {},
   "outputs": [],
   "source": [
    "%sh asadm --enable -e \"manage sindex delete idx_map_bin_obj_mapkeys ns test set cdt-indexing\""
   ]
  },
  {
   "cell_type": "markdown",
   "id": "686363fb",
   "metadata": {},
   "source": [
    "#### Records with a specific value at key X of a Map\n",
    "##### The top level Map in map_bin has numeric value = 8 at key \"oid\".\n",
    "![fig_EX_5](./graphics/CDT_EX_5.png)"
   ]
  },
  {
   "cell_type": "code",
   "execution_count": 69,
   "id": "0518ace8",
   "metadata": {},
   "outputs": [
    {
     "name": "stdout",
     "output_type": "stream",
     "text": [
      "Created index idx_map_bin_top_key_oid_num on ns=test set=cdt-indexing bin=map_bin.\n",
      "Records with the value 8 at key \"oid\" in the top level Map in map_bin:\n",
      "key=108 bins={map_bin={8=[s81, s82], obj={attr2=s82, attr1=81, subobj={attr4=802, attr3=801}}, oid=8}}\n"
     ]
    }
   ],
   "source": [
    "// Create an index for element with key \"oid\" in the top level Map in map_bin. \n",
    "// idx_map_bin_top_key_oid_num\n",
    "createIndex(\"idx_map_bin_top_key_oid_num\", MapBin, IndexType.NUMERIC, IndexCollectionType.DEFAULT, \n",
    "            CTX.mapKey(Value.get(\"oid\")));\n",
    "\n",
    "// issue the query and print results\n",
    "System.out.println(\"Records with the value 8 at key \\\"oid\\\" in the top level Map in map_bin:\");\n",
    "Filter filter = Filter.equal(MapBin, 8, \n",
    "            CTX.mapKey(Value.get(\"oid\")));\n",
    "executeQueryAndPrintResults(filter, MapBin);"
   ]
  },
  {
   "cell_type": "code",
   "execution_count": 70,
   "id": "f8826fcc-41cf-44be-beaf-68fed4114f9a",
   "metadata": {},
   "outputs": [],
   "source": [
    "%sh asadm --enable -e \"manage sindex delete idx_map_bin_top_key_oid_num ns test set cdt-indexing\""
   ]
  },
  {
   "cell_type": "markdown",
   "id": "8e9ff22e",
   "metadata": {},
   "source": [
    "##### The nested \"obj\" Map in map_bin has string value = \"s42\" at map key = \"attr2\".\n",
    "![fig_EX_6](./graphics/CDT_EX_6.png)"
   ]
  },
  {
   "cell_type": "code",
   "execution_count": 71,
   "id": "4ab1baac",
   "metadata": {},
   "outputs": [
    {
     "name": "stdout",
     "output_type": "stream",
     "text": [
      "Created index idx_map_bin_obj_key_attr2_str on ns=test set=cdt-indexing bin=map_bin.\n",
      "Records with the value \"s42\" at key \"attr2\" in the nested \"obj\" Map in map_bin:\n",
      "key=104 bins={map_bin={4=[s41, s42], obj={attr2=s42, attr1=41, subobj={attr4=402, attr3=401}}, oid=4}}\n"
     ]
    }
   ],
   "source": [
    "// Create an index for element with key \"attr2\" in the nested \"obj\" Map in map_bin. \n",
    "// idx_map_bin_obj_key_attr2_str\n",
    "createIndex(\"idx_map_bin_obj_key_attr2_str\", MapBin, IndexType.STRING, IndexCollectionType.DEFAULT, \n",
    "            CTX.mapKey(Value.get(\"obj\")), CTX.mapKey(Value.get(\"attr2\")));\n",
    "\n",
    "// issue the query and print results\n",
    "System.out.println(\"Records with the value \\\"s42\\\" at key \\\"attr2\\\" in the nested \\\"obj\\\" Map in map_bin:\");\n",
    "Filter filter = Filter.equal(MapBin, \"s42\", \n",
    "            CTX.mapKey(Value.get(\"obj\")), CTX.mapKey(Value.get(\"attr2\")));\n",
    "executeQueryAndPrintResults(filter, MapBin);\n"
   ]
  },
  {
   "cell_type": "code",
   "execution_count": 72,
   "id": "f7505c89-0ae3-4e26-ad17-a133c5fc9f87",
   "metadata": {},
   "outputs": [],
   "source": [
    "%sh asadm --enable -e \"manage sindex delete idx_map_bin_obj_key_attr2_str ns test set cdt-indexing\""
   ]
  },
  {
   "cell_type": "markdown",
   "id": "e0974afd",
   "metadata": {},
   "source": [
    "### Range Queries\n",
    "Get records having an integer value within a range at a specific index, rank, or key position of a List or a Map. Range queries are supported on integer values only.\n",
    "\n",
    "We will use the indexes defined above for the range queries too.\n",
    "\n",
    "#### Records with value in s specific range at index X rank position of a List or Map\n",
    "##### The top level List in list_bin numeric value is in range 3-5 at List Index = 2\n",
    "![fig_EX_7](./graphics/CDT_EX_1.png)"
   ]
  },
  {
   "cell_type": "code",
   "execution_count": 73,
   "id": "41b8f42b",
   "metadata": {},
   "outputs": [
    {
     "name": "stdout",
     "output_type": "stream",
     "text": [
      "Created index idx_list_bin_top_pos_2_num on ns=test set=cdt-indexing bin=list_bin.\n",
      "Records with value in range 3-5 at position 2 in the top level List in list_bin:\n",
      "key=3 bins={list_bin=[3, s3, 4, s4, 5, s5, 6, s6, 7, s7, [31, 32, 33, 34, 35]]}\n",
      "key=4 bins={list_bin=[4, s4, 5, s5, 6, s6, 7, s7, 8, s8, [41, 42, 43, 44, 45]]}\n",
      "key=2 bins={list_bin=[2, s2, 3, s3, 4, s4, 5, s5, 6, s6, [21, 22, 23, 24, 25]]}\n"
     ]
    }
   ],
   "source": [
    "// issue the query and print results\n",
    "createIndex(\"idx_list_bin_top_pos_2_num\", ListBin, IndexType.NUMERIC, IndexCollectionType.DEFAULT, \n",
    "              CTX.listIndex(2)); \n",
    "\n",
    "System.out.println(\"Records with value in range 3-5 at position 2 in the top level List in list_bin:\");\n",
    "Filter filter = Filter.range(ListBin, 3, 5, CTX.listIndex(2));\n",
    "executeQueryAndPrintResults(filter, ListBin);"
   ]
  },
  {
   "cell_type": "code",
   "execution_count": 74,
   "id": "cd580ffe-af9d-46fe-b6fa-2fbdd9a38e2a",
   "metadata": {},
   "outputs": [],
   "source": [
    "%sh asadm --enable -e \"manage sindex delete idx_list_bin_top_pos_2_num ns test set cdt-indexing\""
   ]
  },
  {
   "cell_type": "markdown",
   "id": "464efd87",
   "metadata": {},
   "source": [
    "##### The top level Map in map_bin has numeric value in range 5 - 7 at map index = 2.\n",
    "![fig_EX_8](./graphics/CDT_EX_8.png)"
   ]
  },
  {
   "cell_type": "code",
   "execution_count": 75,
   "id": "80e3c272",
   "metadata": {},
   "outputs": [
    {
     "name": "stdout",
     "output_type": "stream",
     "text": [
      "Created index idx_map_bin_top_pos_2_num on ns=test set=cdt-indexing bin=map_bin.\n",
      "Records with value in range 5-7 at position 2 of the top Map in map_bin:\n",
      "key=107 bins={map_bin={obj={attr2=s72, attr1=71, subobj={attr4=702, attr3=701}}, 7=[s71, s72], oid=7}}\n",
      "key=106 bins={map_bin={6=[s61, s62], obj={attr2=s62, attr1=61, subobj={attr4=602, attr3=601}}, oid=6}}\n",
      "key=105 bins={map_bin={5=[s51, s52], obj={attr2=s52, attr1=51, subobj={attr4=502, attr3=501}}, oid=5}}\n"
     ]
    }
   ],
   "source": [
    "// issue the query and print results\n",
    "createIndex(\"idx_map_bin_top_pos_2_num\", MapBin, IndexType.NUMERIC, IndexCollectionType.DEFAULT, CTX.mapIndex(2));  \n",
    " \n",
    "System.out.println(\"Records with value in range 5-7 at position 2 of the top Map in map_bin:\");\n",
    "Filter filter = Filter.range(MapBin, 5, 7, CTX.mapIndex(2));\n",
    "executeQueryAndPrintResults(filter, MapBin);"
   ]
  },
  {
   "cell_type": "code",
   "execution_count": 76,
   "id": "d2f086e5-003a-4cbe-b519-d6f5c26fe894",
   "metadata": {},
   "outputs": [],
   "source": [
    "%sh asadm --enable -e \"manage sindex delete idx_map_bin_top_pos_2_num ns test set cdt-indexing\""
   ]
  },
  {
   "cell_type": "markdown",
   "id": "db64efa1",
   "metadata": {},
   "source": [
    "#### Records with value in s specific range at rank X of a List or Map\n",
    "##### The nested List in list_bin has numeric value in range 20 – 50 in rank -1 (highest value).\n",
    "![fig_EX_9](./graphics/CDT_EX_3.png)"
   ]
  },
  {
   "cell_type": "code",
   "execution_count": 77,
   "id": "37f17498",
   "metadata": {},
   "outputs": [
    {
     "name": "stdout",
     "output_type": "stream",
     "text": [
      "Created index idx_list_bin_nested_rnk_-1_num on ns=test set=cdt-indexing bin=list_bin.\n",
      "Records with value in range 20-50 in rank -1 (highest value) in the nested List in list_bin:\n",
      "key=3 bins={list_bin=[3, s3, 4, s4, 5, s5, 6, s6, 7, s7, [31, 32, 33, 34, 35]]}\n",
      "key=4 bins={list_bin=[4, s4, 5, s5, 6, s6, 7, s7, 8, s8, [41, 42, 43, 44, 45]]}\n",
      "key=2 bins={list_bin=[2, s2, 3, s3, 4, s4, 5, s5, 6, s6, [21, 22, 23, 24, 25]]}\n",
      "key=5 bins={list_bin=[5, s5, 6, s6, 7, s7, 8, s8, 9, s9, [51, 52, 53, 54, 55]]}\n"
     ]
    }
   ],
   "source": [
    "// issue the query and print results\n",
    "createIndex(\"idx_list_bin_nested_rnk_-1_num\", ListBin, IndexType.NUMERIC, IndexCollectionType.DEFAULT, \n",
    "              CTX.listIndex(-1), CTX.listRank(-1));\n",
    "\n",
    "System.out.println(\"Records with value in range 20-50 in rank -1 (highest value) in the nested List in list_bin:\");\n",
    "Filter filter = Filter.range(ListBin, 20, 60, CTX.listIndex(-1), CTX.listRank(-1));\n",
    "executeQueryAndPrintResults(filter, ListBin);"
   ]
  },
  {
   "cell_type": "code",
   "execution_count": 78,
   "id": "250d31c8-7d29-4c5a-93be-e477af5532c1",
   "metadata": {},
   "outputs": [],
   "source": [
    "%sh asadm --enable -e \"manage sindex delete idx_list_bin_nested_rnk_-1_num ns test set cdt-indexing\""
   ]
  },
  {
   "cell_type": "markdown",
   "id": "c9c4fe76",
   "metadata": {},
   "source": [
    "##### The nested \"subobj\" Map in map_bin has numeric value in range 500 – 800 in rank 0 (lowest value in all map values).\n",
    "![fig_EX_10](./graphics/CDT_EX_4.png)"
   ]
  },
  {
   "cell_type": "code",
   "execution_count": 79,
   "id": "594e6a4d",
   "metadata": {},
   "outputs": [
    {
     "name": "stdout",
     "output_type": "stream",
     "text": [
      "Created index idx_map_bin_subobj_rnk_0_num on ns=test set=cdt-indexing bin=map_bin.\n",
      "Records with value in range 500-800 in rank 0 (lowest value) in the nested \"subobj\" Map in map_bin:\n",
      "key=105 bins={map_bin={5=[s51, s52], obj={attr2=s52, attr1=51, subobj={attr4=502, attr3=501}}, oid=5}}\n",
      "key=107 bins={map_bin={obj={attr2=s72, attr1=71, subobj={attr4=702, attr3=701}}, 7=[s71, s72], oid=7}}\n",
      "key=106 bins={map_bin={6=[s61, s62], obj={attr2=s62, attr1=61, subobj={attr4=602, attr3=601}}, oid=6}}\n"
     ]
    }
   ],
   "source": [
    "// issue the query and print results\n",
    "createIndex(\"idx_map_bin_subobj_rnk_0_num\", MapBin, IndexType.NUMERIC, IndexCollectionType.DEFAULT, \n",
    "              CTX.mapKey(Value.get(\"obj\")), CTX.mapKey(Value.get(\"subobj\")), CTX.mapRank(0));  \n",
    "\n",
    "System.out.println(\"Records with value in range 500-800 in rank 0 (lowest value) in the nested \\\"subobj\\\" Map in map_bin:\");\n",
    "Filter filter = Filter.range(MapBin, 500, 800,\n",
    "            CTX.mapKey(Value.get(\"obj\")), CTX.mapKey(Value.get(\"subobj\")), CTX.mapRank(0));\n",
    "executeQueryAndPrintResults(filter, MapBin);"
   ]
  },
  {
   "cell_type": "code",
   "execution_count": 80,
   "id": "9eb453c8-52e5-46d3-b956-57f274e507d1",
   "metadata": {},
   "outputs": [],
   "source": [
    "%sh asadm --enable -e \"manage sindex delete idx_map_bin_subobj_rnk_0_num ns test set cdt-indexing\""
   ]
  },
  {
   "cell_type": "markdown",
   "id": "e37ce7b0",
   "metadata": {},
   "source": [
    "#### Records with value in s specific range at key X of a Map\n",
    "\n",
    "##### The top level Map in map_bin has numeric value in range 4 - 6 at key \"oid\".\n",
    "![fig_EX_11](./graphics/CDT_EX_5.png)\n"
   ]
  },
  {
   "cell_type": "code",
   "execution_count": 81,
   "id": "03fe8422",
   "metadata": {},
   "outputs": [
    {
     "name": "stdout",
     "output_type": "stream",
     "text": [
      "Created index idx_map_bin_top_key_oid_num on ns=test set=cdt-indexing bin=map_bin.\n",
      "Records with value in range 4-6 at key \"oid\" in the top level Map in map_bin:\n",
      "key=105 bins={map_bin={5=[s51, s52], obj={attr2=s52, attr1=51, subobj={attr4=502, attr3=501}}, oid=5}}\n",
      "key=104 bins={map_bin={4=[s41, s42], obj={attr2=s42, attr1=41, subobj={attr4=402, attr3=401}}, oid=4}}\n",
      "key=106 bins={map_bin={6=[s61, s62], obj={attr2=s62, attr1=61, subobj={attr4=602, attr3=601}}, oid=6}}\n"
     ]
    }
   ],
   "source": [
    "// issue the query and print results\n",
    "createIndex(\"idx_map_bin_top_key_oid_num\", MapBin, IndexType.NUMERIC, IndexCollectionType.DEFAULT, CTX.mapKey(Value.get(\"oid\")));  \n",
    " \n",
    "System.out.println(\"Records with value in range 4-6 at key \\\"oid\\\" in the top level Map in map_bin:\");\n",
    "Filter filter = Filter.range(MapBin, 4, 6, CTX.mapKey(Value.get(\"oid\")));\n",
    "executeQueryAndPrintResults(filter, MapBin);"
   ]
  },
  {
   "cell_type": "code",
   "execution_count": 82,
   "id": "8f2dc124-9a54-49c7-94e2-025eda3a1548",
   "metadata": {},
   "outputs": [],
   "source": [
    "%sh asadm --enable -e \"manage sindex delete idx_map_bin_top_key_oid_num ns test set cdt-indexing\""
   ]
  },
  {
   "cell_type": "markdown",
   "id": "67a7af24",
   "metadata": {},
   "source": [
    "## Collection Indexes\n",
    "Collection indexes are defined on List and Map elements with the collection type LIST (list values in the List), MAPKEYS (key values in the Map), or MAPVALUES (values in the Map). The indexes can be used for equality queries on integr and string elements, as well as range queries on integer elements. We will illustrate these variations below.\n",
    "\n",
    "### Equality Queries\n",
    "Get records with a specific integer or string value in a List or Map.\n",
    "\n",
    "#### Records with a List or Map containing a specific value.\n",
    "\n",
    "##### The nested List in map_bin at MapIndex = 0 contains \"s91\".\n",
    "![fig_EX_12](./graphics/CDT_EX_7.png)"
   ]
  },
  {
   "cell_type": "code",
   "execution_count": 83,
   "id": "347696ef",
   "metadata": {},
   "outputs": [
    {
     "name": "stdout",
     "output_type": "stream",
     "text": [
      "Created index idx_map_bin_i_list_str on ns=test set=cdt-indexing bin=map_bin.\n",
      "Records with the value \"s91\" in the nested list \"arr\" in map_bin:\n",
      "key=109 bins={map_bin={9=[s91, s92], obj={attr2=s92, attr1=91, subobj={attr4=902, attr3=901}}, oid=9}}\n"
     ]
    }
   ],
   "source": [
    "// Create an index for the nested List in map_bin. Note, in key-ordered sequence, the numeric key is the first one.\n",
    "// idx_map_bin_i_list_str\n",
    "createIndex(\"idx_map_bin_i_list_str\", MapBin, IndexType.STRING, IndexCollectionType.LIST, CTX.mapIndex(0));\n",
    "\n",
    "// issue the query and print results\n",
    "System.out.println(\"Records with the value \\\"s91\\\" in the nested list \\\"arr\\\" in map_bin:\");\n",
    "Filter filter = Filter.contains(MapBin, IndexCollectionType.LIST, \"s91\", CTX.mapIndex(0));\n",
    "executeQueryAndPrintResults(filter, MapBin);"
   ]
  },
  {
   "cell_type": "code",
   "execution_count": 84,
   "id": "170fc69a-635d-4f12-b2ff-4d351ec9b74e",
   "metadata": {},
   "outputs": [],
   "source": [
    "%sh asadm --enable -e \"manage sindex delete idx_map_bin_i_list_str ns test set cdt-indexing\""
   ]
  },
  {
   "cell_type": "markdown",
   "id": "025f5d72",
   "metadata": {},
   "source": [
    "##### The top level Map in map_bin contains a key whose numeric value = 5.\n",
    "![fig_EX_13](./graphics/CDT_EX_9.png)"
   ]
  },
  {
   "cell_type": "code",
   "execution_count": 85,
   "id": "81fb89ce",
   "metadata": {},
   "outputs": [
    {
     "name": "stdout",
     "output_type": "stream",
     "text": [
      "Created index idx_map_bin_top_mapkeys_num on ns=test set=cdt-indexing bin=map_bin.\n",
      "Records with key 5 in the top level Map in map_bin:\n",
      "key=105 bins={map_bin={5=[s51, s52], obj={attr2=s52, attr1=51, subobj={attr4=502, attr3=501}}, oid=5}}\n"
     ]
    }
   ],
   "source": [
    "// Create an index for keys in top level Map in map_bin. \n",
    "// idx_map_bin_top_mapkeys_num\n",
    "createIndex(\"idx_map_bin_top_mapkeys_num\", MapBin, IndexType.NUMERIC, IndexCollectionType.MAPKEYS);\n",
    "\n",
    "// issue the query and print results\n",
    "System.out.println(\"Records with key 5 in the top level Map in map_bin:\");\n",
    "Filter filter = Filter.contains(MapBin, IndexCollectionType.MAPKEYS, 5);\n",
    "executeQueryAndPrintResults(filter, MapBin);"
   ]
  },
  {
   "cell_type": "code",
   "execution_count": 86,
   "id": "a713ed37-2af6-4e67-ba07-ef40b91ae1d7",
   "metadata": {},
   "outputs": [],
   "source": [
    "%sh asadm --enable -e \"manage sindex delete idx_map_bin_top_mapkeys_num ns test set cdt-indexing\""
   ]
  },
  {
   "cell_type": "markdown",
   "id": "4917649e",
   "metadata": {},
   "source": [
    "##### The nested \"obj\" Map in map_bin contains a value \"s12\".\n",
    "![fig_EX_14](./graphics/CDT_EX_10.png)"
   ]
  },
  {
   "cell_type": "code",
   "execution_count": 87,
   "id": "37f1bf04",
   "metadata": {},
   "outputs": [
    {
     "name": "stdout",
     "output_type": "stream",
     "text": [
      "Created index idx_map_bin_obj_mapvals_str on ns=test set=cdt-indexing bin=map_bin.\n",
      "Records with the value \"s12\" in the nested Map \"obj\" in map_bin:\n",
      "key=102 bins={map_bin={2=[s21, s22], obj={attr2=s22, attr1=21, subobj={attr4=202, attr3=201}}, oid=2}}\n"
     ]
    }
   ],
   "source": [
    "// Create an index for values in nested Map \"obj\" in map_bin. \n",
    "// idx_map_bin_obj_mapvals_str\n",
    "createIndex(\"idx_map_bin_obj_mapvals_str\", MapBin, IndexType.STRING, IndexCollectionType.MAPVALUES, \n",
    "            CTX.mapKey(Value.get(\"obj\")));\n",
    "\n",
    "// issue the query and print results\n",
    "System.out.println(\"Records with the value \\\"s12\\\" in the nested Map \\\"obj\\\" in map_bin:\");\n",
    "Filter filter = Filter.contains(MapBin, IndexCollectionType.MAPVALUES, \"s22\", CTX.mapKey(Value.get(\"obj\")));\n",
    "executeQueryAndPrintResults(filter, MapBin);"
   ]
  },
  {
   "cell_type": "code",
   "execution_count": 88,
   "id": "93fce62c-8fe7-444f-813a-7005696d516c",
   "metadata": {},
   "outputs": [],
   "source": [
    "%sh asadm --enable -e \"manage sindex delete idx_map_bin_obj_mapvals_str ns test set cdt-indexing\""
   ]
  },
  {
   "cell_type": "markdown",
   "id": "0ce3302c",
   "metadata": {},
   "source": [
    "### Range Queries\n",
    "Get records with a range of integer values in a List or Map.\n",
    "\n",
    "#### Records with a List or Map containing an integer in a given range.\n",
    "\n",
    "##### The nested list in list_bin has a value in the numeric value range 85-93.\n",
    "![fig_EX_15](./graphics/CDT_EX_11.png)"
   ]
  },
  {
   "cell_type": "code",
   "execution_count": 89,
   "id": "6157926a",
   "metadata": {},
   "outputs": [
    {
     "name": "stdout",
     "output_type": "stream",
     "text": [
      "Created index idx_list_bin_nested_list_num on ns=test set=cdt-indexing bin=list_bin.\n",
      "Records with value in range 85-93 in the nested list in list_bin:\n",
      "key=8 bins={list_bin=[8, s8, 9, s9, 10, s10, 11, s11, 12, s12, [81, 82, 83, 84, 85]]}\n",
      "key=9 bins={list_bin=[9, s9, 10, s10, 11, s11, 12, s12, 13, s13, [91, 92, 93, 94, 95]]}\n"
     ]
    }
   ],
   "source": [
    "// Create an index for the nested List in map_bin. Note, the nested list is the last element.\n",
    "// idx_list_bin_nested_list_num\n",
    "createIndex(\"idx_list_bin_nested_list_num\", ListBin, IndexType.NUMERIC, IndexCollectionType.LIST, \n",
    "            CTX.listIndex(-1));\n",
    "\n",
    "// issue the query and print results\n",
    "System.out.println(\"Records with value in range 85-93 in the nested list in list_bin:\");\n",
    "Filter filter = Filter.range(ListBin, IndexCollectionType.LIST, 85, 93, CTX.listIndex(-1));\n",
    "executeQueryAndPrintResults(filter, ListBin);"
   ]
  },
  {
   "cell_type": "code",
   "execution_count": 90,
   "id": "8b67f2db-01dd-4457-bccc-6997a9e17723",
   "metadata": {},
   "outputs": [],
   "source": [
    "%sh asadm --enable -e \"manage sindex delete idx_list_bin_nested_list_num ns test set cdt-indexing\""
   ]
  },
  {
   "cell_type": "markdown",
   "id": "909009fe",
   "metadata": {},
   "source": [
    "##### The top level Map in map_bin has a MapKey in range 5-7.\n",
    "![fig_EX_16](./graphics/CDT_EX_9.png)"
   ]
  },
  {
   "cell_type": "code",
   "execution_count": 91,
   "id": "57e20381",
   "metadata": {},
   "outputs": [
    {
     "name": "stdout",
     "output_type": "stream",
     "text": [
      "Created index idx_map_bin_top_mapkeys_num on ns=test set=cdt-indexing bin=map_bin.\n",
      "Records with key in range 5-7 in the top level Map in map_bin:\n",
      "key=106 bins={map_bin={6=[s61, s62], obj={attr2=s62, attr1=61, subobj={attr4=602, attr3=601}}, oid=6}}\n",
      "key=105 bins={map_bin={5=[s51, s52], obj={attr2=s52, attr1=51, subobj={attr4=502, attr3=501}}, oid=5}}\n",
      "key=107 bins={map_bin={obj={attr2=s72, attr1=71, subobj={attr4=702, attr3=701}}, 7=[s71, s72], oid=7}}\n"
     ]
    }
   ],
   "source": [
    "// use the index created earlier\n",
    "createIndex(\"idx_map_bin_top_mapkeys_num\", MapBin, IndexType.NUMERIC, IndexCollectionType.MAPKEYS);  \n",
    "\n",
    "// issue the query and print results\n",
    "System.out.println(\"Records with key in range 5-7 in the top level Map in map_bin:\");\n",
    "Filter filter = Filter.range(MapBin, IndexCollectionType.MAPKEYS, 5, 7);\n",
    "executeQueryAndPrintResults(filter, MapBin);"
   ]
  },
  {
   "cell_type": "code",
   "execution_count": 92,
   "id": "1383d577-b46e-485d-8f9c-46842bb0946c",
   "metadata": {},
   "outputs": [],
   "source": [
    "%sh asadm --enable -e \"manage sindex delete idx_map_bin_top_mapkeys_num ns test set cdt-indexing\""
   ]
  },
  {
   "cell_type": "markdown",
   "id": "248b9df0",
   "metadata": {},
   "source": [
    "##### The nested Map \"subobj\" in map_bin has MapValue(s) in numeric value in range of 300 – 500.\n",
    "![fig_EX_17](./graphics/CDT_EX_4.png)"
   ]
  },
  {
   "cell_type": "code",
   "execution_count": 93,
   "id": "5df8d363",
   "metadata": {},
   "outputs": [
    {
     "name": "stdout",
     "output_type": "stream",
     "text": [
      "Created index idx_map_bin_subobj_mapvals_num on ns=test set=cdt-indexing bin=map_bin.\n",
      "Records with value in range 300-500 in the nested Map \"subobj\" in map_bin:\n",
      "key=105 bins={map_bin={5=[s51, s52], obj={attr2=s52, attr1=51, subobj={attr4=502, attr3=501}}, oid=5}}\n",
      "key=103 bins={map_bin={obj={attr2=s32, attr1=31, subobj={attr4=302, attr3=301}}, 3=[s31, s32], oid=3}}\n",
      "key=104 bins={map_bin={4=[s41, s42], obj={attr2=s42, attr1=41, subobj={attr4=402, attr3=401}}, oid=4}}\n"
     ]
    }
   ],
   "source": [
    "// Create an index for values in nested Map \"subobj\" in map_bin. \n",
    "// idx_map_bin_subobj_mapvals_num\n",
    "createIndex(\"idx_map_bin_subobj_mapvals_num\", MapBin, IndexType.NUMERIC, IndexCollectionType.MAPVALUES, \n",
    "            CTX.mapKey(Value.get(\"obj\")), CTX.mapKey(Value.get(\"subobj\")));\n",
    "\n",
    "// issue the query and print results\n",
    "System.out.println(\"Records with value in range 300-500 in the nested Map \\\"subobj\\\" in map_bin:\");\n",
    "Filter filter = Filter.range(MapBin, IndexCollectionType.MAPVALUES, 302, 501, \n",
    "            CTX.mapKey(Value.get(\"obj\")), CTX.mapKey(Value.get(\"subobj\")));\n",
    "executeQueryAndPrintResults(filter, MapBin);"
   ]
  },
  {
   "cell_type": "code",
   "execution_count": 94,
   "id": "a17d5386-8c6f-4ef9-b432-b81dd0c18db9",
   "metadata": {},
   "outputs": [],
   "source": [
    "%sh asadm --enable -e \"manage sindex delete idx_map_bin_subobj_mapvals_num ns test set cdt-indexing\""
   ]
  },
  {
   "cell_type": "markdown",
   "id": "8f9833bb",
   "metadata": {},
   "source": [
    "### Build Seconday Index on Records with a specific value in the List\n",
    "##### The List in list_bin has numeric value = 2.\n",
    "\n",
    "![fig_EX_7](./graphics/CDT_EX_1.png)"
   ]
  },
  {
   "cell_type": "code",
   "execution_count": 102,
   "id": "293bcfb4",
   "metadata": {},
   "outputs": [
    {
     "name": "stdout",
     "output_type": "stream",
     "text": [
      "Dropped index idx_list_bin_value.\n",
      "Created index idx_list_bin_value on ns=test set=cdt-indexing bin=list_bin.\n",
      "Records with the value 2 in the list in any position of the top List in list_bin:\n",
      "key=2 bins={list_bin=[2, s2, 3, s3, 4, s4, 5, s5, 6, s6, [21, 22, 23, 24, 25]]}\n",
      "key=1 bins={list_bin=[1, s1, 2, s2, 3, s3, 4, s4, 5, s5, [11, 12, 13, 14, 15]]}\n",
      "- - -\n",
      "\n",
      "Dropped index idx_list_bin_value.\n",
      "Created index idx_list_bin_value on ns=test set=cdt-indexing bin=list_bin.\n",
      "Records with the value 31 in in any position of the list in list at rank -1, in list_bin:\n",
      "key=3 bins={list_bin=[3, s3, 4, s4, 5, s5, 6, s6, 7, s7, [31, 32, 33, 34, 35]]}\n",
      "- - -\n",
      "\n",
      "Dropped index idx_list_bin_value.\n",
      "Created index idx_list_bin_value on ns=test set=cdt-indexing bin=list_bin.\n",
      "Records with the value 11 in a list = [11,12,13,14,15] (a list value) in any position of the top List in list_bin:\n",
      "key=1 bins={list_bin=[1, s1, 2, s2, 3, s3, 4, s4, 5, s5, [11, 12, 13, 14, 15]]}\n",
      "- - -\n",
      "\n"
     ]
    }
   ],
   "source": [
    "// Create an index for listValue in the top List in list_bin. \n",
    "// idx_list_bin_value\n",
    "\n",
    "\n",
    "for(int icase=0;icase<3;icase++){\n",
    "  dropIndex(\"idx_list_bin_value\");\n",
    "  Filter filter = null;\n",
    "  if(icase==0){\n",
    "    createIndex(\"idx_list_bin_value\", ListBin, IndexType.NUMERIC, IndexCollectionType.DEFAULT, CTX.listValue(Value.get(2)));\n",
    "    System.out.println(\"Records with the value 2 in the list in any position of the top List in list_bin:\");\n",
    "    //Thread.sleep(2000L); //give time (ms) to create index?  Not needed.\n",
    "    filter = Filter.equal(ListBin, 2, CTX.listValue(Value.get(2)));\n",
    "  }\n",
    "  else if(icase==1){\n",
    "    //Index the record, only if [11,12,13,14,15]... last list item contains the value 31.\n",
    "    createIndex(\"idx_list_bin_value\", ListBin, IndexType.NUMERIC, IndexCollectionType.DEFAULT, CTX.listRank(-1), CTX.listValue(Value.get(31)));\n",
    "    System.out.println(\"Records with the value 31 in in any position of the list in list at rank -1, in list_bin:\");\n",
    "    //Thread.sleep(2000L);  //give time (ms) to create index?  Not needed.\n",
    "    filter = Filter.equal(ListBin, 31, CTX.listRank(-1), CTX.listValue(Value.get(31)));\n",
    "  }\n",
    "  else if(icase==2){\n",
    "    ArrayList<Integer> listOfInts = new ArrayList<Integer>();\n",
    "    listOfInts.add(11);\n",
    "    listOfInts.add(12);\n",
    "    listOfInts.add(13);\n",
    "    listOfInts.add(14);\n",
    "    listOfInts.add(15);\n",
    "    ListValue listOfIntsValue = new ListValue(listOfInts);\n",
    "    createIndex(\"idx_list_bin_value\", ListBin, IndexType.NUMERIC, IndexCollectionType.LIST, CTX.listValue(listOfIntsValue));\n",
    "    System.out.println(\"Records with the value 11 in a list = [11,12,13,14,15] (a list value) in any position of the top List in list_bin:\");\n",
    "    //Its indexing records which in their ListBin has this sub-list item [11,12,13,14,15], anywhere in the top list for ListBin.  \n",
    "    //Thread.sleep(2000L);  //give time (ms) to create index?  Not needed.\n",
    "    filter = Filter.contains(ListBin, IndexCollectionType.LIST, 11, CTX.listValue(listOfIntsValue));\n",
    "  }\n",
    "\n",
    "  executeQueryAndPrintResults(filter, ListBin);\n",
    "  System.out.println(\"- - -\\n\");\n",
    "}"
   ]
  },
  {
   "cell_type": "code",
   "execution_count": 47,
   "id": "05af47c4-d446-4c91-89cc-5f2a52850c58",
   "metadata": {},
   "outputs": [
    {
     "name": "stdout",
     "output_type": "stream",
     "text": [
      "Dropped index idx_list_bin_value.\n"
     ]
    }
   ],
   "source": [
    "dropIndex(\"idx_list_bin_value\");"
   ]
  },
  {
   "cell_type": "markdown",
   "id": "4a9ceb9c",
   "metadata": {},
   "source": [
    "## Clean Up\n"
   ]
  },
  {
   "cell_type": "code",
   "execution_count": 48,
   "id": "926b40e5",
   "metadata": {},
   "outputs": [],
   "source": [
    "%sh asadm --enable -e \"manage truncate ns test --no-warn\" -h \"127.0.0.1\""
   ]
  },
  {
   "cell_type": "code",
   "execution_count": null,
   "id": "72b05967-455c-4a8b-a547-3d108ad8476d",
   "metadata": {},
   "outputs": [],
   "source": []
  }
 ],
 "metadata": {
  "kernelspec": {
   "display_name": "Java",
   "language": "java",
   "name": "java"
  },
  "language_info": {
   "codemirror_mode": "java",
   "file_extension": ".jshell",
   "mimetype": "text/x-java-source",
   "name": "Java",
   "pygments_lexer": "java",
   "version": "17.0.10+8-LTS"
  }
 },
 "nbformat": 4,
 "nbformat_minor": 5
}
