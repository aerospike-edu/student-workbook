{
 "cells": [
  {
   "cell_type": "markdown",
   "id": "5610565e",
   "metadata": {},
   "source": [
    "## Secondary Indexes in ver 6.1 for GeoJSON Data\n",
    " \n",
    " <img src=\"./graphics/SIOverview.png\"\n",
    "     alt=\"SIOverview\"\n",
    "     style=\"center; margin-right: 10px;\"\n",
    "     width=\"800\"\n",
    "     height=\"640\"/>\n"
   ]
  },
  {
   "cell_type": "markdown",
   "id": "4b23c8bf",
   "metadata": {},
   "source": [
    "#### Add Java Client POM Dependency  \n",
    "Jupyter Notebook way!"
   ]
  },
  {
   "cell_type": "code",
   "execution_count": 1,
   "id": "05162894-4eb0-4a54-a7b9-01ead6ff7542",
   "metadata": {},
   "outputs": [],
   "source": [
    "import io.github.spencerpark.ijava.IJava;\n",
    "import io.github.spencerpark.jupyter.kernel.magic.common.Shell;\n",
    "IJava.getKernelInstance().getMagics().registerMagics(Shell.class);"
   ]
  },
  {
   "cell_type": "code",
   "execution_count": 2,
   "id": "c7d10ca8",
   "metadata": {},
   "outputs": [],
   "source": [
    "%%loadFromPOM\n",
    "<dependencies>\n",
    "  <dependency>\n",
    "    <groupId>com.aerospike</groupId>\n",
    "    <artifactId>aerospike-client-jdk8</artifactId>\n",
    "    <version>9.0.3</version>\n",
    "  </dependency>\n",
    "</dependencies>"
   ]
  },
  {
   "cell_type": "markdown",
   "id": "e03decf9",
   "metadata": {},
   "source": [
    "####  Add required Java Client Imports\n",
    "\n",
    "These are some of the Aerospike Java Client imports needed to start developing our Application interactively.  We will add others, as needed, as we develop our solution."
   ]
  },
  {
   "cell_type": "code",
   "execution_count": 3,
   "id": "b5ec301d",
   "metadata": {},
   "outputs": [
    {
     "name": "stdout",
     "output_type": "stream",
     "text": [
      "Client modules imported.\n"
     ]
    }
   ],
   "source": [
    "//Require Imports\n",
    "import com.aerospike.client.AerospikeClient;\n",
    "import com.aerospike.client.policy.WritePolicy;\n",
    "import com.aerospike.client.Bin;\n",
    "import com.aerospike.client.Key;\n",
    "import com.aerospike.client.Record;\n",
    "import com.aerospike.client.Value;\n",
    "System.out.println(\"Client modules imported.\");"
   ]
  },
  {
   "cell_type": "markdown",
   "id": "45dc772b",
   "metadata": {},
   "source": [
    "#### Connect to the Aerospike Server\n",
    "Instantiate the client object. Let us write a record and read it back.\n",
    "We have a namespace **_test_** pre-defined on the server."
   ]
  },
  {
   "cell_type": "code",
   "execution_count": 4,
   "id": "74465d79",
   "metadata": {},
   "outputs": [
    {
     "name": "stdout",
     "output_type": "stream",
     "text": [
      "Initialized the client and connected to the cluster.\n"
     ]
    }
   ],
   "source": [
    "AerospikeClient client = new AerospikeClient(\"127.0.0.1\", 3000);\n",
    "System.out.println(\"Initialized the client and connected to the cluster.\");"
   ]
  },
  {
   "cell_type": "markdown",
   "id": "4a9ceb9c",
   "metadata": {},
   "source": [
    "### Geo2DSphere Sindex Test\n",
    "#### Truncate previous records and generate geoJSON test records"
   ]
  },
  {
   "cell_type": "code",
   "execution_count": 5,
   "id": "926b40e5",
   "metadata": {},
   "outputs": [],
   "source": [
    "%sh asadm --enable -e \"manage truncate ns test --no-warn\" -h \"127.0.0.1\""
   ]
  },
  {
   "cell_type": "markdown",
   "id": "46032ae9",
   "metadata": {},
   "source": [
    "#### GeoJSON Point, Polgon String generator - Helper functions"
   ]
  },
  {
   "cell_type": "code",
   "execution_count": 6,
   "id": "e5f1d796",
   "metadata": {},
   "outputs": [
    {
     "name": "stdout",
     "output_type": "stream",
     "text": [
      "{\"type\": \"Point\", \"coordinates\": [0.000000, 0.000000]}\n",
      "{\"type\": \"Polygon\", \"coordinates\": [[[-2.000000, -1.000000], [2.000000, -1.000000],[2.000000, 1.000000],[-2.000000, 1.000000],[-2.000000, -1.000000]]]}\n",
      "{\"type\": \"AeroCircle\", \"coordinates\": [[0.00000000, 0.00000000], 1] }\n"
     ]
    }
   ],
   "source": [
    "//Generate Point Format GeoJSON string\n",
    "\n",
    "//Point: order of data is longitude, latitude \n",
    "\n",
    "String generatePoint(double longitude, double latitude){\n",
    "  return String.format(\"{\\\"type\\\": \\\"Point\\\", \\\"coordinates\\\": [%f, %f]}\", longitude, latitude);\n",
    "}\n",
    "\n",
    "//Four corner polygon.  Specify in counterclockwise order\n",
    "String generatePolygon(double ax, double ay, double bx, double by, double cx, double cy, double dx, double dy){\n",
    "  return String.format(\n",
    "  \"{\\\"type\\\": \\\"Polygon\\\", \\\"coordinates\\\": [[[%f, %f], [%f, %f],[%f, %f],[%f, %f],[%f, %f]]]}\", \n",
    "  ax, ay,\n",
    "  bx, by,\n",
    "  cx, cy,\n",
    "  dx, dy,\n",
    "  ax, ay\n",
    "  );\n",
    "}\n",
    "\n",
    "String generateRectangle( double ax, double ay, double length, double height)\n",
    "{\n",
    "   length = length/2;\n",
    "   height = height/2;\n",
    "   return generatePolygon(ax-length, ay-height, ax+length, ay-height, ax+length, ay+height, ax-length,ay+height);\n",
    "}\n",
    "String generateAeroCircle(double x, double y, int r){\n",
    "  return String.format(\n",
    "  \"{\\\"type\\\": \\\"AeroCircle\\\", \\\"coordinates\\\": [[%.8f, %.8f], %d] }\", x, y, r);\n",
    "}\n",
    "\n",
    "System.out.println(generatePoint(0.0,0.0));\n",
    "System.out.println(generateRectangle(0.0,0.0,4.0, 2.0));\n",
    "System.out.println(generateAeroCircle(0.0,0.0,1));\n"
   ]
  },
  {
   "cell_type": "markdown",
   "id": "acbcf481",
   "metadata": {},
   "source": [
    "## Import Modules\n",
    "Let us start by importing all the modules we will need for the SI examples."
   ]
  },
  {
   "cell_type": "code",
   "execution_count": 7,
   "id": "07ae9125-b700-4492-a7be-4c1c263e6bca",
   "metadata": {},
   "outputs": [],
   "source": [
    "import com.aerospike.client.query.Statement;\n",
    "import com.aerospike.client.query.Filter;\n",
    "import com.aerospike.client.query.RecordSet;\n",
    "import com.aerospike.client.query.IndexType;\n",
    "import com.aerospike.client.query.IndexCollectionType;\n",
    "import com.aerospike.client.task.IndexTask;\n",
    "import com.aerospike.client.AerospikeException;\n",
    "import com.aerospike.client.ResultCode;\n",
    "import com.aerospike.client.cdt.CTX;"
   ]
  },
  {
   "cell_type": "code",
   "execution_count": 8,
   "id": "a0f48a13-87ff-44d3-a96e-c5df7216f1bb",
   "metadata": {},
   "outputs": [],
   "source": [
    "final String Namespace = \"test\";\n",
    "final String Set = \"cdt-indexing\";\n",
    "\n",
    "// convenience function to create an index - essentially a pass-through to the client API\n",
    "void createIndex(String idxName, String binName, IndexType idxType, IndexCollectionType colType, CTX... ctx) {\n",
    "    try {\n",
    "            IndexTask task = client.createIndex(null,\n",
    "                                       Namespace,\n",
    "                                       Set,\n",
    "                                       idxName,\n",
    "                                       binName,\n",
    "                                       idxType,\n",
    "                                       colType,\n",
    "                                       ctx);\n",
    "            task.waitTillComplete(1000, 0);\n",
    "        }\n",
    "        catch (AerospikeException ae) {\n",
    "            if (ae.getResultCode() != ResultCode.INDEX_ALREADY_EXISTS) {\n",
    "                throw ae;\n",
    "            }\n",
    "        } \n",
    "        System.out.format(\"Created index %s on ns=%s set=%s bin=%s.\\n\", \n",
    "                                    idxName, Namespace, Set, binName);\n",
    "}\n",
    "\n",
    "// convenience function to drop an index - essentially a pass-through to the client API\n",
    "void dropIndex(String idxName) {\n",
    "    try {\n",
    "        IndexTask task = client.dropIndex(null, Namespace, Set, idxName);\n",
    "    }\n",
    "    catch (AerospikeException ae) {\n",
    "        if (ae.getResultCode() != ResultCode.INDEX_NOTFOUND) {\n",
    "            throw ae;\n",
    "        }\n",
    "    } \n",
    "    System.out.format(\"Dropped index %s.\\n\", idxName);\n",
    "}\n"
   ]
  },
  {
   "cell_type": "code",
   "execution_count": 9,
   "id": "b0e4d67a",
   "metadata": {},
   "outputs": [],
   "source": [
    "//Insert a record using a class based construct\n",
    "final String geoLocationBinName = \"location\";\n",
    "final String geoRegionBinName = \"region\";\n",
    "class geoUser {\n",
    "  public void createLocationRecord(String ns, String setName, String user, double x, double y, boolean bCheck) {\n",
    "    Key userKey = new Key(ns, setName, user); \n",
    "    String sLocPoint = generatePoint(x, y);\n",
    "    Bin bLoc = new Bin(geoLocationBinName, Value.getAsGeoJSON(sLocPoint));    \n",
    "    WritePolicy wPolicyGeo = new WritePolicy();\n",
    "    wPolicyGeo.sendKey = true;\n",
    "    client.put(wPolicyGeo, userKey, bLoc);\n",
    "    if(bCheck){\n",
    "      System.out.println(client.get(null, userKey));\n",
    "    }   \n",
    "  }\n",
    "  \n",
    "    public void createRegionRecord(String ns, String setName, String user, \n",
    "                                   double x, double y, double l, double h,boolean bCheck) {\n",
    "    Key userKey = new Key(ns, setName, user); \n",
    "    String sRegion = generateRectangle(x, y, l, h);\n",
    "    Bin bReg = new Bin(geoRegionBinName, Value.getAsGeoJSON(sRegion));    \n",
    "    WritePolicy wPolicyGeo = new WritePolicy();\n",
    "    wPolicyGeo.sendKey = true;\n",
    "    client.put(wPolicyGeo, userKey, bReg);\n",
    "    if(bCheck){\n",
    "      System.out.println(client.get(null, userKey));\n",
    "    }   \n",
    "  }\n",
    "}\n",
    "\n",
    "void executeGeoQueryAndPrintResults(Filter filter, String binName) {\n",
    "    Statement stmt = new Statement();\n",
    "    stmt.setNamespace(Namespace);\n",
    "    stmt.setSetName(Set);\n",
    "    stmt.setFilter(filter);\n",
    "    stmt.setBinNames(binName);\n",
    "    RecordSet rs = client.query(null, stmt);\n",
    "    while (rs.next()) {\n",
    "        Key key = rs.getKey();\n",
    "        Record record = rs.getRecord();\n",
    "        System.out.format(\"key=%s bins=%s\\n\", key.userKey, record.bins);\n",
    "    }\n",
    "    //System.out.println();\n",
    "    rs.close();\n",
    "}"
   ]
  },
  {
   "cell_type": "code",
   "execution_count": 10,
   "id": "940e58fe",
   "metadata": {},
   "outputs": [
    {
     "name": "stdout",
     "output_type": "stream",
     "text": [
      "Created index idx_geoLoc on ns=test set=cdt-indexing bin=location.\n"
     ]
    }
   ],
   "source": [
    "createIndex(\"idx_geoLoc\", \"location\", IndexType.GEO2DSPHERE, IndexCollectionType.DEFAULT);"
   ]
  },
  {
   "cell_type": "code",
   "execution_count": 11,
   "id": "3e71760c",
   "metadata": {},
   "outputs": [
    {
     "name": "stdout",
     "output_type": "stream",
     "text": [
      "Created index idx_geoReg on ns=test set=cdt-indexing bin=region.\n"
     ]
    }
   ],
   "source": [
    "createIndex(\"idx_geoReg\", \"region\", IndexType.GEO2DSPHERE, IndexCollectionType.DEFAULT);"
   ]
  },
  {
   "cell_type": "code",
   "execution_count": 12,
   "id": "5a6020c9",
   "metadata": {},
   "outputs": [
    {
     "name": "stdout",
     "output_type": "stream",
     "text": [
      "(gen:2),(exp:475977332),(bins:(location:{\"type\": \"Point\", \"coordinates\": [0.000000, 1.000000]}),(region:{\"type\": \"Polygon\", \"coordinates\": [[[-0.125000, 0.875000], [0.125000, 0.875000],[0.125000, 1.125000],[-0.125000, 1.125000],[-0.125000, 0.875000]]]}))\n",
      "(gen:2),(exp:475977332),(bins:(location:{\"type\": \"Point\", \"coordinates\": [1.000000, 1.000000]}),(region:{\"type\": \"Polygon\", \"coordinates\": [[[0.875000, 0.875000], [1.125000, 0.875000],[1.125000, 1.125000],[0.875000, 1.125000],[0.875000, 0.875000]]]}))\n",
      "(gen:2),(exp:475977332),(bins:(location:{\"type\": \"Point\", \"coordinates\": [-1.000000, 1.000000]}),(region:{\"type\": \"Polygon\", \"coordinates\": [[[-1.125000, 0.875000], [-0.875000, 0.875000],[-0.875000, 1.125000],[-1.125000, 1.125000],[-1.125000, 0.875000]]]}))\n",
      "(gen:2),(exp:475977332),(bins:(location:{\"type\": \"Point\", \"coordinates\": [-1.000000, -1.000000]}),(region:{\"type\": \"Polygon\", \"coordinates\": [[[-1.125000, -1.125000], [-0.875000, -1.125000],[-0.875000, -0.875000],[-1.125000, -0.875000],[-1.125000, -1.125000]]]}))\n",
      "(gen:2),(exp:475977333),(bins:(location:{\"type\": \"Point\", \"coordinates\": [0.000000, -1.000000]}),(region:{\"type\": \"Polygon\", \"coordinates\": [[[-0.125000, -1.125000], [0.125000, -1.125000],[0.125000, -0.875000],[-0.125000, -0.875000],[-0.125000, -1.125000]]]}))\n",
      "(gen:2),(exp:475977333),(bins:(location:{\"type\": \"Point\", \"coordinates\": [1.000000, -1.000000]}),(region:{\"type\": \"Polygon\", \"coordinates\": [[[0.875000, -1.125000], [1.125000, -1.125000],[1.125000, -0.875000],[0.875000, -0.875000],[0.875000, -1.125000]]]}))\n",
      "(gen:2),(exp:475977333),(bins:(location:{\"type\": \"Point\", \"coordinates\": [1.000000, 4.000000]}),(region:{\"type\": \"Polygon\", \"coordinates\": [[[0.875000, 3.875000], [1.125000, 3.875000],[1.125000, 4.125000],[0.875000, 4.125000],[0.875000, 3.875000]]]}))\n",
      "(gen:2),(exp:475977333),(bins:(location:{\"type\": \"Point\", \"coordinates\": [-1.000000, 4.000000]}),(region:{\"type\": \"Polygon\", \"coordinates\": [[[-1.125000, 3.875000], [-0.875000, 3.875000],[-0.875000, 4.125000],[-1.125000, 4.125000],[-1.125000, 3.875000]]]}))\n",
      "(gen:2),(exp:475977333),(bins:(location:{\"type\": \"Point\", \"coordinates\": [0.000000, 4.000000]}),(region:{\"type\": \"Polygon\", \"coordinates\": [[[-0.125000, 3.875000], [0.125000, 3.875000],[0.125000, 4.125000],[-0.125000, 4.125000],[-0.125000, 3.875000]]]}))\n",
      "(gen:2),(exp:475977333),(bins:(location:{\"type\": \"Point\", \"coordinates\": [0.000000, -4.000000]}),(region:{\"type\": \"Polygon\", \"coordinates\": [[[-0.125000, -4.125000], [0.125000, -4.125000],[0.125000, -3.875000],[-0.125000, -3.875000],[-0.125000, -4.125000]]]}))\n"
     ]
    }
   ],
   "source": [
    "geoUser ul = new geoUser();\n",
    "ul.createLocationRecord(Namespace, Set, \"user1\", 0.0, 1.0, false);\n",
    "ul.createLocationRecord(Namespace, Set, \"user2\", 1.0, 1.0, false);\n",
    "ul.createLocationRecord(Namespace, Set, \"user3\", -1.0, 1.0, false);\n",
    "ul.createLocationRecord(Namespace, Set, \"user4\", -1.0, -1.0, false);\n",
    "ul.createLocationRecord(Namespace, Set, \"user5\", 0.0, -1.0, false);\n",
    "ul.createLocationRecord(Namespace, Set, \"user6\", 1.0, -1.0, false);\n",
    "ul.createLocationRecord(Namespace, Set, \"user7\", 1.0, 4.0, false);\n",
    "ul.createLocationRecord(Namespace, Set, \"user8\", -1.0, 4.0, false);\n",
    "ul.createLocationRecord(Namespace, Set, \"user9\", 0.0, 4.0, false);\n",
    "ul.createLocationRecord(Namespace, Set, \"user0\", 0.0, -4.0, false);\n",
    "\n",
    "//Add region bin also\n",
    "ul.createRegionRecord(Namespace, Set, \"user1\", 0.0, 1.0, 0.25, 0.25, true);\n",
    "ul.createRegionRecord(Namespace, Set, \"user2\", 1.0, 1.0, 0.25, 0.25, true);\n",
    "ul.createRegionRecord(Namespace, Set, \"user3\", -1.0, 1.0, 0.25, 0.25, true);\n",
    "ul.createRegionRecord(Namespace, Set, \"user4\", -1.0, -1.0, 0.25, 0.25, true);\n",
    "ul.createRegionRecord(Namespace, Set, \"user5\", 0.0, -1.0, 0.25, 0.25, true);\n",
    "ul.createRegionRecord(Namespace, Set, \"user6\", 1.0, -1.0, 0.25, 0.25, true);\n",
    "ul.createRegionRecord(Namespace, Set, \"user7\", 1.0, 4.0, 0.25, 0.25, true);\n",
    "ul.createRegionRecord(Namespace, Set, \"user8\", -1.0, 4.0, 0.25, 0.25, true);\n",
    "ul.createRegionRecord(Namespace, Set, \"user9\", 0.0, 4.0, 0.25, 0.25, true);\n",
    "ul.createRegionRecord(Namespace, Set, \"user0\", 0.0, -4.0, 0.25, 0.25, true);"
   ]
  },
  {
   "cell_type": "markdown",
   "id": "6d495766",
   "metadata": {},
   "source": [
    "#### GeoJSON SI Query. Find all Records with Point Bin where the Point lies within a geoJSON Rectangle\n"
   ]
  },
  {
   "cell_type": "code",
   "execution_count": 13,
   "id": "3c272293",
   "metadata": {},
   "outputs": [
    {
     "name": "stdout",
     "output_type": "stream",
     "text": [
      "{\"type\": \"Polygon\", \"coordinates\": [[[-0.750000, -1.250000], [0.750000, -1.250000],[0.750000, 1.250000],[-0.750000, 1.250000],[-0.750000, -1.250000]]]}\n",
      "key=user1 bins={location={\"type\": \"Point\", \"coordinates\": [0.000000, 1.000000]}}\n",
      "key=user5 bins={location={\"type\": \"Point\", \"coordinates\": [0.000000, -1.000000]}}\n"
     ]
    }
   ],
   "source": [
    "String geoRect = generateRectangle(0.0,0.0,1.5,2.5);\n",
    "System.out.println(geoRect);\n",
    "Filter filter = Filter.geoContains(geoLocationBinName, geoRect);\n",
    "executeGeoQueryAndPrintResults(filter, geoLocationBinName);"
   ]
  },
  {
   "cell_type": "code",
   "execution_count": 14,
   "id": "270a21ba",
   "metadata": {},
   "outputs": [
    {
     "name": "stdout",
     "output_type": "stream",
     "text": [
      "{\"type\": \"Point\", \"coordinates\": [1.000000, -1.000000]}\n",
      "key=user6 bins={region={\"type\": \"Polygon\", \"coordinates\": [[[0.875000, -1.125000], [1.125000, -1.125000],[1.125000, -0.875000],[0.875000, -0.875000],[0.875000, -1.125000]]]}}\n"
     ]
    }
   ],
   "source": [
    "String geoPoint = generatePoint(1.0, -1.0);\n",
    "System.out.println(geoPoint);\n",
    "Filter filter = Filter.geoContains(geoRegionBinName, geoPoint);\n",
    "executeGeoQueryAndPrintResults(filter, geoRegionBinName);"
   ]
  },
  {
   "cell_type": "markdown",
   "id": "743cc798",
   "metadata": {},
   "source": [
    "#### GeoJSON SI Query. Find all Records with Point Bin where the Point lies within a geoJSON AeroCircle\n",
    "**Note**\n",
    "1 deg latitude is 69 miles or 110,400 meters. So choose radius in meters accordingly. All coordinates are in longitude and latitude degree units in GeoJSON."
   ]
  },
  {
   "cell_type": "code",
   "execution_count": 15,
   "id": "f4531969",
   "metadata": {},
   "outputs": [
    {
     "name": "stdout",
     "output_type": "stream",
     "text": [
      "{\"type\": \"AeroCircle\", \"coordinates\": [[1.00000000, 1.00000000], 125000] }\n",
      "key=user2 bins={location={\"type\": \"Point\", \"coordinates\": [1.000000, 1.000000]}}\n",
      "key=user1 bins={location={\"type\": \"Point\", \"coordinates\": [0.000000, 1.000000]}}\n"
     ]
    }
   ],
   "source": [
    "String geoCircle = generateAeroCircle(1.0,1.0,125000);\n",
    "System.out.println(geoCircle);\n",
    "//Filter filter = Filter.geoWithinRadius(geoLocationBinName, 0.0,0.0,125000);\n",
    "//Filter filter = Filter.geoWithinRegion(geoLocationBinName, IndexCollectionType.DEFAULT, geoCircle);\n",
    "//Filter filter = Filter.geoWithinRegion(geoLocationBinName, geoCircle);\n",
    "Filter filter = Filter.geoContains(geoLocationBinName, geoCircle);\n",
    "executeGeoQueryAndPrintResults(filter, geoLocationBinName);"
   ]
  },
  {
   "cell_type": "code",
   "execution_count": 16,
   "id": "e60bf589",
   "metadata": {},
   "outputs": [
    {
     "name": "stdout",
     "output_type": "stream",
     "text": [
      "key=user1 bins={location={\"type\": \"Point\", \"coordinates\": [0.000000, 1.000000]}, region={\"type\": \"Polygon\", \"coordinates\": [[[-0.125000, 0.875000], [0.125000, 0.875000],[0.125000, 1.125000],[-0.125000, 1.125000],[-0.125000, 0.875000]]]}}\n"
     ]
    }
   ],
   "source": [
    "\n",
    "Statement stmt = new Statement();\n",
    "stmt.setNamespace(\"test\");\n",
    "stmt.setSetName(\"cdt-indexing\");\n",
    "String location=\"{ \\\"type\\\": \\\"Point\\\", \\\"coordinates\\\": [0.0, 1.0] }\";\n",
    "Filter filter = Filter.geoContains(\"region\", location);\n",
    "stmt.setFilter(filter);\n",
    "//stmt.setBinNames(\"location\");\n",
    "\n",
    "RecordSet rs = client.query(null, stmt);\n",
    "while (rs.next()) {\n",
    "    Key key = rs.getKey();\n",
    "    Record record = rs.getRecord();\n",
    "    System.out.format(\"key=%s bins=%s\\n\", key.userKey, record.bins);\n",
    "}\n",
    "//System.out.println();\n",
    "rs.close();"
   ]
  },
  {
   "cell_type": "markdown",
   "id": "abe2c0ca",
   "metadata": {},
   "source": [
    "## Clean up"
   ]
  },
  {
   "cell_type": "code",
   "execution_count": 17,
   "id": "fc1f2f23-78b2-48fc-887a-e553e8216442",
   "metadata": {},
   "outputs": [
    {
     "name": "stdout",
     "output_type": "stream",
     "text": [
      "Dropped index idx_geoLoc.\n",
      "Dropped index idx_geoReg.\n"
     ]
    }
   ],
   "source": [
    "dropIndex(\"idx_geoLoc\");\n",
    "dropIndex(\"idx_geoReg\");"
   ]
  },
  {
   "cell_type": "code",
   "execution_count": 18,
   "id": "4f89919d",
   "metadata": {},
   "outputs": [],
   "source": [
    "%sh asadm --enable -e \"manage truncate ns test --no-warn\" -h \"127.0.0.1\""
   ]
  },
  {
   "cell_type": "code",
   "execution_count": null,
   "id": "72b05967-455c-4a8b-a547-3d108ad8476d",
   "metadata": {},
   "outputs": [],
   "source": []
  }
 ],
 "metadata": {
  "kernelspec": {
   "display_name": "Java",
   "language": "java",
   "name": "java"
  },
  "language_info": {
   "codemirror_mode": "java",
   "file_extension": ".jshell",
   "mimetype": "text/x-java-source",
   "name": "Java",
   "pygments_lexer": "java",
   "version": "17.0.10+8-LTS"
  }
 },
 "nbformat": 4,
 "nbformat_minor": 5
}
