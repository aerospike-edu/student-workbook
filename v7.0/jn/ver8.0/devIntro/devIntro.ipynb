{
 "cells": [
  {
   "cell_type": "markdown",
   "id": "580fcc6f-1bbc-44a1-88bf-40ec141d8832",
   "metadata": {},
   "source": [
    "<img src=\"./pngs/Slide1.png\"\n",
    "     alt=\"Slide1\"\n",
    "     style=\"float: left; margin-right: 10px;\"\n",
    "     width=\"1024\"\n",
    "     height=\"576\"/>"
   ]
  },
  {
   "cell_type": "markdown",
   "id": "17103708-5792-4a7c-8cc1-8344e1037aed",
   "metadata": {},
   "source": [
    "## About Jupyter Notebook and Interactive Java (iJava) \n",
    "\n",
    "### Pre-Set for this module: 1 node Aerospike Server (ver 8.0.0-RC3 15Jan2025)\n",
    "\n",
    "- We have a namespace **_test_** pre-defined on the server. \n",
    "\n",
    "- During code development, if you want to clear the iJava Kernel of all Java objects and run all cells from scratch, Kernel->Restart & Run All or Run each cell one by one to the desired point. The _asadm_ command, excecuted few cells below, will ensure any records written on the underlying Aerospike cluster are purged.\n",
    "\n",
    "- First, we need required imports for using %sh in interactive Java Kernel. (This is specific to the iJava Kernel implementation by **Spencer Park** that we are using.)\n"
   ]
  },
  {
   "cell_type": "markdown",
   "id": "9037147c",
   "metadata": {},
   "source": [
    "# Import to run %sh magic cell"
   ]
  },
  {
   "cell_type": "code",
   "execution_count": 1,
   "id": "b74ed7d1",
   "metadata": {},
   "outputs": [],
   "source": [
    "import io.github.spencerpark.ijava.IJava;\n",
    "import io.github.spencerpark.jupyter.kernel.magic.common.Shell;\n",
    "IJava.getKernelInstance().getMagics().registerMagics(Shell.class);"
   ]
  },
  {
   "cell_type": "markdown",
   "id": "7ac5ea07-251f-4146-b894-553bdd09ccd8",
   "metadata": {},
   "source": [
    "## Wipe out any prior records on the Aerospike Server using _asadm_\n",
    "### Running _asadm_ in iJava\n",
    "\n",
    "We can run _asadm_ commands inline. Below, we will use the truncation command, which normally requires an interactive confirmation, which we will skip by using the _--no-warn_ flag. \n",
    "\n",
    "**No output will be displayed.**  _(Jupyter Notebook - shell interface quirk.)_\n"
   ]
  },
  {
   "cell_type": "code",
   "execution_count": 2,
   "id": "582414cf-1972-4021-8834-c71c381ea0c8",
   "metadata": {},
   "outputs": [],
   "source": [
    "%sh asadm --enable -e \"manage truncate ns test --no-warn\" -h \"127.0.0.1\""
   ]
  },
  {
   "cell_type": "markdown",
   "id": "31b0ddb3",
   "metadata": {},
   "source": [
    "# Add Java Client POM Dependency\n",
    "## Latest is ver 9.0.3 (16Jan2025)"
   ]
  },
  {
   "cell_type": "code",
   "execution_count": 3,
   "id": "b6447add",
   "metadata": {},
   "outputs": [],
   "source": [
    "%%loadFromPOM\n",
    "<dependencies>\n",
    "  <dependency>\n",
    "    <groupId>com.aerospike</groupId>\n",
    "    <artifactId>aerospike-client-jdk8</artifactId>\n",
    "    <version>9.0.3</version>\n",
    "  </dependency>\n",
    "</dependencies>"
   ]
  },
  {
   "cell_type": "markdown",
   "id": "0cde7b03-c258-4796-966f-8199766d1e97",
   "metadata": {},
   "source": [
    "## Jupyter Notebook and Interactive Java (iJava) \n",
    "\n",
    "### Code is cumulative, cell after cell\n",
    "\n",
    "- Objects and imports declared in a previous cell carry to next cell. \n",
    "\n",
    "- Code can be executed sequentially, cell by cell, by selecting the cell and clicking on the run button in the menu.\n",
    "  \n",
    "- Same cell can be edited and then re-executed.  Very handy for code development.\n"
   ]
  },
  {
   "cell_type": "markdown",
   "id": "30de57a0-312e-4e17-8544-5cabb3d979da",
   "metadata": {},
   "source": [
    "# Lets Get Started!\n",
    "\n",
    "<img src=\"./pngs/Slide2.png\"\n",
    "     alt=\"Slide2\"\n",
    "     style=\"float: left; margin-right: 10px;\"\n",
    "     width=\"1024\"\n",
    "     height=\"576\"/>"
   ]
  },
  {
   "cell_type": "markdown",
   "id": "ac595e17-53e5-490d-86a2-914c18041530",
   "metadata": {},
   "source": [
    "<img src=\"./pngs/Slide3.png\"\n",
    "     alt=\"Slide3\"\n",
    "     style=\"float: left; margin-right: 10px;\"\n",
    "     width=\"1024\"\n",
    "     height=\"576\"/>"
   ]
  },
  {
   "cell_type": "markdown",
   "id": "8976c7b2-0244-4eb1-b724-a3c12bef48a1",
   "metadata": {},
   "source": [
    "<img src=\"./pngs/Slide4.png\"\n",
    "     alt=\"Slide4\"\n",
    "     style=\"float: left; margin-right: 10px;\"\n",
    "     width=\"1024\"\n",
    "     height=\"768\"/>"
   ]
  },
  {
   "cell_type": "markdown",
   "id": "5d8fef60-ba61-4bec-abf1-f92782d14fe3",
   "metadata": {},
   "source": [
    "<img src=\"./pngs/Slide5.png\"\n",
    "     alt=\"Slide5\"\n",
    "     style=\"float: left; margin-right: 10px;\"\n",
    "     width=\"1024\"\n",
    "     height=\"768\"/>"
   ]
  },
  {
   "cell_type": "markdown",
   "id": "3b2208a8-8bb4-4f4c-a9c1-27d3b5a8d417",
   "metadata": {},
   "source": [
    "<img src=\"./pngs/Slide6.png\"\n",
    "     alt=\"Slide6\"\n",
    "     style=\"float: left; margin-right: 10px;\"\n",
    "     width=\"1024\"\n",
    "     height=\"768\"/>"
   ]
  },
  {
   "cell_type": "markdown",
   "id": "57dd1cb0-a453-4796-a818-19c4684cc0ca",
   "metadata": {},
   "source": [
    "<img src=\"./pngs/Slide7.png\"\n",
    "     alt=\"Slide7\"\n",
    "     style=\"float: left; margin-right: 10px;\"\n",
    "     width=\"1024\"\n",
    "     height=\"768\"/>"
   ]
  },
  {
   "cell_type": "markdown",
   "id": "83cebb5f",
   "metadata": {},
   "source": [
    "## Let's instantiate the AerospikeClient object and connect to our single node cluster\n",
    "### Required import"
   ]
  },
  {
   "cell_type": "code",
   "execution_count": 4,
   "id": "946d225a",
   "metadata": {},
   "outputs": [
    {
     "name": "stdout",
     "output_type": "stream",
     "text": [
      "AerospikeClient module imported.\n"
     ]
    }
   ],
   "source": [
    "import com.aerospike.client.AerospikeClient;\n",
    "System.out.println(\"AerospikeClient module imported.\");"
   ]
  },
  {
   "cell_type": "code",
   "execution_count": 5,
   "id": "8f638056-9620-45cf-9514-ec2cde32f6ff",
   "metadata": {},
   "outputs": [
    {
     "name": "stdout",
     "output_type": "stream",
     "text": [
      "Initialized the client and connected to the cluster.\n"
     ]
    }
   ],
   "source": [
    "AerospikeClient client = new AerospikeClient(\"localhost\", 3000);\n",
    "System.out.println(\"Initialized the client and connected to the cluster.\");"
   ]
  },
  {
   "cell_type": "markdown",
   "id": "082826cf-e12b-4510-bdb6-723ec962efa4",
   "metadata": {},
   "source": [
    "### AerospikeClient object: _client_ instantiated\n",
    "#### We are ready to work with Records in Aerospike"
   ]
  },
  {
   "cell_type": "markdown",
   "id": "0362ad57",
   "metadata": {},
   "source": [
    "<img src=\"./pngs/Slide8.png\"\n",
    "     alt=\"Slide8\"\n",
    "     style=\"float: left; margin-right: 10px;\"\n",
    "     width=\"1024\"\n",
    "     height=\"576\"/>"
   ]
  },
  {
   "cell_type": "markdown",
   "id": "01a7243e-d78a-4497-ae13-e4d9f78e78d1",
   "metadata": {},
   "source": [
    "<img src=\"./pngs/Slide9.png\"\n",
    "     alt=\"Slide9\"\n",
    "     style=\"float: left; margin-right: 10px;\"\n",
    "     width=\"1024\"\n",
    "     height=\"768\"/>"
   ]
  },
  {
   "cell_type": "markdown",
   "id": "a1af1688-6966-4a77-bb44-cc40176b36b5",
   "metadata": {},
   "source": [
    "<img src=\"./pngs/Slide10.png\"\n",
    "     alt=\"Slide10\"\n",
    "     style=\"float: left; margin-right: 10px;\"\n",
    "     width=\"1024\"\n",
    "     height=\"768\"/>"
   ]
  },
  {
   "cell_type": "markdown",
   "id": "68e2a79e-5c69-44f8-bbec-abce3ce45da5",
   "metadata": {},
   "source": [
    "<img src=\"./pngs/Slide11.png\"\n",
    "     alt=\"Slide11\"\n",
    "     style=\"float: left; margin-right: 10px;\"\n",
    "     width=\"1024\"\n",
    "     height=\"768\"/>"
   ]
  },
  {
   "cell_type": "markdown",
   "id": "9084e1c4-8b68-40ef-8d35-7313ee7f5b07",
   "metadata": {},
   "source": [
    "<img src=\"./pngs/Slide12.png\"\n",
    "     alt=\"Slide12\"\n",
    "     style=\"float: left; margin-right: 10px;\"\n",
    "     width=\"1024\"\n",
    "     height=\"768\"/>"
   ]
  },
  {
   "cell_type": "markdown",
   "id": "7362f850-e62a-41b8-8dc8-fda77bb2ee03",
   "metadata": {},
   "source": [
    "## Using the AerospikeClient object, create a record\n",
    "### Required imports"
   ]
  },
  {
   "cell_type": "code",
   "execution_count": 6,
   "id": "bfd34942-8800-4234-a387-515c555af789",
   "metadata": {},
   "outputs": [],
   "source": [
    "import com.aerospike.client.Key;\n",
    "import com.aerospike.client.Bin;\n",
    "import com.aerospike.client.Value;\n",
    "import com.aerospike.client.policy.WritePolicy;"
   ]
  },
  {
   "cell_type": "code",
   "execution_count": 7,
   "id": "056a887a",
   "metadata": {},
   "outputs": [
    {
     "name": "stdout",
     "output_type": "stream",
     "text": [
      "Working with record key:\n",
      "test:testset:key1:bf6c1d13e7cd10c5bd022d27e7df170c0bccd6e1\n"
     ]
    }
   ],
   "source": [
    "Key key = new Key(\"test\", \"testset\", \"key1\");\n",
    "System.out.println(\"Working with record key:\");\n",
    "System.out.println(key);\n",
    "\n",
    "WritePolicy wPolicy = new WritePolicy();\n",
    "\n",
    "Bin bName = new Bin(\"name\", \"Jack\");\n",
    "Bin bAge = new Bin(\"age\", 30);\n",
    "Bin bGender = new Bin(\"gender\", \"m\");\n",
    "\n",
    "client.put(wPolicy, key, bName, bAge, bGender);\n"
   ]
  },
  {
   "cell_type": "markdown",
   "id": "cfef17a9-2504-402b-9090-16c65cbd76d8",
   "metadata": {},
   "source": [
    "<img src=\"./pngs/Slide13.png\"\n",
    "     alt=\"Slide13\"\n",
    "     style=\"float: left; margin-right: 10px;\"\n",
    "     width=\"1024\"\n",
    "     height=\"768\"/>"
   ]
  },
  {
   "cell_type": "markdown",
   "id": "2eeb8e86-12a0-4144-869d-96f80759c47b",
   "metadata": {},
   "source": [
    "## Using the AerospikeClient object, read a record\n",
    "### Required additional import\n",
    "### **Note:** Read command uses the base class Policy object as the _read policy_ object."
   ]
  },
  {
   "cell_type": "code",
   "execution_count": 8,
   "id": "7f9ffb2d-cac8-41fb-a566-3e3307c0a11e",
   "metadata": {},
   "outputs": [],
   "source": [
    "import com.aerospike.client.Record;\n",
    "import com.aerospike.client.policy.Policy;"
   ]
  },
  {
   "cell_type": "code",
   "execution_count": 9,
   "id": "ab089941-89e1-4066-90df-bd90365f0af6",
   "metadata": {},
   "outputs": [
    {
     "name": "stdout",
     "output_type": "stream",
     "text": [
      "Read back the record.\n",
      "Record values are:\n",
      "(gen:1),(exp:475743525),(bins:(name:Jack),(age:30),(gender:m))\n"
     ]
    }
   ],
   "source": [
    "Policy rPolicy = new Policy();\n",
    "Record record = client.get(rPolicy, key);\n",
    "System.out.println(\"Read back the record.\");\n",
    "\n",
    "System.out.println(\"Record values are:\");\n",
    "System.out.println(record);"
   ]
  },
  {
   "cell_type": "markdown",
   "id": "e625e284-0ddb-43cc-bea0-0091153e04f5",
   "metadata": {},
   "source": [
    "#### **Note:** We will cover _gen_ (record's generation) and _exp_ (record's Time-To-Live) shortly!"
   ]
  },
  {
   "cell_type": "markdown",
   "id": "86448306-db4b-48c9-97e0-79fc9bbeaad4",
   "metadata": {},
   "source": [
    "### Can I just read the _name_ bin instead of all the bins of the record?"
   ]
  },
  {
   "cell_type": "code",
   "execution_count": 10,
   "id": "104cedd8-2f3d-46fb-8e84-f1eb8d217f7b",
   "metadata": {},
   "outputs": [
    {
     "name": "stdout",
     "output_type": "stream",
     "text": [
      "Read back the record.\n",
      "Record' name bin's value: Jack\n",
      "(gen:1),(exp:475743525),(bins:(name:Jack))\n"
     ]
    }
   ],
   "source": [
    "Record record = client.get(wPolicy, key, \"name\");\n",
    "System.out.println(\"Read back the record.\");\n",
    "\n",
    "System.out.println(\"Record' name bin's value: \" + record.getValue(\"name\"));\n",
    "System.out.println(record);"
   ]
  },
  {
   "cell_type": "markdown",
   "id": "26465671-ecf1-4c5f-a0ac-c8083ea6c251",
   "metadata": {},
   "source": [
    "#### &uarr; Go back to the previous cell and read just the _age_ bin.  Or read _age_ and try to print _name_ - What do you get? \n",
    "### What if I just want those record metadata items? &rarr; _gen_ and _exp_ "
   ]
  },
  {
   "cell_type": "code",
   "execution_count": 11,
   "id": "8cd41370-cc2c-4ff3-a22d-31b87a65426d",
   "metadata": {},
   "outputs": [
    {
     "name": "stdout",
     "output_type": "stream",
     "text": [
      "Read back just the record metadata or header.\n",
      "Record Metadata: gen: 1 , exp: 475743525\n",
      "Note: bins returned are null: (gen:1),(exp:475743525),(bins:null)\n"
     ]
    }
   ],
   "source": [
    "Record record = client.getHeader(wPolicy, key);\n",
    "System.out.println(\"Read back just the record metadata or header.\");\n",
    "\n",
    "System.out.println(\"Record Metadata: gen: \" + record.generation + \" , exp: \"+ record.expiration);\n",
    "System.out.println(\"Note: bins returned are null: \"+ record);"
   ]
  },
  {
   "cell_type": "markdown",
   "id": "e0448ff0-dd24-4cc1-abac-34c7c8ab05e3",
   "metadata": {},
   "source": [
    "### &rarr; Just read what you need and save on the network bandwidth."
   ]
  },
  {
   "cell_type": "markdown",
   "id": "00ed1924-6139-414e-b54c-e8058eec5e98",
   "metadata": {},
   "source": [
    "<img src=\"./pngs/Slide14.png\"\n",
    "     alt=\"Slide14\"\n",
    "     style=\"float: left; margin-right: 10px;\"\n",
    "     width=\"1024\"\n",
    "     height=\"768\"/>"
   ]
  },
  {
   "cell_type": "markdown",
   "id": "f79e6055-8e32-4ddd-a8f7-275e6c48cd87",
   "metadata": {},
   "source": [
    "## Using the AerospikeClient object, update a record\n",
    "### Required additional imports: _none_, all our previous imports are all we need.\n",
    "### We are still working with the same record. Let's update the _name_ to _Jill_."
   ]
  },
  {
   "cell_type": "code",
   "execution_count": 12,
   "id": "259eaa56-baf0-449f-8cf7-ed2c9e104174",
   "metadata": {},
   "outputs": [
    {
     "name": "stdout",
     "output_type": "stream",
     "text": [
      "Record: (gen:2),(exp:475743526),(bins:(name:Jill),(age:30),(gender:m))\n"
     ]
    }
   ],
   "source": [
    "Bin bName = new Bin(\"name\", \"Jill\");\n",
    "//Bin bAge = new Bin(\"age\", 28);  \n",
    "//Bin bGender = new Bin(\"gender\", \"f\"); \n",
    "\n",
    "client.put(wPolicy, key, bName);\n",
    "//client.put(null, key, bName, bAge, bGender);\n",
    "//client.put(null, key, bName, bAge, bGender);\n",
    "//client.put(null, key, bAge);\n",
    "//client.put(null, key, bGender);\n",
    "\n",
    "//Verify\n",
    "Record record = client.get(rPolicy, key);\n",
    "System.out.println(\"Record: \" + record);"
   ]
  },
  {
   "cell_type": "markdown",
   "id": "3b4f266c-0bf9-47a3-9813-a97ac2e14e39",
   "metadata": {},
   "source": [
    "### &uarr; Back to previous cell, try changing both _name_ and _age_ or just _age_ after we already changed the _name_\n"
   ]
  },
  {
   "cell_type": "markdown",
   "id": "acfe42db-3ddf-4533-87ad-fcfcb401a53d",
   "metadata": {},
   "source": [
    "<img src=\"./pngs/Slide15.png\"\n",
    "     alt=\"Slide15\"\n",
    "     style=\"float: left; margin-right: 10px;\"\n",
    "     width=\"1024\"\n",
    "     height=\"768\"/>"
   ]
  },
  {
   "cell_type": "markdown",
   "id": "906b3440-53dc-4f15-8406-7b70798a3a7e",
   "metadata": {},
   "source": [
    "## Using the AerospikeClient object, delete a record\n",
    "### Required additional imports: _none_, all our previous imports are all we need.\n",
    "### We are still working with the same record. "
   ]
  },
  {
   "cell_type": "code",
   "execution_count": 13,
   "id": "108af1b2-f170-4784-888f-bc9f3e47e83e",
   "metadata": {},
   "outputs": [
    {
     "name": "stdout",
     "output_type": "stream",
     "text": [
      "Record: null\n"
     ]
    }
   ],
   "source": [
    "client.delete(wPolicy, key);\n",
    "\n",
    "//Verify\n",
    "Record record = client.get(rPolicy, key);\n",
    "System.out.println(\"Record: \" + record);"
   ]
  },
  {
   "cell_type": "markdown",
   "id": "5f1f3fed-879f-40af-b5a4-41296daf00f4",
   "metadata": {},
   "source": [
    "## About Regular Deletes\n",
    "### The record's Primary Index has been deleted. \n",
    "### Record on storage will be cleared up when it becomes eligible for defrag.\n",
    "### If we were to coldstart this cluster, thereby rebuild Primary Index (PI) using data in storage, this record could potentially get resurrected.\n",
    "\n",
    "### We will explore \"Durable Deletes\" shortly.  \n",
    "\n",
    "### Recall getHeader() that allowed us to read _gen_ and _exp_ ...\n",
    "### Relevant Record Metadata is saved along with Record Data on storage medium to rebuild the PI on coldstart."
   ]
  },
  {
   "cell_type": "markdown",
   "id": "d6b592b9-2553-4cf3-8c6a-4d702c32bb0f",
   "metadata": {},
   "source": [
    "<img src=\"./pngs/Slide16.png\"\n",
    "     alt=\"Slide16\"\n",
    "     style=\"float: left; margin-right: 10px;\"\n",
    "     width=\"1024\"\n",
    "     height=\"768\"/>"
   ]
  },
  {
   "cell_type": "markdown",
   "id": "7a66a9fe-6bd4-46d1-83ca-a934cf502b6c",
   "metadata": {},
   "source": [
    "### **Note**: LUT is not available in getHeader() but can be accessed using other techniques.  \n",
    "\n",
    "## Let's explore Write Policy attributes and situations where they can be used."
   ]
  },
  {
   "cell_type": "markdown",
   "id": "b72e6a2a-8977-458e-a51d-95f9b687ab51",
   "metadata": {},
   "source": [
    "<img src=\"./pngs/Slide17.png\"\n",
    "     alt=\"Slide17\"\n",
    "     style=\"float: left; margin-right: 10px;\"\n",
    "     width=\"1024\"\n",
    "     height=\"768\"/>"
   ]
  },
  {
   "cell_type": "markdown",
   "id": "d03643ec-e7b7-442c-af4b-37020089bd9f",
   "metadata": {},
   "source": [
    "<img src=\"./pngs/Slide18.png\"\n",
    "     alt=\"Slide18\"\n",
    "     style=\"float: left; margin-right: 10px;\"\n",
    "     width=\"1024\"\n",
    "     height=\"768\"/>"
   ]
  },
  {
   "cell_type": "markdown",
   "id": "c4147e18-d66f-48a1-a44b-376890e02192",
   "metadata": {},
   "source": [
    "## Let's re-insert our record to explore different WritePolicy options"
   ]
  },
  {
   "cell_type": "code",
   "execution_count": 14,
   "id": "1d3cd59e-2f6d-45e3-9ef3-e278846940e9",
   "metadata": {},
   "outputs": [
    {
     "name": "stdout",
     "output_type": "stream",
     "text": [
      "Record : (gen:1),(exp:475743526),(bins:(name:Jack),(age:30),(gender:m))\n"
     ]
    }
   ],
   "source": [
    "wPolicy.expiration = 0;  //0: Record will expire based on namespace configuration of defaultTTL \n",
    "\n",
    "Bin bName = new Bin(\"name\", \"Jack\");\n",
    "Bin bAge = new Bin(\"age\", 30);\n",
    "Bin bGender = new Bin(\"gender\", \"m\");\n",
    "\n",
    "client.put(wPolicy, key, bName, bAge, bGender);\n",
    "\n",
    "//Check\n",
    "Record record = client.get(rPolicy, key);\n",
    "System.out.println(\"Record : \"+ record);"
   ]
  },
  {
   "cell_type": "markdown",
   "id": "ef4c6f50-c3a0-41a1-bfe0-6b1a2a9b85d7",
   "metadata": {},
   "source": [
    "### Explore TTL settings in the WritePolicy\n",
    "#### exp:xxxxxxxx is a future timestamp in seconds after Jan 1, 2010  (Aerospike Founding Date.)\n",
    "#### Our namespace is configured for 5 day defaultTTL ( 432,000 seconds from now)"
   ]
  },
  {
   "cell_type": "code",
   "execution_count": 15,
   "id": "73ee32e4-3ecf-4406-bb9f-1897a354ec5e",
   "metadata": {},
   "outputs": [
    {
     "name": "stdout",
     "output_type": "stream",
     "text": [
      "Record : (gen:2),(exp:475311537),(bins:(name:Jack),(age:30),(gender:m))\n"
     ]
    }
   ],
   "source": [
    "wPolicy.expiration = 10;  //10: Record will expire 10 seconds after creation\n",
    "Bin bName = new Bin(\"name\", \"Jack\");\n",
    "Bin bAge = new Bin(\"age\", 30);\n",
    "Bin bGender = new Bin(\"gender\", \"m\");\n",
    "\n",
    "client.put(wPolicy, key, bName, bAge, bGender);\n",
    "\n",
    "//Check\n",
    "Record record = client.get(rPolicy, key);\n",
    "System.out.println(\"Record : \"+ record);"
   ]
  },
  {
   "cell_type": "code",
   "execution_count": 16,
   "id": "102349c4-fc98-43e0-a75a-8387d91ce5e8",
   "metadata": {},
   "outputs": [
    {
     "name": "stdout",
     "output_type": "stream",
     "text": [
      "Record : (gen:2),(exp:475311537),(bins:(name:Jack),(age:30),(gender:m))\n"
     ]
    }
   ],
   "source": [
    "//Check repeatedly for 10 seconds\n",
    "Record record = client.get(rPolicy, key);\n",
    "System.out.println(\"Record : \"+ record);"
   ]
  },
  {
   "cell_type": "markdown",
   "id": "f0b8de6e-d0df-4a4b-8d89-f1f066082498",
   "metadata": {},
   "source": [
    "### &uarr; Repeat the above 3 cells and play with expiration = -1 and expiration = -2 settings. \n",
    "#### For -1: Start with 10 seconds life, then unset with -1, then test reads for over 10 seconds\n",
    "#### For -2: Start with 10 seconds life, then keep updating with -2. At some point, record will expire underneath and you will create a new record with namespace defaultTTL.  Keep an eye on generation value. It will switch to 1 and exp will be higher number."
   ]
  },
  {
   "cell_type": "markdown",
   "id": "7fe1d734-34c5-4cdc-9c91-d362ea41393f",
   "metadata": {},
   "source": [
    "## Using Record Generation (_gen_) to execute READ-MODIFY-WRITE command\n",
    "## &rarr; Useful for Data Modeling certain problems.\n",
    "#### _gen_ of a record starts with 1, incrementing with every update. It rolls back to 1, skipping 0."
   ]
  },
  {
   "cell_type": "markdown",
   "id": "98ea5f81-5b54-4051-aba4-5f370aeb4244",
   "metadata": {},
   "source": [
    "<img src=\"./pngs/Slide19.png\"\n",
    "     alt=\"Slide19\"\n",
    "     style=\"float: left; margin-right: 10px;\"\n",
    "     width=\"1024\"\n",
    "     height=\"768\"/>"
   ]
  },
  {
   "cell_type": "markdown",
   "id": "f9749cdb-1ca6-4b24-ba2a-2c7fa075b291",
   "metadata": {},
   "source": [
    "<img src=\"./pngs/Slide20.png\"\n",
    "     alt=\"Slide20\"\n",
    "     style=\"float: left; margin-right: 10px;\"\n",
    "     width=\"1024\"\n",
    "     height=\"768\"/>"
   ]
  },
  {
   "cell_type": "markdown",
   "id": "9b2cbc18-9a5e-4424-9a4b-9ef4ddfa03ff",
   "metadata": {},
   "source": [
    "## Let's re-insert our record to explore Read-Modify-Write"
   ]
  },
  {
   "cell_type": "code",
   "execution_count": 17,
   "id": "7743165c-30dc-4836-94a3-8bffd59d2405",
   "metadata": {},
   "outputs": [
    {
     "name": "stdout",
     "output_type": "stream",
     "text": [
      "Record : (gen:3),(exp:475743527),(bins:(name:Jack),(age:30),(gender:m))\n"
     ]
    }
   ],
   "source": [
    "wPolicy.expiration = 0;  //0: Record will expire based on namespace configuration of defaultTTL \n",
    "\n",
    "Bin bName = new Bin(\"name\", \"Jack\");\n",
    "Bin bAge = new Bin(\"age\", 30);\n",
    "Bin bGender = new Bin(\"gender\", \"m\");\n",
    "\n",
    "client.put(wPolicy, key, bName, bAge, bGender);\n",
    "\n",
    "//Check\n",
    "Record record = client.get(rPolicy, key);\n",
    "System.out.println(\"Record : \"+ record);"
   ]
  },
  {
   "cell_type": "markdown",
   "id": "c62d387a-1a86-48c7-8fb6-4881bad8f60d",
   "metadata": {},
   "source": [
    "### Executing Read - Modify - Write\n",
    "\n",
    "#### We need to import GenerationPolicy class"
   ]
  },
  {
   "cell_type": "code",
   "execution_count": 18,
   "id": "1e4d17d7-d8c6-488c-9509-c76ac0b7f3d2",
   "metadata": {},
   "outputs": [
    {
     "name": "stdout",
     "output_type": "stream",
     "text": [
      "Record : (gen:4),(exp:475743528),(bins:(name:Jill),(age:25),(gender:f))\n"
     ]
    },
    {
     "data": {
      "text/plain": [
       "NONE"
      ]
     },
     "execution_count": 18,
     "metadata": {},
     "output_type": "execute_result"
    }
   ],
   "source": [
    "import com.aerospike.client.policy.GenerationPolicy;\n",
    "\n",
    "//Read the record first\n",
    "Record record = client.get(rPolicy, key);  \n",
    "\n",
    "//Assign its generation value (record.generation) to the WritePolicy generation attribute\n",
    "wPolicy.generation = record.generation;\n",
    "\n",
    "//Set WritePolicy to check record generation on server to be equal to this value.\n",
    "//If not, do not update the record. Return ERROR.\n",
    "wPolicy.generationPolicy = GenerationPolicy.EXPECT_GEN_EQUAL; \n",
    "\n",
    "Bin bName = new Bin(\"name\", \"Jill\");\n",
    "Bin bAge = new Bin(\"age\", 25);\n",
    "Bin bGender = new Bin(\"gender\", \"f\");\n",
    "\n",
    "client.put(wPolicy, key, bName, bAge, bGender);\n",
    "\n",
    "//Check\n",
    "Record record = client.get(rPolicy, key);\n",
    "System.out.println(\"Record : \"+ record);\n",
    "\n",
    "//Reset WritePolicy\n",
    "wPolicy.generationPolicy = GenerationPolicy.NONE;"
   ]
  },
  {
   "cell_type": "markdown",
   "id": "a015dbe2-b06f-4374-970b-88473cec63e3",
   "metadata": {},
   "source": [
    "### Executing Read - Modify - Write\n",
    "\n",
    "#### Let's force a generation mismatch and test with catching AerospikeException.\n",
    "#### We need to import AerospikeException"
   ]
  },
  {
   "cell_type": "code",
   "execution_count": 19,
   "id": "391e8284-cc97-4cdf-90b1-c6f3ee094cdc",
   "metadata": {},
   "outputs": [
    {
     "name": "stdout",
     "output_type": "stream",
     "text": [
      "Error 3,1,0,30000,1000,0,A1 127.0.0.1 3000: Generation error\n",
      "Record : (gen:4),(exp:475743528),(bins:(name:Jill),(age:25),(gender:f))\n"
     ]
    },
    {
     "data": {
      "text/plain": [
       "NONE"
      ]
     },
     "execution_count": 19,
     "metadata": {},
     "output_type": "execute_result"
    }
   ],
   "source": [
    "import com.aerospike.client.AerospikeException;\n",
    "\n",
    "//Read the record first\n",
    "Record record = client.get(rPolicy, key);  \n",
    "\n",
    "//Assign its generation value to the WritePolicy generation attribute\n",
    "wPolicy.generation = record.generation +1;  //Force mismatch for test\n",
    "//This is like another client modified the record after we read it.\n",
    "\n",
    "//Set WritePolicy to check record generation on server to be equal to this value.\n",
    "//If not, do not update the record. Return ERROR.\n",
    "wPolicy.generationPolicy = GenerationPolicy.EXPECT_GEN_EQUAL; \n",
    "\n",
    "Bin bName = new Bin(\"name\", \"John\");\n",
    "Bin bAge = new Bin(\"age\", 45);\n",
    "Bin bGender = new Bin(\"gender\", \"m\");\n",
    "\n",
    "try {\n",
    "   client.put(wPolicy, key, bName, bAge, bGender);\n",
    "}\n",
    "catch (AerospikeException e){\n",
    "    System.out.println(e.getMessage());\n",
    "}\n",
    "\n",
    "//Check\n",
    "Record record = client.get(rPolicy, key);\n",
    "System.out.println(\"Record : \"+ record);\n",
    "\n",
    "//Reset WritePolicy\n",
    "wPolicy.generationPolicy = GenerationPolicy.NONE;"
   ]
  },
  {
   "cell_type": "markdown",
   "id": "f4440859-344f-452f-ac48-98125bbc961d",
   "metadata": {},
   "source": [
    "#### &uarr; Comment out the EXPECT_GEN_EQUAL policy setting line and retest. \n",
    "#### Record should get updated.\n"
   ]
  },
  {
   "cell_type": "markdown",
   "id": "fa46ffa1-5db3-40b7-a75d-0d022429c8e3",
   "metadata": {},
   "source": [
    "## Dealing with default UPSERT. \n",
    "### Options when updating or creating a record based on whether the record already exists or not.\n",
    "### &rarr; Useful for Data Modeling certain problems."
   ]
  },
  {
   "cell_type": "markdown",
   "id": "78434513-8e78-41ed-8704-ea76e17d5065",
   "metadata": {},
   "source": [
    "<img src=\"./pngs/Slide21.png\"\n",
    "     alt=\"Slide21\"\n",
    "     style=\"float: left; margin-right: 10px;\"\n",
    "     width=\"1024\"\n",
    "     height=\"768\"/>"
   ]
  },
  {
   "cell_type": "markdown",
   "id": "caa1b734-955c-417d-9c92-4639c733343d",
   "metadata": {},
   "source": [
    "## Let's start with CREATE_ONLY. \n",
    "### We will start by deleting our record, making sure it does not exist.\n",
    "### &rarr; Useful for Data Modeling certain problems.\n",
    "\n",
    "#### Import RecordExistsAction class to use its ENUMs."
   ]
  },
  {
   "cell_type": "code",
   "execution_count": 20,
   "id": "f0a542e0-1a48-4308-af8d-d6be3d7d09dd",
   "metadata": {},
   "outputs": [
    {
     "name": "stdout",
     "output_type": "stream",
     "text": [
      "Record : (gen:1),(exp:475743528),(bins:(name:Jill),(age:25),(gender:f))\n",
      "Error 5,1,0,30000,1000,0,A1 127.0.0.1 3000: Key already exists\n"
     ]
    },
    {
     "data": {
      "text/plain": [
       "UPDATE"
      ]
     },
     "execution_count": 20,
     "metadata": {},
     "output_type": "execute_result"
    }
   ],
   "source": [
    "import com.aerospike.client.policy.RecordExistsAction;\n",
    "\n",
    "//Delete the record - ensure record does not exist.\n",
    "client.delete(wPolicy, key);\n",
    "\n",
    "//Use WritePolicy for record exists action - CREATE_ONLY\n",
    "wPolicy.recordExistsAction = RecordExistsAction.CREATE_ONLY;\n",
    "\n",
    "Bin bName = new Bin(\"name\", \"Jill\");\n",
    "Bin bAge = new Bin(\"age\", 25);\n",
    "Bin bGender = new Bin(\"gender\", \"f\");\n",
    "\n",
    "client.put(wPolicy, key, bName, bAge, bGender);\n",
    "\n",
    "//Check\n",
    "Record record = client.get(rPolicy, key);\n",
    "System.out.println(\"Record : \"+ record);\n",
    "\n",
    "//If we repeat we should fail CREATE_ONLY\n",
    "try {\n",
    "  client.put(wPolicy, key, bName, bAge, bGender);\n",
    "}\n",
    "catch(AerospikeException e){\n",
    "    System.out.println(e.getMessage());\n",
    "}\n",
    "\n",
    "//Reset WritePolicy\n",
    "wPolicy.recordExistsAction = RecordExistsAction.UPDATE;"
   ]
  },
  {
   "cell_type": "markdown",
   "id": "a6639f9d-a230-4233-b2b4-7cd5e1cfbcc6",
   "metadata": {},
   "source": [
    "## The other commonly used one is REPLACE. \n",
    "\n",
    "### &rarr; Useful for Data Modeling certain problems.\n",
    "\n",
    "#### Let's start with a record with three bins, _name_, _age_ and _gender_. We will REPLACE the record with having just one bin, the _name_ bin only."
   ]
  },
  {
   "cell_type": "code",
   "execution_count": 21,
   "id": "e73b2f71-3c59-443c-a22e-998276c9ddb4",
   "metadata": {},
   "outputs": [
    {
     "name": "stdout",
     "output_type": "stream",
     "text": [
      "Record : (gen:2),(exp:475743529),(bins:(name:Jill),(age:25),(gender:f))\n",
      "Record : (gen:3),(exp:475743529),(bins:(name:Bob))\n"
     ]
    },
    {
     "data": {
      "text/plain": [
       "UPDATE"
      ]
     },
     "execution_count": 21,
     "metadata": {},
     "output_type": "execute_result"
    }
   ],
   "source": [
    "//Start with the record with two bins\n",
    "wPolicy.recordExistsAction = RecordExistsAction.UPDATE;\n",
    "Bin bName = new Bin(\"name\", \"Jill\");\n",
    "Bin bAge = new Bin(\"age\", 25);\n",
    "Bin bGender = new Bin(\"gender\", \"f\");\n",
    "client.put(wPolicy, key, bName, bAge, bGender);\n",
    "\n",
    "Record record = client.get(rPolicy, key);\n",
    "System.out.println(\"Record : \"+ record);\n",
    "\n",
    "//Use WritePolicy for record exists action - REPLACE\n",
    "wPolicy.recordExistsAction = RecordExistsAction.REPLACE;\n",
    "\n",
    "Bin bNameReplace = new Bin(\"name\", \"Bob\");\n",
    "\n",
    "client.put(wPolicy, key, bNameReplace);\n",
    "\n",
    "//Check\n",
    "Record record = client.get(rPolicy, key);\n",
    "System.out.println(\"Record : \"+ record);\n",
    "\n",
    "//Reset WritePolicy\n",
    "wPolicy.recordExistsAction = RecordExistsAction.UPDATE;"
   ]
  },
  {
   "cell_type": "markdown",
   "id": "6ac5ef34-c3f3-4a4e-98a1-25a4bb15f0ae",
   "metadata": {},
   "source": [
    "#### Lets try REPLACE_ONLY, this time we only want the record to have the age bin.\n",
    "#### It succeeds only if the record exists.\n"
   ]
  },
  {
   "cell_type": "code",
   "execution_count": 22,
   "id": "62164c84-956b-43ab-94d2-9515edbd7f7d",
   "metadata": {},
   "outputs": [
    {
     "name": "stdout",
     "output_type": "stream",
     "text": [
      "Record : (gen:3),(exp:475743529),(bins:(name:Bob))\n",
      "Record : (gen:4),(exp:475743529),(bins:(age:50))\n"
     ]
    }
   ],
   "source": [
    "//Check\n",
    "Record record = client.get(rPolicy, key);\n",
    "System.out.println(\"Record : \"+ record);\n",
    "\n",
    "wPolicy.recordExistsAction = RecordExistsAction.REPLACE_ONLY;\n",
    "Bin bAge = new Bin(\"age\", 50);\n",
    "\n",
    "try {\n",
    "  client.put(wPolicy, key, bAge);\n",
    "}\n",
    "catch(AerospikeException e){\n",
    "    System.out.println(e.getMessage());\n",
    "}\n",
    "\n",
    "//Check\n",
    "Record record = client.get(rPolicy, key);\n",
    "System.out.println(\"Record : \"+ record);"
   ]
  },
  {
   "cell_type": "markdown",
   "id": "ba8bc144-6f8b-4520-947d-6ce9edafa3ee",
   "metadata": {},
   "source": [
    "#### We are still doing REPLACE_ONLY, we want the record to have, only, the _age_ bin.\n",
    "#### **Note:** It succeeds only if the record exists.\n"
   ]
  },
  {
   "cell_type": "code",
   "execution_count": 23,
   "id": "79ca12c1-6341-455a-b9b1-2103dba946fc",
   "metadata": {},
   "outputs": [
    {
     "name": "stdout",
     "output_type": "stream",
     "text": [
      "Error 2,1,0,30000,1000,0,A1 127.0.0.1 3000: Key not found\n",
      "Record : null\n"
     ]
    },
    {
     "data": {
      "text/plain": [
       "UPDATE"
      ]
     },
     "execution_count": 23,
     "metadata": {},
     "output_type": "execute_result"
    }
   ],
   "source": [
    "\n",
    "wPolicy.recordExistsAction = RecordExistsAction.REPLACE_ONLY;\n",
    "//wPolicy.recordExistsAction = RecordExistsAction.UPDATE_ONLY;\n",
    "\n",
    "//Delete the record - ensure record does not exist. (REPLACE_ONLY or UPDATE_ONLY both should Except.)\n",
    "client.delete(wPolicy, key);\n",
    "\n",
    "Bin bAge = new Bin(\"age\", 65);\n",
    "\n",
    "try {\n",
    "  client.put(wPolicy, key, bAge);\n",
    "}\n",
    "catch(AerospikeException e){\n",
    "    System.out.println(e.getMessage());\n",
    "}\n",
    "\n",
    "//Check\n",
    "Record record = client.get(rPolicy, key);\n",
    "System.out.println(\"Record : \"+ record);\n",
    "\n",
    "//Reset WritePolicy\n",
    "wPolicy.recordExistsAction = RecordExistsAction.UPDATE;"
   ]
  },
  {
   "cell_type": "markdown",
   "id": "0524d2bc-6d53-4c75-aad8-50ada75584c7",
   "metadata": {},
   "source": [
    "#### This time we fail because we deleted the record and then did REPLACE_ONLY on a non-existent record.\n",
    "#### Likewise UPDATE_ONLY, you can try on your own in any of the cells above.\n",
    "#### It succeeds only if the record exists.\n"
   ]
  },
  {
   "cell_type": "markdown",
   "id": "1d413ae2-b519-43a9-b6b3-8f0f25f81ef7",
   "metadata": {},
   "source": [
    "## Finally, lets look at Durable Deletes\n",
    "#### There are two ways to delete a record. \n",
    "#### 1 - delete() API, or \n",
    "#### 2 - Set the all bins of a record to null, which deletes the bin(s). \n",
    "\n",
    "#### With either method, the record is durably deleted when the _WritePolicy.durableDelete_ is set to _true_."
   ]
  },
  {
   "cell_type": "markdown",
   "id": "6f2c6d26-f842-48f2-b6c0-6df5f2b2538b",
   "metadata": {},
   "source": [
    "<img src=\"./pngs/Slide22.png\"\n",
    "     alt=\"Slide22\"\n",
    "     style=\"float: left; margin-right: 10px;\"\n",
    "     width=\"1024\"\n",
    "     height=\"768\"/>"
   ]
  },
  {
   "cell_type": "markdown",
   "id": "657f6726-9a03-46a6-b726-196eb6a06905",
   "metadata": {},
   "source": [
    "#### Insert a record with two bins\n"
   ]
  },
  {
   "cell_type": "code",
   "execution_count": 24,
   "id": "4c2c2959-77b8-4f3f-b63f-75a51b38e517",
   "metadata": {},
   "outputs": [
    {
     "name": "stdout",
     "output_type": "stream",
     "text": [
      "Record : (gen:1),(exp:475743530),(bins:(name:Jill),(age:25))\n"
     ]
    }
   ],
   "source": [
    "//Start with the record with two bins\n",
    "wPolicy.recordExistsAction = RecordExistsAction.UPDATE;\n",
    "Bin bName = new Bin(\"name\", \"Jill\");\n",
    "Bin bAge = new Bin(\"age\", 25);\n",
    "client.put(wPolicy, key, bName, bAge);\n",
    "Record record = client.get(rPolicy, key);\n",
    "System.out.println(\"Record : \"+ record);"
   ]
  },
  {
   "cell_type": "markdown",
   "id": "0701ea57-f186-4813-90d7-63cc489ed8b2",
   "metadata": {},
   "source": [
    "#### Then _delete()_ it with _WritePolicy.durableDelete = true_.\n",
    "#### But first, let's check tombstones in the namespace using asadm (should be zero since we just inserted the record.)\n",
    "#### **$ asadm -e \"info namespace object\"**\n",
    "#### in the terminal \n",
    "\n",
    "#### Note: The Tombstones count is zero.\n",
    "```\n",
    "Admin> info namespace object\n",
    "```\n",
    "#### Relevant output to check:\n",
    "\n",
    "```\n",
    "Namespace Object Information (2025-01-22 23:16:17 UTC)~~~~~~~~~~~~~~~~~~~~~~~~~~\n",
    "|~~~~~~~~~~Objects~~~~~~~~~~|~~~~~~~~~Tombstones~~~~~~~~|~~~~Pending~~~~\n",
    "|Records| Master|  Prole|Non-Replica| Master|  Prole|Non-Replica|~~~~Migrates~~~\n",
    "|       |       |       |           |       |       |           |     Tx|     Rx\n",
    "|1.000  |1.000  |0.000  |    0.000  |0.000  |0.000  |    0.000  |0.000  |0.000  \n",
    "|1.000  |1.000  |0.000  |    0.000  |0.000  |0.000  |    0.000  |0.000  |0.000  \n",
    "Number of rows: 1\n",
    "```"
   ]
  },
  {
   "cell_type": "code",
   "execution_count": 25,
   "id": "89a22936-d742-44c8-9d1a-214ca4c163ca",
   "metadata": {},
   "outputs": [
    {
     "name": "stdout",
     "output_type": "stream",
     "text": [
      "Record : (gen:2),(exp:475743530),(bins:(name:Jill),(age:25))\n",
      "Record : null\n"
     ]
    },
    {
     "data": {
      "text/plain": [
       "false"
      ]
     },
     "execution_count": 25,
     "metadata": {},
     "output_type": "execute_result"
    }
   ],
   "source": [
    "//Start with the record with two bins\n",
    "Bin bName = new Bin(\"name\", \"Jill\");\n",
    "Bin bAge = new Bin(\"age\", 25);\n",
    "\n",
    "client.put(wPolicy, key, bName, bAge);\n",
    "\n",
    "//Check\n",
    "Record record = client.get(rPolicy, key);\n",
    "System.out.println(\"Record : \"+ record);\n",
    "\n",
    "//Use WritePolicy for durable deletes as true\n",
    "wPolicy.durableDelete = true;\n",
    "//Method 1\n",
    "client.delete(wPolicy, key);\n",
    "//Check\n",
    "Record record = client.get(rPolicy, key);\n",
    "System.out.println(\"Record : \"+ record);\n",
    "\n",
    "//Reset WritePolicy\n",
    "wPolicy.durableDelete = false;"
   ]
  },
  {
   "cell_type": "markdown",
   "id": "12542f85-a680-4a00-8397-bf3fcdb04793",
   "metadata": {},
   "source": [
    "#### Check tombstones in the namespace using asadm in a terminal shell\n",
    "#### **$ asadm -e \"info namespace\"**  "
   ]
  },
  {
   "cell_type": "markdown",
   "id": "9f59e2b2-7556-4889-88cd-eccb1f40ceda",
   "metadata": {},
   "source": [
    "#### Re-insert a record with two bins\n"
   ]
  },
  {
   "cell_type": "code",
   "execution_count": 26,
   "id": "7c6f7d51-352e-49b0-a27a-384da44ca54b",
   "metadata": {},
   "outputs": [
    {
     "name": "stdout",
     "output_type": "stream",
     "text": [
      "Record : (gen:4),(exp:475743530),(bins:(name:Jill),(age:25))\n"
     ]
    }
   ],
   "source": [
    "//Start with the record with two bins\n",
    "wPolicy.recordExistsAction = RecordExistsAction.UPDATE;\n",
    "Bin bName = new Bin(\"name\", \"Jill\");\n",
    "Bin bAge = new Bin(\"age\", 25);\n",
    "client.put(wPolicy, key, bName, bAge);\n",
    "Record record = client.get(rPolicy, key);\n",
    "System.out.println(\"Record : \"+ record);"
   ]
  },
  {
   "cell_type": "markdown",
   "id": "c4c80500-3238-4031-b766-f8de88e757fb",
   "metadata": {},
   "source": [
    "#### Check tombstones in the namespace using asadm in a terminal shell\n",
    "#### **$ asadm -e \"info namespace\"**  "
   ]
  },
  {
   "cell_type": "markdown",
   "id": "475e0371-c37e-499b-9d33-4d1b557b207e",
   "metadata": {},
   "source": [
    "\n",
    "#### Now set all bins to null, deleting them, and therefore the record. \n",
    "#### Use _WritePolicy.durableDelete = true_ when setting bins to null."
   ]
  },
  {
   "cell_type": "code",
   "execution_count": 27,
   "id": "68dd24e7-14c3-48d9-84c5-3a0f0751517f",
   "metadata": {},
   "outputs": [
    {
     "name": "stdout",
     "output_type": "stream",
     "text": [
      "Record : null\n"
     ]
    },
    {
     "data": {
      "text/plain": [
       "false"
      ]
     },
     "execution_count": 27,
     "metadata": {},
     "output_type": "execute_result"
    }
   ],
   "source": [
    "//Use WritePolicy for durable deletes as true\n",
    "wPolicy.durableDelete = true;\n",
    "\n",
    "// Method 2 - set all bins to null\n",
    "Bin bName = Bin.asNull(\"name\");\n",
    "Bin bAge = Bin.asNull(\"age\");\n",
    "client.put(wPolicy, key, bName, bAge);\n",
    "\n",
    "//Check\n",
    "Record record = client.get(rPolicy, key);\n",
    "System.out.println(\"Record : \"+ record);\n",
    "\n",
    "//Reset WritePolicy\n",
    "wPolicy.durableDelete = false;"
   ]
  },
  {
   "cell_type": "markdown",
   "id": "50312f07-673a-48f9-8ad6-eab38b759755",
   "metadata": {},
   "source": [
    "#### Check tombstones in the namespace using asadm in a terminal shell\n",
    "#### **$ asadm -e \"info namespace\"**  "
   ]
  },
  {
   "cell_type": "markdown",
   "id": "a4683c7c-6618-460f-a8ad-49df78746a77",
   "metadata": {},
   "source": [
    "#### Re-insert a record with two bins\n"
   ]
  },
  {
   "cell_type": "code",
   "execution_count": 28,
   "id": "74a11840-2756-4f3f-b1f8-ef8b1e4f7417",
   "metadata": {},
   "outputs": [
    {
     "name": "stdout",
     "output_type": "stream",
     "text": [
      "Record : (gen:6),(exp:475743531),(bins:(name:Jill),(age:25))\n"
     ]
    }
   ],
   "source": [
    "//Start with the record with two bins\n",
    "wPolicy.recordExistsAction = RecordExistsAction.UPDATE;\n",
    "Bin bName = new Bin(\"name\", \"Jill\");\n",
    "Bin bAge = new Bin(\"age\", 25);\n",
    "client.put(wPolicy, key, bName, bAge);\n",
    "Record record = client.get(rPolicy, key);\n",
    "System.out.println(\"Record : \"+ record);"
   ]
  },
  {
   "cell_type": "markdown",
   "id": "8e8a89f7-2e5a-49f8-b646-40eade0af815",
   "metadata": {},
   "source": [
    "<img src=\"./pngs/Slide23.png\"\n",
    "     alt=\"Slide23\"\n",
    "     style=\"float: left; margin-right: 10px;\"\n",
    "     width=\"1024\"\n",
    "     height=\"768\"/>"
   ]
  },
  {
   "cell_type": "markdown",
   "id": "46c6f0fa-6557-4cdd-9c50-80241f473be6",
   "metadata": {},
   "source": [
    "<img src=\"./pngs/Slide24.png\"\n",
    "     alt=\"Slide24\"\n",
    "     style=\"float: left; margin-right: 10px;\"\n",
    "     width=\"1024\"\n",
    "     height=\"768\"/>"
   ]
  },
  {
   "cell_type": "markdown",
   "id": "305bd466-81b3-4fad-9360-de18713c7a38",
   "metadata": {},
   "source": [
    "<img src=\"./pngs/Slide25.png\"\n",
    "     alt=\"Slide25\"\n",
    "     style=\"float: left; margin-right: 10px;\"\n",
    "     width=\"1024\"\n",
    "     height=\"768\"/>"
   ]
  },
  {
   "cell_type": "markdown",
   "id": "a807a77f-1804-4b04-9dbf-f4ead559e33d",
   "metadata": {},
   "source": [
    "<img src=\"./pngs/Slide26.png\"\n",
    "     alt=\"Slide26\"\n",
    "     style=\"float: left; margin-right: 10px;\"\n",
    "     width=\"1024\"\n",
    "     height=\"768\"/>"
   ]
  },
  {
   "cell_type": "markdown",
   "id": "2413bdeb-06e7-48a0-ab67-a0823e6f022e",
   "metadata": {},
   "source": [
    "<img src=\"./pngs/Slide27.png\"\n",
    "     alt=\"Slide27\"\n",
    "     style=\"float: left; margin-right: 10px;\"\n",
    "     width=\"1024\"\n",
    "     height=\"768\"/>"
   ]
  },
  {
   "attachments": {},
   "cell_type": "markdown",
   "id": "2a1e0116-aaa3-4c8f-b71d-171067609ef3",
   "metadata": {},
   "source": [
    "\n",
    "## We have a single node cluster. So we will skip code examples for Read Policy.\n",
    "## To demonstrate Replica.SEQUENCE we would need a multi-node cluster and then inject network errors. Beyond the scope for this session. \n",
    "### Example code for rack aware read is presented below. \n"
   ]
  },
  {
   "cell_type": "code",
   "execution_count": 29,
   "id": "a1a3bb8a-714e-4f6a-955e-705eaf00057e",
   "metadata": {},
   "outputs": [
    {
     "name": "stdout",
     "output_type": "stream",
     "text": [
      "Using Rack 1\n",
      "(gen:6),(exp:475743531),(bins:(name:Jill),(age:25))\n"
     ]
    }
   ],
   "source": [
    "import com.aerospike.client.policy.ClientPolicy;\n",
    "import com.aerospike.client.policy.Replica;\n",
    "\n",
    "ClientPolicy cPolicy = new ClientPolicy();\n",
    "\n",
    "cPolicy.rackId = 1;  //preferred rack id for this client process.  \n",
    "//NOTE: We don't have this rackid in our single node cluster\n",
    "//AP namespace test: It tries first node on rack 1 and if it does not find it, falls back to master.\n",
    "cPolicy.rackAware = true;\n",
    "System.out.printf(\"Using Rack %d\\n\", cPolicy.rackId);\n",
    "\n",
    "AerospikeClient client_ra = new AerospikeClient(cPolicy, \"127.0.0.1\", 3000);  //Overloaded constructor\n",
    "Policy policy = new Policy();\n",
    "policy.replica = Replica.PREFER_RACK;\n",
    "System.out.println(client_ra.get(policy, key));\n",
    "client_ra.close(); // Close the client object. We don't need it anymore."
   ]
  },
  {
   "attachments": {},
   "cell_type": "markdown",
   "id": "2ed66977-8704-429f-b88d-df380a7fda4d",
   "metadata": {},
   "source": [
    "### **Note:** Rack awareness is identified in the client policy.  \n",
    "### Client Policy object is passed in the overloaded constructor when instantiating the client object.\n",
    "### In this single node setup, we are not doing a true rack aware read. It still reads the record by falling back to master in our setup.\n",
    "### **Note:** close() API to close a client object after being done with it.\n"
   ]
  },
  {
   "cell_type": "markdown",
   "id": "76d13d82-6ea8-44eb-ab25-ade76dae65ba",
   "metadata": {},
   "source": [
    "<img src=\"./pngs/Slide28.png\"\n",
    "     alt=\"Slide28\"\n",
    "     style=\"float: left; margin-right: 10px;\"\n",
    "     width=\"1024\"\n",
    "     height=\"768\"/>"
   ]
  },
  {
   "cell_type": "markdown",
   "id": "8fe7a8c4-2f08-4406-a6c0-b8a23211e68b",
   "metadata": {},
   "source": [
    "<img src=\"./pngs/Slide29.png\"\n",
    "     alt=\"Slide29\"\n",
    "     style=\"float: left; margin-right: 10px;\"\n",
    "     width=\"1024\"\n",
    "     height=\"768\"/>"
   ]
  },
  {
   "cell_type": "markdown",
   "id": "3dbb5cef-c811-457c-a7ac-4d968e26bb36",
   "metadata": {},
   "source": [
    "\n",
    "## Batch Index Reads: Let's learn by a simple Hands-on exercise.\n",
    "### Let's start with a clean slate by truncating all records in namespace test and inserting 10 fresh records using aql. \n",
    "### insert.aql is an text file containing 10 aql records insert commands."
   ]
  },
  {
   "cell_type": "code",
   "execution_count": 30,
   "id": "7b8d2315-53ee-4733-ae3b-62ee9022131b",
   "metadata": {},
   "outputs": [],
   "source": [
    "%sh asadm --enable -e \"manage truncate ns test --no-warn\" -h \"127.0.0.1\""
   ]
  },
  {
   "cell_type": "code",
   "execution_count": 31,
   "id": "21016483-afb4-4cd8-9ecd-e5b10969babf",
   "metadata": {},
   "outputs": [],
   "source": [
    "%sh aql -f \"./aqlScripts/devintro_data.aql\""
   ]
  },
  {
   "cell_type": "code",
   "execution_count": 32,
   "id": "33394cb9-a2d2-4513-988d-c25315d9e054",
   "metadata": {},
   "outputs": [
    {
     "name": "stdout",
     "output_type": "stream",
     "text": [
      "(gen:1),(exp:475743533),(bins:(name:Sandra),(age:34),(gender:f))\n",
      "(gen:1),(exp:475743533),(bins:(name:Jack),(age:26),(gender:m))\n",
      "(gen:1),(exp:475743533),(bins:(name:Jill),(age:20),(gender:f))\n",
      "(gen:1),(exp:475743533),(bins:(name:James),(age:38),(gender:m))\n",
      "(gen:1),(exp:475743533),(bins:(name:Jim),(age:46),(gender:m))\n",
      "(gen:1),(exp:475743533),(bins:(name:Julia),(age:62),(gender:f))\n",
      "(gen:1),(exp:475743533),(bins:(name:Sally),(age:32),(gender:f))\n",
      "(gen:1),(exp:475743533),(bins:(name:Sean),(age:24),(gender:m))\n",
      "(gen:1),(exp:475743533),(bins:(name:Sam),(age:12),(gender:m))\n",
      "(gen:1),(exp:475743533),(bins:(name:Susan),(age:42),(gender:f))\n"
     ]
    }
   ],
   "source": [
    "//Check\n",
    "for(int i=0; i<10; i++){\n",
    "    System.out.println( client.get(rPolicy, new Key(\"test\",\"testset\",\"key\"+i)));\n",
    "}\n"
   ]
  },
  {
   "cell_type": "markdown",
   "id": "9472238c-0c5f-49a7-a06f-b51e8cc5aada",
   "metadata": {},
   "source": [
    "### Now let us read these 10 records again using the batch index read api (instead of individual read commands in a _for loop_ like we did above).\n"
   ]
  },
  {
   "cell_type": "code",
   "execution_count": 33,
   "id": "f235a1f4-40b5-4060-be11-102e4ec3e275",
   "metadata": {},
   "outputs": [
    {
     "name": "stdout",
     "output_type": "stream",
     "text": [
      "(gen:1),(exp:475743533),(bins:(name:Sandra),(age:34),(gender:f))\n",
      "(gen:1),(exp:475743533),(bins:(name:Jack),(age:26),(gender:m))\n",
      "(gen:1),(exp:475743533),(bins:(name:Jill),(age:20),(gender:f))\n",
      "(gen:1),(exp:475743533),(bins:(name:James),(age:38),(gender:m))\n",
      "(gen:1),(exp:475743533),(bins:(name:Jim),(age:46),(gender:m))\n",
      "(gen:1),(exp:475743533),(bins:(name:Julia),(age:62),(gender:f))\n",
      "(gen:1),(exp:475743533),(bins:(name:Sally),(age:32),(gender:f))\n",
      "(gen:1),(exp:475743533),(bins:(name:Sean),(age:24),(gender:m))\n",
      "(gen:1),(exp:475743533),(bins:(name:Sam),(age:12),(gender:m))\n",
      "(gen:1),(exp:475743533),(bins:(name:Susan),(age:42),(gender:f))\n"
     ]
    }
   ],
   "source": [
    "import com.aerospike.client.policy.BatchPolicy;\n",
    "BatchPolicy bPolicy = new BatchPolicy();\n",
    "\n",
    "//Build the array of keys you want to read\n",
    "Key[] keys = new Key[10];\n",
    "for(int i=0; i<10; i++) {\n",
    "    keys[i]= new Key(\"test\", \"testset\", \"key\"+i);\n",
    "}\n",
    "\n",
    "//Use batch index read API. \n",
    "Record[] recordSet = client.get(bPolicy, keys);  //Single API call\n",
    "\n",
    "//Check the results\n",
    "for(int i=0; i<10; i++) {\n",
    "    System.out.println(recordSet[i]);\n",
    "}\n"
   ]
  },
  {
   "cell_type": "markdown",
   "id": "90d11404-05ea-423e-a270-3c451c34de62",
   "metadata": {},
   "source": [
    "<img src=\"./pngs/Slide30.png\"\n",
    "     alt=\"Slide30\"\n",
    "     style=\"float: left; margin-right: 10px;\"\n",
    "     width=\"1024\"\n",
    "     height=\"768\"/>"
   ]
  },
  {
   "cell_type": "markdown",
   "id": "e8a073d8-eedd-4145-a3ae-c9a824b2a243",
   "metadata": {},
   "source": [
    "# UDFs or User Defined Functions\n",
    "### Just a few slides ago, we mentioned \"UDF\" - let's explore them.\n"
   ]
  },
  {
   "cell_type": "markdown",
   "id": "08a3b083-ae6e-4b89-8c91-a77b4b60c14e",
   "metadata": {},
   "source": [
    "<img src=\"./pngs/Slide31.png\"\n",
    "     alt=\"Slide31\"\n",
    "     style=\"float: left; margin-right: 10px;\"\n",
    "     width=\"1024\"\n",
    "     height=\"768\"/>"
   ]
  },
  {
   "cell_type": "markdown",
   "id": "fa71c8bb-ce23-424e-991f-7511f972d550",
   "metadata": {},
   "source": [
    "<img src=\"./pngs/Slide32.png\"\n",
    "     alt=\"Slide32\"\n",
    "     style=\"float: left; margin-right: 10px;\"\n",
    "     width=\"1024\"\n",
    "     height=\"768\"/>"
   ]
  },
  {
   "cell_type": "markdown",
   "id": "f31c511e-5423-4f88-81ed-a16c7e718549",
   "metadata": {},
   "source": [
    "<img src=\"./pngs/Slide33.png\"\n",
    "     alt=\"Slide33\"\n",
    "     style=\"float: left; margin-right: 10px;\"\n",
    "     width=\"1024\"\n",
    "     height=\"768\"/>"
   ]
  },
  {
   "cell_type": "markdown",
   "id": "95d412c1-64c0-4f73-b1d8-01d4f2b04b48",
   "metadata": {},
   "source": [
    "<img src=\"./pngs/Slide34.png\"\n",
    "     alt=\"Slide34\"\n",
    "     style=\"float: left; margin-right: 10px;\"\n",
    "     width=\"1024\"\n",
    "     height=\"768\"/>"
   ]
  },
  {
   "cell_type": "markdown",
   "id": "e9a1613e-afb4-46a7-9e89-fb829fff6b00",
   "metadata": {},
   "source": [
    "<img src=\"./pngs/Slide35.png\"\n",
    "     alt=\"Slide36\"\n",
    "     style=\"float: left; margin-right: 10px;\"\n",
    "     width=\"1024\"\n",
    "     height=\"768\"/>"
   ]
  },
  {
   "cell_type": "markdown",
   "id": "9843eb2d-72e6-49af-ac4f-c41d8e2458fd",
   "metadata": {},
   "source": [
    "<img src=\"./pngs/Slide36.png\"\n",
    "     alt=\"Slide36\"\n",
    "     style=\"float: left; margin-right: 10px;\"\n",
    "     width=\"1024\"\n",
    "     height=\"768\"/>"
   ]
  },
  {
   "cell_type": "markdown",
   "id": "0cf968d7-3292-4702-a2a1-63106a8c4692",
   "metadata": {},
   "source": [
    "<img src=\"./pngs/Slide37.png\"\n",
    "     alt=\"Slide37\"\n",
    "     style=\"float: left; margin-right: 10px;\"\n",
    "     width=\"1024\"\n",
    "     height=\"768\"/>"
   ]
  },
  {
   "cell_type": "code",
   "execution_count": 34,
   "id": "357c7134-1ed4-4f0f-b89f-94f31440b23b",
   "metadata": {},
   "outputs": [],
   "source": [
    "%sh asadm --enable -e \"manage udfs add updateUserName.lua path ./udf/updateUserName.lua\""
   ]
  },
  {
   "cell_type": "markdown",
   "id": "7be3dde3-2780-4b8d-b7bd-a4e9d9606717",
   "metadata": {},
   "source": [
    "<img src=\"./pngs/Slide38.png\"\n",
    "     alt=\"Slide38\"\n",
    "     style=\"float: left; margin-right: 10px;\"\n",
    "     width=\"1024\"\n",
    "     height=\"768\"/>"
   ]
  },
  {
   "cell_type": "markdown",
   "id": "b9df5750-72e9-4f6b-911f-bb1f9927d29c",
   "metadata": {},
   "source": [
    "\n",
    "### If you want to view what we just uploaded, open a terminal in the home page and use aql\n",
    "#### $ aql\n",
    "#### aql> \n",
    "#### Use the commands shown above.\n",
    "### Next, let us execute the record UDF on one of our records. \n",
    "#### To start clean, lets truncate and re-insert our 10 records.\n"
   ]
  },
  {
   "cell_type": "code",
   "execution_count": 35,
   "id": "2b5a9521-1d5e-4fb3-af2f-0c14d28a5703",
   "metadata": {},
   "outputs": [],
   "source": [
    "%sh asadm --enable -e \"manage truncate ns test --no-warn\" -h \"127.0.0.1\""
   ]
  },
  {
   "cell_type": "code",
   "execution_count": 36,
   "id": "b56a6976-4466-4eeb-b90a-7369ccfd423d",
   "metadata": {},
   "outputs": [],
   "source": [
    "%sh aql -f \"./aqlScripts/devintro_data.aql\""
   ]
  },
  {
   "cell_type": "code",
   "execution_count": 37,
   "id": "ac7450d8-ae2b-4c0e-b614-24377b13bda9",
   "metadata": {},
   "outputs": [
    {
     "name": "stdout",
     "output_type": "stream",
     "text": [
      "(gen:1),(exp:475743536),(bins:(name:Jack),(age:26),(gender:m))\n"
     ]
    }
   ],
   "source": [
    "//Check\n",
    "//Using our rPolicy and key object declared earlier, read a one record.\n",
    "\n",
    "System.out.println( client.get(rPolicy, key) );\n"
   ]
  },
  {
   "cell_type": "code",
   "execution_count": 38,
   "id": "6878f0d4-54d1-4f12-bcb9-37ecba7ac773",
   "metadata": {},
   "outputs": [
    {
     "name": "stdout",
     "output_type": "stream",
     "text": [
      "(gen:2),(exp:475743536),(bins:(name:Don),(age:26),(gender:m))\n",
      "String returned by UDF: Don\n"
     ]
    }
   ],
   "source": [
    "String nameStr = \"Don\";\n",
    "String retStr = (String)client.execute(wPolicy, key, \"updateUserName\", \"updateName\", Value.get(nameStr));\n",
    "\n",
    "//Check\n",
    "System.out.println( client.get(rPolicy, key) );\n",
    "System.out.println( \"String returned by UDF: \"+ retStr);\n"
   ]
  },
  {
   "cell_type": "markdown",
   "id": "b8fe11a8-f946-475d-a9fa-0c165168d645",
   "metadata": {},
   "source": [
    "\n",
    "### **Note** : Our UDF infers the Value type. Let's run the same UDF by supplying an integer value instead. \n",
    "### &rarr; It is not the intent of the UDF, to store Integer for name, but it will do it.\n"
   ]
  },
  {
   "cell_type": "code",
   "execution_count": 39,
   "id": "12001e64-f3e2-4e56-b44e-2bd20e13e0da",
   "metadata": {},
   "outputs": [
    {
     "name": "stdout",
     "output_type": "stream",
     "text": [
      "(gen:3),(exp:475743537),(bins:(name:10),(age:26),(gender:m))\n",
      "String returned by UDF: 10\n"
     ]
    }
   ],
   "source": [
    "long nameInt = 10;\n",
    "long retInt = (long)client.execute(wPolicy, key, \"updateUserName\", \"updateName\", Value.get(nameInt));\n",
    "\n",
    "//Check\n",
    "System.out.println( client.get(rPolicy, key) );\n",
    "System.out.println( \"String returned by UDF: \"+ retInt);\n"
   ]
  },
  {
   "cell_type": "markdown",
   "id": "96dbe8b9-42ed-403b-9701-3dacb13f5805",
   "metadata": {},
   "source": [
    "\n",
    "### **&rarr;** There is no _Schema_ in Aerospike. Bin \"name\" could hold a String or an Integer later. Likewise, a bin of same name may hold data of different types in different records. \n",
    "\n",
    "### Of course, Data Modeling wise, we don't expect your application will ever do that.\n",
    "\n",
    "### UDFs use the **_Value_** type defined in the Aerospike Java Client Library."
   ]
  },
  {
   "cell_type": "markdown",
   "id": "3765cd7a-2cad-4a3b-97d6-52119bfe97c0",
   "metadata": {},
   "source": [
    "\n",
    "# Stream UDFs\n",
    "### These are read only, map-reduce type of aggregation execution.\n",
    "### They are typically executed on a sub-set of records in a namespace, the sub-set typically selected using a Secondary Index query.\n",
    "\n",
    "## So lets first explore Queries in Aerospike and then explore Stream UDFs\n"
   ]
  },
  {
   "cell_type": "markdown",
   "id": "39e223de-a048-4408-b39b-4eb77bacf4b0",
   "metadata": {},
   "source": [
    "<img src=\"./pngs/Slide39.png\"\n",
    "     alt=\"Slide39\"\n",
    "     style=\"float: left; margin-right: 10px;\"\n",
    "     width=\"1024\"\n",
    "     height=\"768\"/>"
   ]
  },
  {
   "cell_type": "markdown",
   "id": "98d2ad64-407b-44e3-90ab-80dcd3804036",
   "metadata": {},
   "source": [
    "\n",
    "# Basic Query - Secondary Index on a Bin\n",
    "## \"Where\" clause: e.g. Read and return all records where age is greater than 20 and less than 30.\n",
    "\n",
    "### Let's insert our 10 records and check our records on the server.\n"
   ]
  },
  {
   "cell_type": "code",
   "execution_count": 40,
   "id": "a71fbe25-3689-483e-bdb8-092e8d1a034a",
   "metadata": {},
   "outputs": [],
   "source": [
    "%sh aql -f \"./aqlScripts/devintro_data.aql\""
   ]
  },
  {
   "cell_type": "code",
   "execution_count": 41,
   "id": "379bcda6-ec9d-4877-af29-3fc3d3d60718",
   "metadata": {},
   "outputs": [
    {
     "name": "stdout",
     "output_type": "stream",
     "text": [
      "(gen:2),(exp:475743537),(bins:(name:Sandra),(age:34),(gender:f))\n",
      "(gen:4),(exp:475743537),(bins:(name:Jack),(age:26),(gender:m))\n",
      "(gen:2),(exp:475743537),(bins:(name:Jill),(age:20),(gender:f))\n",
      "(gen:2),(exp:475743537),(bins:(name:James),(age:38),(gender:m))\n",
      "(gen:2),(exp:475743537),(bins:(name:Jim),(age:46),(gender:m))\n",
      "(gen:2),(exp:475743537),(bins:(name:Julia),(age:62),(gender:f))\n",
      "(gen:2),(exp:475743537),(bins:(name:Sally),(age:32),(gender:f))\n",
      "(gen:2),(exp:475743537),(bins:(name:Sean),(age:24),(gender:m))\n",
      "(gen:2),(exp:475743537),(bins:(name:Sam),(age:12),(gender:m))\n",
      "(gen:2),(exp:475743537),(bins:(name:Susan),(age:42),(gender:f))\n"
     ]
    }
   ],
   "source": [
    "//Check\n",
    "for(int i=0; i<10; i++){\n",
    "    System.out.println( client.get(rPolicy, new Key(\"test\",\"testset\",\"key\"+i)));\n",
    "}\n"
   ]
  },
  {
   "cell_type": "markdown",
   "id": "efe65fcf-e947-4396-a5cb-bc710fb2fbf8",
   "metadata": {},
   "source": [
    "<img src=\"./pngs/Slide40.png\"\n",
    "     alt=\"Slide40\"\n",
    "     style=\"float: left; margin-right: 10px;\"\n",
    "     width=\"1024\"\n",
    "     height=\"768\"/>"
   ]
  },
  {
   "cell_type": "code",
   "execution_count": 42,
   "id": "aa5fc77d",
   "metadata": {},
   "outputs": [],
   "source": [
    "%sh asadm --enable -e \"manage sindex create numeric idx_age ns test set testset bin age\""
   ]
  },
  {
   "cell_type": "markdown",
   "id": "1bb359e5-0adf-4ab8-b4ea-877609e0ae60",
   "metadata": {},
   "source": [
    "\n",
    "#### Now that we created the Secondary Index on the age bin ...\n",
    "#### Let's get all records where age is greater than 20 and less than 30.\n",
    "\n",
    "#### We need to import Statement, Filter, RecordSet to hold the results and QueryPolicy which is derived from parent Policy class. \n",
    "\n",
    "#### We are currently not using any features of the QueryPolicy, we could as well have passed _null_ for QueryPolicy. We will explore some features of the QueryPolicy in a later topic.\n"
   ]
  },
  {
   "cell_type": "code",
   "execution_count": 43,
   "id": "cc282aad",
   "metadata": {},
   "outputs": [
    {
     "name": "stdout",
     "output_type": "stream",
     "text": [
      "(gen:2),(exp:475743537),(bins:(name:Sean),(age:24),(gender:m))\n",
      "(gen:2),(exp:475743537),(bins:(name:Jill),(age:20),(gender:f))\n",
      "(gen:4),(exp:475743537),(bins:(name:Jack),(age:26),(gender:m))\n"
     ]
    }
   ],
   "source": [
    "//Needed imports for running a Basic Secondary Index Query\n",
    "import com.aerospike.client.query.Statement;\n",
    "import com.aerospike.client.query.Filter;\n",
    "import com.aerospike.client.query.RecordSet;\n",
    "import com.aerospike.client.policy.QueryPolicy;\n",
    "\n",
    "//Run SI query\n",
    "Statement stmt = new Statement();\n",
    "stmt.setNamespace(\"test\");\n",
    "stmt.setSetName(\"testset\");\n",
    "stmt.setFilter(Filter.range(\"age\", 20,30));  //Change range and try.  or try Filter.equal(\"age\", 62)\n",
    "//stmt.setFilter(Filter.equal(\"age\", 62)); \n",
    "\n",
    "QueryPolicy qp = new QueryPolicy();\n",
    "\n",
    "RecordSet rs = client.query(qp, stmt);\n",
    "// RecordSet rs = client.query(null, stmt);   //null would work too, not using any QueryPolicy features yet.  Try it.\n",
    "\n",
    "while (rs.next()){\n",
    "  Record r = rs.getRecord();\n",
    "  System.out.println(r);\n",
    "}"
   ]
  },
  {
   "cell_type": "markdown",
   "id": "107e9630-07df-4e94-b330-8f7b6793d00d",
   "metadata": {},
   "source": [
    "\n",
    "#### We created the Secondary Index on the age bin of type _NUMERIC_.\n",
    "#### Let's try a SI of type _STRING_ on the name bin. In _string_ we can only apply the case sensitive _EQUALITY_ filter. \n",
    "\n",
    "#### Get all records where _gender_ is equal to _f_.\n",
    "\n",
    "#### We first need to add another Secondary Index"
   ]
  },
  {
   "cell_type": "code",
   "execution_count": 44,
   "id": "45de336c-d21f-4207-b423-78ca7d68d918",
   "metadata": {},
   "outputs": [],
   "source": [
    "%sh asadm --enable -e \"manage sindex create string idx_gender ns test set testset bin gender\""
   ]
  },
  {
   "cell_type": "markdown",
   "id": "e68ec211-d8f6-4999-8272-ac4666a5685b",
   "metadata": {},
   "source": [
    "\n",
    "#### We can reuse our Statement object, just update the filter, and let's just use _null_ for QueryPolicy."
   ]
  },
  {
   "cell_type": "code",
   "execution_count": 45,
   "id": "f3048d46-b9ab-4037-97d4-8263938e6316",
   "metadata": {},
   "outputs": [
    {
     "name": "stdout",
     "output_type": "stream",
     "text": [
      "(gen:2),(exp:475743537),(bins:(name:Susan),(age:42),(gender:f))\n",
      "(gen:2),(exp:475743537),(bins:(name:Sally),(age:32),(gender:f))\n",
      "(gen:2),(exp:475743537),(bins:(name:Julia),(age:62),(gender:f))\n",
      "(gen:2),(exp:475743537),(bins:(name:Sandra),(age:34),(gender:f))\n",
      "(gen:2),(exp:475743537),(bins:(name:Jill),(age:20),(gender:f))\n"
     ]
    }
   ],
   "source": [
    "stmt.setFilter(Filter.equal(\"gender\", \"f\")); \n",
    "\n",
    "RecordSet rs = client.query(null, stmt);   //Using null for QueryPolicy\n",
    "\n",
    "while (rs.next()){\n",
    "  Record r = rs.getRecord();\n",
    "  System.out.println(r);\n",
    "}"
   ]
  },
  {
   "cell_type": "markdown",
   "id": "e33ce536-8986-4bdf-8d6c-55eb2800fb70",
   "metadata": {},
   "source": [
    "\n",
    "#### What would happen if I ran a query but did not create the Secondary Index?  Let's _delete_ our _idx_name_ and catch the Exception."
   ]
  },
  {
   "cell_type": "code",
   "execution_count": 46,
   "id": "72ddb3d3-e24f-4bf4-91eb-24e66719c259",
   "metadata": {},
   "outputs": [],
   "source": [
    "%sh asadm --enable -e \"manage sindex delete idx_gender ns test set testset\""
   ]
  },
  {
   "cell_type": "code",
   "execution_count": 47,
   "id": "1823cb6c-4cbf-4e66-babc-239141c13104",
   "metadata": {},
   "outputs": [
    {
     "name": "stdout",
     "output_type": "stream",
     "text": [
      "Error 201,6,0,30000,0,5,A1 127.0.0.1 3000: Index not found\n",
      "sub-exceptions:\n",
      "Error 201,1,0,30000,0,5,A1 127.0.0.1 3000: Index not found\n",
      "Error 201,2,0,30000,0,5,A1 127.0.0.1 3000: Index not found\n",
      "Error 201,3,0,30000,0,5,A1 127.0.0.1 3000: Index not found\n",
      "Error 201,4,0,30000,0,5,A1 127.0.0.1 3000: Index not found\n",
      "Error 201,5,0,30000,0,5,A1 127.0.0.1 3000: Index not found\n",
      "Error 201,6,0,30000,0,5,A1 127.0.0.1 3000: Index not found\n",
      "\n"
     ]
    }
   ],
   "source": [
    "stmt.setFilter(Filter.equal(\"gender\", \"f\")); \n",
    "\n",
    "try {\n",
    "    RecordSet rs = client.query(null, stmt);   //Execute in try-catch\n",
    "    while (rs.next()){\n",
    "      Record r = rs.getRecord();\n",
    "      System.out.println(r);\n",
    "    }\n",
    "}\n",
    "catch(AerospikeException e){\n",
    "    System.out.println(e.getMessage());\n",
    "}\n"
   ]
  },
  {
   "cell_type": "markdown",
   "id": "6ba00a85-c527-42b0-96ca-2da2e4649af8",
   "metadata": {},
   "source": [
    "\n",
    "#### Why so many **sub-exceptions**?  Query, by default retries 5 times. So, 1 + 5 = 6 attempts. Let's change _maxRetries_ from default **5 to 2**.\n"
   ]
  },
  {
   "cell_type": "code",
   "execution_count": 48,
   "id": "2c2c1788-04fb-4d4e-a36f-d02b0e488242",
   "metadata": {},
   "outputs": [
    {
     "name": "stdout",
     "output_type": "stream",
     "text": [
      "Error 201,3,0,30000,0,2,A1 127.0.0.1 3000: Index not found\n",
      "sub-exceptions:\n",
      "Error 201,1,0,30000,0,2,A1 127.0.0.1 3000: Index not found\n",
      "Error 201,2,0,30000,0,2,A1 127.0.0.1 3000: Index not found\n",
      "Error 201,3,0,30000,0,2,A1 127.0.0.1 3000: Index not found\n",
      "\n"
     ]
    }
   ],
   "source": [
    "stmt.setFilter(Filter.equal(\"gender\", \"f\")); \n",
    "qp.maxRetries = 2;  //Let's use our QueryPolicy object, qp\n",
    "\n",
    "try {\n",
    "    RecordSet rs = client.query(qp, stmt);   //Use QueryPolicy object instead of null\n",
    "    while (rs.next()){\n",
    "      Record r = rs.getRecord();\n",
    "      System.out.println(r);\n",
    "    }\n",
    "}\n",
    "catch(AerospikeException e){\n",
    "    System.out.println(e.getMessage());\n",
    "}\n"
   ]
  },
  {
   "cell_type": "markdown",
   "id": "7f06807c-eb2c-4c85-9deb-f4002eafb7b7",
   "metadata": {},
   "source": [
    "\n",
    "#### Note: 1 original + 2 retries now.\n"
   ]
  },
  {
   "cell_type": "markdown",
   "id": "6947a4c9-7f5a-4aeb-b502-7caf316aff22",
   "metadata": {},
   "source": [
    "\n",
    "### What if I want to scan (retrieve all records) in a _set_ within a _namespace_?\n",
    "### &rarr; Well, all I have to do is to not define the Statement _filter_. \n",
    "### The entire Primary Index is scanned for that namespace.\n",
    "### It returns records whose set name match the set name in the Primary Index (internal 12 bit hash table for 4K sets, including the null set.)\n"
   ]
  },
  {
   "cell_type": "code",
   "execution_count": 49,
   "id": "92449031-c34f-4112-bfcb-68035e24ae10",
   "metadata": {},
   "outputs": [
    {
     "name": "stdout",
     "output_type": "stream",
     "text": [
      "(gen:2),(exp:475743537),(bins:(name:Susan),(age:42),(gender:f))\n",
      "(gen:2),(exp:475743537),(bins:(name:Sean),(age:24),(gender:m))\n",
      "(gen:2),(exp:475743537),(bins:(name:Sandra),(age:34),(gender:f))\n",
      "(gen:2),(exp:475743537),(bins:(name:Jill),(age:20),(gender:f))\n",
      "(gen:2),(exp:475743537),(bins:(name:Jim),(age:46),(gender:m))\n",
      "(gen:4),(exp:475743537),(bins:(name:Jack),(age:26),(gender:m))\n",
      "(gen:2),(exp:475743537),(bins:(name:Sam),(age:12),(gender:m))\n",
      "(gen:2),(exp:475743537),(bins:(name:James),(age:38),(gender:m))\n",
      "(gen:2),(exp:475743537),(bins:(name:Sally),(age:32),(gender:f))\n",
      "(gen:2),(exp:475743537),(bins:(name:Julia),(age:62),(gender:f))\n"
     ]
    }
   ],
   "source": [
    "//Run Primary Index query\n",
    "Statement stmt = new Statement();\n",
    "stmt.setNamespace(\"test\");\n",
    "stmt.setSetName(\"testset\");\n",
    "//stmt.setFilter(Filter.range(\"age\", 20,30));  //Change range and try.  or try Filter.equal(\"age\", 62)\n",
    "//stmt.setFilter(Filter.equal(\"age\", 62)); \n",
    "\n",
    "stmt.setFilter(null);  //No Secondary Index Filter\n",
    "\n",
    "RecordSet rs = client.query(null, stmt); //Using null for QueryPolicy \n",
    "\n",
    "while (rs.next()){\n",
    "  Record r = rs.getRecord();\n",
    "  System.out.println(r);\n",
    "}"
   ]
  },
  {
   "cell_type": "markdown",
   "id": "e1b2a61f-9bc1-4654-a785-4345e4c66340",
   "metadata": {},
   "source": [
    "\n",
    "### However, this would be quite inefficient if had majority of the records in other _sets_ in my _namespace_. I will be taking each record, determining the _set_ and then rejecting mostly because it was from a different _set_. Is there a better way?\n",
    "### &rarr; Yes - you can define a **set-index**. It builds an alternate search tree that refers to the Primary Indices of only the records in this set.\n",
    "\n"
   ]
  },
  {
   "cell_type": "markdown",
   "id": "335a41e1-6eab-4108-9a96-d2e80df33dda",
   "metadata": {},
   "source": [
    "<img src=\"./pngs/Slide41.png\"\n",
    "     alt=\"Slide41\"\n",
    "     style=\"float: left; margin-right: 10px;\"\n",
    "     width=\"1024\"\n",
    "     height=\"768\"/>"
   ]
  },
  {
   "cell_type": "markdown",
   "id": "24938177-9aa1-4cf7-a75e-399937c53c94",
   "metadata": {},
   "source": [
    "<img src=\"./pngs/Slide42.png\"\n",
    "     alt=\"Slide42\"\n",
    "     style=\"float: left; margin-right: 10px;\"\n",
    "     width=\"1024\"\n",
    "     height=\"768\"/>"
   ]
  },
  {
   "cell_type": "markdown",
   "id": "cf4c225b-bc2d-4b68-bcd8-631ed8cb569c",
   "metadata": {},
   "source": [
    "\n",
    "\n",
    "### Let's use _asadm_ to define a set-index  (It is actually a dynamic namespace configuration parameter which we can enable via _asadm_.)\n"
   ]
  },
  {
   "cell_type": "code",
   "execution_count": 50,
   "id": "0d1afb10-d835-4202-8fb1-1fa8aeb2f948",
   "metadata": {},
   "outputs": [],
   "source": [
    "%sh asadm --enable -e \"manage config namespace test set testset param enable-index to true\""
   ]
  },
  {
   "cell_type": "markdown",
   "id": "316f3e5d-3278-4dfc-9e68-396e70f0e95c",
   "metadata": {},
   "source": [
    "\n",
    "### To check if the dynamic configuration got enabled, in a terminal window:\n",
    "```\n",
    "Admin> info set\n",
    "~~~~~~~~~~~~~~~~~~~~~~~~~~~~~~~Set Information (2025-01-22 06:59:19 UTC)~~~~~~~~~~~~~~~~~~~~~~~~~~~~~~~~\n",
    "Namespace|    Set|                            Node|   Storage|~~Size~~|   Total|~Records~| Disable|  Set\n",
    "         |       |                                |    Engine|~Quota~~| Records|~~Quota~~|Eviction|Index\n",
    "         |       |                                |      Used|   Total|        |    Total|        |     \n",
    "test     |testset|ip-172-31-3-62.ec2.internal:3000|816.000 B |0.000 B |10.000  |        0|False   |Yes  \n",
    "test     |testset|                                |816.000 B |0.000 B |10.000  |         |        |     \n",
    "Number of rows: 1\n",
    "```\n",
    "\n",
    "## For namespace **test**, set **testset**, we see **Set Index** is **Yes.** \n",
    "\n",
    "#### Now if we re-run the same query, it will leverage this set-index. \n",
    "#### Result will be the same, it will just execute at the server in a much more efficient way <u>if this set had less than 0.1 percent of the total number of records</u> in this namespace.  **(1:1000 ratio)**\n",
    "#### As the number of records in the set becomes a higher percentage, the set-index performance advantage starts fading because it is a two step search.  (So, in this made up example, it is actually worse since 100% of the records are in this set.)"
   ]
  },
  {
   "cell_type": "code",
   "execution_count": 51,
   "id": "3b759097-3e7e-4556-9ccc-327ad2916939",
   "metadata": {},
   "outputs": [
    {
     "name": "stdout",
     "output_type": "stream",
     "text": [
      "(gen:2),(exp:475743537),(bins:(name:Jim),(age:46),(gender:m))\n",
      "(gen:4),(exp:475743537),(bins:(name:Jack),(age:26),(gender:m))\n",
      "(gen:2),(exp:475743537),(bins:(name:Sam),(age:12),(gender:m))\n",
      "(gen:2),(exp:475743537),(bins:(name:James),(age:38),(gender:m))\n",
      "(gen:2),(exp:475743537),(bins:(name:Susan),(age:42),(gender:f))\n",
      "(gen:2),(exp:475743537),(bins:(name:Sean),(age:24),(gender:m))\n",
      "(gen:2),(exp:475743537),(bins:(name:Sally),(age:32),(gender:f))\n",
      "(gen:2),(exp:475743537),(bins:(name:Julia),(age:62),(gender:f))\n",
      "(gen:2),(exp:475743537),(bins:(name:Sandra),(age:34),(gender:f))\n",
      "(gen:2),(exp:475743537),(bins:(name:Jill),(age:20),(gender:f))\n"
     ]
    }
   ],
   "source": [
    "//Run Primary Index query with Set Index enabled on set: testset in namespace: test\n",
    "Statement stmt = new Statement();\n",
    "stmt.setNamespace(\"test\");\n",
    "stmt.setSetName(\"testset\");\n",
    "stmt.setFilter(null);  //No Secondary Index Filter\n",
    "\n",
    "RecordSet rs = client.query(null, stmt); //Using null for QueryPolicy \n",
    "\n",
    "while (rs.next()){\n",
    "  Record r = rs.getRecord();\n",
    "  System.out.println(r);\n",
    "}"
   ]
  },
  {
   "cell_type": "markdown",
   "id": "f190ad01-d932-4d87-979c-6ab187470fae",
   "metadata": {},
   "source": [
    "\n",
    "#### Let's use _asadm_ to delete the set-index configuration dynamically.   \n"
   ]
  },
  {
   "cell_type": "code",
   "execution_count": 52,
   "id": "9d741166-56db-4769-8af9-045348598d4f",
   "metadata": {},
   "outputs": [],
   "source": [
    "%sh asadm --enable -e \"manage config namespace test set testset param enable-index to false\""
   ]
  },
  {
   "cell_type": "markdown",
   "id": "d0b6664a-276e-4e60-a9c3-4324c7ba81a4",
   "metadata": {},
   "source": [
    "\n",
    "#### You can double check in a terminal if **_enable-index_** now shows **_false_**.  \n",
    "#### (This is an alternative to _asadm> info set_ to check set configuration and statistics.)\n",
    "```\n",
    "Admin> enable\n",
    "Admin+> asinfo -v 'sets/test/testset'\n",
    "ip-172-31-3-62.ec2.internal:3000 (172.31.70.230) returned:\n",
    "objects=10:tombstones=0:data_used_bytes=816:truncate_lut=0:sindexes=2:index_populating=false:truncating=false:default-read-touch-ttl-pct=0:default-ttl=0:disable-eviction=false:enable-index=false:stop-writes-count=0:stop-writes-size=0;\n",
    "```"
   ]
  },
  {
   "cell_type": "markdown",
   "id": "dae29426-646c-4692-b69e-33c2a963a51d",
   "metadata": {},
   "source": [
    "# Back to our Queries Overview\n",
    "#### We covered Basic Queries at an Introductory Level.  We have not covered managing Query progress at the client level, _\"Pagination\"_ - but just know for now that basic query progress can now be controlled at the client level.  [queryPartitions() API]\n",
    "#### We covered Secondary Index query, Primary Index Query (earlier called Scan) and learned about Set Index as well.\n",
    "#### Next, take a look at background execution using a UDF, at an introductory level, to understand the concept.  \n",
    "#### We will cover Background Operations after learning about Expressions, an advanced topic.  They are defined in the Statement object via setOperations().\n",
    "\n",
    "#### Thereafter, we will cover Aggregations at this introductory level.\n",
    "\n",
    "#### **Note**: Statement object's setOperations() are ignored in a Basic Query and Aggregations."
   ]
  },
  {
   "cell_type": "markdown",
   "id": "ecf2be52-c1da-4f1d-95da-ce13f6fd0fa7",
   "metadata": {},
   "source": [
    "<img src=\"./pngs/Slide43.png\"\n",
    "     alt=\"Slide43\"\n",
    "     style=\"float: left; margin-right: 10px;\"\n",
    "     width=\"1024\"\n",
    "     height=\"768\"/>"
   ]
  },
  {
   "cell_type": "markdown",
   "id": "865cf149",
   "metadata": {},
   "source": [
    "# Updating Records in the Background \n",
    "#### We will run our Record UDF (Change Name) in the Background to update all records in a Namespace + Specific Set. \n",
    "#### It can also be run at the entire namespace level, regardless of the set.\n",
    "\n",
    "#### Let's start by re-inserting our 10 test records and checking the data."
   ]
  },
  {
   "cell_type": "code",
   "execution_count": 53,
   "id": "cd42e746-1ae4-4786-aea6-9dbe0b253406",
   "metadata": {},
   "outputs": [],
   "source": [
    "%sh aql -f \"./aqlScripts/devintro_data.aql\""
   ]
  },
  {
   "cell_type": "code",
   "execution_count": 54,
   "id": "9cf99377-cb5b-45cb-9619-1bd5429a1155",
   "metadata": {},
   "outputs": [
    {
     "name": "stdout",
     "output_type": "stream",
     "text": [
      "(gen:3),(exp:475743544),(bins:(name:Sandra),(age:34),(gender:f))\n",
      "(gen:5),(exp:475743544),(bins:(name:Jack),(age:26),(gender:m))\n",
      "(gen:3),(exp:475743544),(bins:(name:Jill),(age:20),(gender:f))\n",
      "(gen:3),(exp:475743544),(bins:(name:James),(age:38),(gender:m))\n",
      "(gen:3),(exp:475743544),(bins:(name:Jim),(age:46),(gender:m))\n",
      "(gen:3),(exp:475743544),(bins:(name:Julia),(age:62),(gender:f))\n",
      "(gen:3),(exp:475743544),(bins:(name:Sally),(age:32),(gender:f))\n",
      "(gen:3),(exp:475743544),(bins:(name:Sean),(age:24),(gender:m))\n",
      "(gen:3),(exp:475743544),(bins:(name:Sam),(age:12),(gender:m))\n",
      "(gen:3),(exp:475743544),(bins:(name:Susan),(age:42),(gender:f))\n"
     ]
    }
   ],
   "source": [
    "//Check\n",
    "for(int i=0; i<10; i++){\n",
    "    System.out.println( client.get(rPolicy, new Key(\"test\",\"testset\",\"key\"+i)));\n",
    "}\n"
   ]
  },
  {
   "cell_type": "markdown",
   "id": "0472fe05-ef67-4b9f-8e09-b8a5fb19004c",
   "metadata": {},
   "source": [
    "#### And check our Record UDF is still there on the system (Do below in a terminal window)\n",
    "```\n",
    "$ aql\n",
    "aql> set output raw\n",
    "OUTPUT = RAW\n",
    "aql> desc module updateUserName.lua\n",
    "*************************** 1. row ***************************\n",
    "content: \"function updateName(topRec,name)\n",
    "   -- Log current name\n",
    "   debug(\"current name: \" .. topRec['name'])\n",
    "   -- Assign new name to the user record\n",
    "   topRec['name'] = name\n",
    "   -- Update user record\n",
    "   aerospike:update(topRec)\n",
    "   -- Log new password\n",
    "   debug(\"new name: \" .. topRec['name'])\n",
    "   -- return new name\n",
    "   return topRec['name']\n",
    "end\n",
    "\"\n",
    "type: \"LUA\"\n",
    "aql> exit\n",
    "```"
   ]
  },
  {
   "cell_type": "markdown",
   "id": "2a626588-f00b-4595-85f9-d979a6888a01",
   "metadata": {},
   "source": [
    "### Executing a UDF in the Background\n",
    "#### Similar code contruct as query(), except we now call the execute() API.\n",
    "#### It's a background job, so it does not return any records back. \n",
    "#### Job is started and the control returns back to the application immediately thereafter.  Job executes in the background.\n",
    "#### DevOps content will cover how to monitor background jobs progress."
   ]
  },
  {
   "cell_type": "code",
   "execution_count": 55,
   "id": "3dee5ea8-40ad-40f7-b95c-767d79af6ea7",
   "metadata": {},
   "outputs": [
    {
     "data": {
      "text/plain": [
       "com.aerospike.client.task.ExecuteTask@60a78b3d"
      ]
     },
     "execution_count": 55,
     "metadata": {},
     "output_type": "execute_result"
    }
   ],
   "source": [
    "//Instead of query(), use execute()\n",
    "Statement stmt = new Statement();\n",
    "stmt.setNamespace(\"test\");\n",
    "stmt.setSetName(\"testset\");\n",
    "stmt.setFilter(null);  //No Secondary Index Filter - so update all records.( But can be used to update just a subset.)\n",
    "\n",
    "//RecordSet rs = client.query(null, stmt); //Using null for QueryPolicy \n",
    "\n",
    "//Uses WritePolicy\n",
    "client.execute(wPolicy, stmt, \"updateUserName\", \"updateName\", Value.get(\"Aerospike\"));\n"
   ]
  },
  {
   "cell_type": "code",
   "execution_count": 56,
   "id": "8b08af23-7c76-461a-a4b1-a701dd4d93ea",
   "metadata": {},
   "outputs": [
    {
     "name": "stdout",
     "output_type": "stream",
     "text": [
      "(gen:4),(exp:475743544),(bins:(name:Aerospike),(age:34),(gender:f))\n",
      "(gen:6),(exp:475743544),(bins:(name:Aerospike),(age:26),(gender:m))\n",
      "(gen:4),(exp:475743544),(bins:(name:Aerospike),(age:20),(gender:f))\n",
      "(gen:4),(exp:475743544),(bins:(name:Aerospike),(age:38),(gender:m))\n",
      "(gen:4),(exp:475743544),(bins:(name:Aerospike),(age:46),(gender:m))\n",
      "(gen:4),(exp:475743544),(bins:(name:Aerospike),(age:62),(gender:f))\n",
      "(gen:4),(exp:475743544),(bins:(name:Aerospike),(age:32),(gender:f))\n",
      "(gen:4),(exp:475743544),(bins:(name:Aerospike),(age:24),(gender:m))\n",
      "(gen:4),(exp:475743544),(bins:(name:Aerospike),(age:12),(gender:m))\n",
      "(gen:4),(exp:475743544),(bins:(name:Aerospike),(age:42),(gender:f))\n"
     ]
    }
   ],
   "source": [
    "//Check\n",
    "for(int i=0; i<10; i++){\n",
    "    System.out.println( client.get(rPolicy, new Key(\"test\",\"testset\",\"key\"+i)));\n",
    "}"
   ]
  },
  {
   "cell_type": "markdown",
   "id": "d03f7f5a-e230-47e2-a8c0-7b355e930e2f",
   "metadata": {},
   "source": [
    "### Lets try with Secondary Index on age, we still have that Sindex defined.\n",
    "\n",
    "#### Let's start by re-inserting our 10 test records and checking the data."
   ]
  },
  {
   "cell_type": "code",
   "execution_count": 57,
   "id": "013777af-a611-4869-98dc-40f439263072",
   "metadata": {},
   "outputs": [],
   "source": [
    "%sh aql -f \"./aqlScripts/devintro_data.aql\""
   ]
  },
  {
   "cell_type": "code",
   "execution_count": 58,
   "id": "b8a4a62e-caf4-47e5-8ec6-ea327422db7b",
   "metadata": {},
   "outputs": [
    {
     "name": "stdout",
     "output_type": "stream",
     "text": [
      "(gen:5),(exp:475743545),(bins:(name:Sandra),(age:34),(gender:f))\n",
      "(gen:7),(exp:475743545),(bins:(name:Jack),(age:26),(gender:m))\n",
      "(gen:5),(exp:475743545),(bins:(name:Jill),(age:20),(gender:f))\n",
      "(gen:5),(exp:475743545),(bins:(name:James),(age:38),(gender:m))\n",
      "(gen:5),(exp:475743545),(bins:(name:Jim),(age:46),(gender:m))\n",
      "(gen:5),(exp:475743545),(bins:(name:Julia),(age:62),(gender:f))\n",
      "(gen:5),(exp:475743545),(bins:(name:Sally),(age:32),(gender:f))\n",
      "(gen:5),(exp:475743545),(bins:(name:Sean),(age:24),(gender:m))\n",
      "(gen:5),(exp:475743545),(bins:(name:Sam),(age:12),(gender:m))\n",
      "(gen:5),(exp:475743545),(bins:(name:Susan),(age:42),(gender:f))\n"
     ]
    }
   ],
   "source": [
    "//Check\n",
    "for(int i=0; i<10; i++){\n",
    "    System.out.println( client.get(rPolicy, new Key(\"test\",\"testset\",\"key\"+i)));\n",
    "}"
   ]
  },
  {
   "cell_type": "markdown",
   "id": "6f2374ec-3ff4-4531-9fcb-b3fe661e817d",
   "metadata": {},
   "source": [
    "#### Change the name for only the records where age is between 20 and 32.\n",
    "#### **Note:** SI Filter range definition is inclusive"
   ]
  },
  {
   "cell_type": "code",
   "execution_count": 59,
   "id": "777a7216-ac44-4ee3-977f-b1c99859fd38",
   "metadata": {},
   "outputs": [
    {
     "data": {
      "text/plain": [
       "com.aerospike.client.task.ExecuteTask@2c16b348"
      ]
     },
     "execution_count": 59,
     "metadata": {},
     "output_type": "execute_result"
    }
   ],
   "source": [
    "//Change the name for only the records where age is between 20 and 32, SI Filter range definition is inclusive\n",
    "Statement stmt = new Statement();\n",
    "stmt.setNamespace(\"test\");\n",
    "stmt.setSetName(\"testset\");\n",
    "stmt.setFilter(Filter.range(\"age\",20,32));  //Select records to change based on a Secondary Index Filter\n",
    "\n",
    "client.execute(wPolicy, stmt, \"updateUserName\", \"updateName\", Value.get(\"Aerospike\"));\n"
   ]
  },
  {
   "cell_type": "code",
   "execution_count": 60,
   "id": "c5a62f3f-830b-4905-80f4-827ba02c56e7",
   "metadata": {},
   "outputs": [
    {
     "name": "stdout",
     "output_type": "stream",
     "text": [
      "(gen:5),(exp:475743545),(bins:(name:Sandra),(age:34),(gender:f))\n",
      "(gen:8),(exp:475743545),(bins:(name:Aerospike),(age:26),(gender:m))\n",
      "(gen:6),(exp:475743545),(bins:(name:Aerospike),(age:20),(gender:f))\n",
      "(gen:5),(exp:475743545),(bins:(name:James),(age:38),(gender:m))\n",
      "(gen:5),(exp:475743545),(bins:(name:Jim),(age:46),(gender:m))\n",
      "(gen:5),(exp:475743545),(bins:(name:Julia),(age:62),(gender:f))\n",
      "(gen:6),(exp:475743545),(bins:(name:Aerospike),(age:32),(gender:f))\n",
      "(gen:6),(exp:475743545),(bins:(name:Aerospike),(age:24),(gender:m))\n",
      "(gen:5),(exp:475743545),(bins:(name:Sam),(age:12),(gender:m))\n",
      "(gen:5),(exp:475743545),(bins:(name:Susan),(age:42),(gender:f))\n"
     ]
    }
   ],
   "source": [
    "//Check\n",
    "for(int i=0; i<10; i++){\n",
    "    System.out.println( client.get(rPolicy, new Key(\"test\",\"testset\",\"key\"+i)));\n",
    "}"
   ]
  },
  {
   "cell_type": "markdown",
   "id": "1c5c182d-c964-422d-8e0b-8b7306e500fd",
   "metadata": {},
   "source": [
    "### A Word about Background Operations & Background UDF executions\n",
    "#### They are not robust under cluster change, if it happens while the execution is ongoing.\n",
    "#### They are launched on each node of the cluster and if a node is added in or drops out during execution, outcome consistency is not guaranteed.\n",
    "### &rarr; Use Background Execution for _IDEMPOTENT_ changes only, unless consistency does not matter for the data model.\n",
    "#### For example, if you use a background execution to purge older or unneeded data to recover space, if some records don't get purged in this go around, because the cluster happened to change, it may not matter.\n"
   ]
  },
  {
   "cell_type": "markdown",
   "id": "bf9fd66c-dbf8-4059-a16a-5af278c9ead9",
   "metadata": {},
   "source": [
    "# Aggregations using Stream UDFs\n",
    "### Map-Reduce type, Read Only aggregation execution. \n",
    "### Request is sent to all nodes of the cluster.  Each node does its share of the aggregation and returns the result to the client. Final aggregation is done at the client.\n",
    "### Data Modeling wise - keep the aggregated value returned to the client concise. Do not overload the network by sending back humungous chunks of data from each node.\n",
    "### Not robust under cluster change. (You can read cluster-key before and after, use results if the key did not change.)\n",
    "\n",
    "### Let's do a quick review of some basic concepts."
   ]
  },
  {
   "cell_type": "markdown",
   "id": "afa0ebdd-ae5d-46de-863e-b7572183c1f6",
   "metadata": {},
   "source": [
    "<img src=\"./pngs/Slide44.png\"\n",
    "     alt=\"Slide44\"\n",
    "     style=\"float: left; margin-right: 10px;\"\n",
    "     width=\"1024\"\n",
    "     height=\"768\"/>"
   ]
  },
  {
   "cell_type": "markdown",
   "id": "e11097d4-7f0b-4213-a3bf-37f2fd1c92c7",
   "metadata": {},
   "source": [
    "<img src=\"./pngs/Slide45.png\"\n",
    "     alt=\"Slide45\"\n",
    "     style=\"float: left; margin-right: 10px;\"\n",
    "     width=\"1024\"\n",
    "     height=\"768\"/>"
   ]
  },
  {
   "cell_type": "markdown",
   "id": "6be7c8df-a37a-4917-96ec-04327051c94b",
   "metadata": {},
   "source": [
    "<img src=\"./pngs/Slide46.png\"\n",
    "     alt=\"Slide46\"\n",
    "     style=\"float: left; margin-right: 10px;\"\n",
    "     width=\"1024\"\n",
    "     height=\"768\"/>"
   ]
  },
  {
   "cell_type": "markdown",
   "id": "2891ba2e-9b1f-490f-88a0-da70cc4a5365",
   "metadata": {},
   "source": [
    "<img src=\"./pngs/Slide47.png\"\n",
    "     alt=\"Slide47\"\n",
    "     style=\"float: left; margin-right: 10px;\"\n",
    "     width=\"1024\"\n",
    "     height=\"768\"/>"
   ]
  },
  {
   "cell_type": "markdown",
   "id": "f7d6dcc4-dae1-43b7-a468-ddf6c29bf691",
   "metadata": {},
   "source": [
    "<img src=\"./pngs/Slide48.png\"\n",
    "     alt=\"Slide48\"\n",
    "     style=\"float: left; margin-right: 10px;\"\n",
    "     width=\"1024\"\n",
    "     height=\"768\"/>"
   ]
  },
  {
   "cell_type": "markdown",
   "id": "8adbcbe5-5250-49ff-8cf4-b8eb41fc8333",
   "metadata": {},
   "source": [
    "<img src=\"./pngs/Slide49.png\"\n",
    "     alt=\"Slide49\"\n",
    "     style=\"float: left; margin-right: 10px;\"\n",
    "     width=\"1024\"\n",
    "     height=\"768\"/>"
   ]
  },
  {
   "cell_type": "markdown",
   "id": "49f23cab-9e95-4fe4-86fc-423a9376ec9b",
   "metadata": {},
   "source": [
    "<img src=\"./pngs/Slide50.png\"\n",
    "     alt=\"Slide50\"\n",
    "     style=\"float: left; margin-right: 10px;\"\n",
    "     width=\"1024\"\n",
    "     height=\"768\"/>"
   ]
  },
  {
   "cell_type": "markdown",
   "id": "ac2c0ffd-b018-4efa-9dbd-137c341dec4c",
   "metadata": {},
   "source": [
    "<img src=\"./pngs/Slide51.png\"\n",
    "     alt=\"Slide51\"\n",
    "     style=\"float: left; margin-right: 10px;\"\n",
    "     width=\"1024\"\n",
    "     height=\"768\"/>"
   ]
  },
  {
   "cell_type": "markdown",
   "id": "8031bed7-3466-4cf0-a765-188cfc631757",
   "metadata": {},
   "source": [
    "<img src=\"./pngs/Slide52.png\"\n",
    "     alt=\"Slide52\"\n",
    "     style=\"float: left; margin-right: 10px;\"\n",
    "     width=\"1024\"\n",
    "     height=\"768\"/>"
   ]
  },
  {
   "cell_type": "code",
   "execution_count": 61,
   "id": "77107007",
   "metadata": {},
   "outputs": [],
   "source": [
    "%sh aql -f \"./aqlScripts/devintro_data.aql\""
   ]
  },
  {
   "cell_type": "code",
   "execution_count": 62,
   "id": "d3498fb8-12f9-42af-a165-a08755d27e3c",
   "metadata": {},
   "outputs": [
    {
     "name": "stdout",
     "output_type": "stream",
     "text": [
      "(gen:6),(exp:475743552),(bins:(name:Sandra),(age:34),(gender:f))\n",
      "(gen:9),(exp:475743552),(bins:(name:Jack),(age:26),(gender:m))\n",
      "(gen:7),(exp:475743552),(bins:(name:Jill),(age:20),(gender:f))\n",
      "(gen:6),(exp:475743552),(bins:(name:James),(age:38),(gender:m))\n",
      "(gen:6),(exp:475743552),(bins:(name:Jim),(age:46),(gender:m))\n",
      "(gen:6),(exp:475743552),(bins:(name:Julia),(age:62),(gender:f))\n",
      "(gen:7),(exp:475743552),(bins:(name:Sally),(age:32),(gender:f))\n",
      "(gen:7),(exp:475743552),(bins:(name:Sean),(age:24),(gender:m))\n",
      "(gen:6),(exp:475743552),(bins:(name:Sam),(age:12),(gender:m))\n",
      "(gen:6),(exp:475743552),(bins:(name:Susan),(age:42),(gender:f))\n"
     ]
    }
   ],
   "source": [
    "//Check\n",
    "for(int i=0; i<10; i++){\n",
    "    System.out.println( client.get(rPolicy, new Key(\"test\",\"testset\",\"key\"+i)));\n",
    "}"
   ]
  },
  {
   "cell_type": "code",
   "execution_count": 63,
   "id": "7833c3b6-8183-4fe7-9425-d632cf8c53e8",
   "metadata": {},
   "outputs": [],
   "source": [
    "%sh asadm --enable -e \"manage udfs add getAverageAgeAggregates.lua path ./udf/getAverageAgeAggregates.lua\""
   ]
  },
  {
   "cell_type": "markdown",
   "id": "b1737d2b-b4ee-4d6a-b413-c6b94e194dc1",
   "metadata": {},
   "source": [
    "#### Check in a terminal window, if it uploaded correctly.\n",
    "```\n",
    "$ aql\n",
    "aql> set output raw\n",
    "OUTPUT = RAW\n",
    "aql> desc module getAverageAgeAggregates.lua\n",
    "*************************** 1. row ***************************\n",
    "content: \"local function my_aggregation_fn(result, rec)\n",
    "  -- Initialize the age_sum with 0 and accumulate each incoming rec's age value\n",
    "  -- If the count of rec itmes does not exist, initialize it with 1\n",
    "  -- Else increment the existing counter\n",
    "  result['age_sum'] = (result['age_sum'] or 0) + rec['age']\n",
    "  result['count'] = (result['count'] or 0) + 1\n",
    "  return result\n",
    "end\n",
    "\n",
    "local function my_reduce_fn(global_agg, next_agg)\n",
    "  global_agg['count'] = global_agg['count'] + next_agg['count']\n",
    "  global_agg['age_sum'] = global_agg['age_sum'] + next_agg['age_sum']\n",
    "  return global_agg\n",
    "end\n",
    "\n",
    "function getAgeAggregates(stream, min_age, gen)\n",
    "\n",
    "  local function my_filter_fn(rec)\n",
    "    if rec['age'] > min_age and rec['gender'] == gen then\n",
    "      return true\n",
    "    else\n",
    "      return false\n",
    "    end\n",
    "  end\n",
    "\n",
    "  return stream:filter(my_filter_fn):aggregate(map{age_sum=0, count=0}, my_aggregation_fn):reduce(my_reduce_fn)\n",
    "end\"\n",
    "type: \"LUA\"\n",
    "aql> exit\n",
    "```"
   ]
  },
  {
   "cell_type": "code",
   "execution_count": 64,
   "id": "be028088-e893-4dee-9fdc-1ad3956dd31c",
   "metadata": {},
   "outputs": [
    {
     "name": "stdout",
     "output_type": "stream",
     "text": [
      "Cumulative Age: 84\n",
      "\n",
      "Count: 2\n",
      "\n"
     ]
    }
   ],
   "source": [
    "//Need to import ResultSet\n",
    "import com.aerospike.client.query.ResultSet;\n",
    "\n",
    "// For Aggregation, this lua file must also be copied in the udf subdirectory of where you are launching the application.\n",
    "// The client library looks for it to execute the final reduce() in the client.\n",
    "// In our case it is at:\n",
    "// /home/training/student-workbook/v7.0/jn/ver8.0/devIntro/udf/getAverageAgeAggregates.lua\n",
    "\n",
    "Statement stmt = new Statement();\n",
    "stmt.setNamespace(\"test\");\n",
    "stmt.setSetName(\"testset\");\n",
    "stmt.setFilter(Filter.range(\"age\",0,60));  //Select records to change based on a Secondary Index Filter\n",
    "\n",
    "//Our QueryPolicy object was qp. We could use null as well. \n",
    "\n",
    "ResultSet rs = client.queryAggregate(qp, stmt, \"getAverageAgeAggregates\", \"getAgeAggregates\", Value.get(30), Value.get(\"m\"));\n",
    "\n",
    "if(rs.next()){\n",
    "    Map<Object, Object> result = (Map<Object, Object>)rs.getObject();\n",
    "    System.out.println(\"Cumulative Age: \" + result.get(\"age_sum\") +\"\\n\");\n",
    "    System.out.println(\"Count: \" + result.get(\"count\") +\"\\n\");\n",
    "}\n"
   ]
  },
  {
   "attachments": {},
   "cell_type": "markdown",
   "id": "bf09c785-f792-4ae6-87f1-1c68cf277162",
   "metadata": {},
   "source": [
    "# Wrap Up\n",
    "## We covered the basics ..\n",
    "### Aerospike Cluster overview and internal Data Model, relevant to Developers \n",
    "### Key-value operations\n",
    "### User Defined Functions (UDFs)\n",
    "### Queries\n",
    "### Aggregations\n",
    "\n",
    "## Advanced Topics: \n",
    "* Expressions\n",
    "* Maps and Lists\n",
    "* Secondary Indexes as applied to Collection Data Types and Basic Queries with Pagination\n",
    "* Full set of Batch Index APIs\n",
    "* Transactions\n",
    "* Data Modeling"
   ]
  },
  {
   "cell_type": "markdown",
   "id": "2b613a1c-6084-4a06-aa99-433a5299e3fa",
   "metadata": {},
   "source": [
    "# Cleanup"
   ]
  },
  {
   "cell_type": "code",
   "execution_count": 65,
   "id": "28bc56be-7427-41a5-9739-07e80c9f0234",
   "metadata": {},
   "outputs": [],
   "source": [
    "%sh asadm --enable -e \"manage sindex delete idx_age ns test set testset\""
   ]
  },
  {
   "cell_type": "code",
   "execution_count": 66,
   "id": "432ffb71-e787-41a6-bd9f-c089122424f0",
   "metadata": {},
   "outputs": [],
   "source": [
    "%sh asadm --enable -e \"manage truncate ns test --no-warn\" -h \"127.0.0.1\""
   ]
  },
  {
   "cell_type": "markdown",
   "id": "2220a47a-e5e4-47d4-9be0-54c8660413f5",
   "metadata": {},
   "source": [
    "<img src=\"./pngs/Slide53.png\"\n",
    "     alt=\"Slide53\"\n",
    "     style=\"float: left; margin-right: 10px;\"\n",
    "     width=\"1024\"\n",
    "     height=\"768\"/>"
   ]
  },
  {
   "cell_type": "code",
   "execution_count": null,
   "id": "57874ddf-b118-4393-a844-68d318ea087c",
   "metadata": {},
   "outputs": [],
   "source": []
  }
 ],
 "metadata": {
  "kernelspec": {
   "display_name": "Java",
   "language": "java",
   "name": "java"
  },
  "language_info": {
   "codemirror_mode": "java",
   "file_extension": ".jshell",
   "mimetype": "text/x-java-source",
   "name": "Java",
   "pygments_lexer": "java",
   "version": "17.0.10+8-LTS"
  }
 },
 "nbformat": 4,
 "nbformat_minor": 5
}
