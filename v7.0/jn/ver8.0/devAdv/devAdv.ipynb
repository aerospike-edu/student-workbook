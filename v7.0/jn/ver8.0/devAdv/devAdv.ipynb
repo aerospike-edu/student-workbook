{
 "cells": [
  {
   "cell_type": "markdown",
   "id": "580fcc6f-1bbc-44a1-88bf-40ec141d8832",
   "metadata": {},
   "source": [
    "<img src=\"./pngs/Slide1.png\"\n",
    "     alt=\"Slide1\"\n",
    "     style=\"float: left; margin-right: 10px;\"\n",
    "     width=\"1024\"\n",
    "     height=\"576\"/>"
   ]
  },
  {
   "cell_type": "markdown",
   "id": "17103708-5792-4a7c-8cc1-8344e1037aed",
   "metadata": {},
   "source": [
    "## About Jupyter Notebook and Interactive Java (iJava) \n",
    "\n",
    "### Pre-Set for this module: 1 node Aerospike Server (ver 8.0.0-RC3 15Jan2025)\n",
    "\n",
    "- We have a namespace **_test_** pre-defined on the server. \n",
    "\n",
    "- During code development, if you want to clear the iJava Kernel of all Java objects and run all cells from scratch, Kernel->Restart & Run All or Run each cell one by one to the desired point. The _asadm_ command, excecuted few cells below, will ensure any records written on the underlying Aerospike cluster are purged.\n",
    "\n",
    "- First, we need required imports for using %sh in interactive Java Kernel. (This is specific to the iJava Kernel implementation by **Spencer Park** that we are using.)\n"
   ]
  },
  {
   "cell_type": "markdown",
   "id": "9037147c",
   "metadata": {},
   "source": [
    "# Import to run %sh magic cell"
   ]
  },
  {
   "cell_type": "code",
   "execution_count": 1,
   "id": "b74ed7d1",
   "metadata": {},
   "outputs": [],
   "source": [
    "import io.github.spencerpark.ijava.IJava;\n",
    "import io.github.spencerpark.jupyter.kernel.magic.common.Shell;\n",
    "IJava.getKernelInstance().getMagics().registerMagics(Shell.class);"
   ]
  },
  {
   "cell_type": "markdown",
   "id": "7ac5ea07-251f-4146-b894-553bdd09ccd8",
   "metadata": {},
   "source": [
    "## Wipe out any prior records on the Aerospike Server using _asadm_\n",
    "### Running _asadm_ in iJava\n",
    "\n",
    "We can run _asadm_ commands inline. Below, we will use the truncation command, which normally requires an interactive confirmation, which we will skip by using the _--no-warn_ flag. \n",
    "\n",
    "**No output will be displayed.**  _(Jupyter Notebook - shell interface quirk.)_\n"
   ]
  },
  {
   "cell_type": "code",
   "execution_count": 2,
   "id": "582414cf-1972-4021-8834-c71c381ea0c8",
   "metadata": {},
   "outputs": [],
   "source": [
    "%sh asadm --enable -e \"manage truncate ns test --no-warn\" -h \"127.0.0.1\""
   ]
  },
  {
   "cell_type": "markdown",
   "id": "31b0ddb3",
   "metadata": {},
   "source": [
    "# Add Java Client POM Dependency\n",
    "## Latest is ver 9.0.3 (16Jan2025)"
   ]
  },
  {
   "cell_type": "code",
   "execution_count": 3,
   "id": "b6447add",
   "metadata": {},
   "outputs": [],
   "source": [
    "%%loadFromPOM\n",
    "<dependencies>\n",
    "  <dependency>\n",
    "    <groupId>com.aerospike</groupId>\n",
    "    <artifactId>aerospike-client-jdk8</artifactId>\n",
    "    <version>9.0.3</version>\n",
    "  </dependency>\n",
    "</dependencies>"
   ]
  },
  {
   "cell_type": "markdown",
   "id": "0cde7b03-c258-4796-966f-8199766d1e97",
   "metadata": {},
   "source": [
    "## Jupyter Notebook and Interactive Java (iJava) \n",
    "\n",
    "### Code is cumulative, cell after cell\n",
    "\n",
    "- Objects and imports declared in a previous cell carry to next cell. \n",
    "\n",
    "- Code can be executed sequentially, cell by cell, by selecting the cell and clicking on the run button in the menu.\n",
    "  \n",
    "- Same cell can be edited and then re-executed.  Very handy for code development.\n"
   ]
  },
  {
   "cell_type": "markdown",
   "id": "30de57a0-312e-4e17-8544-5cabb3d979da",
   "metadata": {},
   "source": [
    "# Lets Get Started!\n",
    "\n",
    "<img src=\"./pngs/Slide2.png\"\n",
    "     alt=\"Slide2\"\n",
    "     style=\"float: left; margin-right: 10px;\"\n",
    "     width=\"1024\"\n",
    "     height=\"576\"/>"
   ]
  },
  {
   "cell_type": "markdown",
   "id": "ac595e17-53e5-490d-86a2-914c18041530",
   "metadata": {},
   "source": [
    "<img src=\"./pngs/Slide3.png\"\n",
    "     alt=\"Slide3\"\n",
    "     style=\"float: left; margin-right: 10px;\"\n",
    "     width=\"1024\"\n",
    "     height=\"576\"/>"
   ]
  },
  {
   "cell_type": "markdown",
   "id": "8976c7b2-0244-4eb1-b724-a3c12bef48a1",
   "metadata": {},
   "source": [
    "<img src=\"./pngs/Slide4.png\"\n",
    "     alt=\"Slide4\"\n",
    "     style=\"float: left; margin-right: 10px;\"\n",
    "     width=\"1024\"\n",
    "     height=\"768\"/>"
   ]
  },
  {
   "cell_type": "markdown",
   "id": "5d8fef60-ba61-4bec-abf1-f92782d14fe3",
   "metadata": {},
   "source": [
    "<img src=\"./pngs/Slide5.png\"\n",
    "     alt=\"Slide5\"\n",
    "     style=\"float: left; margin-right: 10px;\"\n",
    "     width=\"1024\"\n",
    "     height=\"768\"/>"
   ]
  },
  {
   "cell_type": "markdown",
   "id": "3b2208a8-8bb4-4f4c-a9c1-27d3b5a8d417",
   "metadata": {},
   "source": [
    "<img src=\"./pngs/Slide6.png\"\n",
    "     alt=\"Slide6\"\n",
    "     style=\"float: left; margin-right: 10px;\"\n",
    "     width=\"1024\"\n",
    "     height=\"768\"/>"
   ]
  },
  {
   "cell_type": "markdown",
   "id": "57dd1cb0-a453-4796-a818-19c4684cc0ca",
   "metadata": {},
   "source": [
    "<img src=\"./pngs/Slide7.png\"\n",
    "     alt=\"Slide7\"\n",
    "     style=\"float: left; margin-right: 10px;\"\n",
    "     width=\"1024\"\n",
    "     height=\"768\"/>"
   ]
  },
  {
   "cell_type": "markdown",
   "id": "0362ad57",
   "metadata": {},
   "source": [
    "<img src=\"./pngs/Slide8.png\"\n",
    "     alt=\"Slide8\"\n",
    "     style=\"float: left; margin-right: 10px;\"\n",
    "     width=\"1024\"\n",
    "     height=\"576\"/>"
   ]
  },
  {
   "cell_type": "markdown",
   "id": "0e621940-5344-4687-9770-77c03c3447c4",
   "metadata": {},
   "source": [
    "# How Expressions Work\n",
    "## - Filter Expressions and Expression Operations"
   ]
  },
  {
   "cell_type": "markdown",
   "id": "01a7243e-d78a-4497-ae13-e4d9f78e78d1",
   "metadata": {},
   "source": [
    "<img src=\"./pngs/Slide9.png\"\n",
    "     alt=\"Slide9\"\n",
    "     style=\"float: left; margin-right: 10px;\"\n",
    "     width=\"1024\"\n",
    "     height=\"768\"/>"
   ]
  },
  {
   "cell_type": "markdown",
   "id": "a1af1688-6966-4a77-bb44-cc40176b36b5",
   "metadata": {},
   "source": [
    "<img src=\"./pngs/Slide10.png\"\n",
    "     alt=\"Slide10\"\n",
    "     style=\"float: left; margin-right: 10px;\"\n",
    "     width=\"1024\"\n",
    "     height=\"768\"/>"
   ]
  },
  {
   "cell_type": "markdown",
   "id": "68e2a79e-5c69-44f8-bbec-abce3ce45da5",
   "metadata": {},
   "source": [
    "<img src=\"./pngs/Slide11.png\"\n",
    "     alt=\"Slide11\"\n",
    "     style=\"float: left; margin-right: 10px;\"\n",
    "     width=\"1024\"\n",
    "     height=\"768\"/>"
   ]
  },
  {
   "cell_type": "markdown",
   "id": "9084e1c4-8b68-40ef-8d35-7313ee7f5b07",
   "metadata": {},
   "source": [
    "<img src=\"./pngs/Slide12.png\"\n",
    "     alt=\"Slide12\"\n",
    "     style=\"float: left; margin-right: 10px;\"\n",
    "     width=\"1024\"\n",
    "     height=\"768\"/>"
   ]
  },
  {
   "cell_type": "markdown",
   "id": "83cebb5f",
   "metadata": {},
   "source": [
    "# Creating and Using Expressions\n",
    "\n",
    "## Let's instantiate the AerospikeClient object and connect to our single node cluster\n"
   ]
  },
  {
   "cell_type": "code",
   "execution_count": 4,
   "id": "946d225a",
   "metadata": {},
   "outputs": [
    {
     "name": "stdout",
     "output_type": "stream",
     "text": [
      "AerospikeClient module imported.\n"
     ]
    }
   ],
   "source": [
    "import com.aerospike.client.AerospikeClient;\n",
    "System.out.println(\"AerospikeClient module imported.\");"
   ]
  },
  {
   "cell_type": "code",
   "execution_count": 5,
   "id": "8f638056-9620-45cf-9514-ec2cde32f6ff",
   "metadata": {},
   "outputs": [
    {
     "name": "stdout",
     "output_type": "stream",
     "text": [
      "Initialized the client and connected to the cluster.\n"
     ]
    }
   ],
   "source": [
    "AerospikeClient client = new AerospikeClient(\"localhost\", 3000);\n",
    "System.out.println(\"Initialized the client and connected to the cluster.\");"
   ]
  },
  {
   "cell_type": "markdown",
   "id": "082826cf-e12b-4510-bdb6-723ec962efa4",
   "metadata": {},
   "source": [
    "### AerospikeClient object: _client_ instantiated\n",
    "#### We are ready to work with Records in Aerospike"
   ]
  },
  {
   "cell_type": "markdown",
   "id": "cfef17a9-2504-402b-9090-16c65cbd76d8",
   "metadata": {},
   "source": [
    "<img src=\"./pngs/Slide13.png\"\n",
    "     alt=\"Slide13\"\n",
    "     style=\"float: left; margin-right: 10px;\"\n",
    "     width=\"1024\"\n",
    "     height=\"768\"/>"
   ]
  },
  {
   "cell_type": "markdown",
   "id": "7362f850-e62a-41b8-8dc8-fda77bb2ee03",
   "metadata": {},
   "source": [
    "## Using the AerospikeClient object, let's create this record\n"
   ]
  },
  {
   "cell_type": "markdown",
   "id": "00ed1924-6139-414e-b54c-e8058eec5e98",
   "metadata": {},
   "source": [
    "<img src=\"./pngs/Slide14.png\"\n",
    "     alt=\"Slide14\"\n",
    "     style=\"float: left; margin-right: 10px;\"\n",
    "     width=\"1024\"\n",
    "     height=\"768\"/>"
   ]
  },
  {
   "cell_type": "code",
   "execution_count": 6,
   "id": "bfd34942-8800-4234-a387-515c555af789",
   "metadata": {},
   "outputs": [],
   "source": [
    "import com.aerospike.client.Key;\n",
    "import com.aerospike.client.Bin;\n",
    "import com.aerospike.client.Value;\n",
    "import com.aerospike.client.policy.WritePolicy;"
   ]
  },
  {
   "cell_type": "code",
   "execution_count": 7,
   "id": "056a887a",
   "metadata": {},
   "outputs": [
    {
     "name": "stdout",
     "output_type": "stream",
     "text": [
      "Working with record key:\n",
      "test:testset:key1:bf6c1d13e7cd10c5bd022d27e7df170c0bccd6e1\n"
     ]
    }
   ],
   "source": [
    "Key key = new Key(\"test\", \"testset\", \"key1\");\n",
    "System.out.println(\"Working with record key:\");\n",
    "System.out.println(key);\n",
    "\n",
    "WritePolicy wPolicy = new WritePolicy();\n",
    "\n",
    "Bin bBin1 = new Bin(\"bin1\", 8);\n",
    "Bin bBin2 = new Bin(\"bin2\", \"v2\");\n",
    "Bin bBin3 = new Bin(\"bin3\", \"v3\");\n",
    "\n",
    "client.put(wPolicy, key, bBin1, bBin2, bBin3);\n"
   ]
  },
  {
   "cell_type": "markdown",
   "id": "2eeb8e86-12a0-4144-869d-96f80759c47b",
   "metadata": {},
   "source": [
    "### Check ... read the record"
   ]
  },
  {
   "cell_type": "code",
   "execution_count": 8,
   "id": "7f9ffb2d-cac8-41fb-a566-3e3307c0a11e",
   "metadata": {},
   "outputs": [],
   "source": [
    "import com.aerospike.client.Record;\n",
    "import com.aerospike.client.policy.Policy;"
   ]
  },
  {
   "cell_type": "code",
   "execution_count": 9,
   "id": "ab089941-89e1-4066-90df-bd90365f0af6",
   "metadata": {},
   "outputs": [
    {
     "name": "stdout",
     "output_type": "stream",
     "text": [
      "Read back the record.\n",
      "Record values are:\n",
      "(gen:1),(exp:475950840),(bins:(bin1:8),(bin2:v2),(bin3:v3))\n"
     ]
    }
   ],
   "source": [
    "Policy rPolicy = new Policy();\n",
    "Record record = client.get(rPolicy, key);\n",
    "System.out.println(\"Read back the record.\");\n",
    "\n",
    "System.out.println(\"Record values are:\");\n",
    "System.out.println(record);"
   ]
  },
  {
   "cell_type": "markdown",
   "id": "e625e284-0ddb-43cc-bea0-0091153e04f5",
   "metadata": {},
   "source": [
    "#### **Note:** LUT is not returned to the client in the record metadata. Hence, we only see _generation_ and _expiration_ future timestamp.\n",
    "\n",
    "```\n",
    "[training@ip-172-31-3-62 devAdv]$ date --date=\"2022-01-01 09:00:00\" +%s%N\n",
    "1641027600000000000\n",
    "[training@ip-172-31-3-62 devAdv]$ date --date=\"2032-01-01 09:00:00\" +%s%N\n",
    "1956560400000000000\n",
    "[training@ip-172-31-3-62 devAdv]$\n",
    "```"
   ]
  },
  {
   "attachments": {},
   "cell_type": "markdown",
   "id": "86448306-db4b-48c9-97e0-79fc9bbeaad4",
   "metadata": {},
   "source": [
    "### Read bin3 if LUT > 1641027600000000000 and bin1 > 5.  \n",
    "\n",
    "(1641027600000000000 represents 1/1/2022 9am)\n",
    "\n",
    "### Let's code it.\n",
    "### Start with the required imports for Expressions.\n",
    "\n",
    "### **Note:** The filter expression is passed in the Read Policy object."
   ]
  },
  {
   "cell_type": "code",
   "execution_count": 10,
   "id": "104cedd8-2f3d-46fb-8e84-f1eb8d217f7b",
   "metadata": {},
   "outputs": [],
   "source": [
    "import com.aerospike.client.exp.Exp;\n",
    "import com.aerospike.client.exp.Exp.Type;"
   ]
  },
  {
   "cell_type": "code",
   "execution_count": 11,
   "id": "bcfe1bd8-4799-4cdc-a848-6cea11e877a6",
   "metadata": {},
   "outputs": [
    {
     "name": "stdout",
     "output_type": "stream",
     "text": [
      "\n",
      "Get bin3=v3 if bin1>5 & LUT> 1-1-2022 expr is true: (gen:1),(exp:475950840),(bins:(bin3:v3))\n"
     ]
    }
   ],
   "source": [
    "long lut_01_01_2022 = 1641027600000000000L;\n",
    "long lut_01_01_2032 = 1956560400000000000L;\n",
    "\n",
    "rPolicy.filterExp = Exp.build( Exp.and(\n",
    "                                        Exp.gt(Exp.bin(\"bin1\", Type.INT), Exp.val(5)) ,\n",
    "                                        Exp.gt(Exp.lastUpdate(), Exp.val(lut_01_01_2022))  \n",
    "                                       )\n",
    "                                     );\n",
    "// Read with expression (expected =true)\n",
    "record = client.get(rPolicy, key, \"bin3\");\n",
    "System.out.println(\"\\nGet bin3=v3 if bin1>5 & LUT> 1-1-2022 expr is true: \" + record);"
   ]
  },
  {
   "attachments": {},
   "cell_type": "markdown",
   "id": "f3fdd3e4-d32f-4771-adaa-063a4e35e647",
   "metadata": {},
   "source": [
    "## Next ... let's try a _false_ result in the Read Filter\n",
    "### Read bin3 if LUT > 1956560400000000000 and bin1 > 5.  \n",
    "\n",
    "(1956560400000000000 represents 1/1/2032 9am)\n",
    "\n",
    "### This filter should evaluate to _false_"
   ]
  },
  {
   "cell_type": "code",
   "execution_count": 12,
   "id": "3b3f96ce-c098-4115-ad8c-be492a87d302",
   "metadata": {},
   "outputs": [
    {
     "name": "stdout",
     "output_type": "stream",
     "text": [
      "\n",
      "Get bin3=v3 if bin1>5 & LUT> 1-1-2022 expr is false: null\n"
     ]
    }
   ],
   "source": [
    "rPolicy.filterExp = Exp.build( Exp.and(\n",
    "                                        Exp.gt(Exp.bin(\"bin1\", Type.INT), Exp.val(5)) ,\n",
    "                                        Exp.gt(Exp.lastUpdate(), Exp.val(lut_01_01_2032))  \n",
    "                                       )\n",
    "                                     );\n",
    "// Read with expression (expected =false)\n",
    "record = client.get(rPolicy, key, \"bin3\");\n",
    "System.out.println(\"\\nGet bin3=v3 if bin1>5 & LUT> 1-1-2022 expr is false: \" + record);"
   ]
  },
  {
   "cell_type": "markdown",
   "id": "26465671-ecf1-4c5f-a0ac-c8083ea6c251",
   "metadata": {},
   "source": [
    "### &uarr; This demonstrates a simple Read Filter Expression using both Record Metadata (LUT) and Record Bin Data logical combination."
   ]
  },
  {
   "cell_type": "markdown",
   "id": "e230f487-c19d-4c76-b9f4-315a2701ef4a",
   "metadata": {},
   "source": [
    "<img src=\"./pngs/Slide15.png\"\n",
    "     alt=\"Slide15\"\n",
    "     style=\"float: left; margin-right: 10px;\"\n",
    "     width=\"1024\"\n",
    "     height=\"768\"/>"
   ]
  },
  {
   "cell_type": "markdown",
   "id": "e6bb92ee-8fb1-44c2-9ea6-c22d7a66669c",
   "metadata": {},
   "source": [
    "## Let's try the above code to catch the Exception\n"
   ]
  },
  {
   "cell_type": "code",
   "execution_count": 13,
   "id": "4036e5be-c41a-4bd1-a870-08be05bdb8a5",
   "metadata": {},
   "outputs": [],
   "source": [
    "//Needed Imports\n",
    "import com.aerospike.client.AerospikeException;\n",
    "import com.aerospike.client.ResultCode;"
   ]
  },
  {
   "cell_type": "code",
   "execution_count": 14,
   "id": "ec527abd-f613-43b0-9d96-c03b2b026712",
   "metadata": {},
   "outputs": [
    {
     "name": "stdout",
     "output_type": "stream",
     "text": [
      "\n",
      "Get bin3=v3 if bin1>5 & LUT> 1-1-2022 expr is false. FILTERED OUT\n"
     ]
    },
    {
     "data": {
      "text/plain": [
       "false"
      ]
     },
     "execution_count": 14,
     "metadata": {},
     "output_type": "execute_result"
    }
   ],
   "source": [
    "rPolicy.failOnFilteredOut = true;   //false by default\n",
    "rPolicy.filterExp = Exp.build( Exp.and(\n",
    "                                        Exp.gt(Exp.bin(\"bin1\", Type.INT), Exp.val(5)) ,\n",
    "                                        Exp.gt(Exp.lastUpdate(), Exp.val(lut_01_01_2032))  \n",
    "                                       )\n",
    "                                     );\n",
    "record == null;\n",
    "try {\n",
    "  // Read with expression (expected =false)\n",
    "  record = client.get(rPolicy, key, \"bin3\");\n",
    "} catch (AerospikeException e) {\n",
    "    int rc = e.getResultCode();\n",
    "    if(rc == ResultCode.FILTERED_OUT) {\n",
    "        System.out.println(\"\\nGet bin3=v3 if bin1>5 & LUT> 1-1-2022 expr is false. FILTERED OUT\");\n",
    "    }\n",
    "}\n",
    "if(record != null) {\n",
    "    System.out.println(\"\\nGet bin3=v3 if bin1>5 & LUT> 1-1-2022 expr is true: \" + record);\n",
    "}\n",
    "\n",
    "rPolicy.failOnFilteredOut = false;   //reset to false"
   ]
  },
  {
   "cell_type": "markdown",
   "id": "c0ec6ce5-b352-4922-b6e4-7a9bb76650ff",
   "metadata": {},
   "source": [
    "## Change lut_01_01_2032 in the above cell to lut_01_01_2022 and re-run.  \n",
    "### (It should execute.)\n",
    "### Whether to catch the FILTERED_OUT exception is Application logic dependent. We expect most users don't want to raise an exception if the command is filtered out. Hence, it is _false_ by default."
   ]
  },
  {
   "cell_type": "markdown",
   "id": "11eb33d2-dabd-4488-859b-ea7c08d98d75",
   "metadata": {},
   "source": [
    "## Next, lets code the Read Expression Operation example\n"
   ]
  },
  {
   "cell_type": "markdown",
   "id": "812886c2-3782-489a-8523-c6b0c5de6b87",
   "metadata": {},
   "source": [
    "<img src=\"./pngs/Slide16.png\"\n",
    "     alt=\"Slide16\"\n",
    "     style=\"float: left; margin-right: 10px;\"\n",
    "     width=\"1024\"\n",
    "     height=\"768\"/>"
   ]
  },
  {
   "cell_type": "code",
   "execution_count": 15,
   "id": "b9dffd92-03a8-4a55-a3c3-af6f43f89419",
   "metadata": {},
   "outputs": [
    {
     "name": "stdout",
     "output_type": "stream",
     "text": [
      "Record bins are:(gen:1),(exp:475950842),(bins:(bin1:8),(bin2:2),(bin3:3))\n"
     ]
    }
   ],
   "source": [
    "Policy rPolicy = new Policy();\n",
    "WritePolicy wPolicy = new WritePolicy();\n",
    "client.delete(wPolicy, key);\n",
    "\n",
    "Bin bBin1 = new Bin(\"bin1\", 8);\n",
    "Bin bBin2 = new Bin(\"bin2\", 2);\n",
    "Bin bBin3 = new Bin(\"bin3\", 3);\n",
    "\n",
    "client.put(wPolicy, key, bBin1, bBin2, bBin3);\n",
    "System.out.println(\"Record bins are:\"+client.get(rPolicy, key));\n"
   ]
  },
  {
   "cell_type": "markdown",
   "id": "f5d790ee-bad6-4024-a163-6a1d29814488",
   "metadata": {},
   "source": [
    "## Code and test: Read Filter and Read Expression Operation\n",
    "### We can start with the _true_ condition first, then change the conditions to make it _false_ and re-run the cell.\n",
    "\n",
    "### **Note**: We are now doing a write command. Why? Because Read Expression Operation is done via the operate() API which is a _write_ command, it turns out, it becomes just a _read_ in our case. But regardless, we must specify everything in WritePolicy now.\n",
    "\n",
    "### The Expression class is used to define the Expression Operation.\n"
   ]
  },
  {
   "cell_type": "code",
   "execution_count": 16,
   "id": "99969edd-d54a-4a61-8586-cf9fefe07541",
   "metadata": {},
   "outputs": [],
   "source": [
    "import com.aerospike.client.exp.Expression;\n",
    "import com.aerospike.client.exp.ExpReadFlags;\n",
    "import com.aerospike.client.exp.ExpOperation;"
   ]
  },
  {
   "cell_type": "code",
   "execution_count": 17,
   "id": "ab92db31-4638-49b3-af8f-db5cbc030fce",
   "metadata": {},
   "outputs": [
    {
     "name": "stdout",
     "output_type": "stream",
     "text": [
      "\n",
      "Get bin2+bin3=5 if bin1>5 & LUT> 1-1-2022 expr is true: 5\n"
     ]
    }
   ],
   "source": [
    "//Note: We have to use the WritePolicy object now\n",
    "wPolicy.filterExp = Exp.build( Exp.and(\n",
    "                                        Exp.gt(Exp.bin(\"bin1\", Type.INT), Exp.val(5)) ,\n",
    "                                        Exp.gt(Exp.lastUpdate(), Exp.val(lut_01_01_2022))  \n",
    "                                       )\n",
    "                                     );\n",
    "// Read Filter expression (expected =true)\n",
    "\n",
    "//Defining the Read Expression Operation\n",
    "Expression myExpRead = Exp.build(Exp.add(Exp.intBin(\"bin2\"), Exp.intBin(\"bin3\")));\n",
    "\n",
    "//Employing the Read Expression Operation\n",
    "\n",
    "record = client.operate(wPolicy, key, \n",
    "                                 ExpOperation.read(\"retval\", myExpRead, ExpReadFlags.DEFAULT)\n",
    "                               ); \n",
    "if(record!=null) {\n",
    "    System.out.println(\"\\nGet bin2+bin3=5 if bin1>5 & LUT> 1-1-2022 expr is true: \" + record.getInt(\"retval\"));\n",
    "}"
   ]
  },
  {
   "attachments": {},
   "cell_type": "markdown",
   "id": "3c51dd0b-4ac3-475c-9639-fe3634ed341c",
   "metadata": {},
   "source": [
    "## &uarr; Try a _false_ result in the Read Filter and re-run the cell above.\n",
    "### Change lut_01_01_2022 to lut_01_01_2032\n",
    "\n",
    "#### **Note**: Syntax ofr ExpOperation.read() ... we are returning the value computed by _myExpRead_ in _retval_ \"bin\" of the record."
   ]
  },
  {
   "cell_type": "markdown",
   "id": "86a31e65-6445-48ee-bf5a-b32cf61a01dc",
   "metadata": {},
   "source": [
    "## Next, lets code a Write Filter example\n"
   ]
  },
  {
   "cell_type": "markdown",
   "id": "2bf339da-ec3c-4849-a93a-97d69f2a5348",
   "metadata": {},
   "source": [
    "<img src=\"./pngs/Slide17.png\"\n",
    "     alt=\"Slide17\"\n",
    "     style=\"float: left; margin-right: 10px;\"\n",
    "     width=\"1024\"\n",
    "     height=\"768\"/>"
   ]
  },
  {
   "cell_type": "code",
   "execution_count": 18,
   "id": "1965df8a-2861-434f-9be9-e7402b7aa151",
   "metadata": {},
   "outputs": [],
   "source": [
    "//Needed Imports\n",
    "import com.aerospike.client.policy.RecordExistsAction;"
   ]
  },
  {
   "cell_type": "code",
   "execution_count": 19,
   "id": "3537c213-1bf8-47d3-8ca6-959779db04ac",
   "metadata": {},
   "outputs": [
    {
     "name": "stdout",
     "output_type": "stream",
     "text": [
      "Record bins are:(gen:1),(exp:475950843),(bins:(bin1:8),(bin2:v2))\n"
     ]
    }
   ],
   "source": [
    "Policy rPolicy = new Policy();\n",
    "WritePolicy wPolicy = new WritePolicy();\n",
    "client.delete(wPolicy, key);\n",
    "\n",
    "Bin bBin1 = new Bin(\"bin1\", 8);\n",
    "Bin bBin2 = new Bin(\"bin2\", \"v2\");\n",
    "\n",
    "client.put(wPolicy, key, bBin1, bBin2);\n",
    "System.out.println(\"Record bins are:\"+client.get(rPolicy, key));\n"
   ]
  },
  {
   "cell_type": "markdown",
   "id": "73c5c4b2-09cb-4a3f-bbb7-26622b80eda7",
   "metadata": {},
   "source": [
    "\n",
    "## Let's implement Write Filter\n"
   ]
  },
  {
   "cell_type": "code",
   "execution_count": 20,
   "id": "24089147-19e1-42fb-b25b-50f4b2400c1e",
   "metadata": {},
   "outputs": [
    {
     "name": "stdout",
     "output_type": "stream",
     "text": [
      "Set bin3=10 if bin1>5 & LUT> 1-1-2022 expr is true.\n",
      "Record: (gen:2),(exp:475950843),(bins:(bin1:8),(bin2:v2),(bin3:10))\n"
     ]
    }
   ],
   "source": [
    "//Note: We have to use the WritePolicy object now\n",
    "wPolicy.filterExp = Exp.build( Exp.and(\n",
    "                                        Exp.gt(Exp.bin(\"bin1\", Type.INT), Exp.val(5)) ,\n",
    "                                        Exp.gt(Exp.lastUpdate(), Exp.val(lut_01_01_2022))  \n",
    "                                       )\n",
    "                                     );\n",
    "// Write Filter expression (expected =true)\n",
    "\n",
    "// Put with expression\n",
    "Bin bBin3 = new Bin(\"bin3\", 10);\n",
    "client.put(wPolicy, key, bBin3);\n",
    "record = client.get(null, key);\n",
    "System.out.println(\"Set bin3=10 if bin1>5 & LUT> 1-1-2022 expr is true.\\nRecord: \" + record);"
   ]
  },
  {
   "cell_type": "markdown",
   "id": "f5114d3a-6474-457c-8033-7dfb996e363b",
   "metadata": {},
   "source": [
    "### &uarr; Try _false_ Write Filter.  (Change lut_01_01_2022 to lut_01_01_2032)\n",
    "### Go back up &uarr; &uarr; two cells and re-insert the record with just two bins first."
   ]
  },
  {
   "cell_type": "markdown",
   "id": "7c5e6cd2-9c55-4f35-98d4-fa06ca8a2b40",
   "metadata": {},
   "source": [
    "## Next, &darr; let's code a Write Filter with a Write Expression Operation example\n"
   ]
  },
  {
   "cell_type": "markdown",
   "id": "99467aaf-9457-4149-b4da-3b429e02f1da",
   "metadata": {},
   "source": [
    "<img src=\"./pngs/Slide18.png\"\n",
    "     alt=\"Slide18\"\n",
    "     style=\"float: left; margin-right: 10px;\"\n",
    "     width=\"1024\"\n",
    "     height=\"768\"/>"
   ]
  },
  {
   "cell_type": "code",
   "execution_count": 21,
   "id": "542ad39c-cdc7-4751-9329-abd861b8ee1b",
   "metadata": {},
   "outputs": [
    {
     "name": "stdout",
     "output_type": "stream",
     "text": [
      "Record bins are:(gen:1),(exp:475950844),(bins:(bin1:8),(bin2:2),(bin3:3))\n"
     ]
    }
   ],
   "source": [
    "Policy rPolicy = new Policy();\n",
    "WritePolicy wPolicy = new WritePolicy();\n",
    "client.delete(wPolicy, key);\n",
    "\n",
    "Bin bBin1 = new Bin(\"bin1\", 8);\n",
    "Bin bBin2 = new Bin(\"bin2\", 2);\n",
    "Bin bBin3 = new Bin(\"bin3\", 3);\n",
    "\n",
    "client.put(wPolicy, key, bBin1, bBin2, bBin3);\n",
    "System.out.println(\"Record bins are:\"+client.get(rPolicy, key));\n"
   ]
  },
  {
   "cell_type": "code",
   "execution_count": 22,
   "id": "3127150f-4afe-4277-a497-07cc8c6bc629",
   "metadata": {},
   "outputs": [],
   "source": [
    "import com.aerospike.client.Operation;\n",
    "import com.aerospike.client.exp.ExpWriteFlags;"
   ]
  },
  {
   "cell_type": "code",
   "execution_count": 23,
   "id": "11f09000-ca97-4dbe-bda7-6e5b06c47ea0",
   "metadata": {},
   "outputs": [
    {
     "name": "stdout",
     "output_type": "stream",
     "text": [
      "Set bin2+bin3=5 as bin4, if bin1>5 & LUT> 1-1-2022 -expr is true:\n",
      "(gen:2),(exp:475950844),(bins:(bin4:[null, 5]))\n",
      "Record bins are:(gen:2),(exp:475950844),(bins:(bin1:8),(bin2:2),(bin3:3),(bin4:5))\n"
     ]
    }
   ],
   "source": [
    "wPolicy.filterExp = Exp.build( Exp.and(\n",
    "                                        Exp.gt(Exp.bin(\"bin1\", Type.INT), Exp.val(5)) ,\n",
    "                                        Exp.gt(Exp.lastUpdate(), Exp.val(lut_01_01_2022))  \n",
    "                                       )\n",
    "                                     );\n",
    "// Write with expression operation using operate\n",
    "Expression exp = Exp.build(Exp.add(Exp.intBin(\"bin2\"), Exp.intBin(\"bin3\")));\n",
    "try{\n",
    "    record = client.operate(wPolicy, key, \n",
    "                 ExpOperation.write(\"bin4\", exp, ExpWriteFlags.DEFAULT),\n",
    "                 Operation.get(\"bin4\")  //Just to check \n",
    "                 ); \n",
    "} \n",
    "catch(AerospikeException e) {\n",
    "    System.out.println(e.getMessage());\n",
    "}\n",
    "// Explore other ExpWriteFlags\n",
    "System.out.println(\"Set bin2+bin3=5 as bin4, if bin1>5 & LUT> 1-1-2022 -expr is true:\\n\" + record);\n",
    "\n",
    "//Check full record\n",
    "System.out.println(\"Record bins are:\"+client.get(rPolicy, key));\n"
   ]
  },
  {
   "cell_type": "markdown",
   "id": "ff65bc89-f75b-4ae3-9cc0-db2ab9fdfc35",
   "metadata": {},
   "source": [
    "## In our code, &uarr; we only used ExpWriteFlags.DEFAULT.  \n",
    "### Here &darr; are others that are useful for Data Modeling.\n"
   ]
  },
  {
   "cell_type": "markdown",
   "id": "25d6dce2-6bd4-40fb-875d-22cc543533e8",
   "metadata": {},
   "source": [
    "<img src=\"./pngs/Slide19.png\"\n",
    "     alt=\"Slide19\"\n",
    "     style=\"float: left; margin-right: 10px;\"\n",
    "     width=\"1024\"\n",
    "     height=\"768\"/>"
   ]
  },
  {
   "cell_type": "markdown",
   "id": "9bae6c8d-5b5f-4349-bd65-84c14cfeaef8",
   "metadata": {},
   "source": [
    "## Also in our code, we used Exp.lastUpdate() record metadata in our _Filter Expression_\n",
    "### Here &darr; are others record metadata items that are available for Data Modeling.\n"
   ]
  },
  {
   "cell_type": "markdown",
   "id": "9f43010f-fd51-4e96-b854-83a00d73f488",
   "metadata": {},
   "source": [
    "<img src=\"./pngs/Slide20.png\"\n",
    "     alt=\"Slide20\"\n",
    "     style=\"float: left; margin-right: 10px;\"\n",
    "     width=\"1024\"\n",
    "     height=\"768\"/>"
   ]
  },
  {
   "cell_type": "markdown",
   "id": "79963b2d-1652-4c53-bd96-509366f7fe15",
   "metadata": {},
   "source": [
    "## Expressions support for Aggregations, Queries and Batch Operations."
   ]
  },
  {
   "cell_type": "markdown",
   "id": "1277e48b-12e2-40ca-a16e-d3223c7ba175",
   "metadata": {},
   "source": [
    "<img src=\"./pngs/Slide21.png\"\n",
    "     alt=\"Slide21\"\n",
    "     style=\"float: left; margin-right: 10px;\"\n",
    "     width=\"1024\"\n",
    "     height=\"768\"/>"
   ]
  },
  {
   "cell_type": "markdown",
   "id": "89820860-f871-4bdb-baa6-937373d04308",
   "metadata": {},
   "source": [
    "<img src=\"./pngs/Slide22.png\"\n",
    "     alt=\"Slide22\"\n",
    "     style=\"float: left; margin-right: 10px;\"\n",
    "     width=\"1024\"\n",
    "     height=\"768\"/>"
   ]
  },
  {
   "cell_type": "markdown",
   "id": "c9923213-dfa9-49c3-ac88-e0ea4e4a3bf9",
   "metadata": {},
   "source": [
    "<img src=\"./pngs/Slide23.png\"\n",
    "     alt=\"Slide23\"\n",
    "     style=\"float: left; margin-right: 10px;\"\n",
    "     width=\"1024\"\n",
    "     height=\"768\"/>"
   ]
  },
  {
   "cell_type": "markdown",
   "id": "c7197cbd-5c5a-4ba4-bfc8-864e12876fa4",
   "metadata": {},
   "source": [
    "<img src=\"./pngs/Slide24.png\"\n",
    "     alt=\"Slide24\"\n",
    "     style=\"float: left; margin-right: 10px;\"\n",
    "     width=\"1024\"\n",
    "     height=\"768\"/>"
   ]
  },
  {
   "cell_type": "markdown",
   "id": "f34dbad1-865a-44bc-b087-b0e0badae19b",
   "metadata": {},
   "source": [
    "## Secondary Index Query with Expression Filtering Example\n",
    "### Use our names/age/gender data, with numeric Secondary Index on _age_.\n",
    "### Find records where _age_ is greater than **30** **_and_** _name_ starts with **S** or **s** (case insensitive)\n",
    "\n",
    "#### Delete previous data and insert test data\n"
   ]
  },
  {
   "cell_type": "code",
   "execution_count": 24,
   "id": "d70a0d63-ed4e-46ec-afa5-a1e24b01ff93",
   "metadata": {},
   "outputs": [],
   "source": [
    "%sh asadm --enable -e \"manage truncate ns test --no-warn\" -h \"127.0.0.1\""
   ]
  },
  {
   "cell_type": "code",
   "execution_count": 25,
   "id": "74692b71-28a2-4a7d-b1d3-e21cd5187366",
   "metadata": {},
   "outputs": [],
   "source": [
    "%sh asadm --enable -e \"manage sindex create numeric idx_age ns test set testset bin age\""
   ]
  },
  {
   "cell_type": "code",
   "execution_count": 26,
   "id": "e2757abd-f944-4931-b11f-55637a203059",
   "metadata": {},
   "outputs": [],
   "source": [
    "%sh aql -f \"./aqlScripts/devadv_data.aql\""
   ]
  },
  {
   "cell_type": "code",
   "execution_count": 27,
   "id": "0351c65f-9c70-4dfe-82ac-ce1342d03766",
   "metadata": {},
   "outputs": [
    {
     "name": "stdout",
     "output_type": "stream",
     "text": [
      "(gen:1),(exp:475950847),(bins:(name:Sandra),(age:34),(gender:f))\n",
      "(gen:1),(exp:475950847),(bins:(name:Jack),(age:26),(gender:m))\n",
      "(gen:1),(exp:475950847),(bins:(name:Jill),(age:20),(gender:f))\n",
      "(gen:1),(exp:475950847),(bins:(name:James),(age:38),(gender:m))\n",
      "(gen:1),(exp:475950847),(bins:(name:Jim),(age:46),(gender:m))\n",
      "(gen:1),(exp:475950847),(bins:(name:Julia),(age:62),(gender:f))\n",
      "(gen:1),(exp:475950847),(bins:(name:Sally),(age:32),(gender:f))\n",
      "(gen:1),(exp:475950847),(bins:(name:Sean),(age:24),(gender:m))\n",
      "(gen:1),(exp:475950847),(bins:(name:Sam),(age:12),(gender:m))\n",
      "(gen:1),(exp:475950847),(bins:(name:Susan),(age:42),(gender:f))\n"
     ]
    }
   ],
   "source": [
    "//Check\n",
    "Policy rPolicy = new Policy();\n",
    "for(int i=0; i<10; i++){\n",
    "    System.out.println( client.get(rPolicy, new Key(\"test\",\"testset\",\"key\"+i)));\n",
    "}\n"
   ]
  },
  {
   "cell_type": "markdown",
   "id": "5fc9a3ae-0f50-4a32-ae50-510a87ce9bfb",
   "metadata": {},
   "source": [
    "### First let's find records where _age_ is greater than **30** only. (No _AND_ condition via the Filter Expression.)"
   ]
  },
  {
   "cell_type": "code",
   "execution_count": 28,
   "id": "64ddcbbb-6b01-482b-98a4-1fb5cd0e7aa8",
   "metadata": {},
   "outputs": [],
   "source": [
    "//Needed imports for running a Basic Secondary Index Query\n",
    "import com.aerospike.client.query.Statement;\n",
    "import com.aerospike.client.query.Filter;\n",
    "import com.aerospike.client.query.RecordSet;\n",
    "import com.aerospike.client.policy.QueryPolicy;"
   ]
  },
  {
   "cell_type": "code",
   "execution_count": 29,
   "id": "adae4059-15d0-41a7-908d-cd6e018ee3c7",
   "metadata": {},
   "outputs": [
    {
     "name": "stdout",
     "output_type": "stream",
     "text": [
      "(gen:1),(exp:475950847),(bins:(name:Sally),(age:32),(gender:f))\n",
      "(gen:1),(exp:475950847),(bins:(name:Julia),(age:62),(gender:f))\n",
      "(gen:1),(exp:475950847),(bins:(name:Sandra),(age:34),(gender:f))\n",
      "(gen:1),(exp:475950847),(bins:(name:Jim),(age:46),(gender:m))\n",
      "(gen:1),(exp:475950847),(bins:(name:James),(age:38),(gender:m))\n",
      "(gen:1),(exp:475950847),(bins:(name:Susan),(age:42),(gender:f))\n"
     ]
    }
   ],
   "source": [
    "//Run SI query\n",
    "Statement stmt = new Statement();\n",
    "stmt.setNamespace(\"test\");\n",
    "stmt.setSetName(\"testset\");\n",
    "stmt.setFilter(Filter.range(\"age\", 30, 100));  \n",
    "\n",
    "QueryPolicy qp = new QueryPolicy();\n",
    "\n",
    "RecordSet rs = client.query(qp, stmt);\n",
    "\n",
    "while (rs.next()){\n",
    "  Record r = rs.getRecord();\n",
    "  System.out.println(r);\n",
    "}"
   ]
  },
  {
   "cell_type": "markdown",
   "id": "32d68ab4-31df-465b-bf08-ca94dea76300",
   "metadata": {},
   "source": [
    "### Now let's add the _AND_ condition using the Filter Expression in the QueryPolicy."
   ]
  },
  {
   "cell_type": "code",
   "execution_count": 30,
   "id": "d51446a4-8c43-4f31-a302-c3fcc983b487",
   "metadata": {},
   "outputs": [],
   "source": [
    "// Needed imports\n",
    "import com.aerospike.client.query.RegexFlag;"
   ]
  },
  {
   "cell_type": "code",
   "execution_count": 31,
   "id": "f005e397-fc1d-4c0a-b238-eee3143b43e1",
   "metadata": {},
   "outputs": [
    {
     "name": "stdout",
     "output_type": "stream",
     "text": [
      "(gen:1),(exp:475950847),(bins:(name:Sally),(age:32),(gender:f))\n",
      "(gen:1),(exp:475950847),(bins:(name:Sandra),(age:34),(gender:f))\n",
      "(gen:1),(exp:475950847),(bins:(name:Susan),(age:42),(gender:f))\n"
     ]
    }
   ],
   "source": [
    "//SI query Statement\n",
    "Statement stmt = new Statement();\n",
    "stmt.setNamespace(\"test\");\n",
    "stmt.setSetName(\"testset\");\n",
    "stmt.setFilter(Filter.range(\"age\", 30, 100));  \n",
    "\n",
    "QueryPolicy qp = new QueryPolicy();\n",
    "\n",
    "qp.filterExp = Exp.build(\n",
    "                Exp.regexCompare(\"^S.*\", RegexFlag.ICASE| RegexFlag.NEWLINE, Exp.stringBin(\"name\"))\n",
    "               ); // names starting with S or s\n",
    "    \n",
    "RecordSet rs = client.query(qp, stmt);\n",
    "\n",
    "while (rs.next()){\n",
    "  Record r = rs.getRecord();\n",
    "  System.out.println(r);\n",
    "}"
   ]
  },
  {
   "cell_type": "markdown",
   "id": "c7edb328-00c1-4def-acf2-77d2eed85f39",
   "metadata": {},
   "source": [
    "### Aerospike's Secondary Index can be used on a single SI only in a given query. With Expressions, you can do additional server side filtering.  \n",
    "### **Note:** A basic query is READ_ONLY. So Statment.setOperations() will be silently ignored.\n",
    "\n",
    "### To update records with Expression Operations, with Secondary Index filter, as well as Expression Filter, we must do _Background Operations_. \n",
    "\n",
    "### Recall this overall Query picture &darr; ? Let's see how to run _Background Operations_.\n"
   ]
  },
  {
   "cell_type": "markdown",
   "id": "f116c77a-9692-4933-8eb1-0ee1d1b61af2",
   "metadata": {},
   "source": [
    "<img src=\"./pngs/Slide25.png\"\n",
    "     alt=\"Slide25\"\n",
    "     style=\"float: left; margin-right: 10px;\"\n",
    "     width=\"1024\"\n",
    "     height=\"768\"/>"
   ]
  },
  {
   "cell_type": "markdown",
   "id": "2fae4a71-2b00-4d6e-82a1-dde4198bed09",
   "metadata": {},
   "source": [
    "<img src=\"./pngs/Slide26.png\"\n",
    "     alt=\"Slide26\"\n",
    "     style=\"float: left; margin-right: 10px;\"\n",
    "     width=\"1024\"\n",
    "     height=\"768\"/>"
   ]
  },
  {
   "cell_type": "markdown",
   "id": "d79a468d-1c58-4e5d-880d-f8855ed8ce32",
   "metadata": {},
   "source": [
    "### Background Operation Update using Secondary Index and Expression Filtering with Expression Operation\n",
    "### Use our names/age/gender data, with numeric Secondary Index on _age_.\n",
    "### Find records where _age_ is greater than **30** **_and_** _gender_ is **\"f\"**, to them, **add** US Female Life Expectancy bin **_le_** of value **77.43** (years) \n",
    "\n"
   ]
  },
  {
   "cell_type": "code",
   "execution_count": 32,
   "id": "7f0614c7-afc9-429a-b600-8266a8101c65",
   "metadata": {},
   "outputs": [],
   "source": [
    "// Needed imports\n",
    "import com.aerospike.client.task.ExecuteTask;"
   ]
  },
  {
   "cell_type": "code",
   "execution_count": 33,
   "id": "aaa73d00-63e7-4396-b9b9-6419b360832c",
   "metadata": {},
   "outputs": [],
   "source": [
    "//SI query Statement\n",
    "Statement stmt = new Statement();\n",
    "stmt.setNamespace(\"test\");\n",
    "stmt.setSetName(\"testset\");\n",
    "stmt.setFilter(Filter.range(\"age\", 30, 100));  \n",
    "\n",
    "WritePolicy wPolicy = new WritePolicy();\n",
    "\n",
    "wPolicy.filterExp = Exp.build(\n",
    "                Exp.eq(Exp.stringBin(\"gender\"), Exp.val(\"f\"))\n",
    "               ); // gender is \"f\"\n",
    "\n",
    "Expression writeExp = Exp.build(Exp.val(77.43));\n",
    "\n",
    "Operation[] operations = new Operation[1];\n",
    "\n",
    "operations[0]= ExpOperation.write(\"le\", writeExp, ExpWriteFlags.DEFAULT);\n",
    "\n",
    "stmt.setOperations(operations);\n",
    "    \n",
    "ExecuteTask et = client.execute(wPolicy, stmt);\n"
   ]
  },
  {
   "cell_type": "code",
   "execution_count": 34,
   "id": "97048467-4308-447b-ac22-8f1eb637ad2f",
   "metadata": {},
   "outputs": [
    {
     "name": "stdout",
     "output_type": "stream",
     "text": [
      "(gen:2),(exp:475950848),(bins:(name:Sandra),(age:34),(gender:f),(le:77.43))\n",
      "(gen:1),(exp:475950847),(bins:(name:Jack),(age:26),(gender:m))\n",
      "(gen:1),(exp:475950847),(bins:(name:Jill),(age:20),(gender:f))\n",
      "(gen:1),(exp:475950847),(bins:(name:James),(age:38),(gender:m))\n",
      "(gen:1),(exp:475950847),(bins:(name:Jim),(age:46),(gender:m))\n",
      "(gen:2),(exp:475950848),(bins:(name:Julia),(age:62),(gender:f),(le:77.43))\n",
      "(gen:2),(exp:475950848),(bins:(name:Sally),(age:32),(gender:f),(le:77.43))\n",
      "(gen:1),(exp:475950847),(bins:(name:Sean),(age:24),(gender:m))\n",
      "(gen:1),(exp:475950847),(bins:(name:Sam),(age:12),(gender:m))\n",
      "(gen:2),(exp:475950848),(bins:(name:Susan),(age:42),(gender:f),(le:77.43))\n"
     ]
    }
   ],
   "source": [
    "//Check\n",
    "Policy rPolicy = new Policy();\n",
    "for(int i=0; i<10; i++){\n",
    "    System.out.println( client.get(rPolicy, new Key(\"test\",\"testset\",\"key\"+i)));\n",
    "}\n"
   ]
  },
  {
   "cell_type": "markdown",
   "id": "0e390343-424d-44a9-b64a-2c45c4433a1c",
   "metadata": {},
   "source": [
    "## Finally, lets look at Expressions support for Batch Index APIs\n",
    "### Let's start with Batch Index Reads with Filter Expressions and Read Operation Expressions.\n"
   ]
  },
  {
   "cell_type": "markdown",
   "id": "95419cc7-7e5e-4ec8-9002-76c97683f0e9",
   "metadata": {},
   "source": [
    "<img src=\"./pngs/Slide27.png\"\n",
    "     alt=\"Slide27\"\n",
    "     style=\"float: left; margin-right: 10px;\"\n",
    "     width=\"1024\"\n",
    "     height=\"768\"/>"
   ]
  },
  {
   "cell_type": "code",
   "execution_count": 35,
   "id": "06387377-f316-4f73-bc3b-d1a3f6662bd1",
   "metadata": {},
   "outputs": [
    {
     "name": "stdout",
     "output_type": "stream",
     "text": [
      "key0  :(gen:2),(exp:475950848),(bins:(name:Sandra),(age:34),(gender:f),(le:77.43))\n",
      "key1  :(gen:1),(exp:475950847),(bins:(name:Jack),(age:26),(gender:m))\n",
      "key2  :(gen:1),(exp:475950847),(bins:(name:Jill),(age:20),(gender:f))\n",
      "key3  :(gen:1),(exp:475950847),(bins:(name:James),(age:38),(gender:m))\n",
      "key4  :(gen:1),(exp:475950847),(bins:(name:Jim),(age:46),(gender:m))\n",
      "key5  :(gen:2),(exp:475950848),(bins:(name:Julia),(age:62),(gender:f),(le:77.43))\n",
      "key6  :(gen:2),(exp:475950848),(bins:(name:Sally),(age:32),(gender:f),(le:77.43))\n",
      "key7  :(gen:1),(exp:475950847),(bins:(name:Sean),(age:24),(gender:m))\n",
      "key8  :(gen:1),(exp:475950847),(bins:(name:Sam),(age:12),(gender:m))\n",
      "key9  :(gen:2),(exp:475950848),(bins:(name:Susan),(age:42),(gender:f),(le:77.43))\n"
     ]
    }
   ],
   "source": [
    "//Check our data, print the key value also for selecting for batch index read.\n",
    "Policy rPolicy = new Policy();\n",
    "for(int i=0; i<10; i++){\n",
    "    System.out.println( \"key\"+i+ \"  :\"+ client.get(rPolicy, new Key(\"test\",\"testset\",\"key\"+i)));\n",
    "}\n"
   ]
  },
  {
   "cell_type": "markdown",
   "id": "0ea49cc7-98e0-46c9-bbc5-cf3e0fe28018",
   "metadata": {},
   "source": [
    "### Let's code ... \n",
    "### Use our names/age/gender data, with numeric Secondary Index on _age_.\n",
    "### Find records where _age_ is greater than **30** **_and_** _gender_ is **\"f\"**, add return the difference between the life expectancy bin _le_ of value **77.43** (years) and the _age_, as expected (integer) years remaining.\n",
    "\n"
   ]
  },
  {
   "cell_type": "markdown",
   "id": "e9f09f42-f428-45e9-8045-102a73873977",
   "metadata": {},
   "source": [
    "#### Note: In our case, only keys _key0, key5, key6 and key9_  have the _le_ bin.\n",
    "\n",
    "#### Quick check - basic Batch Index Read of all the keys.\n"
   ]
  },
  {
   "cell_type": "code",
   "execution_count": 36,
   "id": "9661eee5-bd5f-426a-8678-67b88de5e268",
   "metadata": {},
   "outputs": [],
   "source": [
    "//Needed Imports\n",
    "import com.aerospike.client.policy.BatchPolicy;"
   ]
  },
  {
   "cell_type": "code",
   "execution_count": 37,
   "id": "7cbefa72-0a8d-4fa3-bc7c-c764d4895544",
   "metadata": {},
   "outputs": [
    {
     "name": "stdout",
     "output_type": "stream",
     "text": [
      "(gen:2),(exp:475950848),(bins:(name:Sandra),(age:34),(gender:f),(le:77.43))\n",
      "(gen:1),(exp:475950847),(bins:(name:Jack),(age:26),(gender:m))\n",
      "(gen:1),(exp:475950847),(bins:(name:Jill),(age:20),(gender:f))\n",
      "(gen:1),(exp:475950847),(bins:(name:James),(age:38),(gender:m))\n",
      "(gen:1),(exp:475950847),(bins:(name:Jim),(age:46),(gender:m))\n",
      "(gen:2),(exp:475950848),(bins:(name:Julia),(age:62),(gender:f),(le:77.43))\n",
      "(gen:2),(exp:475950848),(bins:(name:Sally),(age:32),(gender:f),(le:77.43))\n",
      "(gen:1),(exp:475950847),(bins:(name:Sean),(age:24),(gender:m))\n",
      "(gen:1),(exp:475950847),(bins:(name:Sam),(age:12),(gender:m))\n",
      "(gen:2),(exp:475950848),(bins:(name:Susan),(age:42),(gender:f),(le:77.43))\n"
     ]
    }
   ],
   "source": [
    "BatchPolicy bPolicy = new BatchPolicy();\n",
    "\n",
    "//Build the array of keys you want to read\n",
    "Key[] keys = new Key[10];\n",
    "for(int i=0; i<10; i++) {\n",
    "  keys[i]= new Key(\"test\", \"testset\", \"key\"+i);\n",
    "}\n",
    "\n",
    "//Use batch index read API. \n",
    "Record[] recordSet = client.get(bPolicy, keys);  //Single API call\n",
    "\n",
    "//Check the results\n",
    "for(int i=0; i<10; i++) {\n",
    "    System.out.println(recordSet[i]);\n",
    "}\n"
   ]
  },
  {
   "cell_type": "markdown",
   "id": "31762c29-c2ab-48df-a4c4-744317b193e0",
   "metadata": {},
   "source": [
    "#### Let's add the filter expression for age and gender"
   ]
  },
  {
   "cell_type": "code",
   "execution_count": 38,
   "id": "ada9db90-b337-468e-9e5b-32ec25befb34",
   "metadata": {},
   "outputs": [
    {
     "name": "stdout",
     "output_type": "stream",
     "text": [
      "(gen:2),(exp:475950848),(bins:(name:Sandra),(age:34),(gender:f),(le:77.43))\n",
      "(gen:2),(exp:475950848),(bins:(name:Julia),(age:62),(gender:f),(le:77.43))\n",
      "(gen:2),(exp:475950848),(bins:(name:Sally),(age:32),(gender:f),(le:77.43))\n",
      "(gen:2),(exp:475950848),(bins:(name:Susan),(age:42),(gender:f),(le:77.43))\n"
     ]
    }
   ],
   "source": [
    "BatchPolicy bPolicy = new BatchPolicy();\n",
    "\n",
    "bPolicy.filterExp = Exp.build( \n",
    "                    Exp.and(\n",
    "                      Exp.gt(Exp.intBin(\"age\"), Exp.val(30)),\n",
    "                      Exp.eq(Exp.stringBin(\"gender\"), Exp.val(\"f\"))\n",
    "                    ) );\n",
    "\n",
    "//Build the array of keys you want to read\n",
    "Key[] keys = new Key[10];\n",
    "for(int i=0; i<10; i++) {\n",
    "  keys[i]= new Key(\"test\", \"testset\", \"key\"+i);\n",
    "}\n",
    "\n",
    "//Use batch index read API. \n",
    "Record[] recordSet = client.get(bPolicy, keys);  //Single API call\n",
    "\n",
    "//Check the results\n",
    "for(int i=0; i<10; i++) {\n",
    "    if(recordSet[i] != null) System.out.println(recordSet[i]);\n",
    "}\n"
   ]
  },
  {
   "cell_type": "markdown",
   "id": "f5f619f0-dd2e-486a-95bb-b4196bc270b4",
   "metadata": {},
   "source": [
    "#### Let's add the Read Expression Operation to return Life Expectancy minus age\n",
    "\n",
    "#### **Note**: We convert _le_ bin, which is float, to int, to subtract it from _age_ bin, making types compatible and computing an integer result."
   ]
  },
  {
   "cell_type": "code",
   "execution_count": 39,
   "id": "c4a65b90-404f-4859-932e-13b99b2ec99d",
   "metadata": {},
   "outputs": [
    {
     "name": "stdout",
     "output_type": "stream",
     "text": [
      "name: Sandra, age: 34, Remaining Expected Life: 43 years.\n",
      "name: Julia, age: 62, Remaining Expected Life: 15 years.\n",
      "name: Sally, age: 32, Remaining Expected Life: 45 years.\n",
      "name: Susan, age: 42, Remaining Expected Life: 35 years.\n"
     ]
    }
   ],
   "source": [
    "BatchPolicy bPolicy = new BatchPolicy();\n",
    "\n",
    "bPolicy.filterExp = Exp.build( \n",
    "                    Exp.and(\n",
    "                      Exp.gt(Exp.intBin(\"age\"), Exp.val(30)),\n",
    "                      Exp.eq(Exp.stringBin(\"gender\"), Exp.val(\"f\"))\n",
    "                    ) );\n",
    "\n",
    "Expression readExp = Exp.build(Exp.sub(Exp.toInt(Exp.floatBin(\"le\")), Exp.intBin(\"age\")));  \n",
    "Operation[] readOps = new Operation[3];\n",
    "readOps[0] = ExpOperation.read(\"retval\", readExp, ExpReadFlags.DEFAULT);\n",
    "readOps[1] = Operation.get(\"name\"); \n",
    "readOps[2] = Operation.get(\"age\"); \n",
    "\n",
    "\n",
    "//Build the array of keys you want to read\n",
    "Key[] keys = new Key[10];\n",
    "for(int i=0; i<10; i++) {\n",
    "  keys[i]= new Key(\"test\", \"testset\", \"key\"+i);\n",
    "}\n",
    "\n",
    "//Use batch index read API. \n",
    "Record[] recordSet = client.get(bPolicy, keys, readOps);  //Overloaded Batch Index read that takes Operations\n",
    "\n",
    "//Check the results\n",
    "for(int i=0; i<10; i++) {\n",
    "    if(recordSet[i] != null) {\n",
    "        System.out.println(\n",
    "            \"name: \"+ recordSet[i].getString(\"name\")+\n",
    "            \", age: \"+ recordSet[i].getInt(\"age\")+\n",
    "            \", Remaining Expected Life: \"+ recordSet[i].getInt(\"retval\") + \" years.\"\n",
    "        );\n",
    "    }\n",
    "}\n"
   ]
  },
  {
   "cell_type": "markdown",
   "id": "9cd6088d-df15-4e9f-9cc6-df4e76d3fdba",
   "metadata": {},
   "source": [
    "### Now let's look at a simple Batch Index Write with Filter Expressions and Write Operation Expressions.\n"
   ]
  },
  {
   "cell_type": "markdown",
   "id": "523605e7-a64f-455a-9178-a30868a64502",
   "metadata": {},
   "source": [
    "<img src=\"./pngs/Slide28.png\"\n",
    "     alt=\"Slide28\"\n",
    "     style=\"float: left; margin-right: 10px;\"\n",
    "     width=\"1024\"\n",
    "     height=\"768\"/>"
   ]
  },
  {
   "cell_type": "code",
   "execution_count": 40,
   "id": "1d33954c-dd11-40d6-8d69-4aeac5114da9",
   "metadata": {},
   "outputs": [
    {
     "name": "stdout",
     "output_type": "stream",
     "text": [
      "key0  :(gen:2),(exp:475950848),(bins:(name:Sandra),(age:34),(gender:f),(le:77.43))\n",
      "key1  :(gen:1),(exp:475950847),(bins:(name:Jack),(age:26),(gender:m))\n",
      "key2  :(gen:1),(exp:475950847),(bins:(name:Jill),(age:20),(gender:f))\n",
      "key3  :(gen:1),(exp:475950847),(bins:(name:James),(age:38),(gender:m))\n",
      "key4  :(gen:1),(exp:475950847),(bins:(name:Jim),(age:46),(gender:m))\n",
      "key5  :(gen:2),(exp:475950848),(bins:(name:Julia),(age:62),(gender:f),(le:77.43))\n",
      "key6  :(gen:2),(exp:475950848),(bins:(name:Sally),(age:32),(gender:f),(le:77.43))\n",
      "key7  :(gen:1),(exp:475950847),(bins:(name:Sean),(age:24),(gender:m))\n",
      "key8  :(gen:1),(exp:475950847),(bins:(name:Sam),(age:12),(gender:m))\n",
      "key9  :(gen:2),(exp:475950848),(bins:(name:Susan),(age:42),(gender:f),(le:77.43))\n"
     ]
    }
   ],
   "source": [
    "//Check our data, print the key value also for selecting for batch index read.\n",
    "Policy rPolicy = new Policy();\n",
    "for(int i=0; i<10; i++){\n",
    "    System.out.println( \"key\"+i+ \"  :\"+ client.get(rPolicy, new Key(\"test\",\"testset\",\"key\"+i)));\n",
    "}\n"
   ]
  },
  {
   "cell_type": "markdown",
   "id": "0c78882d-4df4-4a0e-92c3-d71f244b760c",
   "metadata": {},
   "source": [
    "### Let's filter all records where gender is \"m\" and age is > 30, using Filter Expressions, and then, add US Male Life Expectancy of 74.8 (years) in the _le_ bin using Batch Index Writes.\n",
    "\n",
    "### Earlier, we added _le_ for _gender_ \"f\" using a Background job, filtering records using a Secondary Index and Expression Filter and Operations via Write Expression Operation.  \n",
    "\n",
    "### Batch Index Write is foreground execution. It therefore allows you to process exceptions also.\n"
   ]
  },
  {
   "cell_type": "code",
   "execution_count": 41,
   "id": "9d665f63-8db7-45de-97a4-ce38ed1d091b",
   "metadata": {},
   "outputs": [],
   "source": [
    "// Needed additional imports\n",
    "import com.aerospike.client.policy.BatchWritePolicy;\n",
    "import com.aerospike.client.BatchResults;"
   ]
  },
  {
   "cell_type": "code",
   "execution_count": 42,
   "id": "d9a73107-c34f-4344-b934-c61f1934215c",
   "metadata": {},
   "outputs": [
    {
     "name": "stdout",
     "output_type": "stream",
     "text": [
      "BatchResults: null\n",
      "BatchResults: null\n",
      "BatchResults: null\n",
      "BatchResults: (gen:2),(exp:475950850),(bins:(le:[null, 74.8]),(name:James),(age:38))\n",
      "BatchResults: (gen:2),(exp:475950850),(bins:(le:[null, 74.8]),(name:Jim),(age:46))\n",
      "BatchResults: null\n",
      "BatchResults: null\n",
      "BatchResults: null\n",
      "BatchResults: null\n",
      "BatchResults: null\n"
     ]
    }
   ],
   "source": [
    "//Build the array of keys you want to potentially update\n",
    "Key[] keys = new Key[10];\n",
    "for(int i=0; i<10; i++) {\n",
    "  keys[i]= new Key(\"test\", \"testset\", \"key\"+i);\n",
    "}\n",
    "\n",
    "BatchPolicy bPolicy = new BatchPolicy();  \n",
    "\n",
    "bPolicy.filterExp = Exp.build(\n",
    "                Exp.and(\n",
    "                  Exp.gt(Exp.intBin(\"age\"), Exp.val(30)),\n",
    "                  Exp.eq(Exp.stringBin(\"gender\"), Exp.val(\"m\"))\n",
    "                )\n",
    "               ); // gender is \"m\"\n",
    "\n",
    "BatchWritePolicy bwPolicy = new BatchWritePolicy();  //This could be used to implement things like durableDelete=true\n",
    "\n",
    "Expression writeExp = Exp.build(Exp.val(74.80));\n",
    "\n",
    "Operation[] operations = new Operation[4];\n",
    "\n",
    "operations[0]= ExpOperation.write(\"le\", writeExp, ExpWriteFlags.DEFAULT);\n",
    "//Just to check after write is done\n",
    "operations[1] = Operation.get(\"name\");\n",
    "operations[2] = Operation.get(\"age\");\n",
    "operations[3] = Operation.get(\"le\");\n",
    "\n",
    "BatchResults bresults = client.operate(bPolicy, bwPolicy, keys, operations);\n",
    "\n",
    "// We are skipping Exceptions processing in this simple demo. We added get() Operations to see data in \"record\". \n",
    "for(int i=0; i<10; i++) {\n",
    "  System.out.println(\"BatchResults: \"+ bresults.records[i].record);\n",
    "}\n"
   ]
  },
  {
   "cell_type": "markdown",
   "id": "55717083-38e5-423e-a98f-32ad95b4d4f3",
   "metadata": {},
   "source": [
    "### Note &uarr; - when you do multiple operations on the same bin, the result returned is an array of results from each operation. When we create the _le_ bin, the write result is null but when we do a get() operation on the same bin, we get its updated value.\n",
    "### Hence, you see: le[null, 74.8] \n",
    "\n",
    "### &darr; Final Data set below.\n"
   ]
  },
  {
   "cell_type": "code",
   "execution_count": 43,
   "id": "bc55e36e-886d-468a-ba19-aeb271e44619",
   "metadata": {},
   "outputs": [
    {
     "name": "stdout",
     "output_type": "stream",
     "text": [
      "key0  :(gen:2),(exp:475950848),(bins:(name:Sandra),(age:34),(gender:f),(le:77.43))\n",
      "key1  :(gen:1),(exp:475950847),(bins:(name:Jack),(age:26),(gender:m))\n",
      "key2  :(gen:1),(exp:475950847),(bins:(name:Jill),(age:20),(gender:f))\n",
      "key3  :(gen:2),(exp:475950850),(bins:(name:James),(age:38),(gender:m),(le:74.8))\n",
      "key4  :(gen:2),(exp:475950850),(bins:(name:Jim),(age:46),(gender:m),(le:74.8))\n",
      "key5  :(gen:2),(exp:475950848),(bins:(name:Julia),(age:62),(gender:f),(le:77.43))\n",
      "key6  :(gen:2),(exp:475950848),(bins:(name:Sally),(age:32),(gender:f),(le:77.43))\n",
      "key7  :(gen:1),(exp:475950847),(bins:(name:Sean),(age:24),(gender:m))\n",
      "key8  :(gen:1),(exp:475950847),(bins:(name:Sam),(age:12),(gender:m))\n",
      "key9  :(gen:2),(exp:475950848),(bins:(name:Susan),(age:42),(gender:f),(le:77.43))\n"
     ]
    }
   ],
   "source": [
    "//Check our data, print the key value also for selecting for batch index read.\n",
    "Policy rPolicy = new Policy();\n",
    "for(int i=0; i<10; i++){\n",
    "    System.out.println( \"key\"+i+ \"  :\"+ client.get(rPolicy, new Key(\"test\",\"testset\",\"key\"+i)));\n",
    "}\n"
   ]
  },
  {
   "cell_type": "markdown",
   "id": "8d957d42-ecf5-44de-bae8-d2be8af4d0f2",
   "metadata": {},
   "source": [
    "### There is a lot more to explore with Expressions! Time permitting, we can review a \"Fraud Detection\" code demo.\n",
    "\n",
    "## Let's do a quick review of all the different Batch Index APIs\n",
    "### If there is a specific use case, the client library (public repo) has test examples that you can follow."
   ]
  },
  {
   "cell_type": "markdown",
   "id": "04c5f4bb-73be-4dc8-9c59-b43f2301fc20",
   "metadata": {},
   "source": [
    "<img src=\"./pngs/Slide29.png\"\n",
    "     alt=\"Slide29\"\n",
    "     style=\"float: left; margin-right: 10px;\"\n",
    "     width=\"1024\"\n",
    "     height=\"768\"/>"
   ]
  },
  {
   "cell_type": "markdown",
   "id": "0bd7ec8b-c3ac-498e-a7b1-1609407dcfb3",
   "metadata": {},
   "source": [
    "<img src=\"./pngs/Slide30.png\"\n",
    "     alt=\"Slide31\"\n",
    "     style=\"float: left; margin-right: 10px;\"\n",
    "     width=\"1024\"\n",
    "     height=\"768\"/>"
   ]
  },
  {
   "cell_type": "markdown",
   "id": "3eb4ab0a-7b6c-4e5c-890d-04f9f83f9301",
   "metadata": {},
   "source": [
    "<img src=\"./pngs/Slide31.png\"\n",
    "     alt=\"Slide31\"\n",
    "     style=\"float: left; margin-right: 10px;\"\n",
    "     width=\"1024\"\n",
    "     height=\"768\"/>"
   ]
  },
  {
   "cell_type": "markdown",
   "id": "d6ef0be0-5dd7-4a7c-8da8-c63c73feecca",
   "metadata": {},
   "source": [
    "<img src=\"./pngs/Slide32.png\"\n",
    "     alt=\"Slide32\"\n",
    "     style=\"float: left; margin-right: 10px;\"\n",
    "     width=\"1024\"\n",
    "     height=\"768\"/>"
   ]
  },
  {
   "cell_type": "markdown",
   "id": "90986436-b266-45f3-827f-fa1793450fd7",
   "metadata": {},
   "source": [
    "<img src=\"./pngs/Slide33.png\"\n",
    "     alt=\"Slide33\"\n",
    "     style=\"float: left; margin-right: 10px;\"\n",
    "     width=\"1024\"\n",
    "     height=\"768\"/>"
   ]
  },
  {
   "cell_type": "markdown",
   "id": "a780f4f5-7cc3-4e01-981a-718e0319f202",
   "metadata": {},
   "source": [
    "## Batch Index APIs - Epilogue \n",
    "### Great for foreground execution, as opposed to background operations, which essentially should be idempotent. \n",
    "### The Batch Index API has a lot of handles in policies. Has all sorts of flexibility and execution granularity. \n"
   ]
  },
  {
   "attachments": {},
   "cell_type": "markdown",
   "id": "f199071e-323d-400f-b847-12f30f64f8d9",
   "metadata": {},
   "source": [
    "## Let's Review Maps and Lists in Aerospike, next. \n",
    "### With that background, we can dive deeper into Secondary Indexes on nested CDTs (Maps and Lists, Collection Data Types)."
   ]
  },
  {
   "cell_type": "markdown",
   "id": "bf95591d-49b1-4009-8044-ba6c172289bf",
   "metadata": {},
   "source": [
    "<img src=\"./pngs/Slide34.png\"\n",
    "     alt=\"Slide34\"\n",
    "     style=\"float: left; margin-right: 10px;\"\n",
    "     width=\"1024\"\n",
    "     height=\"768\"/>"
   ]
  },
  {
   "cell_type": "markdown",
   "id": "b22628b0-6cf6-417d-aa69-2228ab71a13e",
   "metadata": {},
   "source": [
    "<img src=\"./pngs/Slide35.png\"\n",
    "     alt=\"Slide35\"\n",
    "     style=\"float: left; margin-right: 10px;\"\n",
    "     width=\"1024\"\n",
    "     height=\"768\"/>"
   ]
  },
  {
   "cell_type": "markdown",
   "id": "c7cc188c-82e7-4071-88f3-a938a4a27b25",
   "metadata": {},
   "source": [
    "<img src=\"./pngs/Slide36.png\"\n",
    "     alt=\"Slide36\"\n",
    "     style=\"float: left; margin-right: 10px;\"\n",
    "     width=\"1024\"\n",
    "     height=\"768\"/>"
   ]
  },
  {
   "cell_type": "markdown",
   "id": "be2316c7-19ee-449b-bb31-1983c9c416de",
   "metadata": {},
   "source": [
    "<img src=\"./pngs/Slide37.png\"\n",
    "     alt=\"Slide37\"\n",
    "     style=\"float: left; margin-right: 10px;\"\n",
    "     width=\"1024\"\n",
    "     height=\"768\"/>"
   ]
  },
  {
   "cell_type": "markdown",
   "id": "399e0728-a73e-4d54-b930-b114a9504b26",
   "metadata": {},
   "source": [
    "<img src=\"./pngs/Slide38.png\"\n",
    "     alt=\"Slide38\"\n",
    "     style=\"float: left; margin-right: 10px;\"\n",
    "     width=\"1024\"\n",
    "     height=\"768\"/>"
   ]
  },
  {
   "cell_type": "markdown",
   "id": "1ee0eb5d-e97e-457b-b0a3-9bb935557c12",
   "metadata": {},
   "source": [
    "<img src=\"./pngs/Slide39.png\"\n",
    "     alt=\"Slide39\"\n",
    "     style=\"float: left; margin-right: 10px;\"\n",
    "     width=\"1024\"\n",
    "     height=\"768\"/>"
   ]
  },
  {
   "cell_type": "markdown",
   "id": "74840e6a-c7da-413f-a376-878791025aa2",
   "metadata": {},
   "source": [
    "<img src=\"./pngs/Slide40.png\"\n",
    "     alt=\"Slide40\"\n",
    "     style=\"float: left; margin-right: 10px;\"\n",
    "     width=\"1024\"\n",
    "     height=\"768\"/>"
   ]
  },
  {
   "cell_type": "markdown",
   "id": "f05d2105-c8fa-4946-a4dd-e5bbd703f54c",
   "metadata": {},
   "source": [
    "<img src=\"./pngs/Slide41.png\"\n",
    "     alt=\"Slide41\"\n",
    "     style=\"float: left; margin-right: 10px;\"\n",
    "     width=\"1024\"\n",
    "     height=\"768\"/>"
   ]
  },
  {
   "cell_type": "markdown",
   "id": "ac1c491c-b8b5-4d63-9a89-d1d033d7448a",
   "metadata": {},
   "source": [
    "<img src=\"./pngs/Slide42.png\"\n",
    "     alt=\"Slide42\"\n",
    "     style=\"float: left; margin-right: 10px;\"\n",
    "     width=\"1024\"\n",
    "     height=\"768\"/>"
   ]
  },
  {
   "cell_type": "markdown",
   "id": "8fb59c14-47cd-45c1-abf2-30c19b3266df",
   "metadata": {},
   "source": [
    "<img src=\"./pngs/Slide43.png\"\n",
    "     alt=\"Slide43\"\n",
    "     style=\"float: left; margin-right: 10px;\"\n",
    "     width=\"1024\"\n",
    "     height=\"768\"/>"
   ]
  },
  {
   "cell_type": "markdown",
   "id": "ef969d7f-90fd-4eef-9bcf-37894c6aee21",
   "metadata": {},
   "source": [
    "<img src=\"./pngs/Slide44.png\"\n",
    "     alt=\"Slide44\"\n",
    "     style=\"float: left; margin-right: 10px;\"\n",
    "     width=\"1024\"\n",
    "     height=\"768\"/>"
   ]
  },
  {
   "cell_type": "markdown",
   "id": "85c277a2-c101-4957-be0f-f631af59cd6f",
   "metadata": {},
   "source": [
    "<img src=\"./pngs/Slide45.png\"\n",
    "     alt=\"Slide45\"\n",
    "     style=\"float: left; margin-right: 10px;\"\n",
    "     width=\"1024\"\n",
    "     height=\"768\"/>"
   ]
  },
  {
   "attachments": {},
   "cell_type": "markdown",
   "id": "c4953896-5431-4fe0-b4f6-69dda3fab7bb",
   "metadata": {},
   "source": [
    "\n",
    "## Hands-on with MapWriteFlags \n",
    "### Let's start with deleting any previous records and sindexes, start with a clean slate.\n"
   ]
  },
  {
   "cell_type": "code",
   "execution_count": 44,
   "id": "e771aca8-b271-4d60-8e89-84e560641570",
   "metadata": {},
   "outputs": [],
   "source": [
    "%sh asadm --enable -e \"manage truncate ns test --no-warn\" -h \"127.0.0.1\""
   ]
  },
  {
   "cell_type": "code",
   "execution_count": 45,
   "id": "51a44dfa-c64e-48d1-b865-21e89cdc0fb8",
   "metadata": {},
   "outputs": [],
   "source": [
    "%sh asadm --enable -e \"manage sindex delete idx_age ns test set testset\""
   ]
  },
  {
   "cell_type": "code",
   "execution_count": 46,
   "id": "7aa8bb6a-5e7c-4106-ad2d-60349b602533",
   "metadata": {},
   "outputs": [],
   "source": [
    "%sh asadm --enable -e \"manage sindex delete idx_gender ns test set testset\""
   ]
  },
  {
   "attachments": {},
   "cell_type": "markdown",
   "id": "8c1f759d-6b77-4c03-a39d-31433a2bf2ad",
   "metadata": {},
   "source": [
    "\n",
    "### Let's setup our record key, couple of bins - an integer bin and a string bin, and then our map data objects.\n",
    "### Let's also define 4 different MapPolicy objects with different MapWriteFlags"
   ]
  },
  {
   "cell_type": "code",
   "execution_count": 47,
   "id": "96128dd6-a36e-4748-a44c-b1f379753579",
   "metadata": {},
   "outputs": [],
   "source": [
    "//Needed additional imports\n",
    "import java.util.HashMap;\n",
    "import java.util.Map;\n",
    "\n",
    "import com.aerospike.client.cdt.MapPolicy;\n",
    "import com.aerospike.client.cdt.MapOrder;\n",
    "import com.aerospike.client.cdt.MapWriteFlags;"
   ]
  },
  {
   "cell_type": "code",
   "execution_count": 48,
   "id": "d7d38455-b219-431e-bcf5-e98b536da552",
   "metadata": {},
   "outputs": [],
   "source": [
    "Key key1 = new Key(\"test\", \"testset\", \"key1\");\n",
    "\n",
    "Bin mybin1 = new Bin(\"mybin1\", 1);      //Integer bin          \n",
    "Bin mybin2 = new Bin(\"mybin2\", \"abc\");  //String bin            \n",
    "\n",
    "//Generate data for map bins\n",
    "Map<Value, Value> m1 = new HashMap<Value, Value>(); //Map items (k:v pairs) m1 for map bin          \n",
    "m1.put(Value.get(\"k1\"), Value.get(1));                \n",
    "m1.put(Value.get(\"k2\"), Value.get(2));                \n",
    "m1.put(Value.get(\"k3\"), Value.get(3));                \n",
    "m1.put(Value.get(\"k4\"), Value.get(4));                \n",
    "m1.put(Value.get(\"k5\"), Value.get(5));                \n",
    "\n",
    "Map<Value, Value> m2 = new HashMap<Value, Value>(); //Map items m2 for adding to the map bin\n",
    "m2.put(Value.get(\"k6\"), Value.get(6));                \n",
    "m2.put(Value.get(\"k7\"), Value.get(7));                \n",
    "m2.put(Value.get(\"k8\"), Value.get(8));                \n",
    "m2.put(Value.get(\"k9\"), Value.get(9));                \n",
    "m2.put(Value.get(\"k10\"), Value.get(10));\n",
    "\n",
    "// WritePolicy for the operate() API\n",
    "WritePolicy wPolicy = new WritePolicy();\n",
    "\n",
    "//Let's define 4 different MapPolicy objects with different MapWriteFlags\n",
    "\n",
    "MapPolicy mPolicy_DEF = new MapPolicy(MapOrder.UNORDERED, MapWriteFlags.DEFAULT);    //DEFAULT          \n",
    "\n",
    "MapPolicy mPolicy_CO = new MapPolicy(MapOrder.UNORDERED, MapWriteFlags.CREATE_ONLY);   //CREATE_ONLY             \n",
    "\n",
    "MapPolicy mPolicy_CO_NF = new MapPolicy(MapOrder.UNORDERED,                                         \n",
    "                     MapWriteFlags.CREATE_ONLY|MapWriteFlags.NO_FAIL); //CREATE_ONLY with NO_FAIL(i.e. don't raise exception)               \n",
    "\n",
    "MapPolicy mPolicy_CO_NF_P = new MapPolicy(MapOrder.UNORDERED,\n",
    "                      MapWriteFlags.CREATE_ONLY|MapWriteFlags.NO_FAIL|MapWriteFlags.PARTIAL);                \n",
    "//CREATE_ONLY, with NO_FAIL and PARTIAL - not only don't raise an exception, let other Operations in the list succeed.\n"
   ]
  },
  {
   "attachments": {},
   "cell_type": "markdown",
   "id": "53b62f30-cd03-497d-85fc-530b99364d61",
   "metadata": {},
   "source": [
    "\n",
    "### Now let's insert our record with myMapBin1 having _m1_ data with default MapPolicy."
   ]
  },
  {
   "cell_type": "code",
   "execution_count": 49,
   "id": "e1c2a75c-e01b-414f-9f44-12dd75c4b21e",
   "metadata": {},
   "outputs": [],
   "source": [
    "//Needed additional imports\n",
    "import com.aerospike.client.cdt.MapOperation;"
   ]
  },
  {
   "cell_type": "code",
   "execution_count": 50,
   "id": "03a85250-b19b-404e-a6b3-daca528cf62d",
   "metadata": {},
   "outputs": [
    {
     "name": "stdout",
     "output_type": "stream",
     "text": [
      "(gen:1),(exp:475950855),(bins:(mybin1:1),(myMapBin1:{k3=3, k4=4, k5=5, k1=1, k2=2}),(mybin2:abc))\n"
     ]
    }
   ],
   "source": [
    "Record rec =  client.operate(wPolicy, key1,                  \n",
    "  Operation.put(mybin1),  //1                  \n",
    "  MapOperation.putItems(mPolicy_DEF, \"myMapBin1\", m1), //2                  \n",
    "  Operation.put(mybin2)             \n",
    ");\n",
    "\n",
    "//Check what we inserted\n",
    "System.out.println(client.get(null, key1));"
   ]
  },
  {
   "attachments": {},
   "cell_type": "markdown",
   "id": "8470e2ad-68cb-4385-947d-71653992bf1b",
   "metadata": {},
   "source": [
    "\n",
    "### So, we have: \n",
    "```\n",
    "myMapBin1 = { k1:1, k2:2, k3:3, k4:4, k5:5}\n",
    "```\n",
    "### Now, let's try to update a single K:V pair at key k1 with value 11 with CREATE_ONLY policy (We expect it to fail .. so try/catch it.)"
   ]
  },
  {
   "cell_type": "code",
   "execution_count": 51,
   "id": "97d9b638-29b7-4d2b-bb89-ccb12e79b42e",
   "metadata": {},
   "outputs": [
    {
     "name": "stdout",
     "output_type": "stream",
     "text": [
      "Error 24,1,0,30000,1000,0,A1 127.0.0.1 3000: Map key exists\n",
      "(gen:1),(exp:475950855),(bins:(mybin1:1),(myMapBin1:{k3=3, k4=4, k5=5, k1=1, k2=2}),(mybin2:abc))\n"
     ]
    }
   ],
   "source": [
    "\n",
    "try{\n",
    "    Record rec =  client.operate(wPolicy, key1, \n",
    "      MapOperation.put(mPolicy_CO, \"myMapBin1\", Value.get(\"k1\"), Value.get(11)) //Insert single K:V pair with CREATE_ONLY MapWriteFlag                 \n",
    "    );\n",
    "}\n",
    "catch (AerospikeException e){\n",
    "    System.out.println(e.getMessage());\n",
    "}\n",
    "\n",
    "\n",
    "//Check what we inserted\n",
    "System.out.println(client.get(null, key1));"
   ]
  },
  {
   "attachments": {},
   "cell_type": "markdown",
   "id": "c87439cd-af4a-4b9b-a42f-52859a223f49",
   "metadata": {},
   "source": [
    "\n",
    "### We got error, as expected. \n",
    "```\n",
    "myMapBin1 = { k1:1, k2:2, k3:3, k4:4, k5:5}\n",
    "```\n",
    "### Now, let's try to update the same single K:V pair at key k1 with value 11 with MapWriteFlags\n",
    "```\n",
    "CREATE_ONLY | NO_FAIL\n",
    "``` \n",
    "\n",
    "### (It should not update but should not raise an exception either)"
   ]
  },
  {
   "cell_type": "code",
   "execution_count": 52,
   "id": "8c35fd66-8b34-402b-9f21-c213de8956ff",
   "metadata": {},
   "outputs": [
    {
     "name": "stdout",
     "output_type": "stream",
     "text": [
      "(gen:2),(exp:475950855),(bins:(mybin1:1),(myMapBin1:{k3=3, k4=4, k5=5, k1=1, k2=2}),(mybin2:abc))\n"
     ]
    }
   ],
   "source": [
    "\n",
    "try{\n",
    "    Record rec =  client.operate(wPolicy, key1, \n",
    "      MapOperation.put(mPolicy_CO_NF, \"myMapBin1\", Value.get(\"k1\"), Value.get(11)) \n",
    "      //Insert single K:V pair with CREATE_ONLY|NO_FAIL MapWriteFlag                 \n",
    "    );\n",
    "}\n",
    "catch (AerospikeException e){\n",
    "    System.out.println(e.getMessage());\n",
    "}\n",
    "\n",
    "\n",
    "//Check what we inserted\n",
    "System.out.println(client.get(null, key1));"
   ]
  },
  {
   "attachments": {},
   "cell_type": "markdown",
   "id": "589f5751-d7ab-4dc9-bab3-10dd131b8802",
   "metadata": {},
   "source": [
    "\n",
    "### Note: It did not update, k1 is still at value 1, and it did not raise an exception either.\n",
    "### Try changing to mPolicy_DEF and it should update.\n",
    "\n",
    "### Next, let's add k6 with value 16 using CREATE_ONLY.  The key does not exist, so it should succeed."
   ]
  },
  {
   "cell_type": "code",
   "execution_count": 53,
   "id": "fecd09e2-5fe2-4228-984e-0497e2d56ace",
   "metadata": {},
   "outputs": [
    {
     "name": "stdout",
     "output_type": "stream",
     "text": [
      "(gen:3),(exp:475950855),(bins:(mybin1:1),(myMapBin1:{k3=3, k4=4, k5=5, k6=16, k1=1, k2=2}),(mybin2:abc))\n"
     ]
    }
   ],
   "source": [
    "\n",
    "try{\n",
    "    Record rec =  client.operate(wPolicy, key1, \n",
    "      MapOperation.put(mPolicy_CO, \"myMapBin1\", Value.get(\"k6\"), Value.get(16)) \n",
    "      //Insert single K:V pair with CREATE_ONLY MapWriteFlag                 \n",
    "    );\n",
    "}\n",
    "catch (AerospikeException e){\n",
    "    System.out.println(e.getMessage());\n",
    "}\n",
    "\n",
    "\n",
    "//Check what we inserted\n",
    "System.out.println(client.get(null, key1));"
   ]
  },
  {
   "attachments": {},
   "cell_type": "markdown",
   "id": "e2742716-63f1-4856-8f1d-b2a1586e27d0",
   "metadata": {},
   "source": [
    "\n",
    "### Well, as expected, that succeeded.\n",
    "### Now let's add _m2_ using putItems -- to insert multiple Key Value pairs. \n",
    "### We want to only insert the keys if they don't exist.  We have k6 already\n",
    "```\n",
    "myMapBin1:{k3=3, k4=4, k5=5, k6=16, k1=1, k2=2}\n",
    "```\n",
    "### and, if you recall from our initial Map cell:  _m2_ has k6, k7, k8, k9 and k10\n",
    "### If we use CO or CO_NF ... we would fail, in CO raise excpetion, in CO_NF, skip raising an exception.\n",
    "### However if we use CO_NF_P : \n",
    "```\n",
    "CREATE_ONLY | NO_FAIL | PARTIAL\n",
    "```\n",
    "### ... we will update all the other keys except k6.\n",
    "\n",
    "### Let's try each one by one in the same cell.  \n",
    "### **NOTE:** We are now using:\n",
    "```\n",
    "putItems()\n",
    "```"
   ]
  },
  {
   "cell_type": "code",
   "execution_count": 54,
   "id": "4769d137-8992-42ba-9e04-21ac92a6c392",
   "metadata": {},
   "outputs": [
    {
     "name": "stdout",
     "output_type": "stream",
     "text": [
      "(gen:4),(exp:475950855),(bins:(mybin1:1),(myMapBin1:{k1=1, k2=2, k3=3, k4=4, k5=5, k10=10, k6=16, k7=7, k8=8, k9=9}),(mybin2:abc))\n"
     ]
    }
   ],
   "source": [
    "\n",
    "try{\n",
    "    Record rec =  client.operate(wPolicy, key1, \n",
    "      MapOperation.putItems(mPolicy_CO_NF_P, \"myMapBin1\", m2) \n",
    "      //Insert m2{k6:6, k7:7, k8:8, k9:9, k10:10} \n",
    "      //Try different MapWriteFLags                 \n",
    "    );\n",
    "}\n",
    "catch (AerospikeException e){\n",
    "    System.out.println(e.getMessage());\n",
    "}\n",
    "\n",
    "\n",
    "//Check what we inserted\n",
    "System.out.println(client.get(null, key1));"
   ]
  },
  {
   "attachments": {},
   "cell_type": "markdown",
   "id": "191b8656-083d-481d-97b7-e590b608510f",
   "metadata": {},
   "source": [
    "\n",
    "### That &uarr; covers how to use different MapWriteFlags depending on the Data Model needs.\n",
    "\n",
    "## Next &darr; let's look at different ways we can access these Map elements as well as what to return from those map elements - the different return options.\n"
   ]
  },
  {
   "cell_type": "markdown",
   "id": "3eb91394-a9d2-4b1a-9c40-5c5eac7709b7",
   "metadata": {},
   "source": [
    "<img src=\"./pngs/Slide46.png\"\n",
    "     alt=\"Slide46\"\n",
    "     style=\"float: left; margin-right: 10px;\"\n",
    "     width=\"1024\"\n",
    "     height=\"768\"/>"
   ]
  },
  {
   "cell_type": "markdown",
   "id": "45aca234-5469-46ea-9f6e-cfc48c932135",
   "metadata": {},
   "source": [
    "<img src=\"./pngs/Slide47.png\"\n",
    "     alt=\"Slide47\"\n",
    "     style=\"float: left; margin-right: 10px;\"\n",
    "     width=\"1024\"\n",
    "     height=\"768\"/>"
   ]
  },
  {
   "cell_type": "markdown",
   "id": "1e728f63-540c-481c-8279-e3dc5a732497",
   "metadata": {},
   "source": [
    "<img src=\"./pngs/Slide48.png\"\n",
    "     alt=\"Slide48\"\n",
    "     style=\"float: left; margin-right: 10px;\"\n",
    "     width=\"1024\"\n",
    "     height=\"768\"/>"
   ]
  },
  {
   "cell_type": "markdown",
   "id": "9e1ccad4-74fe-467a-8e31-f5160a98fe9c",
   "metadata": {},
   "source": [
    "<img src=\"./pngs/Slide49.png\"\n",
    "     alt=\"Slide49\"\n",
    "     style=\"float: left; margin-right: 10px;\"\n",
    "     width=\"1024\"\n",
    "     height=\"768\"/>"
   ]
  },
  {
   "attachments": {},
   "cell_type": "markdown",
   "id": "383b7c7c-75b6-4fd4-91fd-41dbb86ebd17",
   "metadata": {},
   "source": [
    "\n",
    "### We have this record below. &darr;\n"
   ]
  },
  {
   "cell_type": "code",
   "execution_count": 55,
   "id": "209ed23f-3bd9-4c1e-b4c3-599aa137e244",
   "metadata": {},
   "outputs": [
    {
     "name": "stdout",
     "output_type": "stream",
     "text": [
      "(gen:4),(exp:475950855),(bins:(mybin1:1),(myMapBin1:{k1=1, k2=2, k3=3, k4=4, k5=5, k10=10, k6=16, k7=7, k8=8, k9=9}),(mybin2:abc))\n"
     ]
    }
   ],
   "source": [
    "System.out.println(client.get(null, key1));"
   ]
  },
  {
   "attachments": {},
   "cell_type": "markdown",
   "id": "22abd3b5-fba1-406e-bd06-ecb1ffd42279",
   "metadata": {},
   "source": [
    "\n",
    "### Let's look at get_by : key, index or rank to get started.\n",
    "\n",
    "### Note: Since we must use the operate() API, all get operations are also done with WritePolicy.\n",
    "\n",
    "### The map keys by index are:\n",
    "```\n",
    "Keys:Value: k1:1 k10:10 k2:2 k3:3 k4:4 k5:5 k6:16 k7:7 k8:8 k9:9  (in Key Order)\n",
    "Index:      0    1      2    3    4    5    6     7    8    9\n",
    "```"
   ]
  },
  {
   "cell_type": "code",
   "execution_count": 56,
   "id": "301107fa-b40c-4e7d-b882-3fa5673e8b08",
   "metadata": {},
   "outputs": [],
   "source": [
    "//Add MapReturnType import\n",
    "import com.aerospike.client.cdt.MapReturnType;"
   ]
  },
  {
   "cell_type": "code",
   "execution_count": 57,
   "id": "cbbc0f17-6d5f-47ec-bf69-2ed8d4e71bb5",
   "metadata": {},
   "outputs": [
    {
     "name": "stdout",
     "output_type": "stream",
     "text": [
      "k3\n"
     ]
    }
   ],
   "source": [
    "Record mapRec =  client.operate(wPolicy, key1, \n",
    "      MapOperation.getByIndex(\"myMapBin1\", 3, MapReturnType.KEY) \n",
    "      // In the map bin named myMapBin1, get me the KEY at Map Index = 3.                \n",
    "    );\n",
    "//Check the return value\n",
    "System.out.println(mapRec.getString(\"myMapBin1\"));   //Expected key is a string value"
   ]
  },
  {
   "cell_type": "code",
   "execution_count": 58,
   "id": "ab778352-390a-4093-b01d-2c13b4c51ae1",
   "metadata": {},
   "outputs": [
    {
     "name": "stdout",
     "output_type": "stream",
     "text": [
      "16\n"
     ]
    }
   ],
   "source": [
    "Record mapRec =  client.operate(wPolicy, key1, \n",
    "      MapOperation.getByIndex(\"myMapBin1\", 6, MapReturnType.VALUE) \n",
    "      // In the map bin named myMapBin1, get me the VALUE at Map Index = 6.              \n",
    "    );\n",
    "//Check the return value\n",
    "System.out.println(mapRec.getInt(\"myMapBin1\"));  //Expected value is Integer"
   ]
  },
  {
   "cell_type": "code",
   "execution_count": 59,
   "id": "30f37335-99bb-48f8-a12f-9d16a8508159",
   "metadata": {},
   "outputs": [
    {
     "name": "stdout",
     "output_type": "stream",
     "text": [
      "[k1=1]\n"
     ]
    }
   ],
   "source": [
    "Record mapRec =  client.operate(wPolicy, key1, \n",
    "      MapOperation.getByIndex(\"myMapBin1\", 0, MapReturnType.KEY_VALUE) \n",
    "      // In the map bin named myMapBin1, get me the KEY_VALUE as a list at Map Index = 0.                    \n",
    "    );\n",
    "//Check the return value\n",
    "System.out.println(mapRec.getList(\"myMapBin1\"));  //KEY_VALUE returns a List."
   ]
  },
  {
   "attachments": {},
   "cell_type": "markdown",
   "id": "6eefe2ee-59fe-438d-8170-bdb59009e753",
   "metadata": {},
   "source": [
    "\n",
    "### Try different Index values and return type combinations &uarr;\n",
    "### The map keys by index are:\n",
    "```\n",
    "Keys:Value: k1:1 k10:10 k2:2 k3:3 k4:4 k5:5 k6:16 k7:7 k8:8 k9:9  (in Key Order)\n",
    "Index:      0    1      2    3    4    5    6     7    8    9\n",
    "```\n",
    "\n",
    "### While we exploring getByIndex, let's try getByIndexRange() &darr;"
   ]
  },
  {
   "cell_type": "code",
   "execution_count": 60,
   "id": "864a8d1c-d2cc-4c9d-8f40-4b433e6d25ce",
   "metadata": {},
   "outputs": [
    {
     "name": "stdout",
     "output_type": "stream",
     "text": [
      "[k3, k4]\n"
     ]
    }
   ],
   "source": [
    "Record mapRec =  client.operate(wPolicy, key1, \n",
    "      MapOperation.getByIndexRange(\"myMapBin1\", 3, 2,MapReturnType.KEY) \n",
    "      // In the map bin named myMapBin1, get me 2 items starting at the KEY at Map Index = 3. \n",
    "      // If count = 2 is omitted, we will get all keys till the end.                          \n",
    "    );\n",
    "//Check the return value\n",
    "System.out.println(mapRec.getList(\"myMapBin1\"));   //Expected result is a list of string values"
   ]
  },
  {
   "cell_type": "code",
   "execution_count": 61,
   "id": "089bb309-dec0-4ec5-aabd-b86e3e4f79ee",
   "metadata": {},
   "outputs": [
    {
     "name": "stdout",
     "output_type": "stream",
     "text": [
      "[k3, k4, k5, k6, k7, k8, k9]\n"
     ]
    }
   ],
   "source": [
    "Record mapRec =  client.operate(wPolicy, key1, \n",
    "      MapOperation.getByIndexRange(\"myMapBin1\", 3, MapReturnType.KEY) \n",
    "      // In the map bin named myMapBin1, get me 2 items starting at the KEY at Map Index = 3. \n",
    "      // If count = 2 is omitted, we will get all keys till the end.                          \n",
    "    );\n",
    "//Check the return value\n",
    "System.out.println(mapRec.getList(\"myMapBin1\"));   //Expected result is a list of string values"
   ]
  },
  {
   "cell_type": "code",
   "execution_count": 62,
   "id": "237d5edb-a24c-4d21-9537-d4a87ea643da",
   "metadata": {},
   "outputs": [
    {
     "name": "stdout",
     "output_type": "stream",
     "text": [
      "[16, 7, 8]\n"
     ]
    }
   ],
   "source": [
    "Record mapRec =  client.operate(wPolicy, key1, \n",
    "      MapOperation.getByIndexRange(\"myMapBin1\", 6, 3, MapReturnType.VALUE) \n",
    "      // In the map bin named myMapBin1, get me 3 items starting at the VALUE at Map Index = 6.              \n",
    "    );\n",
    "//Check the return value\n",
    "System.out.println(mapRec.getList(\"myMapBin1\"));  //Expected value is as list of Integers"
   ]
  },
  {
   "cell_type": "code",
   "execution_count": 63,
   "id": "8e3cb73b-d395-4382-b540-45253e01b8b1",
   "metadata": {},
   "outputs": [
    {
     "name": "stdout",
     "output_type": "stream",
     "text": [
      "[k1=1, k10=10, k2=2, k3=3, k4=4, k5=5, k6=16, k7=7, k8=8, k9=9]\n"
     ]
    }
   ],
   "source": [
    "Record mapRec =  client.operate(wPolicy, key1, \n",
    "      MapOperation.getByIndexRange(\"myMapBin1\", 0, MapReturnType.KEY_VALUE) \n",
    "      // In the map bin named myMapBin1, get me all key-value pairs (count is ommitted) the KEY_VALUE as a list at Map Index = 0.                    \n",
    "    );\n",
    "//Check the return value\n",
    "System.out.println(mapRec.getList(\"myMapBin1\"));  //KEY_VALUE returns a List."
   ]
  },
  {
   "attachments": {},
   "cell_type": "markdown",
   "id": "ebe3ad64-6523-4515-8c7d-04ab1eb92d9f",
   "metadata": {},
   "source": [
    "\n",
    "###  &uarr;  What he had ... &darr;\n",
    "```\n",
    "Keys:Value: k1:1 k10:10 k2:2 k3:3 k4:4 k5:5 k6:16 k7:7 k8:8 k9:9  (in Key Order)\n",
    "Index:      0    1      2    3    4    5    6     7    8    9\n",
    "```\n",
    "\n",
    "### Likewise try getByValue and getByValueRange &darr;\n",
    "### Let's try by value.  &rarr; Get me all KEYS (returns a list) that have value = 16.\n"
   ]
  },
  {
   "cell_type": "code",
   "execution_count": 64,
   "id": "32dc1e10-2397-45a2-8664-574b89fac5a7",
   "metadata": {},
   "outputs": [
    {
     "name": "stdout",
     "output_type": "stream",
     "text": [
      "[k6]\n"
     ]
    }
   ],
   "source": [
    "Record mapRec =  client.operate(wPolicy, key1, \n",
    "      MapOperation.getByValue(\"myMapBin1\", Value.get(16), MapReturnType.KEY) \n",
    "      // In the map bin named myMapBin1, get me all keys that have value = 16              \n",
    "    );\n",
    "//Check the return value\n",
    "System.out.println(mapRec.getList(\"myMapBin1\"));   //Expected result is a list of string values"
   ]
  },
  {
   "attachments": {},
   "cell_type": "markdown",
   "id": "956edec1-241c-4925-8131-2479ae5b50b6",
   "metadata": {},
   "source": [
    "\n",
    "### And try value range ... &darr;\n",
    "```\n",
    "Keys:Value: k1:1 k10:10 k2:2 k3:3 k4:4 k5:5 k6:16 k7:7 k8:8 k9:9  (in Key Order)\n",
    "Index:      0    1      2    3    4    5    6     7    8    9\n",
    "```\n"
   ]
  },
  {
   "cell_type": "code",
   "execution_count": 65,
   "id": "30db64b2-899d-497c-a0dd-907fc7a1958d",
   "metadata": {},
   "outputs": [
    {
     "name": "stdout",
     "output_type": "stream",
     "text": [
      "[k10]\n"
     ]
    }
   ],
   "source": [
    "Record mapRec =  client.operate(wPolicy, key1, \n",
    "      MapOperation.getByValueRange(\"myMapBin1\", Value.get(10), Value.get(16), MapReturnType.KEY) \n",
    "      // In the map bin named myMapBin1, get me all keys that have value equal to or greater than 10 but less than 16.             \n",
    "    );\n",
    "//Check the return value\n",
    "System.out.println(mapRec.getList(\"myMapBin1\"));   //Expected result is a list of string values"
   ]
  },
  {
   "attachments": {},
   "cell_type": "markdown",
   "id": "cbe03fd9-9261-45e5-9349-ae0753d1bdd0",
   "metadata": {},
   "source": [
    "\n",
    "### Note Value High is not inclusive. Change it to 17 and it will include key k6. &uarr;\n",
    "```\n",
    "Keys:Value: k1:1 k10:10 k2:2 k3:3 k4:4 k5:5 k6:16 k7:7 k8:8 k9:9  (in Key Order)\n",
    "Index:      0    1      2    3    4    5    6     7    8    9\n",
    "```\n"
   ]
  },
  {
   "attachments": {},
   "cell_type": "markdown",
   "id": "f1eed4da-1647-46b0-99e3-a066d89e0588",
   "metadata": {},
   "source": [
    "\n",
    "### Let's also try getByRank and getByRankRange() &darr;\n",
    "### Our data by rank (order of the value) is:\n",
    "```\n",
    "Keys:Value: k1:1 k2:2 k3:3 k4:4 k5:5 k7:7 k8:8 k9:9 k10:10 k6:16  (in Value Order)\n",
    "Rank:       0    1    2    3    4    5    6     7   8      9\n",
    "```\n",
    "\n",
    "### We will also use negative index, -1, to get the highest rank .. and return type VALUE.  We expect to get 16 from k6:16."
   ]
  },
  {
   "cell_type": "code",
   "execution_count": 66,
   "id": "de4c5650-7dc4-4c7f-bd34-0693b613a362",
   "metadata": {},
   "outputs": [
    {
     "name": "stdout",
     "output_type": "stream",
     "text": [
      "16\n"
     ]
    }
   ],
   "source": [
    "Record mapRec =  client.operate(wPolicy, key1, \n",
    "      MapOperation.getByRank(\"myMapBin1\", -1, MapReturnType.VALUE) \n",
    "      // In the map bin named myMapBin1, get the highest value.  (Rank = -1 ... negative indexing)              \n",
    "    );\n",
    "//Check the return value\n",
    "System.out.println(mapRec.getInt(\"myMapBin1\"));   //Expected result is integer value"
   ]
  },
  {
   "attachments": {},
   "cell_type": "markdown",
   "id": "48a0853f-10d9-4461-a3d8-20376770baa7",
   "metadata": {},
   "source": [
    "\n",
    "### Next, getByRankRange() &darr; ... works like IndexRange - give starting rank and count. If you omit count, returns all till the end.\n",
    "### Our data by rank (order of the value) is:\n",
    "```\n",
    "Keys:Value: k1:1 k2:2 k3:3 k4:4 k5:5 k7:7 k8:8 k9:9 k10:10 k6:16  (in Value Order)\n",
    "Rank:       0    1    2    3    4    5    6     7   8      9\n",
    "```\n"
   ]
  },
  {
   "cell_type": "code",
   "execution_count": 67,
   "id": "73f73cdc-e4c3-4def-9902-8e78764931ad",
   "metadata": {},
   "outputs": [
    {
     "name": "stdout",
     "output_type": "stream",
     "text": [
      "[9, 10, 16]\n"
     ]
    }
   ],
   "source": [
    "Record mapRec =  client.operate(wPolicy, key1, \n",
    "      MapOperation.getByRankRange(\"myMapBin1\", -3, MapReturnType.VALUE) \n",
    "      // In the map bin named myMapBin1, get me the highest 3 Values.  (We expect 9, 10 & 16)           \n",
    "    );\n",
    "//Check the return value\n",
    "System.out.println(mapRec.getList(\"myMapBin1\"));   //Expected result is a list of integer values"
   ]
  },
  {
   "attachments": {},
   "cell_type": "markdown",
   "id": "79ec2f0e-5729-4d4f-9f7d-7284d74198dc",
   "metadata": {},
   "source": [
    "\n",
    "### Try, getByRankRange() &uarr; with a count.\n",
    "```\n",
    "MapOperation.getByRankRange(\"myMapBin1\", -3, 1, MapReturnType.VALUE)  //count=1: Give me third highest value. [k9:9]\n",
    "```\n"
   ]
  },
  {
   "attachments": {},
   "cell_type": "markdown",
   "id": "92c2490c-72a8-4b93-951b-4e5defccb68f",
   "metadata": {},
   "source": [
    "\n",
    "### Let's also look at Relative Indexing.  For brevity, we will try, getByValueRelativeRankRange() &darr;\n",
    "### Other Relative Indexing APIs based on Value or Key follow the same logic.\n",
    "### Our data by rank (order of the value) is:\n",
    "```\n",
    "Keys:Value: k1:1 k2:2 k3:3 k4:4 k5:5 k7:7 k8:8 k9:9 k10:10 k6:16  (in Value Order)\n",
    "Rank:       0    1    2    3    4    5    6     7   8      9\n",
    "```\n",
    "#### In our example, We will say, using Value = 4 [k4:4] as our relative rank of 0, get me value starting at rank 2 (so k4:4 + 2 = k7:7) and for count 2, so k7:7 and k8:8. Let's look at the code &darr;"
   ]
  },
  {
   "cell_type": "code",
   "execution_count": 68,
   "id": "30e4a7fb-0979-4c7b-84ab-fcfeff2412f5",
   "metadata": {},
   "outputs": [
    {
     "name": "stdout",
     "output_type": "stream",
     "text": [
      "[7, 8]\n"
     ]
    }
   ],
   "source": [
    "Record mapRec =  client.operate(wPolicy, key1, \n",
    "      MapOperation.getByValueRelativeRankRange(\"myMapBin1\", Value.get(4), 2, 2, MapReturnType.VALUE) \n",
    "      // In the map bin named myMapBin1, using K:V of value 4 as rank=0, get 2 K:V pairs \n",
    "      //starting at relative rank 2 and return their values.          \n",
    "    );\n",
    "//Check the return value\n",
    "System.out.println(mapRec.getList(\"myMapBin1\"));   //Expected result is a list of integer values"
   ]
  },
  {
   "attachments": {},
   "cell_type": "markdown",
   "id": "cfe22d00-e190-4cad-8f50-2ea4db968edd",
   "metadata": {},
   "source": [
    "\n",
    "#### Likewise there is\n",
    "```\n",
    "getByKeyRelativeIndexRange()  //Use a specific Key of K:V pairs to establish Index 0 and then go Relative to that Index 0\n",
    "```\n",
    "#### Further, just like get, there are the remove counterparts, to delete the selected k:v pairs. There, usually you would use the `MapReturnType.NONE`.  However, there is `MapReturnType.INVERTED` which is quite handy in implementing Capped Maps. We will explore that.\n",
    "```\n",
    "removeByKeyRelativeIndexRange()\n",
    "```\n"
   ]
  },
  {
   "attachments": {},
   "cell_type": "markdown",
   "id": "f50c8252-7f12-4eb2-911a-58e25ac0a41b",
   "metadata": {},
   "source": [
    "\n",
    "## Capped Map Example &darr;\n",
    "### Like a timeseries map, map key is monotonically increasing integer. \n",
    "```\n",
    "10:110, 11:111, 12:112, 13:113, 14:114, 15:115, 16:116, 17:117, 18:118, 19:119\n",
    "When I insert 20:120, I want to drop 10:110\n",
    "``` \n",
    "### I want to keep only the last ten entries. i.e. I want to CAP the MAP at latest 10 entries.\n"
   ]
  },
  {
   "cell_type": "code",
   "execution_count": 69,
   "id": "bdf2eaa9-ee44-48dc-9934-b780a90877de",
   "metadata": {},
   "outputs": [
    {
     "name": "stdout",
     "output_type": "stream",
     "text": [
      "null\n"
     ]
    }
   ],
   "source": [
    "Key keycm = new Key(\"test\", \"testset\", \"capmap\");\n",
    "//Start with a non-existing record\n",
    "client.delete(null, keycm);\n",
    "//Check\n",
    "System.out.println(client.get(null, keycm)); "
   ]
  },
  {
   "cell_type": "code",
   "execution_count": 70,
   "id": "0a793735-d88d-4886-8196-4a83b5b790af",
   "metadata": {},
   "outputs": [
    {
     "name": "stdout",
     "output_type": "stream",
     "text": [
      "(gen:10),(exp:475950858),(bins:(capMapBin:{16=116, 17=117, 18=118, 19=119, 10=110, 11=111, 12=112, 13=113, 14=114, 15=115}))\n"
     ]
    }
   ],
   "source": [
    "//Insert initial 10 entries\n",
    "for(int i=10; i<20; i++){\n",
    "  Record capmapRec =  client.operate(wPolicy, keycm, \n",
    "      MapOperation.removeByIndexRange(\"capMapBin\", -9, 9, MapReturnType.INVERTED),  \n",
    "      //Keep top 9 K:V pairs by Key Value. This has no effect since currently size is less than 9\n",
    "                                     \n",
    "      MapOperation.put(mPolicy_DEF, \"capMapBin\", Value.get(i), Value.get(100+i))  //Add the next Key:Value pair    \n",
    "    );\n",
    "}\n",
    "//Check the return value\n",
    "System.out.println(client.get(null, keycm));   "
   ]
  },
  {
   "attachments": {},
   "cell_type": "markdown",
   "id": "4632cf2b-32d7-4b04-a0b7-822da1233db6",
   "metadata": {},
   "source": [
    "\n",
    "### We inserted ...\n",
    "```\n",
    "10:110, 11:111, 12:112, 13:113, 14:114, 15:115, 16:116, 17:117, 18:118, 19:119\n",
    "``` \n",
    "### Now add 5 more entries.\n",
    "```\n",
    "10:110, 11:111, 12:112, 13:113, 14:114, 15:115, 16:116, 17:117, 18:118, 19:119, 20:120, 21:121, 22:122, 23:123, 24:124\n",
    "When I insert 20:120, I want to drop 10:110 and so on. So 10, 11, 12, 13, 14 keys should get dropped.\n",
    "``` "
   ]
  },
  {
   "cell_type": "code",
   "execution_count": 71,
   "id": "e2a4d6ee-8b28-48cb-8f33-23a4f147181b",
   "metadata": {},
   "outputs": [
    {
     "name": "stdout",
     "output_type": "stream",
     "text": [
      "(gen:15),(exp:475950858),(bins:(capMapBin:{16=116, 17=117, 18=118, 19=119, 20=120, 21=121, 22=122, 23=123, 24=124, 15=115}))\n"
     ]
    }
   ],
   "source": [
    "//Insert additonal 5 entries\n",
    "for(int i=20; i<25; i++){\n",
    "  Record capmapRec =  client.operate(wPolicy, keycm, \n",
    "      MapOperation.removeByIndexRange(\"capMapBin\", -9, 9, MapReturnType.INVERTED),  \n",
    "      //Keep top 9 K:V pairs by Key Value. \n",
    "                                     \n",
    "      MapOperation.put(mPolicy_DEF, \"capMapBin\", Value.get(i), Value.get(100+i))  //Add the 10th Key:Value pair    \n",
    "    );\n",
    "}\n",
    "//Check the return value\n",
    "System.out.println(client.get(null, keycm));   "
   ]
  },
  {
   "attachments": {},
   "cell_type": "markdown",
   "id": "795c5840-edd3-41a7-bc25-4d52948d61ee",
   "metadata": {},
   "source": [
    "\n",
    "### `-9, 9, MapReturnType.INVERTED` in `removeByIndexRange` means, keep top nine keys, delete the rest."
   ]
  },
  {
   "cell_type": "markdown",
   "id": "69f8993f-4d21-4dad-8d54-eeeeb430fbf4",
   "metadata": {},
   "source": [
    "<img src=\"./pngs/Slide50.png\"\n",
    "     alt=\"Slide50\"\n",
    "     style=\"float: left; margin-right: 10px;\"\n",
    "     width=\"1024\"\n",
    "     height=\"768\"/>"
   ]
  },
  {
   "cell_type": "markdown",
   "id": "806f5959-1494-435b-8599-67db3ce18d99",
   "metadata": {},
   "source": [
    "<img src=\"./pngs/Slide51.png\"\n",
    "     alt=\"Slide51\"\n",
    "     style=\"float: left; margin-right: 10px;\"\n",
    "     width=\"1024\"\n",
    "     height=\"768\"/>"
   ]
  },
  {
   "cell_type": "markdown",
   "id": "9c190869-27f7-4884-968e-77e3be1bfe6c",
   "metadata": {},
   "source": [
    "<img src=\"./pngs/Slide52.png\"\n",
    "     alt=\"Slide52\"\n",
    "     style=\"float: left; margin-right: 10px;\"\n",
    "     width=\"1024\"\n",
    "     height=\"768\"/>"
   ]
  },
  {
   "cell_type": "markdown",
   "id": "fc96a872-9099-471d-8a5a-688ec82bbb5c",
   "metadata": {},
   "source": [
    "<img src=\"./pngs/Slide53.png\"\n",
    "     alt=\"Slide53\"\n",
    "     style=\"float: left; margin-right: 10px;\"\n",
    "     width=\"1024\"\n",
    "     height=\"768\"/>"
   ]
  },
  {
   "cell_type": "markdown",
   "id": "118352a7-6f68-4a95-b345-b85df8b3b22e",
   "metadata": {},
   "source": [
    "<img src=\"./pngs/Slide54.png\"\n",
    "     alt=\"Slide54\"\n",
    "     style=\"float: left; margin-right: 10px;\"\n",
    "     width=\"1024\"\n",
    "     height=\"768\"/>"
   ]
  },
  {
   "cell_type": "markdown",
   "id": "493d87a6-ea2d-49ef-9d33-786afa4ee74b",
   "metadata": {},
   "source": [
    "## Using Lists in Aerospike\n",
    "### Let's see how to create an ORDERED list and add only UNIQUE items to it.\n",
    "### Let's setup the imports, record key and ListPolicy Objects for our different code exercises.\n",
    "```\n",
    "lPolicy_ORD_UN_NF_P for `order=ORDERED`, and `ListWriteFlags:UNIQUE|NO_FAIL|PARTIAL`\n",
    "\n",
    "lPolicy_UNORD_UN_NF_P for `order=UNORDERED`, and `ListWriteFlags:UNIQUE|NO_FAIL|PARTIAL`\n",
    "\n",
    "lPolicy_DEF for `order=UNORDERED`, and `ListWriteFlags:DEFAULT`  (Default ListPolicy)\n",
    "\n",
    "lPolicy_ORD for `order=ORDERED`, and `ListWriteFlags:DEFAULT`  (Used for ordered capped list)\n",
    "```"
   ]
  },
  {
   "cell_type": "code",
   "execution_count": 100,
   "id": "76042a05-c87c-4759-ab17-180ff3801f68",
   "metadata": {},
   "outputs": [],
   "source": [
    "//Needed additional imports\n",
    "import java.util.ArrayList;\n",
    "import java.util.List;\n",
    "\n",
    "//List Operations and List Policy related\n",
    "import com.aerospike.client.cdt.ListOperation;\n",
    "import com.aerospike.client.cdt.ListPolicy;\n",
    "import com.aerospike.client.cdt.ListOrder;\n",
    "import com.aerospike.client.cdt.ListWriteFlags;\n",
    "import com.aerospike.client.cdt.ListReturnType;"
   ]
  },
  {
   "cell_type": "code",
   "execution_count": 96,
   "id": "96911025-ef68-4a77-b5e9-3cd81d24784d",
   "metadata": {},
   "outputs": [],
   "source": [
    "Key listkey = new Key(\"test\", \"testset\", \"keylist\");\n",
    "client.delete(null, listkey);  //Start clean\n",
    "\n",
    "//List data structure\n",
    "List<Value> myListValues = new ArrayList<Value>();        \n",
    "myListValues.add(Value.get(4));        \n",
    "myListValues.add(Value.get(0));        \n",
    "myListValues.add(Value.get(5));        \n",
    "myListValues.add(Value.get(9));\n",
    "myListValues.add(Value.get(9));  //Duplicate entry\n",
    "myListValues.add(Value.get(15));\n",
    "myListValues.add(Value.get(11));\n",
    "myListValues.add(Value.get(0)); //Duplicate entry\n",
    "\n",
    "ListPolicy lPolicy_ORD_UN_NF_P = new ListPolicy(ListOrder.ORDERED,\n",
    "                    ListWriteFlags.ADD_UNIQUE|ListWriteFlags.NO_FAIL|ListWriteFlags.PARTIAL);\n",
    "\n",
    "ListPolicy lPolicy_UNORD_UN_NF_P = new ListPolicy(ListOrder.UNORDERED,\n",
    "                    ListWriteFlags.ADD_UNIQUE|ListWriteFlags.NO_FAIL|ListWriteFlags.PARTIAL);\n",
    "\n",
    "ListPolicy lPolicy_DEF = new ListPolicy(ListOrder.UNORDERED,\n",
    "                    ListWriteFlags.DEFAULT);\n",
    "\n",
    "ListPolicy lPolicy_ORD = new ListPolicy(ListOrder.ORDERED,\n",
    "                    ListWriteFlags.DEFAULT);"
   ]
  },
  {
   "cell_type": "markdown",
   "id": "be56a6e9-7a51-410e-8c8d-971b6661b058",
   "metadata": {},
   "source": [
    "### myListValues Data:\n",
    "```\n",
    "[4, 0, 5, 9, 9, 15, 11, 0]  \n",
    "```"
   ]
  },
  {
   "cell_type": "markdown",
   "id": "2f1fef16-94fb-4d74-b86f-2c9baafa4415",
   "metadata": {},
   "source": [
    "### Use `ListOperation.appendItems()` to create an ORDERED list and add only UNIQUE items to it.\n",
    "### Note: `ListOperation.insert()` adds items at specificied index, so not allowed in an ORDERED list.\n",
    "```\n",
    "List Expected: [0, 4, 5, 9, 11, 15]  - Unique and Ordered Items.\n",
    "```"
   ]
  },
  {
   "cell_type": "code",
   "execution_count": 97,
   "id": "fe1204f9-d0bc-4c97-b54a-821526aa47ad",
   "metadata": {},
   "outputs": [
    {
     "name": "stdout",
     "output_type": "stream",
     "text": [
      "(gen:1),(exp:475959798),(bins:(myListBin:[0, 4, 5, 9, 11, 15]))\n"
     ]
    }
   ],
   "source": [
    "Record listRec =  client.operate(wPolicy, listkey, \n",
    "      ListOperation.appendItems(lPolicy_ORD_UN_NF_P, \"myListBin\", myListValues) \n",
    "      // Duplicates should not make it. List should be ORDERED         \n",
    "    );\n",
    "//Check the record\n",
    "System.out.println(client.get(null,listkey));   //Expected result is a list of integer values"
   ]
  },
  {
   "cell_type": "markdown",
   "id": "4c187ee1-df9e-44d6-8a03-17e4884ce487",
   "metadata": {},
   "source": [
    "### `NO_FAIL` means, even if we re-run the above cell &uarr; again, we won't get a `UNIQUE` item exception.\n",
    "\n",
    "### Let's append another single item to the list, value=6. Note &darr; it gets added at the correct ordered spot. \n"
   ]
  },
  {
   "cell_type": "code",
   "execution_count": 75,
   "id": "d11175f5-8567-4787-9ecc-7bef7dd7b2bf",
   "metadata": {},
   "outputs": [
    {
     "name": "stdout",
     "output_type": "stream",
     "text": [
      "(gen:2),(exp:475950859),(bins:(myListBin:[0, 4, 5, 6, 9, 11, 15]))\n"
     ]
    }
   ],
   "source": [
    "Record listRec =  client.operate(wPolicy, listkey, \n",
    "      ListOperation.append(lPolicy_ORD_UN_NF_P, \"myListBin\", Value.get(6)) \n",
    "      // Duplicates should not make it. List should be ORDERED         \n",
    "    );\n",
    "//Check the record\n",
    "System.out.println(client.get(null,listkey));   //Expected result is a list of integer values"
   ]
  },
  {
   "cell_type": "markdown",
   "id": "87e1d11f-5357-4a1d-a639-63b8be4f6897",
   "metadata": {},
   "source": [
    "## Without the `UNIQUE` ListWriteFlag &darr;\n"
   ]
  },
  {
   "cell_type": "markdown",
   "id": "38469ba9-cbeb-4c1b-82c6-8559d753258d",
   "metadata": {},
   "source": [
    "<img src=\"./pngs/Slide55.png\"\n",
    "     alt=\"Slide55\"\n",
    "     style=\"float: left; margin-right: 10px;\"\n",
    "     width=\"1024\"\n",
    "     height=\"768\"/>"
   ]
  },
  {
   "cell_type": "markdown",
   "id": "692ee359-61cf-4331-8e31-8da947399434",
   "metadata": {},
   "source": [
    "<img src=\"./pngs/Slide56.png\"\n",
    "     alt=\"Slide56\"\n",
    "     style=\"float: left; margin-right: 10px;\"\n",
    "     width=\"1024\"\n",
    "     height=\"768\"/>"
   ]
  },
  {
   "cell_type": "markdown",
   "id": "f3565141-ce59-4e5f-ae94-eedcb8a392ec",
   "metadata": {},
   "source": [
    "<img src=\"./pngs/Slide57.png\"\n",
    "     alt=\"Slide57\"\n",
    "     style=\"float: left; margin-right: 10px;\"\n",
    "     width=\"1024\"\n",
    "     height=\"768\"/>"
   ]
  },
  {
   "attachments": {},
   "cell_type": "markdown",
   "id": "a8a88e4a-c70b-4aad-a475-feb9992ca8fa",
   "metadata": {},
   "source": [
    "\n",
    "### Let's try setOrder() &darr;\n"
   ]
  },
  {
   "cell_type": "code",
   "execution_count": 78,
   "id": "1697c873-1722-4c48-8c50-950a83ce0c6a",
   "metadata": {},
   "outputs": [
    {
     "name": "stdout",
     "output_type": "stream",
     "text": [
      "UNORDERED record created: (gen:1),(exp:475956105),(bins:(myListBin:[4, 0, 5, 9, 15, 11]))\n",
      "After setOrder() to ORDERED: (gen:2),(exp:475956105),(bins:(myListBin:[0, 4, 5, 9, 11, 15]))\n"
     ]
    }
   ],
   "source": [
    "//Delete the current record\n",
    "client.delete(null,listkey);\n",
    "\n",
    "//Re insert but with UNORDERED Policy  (We already created this ListPolicy object in beginning)\n",
    "Record listRec =  client.operate(wPolicy, listkey, \n",
    "      ListOperation.appendItems(lPolicy_UNORD_UN_NF_P, \"myListBin\", myListValues) \n",
    "      // Duplicates should not make it. List should be UNORDERED         \n",
    "    );\n",
    "//Check the record\n",
    "System.out.println(\"UNORDERED record created: \" + client.get(null,listkey));   \n",
    "\n",
    "//Now change order using setOrder()\n",
    "Record listRec =  client.operate(wPolicy, listkey, \n",
    "      ListOperation.setOrder(\"myListBin\", ListOrder.ORDERED) \n",
    "      // Duplicates should not make it. List should be UNORDERED         \n",
    "    );\n",
    "\n",
    "//Check the record again\n",
    "System.out.println(\"After setOrder() to ORDERED: \" +client.get(null,listkey));   "
   ]
  },
  {
   "cell_type": "markdown",
   "id": "22e23b7f-b8a8-46c7-87bc-736e627be55d",
   "metadata": {},
   "source": [
    "<img src=\"./pngs/Slide58.png\"\n",
    "     alt=\"Slide58\"\n",
    "     style=\"float: left; margin-right: 10px;\"\n",
    "     width=\"1024\"\n",
    "     height=\"768\"/>"
   ]
  },
  {
   "attachments": {},
   "cell_type": "markdown",
   "id": "ba3ee9d9-c1f3-4834-9b03-9b1a723719bc",
   "metadata": {},
   "source": [
    "\n",
    "### Let's try sort() &darr;\n",
    "### Let's delete and re-create our record, this time with the Default ListPolicy (UNORDERED, with DUPLICATES)\n",
    "### Then let's sort it and drop duplicates\n"
   ]
  },
  {
   "cell_type": "code",
   "execution_count": 80,
   "id": "0dcc1ab6-4be2-4b0c-8525-e655ed9b33aa",
   "metadata": {},
   "outputs": [],
   "source": [
    "//Add ListSortFlags import\n",
    "import com.aerospike.client.cdt.ListSortFlags;"
   ]
  },
  {
   "cell_type": "code",
   "execution_count": 84,
   "id": "786a4653-3775-4515-bbe6-eef6c206937e",
   "metadata": {},
   "outputs": [
    {
     "name": "stdout",
     "output_type": "stream",
     "text": [
      "Create UNORDERED myListBin: (gen:1),(exp:475957332),(bins:(myListBin:[4, 0, 5, 9, 9, 15, 11, 0]))\n",
      "After sort() to DEFAULT: (gen:2),(exp:475957332),(bins:(myListBin:[0, 0, 4, 5, 9, 9, 11, 15]))\n",
      "After sort() to DROP_DUPLICATES: (gen:3),(exp:475957332),(bins:(myListBin:[0, 4, 5, 9, 11, 15]))\n"
     ]
    }
   ],
   "source": [
    "//Delete the current record\n",
    "client.delete(null,listkey);\n",
    "\n",
    "//Re insert but with DEFAULT Policy  (We already created this ListPolicy object in beginning)\n",
    "Record listRec =  client.operate(wPolicy, listkey, \n",
    "      ListOperation.appendItems(lPolicy_DEF, \"myListBin\", myListValues) \n",
    "      // List should be UNORDERED and with Duplicates         \n",
    "    );\n",
    "//Check the record\n",
    "System.out.println(\"Create UNORDERED myListBin: \" + client.get(null,listkey));   \n",
    "\n",
    "//Now let's sort the list, without dropping duplicates\n",
    "Record listRec =  client.operate(wPolicy, listkey, \n",
    "      ListOperation.sort(\"myListBin\", ListSortFlags.DEFAULT) \n",
    "      // Duplicates are not dropped in ListSortFlags.DEFAULT       \n",
    "    );\n",
    "\n",
    "//Check the record again\n",
    "System.out.println(\"After sort() to DEFAULT: \" +client.get(null,listkey));   \n",
    "\n",
    "//Sort again, this time dropping Duplicates\n",
    "Record listRec =  client.operate(wPolicy, listkey, \n",
    "      ListOperation.sort(\"myListBin\", ListSortFlags.DROP_DUPLICATES) \n",
    "      // Duplicates are not dropped in ListSortFlags.DEFAULT       \n",
    "    );\n",
    "\n",
    "//Check the record again\n",
    "System.out.println(\"After sort() to DROP_DUPLICATES: \" +client.get(null,listkey));   \n"
   ]
  },
  {
   "cell_type": "markdown",
   "id": "6bb629c2-4d55-4a1a-a0ad-9301f2c1922a",
   "metadata": {},
   "source": [
    "<img src=\"./pngs/Slide59.png\"\n",
    "     alt=\"Slide59\"\n",
    "     style=\"float: left; margin-right: 10px;\"\n",
    "     width=\"1024\"\n",
    "     height=\"768\"/>"
   ]
  },
  {
   "cell_type": "markdown",
   "id": "894ed74a-e8bd-4af2-9d06-1351e40d7167",
   "metadata": {},
   "source": [
    "<img src=\"./pngs/Slide60.png\"\n",
    "     alt=\"Slide60\"\n",
    "     style=\"float: left; margin-right: 10px;\"\n",
    "     width=\"1024\"\n",
    "     height=\"768\"/>"
   ]
  },
  {
   "cell_type": "markdown",
   "id": "62b040cd-fe91-4a58-888f-65872eaeebbb",
   "metadata": {},
   "source": [
    "<img src=\"./pngs/Slide61.png\"\n",
    "     alt=\"Slide61\"\n",
    "     style=\"float: left; margin-right: 10px;\"\n",
    "     width=\"1024\"\n",
    "     height=\"768\"/>"
   ]
  },
  {
   "cell_type": "markdown",
   "id": "e7319d76-215b-4ce4-b561-b4964ef764ab",
   "metadata": {},
   "source": [
    "<img src=\"./pngs/Slide62.png\"\n",
    "     alt=\"Slide62\"\n",
    "     style=\"float: left; margin-right: 10px;\"\n",
    "     width=\"1024\"\n",
    "     height=\"768\"/>"
   ]
  },
  {
   "cell_type": "markdown",
   "id": "956b5d4e-5577-4dd2-997b-3e8aab91df43",
   "metadata": {},
   "source": [
    "<img src=\"./pngs/Slide63.png\"\n",
    "     alt=\"Slide63\"\n",
    "     style=\"float: left; margin-right: 10px;\"\n",
    "     width=\"1024\"\n",
    "     height=\"768\"/>"
   ]
  },
  {
   "cell_type": "markdown",
   "id": "461f102a-0f82-429a-ba99-0ac882793116",
   "metadata": {},
   "source": [
    "<img src=\"./pngs/Slide64.png\"\n",
    "     alt=\"Slide64\"\n",
    "     style=\"float: left; margin-right: 10px;\"\n",
    "     width=\"1024\"\n",
    "     height=\"768\"/>"
   ]
  },
  {
   "cell_type": "markdown",
   "id": "32f261ea-fe52-49ef-8a16-3fd5726f5084",
   "metadata": {},
   "source": [
    "<img src=\"./pngs/Slide65.png\"\n",
    "     alt=\"Slide65\"\n",
    "     style=\"float: left; margin-right: 10px;\"\n",
    "     width=\"1024\"\n",
    "     height=\"768\"/>"
   ]
  },
  {
   "attachments": {},
   "cell_type": "markdown",
   "id": "7ca2fab7-c2a4-428f-82b0-4eeb227cb363",
   "metadata": {},
   "source": [
    "\n",
    "### Using trim() - it removes any list items outside the specified index range. (Start index + count).\n",
    "### If you want to retain the latest item inserted in the list and cap its size,\n",
    "### List should be UNORDERED and you have to insert new elements at _Index = 0_. \n",
    "### After insertion, trim() to desired size. &darr;\n"
   ]
  },
  {
   "cell_type": "code",
   "execution_count": 109,
   "id": "d4f243fc-21be-4cdc-a6fe-b18ec05ac3c9",
   "metadata": {},
   "outputs": [
    {
     "name": "stdout",
     "output_type": "stream",
     "text": [
      "UNORDERED myListBin: (gen:20),(exp:475961487),(bins:(myListBin:[data119, data118, data117, data116, data115, data114, data113, data112, data111, data110, data109, data108, data107, data106, data105, data104, data103, data102, data101, data100]))\n",
      "\n",
      "UNORDERED myListBin: (gen:25),(exp:475961487),(bins:(myListBin:[data124, data123, data122, data121, data120, data119, data118, data117, data116, data115, data114, data113, data112, data111, data110, data109, data108, data107, data106, data105]))\n",
      "\n"
     ]
    }
   ],
   "source": [
    "//Delete the current record\n",
    "client.delete(null,listkey);\n",
    "\n",
    "//Insert 20 items to the list\n",
    "for(int i=100; i<120; i++){ \n",
    "   Record listRec =  client.operate(wPolicy, listkey,      \n",
    "      ListOperation.insert(lPolicy_DEF, \"myListBin\", 0, Value.get(\"data\"+i)),   //Insert next item at index 0\n",
    "      ListOperation.trim(\"myListBin\", 0, 20)  //Keep size trimmed to 20 elements max.\n",
    "    );\n",
    "}\n",
    "//Check the record\n",
    "System.out.println(\"UNORDERED myListBin: \" + client.get(null,listkey)+\"\\n\"); \n",
    "\n",
    "//Let's add another 5 items starting with i=20 but cap the list at 20 items using trim()\n",
    "for(int i=120; i<125; i++){ \n",
    "   Record listRec =  client.operate(wPolicy, listkey, \n",
    "      ListOperation.insert(lPolicy_DEF, \"myListBin\", 0, Value.get(\"data\"+i)),   //Insert next item at index 0\n",
    "      ListOperation.trim(\"myListBin\", 0, 20)  //Keep size trimmed to 20 elements max.        \n",
    "    );\n",
    "}\n",
    "\n",
    "//Check the record\n",
    "System.out.println(\"UNORDERED myListBin: \" + client.get(null,listkey)+\"\\n\"); \n"
   ]
  },
  {
   "attachments": {},
   "cell_type": "markdown",
   "id": "62287a79-c5de-40e6-90f2-8768f12c50dc",
   "metadata": {},
   "source": [
    "\n",
    "### Let's explore that with the ListReturnType.INVERTED technique. &darr;\n"
   ]
  },
  {
   "cell_type": "code",
   "execution_count": 110,
   "id": "86538b8f-b5ec-4731-be14-458208a1a40a",
   "metadata": {},
   "outputs": [
    {
     "name": "stdout",
     "output_type": "stream",
     "text": [
      "UNORDERED myListBin: (gen:20),(exp:475961529),(bins:(myListBin:[data119, data118, data117, data116, data115, data114, data113, data112, data111, data110, data109, data108, data107, data106, data105, data104, data103, data102, data101, data100]))\n",
      "\n",
      "UNORDERED myListBin: (gen:25),(exp:475961529),(bins:(myListBin:[data124, data123, data122, data121, data120, data119, data118, data117, data116, data115, data114, data113, data112, data111, data110, data109, data108, data107, data106, data105]))\n",
      "\n"
     ]
    }
   ],
   "source": [
    "//Delete the current record\n",
    "client.delete(null,listkey);\n",
    "\n",
    "//Insert 20 items to the list\n",
    "for(int i=100; i<120; i++){ \n",
    "   Record listRec =  client.operate(wPolicy, listkey,      \n",
    "      ListOperation.insert(lPolicy_DEF, \"myListBin\", 0, Value.get(\"data\"+i)),   //Insert next item at index 0\n",
    "      ListOperation.removeByIndexRange(\"myListBin\", 0, 20, ListReturnType.INVERTED)  //Keep size trimmed to 20 elements max.\n",
    "    );\n",
    "}\n",
    "//Check the record\n",
    "System.out.println(\"UNORDERED myListBin: \" + client.get(null,listkey)+\"\\n\"); \n",
    "\n",
    "//Let's add another 5 items starting with i=20 but cap the list at 20 items using trim()\n",
    "for(int i=120; i<125; i++){ \n",
    "   Record listRec =  client.operate(wPolicy, listkey, \n",
    "      ListOperation.insert(lPolicy_DEF, \"myListBin\", 0, Value.get(\"data\"+i)),   //Insert next item at index 0\n",
    "      ListOperation.removeByIndexRange(\"myListBin\", 0, 20, ListReturnType.INVERTED)  //Keep size trimmed to 20 elements max.        \n",
    "    );\n",
    "}\n",
    "\n",
    "//Check the record\n",
    "System.out.println(\"UNORDERED myListBin: \" + client.get(null,listkey)+\"\\n\"); \n"
   ]
  },
  {
   "attachments": {},
   "cell_type": "markdown",
   "id": "5cdd0302-70d2-4396-9856-987845fe1099",
   "metadata": {},
   "source": [
    "\n",
    "### Capping an ORDERED list with UNIQUE items automatically will require using Expressions based on list size.\n",
    "### List item at index 0 will have to be removed based on list size, after the next data item is inserted. &rarr; Homework!\n"
   ]
  },
  {
   "attachments": {},
   "cell_type": "markdown",
   "id": "8af54015-49d5-4098-9037-115ecec26974",
   "metadata": {},
   "source": [
    "## Collect Data Type - Nested Levels \n"
   ]
  },
  {
   "cell_type": "markdown",
   "id": "bd541c56-2dcd-4052-8f61-b58e2d30c6ee",
   "metadata": {},
   "source": [
    "<img src=\"./pngs/Slide66.png\"\n",
    "     alt=\"Slide66\"\n",
    "     style=\"float: left; margin-right: 10px;\"\n",
    "     width=\"1024\"\n",
    "     height=\"768\"/>"
   ]
  },
  {
   "attachments": {},
   "cell_type": "markdown",
   "id": "51cd7676-b531-451c-8742-70aa5187e748",
   "metadata": {},
   "source": [
    "\n",
    "### Let's create our starting record with a simple top level map bin.\n",
    "```\n",
    "l1k1 : Level 1 map's --> Key 1 .. and so on.\n",
    "\n",
    "It's value is: 11  (1st level, 1st Key's value!)\n",
    "```\n"
   ]
  },
  {
   "cell_type": "code",
   "execution_count": 120,
   "id": "fb580a30-3107-4d4e-bbd0-55a1f4253e12",
   "metadata": {},
   "outputs": [
    {
     "name": "stdout",
     "output_type": "stream",
     "text": [
      "Level 1 Map bin inserted (gen:1),(exp:475964737),(bins:(myMapBin:{l1k1=11, l1k2=12, l1k3=13}))\n",
      "\n"
     ]
    }
   ],
   "source": [
    "//Set up the starting record\n",
    "Key cdtkey = new Key(\"test\", \"testset\", \"nestedcdt\");\n",
    " \n",
    "WritePolicy wPolicy = new WritePolicy();\n",
    "\n",
    "client.delete(wPolicy, cdtkey);  //Start clean\n",
    "\n",
    "//Map data structure - Level1Key1 = l1k1 etc\n",
    "\n",
    "Map<Value, Value> m1 = new HashMap<Value, Value>();\n",
    "m1.put(Value.get(\"l1k1\"), Value.get(11));\n",
    "m1.put(Value.get(\"l1k2\"), Value.get(12));\n",
    "m1.put(Value.get(\"l1k3\"), Value.get(13));\n",
    "\n",
    "MapPolicy mPolicy = new MapPolicy(MapOrder.KEY_ORDERED, MapWriteFlags.DEFAULT); \n",
    "client.operate(wPolicy, cdtkey, MapOperation.putItems(mPolicy, \"myMapBin\", m1));\n",
    "\n",
    "//Check the record\n",
    "System.out.println(\"Level 1 Map bin inserted \" + client.get(null,cdtkey)+\"\\n\"); "
   ]
  },
  {
   "attachments": {},
   "cell_type": "markdown",
   "id": "15bcf176-c1a4-4211-a7ee-2fd5c5f30cec",
   "metadata": {},
   "source": [
    "#### We have:\n",
    "```\n",
    "myMapBin:{l1k1=11, l1k2=12, l1k3=13}\n",
    "```\n"
   ]
  },
  {
   "attachments": {},
   "cell_type": "markdown",
   "id": "1eb89826-0360-47cc-b8f4-82aa05f31266",
   "metadata": {},
   "source": [
    "### Update `l1k1` value from `integer` to a `map` type to create a second level nesting. &larr; Required to get Map CTX.\n",
    "### Step 2: Insert nested map at `l1k1:11` in `key1`\n",
    "```\n",
    "m2: l2k1 : 0 \n",
    "```\n"
   ]
  },
  {
   "cell_type": "code",
   "execution_count": 121,
   "id": "cd25020f-837a-4f7d-9553-dc17b9f9ebd4",
   "metadata": {},
   "outputs": [
    {
     "name": "stdout",
     "output_type": "stream",
     "text": [
      "Leve1 Map bin inserted (gen:2),(exp:475964742),(bins:(myMapBin:{l1k1={l2k1=0}, l1k2=12, l1k3=13}))\n",
      "\n"
     ]
    }
   ],
   "source": [
    "Map<Value, Value> m2 = new HashMap<Value, Value>();\n",
    "m2.put(Value.get(\"l2k1\"), Value.get(0));\n",
    "\n",
    "client.operate(wPolicy, cdtkey, \n",
    "   MapOperation.put(mPolicy, \"myMapBin\", Value.get(\"l1k1\"), Value.get(m2))\n",
    ");\n",
    "\n",
    "//Check the record\n",
    "System.out.println(\"Level 1 Key 1 Maptype value inserted \" + client.get(null,cdtkey)+\"\\n\"); \n",
    "\n"
   ]
  },
  {
   "attachments": {},
   "cell_type": "markdown",
   "id": "f45af46b-83c5-4c6a-8338-bc8208aaad36",
   "metadata": {},
   "source": [
    "#### We now have:\n",
    "```\n",
    "myMapBin:{  l1k1={l2k1=0},    l1k2=12,    l1k3=13}  A map placeholder in at l1k1 value.\n",
    "```\n"
   ]
  },
  {
   "attachments": {},
   "cell_type": "markdown",
   "id": "92cb18aa-69a3-4528-981a-ba787b55f16f",
   "metadata": {},
   "source": [
    " \n",
    "### Step 3: Insert multiple map items at l1k1, now that we have a map type available at l1k1.\n",
    "###  Reassign `m2`. We can update the value at l1k1 using CTX (nested context). `CTX.mapKey(Value.get(\"l1k1\"))`\n",
    "```\n",
    "m2: l2k1 : 21, l2k2:22, l2k3:23 \n",
    "```\n"
   ]
  },
  {
   "cell_type": "code",
   "execution_count": 124,
   "id": "7c574962-01e0-4717-9d59-e85770bd7d5f",
   "metadata": {},
   "outputs": [],
   "source": [
    "//Add CTX import\n",
    "import com.aerospike.client.cdt.CTX;"
   ]
  },
  {
   "cell_type": "code",
   "execution_count": 125,
   "id": "8eec491b-27ef-49e3-96fc-4b5e8085ecf5",
   "metadata": {},
   "outputs": [
    {
     "name": "stdout",
     "output_type": "stream",
     "text": [
      "Leve1 Map bin inserted (gen:3),(exp:475965077),(bins:(myMapBin:{l1k1={l2k2=22, l2k1=21, l2k3=23}, l1k2=12, l1k3=13}))\n",
      "\n"
     ]
    }
   ],
   "source": [
    "// Reassign m2 \n",
    "m2.put(Value.get(\"l2k1\"), Value.get(21));\n",
    "m2.put(Value.get(\"l2k2\"), Value.get(22));\n",
    "m2.put(Value.get(\"l2k3\"), Value.get(23));\n",
    "\n",
    "client.operate(wPolicy, cdtkey, \n",
    "    MapOperation.putItems(mPolicy, \"myMapBin\", m2, CTX.mapKey(Value.get(\"l1k1\")) )\n",
    ");\n",
    "\n",
    "//Check the record\n",
    "System.out.println(\"Level 2 Map bin inserted \" + client.get(null,cdtkey)+\"\\n\"); \n",
    "\n"
   ]
  },
  {
   "attachments": {},
   "cell_type": "markdown",
   "id": "87d7d597-3010-4c61-9ed9-a003ce0f4fab",
   "metadata": {},
   "source": [
    "#### We now have:\n",
    "```\n",
    "myMapBin:{  l1k1={l2k2=22, l2k1=21, l2k3=23},    l1k2=12,    l1k3=13}\n",
    "```\n"
   ]
  },
  {
   "attachments": {},
   "cell_type": "markdown",
   "id": "430ec572-ff62-43e5-b5cd-920521c31af0",
   "metadata": {},
   "source": [
    "### Step 4: Update `l2k1` value from `integer` to a `map` type to create a third level nesting. \n",
    "### Insert nested map at `l2k1:21` in `key1`\n",
    "```\n",
    "m3: l3k1 : 0 \n",
    "```\n"
   ]
  },
  {
   "cell_type": "code",
   "execution_count": 126,
   "id": "ff8cfa1b-773e-40c4-8e33-8310c41d3346",
   "metadata": {},
   "outputs": [
    {
     "name": "stdout",
     "output_type": "stream",
     "text": [
      "Level 2 Key 1 Maptype value inserted (gen:4),(exp:475965473),(bins:(myMapBin:{l1k1={l2k2=22, l2k1={l3k1=0}, l2k3=23}, l1k2=12, l1k3=13}))\n",
      "\n"
     ]
    }
   ],
   "source": [
    "Map<Value, Value> m3 = new HashMap<Value, Value>();\n",
    "m3.put(Value.get(\"l3k1\"), Value.get(0));\n",
    "\n",
    "client.operate(wPolicy, cdtkey, \n",
    "   MapOperation.put(mPolicy, \"myMapBin\", Value.get(\"l2k1\"), Value.get(m3), CTX.mapKey(Value.get(\"l1k1\")) )\n",
    ");\n",
    "\n",
    "//Check the record\n",
    "System.out.println(\"Level 2 Key 1 Maptype value inserted \" + client.get(null,cdtkey)+\"\\n\"); \n",
    "\n"
   ]
  },
  {
   "attachments": {},
   "cell_type": "markdown",
   "id": "8faea7ad-0b1f-4646-a1c4-7f997211af12",
   "metadata": {},
   "source": [
    " \n",
    "### Step 5: Insert multiple map items at l2k1, now that we have a map type available at l2k1.\n",
    "###  Reassign `m3`. We can update the value at l1k1 -> l2k1 using CTX (nested context). \n",
    "### `CTX.mapKey(Value.get(\"l1k1\")), CTX.mapKey(Value.get(\"l2k1\"))`\n",
    "```\n",
    "m3: l3k1 : 31, l3k2:32, l3k3:33 \n",
    "```\n"
   ]
  },
  {
   "cell_type": "code",
   "execution_count": 128,
   "id": "6cd2355d-79a0-4598-bd14-a0001638a99a",
   "metadata": {},
   "outputs": [
    {
     "name": "stdout",
     "output_type": "stream",
     "text": [
      "Level 3 Map bin inserted (gen:5),(exp:475965737),(bins:(myMapBin:{l1k1={l2k2=22, l2k1={l3k1=31, l3k3=33, l3k2=32}, l2k3=23}, l1k2=12, l1k3=13}))\n",
      "\n"
     ]
    }
   ],
   "source": [
    "// Reassign m3 \n",
    "m3.put(Value.get(\"l3k1\"), Value.get(31));\n",
    "m3.put(Value.get(\"l3k2\"), Value.get(32));\n",
    "m3.put(Value.get(\"l3k3\"), Value.get(33));\n",
    "\n",
    "client.operate(wPolicy, cdtkey, \n",
    "    MapOperation.putItems(mPolicy, \"myMapBin\", m3, CTX.mapKey(Value.get(\"l1k1\")), CTX.mapKey(Value.get(\"l2k1\")) )\n",
    ");\n",
    "\n",
    "//Check the record\n",
    "System.out.println(\"Level 3 Map bin inserted \" + client.get(null,cdtkey)+\"\\n\"); \n",
    "\n"
   ]
  },
  {
   "attachments": {},
   "cell_type": "markdown",
   "id": "e1cd456c-2149-40ab-83a4-e81c267ffa06",
   "metadata": {},
   "source": [
    "#### We now have:\n",
    "```\n",
    "myMapBin:{  l1k1={  l2k2=22,   l2k1={ l3k1=31, l3k3=33, l3k2=32 },   l2k3=23},    l1k2=12,    l1k3=13}\n",
    "```\n"
   ]
  },
  {
   "attachments": {},
   "cell_type": "markdown",
   "id": "4d62f475-314d-48a0-bae1-75d15d039bd4",
   "metadata": {},
   "source": [
    " \n",
    "### Step 6: Modify value `33` at `l3k3` to `99` \n",
    "### Get to the nested map: `CTX.mapKey(Value.get(\"l1k1\")), CTX.mapKey(Value.get(\"l2k1\"))`\n"
   ]
  },
  {
   "cell_type": "code",
   "execution_count": 130,
   "id": "558fdb3d-3af9-44d8-9943-7f01dd59ed03",
   "metadata": {},
   "outputs": [
    {
     "name": "stdout",
     "output_type": "stream",
     "text": [
      "Level 3 Key 3 value modified to 99 (gen:7),(exp:475966345),(bins:(myMapBin:{l1k1={l2k2=22, l2k1={l3k1=31, l3k3=99, l3k2=32}, l2k3=23}, l1k2=12, l1k3=13}))\n",
      "\n"
     ]
    }
   ],
   "source": [
    "client.operate(wPolicy, cdtkey, \n",
    "    MapOperation.put(mPolicy, \"myMapBin\", Value.get(\"l3k3\"), Value.get(99), CTX.mapKey(Value.get(\"l1k1\")), CTX.mapKey(Value.get(\"l2k1\")) )\n",
    ");\n",
    "\n",
    "//Check the record\n",
    "System.out.println(\"Level 3 Key 3 value modified to 99 \" + client.get(null,cdtkey)+\"\\n\"); \n",
    "\n"
   ]
  },
  {
   "attachments": {},
   "cell_type": "markdown",
   "id": "01ece703-00b6-4a38-bdb5-2d664b33906e",
   "metadata": {},
   "source": [
    " \n",
    "### Step 7: Edit 2nd level nested value l3k3:99 to an empty list type\n",
    "### Note: This list type is inserted with defautl list policies (UNORDERED)\n",
    "### Get to the nested map: `CTX.mapKey(Value.get(\"l1k1\")), CTX.mapKey(Value.get(\"l2k1\"))`\n"
   ]
  },
  {
   "cell_type": "code",
   "execution_count": 131,
   "id": "a23ffa09-aa16-41f5-ac6e-0ca2e3fecea7",
   "metadata": {},
   "outputs": [
    {
     "name": "stdout",
     "output_type": "stream",
     "text": [
      "Level 3 Key 3 value modified to empty list (gen:8),(exp:475966523),(bins:(myMapBin:{l1k1={l2k2=22, l2k1={l3k1=31, l3k3=[], l3k2=32}, l2k3=23}, l1k2=12, l1k3=13}))\n",
      "\n"
     ]
    }
   ],
   "source": [
    "List<Value> mylist = new ArrayList<Value>();\n",
    "\n",
    "client.operate(wPolicy, cdtkey, \n",
    "    MapOperation.put(mPolicy, \"myMapBin\", Value.get(\"l3k3\"), Value.get(mylist), CTX.mapKey(Value.get(\"l1k1\")), CTX.mapKey(Value.get(\"l2k1\")) )\n",
    ");\n",
    "\n",
    "//Check the record\n",
    "System.out.println(\"Level 3 Key 3 value modified to empty list \" + client.get(null,cdtkey)+\"\\n\"); \n",
    "\n"
   ]
  },
  {
   "attachments": {},
   "cell_type": "markdown",
   "id": "6de50097-35d0-4e0b-a5ed-387d5821422a",
   "metadata": {},
   "source": [
    " \n",
    "### Step 8: Append items directly to nested list at `l3k3`\n",
    "### We can first change the list order to `ORDERED` using `setOrder()` and then use ListPolicy to update the list items \n",
    "### `ORDERED`, with `ListWriteFlags: UNIQUE | NO_FAIL | PARTIAL`\n",
    "### Get to the nested map: `CTX.mapKey(Value.get(\"l1k1\")), CTX.mapKey(Value.get(\"l2k1\"))`\n",
    "### **NOTE** Now our nested context is a `LIST` and so we are doing `ListOperations`\n"
   ]
  },
  {
   "cell_type": "code",
   "execution_count": 133,
   "id": "9d2409f2-fcea-4a2b-ae17-764ae4ef0660",
   "metadata": {},
   "outputs": [
    {
     "name": "stdout",
     "output_type": "stream",
     "text": [
      "Level 3 Key 3 value modified to Ordered list with unique items (gen:9),(exp:475966934),(bins:(myMapBin:{l1k1={l2k2=22, l2k1={l3k1=31, l3k3=[0, 1, 4], l3k2=32}, l2k3=23}, l1k2=12, l1k3=13}))\n",
      "\n"
     ]
    }
   ],
   "source": [
    "mylist.add(Value.get(0));        \n",
    "mylist.add(Value.get(4));        \n",
    "mylist.add(Value.get(1));        \n",
    "mylist.add(Value.get(4));  //Duplicate, for demo purpose\n",
    "\n",
    "ListPolicy lPolicy = new ListPolicy(ListOrder.ORDERED, \n",
    "                         ListWriteFlags.ADD_UNIQUE|ListWriteFlags.NO_FAIL|ListWriteFlags.PARTIAL);\n",
    "\n",
    "client.operate(wPolicy, cdtkey, \n",
    "    //We need to explicitly change the order from UNORDERED to ORDERED \n",
    "    ListOperation.setOrder(\"myMapBin\", ListOrder.ORDERED,\n",
    "         CTX.mapKey(Value.get(\"l1k1\")), \n",
    "         CTX.mapKey(Value.get(\"l2k1\")), \n",
    "         CTX.mapKey(Value.get(\"l3k3\")) \n",
    "    ),\n",
    "    ListOperation.appendItems(\n",
    "         lPolicy, \"myMapBin\", mylist,\n",
    "         CTX.mapKey(Value.get(\"l1k1\")), \n",
    "         CTX.mapKey(Value.get(\"l2k1\")), \n",
    "         CTX.mapKey(Value.get(\"l3k3\")) \n",
    "    ) );\n",
    "\n",
    "//Check the record\n",
    "System.out.println(\"Level 3 Key 3 value modified to Ordered list with unique items \" + client.get(null,cdtkey)+\"\\n\"); \n",
    "\n"
   ]
  },
  {
   "attachments": {},
   "cell_type": "markdown",
   "id": "0dae88c0-0739-4bf1-aa3e-e91d3ff12ac9",
   "metadata": {},
   "source": [
    " \n",
    "### Now that we know all about working with nested Contexts in Collection Data Types, let's look at various options of building secondary indexes on Nested elements. \n",
    "\n",
    "### We will close this Jupyter Notebook and switch to another one. \n",
    "\n",
    "### Before that, let's clean up the data on the server. \n"
   ]
  },
  {
   "attachments": {},
   "cell_type": "markdown",
   "id": "01c7011e-c51f-4206-8fc7-14937681207f",
   "metadata": {},
   "source": [
    "## Cleanup &darr;\n"
   ]
  },
  {
   "cell_type": "code",
   "execution_count": 119,
   "id": "0b369fb8-0620-47ec-a146-b1c63b431e75",
   "metadata": {},
   "outputs": [],
   "source": [
    "%sh asadm --enable -e \"manage truncate ns test --no-warn\" -h \"127.0.0.1\""
   ]
  },
  {
   "cell_type": "code",
   "execution_count": null,
   "id": "763f64dc-7a02-4b40-b5a6-076b0967e276",
   "metadata": {},
   "outputs": [],
   "source": []
  }
 ],
 "metadata": {
  "kernelspec": {
   "display_name": "Java",
   "language": "java",
   "name": "java"
  },
  "language_info": {
   "codemirror_mode": "java",
   "file_extension": ".jshell",
   "mimetype": "text/x-java-source",
   "name": "Java",
   "pygments_lexer": "java",
   "version": "17.0.10+8-LTS"
  }
 },
 "nbformat": 4,
 "nbformat_minor": 5
}
