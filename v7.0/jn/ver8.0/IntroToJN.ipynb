{
 "cells": [
  {
   "cell_type": "markdown",
   "id": "4f007af7",
   "metadata": {},
   "source": [
    "### Jupyter Notebook Overview\n",
    "What is happening behind the scenes...\n",
    "\n",
    "![fig2](./graphics/jpynb_BlockDiag.png)\n",
    "\n",
    "We are using the iJava (Interactive Java Kernel for Jupyter Notebook) in this example.\n",
    "\n",
    "We also have the option to code in Python - in a separate Notebook, iPython is the other interactive Kernel available in Jupyter Notebooks."
   ]
  },
  {
   "cell_type": "markdown",
   "id": "c5eb8d41",
   "metadata": {},
   "source": [
    "##### Jupyter Notebook - Cells and Execution / Edit shortcuts \n",
    "\n",
    "We have a mix of Markdown cells (text description in Markdown) and Code cells (we have chosen iJava Kernel).\n",
    "<img src=\"./graphics/JupNb_Cells.png\"\n",
    "     alt=\"Fraud Detection\"\n",
    "     style=\"center; margin-right: 10px;\"\n",
    "     width=\"250\"\n",
    "     height=\"400\"/>\n",
    "\n",
    "\n",
    "You can use the menu above to change a cell from being a Code cell to a Markdown cell.\n",
    "\n",
    "**Cntrl-Enter** executes a cell. Try it.\n",
    "\n",
    "Clicking anywhere in text display (Markdown) cell and hitting **Enter**, puts you in the cell edit mode. Try it.\n",
    "\n",
    "Code cells can be edited directly. To run an edited code cell, just hit **Cntrl-Enter**.\n",
    "\n",
    "You can add a new blank cell, cells can be deleted, copied, pasted or moved up or down using the menu icons as shown below:\n",
    "\n",
    "![fig4](./graphics/JupNb_CellEditing.png)"
   ]
  },
  {
   "cell_type": "markdown",
   "id": "28b3e822",
   "metadata": {},
   "source": [
    "### Housekeeping - Wipe out any prior records on the Aerospike Server\n",
    "\n",
    "We have a namespace **_test_** pre-defined on the server. Lets truncate it using _asadm_.\n",
    "\n",
    "This is needed while doing code development. If you want to clear the iJava Kernel of all Java objects and run all cells from scratch, Kernel->Restart & Run All, this will ensure any records written on the underlying Aerospike cluster are purged.\n",
    "\n",
    "First, we need required imports for using %sh in interactive Java Kernel. (This is specific to the iJava Kernel implementation by **Spencer Park** that we are using.)"
   ]
  },
  {
   "cell_type": "code",
   "execution_count": 1,
   "id": "eb85febe",
   "metadata": {},
   "outputs": [],
   "source": [
    "import io.github.spencerpark.ijava.IJava;\n",
    "import io.github.spencerpark.jupyter.kernel.magic.common.Shell;\n",
    "IJava.getKernelInstance().getMagics().registerMagics(Shell.class);"
   ]
  },
  {
   "cell_type": "markdown",
   "id": "1b305b92",
   "metadata": {},
   "source": [
    "### Running _asadm_ in iJava\n",
    "We can run _asadm_ commands inline. Below, we will use the truncation command, which normally requires an interactive confirmation, which we will skip by using the _--no-warn_ flag. No output will be displayed.\n"
   ]
  },
  {
   "cell_type": "code",
   "execution_count": 2,
   "id": "0f11685a",
   "metadata": {},
   "outputs": [],
   "source": [
    "%sh asadm --enable -e \"manage truncate ns test --no-warn\" -h \"127.0.0.1\""
   ]
  },
  {
   "cell_type": "markdown",
   "id": "8cabfe6d",
   "metadata": {},
   "source": [
    "### Runing _asadm_ via Terminal Tab\n",
    "\n",
    "Alternatively, you can also open a separate terminal window (TAB) from the Home Page and run _asadm_ interactively in the Terminal.  Please **DO NOT CLICK ON QUIT** on Login Page. It will kill the Jupyter Notebook Server.\n",
    "\n",
    "![fig5](./graphics/JupNb_Terminal.png)"
   ]
  },
  {
   "cell_type": "markdown",
   "id": "73d02fa5",
   "metadata": {},
   "source": [
    "### Get our Aerospike Java Client talking to the Single Node Aerospike Server \n",
    "\n",
    "We will be discussing the data model development interactively. We will code as we progress through the discussion. So let us connect our client application's interactive coding environment with the single node Aerospike server. This will get our real time interaction started.\n",
    "\n",
    "As we write code in following Jupyter Notebook cells, it will be executed on the Single node Aerospike Server. "
   ]
  },
  {
   "cell_type": "markdown",
   "id": "4b23c8bf",
   "metadata": {},
   "source": [
    "#### Add Java Client POM Dependency  \n",
    "Jupyter Notebook way!"
   ]
  },
  {
   "cell_type": "code",
   "execution_count": 3,
   "id": "c7d10ca8",
   "metadata": {},
   "outputs": [],
   "source": [
    "%%loadFromPOM\n",
    "<dependencies>\n",
    "  <dependency>\n",
    "    <groupId>com.aerospike</groupId>\n",
    "    <artifactId>aerospike-client-jdk8</artifactId>\n",
    "    <version>9.0.3</version>\n",
    "  </dependency>\n",
    "</dependencies>"
   ]
  },
  {
   "cell_type": "markdown",
   "id": "e03decf9",
   "metadata": {},
   "source": [
    "####  Add required Java Client Imports\n",
    "\n",
    "These are some of the Aerospike Java Client imports needed to start developing our Application interactively.  We will add others, as needed, as we develop our solution."
   ]
  },
  {
   "cell_type": "code",
   "execution_count": 4,
   "id": "b5ec301d",
   "metadata": {},
   "outputs": [
    {
     "name": "stdout",
     "output_type": "stream",
     "text": [
      "Client modules imported.\n"
     ]
    }
   ],
   "source": [
    "//Require Imports\n",
    "import com.aerospike.client.AerospikeClient;\n",
    "import com.aerospike.client.policy.WritePolicy;\n",
    "import com.aerospike.client.Bin;\n",
    "import com.aerospike.client.Key;\n",
    "import com.aerospike.client.Record;\n",
    "import com.aerospike.client.Value;\n",
    "System.out.println(\"Client modules imported.\");"
   ]
  },
  {
   "cell_type": "markdown",
   "id": "45dc772b",
   "metadata": {},
   "source": [
    "#### Connect to the Aerospike Server\n",
    "Instantiate the client object. Let us write a record and read it back.\n",
    "We have a namespace **_test_** pre-defined on the server."
   ]
  },
  {
   "cell_type": "code",
   "execution_count": 5,
   "id": "74465d79",
   "metadata": {},
   "outputs": [
    {
     "name": "stdout",
     "output_type": "stream",
     "text": [
      "Initialized the client and connected to the cluster.\n"
     ]
    }
   ],
   "source": [
    "AerospikeClient client = new AerospikeClient(\"127.0.0.1\", 3000);\n",
    "System.out.println(\"Initialized the client and connected to the cluster.\");"
   ]
  },
  {
   "cell_type": "markdown",
   "id": "dcc36b20-5172-4e17-8e84-c16b341f91b4",
   "metadata": {},
   "source": [
    "# Accessing a record on the Aerospike Server\n",
    "We build the Key object in Java\n",
    "We need the namespace and the record digest to find the record on the server.\n",
    "The record digest is computed by the client library using application provided key (integer, string or byte-array) and the set name. If not in a set, use null for set name.\n",
    "\n",
    "<img src=\"./graphics/RecordKey.png\"\n",
    "     alt=\"Record Digest\"\n",
    "     style=\"float: left; margin-right: 10px;\"\n",
    "     width=\"600\"\n",
    "     height=\"400\"/>"
   ]
  },
  {
   "cell_type": "code",
   "execution_count": 6,
   "id": "78a83a80-3ecb-413e-959a-e1867d24fb19",
   "metadata": {},
   "outputs": [
    {
     "name": "stdout",
     "output_type": "stream",
     "text": [
      "Working with record key:\n",
      "test:demo:key1:ec91192d4b7f8ce35d5d78d34bca65cbaaaac960\n"
     ]
    }
   ],
   "source": [
    "Key key = new Key(\"test\", \"demo\", \"key1\");\n",
    "System.out.println(\"Working with record key:\");\n",
    "System.out.println(key);  //Will show the 20 byte digest"
   ]
  },
  {
   "cell_type": "markdown",
   "id": "2e0d3192",
   "metadata": {},
   "source": [
    "#### Test Record Data Model\n",
    "\n",
    "![fig_DM_1](./graphics/Fraud_DM_1.png)"
   ]
  },
  {
   "cell_type": "code",
   "execution_count": 7,
   "id": "85cf0fb7",
   "metadata": {},
   "outputs": [],
   "source": [
    "//Insert a record with two bins, b1 with string v1 and b2 with integer 2 as data.\n",
    "\n",
    "WritePolicy wPolicy = new WritePolicy();\n",
    "\n",
    "Bin b1 = new Bin(\"b1\", Value.get(\"val1\"));\n",
    "Bin b2 = new Bin(\"b2\", Value.get(2));\n",
    "\n",
    "client.put(wPolicy, key, b1, b2);"
   ]
  },
  {
   "cell_type": "markdown",
   "id": "935de1d9",
   "metadata": {},
   "source": [
    "##### About Jupyter Notebook Cell Execution sequence\n",
    "\n",
    "If a previous code cell was executed, objects instantiated in it are available in the next cell that you execute. \n",
    "\n",
    "You can execute individual cells in any order - this is interactive execution.\n",
    "\n",
    "Order of execution will determine the net result.  i.e. you can go back and forth between the record insertion cell above, and record read cell below. \n",
    "\n",
    "![fig_exec](./graphics/JupNb_Execution.png)\n",
    "\n",
    "If you edit the insertion values, you must re-execute the write cell to put the new value on the Aerospike Server. Then, if you execute the read cell, you will see the updated value.\n",
    "\n",
    "**_If you have lost track about where you are in the sequence, go to the top Menu, under Cell, Choose \"Run All\" to run all cells - top to bottom - in this notebook's sequence._** If you want to clear all objects in the kernel and restart from a fresh state, use **Kernel -> Restart & Run All**.\n"
   ]
  },
  {
   "cell_type": "code",
   "execution_count": 8,
   "id": "052cbf16",
   "metadata": {},
   "outputs": [
    {
     "name": "stdout",
     "output_type": "stream",
     "text": [
      "Read back the record.\n",
      "Record values are:\n",
      "(gen:1),(exp:475970072),(bins:(b1:val1),(b2:2))\n"
     ]
    }
   ],
   "source": [
    "//Read the record that we just inserted\n",
    "\n",
    "Record record = client.get(null, key);\n",
    "System.out.println(\"Read back the record.\");\n",
    "\n",
    "System.out.println(\"Record values are:\");\n",
    "System.out.println(record);"
   ]
  },
  {
   "cell_type": "markdown",
   "id": "abe2c0ca",
   "metadata": {},
   "source": [
    "## Clean up"
   ]
  },
  {
   "cell_type": "code",
   "execution_count": 9,
   "id": "4f89919d",
   "metadata": {},
   "outputs": [],
   "source": [
    "%sh asadm --enable -e \"manage truncate ns test --no-warn\" -h \"127.0.0.1\""
   ]
  },
  {
   "cell_type": "code",
   "execution_count": null,
   "id": "72b05967-455c-4a8b-a547-3d108ad8476d",
   "metadata": {},
   "outputs": [],
   "source": []
  }
 ],
 "metadata": {
  "kernelspec": {
   "display_name": "Java",
   "language": "java",
   "name": "java"
  },
  "language_info": {
   "codemirror_mode": "java",
   "file_extension": ".jshell",
   "mimetype": "text/x-java-source",
   "name": "Java",
   "pygments_lexer": "java",
   "version": "17.0.10+8-LTS"
  }
 },
 "nbformat": 4,
 "nbformat_minor": 5
}
