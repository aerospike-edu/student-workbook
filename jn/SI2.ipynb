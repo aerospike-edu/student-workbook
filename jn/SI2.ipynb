{
 "cells": [
  {
   "cell_type": "markdown",
   "id": "5610565e",
   "metadata": {},
   "source": [
    "# Secondary Index Ver 6.1+\n",
    "\n",
    "## Key Features: \n",
    "### Revised SI layout in memory\n",
    " * EE uses Linux Shared RAM.  Allows for Warm Start of SIs.\n",
    " * Revised B-Tree model, one B-tree per partition. \n",
    " * One unique 14 byte entry per record indexed.\n",
    " * Indexing Bin Data (same as before) - _types_ supported: Numeric, String and Geo2DSphere\n",
    " * CDTs: Indexing Top level Map and Lists data types. MapKeys, MapValues or ListValues of above _types_ can be indexed.\n",
    " * 6.1 extends above top-level only indexing capability of CDTs to any context or nested path in a CDT. (Pre 6.1 only top-level bin data containg a map or list data type could be indexed.)\n",
    " \n",
    " Partition based layout allows query to progress with partition awareness. Allows users to have fine control over query progress. Maintains query progress through cluster changes. No need to track \"failOnClusterChange\" events, store and delay consumption of results in clients, and restart query in case of cluster change.\n",
    " \n",
    " <img src=\"./graphics/SIOverview.png\"\n",
    "     alt=\"SIOverview\"\n",
    "     style=\"center; margin-right: 10px;\"\n",
    "     width=\"800\"\n",
    "     height=\"640\"/>\n",
    "\n",
    "\n",
    "## Presentation Outline \n",
    "* Quick review of the Jupyter Notebook Environment\n",
    "* Interactive Java Development Environment\n",
    "* Connecting to Aerospike One node cluster \n",
    "* SI 6.1 Features\n",
    "\n"
   ]
  },
  {
   "cell_type": "markdown",
   "id": "4f007af7",
   "metadata": {},
   "source": [
    "### Jupyter Notebook Overview\n",
    "What is happening behind the scenes...\n",
    "\n",
    "![fig2](./graphics/jpynb_BlockDiag.png)\n",
    "\n",
    "We are using the iJava (Interactive Java Kernel for Jupyter Notebook) in this example.\n",
    "\n",
    "We also have the option to code in Python - in a separate Notebook, iPython is the other interactive Kernel available in Jupyter Notebooks."
   ]
  },
  {
   "cell_type": "markdown",
   "id": "c5eb8d41",
   "metadata": {},
   "source": [
    "##### Jupyter Notebook - Cells and Execution / Edit shortcuts \n",
    "\n",
    "We have a mix of Markdown cells (text description in Markdown) and Code cells (we have chosen iJava Kernel).\n",
    "<img src=\"./graphics/JupNb_Cells.png\"\n",
    "     alt=\"Fraud Detection\"\n",
    "     style=\"center; margin-right: 10px;\"\n",
    "     width=\"250\"\n",
    "     height=\"400\"/>\n",
    "\n",
    "\n",
    "You can use the menu above to change a cell from being a Code cell to a Markdown cell.\n",
    "\n",
    "**Cntrl-Enter** executes a cell. Try it.\n",
    "\n",
    "Clicking anywhere in text display (Markdown) cell and hitting **Enter**, puts you in the cell edit mode. Try it.\n",
    "\n",
    "Code cells can be edited directly. To run an edited code cell, just hit **Cntrl-Enter**.\n",
    "\n",
    "You can add a new blank cell, cells can be deleted, copied, pasted or moved up or down using the menu icons as shown below:\n",
    "\n",
    "![fig4](./graphics/JupNb_CellEditing.png)"
   ]
  },
  {
   "cell_type": "markdown",
   "id": "28b3e822",
   "metadata": {},
   "source": [
    "### Housekeeping - Wipe out any prior records on the Aerospike Server\n",
    "\n",
    "We have a namespace **_test_** pre-defined on the server. Lets truncate it using aql.\n",
    "\n",
    "This is needed while doing code development. If you want to clear the iJava Kernel of all Java objects and run all cells from scratch, Kernel->Restart & Run All, this will ensure any records written on the underlying Aerospike cluster are purged.\n",
    "\n",
    "First, we need required imports for using %sh in interactive Java Kernel. (This is specific to the iJava Kernel implementation by **Spencer Park** that we are using.)"
   ]
  },
  {
   "cell_type": "code",
   "execution_count": 136,
   "id": "eb85febe",
   "metadata": {},
   "outputs": [],
   "source": [
    "import io.github.spencerpark.ijava.IJava;\n",
    "import io.github.spencerpark.jupyter.kernel.magic.common.Shell;\n",
    "IJava.getKernelInstance().getMagics().registerMagics(Shell.class);"
   ]
  },
  {
   "cell_type": "markdown",
   "id": "1b305b92",
   "metadata": {},
   "source": [
    "### Runing aql in iJava\n",
    "We can run aql commands in a file. No output will be displayed. \n",
    "In _trucate_test.aql_, we have a single AQL command: TRUNCATE test\n",
    "\n"
   ]
  },
  {
   "cell_type": "code",
   "execution_count": 170,
   "id": "0f11685a",
   "metadata": {},
   "outputs": [],
   "source": [
    "%sh aql -h 127.0.0.1 -f \"./aqlScripts/truncate_test.aql\""
   ]
  },
  {
   "cell_type": "markdown",
   "id": "8cabfe6d",
   "metadata": {},
   "source": [
    "### Runing aql via Terminal Tab\n",
    "\n",
    "Alternatively, you can also open a separate terminal window (TAB) from the Home Page and run aql interactively in the Terminal.  Please **DO NOT CLICK ON QUIT** on Login Page. It will kill the Jupyter Notebook Server.\n",
    "\n",
    "![fig5](./graphics/JupNb_Terminal.png)"
   ]
  },
  {
   "cell_type": "markdown",
   "id": "73d02fa5",
   "metadata": {},
   "source": [
    "### Get our Aerospike Java Client talking to the Single Node Aerospike Server \n",
    "\n",
    "We will be discussing the data model development interactively. We will code as we progress through the discussion. So let us connect our client application's interactive coding environment with the single node Aerospike server. This will get our real time interaction started.\n",
    "\n",
    "As we write code in following Jupyter Notebook cells, it will be executed on the Single node Aerospike Server. "
   ]
  },
  {
   "cell_type": "markdown",
   "id": "4b23c8bf",
   "metadata": {},
   "source": [
    "#### Add Java Client POM Dependency  \n",
    "Jupyter Notebook way!"
   ]
  },
  {
   "cell_type": "code",
   "execution_count": 138,
   "id": "c7d10ca8",
   "metadata": {},
   "outputs": [],
   "source": [
    "%%loadFromPOM\n",
    "<dependencies>\n",
    "  <dependency>\n",
    "    <groupId>com.aerospike</groupId>\n",
    "    <artifactId>aerospike-client</artifactId>\n",
    "    <version>6.1.0</version>\n",
    "  </dependency>\n",
    "</dependencies>"
   ]
  },
  {
   "cell_type": "markdown",
   "id": "e03decf9",
   "metadata": {},
   "source": [
    "####  Add required Java Client Imports\n",
    "\n",
    "These are some of the Aerospike Java Client imports needed to start developing our Application interactively.  We will add others, as needed, as we develop our solution."
   ]
  },
  {
   "cell_type": "code",
   "execution_count": 139,
   "id": "b5ec301d",
   "metadata": {},
   "outputs": [
    {
     "name": "stdout",
     "output_type": "stream",
     "text": [
      "Client modules imported.\n"
     ]
    }
   ],
   "source": [
    "//Require Imports\n",
    "import com.aerospike.client.AerospikeClient;\n",
    "import com.aerospike.client.policy.WritePolicy;\n",
    "import com.aerospike.client.Bin;\n",
    "import com.aerospike.client.Key;\n",
    "import com.aerospike.client.Record;\n",
    "import com.aerospike.client.Value;\n",
    "System.out.println(\"Client modules imported.\");"
   ]
  },
  {
   "cell_type": "markdown",
   "id": "45dc772b",
   "metadata": {},
   "source": [
    "#### Connect to the Aerospike Server\n",
    "Instantiate the client object. Let us write a record and read it back.\n",
    "We have a namespace **_test_** pre-defined on the server."
   ]
  },
  {
   "cell_type": "code",
   "execution_count": 140,
   "id": "74465d79",
   "metadata": {},
   "outputs": [
    {
     "name": "stdout",
     "output_type": "stream",
     "text": [
      "Initialized the client and connected to the cluster.\n",
      "Working with record key:\n",
      "test:demo:key1:ec91192d4b7f8ce35d5d78d34bca65cbaaaac960\n"
     ]
    }
   ],
   "source": [
    "AerospikeClient client = new AerospikeClient(\"127.0.0.1\", 3000);\n",
    "System.out.println(\"Initialized the client and connected to the cluster.\");\n",
    "\n",
    "Key key = new Key(\"test\", \"demo\", \"key1\");\n",
    "System.out.println(\"Working with record key:\");\n",
    "System.out.println(key);  //Will show the 20 byte digest"
   ]
  },
  {
   "cell_type": "markdown",
   "id": "2e0d3192",
   "metadata": {},
   "source": [
    "#### Test Record Data Model\n",
    "\n",
    "![fig_DM_1](./graphics/Fraud_DM_1.png)"
   ]
  },
  {
   "cell_type": "code",
   "execution_count": 141,
   "id": "85cf0fb7",
   "metadata": {},
   "outputs": [],
   "source": [
    "//Insert a record with two bins, b1 with string v1 and b2 with integer 2 as data.\n",
    "\n",
    "WritePolicy wPolicy = new WritePolicy();\n",
    "\n",
    "Bin b1 = new Bin(\"b1\", Value.get(\"val1\"));\n",
    "Bin b2 = new Bin(\"b2\", Value.get(2));\n",
    "\n",
    "client.put(wPolicy, key, b1, b2);"
   ]
  },
  {
   "cell_type": "markdown",
   "id": "935de1d9",
   "metadata": {},
   "source": [
    "##### About Jupyter Notebook Cell Execution sequence\n",
    "\n",
    "If a previous code cell was executed, objects instantiated in it are available in the next cell that you execute. \n",
    "\n",
    "You can execute individual cells in any order - this is interactive execution.\n",
    "\n",
    "Order of execution will determine the net result.  i.e. you can go back and forth between the record insertion cell above, and record read cell below. \n",
    "\n",
    "![fig_exec](./graphics/JupNb_Execution.png)\n",
    "\n",
    "If you edit the insertion values, you must re-execute the write cell to put the new value on the Aerospike Server. Then, if you execute the read cell, you will see the updated value.\n",
    "\n",
    "**_If you have lost track about where you are in the sequence, go to the top Menu, under Cell, Choose \"Run All\" to run all cells - top to bottom - in this notebook's sequence._** If you want to clear all objects in the kernel and restart from a fresh state, use **Kernel -> Restart & Run All**.\n"
   ]
  },
  {
   "cell_type": "code",
   "execution_count": 142,
   "id": "052cbf16",
   "metadata": {},
   "outputs": [
    {
     "name": "stdout",
     "output_type": "stream",
     "text": [
      "Read back the record.\n",
      "Record values are:\n",
      "(gen:1),(exp:406920559),(bins:(b1:val1),(b2:2))\n"
     ]
    }
   ],
   "source": [
    "//Read the record that we just inserted\n",
    "\n",
    "Record record = client.get(null, key);\n",
    "System.out.println(\"Read back the record.\");\n",
    "\n",
    "System.out.println(\"Record values are:\");\n",
    "System.out.println(record);"
   ]
  },
  {
   "cell_type": "markdown",
   "id": "acbcf481",
   "metadata": {},
   "source": [
    "## Getting Back to Secondary Indexes in ver 6.1\n",
    "Now that we are all setup, let us get back to discussing the new features in ver 6.1 Secondary Indexes.  \n",
    "\n",
    "## Import Modules\n",
    "Let us start by importing all the modules we will need for the SI examples."
   ]
  },
  {
   "cell_type": "code",
   "execution_count": 143,
   "id": "995a3f83",
   "metadata": {},
   "outputs": [],
   "source": [
    "// import all needed modules\n",
    "import java.util.ArrayList;\n",
    "import java.util.Arrays;\n",
    "import java.util.HashMap;\n",
    "import java.util.List;\n",
    "import java.util.Map;\n",
    "\n",
    "import com.aerospike.client.AerospikeException;\n",
    "import com.aerospike.client.Key;\n",
    "import com.aerospike.client.Bin;\n",
    "import com.aerospike.client.policy.WritePolicy;\n",
    "import com.aerospike.client.policy.ClientPolicy;\n",
    "import com.aerospike.client.Record;\n",
    "import com.aerospike.client.Operation;\n",
    "import com.aerospike.client.Value;\n",
    "import com.aerospike.client.Value.ListValue;\n",
    "import com.aerospike.client.Value.MapValue;\n",
    "import com.aerospike.client.cdt.ListOperation;\n",
    "import com.aerospike.client.cdt.ListPolicy;\n",
    "import com.aerospike.client.cdt.ListOrder;\n",
    "import com.aerospike.client.cdt.ListWriteFlags;\n",
    "import com.aerospike.client.cdt.MapOperation;\n",
    "import com.aerospike.client.cdt.MapPolicy;\n",
    "import com.aerospike.client.cdt.MapOrder;\n",
    "import com.aerospike.client.cdt.MapWriteFlags;\n",
    "import com.aerospike.client.query.Statement;\n",
    "import com.aerospike.client.query.Filter;\n",
    "import com.aerospike.client.query.RecordSet;\n",
    "import com.aerospike.client.Record;\n",
    "import com.aerospike.client.policy.QueryPolicy;\n",
    "import com.aerospike.client.exp.Exp;\n",
    "import com.aerospike.client.query.IndexType;\n",
    "import com.aerospike.client.query.IndexCollectionType;\n",
    "import com.aerospike.client.task.IndexTask;\n",
    "import com.aerospike.client.AerospikeException;\n",
    "import com.aerospike.client.ResultCode;\n",
    "import com.aerospike.client.cdt.CTX;"
   ]
  },
  {
   "cell_type": "markdown",
   "id": "646a1190",
   "metadata": {},
   "source": [
    "## Define Constants and Helper Functions\n",
    "Define constants for the namespaces *test*, set *cdt-indexing*, and helper functions _createIndex_, _dropIndex_, _executeQueryAndPrintResults_, and _truncateTestData_."
   ]
  },
  {
   "cell_type": "code",
   "execution_count": 144,
   "id": "e60bf589",
   "metadata": {},
   "outputs": [
    {
     "ename": "EvalException",
     "evalue": "Error -11,6,0,30000,0,5: Max retries exceeded: 5\nsub-exceptions:\nError 201,1,0,30000,0,5,A1 127.0.0.1 3000: Index not found\nError 201,2,0,30000,0,5,A1 127.0.0.1 3000: Index not found\nError 201,3,0,30000,0,5,A1 127.0.0.1 3000: Index not found\nError 201,4,0,30000,0,5,A1 127.0.0.1 3000: Index not found\nError 201,5,0,30000,0,5,A1 127.0.0.1 3000: Index not found\nError 201,6,0,30000,0,5,A1 127.0.0.1 3000: Index not found\n",
     "output_type": "error",
     "traceback": [
      "\u001b[1m\u001b[31m---------------------------------------------------------------------------\u001b[0m",
      "\u001b[1m\u001b[31mcom.aerospike.client.AerospikeException: Error -11,6,0,30000,0,5: Max retries exceeded: 5\u001b[0m",
      "\u001b[1m\u001b[31msub-exceptions:\u001b[0m",
      "\u001b[1m\u001b[31mError 201,1,0,30000,0,5,A1 127.0.0.1 3000: Index not found\u001b[0m",
      "\u001b[1m\u001b[31mError 201,2,0,30000,0,5,A1 127.0.0.1 3000: Index not found\u001b[0m",
      "\u001b[1m\u001b[31mError 201,3,0,30000,0,5,A1 127.0.0.1 3000: Index not found\u001b[0m",
      "\u001b[1m\u001b[31mError 201,4,0,30000,0,5,A1 127.0.0.1 3000: Index not found\u001b[0m",
      "\u001b[1m\u001b[31mError 201,5,0,30000,0,5,A1 127.0.0.1 3000: Index not found\u001b[0m",
      "\u001b[1m\u001b[31mError 201,6,0,30000,0,5,A1 127.0.0.1 3000: Index not found\u001b[0m",
      "\u001b[1m\u001b[31m\u001b[0m",
      "\u001b[1m\u001b[31m\tat com.aerospike.client.query.PartitionTracker.isComplete(PartitionTracker.java:385)\u001b[0m",
      "\u001b[1m\u001b[31m\tat com.aerospike.client.query.QueryPartitionExecutor.execute(QueryPartitionExecutor.java:121)\u001b[0m",
      "\u001b[1m\u001b[31m\tat com.aerospike.client.query.QueryPartitionExecutor.run(QueryPartitionExecutor.java:69)\u001b[0m",
      "\u001b[1m\u001b[31m\tat java.base/java.util.concurrent.ThreadPoolExecutor.runWorker(ThreadPoolExecutor.java:1128)\u001b[0m",
      "\u001b[1m\u001b[31m\tat java.base/java.util.concurrent.ThreadPoolExecutor$Worker.run(ThreadPoolExecutor.java:628)\u001b[0m",
      "\u001b[1m\u001b[31m\tat java.base/java.lang.Thread.run(Thread.java:829)\u001b[0m"
     ]
    }
   ],
   "source": [
    "Statement stmt = new Statement();\n",
    "    stmt.setNamespace(\"test\");\n",
    "    stmt.setSetName(\"demo\");\n",
    "    String location=\"{ \\\"type\\\": \\\"Point\\\", \\\"coordinates\\\": [-0.99999999, -0.99999999 ] }\";\n",
    "    Filter filter = Filter.geoContains(\"gj\", location);\n",
    "    stmt.setFilter(filter);\n",
    "    //stmt.setBinNames(\"gj\");\n",
    "    RecordSet rs = client.query(null, stmt);\n",
    "    while (rs.next()) {\n",
    "        Key key = rs.getKey();\n",
    "        Record record = rs.getRecord();\n",
    "        System.out.format(\"key=%s bins=%s\\n\", key.userKey, record.bins);\n",
    "    }\n",
    "    //System.out.println();\n",
    "    rs.close();"
   ]
  },
  {
   "cell_type": "code",
   "execution_count": 145,
   "id": "a87d4daf",
   "metadata": {},
   "outputs": [],
   "source": [
    "final String Namespace = \"test\";\n",
    "final String Set = \"cdt-indexing\";\n",
    "final String ListBin = \"list_bin\";\n",
    "final String MapBin = \"map_bin\";\n",
    "\n",
    "\n",
    "// convenience function to create an index - essentially a pass-through to the client API\n",
    "void createIndex(String idxName, String binName, IndexType idxType, IndexCollectionType colType, CTX... ctx) {\n",
    "    try {\n",
    "            IndexTask task = client.createIndex(null,\n",
    "                                       Namespace,\n",
    "                                       Set,\n",
    "                                       idxName,\n",
    "                                       binName,\n",
    "                                       idxType,\n",
    "                                       colType,\n",
    "                                       ctx);\n",
    "            task.waitTillComplete(1000, 0);\n",
    "        }\n",
    "        catch (AerospikeException ae) {\n",
    "            if (ae.getResultCode() != ResultCode.INDEX_ALREADY_EXISTS) {\n",
    "                throw ae;\n",
    "            }\n",
    "        } \n",
    "        System.out.format(\"Created index %s on ns=%s set=%s bin=%s.\\n\", \n",
    "                                    idxName, Namespace, Set, binName);\n",
    "}\n",
    "\n",
    "// convenience function to drop an index - essentially a pass-through to the client API\n",
    "void dropIndex(String idxName) {\n",
    "    try {\n",
    "        IndexTask task = client.dropIndex(null, Namespace, Set, idxName);\n",
    "    }\n",
    "    catch (AerospikeException ae) {\n",
    "        if (ae.getResultCode() != ResultCode.INDEX_NOTFOUND) {\n",
    "            throw ae;\n",
    "        }\n",
    "    } \n",
    "    System.out.format(\"Dropped index %s.\\n\", idxName);\n",
    "}\n",
    "\n",
    "// convenience function to execute a query using the input filter and print the results\n",
    "void executeQueryAndPrintResults(Filter filter, String binName) {\n",
    "    Statement stmt = new Statement();\n",
    "    stmt.setNamespace(Namespace);\n",
    "    stmt.setSetName(Set);\n",
    "    stmt.setFilter(filter);\n",
    "    stmt.setBinNames(binName);\n",
    "    RecordSet rs = client.query(null, stmt);\n",
    "    while (rs.next()) {\n",
    "        Key key = rs.getKey();\n",
    "        Record record = rs.getRecord();\n",
    "        System.out.format(\"key=%s bins=%s\\n\", key.userKey, record.bins);\n",
    "    }\n",
    "    //System.out.println();\n",
    "    rs.close();\n",
    "}\n",
    "\n",
    "// convenience function to truncate test data\n",
    "void truncateTestData() {\n",
    "    try {\n",
    "        client.truncate(null, Namespace, null, null);\n",
    "    }\n",
    "    catch (AerospikeException e) {\n",
    "        // ignore\n",
    "    }\n",
    "}"
   ]
  },
  {
   "cell_type": "markdown",
   "id": "ed5111dc",
   "metadata": {},
   "source": [
    "## CDT Test Data\n",
    "We will illustrate how to create indexes on CDTs and issues queries using two CDTs - a nested List and a nested Map that are populated in 10 records each.\n",
    "\n",
    "A nested List in records with user_key (id) 1-10. The list is held in bin list_bin and has the following numeric, string, and List elements.\n",
    "\n",
    "\n",
    "\n",
    "Numeric elements: user_key to user_key+4.\n",
    "For example, for user_key=1: 1, 2, 3, 4, 5.\n",
    "String elements: \"s\"+user_key to \"s\"+(user_key+4).\n",
    "For example, for user_key=1: \"s1\", \"s2\", \"s3\", \"s4\", \"s5\"\n",
    "Nested List element: holds numeric elements (10\\*user_key)+1 to (10\\*user_key)+5.\n",
    "\n",
    "For example, for user_key=1: [11, 12, 13, 44, 15].\n",
    "So, the value in list_bin for the record with user_key=1 looks like:\n",
    "\n",
    "[ 1, 2, 3, 4, 5, s1\", \"s2\", \"s3\", \"s4\", \"s5\", [ 11, 12, 13, 44, 15 ] ].\n",
    "\n",
    "![fig_CDTDM_1](./graphics/CDT_DM_1.png)\n",
    "\n",
    "A nested Map in records with user_key (id) 101-110. The map is held in bin map_bin and has the following numeric, string, and List elements. Below, we have used i with a shorthand for i=user_key-100.\n",
    "\n",
    "\n",
    "\"oid\": i.\n",
    "For example, for i=1: 1.\n",
    "\"obj\": a nested map with the following key-value pairs: {\"attr1\": (10\\*i)+1, \"attr2\": \"s\"+(10\\*i)+2, \"subobj\": {\"attr3\": (100\\*i)+1, \"attr4\": (100\\*i)+2}}.\n",
    "For example, for i=1: {\"attr1\": 11, \"attr2\": \"s12\", \"subobj\": {\"attr3\": 101, \"attr4\": 102}}.\n",
    "i: [\"s\"+i, \"s\"+i+1].\n",
    "\n",
    "For example, for i=1: the key-value pair is 1: [\"s1\", \"s2\"].\n",
    "So, the value in map_bin for the record with user_key=1 looks like:\n",
    "\n",
    "{\n",
    "  \"oid\": 1, \n",
    "  \"obj\": {\"attr1\": 11, \"attr2\": \"s12\", \"subobj\": {\"attr3\": 101, \"attr4\": 102}}, \n",
    "  1: [\"s1\", \"s2\"]\n",
    "}\n",
    "\n",
    "![fig_DM_2](./graphics/CDT_DM_2.png)\n",
    "\n",
    "\n",
    "## Populate Test Data\n",
    "Execute the cell below to populate the test data described above.\n",
    "\n",
    "**We will insert 10 records with userkey=1 through 10 with ListBin, and  records with userkey = 101 thru 110 with MapBin.**\n"
   ]
  },
  {
   "cell_type": "code",
   "execution_count": 146,
   "id": "96da301d",
   "metadata": {},
   "outputs": [],
   "source": [
    "WritePolicy wpolicy = new WritePolicy();\n",
    "wpolicy.sendKey = true;\n",
    "\n",
    "// create the list_bin with [i..i+4, \"s\"+i..\"s\"+4, [10*i+1..10*i+5]]\n",
    "for (int user_key = 1; user_key <= 10; user_key++) {\n",
    "    Key key = new Key(Namespace, Set, user_key);\n",
    "\n",
    "    // append integer and string elements\n",
    "    ArrayList<Value> list_val = new ArrayList<Value>();\n",
    "    for (int n = user_key; n < user_key+5; n++) {\n",
    "        list_val.add(Value.get(n));\n",
    "        list_val.add(Value.get(\"s\"+Integer.toString(n)));\n",
    "    }\n",
    "\n",
    "    // append string elements\n",
    "    //for (int n=user_key; n < user_key+5; n++) {\n",
    "    //    list_val.add(Value.get(\"s\"+Integer.toString(n)));\n",
    "    //}\n",
    "\n",
    "    // append the nested list element\n",
    "    ArrayList<Integer> list_int = new ArrayList<Integer>();\n",
    "    for (int n=user_key*10+1; n < user_key*10+6; n++) {\n",
    "        list_int.add(n);\n",
    "    }\n",
    "    ListValue list_int_val = new ListValue(list_int);\n",
    "\n",
    "    // create the list bin\n",
    "    Record record = client.operate(wpolicy, key,\n",
    "                                    ListOperation.clear(ListBin), \n",
    "                                    ListOperation.appendItems(ListBin, list_val), \n",
    "                                    ListOperation.append(ListBin, list_int_val));\n",
    "}\n",
    "\n",
    "// create map bin with \n",
    "//    \"oid\": i,\n",
    "//    \"obj\": {\"attr1\": 10*i+1, \"attr2\": \"s\"+10*+i+2, \"subobj\": {\"attr3\": 100*1+1, \"attr4\": 100*1+2}}, \n",
    "//    i: [\"s\"+i, \"s\"+i+1]\n",
    "\n",
    "\n",
    "for (int user_key = 101; user_key <= 110; user_key++) {\n",
    "    Integer i = user_key - 100;\n",
    "    \n",
    "    Key key = new Key(Namespace, Set, user_key);\n",
    "    \n",
    "    // construct obj map value\n",
    "    HashMap <String, Value> obj = new HashMap <String, Value>();\n",
    "    obj.put(\"attr1\", Value.get(10*i+1));    \n",
    "    obj.put(\"attr2\", Value.get(\"s\"+Integer.toString(10*i+2)));   \n",
    "    HashMap <String, Integer> subobj = new HashMap <String, Integer>();\n",
    "    subobj.put(\"attr3\", 100*i+1);    \n",
    "    subobj.put(\"attr4\", 100*i+2);    \n",
    "    obj.put(\"subobj\", new MapValue(subobj));   \n",
    "\n",
    "    // construct arr list value\n",
    "    ArrayList<String> arr = new ArrayList<String>();\n",
    "    arr.add(\"s\"+Integer.toString(i*10+1));\n",
    "    arr.add(\"s\"+Integer.toString(i*10+2));\n",
    "    \n",
    "    // create the map in map_bin\n",
    "    MapPolicy mPolicy = new MapPolicy(MapOrder.UNORDERED, MapWriteFlags.DEFAULT);\n",
    "    Record record = client.operate(wpolicy, key,\n",
    "                                MapOperation.clear(MapBin), \n",
    "                                MapOperation.put(mPolicy, MapBin, \n",
    "                                            Value.get(\"oid\"), Value.get(i)),\n",
    "                                MapOperation.put(mPolicy, MapBin, \n",
    "                                            Value.get(\"obj\"), new MapValue(obj)),\n",
    "                                MapOperation.put(mPolicy, MapBin, \n",
    "                                            Value.get(i), new ListValue(arr))\n",
    "                                ); \n",
    "}"
   ]
  },
  {
   "cell_type": "markdown",
   "id": "93a8b809",
   "metadata": {},
   "source": [
    "## Examine Test Data\n",
    "View the test data by executing the following commands in a Jupyter terminal tab.\n",
    "\n",
    "**aql -c \"select list_bin from test.cdt-indexing\"**\n",
    "\n",
    "**aql -c \"select map_bin from test.cdt-indexing\"**\n",
    "\n",
    "## Non-Collection Indexes\n",
    "We will illustrate how indexes on non-collection elements are created and used. We will start with results in mind, and then create the appropriate index, issue a query using the index, and show the results.\n",
    "\n",
    "### Equality queries\n",
    "Get records with a specific integer or string value at a specific index, rank, or key position of a List or a Map.\n",
    "\n",
    "#### Records with a specific value at index X of a List or Map\n",
    "##### The top level List in list_bin has has numeric value = 3 at List Index = 2.\n",
    "\n",
    "![fig_EX_1](./graphics/CDT_EX_1.png)\n"
   ]
  },
  {
   "cell_type": "code",
   "execution_count": 147,
   "id": "ff393966",
   "metadata": {},
   "outputs": [
    {
     "name": "stdout",
     "output_type": "stream",
     "text": [
      "Created index idx_list_bin_top_pos_2_num on ns=test set=cdt-indexing bin=list_bin.\n",
      "Records with the value 3 at position 2 of the top List in list_bin:\n",
      "key=2 bins={list_bin=[2, s2, 3, s3, 4, s4, 5, s5, 6, s6, [21, 22, 23, 24, 25]]}\n"
     ]
    }
   ],
   "source": [
    "// Create an index for element at position 2 of the top List in list_bin. \n",
    "// idx_list_bin_top_pos_2_num\n",
    "createIndex(\"idx_list_bin_top_pos_2_num\", ListBin, IndexType.NUMERIC, IndexCollectionType.DEFAULT, CTX.listIndex(2));\n",
    "\n",
    "// issue the query and print results\n",
    "System.out.println(\"Records with the value 3 at position 2 of the top List in list_bin:\");\n",
    "Filter filter = Filter.equal(ListBin, 3, CTX.listIndex(2));\n",
    "executeQueryAndPrintResults(filter, ListBin);"
   ]
  },
  {
   "cell_type": "markdown",
   "id": "34012173",
   "metadata": {},
   "source": [
    "##### The top level Map in map_bin has numeric value 7 at map index = 2.\n",
    "\n",
    "\n",
    "![fig_EX_2](./graphics/CDT_EX_2.png)"
   ]
  },
  {
   "cell_type": "code",
   "execution_count": 148,
   "id": "9b6b97c7",
   "metadata": {},
   "outputs": [
    {
     "name": "stdout",
     "output_type": "stream",
     "text": [
      "Created index idx_map_bin_top_pos_2_num on ns=test set=cdt-indexing bin=map_bin.\n",
      "Records with the value 7 at position 2 of the top Map in map_bin:\n",
      "key=107 bins={map_bin={obj={attr2=s72, attr1=71, subobj={attr4=702, attr3=701}}, oid=7, 7=[s71, s72]}}\n"
     ]
    }
   ],
   "source": [
    "// Create an index for element at position 2 of the top Map in map_bin. Note, in the key ordered sequence, \n",
    "//   \"oid\" element is in position 2 after the numeric key and \"obj\".\n",
    "// idx_map_bin_top_pos_2_num\n",
    "createIndex(\"idx_map_bin_top_pos_2_num\", MapBin, IndexType.NUMERIC, IndexCollectionType.DEFAULT, CTX.mapIndex(2));\n",
    "\n",
    "// issue the query and print results\n",
    "System.out.println(\"Records with the value 7 at position 2 of the top Map in map_bin:\");\n",
    "Filter filter = Filter.equal(MapBin, 7, CTX.mapIndex(2));\n",
    "executeQueryAndPrintResults(filter, MapBin);"
   ]
  },
  {
   "cell_type": "markdown",
   "id": "aefbe8bf",
   "metadata": {},
   "source": [
    "### Records with a specific value at rank X of a List or Map\n",
    "##### The nested List in list_bin has numeric value = 35 in rank -1 (highest value).\n",
    "\n",
    "![fig_EX_3](./graphics/CDT_EX_3.png)"
   ]
  },
  {
   "cell_type": "code",
   "execution_count": 149,
   "id": "fa6e69a0",
   "metadata": {},
   "outputs": [
    {
     "name": "stdout",
     "output_type": "stream",
     "text": [
      "Created index idx_list_bin_nested_rnk_-1_num on ns=test set=cdt-indexing bin=list_bin.\n",
      "Records with the value 35 in rank -1 (highest value) in the nested List in list_bin:\n",
      "key=3 bins={list_bin=[3, s3, 4, s4, 5, s5, 6, s6, 7, s7, [31, 32, 33, 34, 35]]}\n"
     ]
    }
   ],
   "source": [
    "// Create an index for element at rank -1 of the nested List in list_bin. Note the nested List is at the \n",
    "//   last poistion (index -1) in the top List.\n",
    "// idx_list_bin_nested_rnk_-1_num\n",
    "createIndex(\"idx_list_bin_nested_rnk_-1_num\", ListBin, IndexType.NUMERIC, IndexCollectionType.DEFAULT, \n",
    "            CTX.listIndex(-1), CTX.listRank(-1));\n",
    "\n",
    "// issue the query and print results\n",
    "System.out.println(\"Records with the value 35 in rank -1 (highest value) in the nested List in list_bin:\");\n",
    "Filter filter = Filter.equal(ListBin, 35, CTX.listIndex(-1), CTX.listRank(-1));\n",
    "executeQueryAndPrintResults(filter, ListBin);"
   ]
  },
  {
   "cell_type": "markdown",
   "id": "fadbb6f5",
   "metadata": {},
   "source": [
    "##### The nested \"subobj\" Map in map_bin has numeric value = 901 in rank 0 (lowest value in all map values)\n",
    "![fig_EX_4](./graphics/CDT_EX_4.png)"
   ]
  },
  {
   "cell_type": "code",
   "execution_count": 150,
   "id": "f9c0cea5",
   "metadata": {},
   "outputs": [
    {
     "name": "stdout",
     "output_type": "stream",
     "text": [
      "Created index idx_map_bin_subobj_rnk_0_num on ns=test set=cdt-indexing bin=map_bin.\n",
      "Records with the value 901 in rank 0 (lowest value) in the nested \"subobj\" Map in map_bin:\n",
      "key=109 bins={map_bin={9=[s91, s92], obj={attr2=s92, attr1=91, subobj={attr4=902, attr3=901}}, oid=9}}\n"
     ]
    }
   ],
   "source": [
    "// Create an index for element at rank 0 (lowest value) in the nested \"subobj\" Map in map_bin. \n",
    "// idx_map_bin_subobj_rnk_0_num\n",
    "createIndex(\"idx_map_bin_subobj_rnk_0_num\", MapBin, IndexType.NUMERIC, IndexCollectionType.DEFAULT, \n",
    "            CTX.mapKey(Value.get(\"obj\")), CTX.mapKey(Value.get(\"subobj\")), CTX.mapRank(0));\n",
    "\n",
    "// issue the query and print results\n",
    "System.out.println(\"Records with the value 901 in rank 0 (lowest value) in the nested \\\"subobj\\\" Map in map_bin:\");\n",
    "Filter filter = Filter.equal(MapBin, 901, \n",
    "            CTX.mapKey(Value.get(\"obj\")), CTX.mapKey(Value.get(\"subobj\")), CTX.mapRank(0));\n",
    "executeQueryAndPrintResults(filter, MapBin);"
   ]
  },
  {
   "cell_type": "markdown",
   "id": "754921f3",
   "metadata": {},
   "source": [
    "##### The nested \"subobj\" Map in map_bin has numeric value = 901 in rank 0 (lowest value in all map values)\n",
    "![fig_EX_4](./graphics/CDT_EX_4.png)"
   ]
  },
  {
   "cell_type": "code",
   "execution_count": 169,
   "id": "c863cc21",
   "metadata": {},
   "outputs": [
    {
     "name": "stdout",
     "output_type": "stream",
     "text": [
      "Created index idx_map_bin_obj_mapkeys on ns=test set=cdt-indexing bin=map_bin.\n",
      "Records with mapkey value \"subobj\" Map in map_bin key \"obj\":\n"
     ]
    }
   ],
   "source": [
    "// Create an index for mapkeys in for nested map at \"obj\" Map in map_bin. \n",
    "// idx_map_bin_subobj_rnk_0_num\n",
    "createIndex(\"idx_map_bin_obj_mapkeys\", MapBin, IndexType.STRING, IndexCollectionType.MAPKEYS, \n",
    "            CTX.mapKey(Value.get(\"obj\")));\n",
    "\n",
    "// issue the query and print results\n",
    "System.out.println(\"Records with mapkey value \\\"subobj\\\" Map in map_bin key \\\"obj\\\":\");\n",
    "Filter filter = Filter.contains(MapBin,  IndexCollectionType.MAPKEYS,\"subobj\",\n",
    "            CTX.mapKey(Value.get(\"obj\")));\n",
    "executeQueryAndPrintResults(filter, MapBin);"
   ]
  },
  {
   "cell_type": "markdown",
   "id": "686363fb",
   "metadata": {},
   "source": [
    "#### Records with a specific value at key X of a Map\n",
    "##### The top level Map in map_bin has numeric value = 8 at key \"oid\".\n",
    "![fig_EX_5](./graphics/CDT_EX_5.png)"
   ]
  },
  {
   "cell_type": "code",
   "execution_count": 151,
   "id": "0518ace8",
   "metadata": {},
   "outputs": [
    {
     "name": "stdout",
     "output_type": "stream",
     "text": [
      "Created index idx_map_bin_top_key_oid_num on ns=test set=cdt-indexing bin=map_bin.\n",
      "Records with the value 8 at key \"oid\" in the top level Map in map_bin:\n",
      "key=108 bins={map_bin={8=[s81, s82], obj={attr2=s82, attr1=81, subobj={attr4=802, attr3=801}}, oid=8}}\n"
     ]
    }
   ],
   "source": [
    "// Create an index for element with key \"oid\" in the top level Map in map_bin. \n",
    "// idx_map_bin_top_key_oid_num\n",
    "createIndex(\"idx_map_bin_top_key_oid_num\", MapBin, IndexType.NUMERIC, IndexCollectionType.DEFAULT, \n",
    "            CTX.mapKey(Value.get(\"oid\")));\n",
    "\n",
    "// issue the query and print results\n",
    "System.out.println(\"Records with the value 8 at key \\\"oid\\\" in the top level Map in map_bin:\");\n",
    "Filter filter = Filter.equal(MapBin, 8, \n",
    "            CTX.mapKey(Value.get(\"oid\")));\n",
    "executeQueryAndPrintResults(filter, MapBin);"
   ]
  },
  {
   "cell_type": "markdown",
   "id": "8e9ff22e",
   "metadata": {},
   "source": [
    "##### The nested \"obj\" Map in map_bin has string value = \"s42\" at map key = \"attr2\".\n",
    "![fig_EX_6](./graphics/CDT_EX_6.png)"
   ]
  },
  {
   "cell_type": "code",
   "execution_count": 152,
   "id": "4ab1baac",
   "metadata": {},
   "outputs": [
    {
     "name": "stdout",
     "output_type": "stream",
     "text": [
      "Created index idx_map_bin_obj_key_attr2_str on ns=test set=cdt-indexing bin=map_bin.\n",
      "Records with the value \"s42\" at key \"attr2\" in the nested \"obj\" Map in map_bin:\n",
      "key=104 bins={map_bin={4=[s41, s42], obj={attr2=s42, attr1=41, subobj={attr4=402, attr3=401}}, oid=4}}\n"
     ]
    }
   ],
   "source": [
    "// Create an index for element with key \"attr2\" in the nested \"obj\" Map in map_bin. \n",
    "// idx_map_bin_obj_key_attr2_str\n",
    "createIndex(\"idx_map_bin_obj_key_attr2_str\", MapBin, IndexType.STRING, IndexCollectionType.DEFAULT, \n",
    "            CTX.mapKey(Value.get(\"obj\")), CTX.mapKey(Value.get(\"attr2\")));\n",
    "\n",
    "// issue the query and print results\n",
    "System.out.println(\"Records with the value \\\"s42\\\" at key \\\"attr2\\\" in the nested \\\"obj\\\" Map in map_bin:\");\n",
    "Filter filter = Filter.equal(MapBin, \"s42\", \n",
    "            CTX.mapKey(Value.get(\"obj\")), CTX.mapKey(Value.get(\"attr2\")));\n",
    "executeQueryAndPrintResults(filter, MapBin);\n"
   ]
  },
  {
   "cell_type": "markdown",
   "id": "e0974afd",
   "metadata": {},
   "source": [
    "### Range Queries\n",
    "Get records having an integer value within a range at a specific index, rank, or key position of a List or a Map. Range queries are supported on integer values only.\n",
    "\n",
    "We will use the indexes defined above for the range queries too.\n",
    "\n",
    "#### Records with value in s specific range at index X rank position of a List or Map\n",
    "##### The top level List in list_bin numeric value is in range 3-5 at List Index = 2\n",
    "![fig_EX_7](./graphics/CDT_EX_1.png)"
   ]
  },
  {
   "cell_type": "code",
   "execution_count": 153,
   "id": "41b8f42b",
   "metadata": {},
   "outputs": [
    {
     "name": "stdout",
     "output_type": "stream",
     "text": [
      "Records with value in range 3-5 at position 2 in the top level List in list_bin:\n",
      "key=3 bins={list_bin=[3, s3, 4, s4, 5, s5, 6, s6, 7, s7, [31, 32, 33, 34, 35]]}\n",
      "key=4 bins={list_bin=[4, s4, 5, s5, 6, s6, 7, s7, 8, s8, [41, 42, 43, 44, 45]]}\n",
      "key=2 bins={list_bin=[2, s2, 3, s3, 4, s4, 5, s5, 6, s6, [21, 22, 23, 24, 25]]}\n"
     ]
    }
   ],
   "source": [
    "// issue the query and print results\n",
    "// createIndex(\"idx_list_bin_top_pos_2_num\", ListBin, IndexType.NUMERIC, IndexCollectionType.DEFAULT, \n",
    "//              CTX.listIndex(2)); \n",
    "// already created this SI\n",
    "\n",
    "System.out.println(\"Records with value in range 3-5 at position 2 in the top level List in list_bin:\");\n",
    "Filter filter = Filter.range(ListBin, 3, 5, CTX.listIndex(2));\n",
    "executeQueryAndPrintResults(filter, ListBin);"
   ]
  },
  {
   "cell_type": "markdown",
   "id": "464efd87",
   "metadata": {},
   "source": [
    "##### The top level Map in map_bin has numeric value in range 5 - 7 at map index = 2.\n",
    "![fig_EX_8](./graphics/CDT_EX_8.png)"
   ]
  },
  {
   "cell_type": "code",
   "execution_count": 154,
   "id": "80e3c272",
   "metadata": {},
   "outputs": [
    {
     "name": "stdout",
     "output_type": "stream",
     "text": [
      "Records with value in range 5-7 at position 2 of the top Map in map_bin:\n",
      "key=107 bins={map_bin={obj={attr2=s72, attr1=71, subobj={attr4=702, attr3=701}}, oid=7, 7=[s71, s72]}}\n",
      "key=106 bins={map_bin={obj={attr2=s62, attr1=61, subobj={attr4=602, attr3=601}}, 6=[s61, s62], oid=6}}\n",
      "key=105 bins={map_bin={5=[s51, s52], obj={attr2=s52, attr1=51, subobj={attr4=502, attr3=501}}, oid=5}}\n"
     ]
    }
   ],
   "source": [
    "// issue the query and print results\n",
    "// createIndex(\"idx_map_bin_top_pos_2_num\", MapBin, IndexType.NUMERIC, IndexCollectionType.DEFAULT, CTX.mapIndex(2));  \n",
    "// already created this SI\n",
    "System.out.println(\"Records with value in range 5-7 at position 2 of the top Map in map_bin:\");\n",
    "Filter filter = Filter.range(MapBin, 5, 7, CTX.mapIndex(2));\n",
    "executeQueryAndPrintResults(filter, MapBin);"
   ]
  },
  {
   "cell_type": "markdown",
   "id": "db64efa1",
   "metadata": {},
   "source": [
    "#### Records with value in s specific range at rank X of a List or Map\n",
    "##### The nested List in list_bin has numeric value in range 20 – 50 in rank -1 (highest value).\n",
    "![fig_EX_9](./graphics/CDT_EX_3.png)"
   ]
  },
  {
   "cell_type": "code",
   "execution_count": 155,
   "id": "37f17498",
   "metadata": {},
   "outputs": [
    {
     "name": "stdout",
     "output_type": "stream",
     "text": [
      "Records with value in range 20-50 in rank -1 (highest value) in the nested List in list_bin:\n",
      "key=3 bins={list_bin=[3, s3, 4, s4, 5, s5, 6, s6, 7, s7, [31, 32, 33, 34, 35]]}\n",
      "key=4 bins={list_bin=[4, s4, 5, s5, 6, s6, 7, s7, 8, s8, [41, 42, 43, 44, 45]]}\n",
      "key=2 bins={list_bin=[2, s2, 3, s3, 4, s4, 5, s5, 6, s6, [21, 22, 23, 24, 25]]}\n",
      "key=5 bins={list_bin=[5, s5, 6, s6, 7, s7, 8, s8, 9, s9, [51, 52, 53, 54, 55]]}\n"
     ]
    }
   ],
   "source": [
    "// issue the query and print results\n",
    "// createIndex(\"idx_list_bin_nested_rnk_-1_num\", ListBin, IndexType.NUMERIC, IndexCollectionType.DEFAULT, \n",
    "//              CTX.listIndex(-1), CTX.listRank(-1));\n",
    "// already created this SI\n",
    "System.out.println(\"Records with value in range 20-50 in rank -1 (highest value) in the nested List in list_bin:\");\n",
    "Filter filter = Filter.range(ListBin, 20, 60, CTX.listIndex(-1), CTX.listRank(-1));\n",
    "executeQueryAndPrintResults(filter, ListBin);"
   ]
  },
  {
   "cell_type": "markdown",
   "id": "c9c4fe76",
   "metadata": {},
   "source": [
    "##### The nested \"subobj\" Map in map_bin has numeric value in range 500 – 800 in rank 0 (lowest value in all map values).\n",
    "![fig_EX_10](./graphics/CDT_EX_4.png)"
   ]
  },
  {
   "cell_type": "code",
   "execution_count": 156,
   "id": "594e6a4d",
   "metadata": {},
   "outputs": [
    {
     "name": "stdout",
     "output_type": "stream",
     "text": [
      "Records with value in range 500-800 in rank 0 (lowest value) in the nested \"subobj\" Map in map_bin:\n",
      "key=108 bins={map_bin={8=[s81, s82], obj={attr2=s82, attr1=81, subobj={attr4=802, attr3=801}}, oid=8}}\n",
      "key=106 bins={map_bin={obj={attr2=s62, attr1=61, subobj={attr4=602, attr3=601}}, 6=[s61, s62], oid=6}}\n",
      "key=105 bins={map_bin={5=[s51, s52], obj={attr2=s52, attr1=51, subobj={attr4=502, attr3=501}}, oid=5}}\n",
      "key=107 bins={map_bin={obj={attr2=s72, attr1=71, subobj={attr4=702, attr3=701}}, oid=7, 7=[s71, s72]}}\n"
     ]
    }
   ],
   "source": [
    "// issue the query and print results\n",
    "// createIndex(\"idx_map_bin_subobj_rnk_0_num\", MapBin, IndexType.NUMERIC, IndexCollectionType.DEFAULT, \n",
    "//              CTX.mapKey(Value.get(\"obj\")), CTX.mapKey(Value.get(\"subobj\")), CTX.mapRank(0));  \n",
    "// already created this SI\n",
    "\n",
    "System.out.println(\"Records with value in range 500-800 in rank 0 (lowest value) in the nested \\\"subobj\\\" Map in map_bin:\");\n",
    "Filter filter = Filter.range(MapBin, 500, 801,\n",
    "            CTX.mapKey(Value.get(\"obj\")), CTX.mapKey(Value.get(\"subobj\")), CTX.mapRank(0));\n",
    "executeQueryAndPrintResults(filter, MapBin);"
   ]
  },
  {
   "cell_type": "markdown",
   "id": "e37ce7b0",
   "metadata": {},
   "source": [
    "#### Records with value in s specific range at key X of a Map\n",
    "\n",
    "##### The top level Map in map_bin has numeric value in range 4 - 6 at key \"oid\".\n",
    "![fig_EX_11](./graphics/CDT_EX_5.png)\n"
   ]
  },
  {
   "cell_type": "code",
   "execution_count": 157,
   "id": "03fe8422",
   "metadata": {},
   "outputs": [
    {
     "name": "stdout",
     "output_type": "stream",
     "text": [
      "Records with value in range 4-6 at key \"oid\" in the top level Map in map_bin:\n",
      "key=104 bins={map_bin={4=[s41, s42], obj={attr2=s42, attr1=41, subobj={attr4=402, attr3=401}}, oid=4}}\n",
      "key=106 bins={map_bin={obj={attr2=s62, attr1=61, subobj={attr4=602, attr3=601}}, 6=[s61, s62], oid=6}}\n",
      "key=105 bins={map_bin={5=[s51, s52], obj={attr2=s52, attr1=51, subobj={attr4=502, attr3=501}}, oid=5}}\n"
     ]
    }
   ],
   "source": [
    "// issue the query and print results\n",
    "// createIndex(\"idx_map_bin_top_key_oid_num\", MapBin, IndexType.NUMERIC, IndexCollectionType.DEFAULT, CTX.mapKey(Value.get(\"oid\")));  \n",
    "// already created this SI\n",
    "System.out.println(\"Records with value in range 4-6 at key \\\"oid\\\" in the top level Map in map_bin:\");\n",
    "Filter filter = Filter.range(MapBin, 4, 6, CTX.mapKey(Value.get(\"oid\")));\n",
    "executeQueryAndPrintResults(filter, MapBin);"
   ]
  },
  {
   "cell_type": "markdown",
   "id": "67a7af24",
   "metadata": {},
   "source": [
    "## Collection Indexes\n",
    "Collection indexes are defined on List and Map elements with the collection type LIST (list values in the List), MAPKEYS (key values in the Map), or MAPVALUES (values in the Map). The indexes can be used for equality queries on integr and string elements, as well as range queries on integer elements. We will illustrate these variations below.\n",
    "\n",
    "### Equality Queries\n",
    "Get records with a specific integer or string value in a List or Map.\n",
    "\n",
    "#### Records with a List or Map containing a specific value.\n",
    "\n",
    "##### The nested List in map_bin at MapIndex = 0 contains \"s91\".\n",
    "![fig_EX_12](./graphics/CDT_EX_7.png)"
   ]
  },
  {
   "cell_type": "code",
   "execution_count": 158,
   "id": "347696ef",
   "metadata": {},
   "outputs": [
    {
     "name": "stdout",
     "output_type": "stream",
     "text": [
      "Created index idx_map_bin_i_list_str on ns=test set=cdt-indexing bin=map_bin.\n",
      "Records with the value \"s91\" in the nested list \"arr\" in map_bin:\n",
      "key=109 bins={map_bin={9=[s91, s92], obj={attr2=s92, attr1=91, subobj={attr4=902, attr3=901}}, oid=9}}\n"
     ]
    }
   ],
   "source": [
    "// Create an index for the nested List in map_bin. Note, in key-ordered sequence, the numeric key is the first one.\n",
    "// idx_map_bin_i_list_str\n",
    "createIndex(\"idx_map_bin_i_list_str\", MapBin, IndexType.STRING, IndexCollectionType.LIST, CTX.mapIndex(0));\n",
    "\n",
    "// issue the query and print results\n",
    "System.out.println(\"Records with the value \\\"s91\\\" in the nested list \\\"arr\\\" in map_bin:\");\n",
    "Filter filter = Filter.contains(MapBin, IndexCollectionType.LIST, \"s91\", CTX.mapIndex(0));\n",
    "executeQueryAndPrintResults(filter, MapBin);"
   ]
  },
  {
   "cell_type": "markdown",
   "id": "025f5d72",
   "metadata": {},
   "source": [
    "##### The top level Map in map_bin contains a key whose numeric value = 5.\n",
    "![fig_EX_13](./graphics/CDT_EX_9.png)"
   ]
  },
  {
   "cell_type": "code",
   "execution_count": 159,
   "id": "81fb89ce",
   "metadata": {},
   "outputs": [
    {
     "name": "stdout",
     "output_type": "stream",
     "text": [
      "Created index idx_map_bin_top_mapkeys_num on ns=test set=cdt-indexing bin=map_bin.\n",
      "Records with key 5 in the top level Map in map_bin:\n",
      "key=105 bins={map_bin={5=[s51, s52], obj={attr2=s52, attr1=51, subobj={attr4=502, attr3=501}}, oid=5}}\n"
     ]
    }
   ],
   "source": [
    "// Create an index for keys in top level Map in map_bin. \n",
    "// idx_map_bin_top_mapkeys_num\n",
    "createIndex(\"idx_map_bin_top_mapkeys_num\", MapBin, IndexType.NUMERIC, IndexCollectionType.MAPKEYS);\n",
    "\n",
    "// issue the query and print results\n",
    "System.out.println(\"Records with key 5 in the top level Map in map_bin:\");\n",
    "Filter filter = Filter.contains(MapBin, IndexCollectionType.MAPKEYS, 5);\n",
    "executeQueryAndPrintResults(filter, MapBin);"
   ]
  },
  {
   "cell_type": "markdown",
   "id": "4917649e",
   "metadata": {},
   "source": [
    "##### The nested \"obj\" Map in map_bin contains a value \"s12\".\n",
    "![fig_EX_14](./graphics/CDT_EX_10.png)"
   ]
  },
  {
   "cell_type": "code",
   "execution_count": 160,
   "id": "37f1bf04",
   "metadata": {},
   "outputs": [
    {
     "name": "stdout",
     "output_type": "stream",
     "text": [
      "Created index idx_map_bin_obj_mapvals_str on ns=test set=cdt-indexing bin=map_bin.\n",
      "Records with the value \"s12\" in the nested Map \"obj\" in map_bin:\n",
      "key=102 bins={map_bin={obj={attr2=s22, attr1=21, subobj={attr4=202, attr3=201}}, 2=[s21, s22], oid=2}}\n"
     ]
    }
   ],
   "source": [
    "// Create an index for values in nested Map \"obj\" in map_bin. \n",
    "// idx_map_bin_obj_mapvals_str\n",
    "createIndex(\"idx_map_bin_obj_mapvals_str\", MapBin, IndexType.STRING, IndexCollectionType.MAPVALUES, \n",
    "            CTX.mapKey(Value.get(\"obj\")));\n",
    "\n",
    "// issue the query and print results\n",
    "System.out.println(\"Records with the value \\\"s12\\\" in the nested Map \\\"obj\\\" in map_bin:\");\n",
    "Filter filter = Filter.contains(MapBin, IndexCollectionType.MAPVALUES, \"s22\", CTX.mapKey(Value.get(\"obj\")));\n",
    "executeQueryAndPrintResults(filter, MapBin);"
   ]
  },
  {
   "cell_type": "markdown",
   "id": "0ce3302c",
   "metadata": {},
   "source": [
    "### Range Queries\n",
    "Get records with a range of integer values in a List or Map.\n",
    "\n",
    "#### Records with a List or Map containing an integer in a given range.\n",
    "\n",
    "##### The nested list in list_bin has a value in the numeric value range 85-93.\n",
    "![fig_EX_15](./graphics/CDT_EX_11.png)"
   ]
  },
  {
   "cell_type": "code",
   "execution_count": 161,
   "id": "6157926a",
   "metadata": {},
   "outputs": [
    {
     "name": "stdout",
     "output_type": "stream",
     "text": [
      "Created index idx_list_bin_nested_list_num on ns=test set=cdt-indexing bin=list_bin.\n",
      "Records with value in range 85-93 in the nested list in list_bin:\n",
      "key=8 bins={list_bin=[8, s8, 9, s9, 10, s10, 11, s11, 12, s12, [81, 82, 83, 84, 85]]}\n",
      "key=9 bins={list_bin=[9, s9, 10, s10, 11, s11, 12, s12, 13, s13, [91, 92, 93, 94, 95]]}\n"
     ]
    }
   ],
   "source": [
    "// Create an index for the nested List in map_bin. Note, the nested list is the last element.\n",
    "// idx_list_bin_nested_list_num\n",
    "createIndex(\"idx_list_bin_nested_list_num\", ListBin, IndexType.NUMERIC, IndexCollectionType.LIST, \n",
    "            CTX.listIndex(-1));\n",
    "\n",
    "// issue the query and print results\n",
    "System.out.println(\"Records with value in range 85-93 in the nested list in list_bin:\");\n",
    "Filter filter = Filter.range(ListBin, IndexCollectionType.LIST, 85, 93, CTX.listIndex(-1));\n",
    "executeQueryAndPrintResults(filter, ListBin);"
   ]
  },
  {
   "cell_type": "markdown",
   "id": "909009fe",
   "metadata": {},
   "source": [
    "##### The top level Map in map_bin has a MapKey in range 5-7.\n",
    "![fig_EX_16](./graphics/CDT_EX_9.png)"
   ]
  },
  {
   "cell_type": "code",
   "execution_count": 162,
   "id": "57e20381",
   "metadata": {},
   "outputs": [
    {
     "name": "stdout",
     "output_type": "stream",
     "text": [
      "Records with key in range 5-7 in the top level Map in map_bin:\n",
      "key=106 bins={map_bin={obj={attr2=s62, attr1=61, subobj={attr4=602, attr3=601}}, 6=[s61, s62], oid=6}}\n",
      "key=107 bins={map_bin={obj={attr2=s72, attr1=71, subobj={attr4=702, attr3=701}}, oid=7, 7=[s71, s72]}}\n",
      "key=105 bins={map_bin={5=[s51, s52], obj={attr2=s52, attr1=51, subobj={attr4=502, attr3=501}}, oid=5}}\n"
     ]
    }
   ],
   "source": [
    "// use the index created earlier\n",
    "// createIndex(\"idx_map_bin_top_mapkeys_num\", MapBin, IndexType.NUMERIC, IndexCollectionType.MAPKEYS);  \n",
    "// issue the query and print results\n",
    "System.out.println(\"Records with key in range 5-7 in the top level Map in map_bin:\");\n",
    "Filter filter = Filter.range(MapBin, IndexCollectionType.MAPKEYS, 5, 7);\n",
    "executeQueryAndPrintResults(filter, MapBin);"
   ]
  },
  {
   "cell_type": "markdown",
   "id": "248b9df0",
   "metadata": {},
   "source": [
    "##### The nested Map \"subobj\" in map_bin has MapValue(s) in numeric value in range of 300 – 500.\n",
    "![fig_EX_17](./graphics/CDT_EX_4.png)"
   ]
  },
  {
   "cell_type": "code",
   "execution_count": 163,
   "id": "5df8d363",
   "metadata": {},
   "outputs": [
    {
     "name": "stdout",
     "output_type": "stream",
     "text": [
      "Created index idx_map_bin_subobj_mapvals_num on ns=test set=cdt-indexing bin=map_bin.\n",
      "Records with value in range 300-500 in the nested Map \"subobj\" in map_bin:\n",
      "key=103 bins={map_bin={obj={attr2=s32, attr1=31, subobj={attr4=302, attr3=301}}, oid=3, 3=[s31, s32]}}\n",
      "key=104 bins={map_bin={4=[s41, s42], obj={attr2=s42, attr1=41, subobj={attr4=402, attr3=401}}, oid=4}}\n",
      "key=105 bins={map_bin={5=[s51, s52], obj={attr2=s52, attr1=51, subobj={attr4=502, attr3=501}}, oid=5}}\n"
     ]
    }
   ],
   "source": [
    "// Create an index for values in nested Map \"subobj\" in map_bin. \n",
    "// idx_map_bin_subobj_mapvals_num\n",
    "createIndex(\"idx_map_bin_subobj_mapvals_num\", MapBin, IndexType.NUMERIC, IndexCollectionType.MAPVALUES, \n",
    "            CTX.mapKey(Value.get(\"obj\")), CTX.mapKey(Value.get(\"subobj\")));\n",
    "\n",
    "// issue the query and print results\n",
    "System.out.println(\"Records with value in range 300-500 in the nested Map \\\"subobj\\\" in map_bin:\");\n",
    "Filter filter = Filter.range(MapBin, IndexCollectionType.MAPVALUES, 302, 501, \n",
    "            CTX.mapKey(Value.get(\"obj\")), CTX.mapKey(Value.get(\"subobj\")));\n",
    "executeQueryAndPrintResults(filter, MapBin);"
   ]
  },
  {
   "cell_type": "markdown",
   "id": "abe2c0ca",
   "metadata": {},
   "source": [
    "## Clean up\n",
    "\n",
    "Run in last code cell: %sh aql -h 127.0.0.1 -f \"./aqlScripts/truncate_test.aql\""
   ]
  },
  {
   "cell_type": "code",
   "execution_count": 164,
   "id": "c37a545a",
   "metadata": {},
   "outputs": [
    {
     "ename": "CompilationException",
     "evalue": "",
     "output_type": "error",
     "traceback": [
      "\u001b[1m\u001b[30m|   \u001b[1m\u001b[30mExpression ep = \u001b[0m\u001b[1m\u001b[30m\u001b[41mnew Expression()\u001b[0m\u001b[1m\u001b[30m;\u001b[0m",
      "\u001b[1m\u001b[31mno suitable constructor found for Expression(no arguments)\u001b[0m",
      "\u001b[1m\u001b[31m    constructor com.aerospike.client.exp.Expression.Expression(com.aerospike.client.exp.Exp) is not applicable\u001b[0m",
      "\u001b[1m\u001b[31m      (actual and formal argument lists differ in length)\u001b[0m",
      "\u001b[1m\u001b[31m    constructor com.aerospike.client.exp.Expression.Expression(byte[]) is not applicable\u001b[0m",
      "\u001b[1m\u001b[31m      (actual and formal argument lists differ in length)\u001b[0m",
      ""
     ]
    }
   ],
   "source": [
    "import com.aerospike.client.exp.Expression;\n",
    "Expression ep = new Expression();\n",
    "System.out.println(ep.getBase64(\"liKkA29iaiKnA3N1Ym9iaiEA\"));"
   ]
  },
  {
   "cell_type": "code",
   "execution_count": null,
   "id": "4f89919d",
   "metadata": {},
   "outputs": [],
   "source": []
  }
 ],
 "metadata": {
  "kernelspec": {
   "display_name": "Java",
   "language": "java",
   "name": "java"
  },
  "language_info": {
   "codemirror_mode": "java",
   "file_extension": ".jshell",
   "mimetype": "text/x-java-source",
   "name": "Java",
   "pygments_lexer": "java",
   "version": "11.0.16+8-LTS"
  }
 },
 "nbformat": 4,
 "nbformat_minor": 5
}
