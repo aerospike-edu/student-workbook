{
 "cells": [
  {
   "cell_type": "markdown",
   "id": "9037147c",
   "metadata": {},
   "source": [
    "# Import to run %sh magic cell"
   ]
  },
  {
   "cell_type": "code",
   "execution_count": 49,
   "id": "b74ed7d1",
   "metadata": {},
   "outputs": [],
   "source": [
    "import io.github.spencerpark.ijava.IJava;\n",
    "import io.github.spencerpark.jupyter.kernel.magic.common.Shell;\n",
    "IJava.getKernelInstance().getMagics().registerMagics(Shell.class);"
   ]
  },
  {
   "cell_type": "markdown",
   "id": "865cf149",
   "metadata": {},
   "source": [
    "# Insert test records\n",
    "* Our one node server is already running on localhost (same server as the Jupyter Notebook server).\n",
    "* Unlike in iPython kernel for Jupyter Notebook, we can only execute a single line of shell command in IJava kernel."
   ]
  },
  {
   "cell_type": "code",
   "execution_count": 62,
   "id": "d1e5911d",
   "metadata": {},
   "outputs": [
    {
     "name": "stdout",
     "output_type": "stream",
     "text": [
      "/home/training/student-workbook/spike-a-thon\n"
     ]
    }
   ],
   "source": [
    "String command = \"pwd\";\n",
    " \n",
    "try {\n",
    "    Process process = Runtime.getRuntime().exec(command);\n",
    " \n",
    "    BufferedReader reader = new BufferedReader(\n",
    "            new InputStreamReader(process.getInputStream()));\n",
    "    String line;\n",
    "    while ((line = reader.readLine()) != null) {\n",
    "        System.out.println(line);\n",
    "    }\n",
    " \n",
    "    reader.close();\n",
    " \n",
    "} catch (IOException e) {\n",
    "    e.printStackTrace();\n",
    "}"
   ]
  },
  {
   "cell_type": "code",
   "execution_count": 51,
   "id": "f7517fe1",
   "metadata": {},
   "outputs": [],
   "source": [
    "%sh aql -f \"insert.aql\""
   ]
  },
  {
   "cell_type": "markdown",
   "id": "31b0ddb3",
   "metadata": {},
   "source": [
    "# Add Java Client POM Dependency"
   ]
  },
  {
   "cell_type": "code",
   "execution_count": 52,
   "id": "b6447add",
   "metadata": {},
   "outputs": [],
   "source": [
    "%%loadFromPOM\n",
    "<dependencies>\n",
    "  <dependency>\n",
    "    <groupId>com.aerospike</groupId>\n",
    "    <artifactId>aerospike-client</artifactId>\n",
    "    <version>5.1.11</version>\n",
    "  </dependency>\n",
    "</dependencies>"
   ]
  },
  {
   "cell_type": "markdown",
   "id": "83cebb5f",
   "metadata": {},
   "source": [
    "# Add required Imports"
   ]
  },
  {
   "cell_type": "code",
   "execution_count": 53,
   "id": "946d225a",
   "metadata": {},
   "outputs": [
    {
     "name": "stdout",
     "output_type": "stream",
     "text": [
      "Client modules imported.\n"
     ]
    }
   ],
   "source": [
    "import com.aerospike.client.AerospikeClient;\n",
    "import com.aerospike.client.policy.WritePolicy;\n",
    "import com.aerospike.client.Bin;\n",
    "import com.aerospike.client.Key;\n",
    "import com.aerospike.client.Record;\n",
    "import com.aerospike.client.Value;\n",
    "System.out.println(\"Client modules imported.\");"
   ]
  },
  {
   "cell_type": "markdown",
   "id": "0362ad57",
   "metadata": {},
   "source": [
    "# Accessing a record on the Aerospike Server\n",
    "We build the Key object in Java\n",
    "We need the namespace and the record digest to find the record on the server.\n",
    "The record digest is computed by the client library using application provided key (integer, string or byte-array) and the set name. If not in a set, use null for set name."
   ]
  },
  {
   "cell_type": "markdown",
   "id": "07aef0a2",
   "metadata": {},
   "source": [
    "<img src=\"Digest.png\"\n",
    "     alt=\"Record Digest\"\n",
    "     style=\"float: left; margin-right: 10px;\"\n",
    "     width=\"300\"\n",
    "     height=\"250\"/>"
   ]
  },
  {
   "cell_type": "code",
   "execution_count": 57,
   "id": "056a887a",
   "metadata": {},
   "outputs": [
    {
     "name": "stdout",
     "output_type": "stream",
     "text": [
      "Initialized the client and connected to the cluster.\n",
      "Working with record key:\n",
      "test:testset:key1:bf6c1d13e7cd10c5bd022d27e7df170c0bccd6e1\n",
      "Read back the record.\n",
      "Record values are:\n",
      "null\n"
     ]
    }
   ],
   "source": [
    "AerospikeClient client = new AerospikeClient(\"localhost\", 3000);\n",
    "System.out.println(\"Initialized the client and connected to the cluster.\");\n",
    "\n",
    "Key key = new Key(\"test\", \"testset\", \"key1\");\n",
    "System.out.println(\"Working with record key:\");\n",
    "System.out.println(key);\n",
    "\n",
    "Record record = client.get(null, key);\n",
    "System.out.println(\"Read back the record.\");\n",
    "\n",
    "System.out.println(\"Record values are:\");\n",
    "System.out.println(record);"
   ]
  },
  {
   "cell_type": "code",
   "execution_count": 58,
   "id": "1aef60ff",
   "metadata": {},
   "outputs": [],
   "source": [
    "//CLASS Cell\n",
    "class myTest {\n",
    "  public void foo (Record rec) {\n",
    "    System.out.println(\"Calling myTest:foo() to print rec:\"+rec);\n",
    "  }\n",
    "}"
   ]
  },
  {
   "cell_type": "code",
   "execution_count": 59,
   "id": "31307777",
   "metadata": {},
   "outputs": [
    {
     "name": "stdout",
     "output_type": "stream",
     "text": [
      "Calling myTest:foo() to print rec:null\n"
     ]
    }
   ],
   "source": [
    "myTest myobj = new myTest();\n",
    "myobj.foo(record);"
   ]
  },
  {
   "cell_type": "code",
   "execution_count": null,
   "id": "5c780f02",
   "metadata": {},
   "outputs": [],
   "source": []
  }
 ],
 "metadata": {
  "kernelspec": {
   "display_name": "Java",
   "language": "java",
   "name": "java"
  },
  "language_info": {
   "codemirror_mode": "java",
   "file_extension": ".jshell",
   "mimetype": "text/x-java-source",
   "name": "Java",
   "pygments_lexer": "java",
   "version": "11.0.13+8-LTS"
  }
 },
 "nbformat": 4,
 "nbformat_minor": 5
}
